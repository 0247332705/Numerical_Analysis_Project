{
 "cells": [
  {
   "cell_type": "markdown",
   "metadata": {},
   "source": [
    "# Project 2\n",
    "## Introduction\n",
    "The Poisson equation appears in many physical applications: electrostatics, fluid mechanics, gravitational field, heat conduction, etc. Let us consider the Poisson problem in two space dimensions $x$ and $y$. It takes the form\n",
    "\n",
    "$$\n",
    "-\\Delta u=f(x, y), \\quad(x, y) \\in \\Omega, \\quad \\Delta=\\frac{\\partial^2}{\\partial x^2}+\\frac{\\partial^2}{\\partial y^2}\n",
    "$$\n",
    "\n",
    "where $u=u(x, y)$ is the function we are seeking, $f=f(x, y)$ is a source term, and $\\Omega$ is the computational domain. In this project you will design a Poisson solver over a square domain\n",
    "\n",
    "$$\n",
    "\\Omega=\\{(x, y), 0 \\leq x \\leq 1,0 \\leq y \\leq 1\\}\n",
    "$$\n",
    "\n",
    "and analyze its numerical properties. We propose to discretize the Poisson equation by a classical finite difference scheme, and to investigate the numerical performance of various linear system solvers. In the first part you will focus on finite difference discretization in two-dimensions and the verification of the code. In the second part you will test different direct and iterative linear system solvers, and try to understand their performance.\n",
    "You should write a small project report that shows your results, and summarize your findings. For the evaluation I will pay attention to the quality of the interpretations, how you apply the algorithms and the quality of the numerical illustrations. It does not need to be long: I will prefer a short summary that shows that you have understood and analyzed the methods."
   ]
  },
  {
   "cell_type": "markdown",
   "metadata": {},
   "source": [
    "## 1 Finite difference discretization\n",
    "In this part we propose to i) find a discrete version of the Poisson problem, ii) implement and validate the solver."
   ]
  },
  {
   "cell_type": "markdown",
   "metadata": {},
   "source": [
    "## 1.1 Designing the solver\n",
    "\n",
    "You may follow the steps below\n",
    "1. Generate a rectangular grid of $\\left(N_x-1\\right) \\times\\left(N_y-1\\right)$ points, which will represent the discretization of the interior domain of $\\Omega$. Each point ( $x_i, y_j$ ) of the grid has an index $i \\in\\left\\{1, \\cdots, N_x-1\\right\\}$ and $j \\in\\left\\{1, \\cdots, N_y-1\\right\\}$. You can use the numpy. meshgrid function."
   ]
  },
  {
   "cell_type": "code",
   "execution_count": 2,
   "metadata": {},
   "outputs": [],
   "source": [
    "# Step 1: Generate the grid\n",
    "import numpy as np\n",
    "import matplotlib.pyplot as plt\n",
    "\n",
    "Nx = 10\n",
    "Ny = 10\n",
    "x = np.linspace(0, 1, Nx)  # Create an array of Nx points between 0 and 1\n",
    "y = np.linspace(0, 1, Ny)  # Create an array of Ny points between 0 and 1\n",
    "X, Y = np.meshgrid(x, y)   # Generate the meshgrid from x and y\n"
   ]
  },
  {
   "cell_type": "markdown",
   "metadata": {},
   "source": [
    "2. Recall the finite difference formula for the second order derivative in 1D and its approximation order. Apply the formula to the $x$ and $y$ directions.\n"
   ]
  },
  {
   "cell_type": "markdown",
   "metadata": {},
   "source": [
    "## The Discrete Laplacian\n",
    "\n",
    "The Laplacian operator in 2D is given by:\n",
    "\n",
    "$$\n",
    "\\Delta u=\\frac{\\partial^2 u}{\\partial x^2}+\\frac{\\partial^2 u}{\\partial y^2}\n",
    "$$\n",
    "\n",
    "\n",
    "Using finite differences, we approximate the second-order derivatives in $x$ and $y$ :\n",
    "(a) Second-order derivative with respect to $x$ :\n",
    "\n",
    "$$\n",
    "\\frac{\\partial^2 u}{\\partial x^2} \\approx \\frac{u_{i+1, j}-2 u_{i, j}+u_{i-1, j}}{\\Delta x^2}\n",
    "$$\n",
    "\n",
    "(b) Second-order derivative with respect to $y$ :\n",
    "\n",
    "$$\n",
    "\\frac{\\partial^2 u}{\\partial y^2} \\approx \\frac{u_{i, j+1}-2 u_{i, j}+u_{i, j-1}}{\\Delta y^2}\n",
    "$$\n"
   ]
  },
  {
   "cell_type": "markdown",
   "metadata": {},
   "source": [
    "## Computing the Laplacian manually implementation"
   ]
  },
  {
   "cell_type": "code",
   "execution_count": 16,
   "metadata": {},
   "outputs": [
    {
     "name": "stdout",
     "output_type": "stream",
     "text": [
      "[[ 0.          0.          0.          0.          0.          0.\n",
      "   0.          0.          0.          0.        ]\n",
      " [ 0.         -1.14284897 -2.14785348 -2.89379516 -3.29070244 -3.29070244\n",
      "  -2.89379516 -2.14785348 -1.14284897  0.        ]\n",
      " [ 0.         -2.14785348 -4.03664413 -5.43855592 -6.18449761 -6.18449761\n",
      "  -5.43855592 -4.03664413 -2.14785348  0.        ]\n",
      " [ 0.         -2.89379516 -5.43855592 -7.32734657 -8.33235109 -8.33235109\n",
      "  -7.32734657 -5.43855592 -2.89379516  0.        ]\n",
      " [ 0.         -3.29070244 -6.18449761 -8.33235109 -9.47520005 -9.47520005\n",
      "  -8.33235109 -6.18449761 -3.29070244  0.        ]\n",
      " [ 0.         -3.29070244 -6.18449761 -8.33235109 -9.47520005 -9.47520005\n",
      "  -8.33235109 -6.18449761 -3.29070244  0.        ]\n",
      " [ 0.         -2.89379516 -5.43855592 -7.32734657 -8.33235109 -8.33235109\n",
      "  -7.32734657 -5.43855592 -2.89379516  0.        ]\n",
      " [ 0.         -2.14785348 -4.03664413 -5.43855592 -6.18449761 -6.18449761\n",
      "  -5.43855592 -4.03664413 -2.14785348  0.        ]\n",
      " [ 0.         -1.14284897 -2.14785348 -2.89379516 -3.29070244 -3.29070244\n",
      "  -2.89379516 -2.14785348 -1.14284897  0.        ]\n",
      " [ 0.          0.          0.          0.          0.          0.\n",
      "   0.          0.          0.          0.        ]] Second Derivative d²u/dx²\n",
      "[[ 0.          0.          0.          0.          0.          0.\n",
      "   0.          0.          0.          0.        ]\n",
      " [ 0.         -1.14284897 -2.14785348 -2.89379516 -3.29070244 -3.29070244\n",
      "  -2.89379516 -2.14785348 -1.14284897  0.        ]\n",
      " [ 0.         -2.14785348 -4.03664413 -5.43855592 -6.18449761 -6.18449761\n",
      "  -5.43855592 -4.03664413 -2.14785348  0.        ]\n",
      " [ 0.         -2.89379516 -5.43855592 -7.32734657 -8.33235109 -8.33235109\n",
      "  -7.32734657 -5.43855592 -2.89379516  0.        ]\n",
      " [ 0.         -3.29070244 -6.18449761 -8.33235109 -9.47520005 -9.47520005\n",
      "  -8.33235109 -6.18449761 -3.29070244  0.        ]\n",
      " [ 0.         -3.29070244 -6.18449761 -8.33235109 -9.47520005 -9.47520005\n",
      "  -8.33235109 -6.18449761 -3.29070244  0.        ]\n",
      " [ 0.         -2.89379516 -5.43855592 -7.32734657 -8.33235109 -8.33235109\n",
      "  -7.32734657 -5.43855592 -2.89379516  0.        ]\n",
      " [ 0.         -2.14785348 -4.03664413 -5.43855592 -6.18449761 -6.18449761\n",
      "  -5.43855592 -4.03664413 -2.14785348  0.        ]\n",
      " [ 0.         -1.14284897 -2.14785348 -2.89379516 -3.29070244 -3.29070244\n",
      "  -2.89379516 -2.14785348 -1.14284897  0.        ]\n",
      " [ 0.          0.          0.          0.          0.          0.\n",
      "   0.          0.          0.          0.        ]] Second Derivative d²u/dy²\n"
     ]
    },
    {
     "data": {
      "application/vnd.plotly.v1+json": {
       "config": {
        "plotlyServerURL": "https://plot.ly"
       },
       "data": [
        {
         "colorscale": [
          [
           0,
           "#440154"
          ],
          [
           0.1111111111111111,
           "#482878"
          ],
          [
           0.2222222222222222,
           "#3e4989"
          ],
          [
           0.3333333333333333,
           "#31688e"
          ],
          [
           0.4444444444444444,
           "#26828e"
          ],
          [
           0.5555555555555556,
           "#1f9e89"
          ],
          [
           0.6666666666666666,
           "#35b779"
          ],
          [
           0.7777777777777778,
           "#6ece58"
          ],
          [
           0.8888888888888888,
           "#b5de2b"
          ],
          [
           1,
           "#fde725"
          ]
         ],
         "type": "surface",
         "x": [
          [
           0,
           0.1111111111111111,
           0.2222222222222222,
           0.3333333333333333,
           0.4444444444444444,
           0.5555555555555556,
           0.6666666666666666,
           0.7777777777777777,
           0.8888888888888888,
           1
          ],
          [
           0,
           0.1111111111111111,
           0.2222222222222222,
           0.3333333333333333,
           0.4444444444444444,
           0.5555555555555556,
           0.6666666666666666,
           0.7777777777777777,
           0.8888888888888888,
           1
          ],
          [
           0,
           0.1111111111111111,
           0.2222222222222222,
           0.3333333333333333,
           0.4444444444444444,
           0.5555555555555556,
           0.6666666666666666,
           0.7777777777777777,
           0.8888888888888888,
           1
          ],
          [
           0,
           0.1111111111111111,
           0.2222222222222222,
           0.3333333333333333,
           0.4444444444444444,
           0.5555555555555556,
           0.6666666666666666,
           0.7777777777777777,
           0.8888888888888888,
           1
          ],
          [
           0,
           0.1111111111111111,
           0.2222222222222222,
           0.3333333333333333,
           0.4444444444444444,
           0.5555555555555556,
           0.6666666666666666,
           0.7777777777777777,
           0.8888888888888888,
           1
          ],
          [
           0,
           0.1111111111111111,
           0.2222222222222222,
           0.3333333333333333,
           0.4444444444444444,
           0.5555555555555556,
           0.6666666666666666,
           0.7777777777777777,
           0.8888888888888888,
           1
          ],
          [
           0,
           0.1111111111111111,
           0.2222222222222222,
           0.3333333333333333,
           0.4444444444444444,
           0.5555555555555556,
           0.6666666666666666,
           0.7777777777777777,
           0.8888888888888888,
           1
          ],
          [
           0,
           0.1111111111111111,
           0.2222222222222222,
           0.3333333333333333,
           0.4444444444444444,
           0.5555555555555556,
           0.6666666666666666,
           0.7777777777777777,
           0.8888888888888888,
           1
          ],
          [
           0,
           0.1111111111111111,
           0.2222222222222222,
           0.3333333333333333,
           0.4444444444444444,
           0.5555555555555556,
           0.6666666666666666,
           0.7777777777777777,
           0.8888888888888888,
           1
          ],
          [
           0,
           0.1111111111111111,
           0.2222222222222222,
           0.3333333333333333,
           0.4444444444444444,
           0.5555555555555556,
           0.6666666666666666,
           0.7777777777777777,
           0.8888888888888888,
           1
          ]
         ],
         "y": [
          [
           0,
           0,
           0,
           0,
           0,
           0,
           0,
           0,
           0,
           0
          ],
          [
           0.1111111111111111,
           0.1111111111111111,
           0.1111111111111111,
           0.1111111111111111,
           0.1111111111111111,
           0.1111111111111111,
           0.1111111111111111,
           0.1111111111111111,
           0.1111111111111111,
           0.1111111111111111
          ],
          [
           0.2222222222222222,
           0.2222222222222222,
           0.2222222222222222,
           0.2222222222222222,
           0.2222222222222222,
           0.2222222222222222,
           0.2222222222222222,
           0.2222222222222222,
           0.2222222222222222,
           0.2222222222222222
          ],
          [
           0.3333333333333333,
           0.3333333333333333,
           0.3333333333333333,
           0.3333333333333333,
           0.3333333333333333,
           0.3333333333333333,
           0.3333333333333333,
           0.3333333333333333,
           0.3333333333333333,
           0.3333333333333333
          ],
          [
           0.4444444444444444,
           0.4444444444444444,
           0.4444444444444444,
           0.4444444444444444,
           0.4444444444444444,
           0.4444444444444444,
           0.4444444444444444,
           0.4444444444444444,
           0.4444444444444444,
           0.4444444444444444
          ],
          [
           0.5555555555555556,
           0.5555555555555556,
           0.5555555555555556,
           0.5555555555555556,
           0.5555555555555556,
           0.5555555555555556,
           0.5555555555555556,
           0.5555555555555556,
           0.5555555555555556,
           0.5555555555555556
          ],
          [
           0.6666666666666666,
           0.6666666666666666,
           0.6666666666666666,
           0.6666666666666666,
           0.6666666666666666,
           0.6666666666666666,
           0.6666666666666666,
           0.6666666666666666,
           0.6666666666666666,
           0.6666666666666666
          ],
          [
           0.7777777777777777,
           0.7777777777777777,
           0.7777777777777777,
           0.7777777777777777,
           0.7777777777777777,
           0.7777777777777777,
           0.7777777777777777,
           0.7777777777777777,
           0.7777777777777777,
           0.7777777777777777
          ],
          [
           0.8888888888888888,
           0.8888888888888888,
           0.8888888888888888,
           0.8888888888888888,
           0.8888888888888888,
           0.8888888888888888,
           0.8888888888888888,
           0.8888888888888888,
           0.8888888888888888,
           0.8888888888888888
          ],
          [
           1,
           1,
           1,
           1,
           1,
           1,
           1,
           1,
           1,
           1
          ]
         ],
         "z": [
          [
           0,
           0,
           0,
           0,
           0,
           0,
           0,
           0,
           0,
           0
          ],
          [
           0,
           -1.1428489655334897,
           -2.1478534791692603,
           -2.893795164275896,
           -3.2907024447027498,
           -3.2907024447027498,
           -2.893795164275896,
           -2.1478534791692647,
           -1.1428489655334897,
           0
          ],
          [
           0,
           -2.1478534791692576,
           -4.036644129809381,
           -5.438555923872001,
           -6.184497608978637,
           -6.184497608978637,
           -5.438555923872006,
           -4.036644129809375,
           -2.1478534791692576,
           0
          ],
          [
           0,
           -2.8937951642758915,
           -5.438555923872001,
           -7.327346574512126,
           -8.332351088147906,
           -8.332351088147906,
           -7.327346574512126,
           -5.43855592387201,
           -2.893795164275896,
           0
          ],
          [
           0,
           -3.2907024447027498,
           -6.184497608978646,
           -8.332351088147906,
           -9.475200053681386,
           -9.475200053681386,
           -8.332351088147906,
           -6.184497608978646,
           -3.2907024447027498,
           0
          ],
          [
           0,
           -3.2907024447027453,
           -6.184497608978637,
           -8.332351088147897,
           -9.475200053681386,
           -9.475200053681386,
           -8.332351088147897,
           -6.184497608978637,
           -3.2907024447027498,
           0
          ],
          [
           0,
           -2.893795164275896,
           -5.43855592387201,
           -7.327346574512126,
           -8.332351088147906,
           -8.332351088147906,
           -7.327346574512126,
           -5.438555923872019,
           -2.8937951642758915,
           0
          ],
          [
           0,
           -2.1478534791692647,
           -4.036644129809385,
           -5.438555923872019,
           -6.1844976089786545,
           -6.1844976089786545,
           -5.438555923872028,
           -4.036644129809385,
           -2.1478534791692647,
           0
          ],
          [
           0,
           -1.1428489655334875,
           -2.1478534791692647,
           -2.893795164275896,
           -3.2907024447027498,
           -3.2907024447027498,
           -2.893795164275887,
           -2.1478534791692603,
           -1.1428489655334897,
           0
          ],
          [
           0,
           0,
           0,
           0,
           0,
           0,
           0,
           0,
           0,
           0
          ]
         ]
        }
       ],
       "layout": {
        "scene": {
         "camera": {
          "eye": {
           "x": 1.5,
           "y": 1.5,
           "z": 1.5
          }
         },
         "xaxis": {
          "title": {
           "text": "X"
          }
         },
         "yaxis": {
          "title": {
           "text": "Y"
          }
         },
         "zaxis": {
          "title": {
           "text": "Value"
          }
         }
        },
        "template": {
         "data": {
          "bar": [
           {
            "error_x": {
             "color": "#2a3f5f"
            },
            "error_y": {
             "color": "#2a3f5f"
            },
            "marker": {
             "line": {
              "color": "white",
              "width": 0.5
             },
             "pattern": {
              "fillmode": "overlay",
              "size": 10,
              "solidity": 0.2
             }
            },
            "type": "bar"
           }
          ],
          "barpolar": [
           {
            "marker": {
             "line": {
              "color": "white",
              "width": 0.5
             },
             "pattern": {
              "fillmode": "overlay",
              "size": 10,
              "solidity": 0.2
             }
            },
            "type": "barpolar"
           }
          ],
          "carpet": [
           {
            "aaxis": {
             "endlinecolor": "#2a3f5f",
             "gridcolor": "#C8D4E3",
             "linecolor": "#C8D4E3",
             "minorgridcolor": "#C8D4E3",
             "startlinecolor": "#2a3f5f"
            },
            "baxis": {
             "endlinecolor": "#2a3f5f",
             "gridcolor": "#C8D4E3",
             "linecolor": "#C8D4E3",
             "minorgridcolor": "#C8D4E3",
             "startlinecolor": "#2a3f5f"
            },
            "type": "carpet"
           }
          ],
          "choropleth": [
           {
            "colorbar": {
             "outlinewidth": 0,
             "ticks": ""
            },
            "type": "choropleth"
           }
          ],
          "contour": [
           {
            "colorbar": {
             "outlinewidth": 0,
             "ticks": ""
            },
            "colorscale": [
             [
              0,
              "#0d0887"
             ],
             [
              0.1111111111111111,
              "#46039f"
             ],
             [
              0.2222222222222222,
              "#7201a8"
             ],
             [
              0.3333333333333333,
              "#9c179e"
             ],
             [
              0.4444444444444444,
              "#bd3786"
             ],
             [
              0.5555555555555556,
              "#d8576b"
             ],
             [
              0.6666666666666666,
              "#ed7953"
             ],
             [
              0.7777777777777778,
              "#fb9f3a"
             ],
             [
              0.8888888888888888,
              "#fdca26"
             ],
             [
              1,
              "#f0f921"
             ]
            ],
            "type": "contour"
           }
          ],
          "contourcarpet": [
           {
            "colorbar": {
             "outlinewidth": 0,
             "ticks": ""
            },
            "type": "contourcarpet"
           }
          ],
          "heatmap": [
           {
            "colorbar": {
             "outlinewidth": 0,
             "ticks": ""
            },
            "colorscale": [
             [
              0,
              "#0d0887"
             ],
             [
              0.1111111111111111,
              "#46039f"
             ],
             [
              0.2222222222222222,
              "#7201a8"
             ],
             [
              0.3333333333333333,
              "#9c179e"
             ],
             [
              0.4444444444444444,
              "#bd3786"
             ],
             [
              0.5555555555555556,
              "#d8576b"
             ],
             [
              0.6666666666666666,
              "#ed7953"
             ],
             [
              0.7777777777777778,
              "#fb9f3a"
             ],
             [
              0.8888888888888888,
              "#fdca26"
             ],
             [
              1,
              "#f0f921"
             ]
            ],
            "type": "heatmap"
           }
          ],
          "heatmapgl": [
           {
            "colorbar": {
             "outlinewidth": 0,
             "ticks": ""
            },
            "colorscale": [
             [
              0,
              "#0d0887"
             ],
             [
              0.1111111111111111,
              "#46039f"
             ],
             [
              0.2222222222222222,
              "#7201a8"
             ],
             [
              0.3333333333333333,
              "#9c179e"
             ],
             [
              0.4444444444444444,
              "#bd3786"
             ],
             [
              0.5555555555555556,
              "#d8576b"
             ],
             [
              0.6666666666666666,
              "#ed7953"
             ],
             [
              0.7777777777777778,
              "#fb9f3a"
             ],
             [
              0.8888888888888888,
              "#fdca26"
             ],
             [
              1,
              "#f0f921"
             ]
            ],
            "type": "heatmapgl"
           }
          ],
          "histogram": [
           {
            "marker": {
             "pattern": {
              "fillmode": "overlay",
              "size": 10,
              "solidity": 0.2
             }
            },
            "type": "histogram"
           }
          ],
          "histogram2d": [
           {
            "colorbar": {
             "outlinewidth": 0,
             "ticks": ""
            },
            "colorscale": [
             [
              0,
              "#0d0887"
             ],
             [
              0.1111111111111111,
              "#46039f"
             ],
             [
              0.2222222222222222,
              "#7201a8"
             ],
             [
              0.3333333333333333,
              "#9c179e"
             ],
             [
              0.4444444444444444,
              "#bd3786"
             ],
             [
              0.5555555555555556,
              "#d8576b"
             ],
             [
              0.6666666666666666,
              "#ed7953"
             ],
             [
              0.7777777777777778,
              "#fb9f3a"
             ],
             [
              0.8888888888888888,
              "#fdca26"
             ],
             [
              1,
              "#f0f921"
             ]
            ],
            "type": "histogram2d"
           }
          ],
          "histogram2dcontour": [
           {
            "colorbar": {
             "outlinewidth": 0,
             "ticks": ""
            },
            "colorscale": [
             [
              0,
              "#0d0887"
             ],
             [
              0.1111111111111111,
              "#46039f"
             ],
             [
              0.2222222222222222,
              "#7201a8"
             ],
             [
              0.3333333333333333,
              "#9c179e"
             ],
             [
              0.4444444444444444,
              "#bd3786"
             ],
             [
              0.5555555555555556,
              "#d8576b"
             ],
             [
              0.6666666666666666,
              "#ed7953"
             ],
             [
              0.7777777777777778,
              "#fb9f3a"
             ],
             [
              0.8888888888888888,
              "#fdca26"
             ],
             [
              1,
              "#f0f921"
             ]
            ],
            "type": "histogram2dcontour"
           }
          ],
          "mesh3d": [
           {
            "colorbar": {
             "outlinewidth": 0,
             "ticks": ""
            },
            "type": "mesh3d"
           }
          ],
          "parcoords": [
           {
            "line": {
             "colorbar": {
              "outlinewidth": 0,
              "ticks": ""
             }
            },
            "type": "parcoords"
           }
          ],
          "pie": [
           {
            "automargin": true,
            "type": "pie"
           }
          ],
          "scatter": [
           {
            "marker": {
             "colorbar": {
              "outlinewidth": 0,
              "ticks": ""
             }
            },
            "type": "scatter"
           }
          ],
          "scatter3d": [
           {
            "line": {
             "colorbar": {
              "outlinewidth": 0,
              "ticks": ""
             }
            },
            "marker": {
             "colorbar": {
              "outlinewidth": 0,
              "ticks": ""
             }
            },
            "type": "scatter3d"
           }
          ],
          "scattercarpet": [
           {
            "marker": {
             "colorbar": {
              "outlinewidth": 0,
              "ticks": ""
             }
            },
            "type": "scattercarpet"
           }
          ],
          "scattergeo": [
           {
            "marker": {
             "colorbar": {
              "outlinewidth": 0,
              "ticks": ""
             }
            },
            "type": "scattergeo"
           }
          ],
          "scattergl": [
           {
            "marker": {
             "colorbar": {
              "outlinewidth": 0,
              "ticks": ""
             }
            },
            "type": "scattergl"
           }
          ],
          "scattermapbox": [
           {
            "marker": {
             "colorbar": {
              "outlinewidth": 0,
              "ticks": ""
             }
            },
            "type": "scattermapbox"
           }
          ],
          "scatterpolar": [
           {
            "marker": {
             "colorbar": {
              "outlinewidth": 0,
              "ticks": ""
             }
            },
            "type": "scatterpolar"
           }
          ],
          "scatterpolargl": [
           {
            "marker": {
             "colorbar": {
              "outlinewidth": 0,
              "ticks": ""
             }
            },
            "type": "scatterpolargl"
           }
          ],
          "scatterternary": [
           {
            "marker": {
             "colorbar": {
              "outlinewidth": 0,
              "ticks": ""
             }
            },
            "type": "scatterternary"
           }
          ],
          "surface": [
           {
            "colorbar": {
             "outlinewidth": 0,
             "ticks": ""
            },
            "colorscale": [
             [
              0,
              "#0d0887"
             ],
             [
              0.1111111111111111,
              "#46039f"
             ],
             [
              0.2222222222222222,
              "#7201a8"
             ],
             [
              0.3333333333333333,
              "#9c179e"
             ],
             [
              0.4444444444444444,
              "#bd3786"
             ],
             [
              0.5555555555555556,
              "#d8576b"
             ],
             [
              0.6666666666666666,
              "#ed7953"
             ],
             [
              0.7777777777777778,
              "#fb9f3a"
             ],
             [
              0.8888888888888888,
              "#fdca26"
             ],
             [
              1,
              "#f0f921"
             ]
            ],
            "type": "surface"
           }
          ],
          "table": [
           {
            "cells": {
             "fill": {
              "color": "#EBF0F8"
             },
             "line": {
              "color": "white"
             }
            },
            "header": {
             "fill": {
              "color": "#C8D4E3"
             },
             "line": {
              "color": "white"
             }
            },
            "type": "table"
           }
          ]
         },
         "layout": {
          "annotationdefaults": {
           "arrowcolor": "#2a3f5f",
           "arrowhead": 0,
           "arrowwidth": 1
          },
          "autotypenumbers": "strict",
          "coloraxis": {
           "colorbar": {
            "outlinewidth": 0,
            "ticks": ""
           }
          },
          "colorscale": {
           "diverging": [
            [
             0,
             "#8e0152"
            ],
            [
             0.1,
             "#c51b7d"
            ],
            [
             0.2,
             "#de77ae"
            ],
            [
             0.3,
             "#f1b6da"
            ],
            [
             0.4,
             "#fde0ef"
            ],
            [
             0.5,
             "#f7f7f7"
            ],
            [
             0.6,
             "#e6f5d0"
            ],
            [
             0.7,
             "#b8e186"
            ],
            [
             0.8,
             "#7fbc41"
            ],
            [
             0.9,
             "#4d9221"
            ],
            [
             1,
             "#276419"
            ]
           ],
           "sequential": [
            [
             0,
             "#0d0887"
            ],
            [
             0.1111111111111111,
             "#46039f"
            ],
            [
             0.2222222222222222,
             "#7201a8"
            ],
            [
             0.3333333333333333,
             "#9c179e"
            ],
            [
             0.4444444444444444,
             "#bd3786"
            ],
            [
             0.5555555555555556,
             "#d8576b"
            ],
            [
             0.6666666666666666,
             "#ed7953"
            ],
            [
             0.7777777777777778,
             "#fb9f3a"
            ],
            [
             0.8888888888888888,
             "#fdca26"
            ],
            [
             1,
             "#f0f921"
            ]
           ],
           "sequentialminus": [
            [
             0,
             "#0d0887"
            ],
            [
             0.1111111111111111,
             "#46039f"
            ],
            [
             0.2222222222222222,
             "#7201a8"
            ],
            [
             0.3333333333333333,
             "#9c179e"
            ],
            [
             0.4444444444444444,
             "#bd3786"
            ],
            [
             0.5555555555555556,
             "#d8576b"
            ],
            [
             0.6666666666666666,
             "#ed7953"
            ],
            [
             0.7777777777777778,
             "#fb9f3a"
            ],
            [
             0.8888888888888888,
             "#fdca26"
            ],
            [
             1,
             "#f0f921"
            ]
           ]
          },
          "colorway": [
           "#636efa",
           "#EF553B",
           "#00cc96",
           "#ab63fa",
           "#FFA15A",
           "#19d3f3",
           "#FF6692",
           "#B6E880",
           "#FF97FF",
           "#FECB52"
          ],
          "font": {
           "color": "#2a3f5f"
          },
          "geo": {
           "bgcolor": "white",
           "lakecolor": "white",
           "landcolor": "white",
           "showlakes": true,
           "showland": true,
           "subunitcolor": "#C8D4E3"
          },
          "hoverlabel": {
           "align": "left"
          },
          "hovermode": "closest",
          "mapbox": {
           "style": "light"
          },
          "paper_bgcolor": "white",
          "plot_bgcolor": "white",
          "polar": {
           "angularaxis": {
            "gridcolor": "#EBF0F8",
            "linecolor": "#EBF0F8",
            "ticks": ""
           },
           "bgcolor": "white",
           "radialaxis": {
            "gridcolor": "#EBF0F8",
            "linecolor": "#EBF0F8",
            "ticks": ""
           }
          },
          "scene": {
           "xaxis": {
            "backgroundcolor": "white",
            "gridcolor": "#DFE8F3",
            "gridwidth": 2,
            "linecolor": "#EBF0F8",
            "showbackground": true,
            "ticks": "",
            "zerolinecolor": "#EBF0F8"
           },
           "yaxis": {
            "backgroundcolor": "white",
            "gridcolor": "#DFE8F3",
            "gridwidth": 2,
            "linecolor": "#EBF0F8",
            "showbackground": true,
            "ticks": "",
            "zerolinecolor": "#EBF0F8"
           },
           "zaxis": {
            "backgroundcolor": "white",
            "gridcolor": "#DFE8F3",
            "gridwidth": 2,
            "linecolor": "#EBF0F8",
            "showbackground": true,
            "ticks": "",
            "zerolinecolor": "#EBF0F8"
           }
          },
          "shapedefaults": {
           "line": {
            "color": "#2a3f5f"
           }
          },
          "ternary": {
           "aaxis": {
            "gridcolor": "#DFE8F3",
            "linecolor": "#A2B1C6",
            "ticks": ""
           },
           "baxis": {
            "gridcolor": "#DFE8F3",
            "linecolor": "#A2B1C6",
            "ticks": ""
           },
           "bgcolor": "white",
           "caxis": {
            "gridcolor": "#DFE8F3",
            "linecolor": "#A2B1C6",
            "ticks": ""
           }
          },
          "title": {
           "x": 0.05
          },
          "xaxis": {
           "automargin": true,
           "gridcolor": "#EBF0F8",
           "linecolor": "#EBF0F8",
           "ticks": "",
           "title": {
            "standoff": 15
           },
           "zerolinecolor": "#EBF0F8",
           "zerolinewidth": 2
          },
          "yaxis": {
           "automargin": true,
           "gridcolor": "#EBF0F8",
           "linecolor": "#EBF0F8",
           "ticks": "",
           "title": {
            "standoff": 15
           },
           "zerolinecolor": "#EBF0F8",
           "zerolinewidth": 2
          }
         }
        },
        "title": {
         "text": "3D Surface of Second Derivative d²u/dx²"
        }
       }
      }
     },
     "metadata": {},
     "output_type": "display_data"
    },
    {
     "data": {
      "application/vnd.plotly.v1+json": {
       "config": {
        "plotlyServerURL": "https://plot.ly"
       },
       "data": [
        {
         "colorscale": [
          [
           0,
           "#440154"
          ],
          [
           0.1111111111111111,
           "#482878"
          ],
          [
           0.2222222222222222,
           "#3e4989"
          ],
          [
           0.3333333333333333,
           "#31688e"
          ],
          [
           0.4444444444444444,
           "#26828e"
          ],
          [
           0.5555555555555556,
           "#1f9e89"
          ],
          [
           0.6666666666666666,
           "#35b779"
          ],
          [
           0.7777777777777778,
           "#6ece58"
          ],
          [
           0.8888888888888888,
           "#b5de2b"
          ],
          [
           1,
           "#fde725"
          ]
         ],
         "type": "surface",
         "x": [
          [
           0,
           0.1111111111111111,
           0.2222222222222222,
           0.3333333333333333,
           0.4444444444444444,
           0.5555555555555556,
           0.6666666666666666,
           0.7777777777777777,
           0.8888888888888888,
           1
          ],
          [
           0,
           0.1111111111111111,
           0.2222222222222222,
           0.3333333333333333,
           0.4444444444444444,
           0.5555555555555556,
           0.6666666666666666,
           0.7777777777777777,
           0.8888888888888888,
           1
          ],
          [
           0,
           0.1111111111111111,
           0.2222222222222222,
           0.3333333333333333,
           0.4444444444444444,
           0.5555555555555556,
           0.6666666666666666,
           0.7777777777777777,
           0.8888888888888888,
           1
          ],
          [
           0,
           0.1111111111111111,
           0.2222222222222222,
           0.3333333333333333,
           0.4444444444444444,
           0.5555555555555556,
           0.6666666666666666,
           0.7777777777777777,
           0.8888888888888888,
           1
          ],
          [
           0,
           0.1111111111111111,
           0.2222222222222222,
           0.3333333333333333,
           0.4444444444444444,
           0.5555555555555556,
           0.6666666666666666,
           0.7777777777777777,
           0.8888888888888888,
           1
          ],
          [
           0,
           0.1111111111111111,
           0.2222222222222222,
           0.3333333333333333,
           0.4444444444444444,
           0.5555555555555556,
           0.6666666666666666,
           0.7777777777777777,
           0.8888888888888888,
           1
          ],
          [
           0,
           0.1111111111111111,
           0.2222222222222222,
           0.3333333333333333,
           0.4444444444444444,
           0.5555555555555556,
           0.6666666666666666,
           0.7777777777777777,
           0.8888888888888888,
           1
          ],
          [
           0,
           0.1111111111111111,
           0.2222222222222222,
           0.3333333333333333,
           0.4444444444444444,
           0.5555555555555556,
           0.6666666666666666,
           0.7777777777777777,
           0.8888888888888888,
           1
          ],
          [
           0,
           0.1111111111111111,
           0.2222222222222222,
           0.3333333333333333,
           0.4444444444444444,
           0.5555555555555556,
           0.6666666666666666,
           0.7777777777777777,
           0.8888888888888888,
           1
          ],
          [
           0,
           0.1111111111111111,
           0.2222222222222222,
           0.3333333333333333,
           0.4444444444444444,
           0.5555555555555556,
           0.6666666666666666,
           0.7777777777777777,
           0.8888888888888888,
           1
          ]
         ],
         "y": [
          [
           0,
           0,
           0,
           0,
           0,
           0,
           0,
           0,
           0,
           0
          ],
          [
           0.1111111111111111,
           0.1111111111111111,
           0.1111111111111111,
           0.1111111111111111,
           0.1111111111111111,
           0.1111111111111111,
           0.1111111111111111,
           0.1111111111111111,
           0.1111111111111111,
           0.1111111111111111
          ],
          [
           0.2222222222222222,
           0.2222222222222222,
           0.2222222222222222,
           0.2222222222222222,
           0.2222222222222222,
           0.2222222222222222,
           0.2222222222222222,
           0.2222222222222222,
           0.2222222222222222,
           0.2222222222222222
          ],
          [
           0.3333333333333333,
           0.3333333333333333,
           0.3333333333333333,
           0.3333333333333333,
           0.3333333333333333,
           0.3333333333333333,
           0.3333333333333333,
           0.3333333333333333,
           0.3333333333333333,
           0.3333333333333333
          ],
          [
           0.4444444444444444,
           0.4444444444444444,
           0.4444444444444444,
           0.4444444444444444,
           0.4444444444444444,
           0.4444444444444444,
           0.4444444444444444,
           0.4444444444444444,
           0.4444444444444444,
           0.4444444444444444
          ],
          [
           0.5555555555555556,
           0.5555555555555556,
           0.5555555555555556,
           0.5555555555555556,
           0.5555555555555556,
           0.5555555555555556,
           0.5555555555555556,
           0.5555555555555556,
           0.5555555555555556,
           0.5555555555555556
          ],
          [
           0.6666666666666666,
           0.6666666666666666,
           0.6666666666666666,
           0.6666666666666666,
           0.6666666666666666,
           0.6666666666666666,
           0.6666666666666666,
           0.6666666666666666,
           0.6666666666666666,
           0.6666666666666666
          ],
          [
           0.7777777777777777,
           0.7777777777777777,
           0.7777777777777777,
           0.7777777777777777,
           0.7777777777777777,
           0.7777777777777777,
           0.7777777777777777,
           0.7777777777777777,
           0.7777777777777777,
           0.7777777777777777
          ],
          [
           0.8888888888888888,
           0.8888888888888888,
           0.8888888888888888,
           0.8888888888888888,
           0.8888888888888888,
           0.8888888888888888,
           0.8888888888888888,
           0.8888888888888888,
           0.8888888888888888,
           0.8888888888888888
          ],
          [
           1,
           1,
           1,
           1,
           1,
           1,
           1,
           1,
           1,
           1
          ]
         ],
         "z": [
          [
           0,
           0,
           0,
           0,
           0,
           0,
           0,
           0,
           0,
           0
          ],
          [
           0,
           -1.1428489655334897,
           -2.1478534791692576,
           -2.8937951642758915,
           -3.2907024447027498,
           -3.2907024447027453,
           -2.893795164275896,
           -2.1478534791692647,
           -1.1428489655334875,
           0
          ],
          [
           0,
           -2.1478534791692603,
           -4.036644129809381,
           -5.438555923872001,
           -6.184497608978646,
           -6.184497608978637,
           -5.43855592387201,
           -4.036644129809385,
           -2.1478534791692647,
           0
          ],
          [
           0,
           -2.893795164275896,
           -5.438555923872001,
           -7.327346574512126,
           -8.332351088147906,
           -8.332351088147897,
           -7.327346574512126,
           -5.438555923872019,
           -2.893795164275896,
           0
          ],
          [
           0,
           -3.2907024447027498,
           -6.184497608978637,
           -8.332351088147906,
           -9.475200053681386,
           -9.475200053681386,
           -8.332351088147906,
           -6.1844976089786545,
           -3.2907024447027498,
           0
          ],
          [
           0,
           -3.2907024447027498,
           -6.184497608978637,
           -8.332351088147906,
           -9.475200053681386,
           -9.475200053681386,
           -8.332351088147906,
           -6.1844976089786545,
           -3.2907024447027498,
           0
          ],
          [
           0,
           -2.893795164275896,
           -5.438555923872006,
           -7.327346574512126,
           -8.332351088147906,
           -8.332351088147897,
           -7.327346574512126,
           -5.438555923872028,
           -2.893795164275887,
           0
          ],
          [
           0,
           -2.1478534791692647,
           -4.036644129809375,
           -5.43855592387201,
           -6.184497608978646,
           -6.184497608978637,
           -5.438555923872019,
           -4.036644129809385,
           -2.1478534791692603,
           0
          ],
          [
           0,
           -1.1428489655334897,
           -2.1478534791692576,
           -2.893795164275896,
           -3.2907024447027498,
           -3.2907024447027498,
           -2.8937951642758915,
           -2.1478534791692647,
           -1.1428489655334897,
           0
          ],
          [
           0,
           0,
           0,
           0,
           0,
           0,
           0,
           0,
           0,
           0
          ]
         ]
        }
       ],
       "layout": {
        "scene": {
         "camera": {
          "eye": {
           "x": 1.5,
           "y": 1.5,
           "z": 1.5
          }
         },
         "xaxis": {
          "title": {
           "text": "X"
          }
         },
         "yaxis": {
          "title": {
           "text": "Y"
          }
         },
         "zaxis": {
          "title": {
           "text": "Value"
          }
         }
        },
        "template": {
         "data": {
          "bar": [
           {
            "error_x": {
             "color": "#2a3f5f"
            },
            "error_y": {
             "color": "#2a3f5f"
            },
            "marker": {
             "line": {
              "color": "white",
              "width": 0.5
             },
             "pattern": {
              "fillmode": "overlay",
              "size": 10,
              "solidity": 0.2
             }
            },
            "type": "bar"
           }
          ],
          "barpolar": [
           {
            "marker": {
             "line": {
              "color": "white",
              "width": 0.5
             },
             "pattern": {
              "fillmode": "overlay",
              "size": 10,
              "solidity": 0.2
             }
            },
            "type": "barpolar"
           }
          ],
          "carpet": [
           {
            "aaxis": {
             "endlinecolor": "#2a3f5f",
             "gridcolor": "#C8D4E3",
             "linecolor": "#C8D4E3",
             "minorgridcolor": "#C8D4E3",
             "startlinecolor": "#2a3f5f"
            },
            "baxis": {
             "endlinecolor": "#2a3f5f",
             "gridcolor": "#C8D4E3",
             "linecolor": "#C8D4E3",
             "minorgridcolor": "#C8D4E3",
             "startlinecolor": "#2a3f5f"
            },
            "type": "carpet"
           }
          ],
          "choropleth": [
           {
            "colorbar": {
             "outlinewidth": 0,
             "ticks": ""
            },
            "type": "choropleth"
           }
          ],
          "contour": [
           {
            "colorbar": {
             "outlinewidth": 0,
             "ticks": ""
            },
            "colorscale": [
             [
              0,
              "#0d0887"
             ],
             [
              0.1111111111111111,
              "#46039f"
             ],
             [
              0.2222222222222222,
              "#7201a8"
             ],
             [
              0.3333333333333333,
              "#9c179e"
             ],
             [
              0.4444444444444444,
              "#bd3786"
             ],
             [
              0.5555555555555556,
              "#d8576b"
             ],
             [
              0.6666666666666666,
              "#ed7953"
             ],
             [
              0.7777777777777778,
              "#fb9f3a"
             ],
             [
              0.8888888888888888,
              "#fdca26"
             ],
             [
              1,
              "#f0f921"
             ]
            ],
            "type": "contour"
           }
          ],
          "contourcarpet": [
           {
            "colorbar": {
             "outlinewidth": 0,
             "ticks": ""
            },
            "type": "contourcarpet"
           }
          ],
          "heatmap": [
           {
            "colorbar": {
             "outlinewidth": 0,
             "ticks": ""
            },
            "colorscale": [
             [
              0,
              "#0d0887"
             ],
             [
              0.1111111111111111,
              "#46039f"
             ],
             [
              0.2222222222222222,
              "#7201a8"
             ],
             [
              0.3333333333333333,
              "#9c179e"
             ],
             [
              0.4444444444444444,
              "#bd3786"
             ],
             [
              0.5555555555555556,
              "#d8576b"
             ],
             [
              0.6666666666666666,
              "#ed7953"
             ],
             [
              0.7777777777777778,
              "#fb9f3a"
             ],
             [
              0.8888888888888888,
              "#fdca26"
             ],
             [
              1,
              "#f0f921"
             ]
            ],
            "type": "heatmap"
           }
          ],
          "heatmapgl": [
           {
            "colorbar": {
             "outlinewidth": 0,
             "ticks": ""
            },
            "colorscale": [
             [
              0,
              "#0d0887"
             ],
             [
              0.1111111111111111,
              "#46039f"
             ],
             [
              0.2222222222222222,
              "#7201a8"
             ],
             [
              0.3333333333333333,
              "#9c179e"
             ],
             [
              0.4444444444444444,
              "#bd3786"
             ],
             [
              0.5555555555555556,
              "#d8576b"
             ],
             [
              0.6666666666666666,
              "#ed7953"
             ],
             [
              0.7777777777777778,
              "#fb9f3a"
             ],
             [
              0.8888888888888888,
              "#fdca26"
             ],
             [
              1,
              "#f0f921"
             ]
            ],
            "type": "heatmapgl"
           }
          ],
          "histogram": [
           {
            "marker": {
             "pattern": {
              "fillmode": "overlay",
              "size": 10,
              "solidity": 0.2
             }
            },
            "type": "histogram"
           }
          ],
          "histogram2d": [
           {
            "colorbar": {
             "outlinewidth": 0,
             "ticks": ""
            },
            "colorscale": [
             [
              0,
              "#0d0887"
             ],
             [
              0.1111111111111111,
              "#46039f"
             ],
             [
              0.2222222222222222,
              "#7201a8"
             ],
             [
              0.3333333333333333,
              "#9c179e"
             ],
             [
              0.4444444444444444,
              "#bd3786"
             ],
             [
              0.5555555555555556,
              "#d8576b"
             ],
             [
              0.6666666666666666,
              "#ed7953"
             ],
             [
              0.7777777777777778,
              "#fb9f3a"
             ],
             [
              0.8888888888888888,
              "#fdca26"
             ],
             [
              1,
              "#f0f921"
             ]
            ],
            "type": "histogram2d"
           }
          ],
          "histogram2dcontour": [
           {
            "colorbar": {
             "outlinewidth": 0,
             "ticks": ""
            },
            "colorscale": [
             [
              0,
              "#0d0887"
             ],
             [
              0.1111111111111111,
              "#46039f"
             ],
             [
              0.2222222222222222,
              "#7201a8"
             ],
             [
              0.3333333333333333,
              "#9c179e"
             ],
             [
              0.4444444444444444,
              "#bd3786"
             ],
             [
              0.5555555555555556,
              "#d8576b"
             ],
             [
              0.6666666666666666,
              "#ed7953"
             ],
             [
              0.7777777777777778,
              "#fb9f3a"
             ],
             [
              0.8888888888888888,
              "#fdca26"
             ],
             [
              1,
              "#f0f921"
             ]
            ],
            "type": "histogram2dcontour"
           }
          ],
          "mesh3d": [
           {
            "colorbar": {
             "outlinewidth": 0,
             "ticks": ""
            },
            "type": "mesh3d"
           }
          ],
          "parcoords": [
           {
            "line": {
             "colorbar": {
              "outlinewidth": 0,
              "ticks": ""
             }
            },
            "type": "parcoords"
           }
          ],
          "pie": [
           {
            "automargin": true,
            "type": "pie"
           }
          ],
          "scatter": [
           {
            "marker": {
             "colorbar": {
              "outlinewidth": 0,
              "ticks": ""
             }
            },
            "type": "scatter"
           }
          ],
          "scatter3d": [
           {
            "line": {
             "colorbar": {
              "outlinewidth": 0,
              "ticks": ""
             }
            },
            "marker": {
             "colorbar": {
              "outlinewidth": 0,
              "ticks": ""
             }
            },
            "type": "scatter3d"
           }
          ],
          "scattercarpet": [
           {
            "marker": {
             "colorbar": {
              "outlinewidth": 0,
              "ticks": ""
             }
            },
            "type": "scattercarpet"
           }
          ],
          "scattergeo": [
           {
            "marker": {
             "colorbar": {
              "outlinewidth": 0,
              "ticks": ""
             }
            },
            "type": "scattergeo"
           }
          ],
          "scattergl": [
           {
            "marker": {
             "colorbar": {
              "outlinewidth": 0,
              "ticks": ""
             }
            },
            "type": "scattergl"
           }
          ],
          "scattermapbox": [
           {
            "marker": {
             "colorbar": {
              "outlinewidth": 0,
              "ticks": ""
             }
            },
            "type": "scattermapbox"
           }
          ],
          "scatterpolar": [
           {
            "marker": {
             "colorbar": {
              "outlinewidth": 0,
              "ticks": ""
             }
            },
            "type": "scatterpolar"
           }
          ],
          "scatterpolargl": [
           {
            "marker": {
             "colorbar": {
              "outlinewidth": 0,
              "ticks": ""
             }
            },
            "type": "scatterpolargl"
           }
          ],
          "scatterternary": [
           {
            "marker": {
             "colorbar": {
              "outlinewidth": 0,
              "ticks": ""
             }
            },
            "type": "scatterternary"
           }
          ],
          "surface": [
           {
            "colorbar": {
             "outlinewidth": 0,
             "ticks": ""
            },
            "colorscale": [
             [
              0,
              "#0d0887"
             ],
             [
              0.1111111111111111,
              "#46039f"
             ],
             [
              0.2222222222222222,
              "#7201a8"
             ],
             [
              0.3333333333333333,
              "#9c179e"
             ],
             [
              0.4444444444444444,
              "#bd3786"
             ],
             [
              0.5555555555555556,
              "#d8576b"
             ],
             [
              0.6666666666666666,
              "#ed7953"
             ],
             [
              0.7777777777777778,
              "#fb9f3a"
             ],
             [
              0.8888888888888888,
              "#fdca26"
             ],
             [
              1,
              "#f0f921"
             ]
            ],
            "type": "surface"
           }
          ],
          "table": [
           {
            "cells": {
             "fill": {
              "color": "#EBF0F8"
             },
             "line": {
              "color": "white"
             }
            },
            "header": {
             "fill": {
              "color": "#C8D4E3"
             },
             "line": {
              "color": "white"
             }
            },
            "type": "table"
           }
          ]
         },
         "layout": {
          "annotationdefaults": {
           "arrowcolor": "#2a3f5f",
           "arrowhead": 0,
           "arrowwidth": 1
          },
          "autotypenumbers": "strict",
          "coloraxis": {
           "colorbar": {
            "outlinewidth": 0,
            "ticks": ""
           }
          },
          "colorscale": {
           "diverging": [
            [
             0,
             "#8e0152"
            ],
            [
             0.1,
             "#c51b7d"
            ],
            [
             0.2,
             "#de77ae"
            ],
            [
             0.3,
             "#f1b6da"
            ],
            [
             0.4,
             "#fde0ef"
            ],
            [
             0.5,
             "#f7f7f7"
            ],
            [
             0.6,
             "#e6f5d0"
            ],
            [
             0.7,
             "#b8e186"
            ],
            [
             0.8,
             "#7fbc41"
            ],
            [
             0.9,
             "#4d9221"
            ],
            [
             1,
             "#276419"
            ]
           ],
           "sequential": [
            [
             0,
             "#0d0887"
            ],
            [
             0.1111111111111111,
             "#46039f"
            ],
            [
             0.2222222222222222,
             "#7201a8"
            ],
            [
             0.3333333333333333,
             "#9c179e"
            ],
            [
             0.4444444444444444,
             "#bd3786"
            ],
            [
             0.5555555555555556,
             "#d8576b"
            ],
            [
             0.6666666666666666,
             "#ed7953"
            ],
            [
             0.7777777777777778,
             "#fb9f3a"
            ],
            [
             0.8888888888888888,
             "#fdca26"
            ],
            [
             1,
             "#f0f921"
            ]
           ],
           "sequentialminus": [
            [
             0,
             "#0d0887"
            ],
            [
             0.1111111111111111,
             "#46039f"
            ],
            [
             0.2222222222222222,
             "#7201a8"
            ],
            [
             0.3333333333333333,
             "#9c179e"
            ],
            [
             0.4444444444444444,
             "#bd3786"
            ],
            [
             0.5555555555555556,
             "#d8576b"
            ],
            [
             0.6666666666666666,
             "#ed7953"
            ],
            [
             0.7777777777777778,
             "#fb9f3a"
            ],
            [
             0.8888888888888888,
             "#fdca26"
            ],
            [
             1,
             "#f0f921"
            ]
           ]
          },
          "colorway": [
           "#636efa",
           "#EF553B",
           "#00cc96",
           "#ab63fa",
           "#FFA15A",
           "#19d3f3",
           "#FF6692",
           "#B6E880",
           "#FF97FF",
           "#FECB52"
          ],
          "font": {
           "color": "#2a3f5f"
          },
          "geo": {
           "bgcolor": "white",
           "lakecolor": "white",
           "landcolor": "white",
           "showlakes": true,
           "showland": true,
           "subunitcolor": "#C8D4E3"
          },
          "hoverlabel": {
           "align": "left"
          },
          "hovermode": "closest",
          "mapbox": {
           "style": "light"
          },
          "paper_bgcolor": "white",
          "plot_bgcolor": "white",
          "polar": {
           "angularaxis": {
            "gridcolor": "#EBF0F8",
            "linecolor": "#EBF0F8",
            "ticks": ""
           },
           "bgcolor": "white",
           "radialaxis": {
            "gridcolor": "#EBF0F8",
            "linecolor": "#EBF0F8",
            "ticks": ""
           }
          },
          "scene": {
           "xaxis": {
            "backgroundcolor": "white",
            "gridcolor": "#DFE8F3",
            "gridwidth": 2,
            "linecolor": "#EBF0F8",
            "showbackground": true,
            "ticks": "",
            "zerolinecolor": "#EBF0F8"
           },
           "yaxis": {
            "backgroundcolor": "white",
            "gridcolor": "#DFE8F3",
            "gridwidth": 2,
            "linecolor": "#EBF0F8",
            "showbackground": true,
            "ticks": "",
            "zerolinecolor": "#EBF0F8"
           },
           "zaxis": {
            "backgroundcolor": "white",
            "gridcolor": "#DFE8F3",
            "gridwidth": 2,
            "linecolor": "#EBF0F8",
            "showbackground": true,
            "ticks": "",
            "zerolinecolor": "#EBF0F8"
           }
          },
          "shapedefaults": {
           "line": {
            "color": "#2a3f5f"
           }
          },
          "ternary": {
           "aaxis": {
            "gridcolor": "#DFE8F3",
            "linecolor": "#A2B1C6",
            "ticks": ""
           },
           "baxis": {
            "gridcolor": "#DFE8F3",
            "linecolor": "#A2B1C6",
            "ticks": ""
           },
           "bgcolor": "white",
           "caxis": {
            "gridcolor": "#DFE8F3",
            "linecolor": "#A2B1C6",
            "ticks": ""
           }
          },
          "title": {
           "x": 0.05
          },
          "xaxis": {
           "automargin": true,
           "gridcolor": "#EBF0F8",
           "linecolor": "#EBF0F8",
           "ticks": "",
           "title": {
            "standoff": 15
           },
           "zerolinecolor": "#EBF0F8",
           "zerolinewidth": 2
          },
          "yaxis": {
           "automargin": true,
           "gridcolor": "#EBF0F8",
           "linecolor": "#EBF0F8",
           "ticks": "",
           "title": {
            "standoff": 15
           },
           "zerolinecolor": "#EBF0F8",
           "zerolinewidth": 2
          }
         }
        },
        "title": {
         "text": "3D Surface of Second Derivative d²u/dy²"
        }
       }
      }
     },
     "metadata": {},
     "output_type": "display_data"
    }
   ],
   "source": [
    "import numpy as np\n",
    "import sympy as sp\n",
    "import plotly.graph_objects as go\n",
    "\n",
    "def finite_difference_second_derivatives(u, hx, hy):\n",
    "    \"\"\"\n",
    "    Compute the second-order derivatives of a 2D array u using finite difference approximations.\n",
    "\n",
    "    Parameters:\n",
    "    u : 2D numpy array\n",
    "        The values of the function u at grid points.\n",
    "    hx : float\n",
    "        The grid spacing in the x direction (Δx).\n",
    "    hy : float\n",
    "        The grid spacing in the y direction (Δy).\n",
    "\n",
    "    Returns:\n",
    "    d2u_dx2 : 2D numpy array\n",
    "        The second derivative of u with respect to x.\n",
    "    d2u_dy2 : 2D numpy array\n",
    "        The second derivative of u with respect to y.\n",
    "    \"\"\"\n",
    "    # Initialize the second derivative arrays\n",
    "    d2u_dx2 = np.zeros_like(u)\n",
    "    d2u_dy2 = np.zeros_like(u)\n",
    "\n",
    "    # Compute the second derivative with respect to x\n",
    "    d2u_dx2[1:-1, 1:-1] = (u[2:, 1:-1] - 2 * u[1:-1, 1:-1] + u[:-2, 1:-1]) / hx**2\n",
    "\n",
    "    # Compute the second derivative with respect to y\n",
    "    d2u_dy2[1:-1, 1:-1] = (u[1:-1, 2:] - 2 * u[1:-1, 1:-1] + u[1:-1, :-2]) / hy**2\n",
    "\n",
    "    return d2u_dx2, d2u_dy2\n",
    "\n",
    "def pretty_print_matrix(matrix, title):\n",
    "    \"\"\"\n",
    "    Pretty print the matrix using sympy.\n",
    "    \"\"\"\n",
    "    sp.init_printing()  # Initialize pretty printing\n",
    "    sympy_matrix = sp.Matrix(matrix)\n",
    "    print(f\"{title}:\")\n",
    "    sp.pprint(sympy_matrix)\n",
    "\n",
    "def plot_3d_surface(X, Y, Z, title):\n",
    "    \"\"\"\n",
    "    Create a 3D surface plot using Plotly.\n",
    "    \"\"\"\n",
    "    fig = go.Figure(data=[go.Surface(z=Z, x=X, y=Y, colorscale='Viridis')])\n",
    "    fig.update_layout(\n",
    "        title=title,\n",
    "        scene=dict(\n",
    "            xaxis_title='X',\n",
    "            yaxis_title='Y',\n",
    "            zaxis_title='Value',\n",
    "            camera=dict(eye=dict(x=1.5, y=1.5, z=1.5))\n",
    "        ),\n",
    "        template='plotly_white'\n",
    "    )\n",
    "    fig.show()\n",
    "\n",
    "# Define grid size\n",
    "Nx = 10\n",
    "Ny = 10\n",
    "hx = 1 / (Nx - 1)\n",
    "hy = 1 / (Ny - 1)\n",
    "\n",
    "# Test with a sample function (e.g., a 2D sinusoidal function)\n",
    "x = np.linspace(0, 1, Nx)\n",
    "y = np.linspace(0, 1, Ny)\n",
    "X, Y = np.meshgrid(x, y)\n",
    "u = np.sin(np.pi * X) * np.sin(np.pi * Y)  # Example function\n",
    "\n",
    "# Compute the second derivatives\n",
    "d2u_dx2, d2u_dy2 = finite_difference_second_derivatives(u, hx, hy)\n",
    "\n",
    "# Pretty print the matrices\n",
    "print(d2u_dx2, \"Second Derivative d²u/dx²\")\n",
    "print(d2u_dy2, \"Second Derivative d²u/dy²\")\n",
    "\n",
    "# Plot results in 3D\n",
    "plot_3d_surface(X, Y, d2u_dx2, '3D Surface of Second Derivative d²u/dx²')\n",
    "plot_3d_surface(X, Y, d2u_dy2, '3D Surface of Second Derivative d²u/dy²')"
   ]
  },
  {
   "cell_type": "markdown",
   "metadata": {},
   "source": []
  },
  {
   "cell_type": "markdown",
   "metadata": {},
   "source": [
    "## Computing the Laplacian with numpy"
   ]
  },
  {
   "cell_type": "code",
   "execution_count": 8,
   "metadata": {},
   "outputs": [
    {
     "data": {
      "application/vnd.plotly.v1+json": {
       "config": {
        "plotlyServerURL": "https://plot.ly"
       },
       "data": [
        {
         "colorscale": [
          [
           0,
           "#440154"
          ],
          [
           0.1111111111111111,
           "#482878"
          ],
          [
           0.2222222222222222,
           "#3e4989"
          ],
          [
           0.3333333333333333,
           "#31688e"
          ],
          [
           0.4444444444444444,
           "#26828e"
          ],
          [
           0.5555555555555556,
           "#1f9e89"
          ],
          [
           0.6666666666666666,
           "#35b779"
          ],
          [
           0.7777777777777778,
           "#6ece58"
          ],
          [
           0.8888888888888888,
           "#b5de2b"
          ],
          [
           1,
           "#fde725"
          ]
         ],
         "type": "surface",
         "x": [
          [
           0,
           0.1111111111111111,
           0.2222222222222222,
           0.3333333333333333,
           0.4444444444444444,
           0.5555555555555556,
           0.6666666666666666,
           0.7777777777777777,
           0.8888888888888888,
           1
          ],
          [
           0,
           0.1111111111111111,
           0.2222222222222222,
           0.3333333333333333,
           0.4444444444444444,
           0.5555555555555556,
           0.6666666666666666,
           0.7777777777777777,
           0.8888888888888888,
           1
          ],
          [
           0,
           0.1111111111111111,
           0.2222222222222222,
           0.3333333333333333,
           0.4444444444444444,
           0.5555555555555556,
           0.6666666666666666,
           0.7777777777777777,
           0.8888888888888888,
           1
          ],
          [
           0,
           0.1111111111111111,
           0.2222222222222222,
           0.3333333333333333,
           0.4444444444444444,
           0.5555555555555556,
           0.6666666666666666,
           0.7777777777777777,
           0.8888888888888888,
           1
          ],
          [
           0,
           0.1111111111111111,
           0.2222222222222222,
           0.3333333333333333,
           0.4444444444444444,
           0.5555555555555556,
           0.6666666666666666,
           0.7777777777777777,
           0.8888888888888888,
           1
          ],
          [
           0,
           0.1111111111111111,
           0.2222222222222222,
           0.3333333333333333,
           0.4444444444444444,
           0.5555555555555556,
           0.6666666666666666,
           0.7777777777777777,
           0.8888888888888888,
           1
          ],
          [
           0,
           0.1111111111111111,
           0.2222222222222222,
           0.3333333333333333,
           0.4444444444444444,
           0.5555555555555556,
           0.6666666666666666,
           0.7777777777777777,
           0.8888888888888888,
           1
          ],
          [
           0,
           0.1111111111111111,
           0.2222222222222222,
           0.3333333333333333,
           0.4444444444444444,
           0.5555555555555556,
           0.6666666666666666,
           0.7777777777777777,
           0.8888888888888888,
           1
          ],
          [
           0,
           0.1111111111111111,
           0.2222222222222222,
           0.3333333333333333,
           0.4444444444444444,
           0.5555555555555556,
           0.6666666666666666,
           0.7777777777777777,
           0.8888888888888888,
           1
          ],
          [
           0,
           0.1111111111111111,
           0.2222222222222222,
           0.3333333333333333,
           0.4444444444444444,
           0.5555555555555556,
           0.6666666666666666,
           0.7777777777777777,
           0.8888888888888888,
           1
          ]
         ],
         "y": [
          [
           0,
           0,
           0,
           0,
           0,
           0,
           0,
           0,
           0,
           0
          ],
          [
           0.1111111111111111,
           0.1111111111111111,
           0.1111111111111111,
           0.1111111111111111,
           0.1111111111111111,
           0.1111111111111111,
           0.1111111111111111,
           0.1111111111111111,
           0.1111111111111111,
           0.1111111111111111
          ],
          [
           0.2222222222222222,
           0.2222222222222222,
           0.2222222222222222,
           0.2222222222222222,
           0.2222222222222222,
           0.2222222222222222,
           0.2222222222222222,
           0.2222222222222222,
           0.2222222222222222,
           0.2222222222222222
          ],
          [
           0.3333333333333333,
           0.3333333333333333,
           0.3333333333333333,
           0.3333333333333333,
           0.3333333333333333,
           0.3333333333333333,
           0.3333333333333333,
           0.3333333333333333,
           0.3333333333333333,
           0.3333333333333333
          ],
          [
           0.4444444444444444,
           0.4444444444444444,
           0.4444444444444444,
           0.4444444444444444,
           0.4444444444444444,
           0.4444444444444444,
           0.4444444444444444,
           0.4444444444444444,
           0.4444444444444444,
           0.4444444444444444
          ],
          [
           0.5555555555555556,
           0.5555555555555556,
           0.5555555555555556,
           0.5555555555555556,
           0.5555555555555556,
           0.5555555555555556,
           0.5555555555555556,
           0.5555555555555556,
           0.5555555555555556,
           0.5555555555555556
          ],
          [
           0.6666666666666666,
           0.6666666666666666,
           0.6666666666666666,
           0.6666666666666666,
           0.6666666666666666,
           0.6666666666666666,
           0.6666666666666666,
           0.6666666666666666,
           0.6666666666666666,
           0.6666666666666666
          ],
          [
           0.7777777777777777,
           0.7777777777777777,
           0.7777777777777777,
           0.7777777777777777,
           0.7777777777777777,
           0.7777777777777777,
           0.7777777777777777,
           0.7777777777777777,
           0.7777777777777777,
           0.7777777777777777
          ],
          [
           0.8888888888888888,
           0.8888888888888888,
           0.8888888888888888,
           0.8888888888888888,
           0.8888888888888888,
           0.8888888888888888,
           0.8888888888888888,
           0.8888888888888888,
           0.8888888888888888,
           0.8888888888888888
          ],
          [
           1,
           1,
           1,
           1,
           1,
           1,
           1,
           1,
           1,
           1
          ]
         ],
         "z": [
          [
           0,
           0,
           0,
           0,
           0,
           0,
           0,
           0,
           0,
           0
          ],
          [
           0,
           0,
           0,
           0,
           0,
           0,
           0,
           0,
           0,
           0
          ],
          [
           0,
           0,
           0,
           0,
           0,
           0,
           0,
           0,
           0,
           0
          ],
          [
           0,
           0,
           0,
           0,
           0,
           0,
           0,
           0,
           0,
           0
          ],
          [
           0,
           0,
           0,
           0,
           0,
           0,
           0,
           0,
           0,
           0
          ],
          [
           0,
           0,
           0,
           0,
           0,
           0,
           0,
           0,
           0,
           0
          ],
          [
           0,
           0,
           0,
           0,
           0,
           0,
           0,
           0,
           0,
           0
          ],
          [
           0,
           0,
           0,
           0,
           0,
           0,
           0,
           0,
           0,
           0
          ],
          [
           0,
           0,
           0,
           0,
           0,
           0,
           0,
           0,
           0,
           0
          ],
          [
           0,
           0,
           0,
           0,
           0,
           0,
           0,
           0,
           0,
           0
          ]
         ]
        }
       ],
       "layout": {
        "scene": {
         "camera": {
          "eye": {
           "x": 1.5,
           "y": 1.5,
           "z": 1.5
          }
         },
         "xaxis": {
          "title": {
           "text": "X"
          }
         },
         "yaxis": {
          "title": {
           "text": "Y"
          }
         },
         "zaxis": {
          "title": {
           "text": "Value"
          }
         }
        },
        "template": {
         "data": {
          "bar": [
           {
            "error_x": {
             "color": "#2a3f5f"
            },
            "error_y": {
             "color": "#2a3f5f"
            },
            "marker": {
             "line": {
              "color": "white",
              "width": 0.5
             },
             "pattern": {
              "fillmode": "overlay",
              "size": 10,
              "solidity": 0.2
             }
            },
            "type": "bar"
           }
          ],
          "barpolar": [
           {
            "marker": {
             "line": {
              "color": "white",
              "width": 0.5
             },
             "pattern": {
              "fillmode": "overlay",
              "size": 10,
              "solidity": 0.2
             }
            },
            "type": "barpolar"
           }
          ],
          "carpet": [
           {
            "aaxis": {
             "endlinecolor": "#2a3f5f",
             "gridcolor": "#C8D4E3",
             "linecolor": "#C8D4E3",
             "minorgridcolor": "#C8D4E3",
             "startlinecolor": "#2a3f5f"
            },
            "baxis": {
             "endlinecolor": "#2a3f5f",
             "gridcolor": "#C8D4E3",
             "linecolor": "#C8D4E3",
             "minorgridcolor": "#C8D4E3",
             "startlinecolor": "#2a3f5f"
            },
            "type": "carpet"
           }
          ],
          "choropleth": [
           {
            "colorbar": {
             "outlinewidth": 0,
             "ticks": ""
            },
            "type": "choropleth"
           }
          ],
          "contour": [
           {
            "colorbar": {
             "outlinewidth": 0,
             "ticks": ""
            },
            "colorscale": [
             [
              0,
              "#0d0887"
             ],
             [
              0.1111111111111111,
              "#46039f"
             ],
             [
              0.2222222222222222,
              "#7201a8"
             ],
             [
              0.3333333333333333,
              "#9c179e"
             ],
             [
              0.4444444444444444,
              "#bd3786"
             ],
             [
              0.5555555555555556,
              "#d8576b"
             ],
             [
              0.6666666666666666,
              "#ed7953"
             ],
             [
              0.7777777777777778,
              "#fb9f3a"
             ],
             [
              0.8888888888888888,
              "#fdca26"
             ],
             [
              1,
              "#f0f921"
             ]
            ],
            "type": "contour"
           }
          ],
          "contourcarpet": [
           {
            "colorbar": {
             "outlinewidth": 0,
             "ticks": ""
            },
            "type": "contourcarpet"
           }
          ],
          "heatmap": [
           {
            "colorbar": {
             "outlinewidth": 0,
             "ticks": ""
            },
            "colorscale": [
             [
              0,
              "#0d0887"
             ],
             [
              0.1111111111111111,
              "#46039f"
             ],
             [
              0.2222222222222222,
              "#7201a8"
             ],
             [
              0.3333333333333333,
              "#9c179e"
             ],
             [
              0.4444444444444444,
              "#bd3786"
             ],
             [
              0.5555555555555556,
              "#d8576b"
             ],
             [
              0.6666666666666666,
              "#ed7953"
             ],
             [
              0.7777777777777778,
              "#fb9f3a"
             ],
             [
              0.8888888888888888,
              "#fdca26"
             ],
             [
              1,
              "#f0f921"
             ]
            ],
            "type": "heatmap"
           }
          ],
          "heatmapgl": [
           {
            "colorbar": {
             "outlinewidth": 0,
             "ticks": ""
            },
            "colorscale": [
             [
              0,
              "#0d0887"
             ],
             [
              0.1111111111111111,
              "#46039f"
             ],
             [
              0.2222222222222222,
              "#7201a8"
             ],
             [
              0.3333333333333333,
              "#9c179e"
             ],
             [
              0.4444444444444444,
              "#bd3786"
             ],
             [
              0.5555555555555556,
              "#d8576b"
             ],
             [
              0.6666666666666666,
              "#ed7953"
             ],
             [
              0.7777777777777778,
              "#fb9f3a"
             ],
             [
              0.8888888888888888,
              "#fdca26"
             ],
             [
              1,
              "#f0f921"
             ]
            ],
            "type": "heatmapgl"
           }
          ],
          "histogram": [
           {
            "marker": {
             "pattern": {
              "fillmode": "overlay",
              "size": 10,
              "solidity": 0.2
             }
            },
            "type": "histogram"
           }
          ],
          "histogram2d": [
           {
            "colorbar": {
             "outlinewidth": 0,
             "ticks": ""
            },
            "colorscale": [
             [
              0,
              "#0d0887"
             ],
             [
              0.1111111111111111,
              "#46039f"
             ],
             [
              0.2222222222222222,
              "#7201a8"
             ],
             [
              0.3333333333333333,
              "#9c179e"
             ],
             [
              0.4444444444444444,
              "#bd3786"
             ],
             [
              0.5555555555555556,
              "#d8576b"
             ],
             [
              0.6666666666666666,
              "#ed7953"
             ],
             [
              0.7777777777777778,
              "#fb9f3a"
             ],
             [
              0.8888888888888888,
              "#fdca26"
             ],
             [
              1,
              "#f0f921"
             ]
            ],
            "type": "histogram2d"
           }
          ],
          "histogram2dcontour": [
           {
            "colorbar": {
             "outlinewidth": 0,
             "ticks": ""
            },
            "colorscale": [
             [
              0,
              "#0d0887"
             ],
             [
              0.1111111111111111,
              "#46039f"
             ],
             [
              0.2222222222222222,
              "#7201a8"
             ],
             [
              0.3333333333333333,
              "#9c179e"
             ],
             [
              0.4444444444444444,
              "#bd3786"
             ],
             [
              0.5555555555555556,
              "#d8576b"
             ],
             [
              0.6666666666666666,
              "#ed7953"
             ],
             [
              0.7777777777777778,
              "#fb9f3a"
             ],
             [
              0.8888888888888888,
              "#fdca26"
             ],
             [
              1,
              "#f0f921"
             ]
            ],
            "type": "histogram2dcontour"
           }
          ],
          "mesh3d": [
           {
            "colorbar": {
             "outlinewidth": 0,
             "ticks": ""
            },
            "type": "mesh3d"
           }
          ],
          "parcoords": [
           {
            "line": {
             "colorbar": {
              "outlinewidth": 0,
              "ticks": ""
             }
            },
            "type": "parcoords"
           }
          ],
          "pie": [
           {
            "automargin": true,
            "type": "pie"
           }
          ],
          "scatter": [
           {
            "marker": {
             "colorbar": {
              "outlinewidth": 0,
              "ticks": ""
             }
            },
            "type": "scatter"
           }
          ],
          "scatter3d": [
           {
            "line": {
             "colorbar": {
              "outlinewidth": 0,
              "ticks": ""
             }
            },
            "marker": {
             "colorbar": {
              "outlinewidth": 0,
              "ticks": ""
             }
            },
            "type": "scatter3d"
           }
          ],
          "scattercarpet": [
           {
            "marker": {
             "colorbar": {
              "outlinewidth": 0,
              "ticks": ""
             }
            },
            "type": "scattercarpet"
           }
          ],
          "scattergeo": [
           {
            "marker": {
             "colorbar": {
              "outlinewidth": 0,
              "ticks": ""
             }
            },
            "type": "scattergeo"
           }
          ],
          "scattergl": [
           {
            "marker": {
             "colorbar": {
              "outlinewidth": 0,
              "ticks": ""
             }
            },
            "type": "scattergl"
           }
          ],
          "scattermapbox": [
           {
            "marker": {
             "colorbar": {
              "outlinewidth": 0,
              "ticks": ""
             }
            },
            "type": "scattermapbox"
           }
          ],
          "scatterpolar": [
           {
            "marker": {
             "colorbar": {
              "outlinewidth": 0,
              "ticks": ""
             }
            },
            "type": "scatterpolar"
           }
          ],
          "scatterpolargl": [
           {
            "marker": {
             "colorbar": {
              "outlinewidth": 0,
              "ticks": ""
             }
            },
            "type": "scatterpolargl"
           }
          ],
          "scatterternary": [
           {
            "marker": {
             "colorbar": {
              "outlinewidth": 0,
              "ticks": ""
             }
            },
            "type": "scatterternary"
           }
          ],
          "surface": [
           {
            "colorbar": {
             "outlinewidth": 0,
             "ticks": ""
            },
            "colorscale": [
             [
              0,
              "#0d0887"
             ],
             [
              0.1111111111111111,
              "#46039f"
             ],
             [
              0.2222222222222222,
              "#7201a8"
             ],
             [
              0.3333333333333333,
              "#9c179e"
             ],
             [
              0.4444444444444444,
              "#bd3786"
             ],
             [
              0.5555555555555556,
              "#d8576b"
             ],
             [
              0.6666666666666666,
              "#ed7953"
             ],
             [
              0.7777777777777778,
              "#fb9f3a"
             ],
             [
              0.8888888888888888,
              "#fdca26"
             ],
             [
              1,
              "#f0f921"
             ]
            ],
            "type": "surface"
           }
          ],
          "table": [
           {
            "cells": {
             "fill": {
              "color": "#EBF0F8"
             },
             "line": {
              "color": "white"
             }
            },
            "header": {
             "fill": {
              "color": "#C8D4E3"
             },
             "line": {
              "color": "white"
             }
            },
            "type": "table"
           }
          ]
         },
         "layout": {
          "annotationdefaults": {
           "arrowcolor": "#2a3f5f",
           "arrowhead": 0,
           "arrowwidth": 1
          },
          "autotypenumbers": "strict",
          "coloraxis": {
           "colorbar": {
            "outlinewidth": 0,
            "ticks": ""
           }
          },
          "colorscale": {
           "diverging": [
            [
             0,
             "#8e0152"
            ],
            [
             0.1,
             "#c51b7d"
            ],
            [
             0.2,
             "#de77ae"
            ],
            [
             0.3,
             "#f1b6da"
            ],
            [
             0.4,
             "#fde0ef"
            ],
            [
             0.5,
             "#f7f7f7"
            ],
            [
             0.6,
             "#e6f5d0"
            ],
            [
             0.7,
             "#b8e186"
            ],
            [
             0.8,
             "#7fbc41"
            ],
            [
             0.9,
             "#4d9221"
            ],
            [
             1,
             "#276419"
            ]
           ],
           "sequential": [
            [
             0,
             "#0d0887"
            ],
            [
             0.1111111111111111,
             "#46039f"
            ],
            [
             0.2222222222222222,
             "#7201a8"
            ],
            [
             0.3333333333333333,
             "#9c179e"
            ],
            [
             0.4444444444444444,
             "#bd3786"
            ],
            [
             0.5555555555555556,
             "#d8576b"
            ],
            [
             0.6666666666666666,
             "#ed7953"
            ],
            [
             0.7777777777777778,
             "#fb9f3a"
            ],
            [
             0.8888888888888888,
             "#fdca26"
            ],
            [
             1,
             "#f0f921"
            ]
           ],
           "sequentialminus": [
            [
             0,
             "#0d0887"
            ],
            [
             0.1111111111111111,
             "#46039f"
            ],
            [
             0.2222222222222222,
             "#7201a8"
            ],
            [
             0.3333333333333333,
             "#9c179e"
            ],
            [
             0.4444444444444444,
             "#bd3786"
            ],
            [
             0.5555555555555556,
             "#d8576b"
            ],
            [
             0.6666666666666666,
             "#ed7953"
            ],
            [
             0.7777777777777778,
             "#fb9f3a"
            ],
            [
             0.8888888888888888,
             "#fdca26"
            ],
            [
             1,
             "#f0f921"
            ]
           ]
          },
          "colorway": [
           "#636efa",
           "#EF553B",
           "#00cc96",
           "#ab63fa",
           "#FFA15A",
           "#19d3f3",
           "#FF6692",
           "#B6E880",
           "#FF97FF",
           "#FECB52"
          ],
          "font": {
           "color": "#2a3f5f"
          },
          "geo": {
           "bgcolor": "white",
           "lakecolor": "white",
           "landcolor": "white",
           "showlakes": true,
           "showland": true,
           "subunitcolor": "#C8D4E3"
          },
          "hoverlabel": {
           "align": "left"
          },
          "hovermode": "closest",
          "mapbox": {
           "style": "light"
          },
          "paper_bgcolor": "white",
          "plot_bgcolor": "white",
          "polar": {
           "angularaxis": {
            "gridcolor": "#EBF0F8",
            "linecolor": "#EBF0F8",
            "ticks": ""
           },
           "bgcolor": "white",
           "radialaxis": {
            "gridcolor": "#EBF0F8",
            "linecolor": "#EBF0F8",
            "ticks": ""
           }
          },
          "scene": {
           "xaxis": {
            "backgroundcolor": "white",
            "gridcolor": "#DFE8F3",
            "gridwidth": 2,
            "linecolor": "#EBF0F8",
            "showbackground": true,
            "ticks": "",
            "zerolinecolor": "#EBF0F8"
           },
           "yaxis": {
            "backgroundcolor": "white",
            "gridcolor": "#DFE8F3",
            "gridwidth": 2,
            "linecolor": "#EBF0F8",
            "showbackground": true,
            "ticks": "",
            "zerolinecolor": "#EBF0F8"
           },
           "zaxis": {
            "backgroundcolor": "white",
            "gridcolor": "#DFE8F3",
            "gridwidth": 2,
            "linecolor": "#EBF0F8",
            "showbackground": true,
            "ticks": "",
            "zerolinecolor": "#EBF0F8"
           }
          },
          "shapedefaults": {
           "line": {
            "color": "#2a3f5f"
           }
          },
          "ternary": {
           "aaxis": {
            "gridcolor": "#DFE8F3",
            "linecolor": "#A2B1C6",
            "ticks": ""
           },
           "baxis": {
            "gridcolor": "#DFE8F3",
            "linecolor": "#A2B1C6",
            "ticks": ""
           },
           "bgcolor": "white",
           "caxis": {
            "gridcolor": "#DFE8F3",
            "linecolor": "#A2B1C6",
            "ticks": ""
           }
          },
          "title": {
           "x": 0.05
          },
          "xaxis": {
           "automargin": true,
           "gridcolor": "#EBF0F8",
           "linecolor": "#EBF0F8",
           "ticks": "",
           "title": {
            "standoff": 15
           },
           "zerolinecolor": "#EBF0F8",
           "zerolinewidth": 2
          },
          "yaxis": {
           "automargin": true,
           "gridcolor": "#EBF0F8",
           "linecolor": "#EBF0F8",
           "ticks": "",
           "title": {
            "standoff": 15
           },
           "zerolinecolor": "#EBF0F8",
           "zerolinewidth": 2
          }
         }
        },
        "title": {
         "text": "3D Surface of Second Derivative d²u/dx² (Zero Grid)"
        }
       }
      }
     },
     "metadata": {},
     "output_type": "display_data"
    },
    {
     "data": {
      "application/vnd.plotly.v1+json": {
       "config": {
        "plotlyServerURL": "https://plot.ly"
       },
       "data": [
        {
         "colorscale": [
          [
           0,
           "#440154"
          ],
          [
           0.1111111111111111,
           "#482878"
          ],
          [
           0.2222222222222222,
           "#3e4989"
          ],
          [
           0.3333333333333333,
           "#31688e"
          ],
          [
           0.4444444444444444,
           "#26828e"
          ],
          [
           0.5555555555555556,
           "#1f9e89"
          ],
          [
           0.6666666666666666,
           "#35b779"
          ],
          [
           0.7777777777777778,
           "#6ece58"
          ],
          [
           0.8888888888888888,
           "#b5de2b"
          ],
          [
           1,
           "#fde725"
          ]
         ],
         "type": "surface",
         "x": [
          [
           0,
           0.1111111111111111,
           0.2222222222222222,
           0.3333333333333333,
           0.4444444444444444,
           0.5555555555555556,
           0.6666666666666666,
           0.7777777777777777,
           0.8888888888888888,
           1
          ],
          [
           0,
           0.1111111111111111,
           0.2222222222222222,
           0.3333333333333333,
           0.4444444444444444,
           0.5555555555555556,
           0.6666666666666666,
           0.7777777777777777,
           0.8888888888888888,
           1
          ],
          [
           0,
           0.1111111111111111,
           0.2222222222222222,
           0.3333333333333333,
           0.4444444444444444,
           0.5555555555555556,
           0.6666666666666666,
           0.7777777777777777,
           0.8888888888888888,
           1
          ],
          [
           0,
           0.1111111111111111,
           0.2222222222222222,
           0.3333333333333333,
           0.4444444444444444,
           0.5555555555555556,
           0.6666666666666666,
           0.7777777777777777,
           0.8888888888888888,
           1
          ],
          [
           0,
           0.1111111111111111,
           0.2222222222222222,
           0.3333333333333333,
           0.4444444444444444,
           0.5555555555555556,
           0.6666666666666666,
           0.7777777777777777,
           0.8888888888888888,
           1
          ],
          [
           0,
           0.1111111111111111,
           0.2222222222222222,
           0.3333333333333333,
           0.4444444444444444,
           0.5555555555555556,
           0.6666666666666666,
           0.7777777777777777,
           0.8888888888888888,
           1
          ],
          [
           0,
           0.1111111111111111,
           0.2222222222222222,
           0.3333333333333333,
           0.4444444444444444,
           0.5555555555555556,
           0.6666666666666666,
           0.7777777777777777,
           0.8888888888888888,
           1
          ],
          [
           0,
           0.1111111111111111,
           0.2222222222222222,
           0.3333333333333333,
           0.4444444444444444,
           0.5555555555555556,
           0.6666666666666666,
           0.7777777777777777,
           0.8888888888888888,
           1
          ],
          [
           0,
           0.1111111111111111,
           0.2222222222222222,
           0.3333333333333333,
           0.4444444444444444,
           0.5555555555555556,
           0.6666666666666666,
           0.7777777777777777,
           0.8888888888888888,
           1
          ],
          [
           0,
           0.1111111111111111,
           0.2222222222222222,
           0.3333333333333333,
           0.4444444444444444,
           0.5555555555555556,
           0.6666666666666666,
           0.7777777777777777,
           0.8888888888888888,
           1
          ]
         ],
         "y": [
          [
           0,
           0,
           0,
           0,
           0,
           0,
           0,
           0,
           0,
           0
          ],
          [
           0.1111111111111111,
           0.1111111111111111,
           0.1111111111111111,
           0.1111111111111111,
           0.1111111111111111,
           0.1111111111111111,
           0.1111111111111111,
           0.1111111111111111,
           0.1111111111111111,
           0.1111111111111111
          ],
          [
           0.2222222222222222,
           0.2222222222222222,
           0.2222222222222222,
           0.2222222222222222,
           0.2222222222222222,
           0.2222222222222222,
           0.2222222222222222,
           0.2222222222222222,
           0.2222222222222222,
           0.2222222222222222
          ],
          [
           0.3333333333333333,
           0.3333333333333333,
           0.3333333333333333,
           0.3333333333333333,
           0.3333333333333333,
           0.3333333333333333,
           0.3333333333333333,
           0.3333333333333333,
           0.3333333333333333,
           0.3333333333333333
          ],
          [
           0.4444444444444444,
           0.4444444444444444,
           0.4444444444444444,
           0.4444444444444444,
           0.4444444444444444,
           0.4444444444444444,
           0.4444444444444444,
           0.4444444444444444,
           0.4444444444444444,
           0.4444444444444444
          ],
          [
           0.5555555555555556,
           0.5555555555555556,
           0.5555555555555556,
           0.5555555555555556,
           0.5555555555555556,
           0.5555555555555556,
           0.5555555555555556,
           0.5555555555555556,
           0.5555555555555556,
           0.5555555555555556
          ],
          [
           0.6666666666666666,
           0.6666666666666666,
           0.6666666666666666,
           0.6666666666666666,
           0.6666666666666666,
           0.6666666666666666,
           0.6666666666666666,
           0.6666666666666666,
           0.6666666666666666,
           0.6666666666666666
          ],
          [
           0.7777777777777777,
           0.7777777777777777,
           0.7777777777777777,
           0.7777777777777777,
           0.7777777777777777,
           0.7777777777777777,
           0.7777777777777777,
           0.7777777777777777,
           0.7777777777777777,
           0.7777777777777777
          ],
          [
           0.8888888888888888,
           0.8888888888888888,
           0.8888888888888888,
           0.8888888888888888,
           0.8888888888888888,
           0.8888888888888888,
           0.8888888888888888,
           0.8888888888888888,
           0.8888888888888888,
           0.8888888888888888
          ],
          [
           1,
           1,
           1,
           1,
           1,
           1,
           1,
           1,
           1,
           1
          ]
         ],
         "z": [
          [
           0,
           0,
           0,
           0,
           0,
           0,
           0,
           0,
           0,
           0
          ],
          [
           0,
           0,
           0,
           0,
           0,
           0,
           0,
           0,
           0,
           0
          ],
          [
           0,
           0,
           0,
           0,
           0,
           0,
           0,
           0,
           0,
           0
          ],
          [
           0,
           0,
           0,
           0,
           0,
           0,
           0,
           0,
           0,
           0
          ],
          [
           0,
           0,
           0,
           0,
           0,
           0,
           0,
           0,
           0,
           0
          ],
          [
           0,
           0,
           0,
           0,
           0,
           0,
           0,
           0,
           0,
           0
          ],
          [
           0,
           0,
           0,
           0,
           0,
           0,
           0,
           0,
           0,
           0
          ],
          [
           0,
           0,
           0,
           0,
           0,
           0,
           0,
           0,
           0,
           0
          ],
          [
           0,
           0,
           0,
           0,
           0,
           0,
           0,
           0,
           0,
           0
          ],
          [
           0,
           0,
           0,
           0,
           0,
           0,
           0,
           0,
           0,
           0
          ]
         ]
        }
       ],
       "layout": {
        "scene": {
         "camera": {
          "eye": {
           "x": 1.5,
           "y": 1.5,
           "z": 1.5
          }
         },
         "xaxis": {
          "title": {
           "text": "X"
          }
         },
         "yaxis": {
          "title": {
           "text": "Y"
          }
         },
         "zaxis": {
          "title": {
           "text": "Value"
          }
         }
        },
        "template": {
         "data": {
          "bar": [
           {
            "error_x": {
             "color": "#2a3f5f"
            },
            "error_y": {
             "color": "#2a3f5f"
            },
            "marker": {
             "line": {
              "color": "white",
              "width": 0.5
             },
             "pattern": {
              "fillmode": "overlay",
              "size": 10,
              "solidity": 0.2
             }
            },
            "type": "bar"
           }
          ],
          "barpolar": [
           {
            "marker": {
             "line": {
              "color": "white",
              "width": 0.5
             },
             "pattern": {
              "fillmode": "overlay",
              "size": 10,
              "solidity": 0.2
             }
            },
            "type": "barpolar"
           }
          ],
          "carpet": [
           {
            "aaxis": {
             "endlinecolor": "#2a3f5f",
             "gridcolor": "#C8D4E3",
             "linecolor": "#C8D4E3",
             "minorgridcolor": "#C8D4E3",
             "startlinecolor": "#2a3f5f"
            },
            "baxis": {
             "endlinecolor": "#2a3f5f",
             "gridcolor": "#C8D4E3",
             "linecolor": "#C8D4E3",
             "minorgridcolor": "#C8D4E3",
             "startlinecolor": "#2a3f5f"
            },
            "type": "carpet"
           }
          ],
          "choropleth": [
           {
            "colorbar": {
             "outlinewidth": 0,
             "ticks": ""
            },
            "type": "choropleth"
           }
          ],
          "contour": [
           {
            "colorbar": {
             "outlinewidth": 0,
             "ticks": ""
            },
            "colorscale": [
             [
              0,
              "#0d0887"
             ],
             [
              0.1111111111111111,
              "#46039f"
             ],
             [
              0.2222222222222222,
              "#7201a8"
             ],
             [
              0.3333333333333333,
              "#9c179e"
             ],
             [
              0.4444444444444444,
              "#bd3786"
             ],
             [
              0.5555555555555556,
              "#d8576b"
             ],
             [
              0.6666666666666666,
              "#ed7953"
             ],
             [
              0.7777777777777778,
              "#fb9f3a"
             ],
             [
              0.8888888888888888,
              "#fdca26"
             ],
             [
              1,
              "#f0f921"
             ]
            ],
            "type": "contour"
           }
          ],
          "contourcarpet": [
           {
            "colorbar": {
             "outlinewidth": 0,
             "ticks": ""
            },
            "type": "contourcarpet"
           }
          ],
          "heatmap": [
           {
            "colorbar": {
             "outlinewidth": 0,
             "ticks": ""
            },
            "colorscale": [
             [
              0,
              "#0d0887"
             ],
             [
              0.1111111111111111,
              "#46039f"
             ],
             [
              0.2222222222222222,
              "#7201a8"
             ],
             [
              0.3333333333333333,
              "#9c179e"
             ],
             [
              0.4444444444444444,
              "#bd3786"
             ],
             [
              0.5555555555555556,
              "#d8576b"
             ],
             [
              0.6666666666666666,
              "#ed7953"
             ],
             [
              0.7777777777777778,
              "#fb9f3a"
             ],
             [
              0.8888888888888888,
              "#fdca26"
             ],
             [
              1,
              "#f0f921"
             ]
            ],
            "type": "heatmap"
           }
          ],
          "heatmapgl": [
           {
            "colorbar": {
             "outlinewidth": 0,
             "ticks": ""
            },
            "colorscale": [
             [
              0,
              "#0d0887"
             ],
             [
              0.1111111111111111,
              "#46039f"
             ],
             [
              0.2222222222222222,
              "#7201a8"
             ],
             [
              0.3333333333333333,
              "#9c179e"
             ],
             [
              0.4444444444444444,
              "#bd3786"
             ],
             [
              0.5555555555555556,
              "#d8576b"
             ],
             [
              0.6666666666666666,
              "#ed7953"
             ],
             [
              0.7777777777777778,
              "#fb9f3a"
             ],
             [
              0.8888888888888888,
              "#fdca26"
             ],
             [
              1,
              "#f0f921"
             ]
            ],
            "type": "heatmapgl"
           }
          ],
          "histogram": [
           {
            "marker": {
             "pattern": {
              "fillmode": "overlay",
              "size": 10,
              "solidity": 0.2
             }
            },
            "type": "histogram"
           }
          ],
          "histogram2d": [
           {
            "colorbar": {
             "outlinewidth": 0,
             "ticks": ""
            },
            "colorscale": [
             [
              0,
              "#0d0887"
             ],
             [
              0.1111111111111111,
              "#46039f"
             ],
             [
              0.2222222222222222,
              "#7201a8"
             ],
             [
              0.3333333333333333,
              "#9c179e"
             ],
             [
              0.4444444444444444,
              "#bd3786"
             ],
             [
              0.5555555555555556,
              "#d8576b"
             ],
             [
              0.6666666666666666,
              "#ed7953"
             ],
             [
              0.7777777777777778,
              "#fb9f3a"
             ],
             [
              0.8888888888888888,
              "#fdca26"
             ],
             [
              1,
              "#f0f921"
             ]
            ],
            "type": "histogram2d"
           }
          ],
          "histogram2dcontour": [
           {
            "colorbar": {
             "outlinewidth": 0,
             "ticks": ""
            },
            "colorscale": [
             [
              0,
              "#0d0887"
             ],
             [
              0.1111111111111111,
              "#46039f"
             ],
             [
              0.2222222222222222,
              "#7201a8"
             ],
             [
              0.3333333333333333,
              "#9c179e"
             ],
             [
              0.4444444444444444,
              "#bd3786"
             ],
             [
              0.5555555555555556,
              "#d8576b"
             ],
             [
              0.6666666666666666,
              "#ed7953"
             ],
             [
              0.7777777777777778,
              "#fb9f3a"
             ],
             [
              0.8888888888888888,
              "#fdca26"
             ],
             [
              1,
              "#f0f921"
             ]
            ],
            "type": "histogram2dcontour"
           }
          ],
          "mesh3d": [
           {
            "colorbar": {
             "outlinewidth": 0,
             "ticks": ""
            },
            "type": "mesh3d"
           }
          ],
          "parcoords": [
           {
            "line": {
             "colorbar": {
              "outlinewidth": 0,
              "ticks": ""
             }
            },
            "type": "parcoords"
           }
          ],
          "pie": [
           {
            "automargin": true,
            "type": "pie"
           }
          ],
          "scatter": [
           {
            "marker": {
             "colorbar": {
              "outlinewidth": 0,
              "ticks": ""
             }
            },
            "type": "scatter"
           }
          ],
          "scatter3d": [
           {
            "line": {
             "colorbar": {
              "outlinewidth": 0,
              "ticks": ""
             }
            },
            "marker": {
             "colorbar": {
              "outlinewidth": 0,
              "ticks": ""
             }
            },
            "type": "scatter3d"
           }
          ],
          "scattercarpet": [
           {
            "marker": {
             "colorbar": {
              "outlinewidth": 0,
              "ticks": ""
             }
            },
            "type": "scattercarpet"
           }
          ],
          "scattergeo": [
           {
            "marker": {
             "colorbar": {
              "outlinewidth": 0,
              "ticks": ""
             }
            },
            "type": "scattergeo"
           }
          ],
          "scattergl": [
           {
            "marker": {
             "colorbar": {
              "outlinewidth": 0,
              "ticks": ""
             }
            },
            "type": "scattergl"
           }
          ],
          "scattermapbox": [
           {
            "marker": {
             "colorbar": {
              "outlinewidth": 0,
              "ticks": ""
             }
            },
            "type": "scattermapbox"
           }
          ],
          "scatterpolar": [
           {
            "marker": {
             "colorbar": {
              "outlinewidth": 0,
              "ticks": ""
             }
            },
            "type": "scatterpolar"
           }
          ],
          "scatterpolargl": [
           {
            "marker": {
             "colorbar": {
              "outlinewidth": 0,
              "ticks": ""
             }
            },
            "type": "scatterpolargl"
           }
          ],
          "scatterternary": [
           {
            "marker": {
             "colorbar": {
              "outlinewidth": 0,
              "ticks": ""
             }
            },
            "type": "scatterternary"
           }
          ],
          "surface": [
           {
            "colorbar": {
             "outlinewidth": 0,
             "ticks": ""
            },
            "colorscale": [
             [
              0,
              "#0d0887"
             ],
             [
              0.1111111111111111,
              "#46039f"
             ],
             [
              0.2222222222222222,
              "#7201a8"
             ],
             [
              0.3333333333333333,
              "#9c179e"
             ],
             [
              0.4444444444444444,
              "#bd3786"
             ],
             [
              0.5555555555555556,
              "#d8576b"
             ],
             [
              0.6666666666666666,
              "#ed7953"
             ],
             [
              0.7777777777777778,
              "#fb9f3a"
             ],
             [
              0.8888888888888888,
              "#fdca26"
             ],
             [
              1,
              "#f0f921"
             ]
            ],
            "type": "surface"
           }
          ],
          "table": [
           {
            "cells": {
             "fill": {
              "color": "#EBF0F8"
             },
             "line": {
              "color": "white"
             }
            },
            "header": {
             "fill": {
              "color": "#C8D4E3"
             },
             "line": {
              "color": "white"
             }
            },
            "type": "table"
           }
          ]
         },
         "layout": {
          "annotationdefaults": {
           "arrowcolor": "#2a3f5f",
           "arrowhead": 0,
           "arrowwidth": 1
          },
          "autotypenumbers": "strict",
          "coloraxis": {
           "colorbar": {
            "outlinewidth": 0,
            "ticks": ""
           }
          },
          "colorscale": {
           "diverging": [
            [
             0,
             "#8e0152"
            ],
            [
             0.1,
             "#c51b7d"
            ],
            [
             0.2,
             "#de77ae"
            ],
            [
             0.3,
             "#f1b6da"
            ],
            [
             0.4,
             "#fde0ef"
            ],
            [
             0.5,
             "#f7f7f7"
            ],
            [
             0.6,
             "#e6f5d0"
            ],
            [
             0.7,
             "#b8e186"
            ],
            [
             0.8,
             "#7fbc41"
            ],
            [
             0.9,
             "#4d9221"
            ],
            [
             1,
             "#276419"
            ]
           ],
           "sequential": [
            [
             0,
             "#0d0887"
            ],
            [
             0.1111111111111111,
             "#46039f"
            ],
            [
             0.2222222222222222,
             "#7201a8"
            ],
            [
             0.3333333333333333,
             "#9c179e"
            ],
            [
             0.4444444444444444,
             "#bd3786"
            ],
            [
             0.5555555555555556,
             "#d8576b"
            ],
            [
             0.6666666666666666,
             "#ed7953"
            ],
            [
             0.7777777777777778,
             "#fb9f3a"
            ],
            [
             0.8888888888888888,
             "#fdca26"
            ],
            [
             1,
             "#f0f921"
            ]
           ],
           "sequentialminus": [
            [
             0,
             "#0d0887"
            ],
            [
             0.1111111111111111,
             "#46039f"
            ],
            [
             0.2222222222222222,
             "#7201a8"
            ],
            [
             0.3333333333333333,
             "#9c179e"
            ],
            [
             0.4444444444444444,
             "#bd3786"
            ],
            [
             0.5555555555555556,
             "#d8576b"
            ],
            [
             0.6666666666666666,
             "#ed7953"
            ],
            [
             0.7777777777777778,
             "#fb9f3a"
            ],
            [
             0.8888888888888888,
             "#fdca26"
            ],
            [
             1,
             "#f0f921"
            ]
           ]
          },
          "colorway": [
           "#636efa",
           "#EF553B",
           "#00cc96",
           "#ab63fa",
           "#FFA15A",
           "#19d3f3",
           "#FF6692",
           "#B6E880",
           "#FF97FF",
           "#FECB52"
          ],
          "font": {
           "color": "#2a3f5f"
          },
          "geo": {
           "bgcolor": "white",
           "lakecolor": "white",
           "landcolor": "white",
           "showlakes": true,
           "showland": true,
           "subunitcolor": "#C8D4E3"
          },
          "hoverlabel": {
           "align": "left"
          },
          "hovermode": "closest",
          "mapbox": {
           "style": "light"
          },
          "paper_bgcolor": "white",
          "plot_bgcolor": "white",
          "polar": {
           "angularaxis": {
            "gridcolor": "#EBF0F8",
            "linecolor": "#EBF0F8",
            "ticks": ""
           },
           "bgcolor": "white",
           "radialaxis": {
            "gridcolor": "#EBF0F8",
            "linecolor": "#EBF0F8",
            "ticks": ""
           }
          },
          "scene": {
           "xaxis": {
            "backgroundcolor": "white",
            "gridcolor": "#DFE8F3",
            "gridwidth": 2,
            "linecolor": "#EBF0F8",
            "showbackground": true,
            "ticks": "",
            "zerolinecolor": "#EBF0F8"
           },
           "yaxis": {
            "backgroundcolor": "white",
            "gridcolor": "#DFE8F3",
            "gridwidth": 2,
            "linecolor": "#EBF0F8",
            "showbackground": true,
            "ticks": "",
            "zerolinecolor": "#EBF0F8"
           },
           "zaxis": {
            "backgroundcolor": "white",
            "gridcolor": "#DFE8F3",
            "gridwidth": 2,
            "linecolor": "#EBF0F8",
            "showbackground": true,
            "ticks": "",
            "zerolinecolor": "#EBF0F8"
           }
          },
          "shapedefaults": {
           "line": {
            "color": "#2a3f5f"
           }
          },
          "ternary": {
           "aaxis": {
            "gridcolor": "#DFE8F3",
            "linecolor": "#A2B1C6",
            "ticks": ""
           },
           "baxis": {
            "gridcolor": "#DFE8F3",
            "linecolor": "#A2B1C6",
            "ticks": ""
           },
           "bgcolor": "white",
           "caxis": {
            "gridcolor": "#DFE8F3",
            "linecolor": "#A2B1C6",
            "ticks": ""
           }
          },
          "title": {
           "x": 0.05
          },
          "xaxis": {
           "automargin": true,
           "gridcolor": "#EBF0F8",
           "linecolor": "#EBF0F8",
           "ticks": "",
           "title": {
            "standoff": 15
           },
           "zerolinecolor": "#EBF0F8",
           "zerolinewidth": 2
          },
          "yaxis": {
           "automargin": true,
           "gridcolor": "#EBF0F8",
           "linecolor": "#EBF0F8",
           "ticks": "",
           "title": {
            "standoff": 15
           },
           "zerolinecolor": "#EBF0F8",
           "zerolinewidth": 2
          }
         }
        },
        "title": {
         "text": "3D Surface of Second Derivative d²u/dy² (Zero Grid)"
        }
       }
      }
     },
     "metadata": {},
     "output_type": "display_data"
    },
    {
     "data": {
      "application/vnd.plotly.v1+json": {
       "config": {
        "plotlyServerURL": "https://plot.ly"
       },
       "data": [
        {
         "colorscale": [
          [
           0,
           "#440154"
          ],
          [
           0.1111111111111111,
           "#482878"
          ],
          [
           0.2222222222222222,
           "#3e4989"
          ],
          [
           0.3333333333333333,
           "#31688e"
          ],
          [
           0.4444444444444444,
           "#26828e"
          ],
          [
           0.5555555555555556,
           "#1f9e89"
          ],
          [
           0.6666666666666666,
           "#35b779"
          ],
          [
           0.7777777777777778,
           "#6ece58"
          ],
          [
           0.8888888888888888,
           "#b5de2b"
          ],
          [
           1,
           "#fde725"
          ]
         ],
         "type": "surface",
         "x": [
          [
           0,
           0.1111111111111111,
           0.2222222222222222,
           0.3333333333333333,
           0.4444444444444444,
           0.5555555555555556,
           0.6666666666666666,
           0.7777777777777777,
           0.8888888888888888,
           1
          ],
          [
           0,
           0.1111111111111111,
           0.2222222222222222,
           0.3333333333333333,
           0.4444444444444444,
           0.5555555555555556,
           0.6666666666666666,
           0.7777777777777777,
           0.8888888888888888,
           1
          ],
          [
           0,
           0.1111111111111111,
           0.2222222222222222,
           0.3333333333333333,
           0.4444444444444444,
           0.5555555555555556,
           0.6666666666666666,
           0.7777777777777777,
           0.8888888888888888,
           1
          ],
          [
           0,
           0.1111111111111111,
           0.2222222222222222,
           0.3333333333333333,
           0.4444444444444444,
           0.5555555555555556,
           0.6666666666666666,
           0.7777777777777777,
           0.8888888888888888,
           1
          ],
          [
           0,
           0.1111111111111111,
           0.2222222222222222,
           0.3333333333333333,
           0.4444444444444444,
           0.5555555555555556,
           0.6666666666666666,
           0.7777777777777777,
           0.8888888888888888,
           1
          ],
          [
           0,
           0.1111111111111111,
           0.2222222222222222,
           0.3333333333333333,
           0.4444444444444444,
           0.5555555555555556,
           0.6666666666666666,
           0.7777777777777777,
           0.8888888888888888,
           1
          ],
          [
           0,
           0.1111111111111111,
           0.2222222222222222,
           0.3333333333333333,
           0.4444444444444444,
           0.5555555555555556,
           0.6666666666666666,
           0.7777777777777777,
           0.8888888888888888,
           1
          ],
          [
           0,
           0.1111111111111111,
           0.2222222222222222,
           0.3333333333333333,
           0.4444444444444444,
           0.5555555555555556,
           0.6666666666666666,
           0.7777777777777777,
           0.8888888888888888,
           1
          ],
          [
           0,
           0.1111111111111111,
           0.2222222222222222,
           0.3333333333333333,
           0.4444444444444444,
           0.5555555555555556,
           0.6666666666666666,
           0.7777777777777777,
           0.8888888888888888,
           1
          ],
          [
           0,
           0.1111111111111111,
           0.2222222222222222,
           0.3333333333333333,
           0.4444444444444444,
           0.5555555555555556,
           0.6666666666666666,
           0.7777777777777777,
           0.8888888888888888,
           1
          ]
         ],
         "y": [
          [
           0,
           0,
           0,
           0,
           0,
           0,
           0,
           0,
           0,
           0
          ],
          [
           0.1111111111111111,
           0.1111111111111111,
           0.1111111111111111,
           0.1111111111111111,
           0.1111111111111111,
           0.1111111111111111,
           0.1111111111111111,
           0.1111111111111111,
           0.1111111111111111,
           0.1111111111111111
          ],
          [
           0.2222222222222222,
           0.2222222222222222,
           0.2222222222222222,
           0.2222222222222222,
           0.2222222222222222,
           0.2222222222222222,
           0.2222222222222222,
           0.2222222222222222,
           0.2222222222222222,
           0.2222222222222222
          ],
          [
           0.3333333333333333,
           0.3333333333333333,
           0.3333333333333333,
           0.3333333333333333,
           0.3333333333333333,
           0.3333333333333333,
           0.3333333333333333,
           0.3333333333333333,
           0.3333333333333333,
           0.3333333333333333
          ],
          [
           0.4444444444444444,
           0.4444444444444444,
           0.4444444444444444,
           0.4444444444444444,
           0.4444444444444444,
           0.4444444444444444,
           0.4444444444444444,
           0.4444444444444444,
           0.4444444444444444,
           0.4444444444444444
          ],
          [
           0.5555555555555556,
           0.5555555555555556,
           0.5555555555555556,
           0.5555555555555556,
           0.5555555555555556,
           0.5555555555555556,
           0.5555555555555556,
           0.5555555555555556,
           0.5555555555555556,
           0.5555555555555556
          ],
          [
           0.6666666666666666,
           0.6666666666666666,
           0.6666666666666666,
           0.6666666666666666,
           0.6666666666666666,
           0.6666666666666666,
           0.6666666666666666,
           0.6666666666666666,
           0.6666666666666666,
           0.6666666666666666
          ],
          [
           0.7777777777777777,
           0.7777777777777777,
           0.7777777777777777,
           0.7777777777777777,
           0.7777777777777777,
           0.7777777777777777,
           0.7777777777777777,
           0.7777777777777777,
           0.7777777777777777,
           0.7777777777777777
          ],
          [
           0.8888888888888888,
           0.8888888888888888,
           0.8888888888888888,
           0.8888888888888888,
           0.8888888888888888,
           0.8888888888888888,
           0.8888888888888888,
           0.8888888888888888,
           0.8888888888888888,
           0.8888888888888888
          ],
          [
           1,
           1,
           1,
           1,
           1,
           1,
           1,
           1,
           1,
           1
          ]
         ],
         "z": [
          [
           0,
           -0.5714244827667453,
           -1.0739267395846295,
           -1.446897582137948,
           -1.6453512223513758,
           -1.6453512223513758,
           -1.446897582137948,
           -1.0739267395846335,
           -0.5714244827667443,
           -2.0460583314485932e-16
          ],
          [
           0,
           -1.1083878525590596,
           -2.0830877720369747,
           -2.8065365631059476,
           -3.191475624596036,
           -3.191475624596036,
           -2.80653656310595,
           -2.0830877720369756,
           -1.1083878525590591,
           -3.968724247208363e-16
          ],
          [
           0,
           -2.0830877720369743,
           -3.9149244156650065,
           -5.274563396633006,
           -5.998012187701982,
           -5.998012187701982,
           -5.274563396633009,
           -3.9149244156650056,
           -2.0830877720369756,
           -7.458761778071613e-16
          ],
          [
           0,
           -2.8065365631059476,
           -5.274563396633008,
           -7.1064000402610406,
           -8.081099959738959,
           -8.081099959738959,
           -7.1064000402610406,
           -5.274563396633011,
           -2.8065365631059502,
           -1.004916255889939e-15
          ],
          [
           0,
           -3.1914756245960345,
           -5.998012187701982,
           -8.081099959738959,
           -9.189487812298015,
           -9.189487812298015,
           -8.081099959738959,
           -5.998012187701985,
           -3.1914756245960363,
           -1.1427486025279972e-15
          ],
          [
           0,
           -3.1914756245960336,
           -5.998012187701982,
           -8.081099959738957,
           -9.189487812298012,
           -9.189487812298012,
           -8.081099959738957,
           -5.998012187701984,
           -3.1914756245960354,
           -1.1427486025279966e-15
          ],
          [
           0,
           -2.806536563105949,
           -5.2745633966330105,
           -7.106400040261041,
           -8.081099959738959,
           -8.081099959738959,
           -7.106400040261043,
           -5.274563396633013,
           -2.8065365631059493,
           -1.0049162558899393e-15
          ],
          [
           0,
           -2.083087772036976,
           -3.914924415665009,
           -5.274563396633012,
           -5.998012187701989,
           -5.998012187701989,
           -5.274563396633014,
           -3.9149244156650114,
           -2.083087772036977,
           -7.458761778071621e-16
          ],
          [
           0,
           -1.1083878525590596,
           -2.0830877720369756,
           -2.8065365631059516,
           -3.19147562459604,
           -3.19147562459604,
           -2.80653656310595,
           -2.0830877720369756,
           -1.1083878525590611,
           -3.968724247208365e-16
          ],
          [
           0,
           -0.5714244827667443,
           -1.0739267395846295,
           -1.446897582137948,
           -1.6453512223513758,
           -1.6453512223513758,
           -1.446897582137944,
           -1.0739267395846295,
           -0.5714244827667463,
           -2.0460583314485932e-16
          ]
         ]
        }
       ],
       "layout": {
        "scene": {
         "camera": {
          "eye": {
           "x": 1.5,
           "y": 1.5,
           "z": 1.5
          }
         },
         "xaxis": {
          "title": {
           "text": "X"
          }
         },
         "yaxis": {
          "title": {
           "text": "Y"
          }
         },
         "zaxis": {
          "title": {
           "text": "Value"
          }
         }
        },
        "template": {
         "data": {
          "bar": [
           {
            "error_x": {
             "color": "#2a3f5f"
            },
            "error_y": {
             "color": "#2a3f5f"
            },
            "marker": {
             "line": {
              "color": "white",
              "width": 0.5
             },
             "pattern": {
              "fillmode": "overlay",
              "size": 10,
              "solidity": 0.2
             }
            },
            "type": "bar"
           }
          ],
          "barpolar": [
           {
            "marker": {
             "line": {
              "color": "white",
              "width": 0.5
             },
             "pattern": {
              "fillmode": "overlay",
              "size": 10,
              "solidity": 0.2
             }
            },
            "type": "barpolar"
           }
          ],
          "carpet": [
           {
            "aaxis": {
             "endlinecolor": "#2a3f5f",
             "gridcolor": "#C8D4E3",
             "linecolor": "#C8D4E3",
             "minorgridcolor": "#C8D4E3",
             "startlinecolor": "#2a3f5f"
            },
            "baxis": {
             "endlinecolor": "#2a3f5f",
             "gridcolor": "#C8D4E3",
             "linecolor": "#C8D4E3",
             "minorgridcolor": "#C8D4E3",
             "startlinecolor": "#2a3f5f"
            },
            "type": "carpet"
           }
          ],
          "choropleth": [
           {
            "colorbar": {
             "outlinewidth": 0,
             "ticks": ""
            },
            "type": "choropleth"
           }
          ],
          "contour": [
           {
            "colorbar": {
             "outlinewidth": 0,
             "ticks": ""
            },
            "colorscale": [
             [
              0,
              "#0d0887"
             ],
             [
              0.1111111111111111,
              "#46039f"
             ],
             [
              0.2222222222222222,
              "#7201a8"
             ],
             [
              0.3333333333333333,
              "#9c179e"
             ],
             [
              0.4444444444444444,
              "#bd3786"
             ],
             [
              0.5555555555555556,
              "#d8576b"
             ],
             [
              0.6666666666666666,
              "#ed7953"
             ],
             [
              0.7777777777777778,
              "#fb9f3a"
             ],
             [
              0.8888888888888888,
              "#fdca26"
             ],
             [
              1,
              "#f0f921"
             ]
            ],
            "type": "contour"
           }
          ],
          "contourcarpet": [
           {
            "colorbar": {
             "outlinewidth": 0,
             "ticks": ""
            },
            "type": "contourcarpet"
           }
          ],
          "heatmap": [
           {
            "colorbar": {
             "outlinewidth": 0,
             "ticks": ""
            },
            "colorscale": [
             [
              0,
              "#0d0887"
             ],
             [
              0.1111111111111111,
              "#46039f"
             ],
             [
              0.2222222222222222,
              "#7201a8"
             ],
             [
              0.3333333333333333,
              "#9c179e"
             ],
             [
              0.4444444444444444,
              "#bd3786"
             ],
             [
              0.5555555555555556,
              "#d8576b"
             ],
             [
              0.6666666666666666,
              "#ed7953"
             ],
             [
              0.7777777777777778,
              "#fb9f3a"
             ],
             [
              0.8888888888888888,
              "#fdca26"
             ],
             [
              1,
              "#f0f921"
             ]
            ],
            "type": "heatmap"
           }
          ],
          "heatmapgl": [
           {
            "colorbar": {
             "outlinewidth": 0,
             "ticks": ""
            },
            "colorscale": [
             [
              0,
              "#0d0887"
             ],
             [
              0.1111111111111111,
              "#46039f"
             ],
             [
              0.2222222222222222,
              "#7201a8"
             ],
             [
              0.3333333333333333,
              "#9c179e"
             ],
             [
              0.4444444444444444,
              "#bd3786"
             ],
             [
              0.5555555555555556,
              "#d8576b"
             ],
             [
              0.6666666666666666,
              "#ed7953"
             ],
             [
              0.7777777777777778,
              "#fb9f3a"
             ],
             [
              0.8888888888888888,
              "#fdca26"
             ],
             [
              1,
              "#f0f921"
             ]
            ],
            "type": "heatmapgl"
           }
          ],
          "histogram": [
           {
            "marker": {
             "pattern": {
              "fillmode": "overlay",
              "size": 10,
              "solidity": 0.2
             }
            },
            "type": "histogram"
           }
          ],
          "histogram2d": [
           {
            "colorbar": {
             "outlinewidth": 0,
             "ticks": ""
            },
            "colorscale": [
             [
              0,
              "#0d0887"
             ],
             [
              0.1111111111111111,
              "#46039f"
             ],
             [
              0.2222222222222222,
              "#7201a8"
             ],
             [
              0.3333333333333333,
              "#9c179e"
             ],
             [
              0.4444444444444444,
              "#bd3786"
             ],
             [
              0.5555555555555556,
              "#d8576b"
             ],
             [
              0.6666666666666666,
              "#ed7953"
             ],
             [
              0.7777777777777778,
              "#fb9f3a"
             ],
             [
              0.8888888888888888,
              "#fdca26"
             ],
             [
              1,
              "#f0f921"
             ]
            ],
            "type": "histogram2d"
           }
          ],
          "histogram2dcontour": [
           {
            "colorbar": {
             "outlinewidth": 0,
             "ticks": ""
            },
            "colorscale": [
             [
              0,
              "#0d0887"
             ],
             [
              0.1111111111111111,
              "#46039f"
             ],
             [
              0.2222222222222222,
              "#7201a8"
             ],
             [
              0.3333333333333333,
              "#9c179e"
             ],
             [
              0.4444444444444444,
              "#bd3786"
             ],
             [
              0.5555555555555556,
              "#d8576b"
             ],
             [
              0.6666666666666666,
              "#ed7953"
             ],
             [
              0.7777777777777778,
              "#fb9f3a"
             ],
             [
              0.8888888888888888,
              "#fdca26"
             ],
             [
              1,
              "#f0f921"
             ]
            ],
            "type": "histogram2dcontour"
           }
          ],
          "mesh3d": [
           {
            "colorbar": {
             "outlinewidth": 0,
             "ticks": ""
            },
            "type": "mesh3d"
           }
          ],
          "parcoords": [
           {
            "line": {
             "colorbar": {
              "outlinewidth": 0,
              "ticks": ""
             }
            },
            "type": "parcoords"
           }
          ],
          "pie": [
           {
            "automargin": true,
            "type": "pie"
           }
          ],
          "scatter": [
           {
            "marker": {
             "colorbar": {
              "outlinewidth": 0,
              "ticks": ""
             }
            },
            "type": "scatter"
           }
          ],
          "scatter3d": [
           {
            "line": {
             "colorbar": {
              "outlinewidth": 0,
              "ticks": ""
             }
            },
            "marker": {
             "colorbar": {
              "outlinewidth": 0,
              "ticks": ""
             }
            },
            "type": "scatter3d"
           }
          ],
          "scattercarpet": [
           {
            "marker": {
             "colorbar": {
              "outlinewidth": 0,
              "ticks": ""
             }
            },
            "type": "scattercarpet"
           }
          ],
          "scattergeo": [
           {
            "marker": {
             "colorbar": {
              "outlinewidth": 0,
              "ticks": ""
             }
            },
            "type": "scattergeo"
           }
          ],
          "scattergl": [
           {
            "marker": {
             "colorbar": {
              "outlinewidth": 0,
              "ticks": ""
             }
            },
            "type": "scattergl"
           }
          ],
          "scattermapbox": [
           {
            "marker": {
             "colorbar": {
              "outlinewidth": 0,
              "ticks": ""
             }
            },
            "type": "scattermapbox"
           }
          ],
          "scatterpolar": [
           {
            "marker": {
             "colorbar": {
              "outlinewidth": 0,
              "ticks": ""
             }
            },
            "type": "scatterpolar"
           }
          ],
          "scatterpolargl": [
           {
            "marker": {
             "colorbar": {
              "outlinewidth": 0,
              "ticks": ""
             }
            },
            "type": "scatterpolargl"
           }
          ],
          "scatterternary": [
           {
            "marker": {
             "colorbar": {
              "outlinewidth": 0,
              "ticks": ""
             }
            },
            "type": "scatterternary"
           }
          ],
          "surface": [
           {
            "colorbar": {
             "outlinewidth": 0,
             "ticks": ""
            },
            "colorscale": [
             [
              0,
              "#0d0887"
             ],
             [
              0.1111111111111111,
              "#46039f"
             ],
             [
              0.2222222222222222,
              "#7201a8"
             ],
             [
              0.3333333333333333,
              "#9c179e"
             ],
             [
              0.4444444444444444,
              "#bd3786"
             ],
             [
              0.5555555555555556,
              "#d8576b"
             ],
             [
              0.6666666666666666,
              "#ed7953"
             ],
             [
              0.7777777777777778,
              "#fb9f3a"
             ],
             [
              0.8888888888888888,
              "#fdca26"
             ],
             [
              1,
              "#f0f921"
             ]
            ],
            "type": "surface"
           }
          ],
          "table": [
           {
            "cells": {
             "fill": {
              "color": "#EBF0F8"
             },
             "line": {
              "color": "white"
             }
            },
            "header": {
             "fill": {
              "color": "#C8D4E3"
             },
             "line": {
              "color": "white"
             }
            },
            "type": "table"
           }
          ]
         },
         "layout": {
          "annotationdefaults": {
           "arrowcolor": "#2a3f5f",
           "arrowhead": 0,
           "arrowwidth": 1
          },
          "autotypenumbers": "strict",
          "coloraxis": {
           "colorbar": {
            "outlinewidth": 0,
            "ticks": ""
           }
          },
          "colorscale": {
           "diverging": [
            [
             0,
             "#8e0152"
            ],
            [
             0.1,
             "#c51b7d"
            ],
            [
             0.2,
             "#de77ae"
            ],
            [
             0.3,
             "#f1b6da"
            ],
            [
             0.4,
             "#fde0ef"
            ],
            [
             0.5,
             "#f7f7f7"
            ],
            [
             0.6,
             "#e6f5d0"
            ],
            [
             0.7,
             "#b8e186"
            ],
            [
             0.8,
             "#7fbc41"
            ],
            [
             0.9,
             "#4d9221"
            ],
            [
             1,
             "#276419"
            ]
           ],
           "sequential": [
            [
             0,
             "#0d0887"
            ],
            [
             0.1111111111111111,
             "#46039f"
            ],
            [
             0.2222222222222222,
             "#7201a8"
            ],
            [
             0.3333333333333333,
             "#9c179e"
            ],
            [
             0.4444444444444444,
             "#bd3786"
            ],
            [
             0.5555555555555556,
             "#d8576b"
            ],
            [
             0.6666666666666666,
             "#ed7953"
            ],
            [
             0.7777777777777778,
             "#fb9f3a"
            ],
            [
             0.8888888888888888,
             "#fdca26"
            ],
            [
             1,
             "#f0f921"
            ]
           ],
           "sequentialminus": [
            [
             0,
             "#0d0887"
            ],
            [
             0.1111111111111111,
             "#46039f"
            ],
            [
             0.2222222222222222,
             "#7201a8"
            ],
            [
             0.3333333333333333,
             "#9c179e"
            ],
            [
             0.4444444444444444,
             "#bd3786"
            ],
            [
             0.5555555555555556,
             "#d8576b"
            ],
            [
             0.6666666666666666,
             "#ed7953"
            ],
            [
             0.7777777777777778,
             "#fb9f3a"
            ],
            [
             0.8888888888888888,
             "#fdca26"
            ],
            [
             1,
             "#f0f921"
            ]
           ]
          },
          "colorway": [
           "#636efa",
           "#EF553B",
           "#00cc96",
           "#ab63fa",
           "#FFA15A",
           "#19d3f3",
           "#FF6692",
           "#B6E880",
           "#FF97FF",
           "#FECB52"
          ],
          "font": {
           "color": "#2a3f5f"
          },
          "geo": {
           "bgcolor": "white",
           "lakecolor": "white",
           "landcolor": "white",
           "showlakes": true,
           "showland": true,
           "subunitcolor": "#C8D4E3"
          },
          "hoverlabel": {
           "align": "left"
          },
          "hovermode": "closest",
          "mapbox": {
           "style": "light"
          },
          "paper_bgcolor": "white",
          "plot_bgcolor": "white",
          "polar": {
           "angularaxis": {
            "gridcolor": "#EBF0F8",
            "linecolor": "#EBF0F8",
            "ticks": ""
           },
           "bgcolor": "white",
           "radialaxis": {
            "gridcolor": "#EBF0F8",
            "linecolor": "#EBF0F8",
            "ticks": ""
           }
          },
          "scene": {
           "xaxis": {
            "backgroundcolor": "white",
            "gridcolor": "#DFE8F3",
            "gridwidth": 2,
            "linecolor": "#EBF0F8",
            "showbackground": true,
            "ticks": "",
            "zerolinecolor": "#EBF0F8"
           },
           "yaxis": {
            "backgroundcolor": "white",
            "gridcolor": "#DFE8F3",
            "gridwidth": 2,
            "linecolor": "#EBF0F8",
            "showbackground": true,
            "ticks": "",
            "zerolinecolor": "#EBF0F8"
           },
           "zaxis": {
            "backgroundcolor": "white",
            "gridcolor": "#DFE8F3",
            "gridwidth": 2,
            "linecolor": "#EBF0F8",
            "showbackground": true,
            "ticks": "",
            "zerolinecolor": "#EBF0F8"
           }
          },
          "shapedefaults": {
           "line": {
            "color": "#2a3f5f"
           }
          },
          "ternary": {
           "aaxis": {
            "gridcolor": "#DFE8F3",
            "linecolor": "#A2B1C6",
            "ticks": ""
           },
           "baxis": {
            "gridcolor": "#DFE8F3",
            "linecolor": "#A2B1C6",
            "ticks": ""
           },
           "bgcolor": "white",
           "caxis": {
            "gridcolor": "#DFE8F3",
            "linecolor": "#A2B1C6",
            "ticks": ""
           }
          },
          "title": {
           "x": 0.05
          },
          "xaxis": {
           "automargin": true,
           "gridcolor": "#EBF0F8",
           "linecolor": "#EBF0F8",
           "ticks": "",
           "title": {
            "standoff": 15
           },
           "zerolinecolor": "#EBF0F8",
           "zerolinewidth": 2
          },
          "yaxis": {
           "automargin": true,
           "gridcolor": "#EBF0F8",
           "linecolor": "#EBF0F8",
           "ticks": "",
           "title": {
            "standoff": 15
           },
           "zerolinecolor": "#EBF0F8",
           "zerolinewidth": 2
          }
         }
        },
        "title": {
         "text": "3D Surface of Second Derivative d²u/dx² (Sinusoidal Grid)"
        }
       }
      }
     },
     "metadata": {},
     "output_type": "display_data"
    },
    {
     "data": {
      "application/vnd.plotly.v1+json": {
       "config": {
        "plotlyServerURL": "https://plot.ly"
       },
       "data": [
        {
         "colorscale": [
          [
           0,
           "#440154"
          ],
          [
           0.1111111111111111,
           "#482878"
          ],
          [
           0.2222222222222222,
           "#3e4989"
          ],
          [
           0.3333333333333333,
           "#31688e"
          ],
          [
           0.4444444444444444,
           "#26828e"
          ],
          [
           0.5555555555555556,
           "#1f9e89"
          ],
          [
           0.6666666666666666,
           "#35b779"
          ],
          [
           0.7777777777777778,
           "#6ece58"
          ],
          [
           0.8888888888888888,
           "#b5de2b"
          ],
          [
           1,
           "#fde725"
          ]
         ],
         "type": "surface",
         "x": [
          [
           0,
           0.1111111111111111,
           0.2222222222222222,
           0.3333333333333333,
           0.4444444444444444,
           0.5555555555555556,
           0.6666666666666666,
           0.7777777777777777,
           0.8888888888888888,
           1
          ],
          [
           0,
           0.1111111111111111,
           0.2222222222222222,
           0.3333333333333333,
           0.4444444444444444,
           0.5555555555555556,
           0.6666666666666666,
           0.7777777777777777,
           0.8888888888888888,
           1
          ],
          [
           0,
           0.1111111111111111,
           0.2222222222222222,
           0.3333333333333333,
           0.4444444444444444,
           0.5555555555555556,
           0.6666666666666666,
           0.7777777777777777,
           0.8888888888888888,
           1
          ],
          [
           0,
           0.1111111111111111,
           0.2222222222222222,
           0.3333333333333333,
           0.4444444444444444,
           0.5555555555555556,
           0.6666666666666666,
           0.7777777777777777,
           0.8888888888888888,
           1
          ],
          [
           0,
           0.1111111111111111,
           0.2222222222222222,
           0.3333333333333333,
           0.4444444444444444,
           0.5555555555555556,
           0.6666666666666666,
           0.7777777777777777,
           0.8888888888888888,
           1
          ],
          [
           0,
           0.1111111111111111,
           0.2222222222222222,
           0.3333333333333333,
           0.4444444444444444,
           0.5555555555555556,
           0.6666666666666666,
           0.7777777777777777,
           0.8888888888888888,
           1
          ],
          [
           0,
           0.1111111111111111,
           0.2222222222222222,
           0.3333333333333333,
           0.4444444444444444,
           0.5555555555555556,
           0.6666666666666666,
           0.7777777777777777,
           0.8888888888888888,
           1
          ],
          [
           0,
           0.1111111111111111,
           0.2222222222222222,
           0.3333333333333333,
           0.4444444444444444,
           0.5555555555555556,
           0.6666666666666666,
           0.7777777777777777,
           0.8888888888888888,
           1
          ],
          [
           0,
           0.1111111111111111,
           0.2222222222222222,
           0.3333333333333333,
           0.4444444444444444,
           0.5555555555555556,
           0.6666666666666666,
           0.7777777777777777,
           0.8888888888888888,
           1
          ],
          [
           0,
           0.1111111111111111,
           0.2222222222222222,
           0.3333333333333333,
           0.4444444444444444,
           0.5555555555555556,
           0.6666666666666666,
           0.7777777777777777,
           0.8888888888888888,
           1
          ]
         ],
         "y": [
          [
           0,
           0,
           0,
           0,
           0,
           0,
           0,
           0,
           0,
           0
          ],
          [
           0.1111111111111111,
           0.1111111111111111,
           0.1111111111111111,
           0.1111111111111111,
           0.1111111111111111,
           0.1111111111111111,
           0.1111111111111111,
           0.1111111111111111,
           0.1111111111111111,
           0.1111111111111111
          ],
          [
           0.2222222222222222,
           0.2222222222222222,
           0.2222222222222222,
           0.2222222222222222,
           0.2222222222222222,
           0.2222222222222222,
           0.2222222222222222,
           0.2222222222222222,
           0.2222222222222222,
           0.2222222222222222
          ],
          [
           0.3333333333333333,
           0.3333333333333333,
           0.3333333333333333,
           0.3333333333333333,
           0.3333333333333333,
           0.3333333333333333,
           0.3333333333333333,
           0.3333333333333333,
           0.3333333333333333,
           0.3333333333333333
          ],
          [
           0.4444444444444444,
           0.4444444444444444,
           0.4444444444444444,
           0.4444444444444444,
           0.4444444444444444,
           0.4444444444444444,
           0.4444444444444444,
           0.4444444444444444,
           0.4444444444444444,
           0.4444444444444444
          ],
          [
           0.5555555555555556,
           0.5555555555555556,
           0.5555555555555556,
           0.5555555555555556,
           0.5555555555555556,
           0.5555555555555556,
           0.5555555555555556,
           0.5555555555555556,
           0.5555555555555556,
           0.5555555555555556
          ],
          [
           0.6666666666666666,
           0.6666666666666666,
           0.6666666666666666,
           0.6666666666666666,
           0.6666666666666666,
           0.6666666666666666,
           0.6666666666666666,
           0.6666666666666666,
           0.6666666666666666,
           0.6666666666666666
          ],
          [
           0.7777777777777777,
           0.7777777777777777,
           0.7777777777777777,
           0.7777777777777777,
           0.7777777777777777,
           0.7777777777777777,
           0.7777777777777777,
           0.7777777777777777,
           0.7777777777777777,
           0.7777777777777777
          ],
          [
           0.8888888888888888,
           0.8888888888888888,
           0.8888888888888888,
           0.8888888888888888,
           0.8888888888888888,
           0.8888888888888888,
           0.8888888888888888,
           0.8888888888888888,
           0.8888888888888888,
           0.8888888888888888
          ],
          [
           1,
           1,
           1,
           1,
           1,
           1,
           1,
           1,
           1,
           1
          ]
         ],
         "z": [
          [
           0,
           0,
           0,
           0,
           0,
           0,
           0,
           0,
           0,
           0
          ],
          [
           -0.5714244827667453,
           -1.1083878525590596,
           -2.0830877720369743,
           -2.8065365631059476,
           -3.1914756245960345,
           -3.1914756245960336,
           -2.806536563105949,
           -2.083087772036976,
           -1.1083878525590596,
           -0.5714244827667443
          ],
          [
           -1.0739267395846295,
           -2.0830877720369747,
           -3.9149244156650065,
           -5.274563396633008,
           -5.998012187701982,
           -5.998012187701982,
           -5.2745633966330105,
           -3.914924415665009,
           -2.0830877720369756,
           -1.0739267395846295
          ],
          [
           -1.446897582137948,
           -2.8065365631059476,
           -5.274563396633006,
           -7.1064000402610406,
           -8.081099959738959,
           -8.081099959738957,
           -7.106400040261041,
           -5.274563396633012,
           -2.8065365631059516,
           -1.446897582137948
          ],
          [
           -1.6453512223513758,
           -3.191475624596036,
           -5.998012187701982,
           -8.081099959738959,
           -9.189487812298015,
           -9.189487812298012,
           -8.081099959738959,
           -5.998012187701989,
           -3.19147562459604,
           -1.6453512223513758
          ],
          [
           -1.6453512223513758,
           -3.191475624596036,
           -5.998012187701982,
           -8.081099959738959,
           -9.189487812298015,
           -9.189487812298012,
           -8.081099959738959,
           -5.998012187701989,
           -3.19147562459604,
           -1.6453512223513758
          ],
          [
           -1.446897582137948,
           -2.80653656310595,
           -5.274563396633009,
           -7.1064000402610406,
           -8.081099959738959,
           -8.081099959738957,
           -7.106400040261043,
           -5.274563396633014,
           -2.80653656310595,
           -1.446897582137944
          ],
          [
           -1.0739267395846335,
           -2.0830877720369756,
           -3.9149244156650056,
           -5.274563396633011,
           -5.998012187701985,
           -5.998012187701984,
           -5.274563396633013,
           -3.9149244156650114,
           -2.0830877720369756,
           -1.0739267395846295
          ],
          [
           -0.5714244827667443,
           -1.1083878525590591,
           -2.0830877720369756,
           -2.8065365631059502,
           -3.1914756245960363,
           -3.1914756245960354,
           -2.8065365631059493,
           -2.083087772036977,
           -1.1083878525590611,
           -0.5714244827667463
          ],
          [
           -2.0460583314485932e-16,
           -3.968724247208363e-16,
           -7.458761778071613e-16,
           -1.004916255889939e-15,
           -1.1427486025279972e-15,
           -1.1427486025279966e-15,
           -1.0049162558899393e-15,
           -7.458761778071621e-16,
           -3.968724247208365e-16,
           -2.0460583314485932e-16
          ]
         ]
        }
       ],
       "layout": {
        "scene": {
         "camera": {
          "eye": {
           "x": 1.5,
           "y": 1.5,
           "z": 1.5
          }
         },
         "xaxis": {
          "title": {
           "text": "X"
          }
         },
         "yaxis": {
          "title": {
           "text": "Y"
          }
         },
         "zaxis": {
          "title": {
           "text": "Value"
          }
         }
        },
        "template": {
         "data": {
          "bar": [
           {
            "error_x": {
             "color": "#2a3f5f"
            },
            "error_y": {
             "color": "#2a3f5f"
            },
            "marker": {
             "line": {
              "color": "white",
              "width": 0.5
             },
             "pattern": {
              "fillmode": "overlay",
              "size": 10,
              "solidity": 0.2
             }
            },
            "type": "bar"
           }
          ],
          "barpolar": [
           {
            "marker": {
             "line": {
              "color": "white",
              "width": 0.5
             },
             "pattern": {
              "fillmode": "overlay",
              "size": 10,
              "solidity": 0.2
             }
            },
            "type": "barpolar"
           }
          ],
          "carpet": [
           {
            "aaxis": {
             "endlinecolor": "#2a3f5f",
             "gridcolor": "#C8D4E3",
             "linecolor": "#C8D4E3",
             "minorgridcolor": "#C8D4E3",
             "startlinecolor": "#2a3f5f"
            },
            "baxis": {
             "endlinecolor": "#2a3f5f",
             "gridcolor": "#C8D4E3",
             "linecolor": "#C8D4E3",
             "minorgridcolor": "#C8D4E3",
             "startlinecolor": "#2a3f5f"
            },
            "type": "carpet"
           }
          ],
          "choropleth": [
           {
            "colorbar": {
             "outlinewidth": 0,
             "ticks": ""
            },
            "type": "choropleth"
           }
          ],
          "contour": [
           {
            "colorbar": {
             "outlinewidth": 0,
             "ticks": ""
            },
            "colorscale": [
             [
              0,
              "#0d0887"
             ],
             [
              0.1111111111111111,
              "#46039f"
             ],
             [
              0.2222222222222222,
              "#7201a8"
             ],
             [
              0.3333333333333333,
              "#9c179e"
             ],
             [
              0.4444444444444444,
              "#bd3786"
             ],
             [
              0.5555555555555556,
              "#d8576b"
             ],
             [
              0.6666666666666666,
              "#ed7953"
             ],
             [
              0.7777777777777778,
              "#fb9f3a"
             ],
             [
              0.8888888888888888,
              "#fdca26"
             ],
             [
              1,
              "#f0f921"
             ]
            ],
            "type": "contour"
           }
          ],
          "contourcarpet": [
           {
            "colorbar": {
             "outlinewidth": 0,
             "ticks": ""
            },
            "type": "contourcarpet"
           }
          ],
          "heatmap": [
           {
            "colorbar": {
             "outlinewidth": 0,
             "ticks": ""
            },
            "colorscale": [
             [
              0,
              "#0d0887"
             ],
             [
              0.1111111111111111,
              "#46039f"
             ],
             [
              0.2222222222222222,
              "#7201a8"
             ],
             [
              0.3333333333333333,
              "#9c179e"
             ],
             [
              0.4444444444444444,
              "#bd3786"
             ],
             [
              0.5555555555555556,
              "#d8576b"
             ],
             [
              0.6666666666666666,
              "#ed7953"
             ],
             [
              0.7777777777777778,
              "#fb9f3a"
             ],
             [
              0.8888888888888888,
              "#fdca26"
             ],
             [
              1,
              "#f0f921"
             ]
            ],
            "type": "heatmap"
           }
          ],
          "heatmapgl": [
           {
            "colorbar": {
             "outlinewidth": 0,
             "ticks": ""
            },
            "colorscale": [
             [
              0,
              "#0d0887"
             ],
             [
              0.1111111111111111,
              "#46039f"
             ],
             [
              0.2222222222222222,
              "#7201a8"
             ],
             [
              0.3333333333333333,
              "#9c179e"
             ],
             [
              0.4444444444444444,
              "#bd3786"
             ],
             [
              0.5555555555555556,
              "#d8576b"
             ],
             [
              0.6666666666666666,
              "#ed7953"
             ],
             [
              0.7777777777777778,
              "#fb9f3a"
             ],
             [
              0.8888888888888888,
              "#fdca26"
             ],
             [
              1,
              "#f0f921"
             ]
            ],
            "type": "heatmapgl"
           }
          ],
          "histogram": [
           {
            "marker": {
             "pattern": {
              "fillmode": "overlay",
              "size": 10,
              "solidity": 0.2
             }
            },
            "type": "histogram"
           }
          ],
          "histogram2d": [
           {
            "colorbar": {
             "outlinewidth": 0,
             "ticks": ""
            },
            "colorscale": [
             [
              0,
              "#0d0887"
             ],
             [
              0.1111111111111111,
              "#46039f"
             ],
             [
              0.2222222222222222,
              "#7201a8"
             ],
             [
              0.3333333333333333,
              "#9c179e"
             ],
             [
              0.4444444444444444,
              "#bd3786"
             ],
             [
              0.5555555555555556,
              "#d8576b"
             ],
             [
              0.6666666666666666,
              "#ed7953"
             ],
             [
              0.7777777777777778,
              "#fb9f3a"
             ],
             [
              0.8888888888888888,
              "#fdca26"
             ],
             [
              1,
              "#f0f921"
             ]
            ],
            "type": "histogram2d"
           }
          ],
          "histogram2dcontour": [
           {
            "colorbar": {
             "outlinewidth": 0,
             "ticks": ""
            },
            "colorscale": [
             [
              0,
              "#0d0887"
             ],
             [
              0.1111111111111111,
              "#46039f"
             ],
             [
              0.2222222222222222,
              "#7201a8"
             ],
             [
              0.3333333333333333,
              "#9c179e"
             ],
             [
              0.4444444444444444,
              "#bd3786"
             ],
             [
              0.5555555555555556,
              "#d8576b"
             ],
             [
              0.6666666666666666,
              "#ed7953"
             ],
             [
              0.7777777777777778,
              "#fb9f3a"
             ],
             [
              0.8888888888888888,
              "#fdca26"
             ],
             [
              1,
              "#f0f921"
             ]
            ],
            "type": "histogram2dcontour"
           }
          ],
          "mesh3d": [
           {
            "colorbar": {
             "outlinewidth": 0,
             "ticks": ""
            },
            "type": "mesh3d"
           }
          ],
          "parcoords": [
           {
            "line": {
             "colorbar": {
              "outlinewidth": 0,
              "ticks": ""
             }
            },
            "type": "parcoords"
           }
          ],
          "pie": [
           {
            "automargin": true,
            "type": "pie"
           }
          ],
          "scatter": [
           {
            "marker": {
             "colorbar": {
              "outlinewidth": 0,
              "ticks": ""
             }
            },
            "type": "scatter"
           }
          ],
          "scatter3d": [
           {
            "line": {
             "colorbar": {
              "outlinewidth": 0,
              "ticks": ""
             }
            },
            "marker": {
             "colorbar": {
              "outlinewidth": 0,
              "ticks": ""
             }
            },
            "type": "scatter3d"
           }
          ],
          "scattercarpet": [
           {
            "marker": {
             "colorbar": {
              "outlinewidth": 0,
              "ticks": ""
             }
            },
            "type": "scattercarpet"
           }
          ],
          "scattergeo": [
           {
            "marker": {
             "colorbar": {
              "outlinewidth": 0,
              "ticks": ""
             }
            },
            "type": "scattergeo"
           }
          ],
          "scattergl": [
           {
            "marker": {
             "colorbar": {
              "outlinewidth": 0,
              "ticks": ""
             }
            },
            "type": "scattergl"
           }
          ],
          "scattermapbox": [
           {
            "marker": {
             "colorbar": {
              "outlinewidth": 0,
              "ticks": ""
             }
            },
            "type": "scattermapbox"
           }
          ],
          "scatterpolar": [
           {
            "marker": {
             "colorbar": {
              "outlinewidth": 0,
              "ticks": ""
             }
            },
            "type": "scatterpolar"
           }
          ],
          "scatterpolargl": [
           {
            "marker": {
             "colorbar": {
              "outlinewidth": 0,
              "ticks": ""
             }
            },
            "type": "scatterpolargl"
           }
          ],
          "scatterternary": [
           {
            "marker": {
             "colorbar": {
              "outlinewidth": 0,
              "ticks": ""
             }
            },
            "type": "scatterternary"
           }
          ],
          "surface": [
           {
            "colorbar": {
             "outlinewidth": 0,
             "ticks": ""
            },
            "colorscale": [
             [
              0,
              "#0d0887"
             ],
             [
              0.1111111111111111,
              "#46039f"
             ],
             [
              0.2222222222222222,
              "#7201a8"
             ],
             [
              0.3333333333333333,
              "#9c179e"
             ],
             [
              0.4444444444444444,
              "#bd3786"
             ],
             [
              0.5555555555555556,
              "#d8576b"
             ],
             [
              0.6666666666666666,
              "#ed7953"
             ],
             [
              0.7777777777777778,
              "#fb9f3a"
             ],
             [
              0.8888888888888888,
              "#fdca26"
             ],
             [
              1,
              "#f0f921"
             ]
            ],
            "type": "surface"
           }
          ],
          "table": [
           {
            "cells": {
             "fill": {
              "color": "#EBF0F8"
             },
             "line": {
              "color": "white"
             }
            },
            "header": {
             "fill": {
              "color": "#C8D4E3"
             },
             "line": {
              "color": "white"
             }
            },
            "type": "table"
           }
          ]
         },
         "layout": {
          "annotationdefaults": {
           "arrowcolor": "#2a3f5f",
           "arrowhead": 0,
           "arrowwidth": 1
          },
          "autotypenumbers": "strict",
          "coloraxis": {
           "colorbar": {
            "outlinewidth": 0,
            "ticks": ""
           }
          },
          "colorscale": {
           "diverging": [
            [
             0,
             "#8e0152"
            ],
            [
             0.1,
             "#c51b7d"
            ],
            [
             0.2,
             "#de77ae"
            ],
            [
             0.3,
             "#f1b6da"
            ],
            [
             0.4,
             "#fde0ef"
            ],
            [
             0.5,
             "#f7f7f7"
            ],
            [
             0.6,
             "#e6f5d0"
            ],
            [
             0.7,
             "#b8e186"
            ],
            [
             0.8,
             "#7fbc41"
            ],
            [
             0.9,
             "#4d9221"
            ],
            [
             1,
             "#276419"
            ]
           ],
           "sequential": [
            [
             0,
             "#0d0887"
            ],
            [
             0.1111111111111111,
             "#46039f"
            ],
            [
             0.2222222222222222,
             "#7201a8"
            ],
            [
             0.3333333333333333,
             "#9c179e"
            ],
            [
             0.4444444444444444,
             "#bd3786"
            ],
            [
             0.5555555555555556,
             "#d8576b"
            ],
            [
             0.6666666666666666,
             "#ed7953"
            ],
            [
             0.7777777777777778,
             "#fb9f3a"
            ],
            [
             0.8888888888888888,
             "#fdca26"
            ],
            [
             1,
             "#f0f921"
            ]
           ],
           "sequentialminus": [
            [
             0,
             "#0d0887"
            ],
            [
             0.1111111111111111,
             "#46039f"
            ],
            [
             0.2222222222222222,
             "#7201a8"
            ],
            [
             0.3333333333333333,
             "#9c179e"
            ],
            [
             0.4444444444444444,
             "#bd3786"
            ],
            [
             0.5555555555555556,
             "#d8576b"
            ],
            [
             0.6666666666666666,
             "#ed7953"
            ],
            [
             0.7777777777777778,
             "#fb9f3a"
            ],
            [
             0.8888888888888888,
             "#fdca26"
            ],
            [
             1,
             "#f0f921"
            ]
           ]
          },
          "colorway": [
           "#636efa",
           "#EF553B",
           "#00cc96",
           "#ab63fa",
           "#FFA15A",
           "#19d3f3",
           "#FF6692",
           "#B6E880",
           "#FF97FF",
           "#FECB52"
          ],
          "font": {
           "color": "#2a3f5f"
          },
          "geo": {
           "bgcolor": "white",
           "lakecolor": "white",
           "landcolor": "white",
           "showlakes": true,
           "showland": true,
           "subunitcolor": "#C8D4E3"
          },
          "hoverlabel": {
           "align": "left"
          },
          "hovermode": "closest",
          "mapbox": {
           "style": "light"
          },
          "paper_bgcolor": "white",
          "plot_bgcolor": "white",
          "polar": {
           "angularaxis": {
            "gridcolor": "#EBF0F8",
            "linecolor": "#EBF0F8",
            "ticks": ""
           },
           "bgcolor": "white",
           "radialaxis": {
            "gridcolor": "#EBF0F8",
            "linecolor": "#EBF0F8",
            "ticks": ""
           }
          },
          "scene": {
           "xaxis": {
            "backgroundcolor": "white",
            "gridcolor": "#DFE8F3",
            "gridwidth": 2,
            "linecolor": "#EBF0F8",
            "showbackground": true,
            "ticks": "",
            "zerolinecolor": "#EBF0F8"
           },
           "yaxis": {
            "backgroundcolor": "white",
            "gridcolor": "#DFE8F3",
            "gridwidth": 2,
            "linecolor": "#EBF0F8",
            "showbackground": true,
            "ticks": "",
            "zerolinecolor": "#EBF0F8"
           },
           "zaxis": {
            "backgroundcolor": "white",
            "gridcolor": "#DFE8F3",
            "gridwidth": 2,
            "linecolor": "#EBF0F8",
            "showbackground": true,
            "ticks": "",
            "zerolinecolor": "#EBF0F8"
           }
          },
          "shapedefaults": {
           "line": {
            "color": "#2a3f5f"
           }
          },
          "ternary": {
           "aaxis": {
            "gridcolor": "#DFE8F3",
            "linecolor": "#A2B1C6",
            "ticks": ""
           },
           "baxis": {
            "gridcolor": "#DFE8F3",
            "linecolor": "#A2B1C6",
            "ticks": ""
           },
           "bgcolor": "white",
           "caxis": {
            "gridcolor": "#DFE8F3",
            "linecolor": "#A2B1C6",
            "ticks": ""
           }
          },
          "title": {
           "x": 0.05
          },
          "xaxis": {
           "automargin": true,
           "gridcolor": "#EBF0F8",
           "linecolor": "#EBF0F8",
           "ticks": "",
           "title": {
            "standoff": 15
           },
           "zerolinecolor": "#EBF0F8",
           "zerolinewidth": 2
          },
          "yaxis": {
           "automargin": true,
           "gridcolor": "#EBF0F8",
           "linecolor": "#EBF0F8",
           "ticks": "",
           "title": {
            "standoff": 15
           },
           "zerolinecolor": "#EBF0F8",
           "zerolinewidth": 2
          }
         }
        },
        "title": {
         "text": "3D Surface of Second Derivative d²u/dy² (Sinusoidal Grid)"
        }
       }
      }
     },
     "metadata": {},
     "output_type": "display_data"
    },
    {
     "data": {
      "application/vnd.plotly.v1+json": {
       "config": {
        "plotlyServerURL": "https://plot.ly"
       },
       "data": [
        {
         "colorscale": [
          [
           0,
           "#440154"
          ],
          [
           0.1111111111111111,
           "#482878"
          ],
          [
           0.2222222222222222,
           "#3e4989"
          ],
          [
           0.3333333333333333,
           "#31688e"
          ],
          [
           0.4444444444444444,
           "#26828e"
          ],
          [
           0.5555555555555556,
           "#1f9e89"
          ],
          [
           0.6666666666666666,
           "#35b779"
          ],
          [
           0.7777777777777778,
           "#6ece58"
          ],
          [
           0.8888888888888888,
           "#b5de2b"
          ],
          [
           1,
           "#fde725"
          ]
         ],
         "type": "surface",
         "x": [
          [
           0,
           0.1111111111111111,
           0.2222222222222222,
           0.3333333333333333,
           0.4444444444444444,
           0.5555555555555556,
           0.6666666666666666,
           0.7777777777777777,
           0.8888888888888888,
           1
          ],
          [
           0,
           0.1111111111111111,
           0.2222222222222222,
           0.3333333333333333,
           0.4444444444444444,
           0.5555555555555556,
           0.6666666666666666,
           0.7777777777777777,
           0.8888888888888888,
           1
          ],
          [
           0,
           0.1111111111111111,
           0.2222222222222222,
           0.3333333333333333,
           0.4444444444444444,
           0.5555555555555556,
           0.6666666666666666,
           0.7777777777777777,
           0.8888888888888888,
           1
          ],
          [
           0,
           0.1111111111111111,
           0.2222222222222222,
           0.3333333333333333,
           0.4444444444444444,
           0.5555555555555556,
           0.6666666666666666,
           0.7777777777777777,
           0.8888888888888888,
           1
          ],
          [
           0,
           0.1111111111111111,
           0.2222222222222222,
           0.3333333333333333,
           0.4444444444444444,
           0.5555555555555556,
           0.6666666666666666,
           0.7777777777777777,
           0.8888888888888888,
           1
          ],
          [
           0,
           0.1111111111111111,
           0.2222222222222222,
           0.3333333333333333,
           0.4444444444444444,
           0.5555555555555556,
           0.6666666666666666,
           0.7777777777777777,
           0.8888888888888888,
           1
          ],
          [
           0,
           0.1111111111111111,
           0.2222222222222222,
           0.3333333333333333,
           0.4444444444444444,
           0.5555555555555556,
           0.6666666666666666,
           0.7777777777777777,
           0.8888888888888888,
           1
          ],
          [
           0,
           0.1111111111111111,
           0.2222222222222222,
           0.3333333333333333,
           0.4444444444444444,
           0.5555555555555556,
           0.6666666666666666,
           0.7777777777777777,
           0.8888888888888888,
           1
          ],
          [
           0,
           0.1111111111111111,
           0.2222222222222222,
           0.3333333333333333,
           0.4444444444444444,
           0.5555555555555556,
           0.6666666666666666,
           0.7777777777777777,
           0.8888888888888888,
           1
          ],
          [
           0,
           0.1111111111111111,
           0.2222222222222222,
           0.3333333333333333,
           0.4444444444444444,
           0.5555555555555556,
           0.6666666666666666,
           0.7777777777777777,
           0.8888888888888888,
           1
          ]
         ],
         "y": [
          [
           0,
           0,
           0,
           0,
           0,
           0,
           0,
           0,
           0,
           0
          ],
          [
           0.1111111111111111,
           0.1111111111111111,
           0.1111111111111111,
           0.1111111111111111,
           0.1111111111111111,
           0.1111111111111111,
           0.1111111111111111,
           0.1111111111111111,
           0.1111111111111111,
           0.1111111111111111
          ],
          [
           0.2222222222222222,
           0.2222222222222222,
           0.2222222222222222,
           0.2222222222222222,
           0.2222222222222222,
           0.2222222222222222,
           0.2222222222222222,
           0.2222222222222222,
           0.2222222222222222,
           0.2222222222222222
          ],
          [
           0.3333333333333333,
           0.3333333333333333,
           0.3333333333333333,
           0.3333333333333333,
           0.3333333333333333,
           0.3333333333333333,
           0.3333333333333333,
           0.3333333333333333,
           0.3333333333333333,
           0.3333333333333333
          ],
          [
           0.4444444444444444,
           0.4444444444444444,
           0.4444444444444444,
           0.4444444444444444,
           0.4444444444444444,
           0.4444444444444444,
           0.4444444444444444,
           0.4444444444444444,
           0.4444444444444444,
           0.4444444444444444
          ],
          [
           0.5555555555555556,
           0.5555555555555556,
           0.5555555555555556,
           0.5555555555555556,
           0.5555555555555556,
           0.5555555555555556,
           0.5555555555555556,
           0.5555555555555556,
           0.5555555555555556,
           0.5555555555555556
          ],
          [
           0.6666666666666666,
           0.6666666666666666,
           0.6666666666666666,
           0.6666666666666666,
           0.6666666666666666,
           0.6666666666666666,
           0.6666666666666666,
           0.6666666666666666,
           0.6666666666666666,
           0.6666666666666666
          ],
          [
           0.7777777777777777,
           0.7777777777777777,
           0.7777777777777777,
           0.7777777777777777,
           0.7777777777777777,
           0.7777777777777777,
           0.7777777777777777,
           0.7777777777777777,
           0.7777777777777777,
           0.7777777777777777
          ],
          [
           0.8888888888888888,
           0.8888888888888888,
           0.8888888888888888,
           0.8888888888888888,
           0.8888888888888888,
           0.8888888888888888,
           0.8888888888888888,
           0.8888888888888888,
           0.8888888888888888,
           0.8888888888888888
          ],
          [
           1,
           1,
           1,
           1,
           1,
           1,
           1,
           1,
           1,
           1
          ]
         ],
         "z": [
          [
           0,
           0,
           0,
           0,
           0,
           0,
           0,
           0,
           0,
           0
          ],
          [
           0,
           0,
           0,
           0,
           0,
           0,
           0,
           -4.996003610813204e-16,
           0,
           0
          ],
          [
           0,
           0,
           0,
           0,
           0,
           0,
           0,
           0,
           0,
           0
          ],
          [
           0,
           0,
           0,
           0,
           0,
           9.992007221626409e-16,
           0,
           1.9984014443252818e-15,
           0,
           9.992007221626409e-16
          ],
          [
           0,
           0,
           0,
           0,
           0,
           0,
           0,
           -4.996003610813204e-16,
           0,
           0
          ],
          [
           0,
           -2.498001805406602e-16,
           -4.996003610813204e-16,
           -9.992007221626409e-16,
           -9.992007221626409e-16,
           -1.9984014443252818e-15,
           -1.9984014443252818e-15,
           -4.496403249731884e-15,
           -1.9984014443252818e-15,
           -3.497202527569243e-15
          ],
          [
           0,
           0,
           0,
           0,
           0,
           0,
           0,
           9.992007221626409e-16,
           0,
           0
          ],
          [
           0,
           5.620504062164855e-16,
           1.124100812432971e-15,
           2.248201624865942e-15,
           2.248201624865942e-15,
           1.9984014443252818e-15,
           4.496403249731884e-15,
           5.495603971894525e-15,
           4.496403249731884e-15,
           4.496403249731884e-15
          ],
          [
           0,
           0,
           0,
           0,
           0,
           1.9984014443252818e-15,
           0,
           1.9984014443252818e-15,
           0,
           1.9984014443252818e-15
          ],
          [
           0,
           -6.245004513516506e-16,
           -1.2490009027033011e-15,
           -2.4980018054066022e-15,
           -2.4980018054066022e-15,
           1.9984014443252818e-15,
           -4.9960036108132044e-15,
           0,
           -4.9960036108132044e-15,
           0
          ]
         ]
        }
       ],
       "layout": {
        "scene": {
         "camera": {
          "eye": {
           "x": 1.5,
           "y": 1.5,
           "z": 1.5
          }
         },
         "xaxis": {
          "title": {
           "text": "X"
          }
         },
         "yaxis": {
          "title": {
           "text": "Y"
          }
         },
         "zaxis": {
          "title": {
           "text": "Value"
          }
         }
        },
        "template": {
         "data": {
          "bar": [
           {
            "error_x": {
             "color": "#2a3f5f"
            },
            "error_y": {
             "color": "#2a3f5f"
            },
            "marker": {
             "line": {
              "color": "white",
              "width": 0.5
             },
             "pattern": {
              "fillmode": "overlay",
              "size": 10,
              "solidity": 0.2
             }
            },
            "type": "bar"
           }
          ],
          "barpolar": [
           {
            "marker": {
             "line": {
              "color": "white",
              "width": 0.5
             },
             "pattern": {
              "fillmode": "overlay",
              "size": 10,
              "solidity": 0.2
             }
            },
            "type": "barpolar"
           }
          ],
          "carpet": [
           {
            "aaxis": {
             "endlinecolor": "#2a3f5f",
             "gridcolor": "#C8D4E3",
             "linecolor": "#C8D4E3",
             "minorgridcolor": "#C8D4E3",
             "startlinecolor": "#2a3f5f"
            },
            "baxis": {
             "endlinecolor": "#2a3f5f",
             "gridcolor": "#C8D4E3",
             "linecolor": "#C8D4E3",
             "minorgridcolor": "#C8D4E3",
             "startlinecolor": "#2a3f5f"
            },
            "type": "carpet"
           }
          ],
          "choropleth": [
           {
            "colorbar": {
             "outlinewidth": 0,
             "ticks": ""
            },
            "type": "choropleth"
           }
          ],
          "contour": [
           {
            "colorbar": {
             "outlinewidth": 0,
             "ticks": ""
            },
            "colorscale": [
             [
              0,
              "#0d0887"
             ],
             [
              0.1111111111111111,
              "#46039f"
             ],
             [
              0.2222222222222222,
              "#7201a8"
             ],
             [
              0.3333333333333333,
              "#9c179e"
             ],
             [
              0.4444444444444444,
              "#bd3786"
             ],
             [
              0.5555555555555556,
              "#d8576b"
             ],
             [
              0.6666666666666666,
              "#ed7953"
             ],
             [
              0.7777777777777778,
              "#fb9f3a"
             ],
             [
              0.8888888888888888,
              "#fdca26"
             ],
             [
              1,
              "#f0f921"
             ]
            ],
            "type": "contour"
           }
          ],
          "contourcarpet": [
           {
            "colorbar": {
             "outlinewidth": 0,
             "ticks": ""
            },
            "type": "contourcarpet"
           }
          ],
          "heatmap": [
           {
            "colorbar": {
             "outlinewidth": 0,
             "ticks": ""
            },
            "colorscale": [
             [
              0,
              "#0d0887"
             ],
             [
              0.1111111111111111,
              "#46039f"
             ],
             [
              0.2222222222222222,
              "#7201a8"
             ],
             [
              0.3333333333333333,
              "#9c179e"
             ],
             [
              0.4444444444444444,
              "#bd3786"
             ],
             [
              0.5555555555555556,
              "#d8576b"
             ],
             [
              0.6666666666666666,
              "#ed7953"
             ],
             [
              0.7777777777777778,
              "#fb9f3a"
             ],
             [
              0.8888888888888888,
              "#fdca26"
             ],
             [
              1,
              "#f0f921"
             ]
            ],
            "type": "heatmap"
           }
          ],
          "heatmapgl": [
           {
            "colorbar": {
             "outlinewidth": 0,
             "ticks": ""
            },
            "colorscale": [
             [
              0,
              "#0d0887"
             ],
             [
              0.1111111111111111,
              "#46039f"
             ],
             [
              0.2222222222222222,
              "#7201a8"
             ],
             [
              0.3333333333333333,
              "#9c179e"
             ],
             [
              0.4444444444444444,
              "#bd3786"
             ],
             [
              0.5555555555555556,
              "#d8576b"
             ],
             [
              0.6666666666666666,
              "#ed7953"
             ],
             [
              0.7777777777777778,
              "#fb9f3a"
             ],
             [
              0.8888888888888888,
              "#fdca26"
             ],
             [
              1,
              "#f0f921"
             ]
            ],
            "type": "heatmapgl"
           }
          ],
          "histogram": [
           {
            "marker": {
             "pattern": {
              "fillmode": "overlay",
              "size": 10,
              "solidity": 0.2
             }
            },
            "type": "histogram"
           }
          ],
          "histogram2d": [
           {
            "colorbar": {
             "outlinewidth": 0,
             "ticks": ""
            },
            "colorscale": [
             [
              0,
              "#0d0887"
             ],
             [
              0.1111111111111111,
              "#46039f"
             ],
             [
              0.2222222222222222,
              "#7201a8"
             ],
             [
              0.3333333333333333,
              "#9c179e"
             ],
             [
              0.4444444444444444,
              "#bd3786"
             ],
             [
              0.5555555555555556,
              "#d8576b"
             ],
             [
              0.6666666666666666,
              "#ed7953"
             ],
             [
              0.7777777777777778,
              "#fb9f3a"
             ],
             [
              0.8888888888888888,
              "#fdca26"
             ],
             [
              1,
              "#f0f921"
             ]
            ],
            "type": "histogram2d"
           }
          ],
          "histogram2dcontour": [
           {
            "colorbar": {
             "outlinewidth": 0,
             "ticks": ""
            },
            "colorscale": [
             [
              0,
              "#0d0887"
             ],
             [
              0.1111111111111111,
              "#46039f"
             ],
             [
              0.2222222222222222,
              "#7201a8"
             ],
             [
              0.3333333333333333,
              "#9c179e"
             ],
             [
              0.4444444444444444,
              "#bd3786"
             ],
             [
              0.5555555555555556,
              "#d8576b"
             ],
             [
              0.6666666666666666,
              "#ed7953"
             ],
             [
              0.7777777777777778,
              "#fb9f3a"
             ],
             [
              0.8888888888888888,
              "#fdca26"
             ],
             [
              1,
              "#f0f921"
             ]
            ],
            "type": "histogram2dcontour"
           }
          ],
          "mesh3d": [
           {
            "colorbar": {
             "outlinewidth": 0,
             "ticks": ""
            },
            "type": "mesh3d"
           }
          ],
          "parcoords": [
           {
            "line": {
             "colorbar": {
              "outlinewidth": 0,
              "ticks": ""
             }
            },
            "type": "parcoords"
           }
          ],
          "pie": [
           {
            "automargin": true,
            "type": "pie"
           }
          ],
          "scatter": [
           {
            "marker": {
             "colorbar": {
              "outlinewidth": 0,
              "ticks": ""
             }
            },
            "type": "scatter"
           }
          ],
          "scatter3d": [
           {
            "line": {
             "colorbar": {
              "outlinewidth": 0,
              "ticks": ""
             }
            },
            "marker": {
             "colorbar": {
              "outlinewidth": 0,
              "ticks": ""
             }
            },
            "type": "scatter3d"
           }
          ],
          "scattercarpet": [
           {
            "marker": {
             "colorbar": {
              "outlinewidth": 0,
              "ticks": ""
             }
            },
            "type": "scattercarpet"
           }
          ],
          "scattergeo": [
           {
            "marker": {
             "colorbar": {
              "outlinewidth": 0,
              "ticks": ""
             }
            },
            "type": "scattergeo"
           }
          ],
          "scattergl": [
           {
            "marker": {
             "colorbar": {
              "outlinewidth": 0,
              "ticks": ""
             }
            },
            "type": "scattergl"
           }
          ],
          "scattermapbox": [
           {
            "marker": {
             "colorbar": {
              "outlinewidth": 0,
              "ticks": ""
             }
            },
            "type": "scattermapbox"
           }
          ],
          "scatterpolar": [
           {
            "marker": {
             "colorbar": {
              "outlinewidth": 0,
              "ticks": ""
             }
            },
            "type": "scatterpolar"
           }
          ],
          "scatterpolargl": [
           {
            "marker": {
             "colorbar": {
              "outlinewidth": 0,
              "ticks": ""
             }
            },
            "type": "scatterpolargl"
           }
          ],
          "scatterternary": [
           {
            "marker": {
             "colorbar": {
              "outlinewidth": 0,
              "ticks": ""
             }
            },
            "type": "scatterternary"
           }
          ],
          "surface": [
           {
            "colorbar": {
             "outlinewidth": 0,
             "ticks": ""
            },
            "colorscale": [
             [
              0,
              "#0d0887"
             ],
             [
              0.1111111111111111,
              "#46039f"
             ],
             [
              0.2222222222222222,
              "#7201a8"
             ],
             [
              0.3333333333333333,
              "#9c179e"
             ],
             [
              0.4444444444444444,
              "#bd3786"
             ],
             [
              0.5555555555555556,
              "#d8576b"
             ],
             [
              0.6666666666666666,
              "#ed7953"
             ],
             [
              0.7777777777777778,
              "#fb9f3a"
             ],
             [
              0.8888888888888888,
              "#fdca26"
             ],
             [
              1,
              "#f0f921"
             ]
            ],
            "type": "surface"
           }
          ],
          "table": [
           {
            "cells": {
             "fill": {
              "color": "#EBF0F8"
             },
             "line": {
              "color": "white"
             }
            },
            "header": {
             "fill": {
              "color": "#C8D4E3"
             },
             "line": {
              "color": "white"
             }
            },
            "type": "table"
           }
          ]
         },
         "layout": {
          "annotationdefaults": {
           "arrowcolor": "#2a3f5f",
           "arrowhead": 0,
           "arrowwidth": 1
          },
          "autotypenumbers": "strict",
          "coloraxis": {
           "colorbar": {
            "outlinewidth": 0,
            "ticks": ""
           }
          },
          "colorscale": {
           "diverging": [
            [
             0,
             "#8e0152"
            ],
            [
             0.1,
             "#c51b7d"
            ],
            [
             0.2,
             "#de77ae"
            ],
            [
             0.3,
             "#f1b6da"
            ],
            [
             0.4,
             "#fde0ef"
            ],
            [
             0.5,
             "#f7f7f7"
            ],
            [
             0.6,
             "#e6f5d0"
            ],
            [
             0.7,
             "#b8e186"
            ],
            [
             0.8,
             "#7fbc41"
            ],
            [
             0.9,
             "#4d9221"
            ],
            [
             1,
             "#276419"
            ]
           ],
           "sequential": [
            [
             0,
             "#0d0887"
            ],
            [
             0.1111111111111111,
             "#46039f"
            ],
            [
             0.2222222222222222,
             "#7201a8"
            ],
            [
             0.3333333333333333,
             "#9c179e"
            ],
            [
             0.4444444444444444,
             "#bd3786"
            ],
            [
             0.5555555555555556,
             "#d8576b"
            ],
            [
             0.6666666666666666,
             "#ed7953"
            ],
            [
             0.7777777777777778,
             "#fb9f3a"
            ],
            [
             0.8888888888888888,
             "#fdca26"
            ],
            [
             1,
             "#f0f921"
            ]
           ],
           "sequentialminus": [
            [
             0,
             "#0d0887"
            ],
            [
             0.1111111111111111,
             "#46039f"
            ],
            [
             0.2222222222222222,
             "#7201a8"
            ],
            [
             0.3333333333333333,
             "#9c179e"
            ],
            [
             0.4444444444444444,
             "#bd3786"
            ],
            [
             0.5555555555555556,
             "#d8576b"
            ],
            [
             0.6666666666666666,
             "#ed7953"
            ],
            [
             0.7777777777777778,
             "#fb9f3a"
            ],
            [
             0.8888888888888888,
             "#fdca26"
            ],
            [
             1,
             "#f0f921"
            ]
           ]
          },
          "colorway": [
           "#636efa",
           "#EF553B",
           "#00cc96",
           "#ab63fa",
           "#FFA15A",
           "#19d3f3",
           "#FF6692",
           "#B6E880",
           "#FF97FF",
           "#FECB52"
          ],
          "font": {
           "color": "#2a3f5f"
          },
          "geo": {
           "bgcolor": "white",
           "lakecolor": "white",
           "landcolor": "white",
           "showlakes": true,
           "showland": true,
           "subunitcolor": "#C8D4E3"
          },
          "hoverlabel": {
           "align": "left"
          },
          "hovermode": "closest",
          "mapbox": {
           "style": "light"
          },
          "paper_bgcolor": "white",
          "plot_bgcolor": "white",
          "polar": {
           "angularaxis": {
            "gridcolor": "#EBF0F8",
            "linecolor": "#EBF0F8",
            "ticks": ""
           },
           "bgcolor": "white",
           "radialaxis": {
            "gridcolor": "#EBF0F8",
            "linecolor": "#EBF0F8",
            "ticks": ""
           }
          },
          "scene": {
           "xaxis": {
            "backgroundcolor": "white",
            "gridcolor": "#DFE8F3",
            "gridwidth": 2,
            "linecolor": "#EBF0F8",
            "showbackground": true,
            "ticks": "",
            "zerolinecolor": "#EBF0F8"
           },
           "yaxis": {
            "backgroundcolor": "white",
            "gridcolor": "#DFE8F3",
            "gridwidth": 2,
            "linecolor": "#EBF0F8",
            "showbackground": true,
            "ticks": "",
            "zerolinecolor": "#EBF0F8"
           },
           "zaxis": {
            "backgroundcolor": "white",
            "gridcolor": "#DFE8F3",
            "gridwidth": 2,
            "linecolor": "#EBF0F8",
            "showbackground": true,
            "ticks": "",
            "zerolinecolor": "#EBF0F8"
           }
          },
          "shapedefaults": {
           "line": {
            "color": "#2a3f5f"
           }
          },
          "ternary": {
           "aaxis": {
            "gridcolor": "#DFE8F3",
            "linecolor": "#A2B1C6",
            "ticks": ""
           },
           "baxis": {
            "gridcolor": "#DFE8F3",
            "linecolor": "#A2B1C6",
            "ticks": ""
           },
           "bgcolor": "white",
           "caxis": {
            "gridcolor": "#DFE8F3",
            "linecolor": "#A2B1C6",
            "ticks": ""
           }
          },
          "title": {
           "x": 0.05
          },
          "xaxis": {
           "automargin": true,
           "gridcolor": "#EBF0F8",
           "linecolor": "#EBF0F8",
           "ticks": "",
           "title": {
            "standoff": 15
           },
           "zerolinecolor": "#EBF0F8",
           "zerolinewidth": 2
          },
          "yaxis": {
           "automargin": true,
           "gridcolor": "#EBF0F8",
           "linecolor": "#EBF0F8",
           "ticks": "",
           "title": {
            "standoff": 15
           },
           "zerolinecolor": "#EBF0F8",
           "zerolinewidth": 2
          }
         }
        },
        "title": {
         "text": "3D Surface of Second Derivative d²u/dx² (Linear Grid)"
        }
       }
      }
     },
     "metadata": {},
     "output_type": "display_data"
    },
    {
     "data": {
      "application/vnd.plotly.v1+json": {
       "config": {
        "plotlyServerURL": "https://plot.ly"
       },
       "data": [
        {
         "colorscale": [
          [
           0,
           "#440154"
          ],
          [
           0.1111111111111111,
           "#482878"
          ],
          [
           0.2222222222222222,
           "#3e4989"
          ],
          [
           0.3333333333333333,
           "#31688e"
          ],
          [
           0.4444444444444444,
           "#26828e"
          ],
          [
           0.5555555555555556,
           "#1f9e89"
          ],
          [
           0.6666666666666666,
           "#35b779"
          ],
          [
           0.7777777777777778,
           "#6ece58"
          ],
          [
           0.8888888888888888,
           "#b5de2b"
          ],
          [
           1,
           "#fde725"
          ]
         ],
         "type": "surface",
         "x": [
          [
           0,
           0.1111111111111111,
           0.2222222222222222,
           0.3333333333333333,
           0.4444444444444444,
           0.5555555555555556,
           0.6666666666666666,
           0.7777777777777777,
           0.8888888888888888,
           1
          ],
          [
           0,
           0.1111111111111111,
           0.2222222222222222,
           0.3333333333333333,
           0.4444444444444444,
           0.5555555555555556,
           0.6666666666666666,
           0.7777777777777777,
           0.8888888888888888,
           1
          ],
          [
           0,
           0.1111111111111111,
           0.2222222222222222,
           0.3333333333333333,
           0.4444444444444444,
           0.5555555555555556,
           0.6666666666666666,
           0.7777777777777777,
           0.8888888888888888,
           1
          ],
          [
           0,
           0.1111111111111111,
           0.2222222222222222,
           0.3333333333333333,
           0.4444444444444444,
           0.5555555555555556,
           0.6666666666666666,
           0.7777777777777777,
           0.8888888888888888,
           1
          ],
          [
           0,
           0.1111111111111111,
           0.2222222222222222,
           0.3333333333333333,
           0.4444444444444444,
           0.5555555555555556,
           0.6666666666666666,
           0.7777777777777777,
           0.8888888888888888,
           1
          ],
          [
           0,
           0.1111111111111111,
           0.2222222222222222,
           0.3333333333333333,
           0.4444444444444444,
           0.5555555555555556,
           0.6666666666666666,
           0.7777777777777777,
           0.8888888888888888,
           1
          ],
          [
           0,
           0.1111111111111111,
           0.2222222222222222,
           0.3333333333333333,
           0.4444444444444444,
           0.5555555555555556,
           0.6666666666666666,
           0.7777777777777777,
           0.8888888888888888,
           1
          ],
          [
           0,
           0.1111111111111111,
           0.2222222222222222,
           0.3333333333333333,
           0.4444444444444444,
           0.5555555555555556,
           0.6666666666666666,
           0.7777777777777777,
           0.8888888888888888,
           1
          ],
          [
           0,
           0.1111111111111111,
           0.2222222222222222,
           0.3333333333333333,
           0.4444444444444444,
           0.5555555555555556,
           0.6666666666666666,
           0.7777777777777777,
           0.8888888888888888,
           1
          ],
          [
           0,
           0.1111111111111111,
           0.2222222222222222,
           0.3333333333333333,
           0.4444444444444444,
           0.5555555555555556,
           0.6666666666666666,
           0.7777777777777777,
           0.8888888888888888,
           1
          ]
         ],
         "y": [
          [
           0,
           0,
           0,
           0,
           0,
           0,
           0,
           0,
           0,
           0
          ],
          [
           0.1111111111111111,
           0.1111111111111111,
           0.1111111111111111,
           0.1111111111111111,
           0.1111111111111111,
           0.1111111111111111,
           0.1111111111111111,
           0.1111111111111111,
           0.1111111111111111,
           0.1111111111111111
          ],
          [
           0.2222222222222222,
           0.2222222222222222,
           0.2222222222222222,
           0.2222222222222222,
           0.2222222222222222,
           0.2222222222222222,
           0.2222222222222222,
           0.2222222222222222,
           0.2222222222222222,
           0.2222222222222222
          ],
          [
           0.3333333333333333,
           0.3333333333333333,
           0.3333333333333333,
           0.3333333333333333,
           0.3333333333333333,
           0.3333333333333333,
           0.3333333333333333,
           0.3333333333333333,
           0.3333333333333333,
           0.3333333333333333
          ],
          [
           0.4444444444444444,
           0.4444444444444444,
           0.4444444444444444,
           0.4444444444444444,
           0.4444444444444444,
           0.4444444444444444,
           0.4444444444444444,
           0.4444444444444444,
           0.4444444444444444,
           0.4444444444444444
          ],
          [
           0.5555555555555556,
           0.5555555555555556,
           0.5555555555555556,
           0.5555555555555556,
           0.5555555555555556,
           0.5555555555555556,
           0.5555555555555556,
           0.5555555555555556,
           0.5555555555555556,
           0.5555555555555556
          ],
          [
           0.6666666666666666,
           0.6666666666666666,
           0.6666666666666666,
           0.6666666666666666,
           0.6666666666666666,
           0.6666666666666666,
           0.6666666666666666,
           0.6666666666666666,
           0.6666666666666666,
           0.6666666666666666
          ],
          [
           0.7777777777777777,
           0.7777777777777777,
           0.7777777777777777,
           0.7777777777777777,
           0.7777777777777777,
           0.7777777777777777,
           0.7777777777777777,
           0.7777777777777777,
           0.7777777777777777,
           0.7777777777777777
          ],
          [
           0.8888888888888888,
           0.8888888888888888,
           0.8888888888888888,
           0.8888888888888888,
           0.8888888888888888,
           0.8888888888888888,
           0.8888888888888888,
           0.8888888888888888,
           0.8888888888888888,
           0.8888888888888888
          ],
          [
           1,
           1,
           1,
           1,
           1,
           1,
           1,
           1,
           1,
           1
          ]
         ],
         "z": [
          [
           0,
           0,
           0,
           0,
           0,
           0,
           0,
           0,
           0,
           0
          ],
          [
           0,
           0,
           0,
           0,
           0,
           -2.498001805406602e-16,
           0,
           5.620504062164855e-16,
           0,
           -6.245004513516506e-16
          ],
          [
           0,
           0,
           0,
           0,
           0,
           -4.996003610813204e-16,
           0,
           1.124100812432971e-15,
           0,
           -1.2490009027033011e-15
          ],
          [
           0,
           0,
           0,
           0,
           0,
           -9.992007221626409e-16,
           0,
           2.248201624865942e-15,
           0,
           -2.4980018054066022e-15
          ],
          [
           0,
           0,
           0,
           0,
           0,
           -9.992007221626409e-16,
           0,
           2.248201624865942e-15,
           0,
           -2.4980018054066022e-15
          ],
          [
           0,
           0,
           0,
           9.992007221626409e-16,
           0,
           -1.9984014443252818e-15,
           0,
           1.9984014443252818e-15,
           1.9984014443252818e-15,
           1.9984014443252818e-15
          ],
          [
           0,
           0,
           0,
           0,
           0,
           -1.9984014443252818e-15,
           0,
           4.496403249731884e-15,
           0,
           -4.9960036108132044e-15
          ],
          [
           0,
           -4.996003610813204e-16,
           0,
           1.9984014443252818e-15,
           -4.996003610813204e-16,
           -4.496403249731884e-15,
           9.992007221626409e-16,
           5.495603971894525e-15,
           1.9984014443252818e-15,
           0
          ],
          [
           0,
           0,
           0,
           0,
           0,
           -1.9984014443252818e-15,
           0,
           4.496403249731884e-15,
           0,
           -4.9960036108132044e-15
          ],
          [
           0,
           0,
           0,
           9.992007221626409e-16,
           0,
           -3.497202527569243e-15,
           0,
           4.496403249731884e-15,
           1.9984014443252818e-15,
           0
          ]
         ]
        }
       ],
       "layout": {
        "scene": {
         "camera": {
          "eye": {
           "x": 1.5,
           "y": 1.5,
           "z": 1.5
          }
         },
         "xaxis": {
          "title": {
           "text": "X"
          }
         },
         "yaxis": {
          "title": {
           "text": "Y"
          }
         },
         "zaxis": {
          "title": {
           "text": "Value"
          }
         }
        },
        "template": {
         "data": {
          "bar": [
           {
            "error_x": {
             "color": "#2a3f5f"
            },
            "error_y": {
             "color": "#2a3f5f"
            },
            "marker": {
             "line": {
              "color": "white",
              "width": 0.5
             },
             "pattern": {
              "fillmode": "overlay",
              "size": 10,
              "solidity": 0.2
             }
            },
            "type": "bar"
           }
          ],
          "barpolar": [
           {
            "marker": {
             "line": {
              "color": "white",
              "width": 0.5
             },
             "pattern": {
              "fillmode": "overlay",
              "size": 10,
              "solidity": 0.2
             }
            },
            "type": "barpolar"
           }
          ],
          "carpet": [
           {
            "aaxis": {
             "endlinecolor": "#2a3f5f",
             "gridcolor": "#C8D4E3",
             "linecolor": "#C8D4E3",
             "minorgridcolor": "#C8D4E3",
             "startlinecolor": "#2a3f5f"
            },
            "baxis": {
             "endlinecolor": "#2a3f5f",
             "gridcolor": "#C8D4E3",
             "linecolor": "#C8D4E3",
             "minorgridcolor": "#C8D4E3",
             "startlinecolor": "#2a3f5f"
            },
            "type": "carpet"
           }
          ],
          "choropleth": [
           {
            "colorbar": {
             "outlinewidth": 0,
             "ticks": ""
            },
            "type": "choropleth"
           }
          ],
          "contour": [
           {
            "colorbar": {
             "outlinewidth": 0,
             "ticks": ""
            },
            "colorscale": [
             [
              0,
              "#0d0887"
             ],
             [
              0.1111111111111111,
              "#46039f"
             ],
             [
              0.2222222222222222,
              "#7201a8"
             ],
             [
              0.3333333333333333,
              "#9c179e"
             ],
             [
              0.4444444444444444,
              "#bd3786"
             ],
             [
              0.5555555555555556,
              "#d8576b"
             ],
             [
              0.6666666666666666,
              "#ed7953"
             ],
             [
              0.7777777777777778,
              "#fb9f3a"
             ],
             [
              0.8888888888888888,
              "#fdca26"
             ],
             [
              1,
              "#f0f921"
             ]
            ],
            "type": "contour"
           }
          ],
          "contourcarpet": [
           {
            "colorbar": {
             "outlinewidth": 0,
             "ticks": ""
            },
            "type": "contourcarpet"
           }
          ],
          "heatmap": [
           {
            "colorbar": {
             "outlinewidth": 0,
             "ticks": ""
            },
            "colorscale": [
             [
              0,
              "#0d0887"
             ],
             [
              0.1111111111111111,
              "#46039f"
             ],
             [
              0.2222222222222222,
              "#7201a8"
             ],
             [
              0.3333333333333333,
              "#9c179e"
             ],
             [
              0.4444444444444444,
              "#bd3786"
             ],
             [
              0.5555555555555556,
              "#d8576b"
             ],
             [
              0.6666666666666666,
              "#ed7953"
             ],
             [
              0.7777777777777778,
              "#fb9f3a"
             ],
             [
              0.8888888888888888,
              "#fdca26"
             ],
             [
              1,
              "#f0f921"
             ]
            ],
            "type": "heatmap"
           }
          ],
          "heatmapgl": [
           {
            "colorbar": {
             "outlinewidth": 0,
             "ticks": ""
            },
            "colorscale": [
             [
              0,
              "#0d0887"
             ],
             [
              0.1111111111111111,
              "#46039f"
             ],
             [
              0.2222222222222222,
              "#7201a8"
             ],
             [
              0.3333333333333333,
              "#9c179e"
             ],
             [
              0.4444444444444444,
              "#bd3786"
             ],
             [
              0.5555555555555556,
              "#d8576b"
             ],
             [
              0.6666666666666666,
              "#ed7953"
             ],
             [
              0.7777777777777778,
              "#fb9f3a"
             ],
             [
              0.8888888888888888,
              "#fdca26"
             ],
             [
              1,
              "#f0f921"
             ]
            ],
            "type": "heatmapgl"
           }
          ],
          "histogram": [
           {
            "marker": {
             "pattern": {
              "fillmode": "overlay",
              "size": 10,
              "solidity": 0.2
             }
            },
            "type": "histogram"
           }
          ],
          "histogram2d": [
           {
            "colorbar": {
             "outlinewidth": 0,
             "ticks": ""
            },
            "colorscale": [
             [
              0,
              "#0d0887"
             ],
             [
              0.1111111111111111,
              "#46039f"
             ],
             [
              0.2222222222222222,
              "#7201a8"
             ],
             [
              0.3333333333333333,
              "#9c179e"
             ],
             [
              0.4444444444444444,
              "#bd3786"
             ],
             [
              0.5555555555555556,
              "#d8576b"
             ],
             [
              0.6666666666666666,
              "#ed7953"
             ],
             [
              0.7777777777777778,
              "#fb9f3a"
             ],
             [
              0.8888888888888888,
              "#fdca26"
             ],
             [
              1,
              "#f0f921"
             ]
            ],
            "type": "histogram2d"
           }
          ],
          "histogram2dcontour": [
           {
            "colorbar": {
             "outlinewidth": 0,
             "ticks": ""
            },
            "colorscale": [
             [
              0,
              "#0d0887"
             ],
             [
              0.1111111111111111,
              "#46039f"
             ],
             [
              0.2222222222222222,
              "#7201a8"
             ],
             [
              0.3333333333333333,
              "#9c179e"
             ],
             [
              0.4444444444444444,
              "#bd3786"
             ],
             [
              0.5555555555555556,
              "#d8576b"
             ],
             [
              0.6666666666666666,
              "#ed7953"
             ],
             [
              0.7777777777777778,
              "#fb9f3a"
             ],
             [
              0.8888888888888888,
              "#fdca26"
             ],
             [
              1,
              "#f0f921"
             ]
            ],
            "type": "histogram2dcontour"
           }
          ],
          "mesh3d": [
           {
            "colorbar": {
             "outlinewidth": 0,
             "ticks": ""
            },
            "type": "mesh3d"
           }
          ],
          "parcoords": [
           {
            "line": {
             "colorbar": {
              "outlinewidth": 0,
              "ticks": ""
             }
            },
            "type": "parcoords"
           }
          ],
          "pie": [
           {
            "automargin": true,
            "type": "pie"
           }
          ],
          "scatter": [
           {
            "marker": {
             "colorbar": {
              "outlinewidth": 0,
              "ticks": ""
             }
            },
            "type": "scatter"
           }
          ],
          "scatter3d": [
           {
            "line": {
             "colorbar": {
              "outlinewidth": 0,
              "ticks": ""
             }
            },
            "marker": {
             "colorbar": {
              "outlinewidth": 0,
              "ticks": ""
             }
            },
            "type": "scatter3d"
           }
          ],
          "scattercarpet": [
           {
            "marker": {
             "colorbar": {
              "outlinewidth": 0,
              "ticks": ""
             }
            },
            "type": "scattercarpet"
           }
          ],
          "scattergeo": [
           {
            "marker": {
             "colorbar": {
              "outlinewidth": 0,
              "ticks": ""
             }
            },
            "type": "scattergeo"
           }
          ],
          "scattergl": [
           {
            "marker": {
             "colorbar": {
              "outlinewidth": 0,
              "ticks": ""
             }
            },
            "type": "scattergl"
           }
          ],
          "scattermapbox": [
           {
            "marker": {
             "colorbar": {
              "outlinewidth": 0,
              "ticks": ""
             }
            },
            "type": "scattermapbox"
           }
          ],
          "scatterpolar": [
           {
            "marker": {
             "colorbar": {
              "outlinewidth": 0,
              "ticks": ""
             }
            },
            "type": "scatterpolar"
           }
          ],
          "scatterpolargl": [
           {
            "marker": {
             "colorbar": {
              "outlinewidth": 0,
              "ticks": ""
             }
            },
            "type": "scatterpolargl"
           }
          ],
          "scatterternary": [
           {
            "marker": {
             "colorbar": {
              "outlinewidth": 0,
              "ticks": ""
             }
            },
            "type": "scatterternary"
           }
          ],
          "surface": [
           {
            "colorbar": {
             "outlinewidth": 0,
             "ticks": ""
            },
            "colorscale": [
             [
              0,
              "#0d0887"
             ],
             [
              0.1111111111111111,
              "#46039f"
             ],
             [
              0.2222222222222222,
              "#7201a8"
             ],
             [
              0.3333333333333333,
              "#9c179e"
             ],
             [
              0.4444444444444444,
              "#bd3786"
             ],
             [
              0.5555555555555556,
              "#d8576b"
             ],
             [
              0.6666666666666666,
              "#ed7953"
             ],
             [
              0.7777777777777778,
              "#fb9f3a"
             ],
             [
              0.8888888888888888,
              "#fdca26"
             ],
             [
              1,
              "#f0f921"
             ]
            ],
            "type": "surface"
           }
          ],
          "table": [
           {
            "cells": {
             "fill": {
              "color": "#EBF0F8"
             },
             "line": {
              "color": "white"
             }
            },
            "header": {
             "fill": {
              "color": "#C8D4E3"
             },
             "line": {
              "color": "white"
             }
            },
            "type": "table"
           }
          ]
         },
         "layout": {
          "annotationdefaults": {
           "arrowcolor": "#2a3f5f",
           "arrowhead": 0,
           "arrowwidth": 1
          },
          "autotypenumbers": "strict",
          "coloraxis": {
           "colorbar": {
            "outlinewidth": 0,
            "ticks": ""
           }
          },
          "colorscale": {
           "diverging": [
            [
             0,
             "#8e0152"
            ],
            [
             0.1,
             "#c51b7d"
            ],
            [
             0.2,
             "#de77ae"
            ],
            [
             0.3,
             "#f1b6da"
            ],
            [
             0.4,
             "#fde0ef"
            ],
            [
             0.5,
             "#f7f7f7"
            ],
            [
             0.6,
             "#e6f5d0"
            ],
            [
             0.7,
             "#b8e186"
            ],
            [
             0.8,
             "#7fbc41"
            ],
            [
             0.9,
             "#4d9221"
            ],
            [
             1,
             "#276419"
            ]
           ],
           "sequential": [
            [
             0,
             "#0d0887"
            ],
            [
             0.1111111111111111,
             "#46039f"
            ],
            [
             0.2222222222222222,
             "#7201a8"
            ],
            [
             0.3333333333333333,
             "#9c179e"
            ],
            [
             0.4444444444444444,
             "#bd3786"
            ],
            [
             0.5555555555555556,
             "#d8576b"
            ],
            [
             0.6666666666666666,
             "#ed7953"
            ],
            [
             0.7777777777777778,
             "#fb9f3a"
            ],
            [
             0.8888888888888888,
             "#fdca26"
            ],
            [
             1,
             "#f0f921"
            ]
           ],
           "sequentialminus": [
            [
             0,
             "#0d0887"
            ],
            [
             0.1111111111111111,
             "#46039f"
            ],
            [
             0.2222222222222222,
             "#7201a8"
            ],
            [
             0.3333333333333333,
             "#9c179e"
            ],
            [
             0.4444444444444444,
             "#bd3786"
            ],
            [
             0.5555555555555556,
             "#d8576b"
            ],
            [
             0.6666666666666666,
             "#ed7953"
            ],
            [
             0.7777777777777778,
             "#fb9f3a"
            ],
            [
             0.8888888888888888,
             "#fdca26"
            ],
            [
             1,
             "#f0f921"
            ]
           ]
          },
          "colorway": [
           "#636efa",
           "#EF553B",
           "#00cc96",
           "#ab63fa",
           "#FFA15A",
           "#19d3f3",
           "#FF6692",
           "#B6E880",
           "#FF97FF",
           "#FECB52"
          ],
          "font": {
           "color": "#2a3f5f"
          },
          "geo": {
           "bgcolor": "white",
           "lakecolor": "white",
           "landcolor": "white",
           "showlakes": true,
           "showland": true,
           "subunitcolor": "#C8D4E3"
          },
          "hoverlabel": {
           "align": "left"
          },
          "hovermode": "closest",
          "mapbox": {
           "style": "light"
          },
          "paper_bgcolor": "white",
          "plot_bgcolor": "white",
          "polar": {
           "angularaxis": {
            "gridcolor": "#EBF0F8",
            "linecolor": "#EBF0F8",
            "ticks": ""
           },
           "bgcolor": "white",
           "radialaxis": {
            "gridcolor": "#EBF0F8",
            "linecolor": "#EBF0F8",
            "ticks": ""
           }
          },
          "scene": {
           "xaxis": {
            "backgroundcolor": "white",
            "gridcolor": "#DFE8F3",
            "gridwidth": 2,
            "linecolor": "#EBF0F8",
            "showbackground": true,
            "ticks": "",
            "zerolinecolor": "#EBF0F8"
           },
           "yaxis": {
            "backgroundcolor": "white",
            "gridcolor": "#DFE8F3",
            "gridwidth": 2,
            "linecolor": "#EBF0F8",
            "showbackground": true,
            "ticks": "",
            "zerolinecolor": "#EBF0F8"
           },
           "zaxis": {
            "backgroundcolor": "white",
            "gridcolor": "#DFE8F3",
            "gridwidth": 2,
            "linecolor": "#EBF0F8",
            "showbackground": true,
            "ticks": "",
            "zerolinecolor": "#EBF0F8"
           }
          },
          "shapedefaults": {
           "line": {
            "color": "#2a3f5f"
           }
          },
          "ternary": {
           "aaxis": {
            "gridcolor": "#DFE8F3",
            "linecolor": "#A2B1C6",
            "ticks": ""
           },
           "baxis": {
            "gridcolor": "#DFE8F3",
            "linecolor": "#A2B1C6",
            "ticks": ""
           },
           "bgcolor": "white",
           "caxis": {
            "gridcolor": "#DFE8F3",
            "linecolor": "#A2B1C6",
            "ticks": ""
           }
          },
          "title": {
           "x": 0.05
          },
          "xaxis": {
           "automargin": true,
           "gridcolor": "#EBF0F8",
           "linecolor": "#EBF0F8",
           "ticks": "",
           "title": {
            "standoff": 15
           },
           "zerolinecolor": "#EBF0F8",
           "zerolinewidth": 2
          },
          "yaxis": {
           "automargin": true,
           "gridcolor": "#EBF0F8",
           "linecolor": "#EBF0F8",
           "ticks": "",
           "title": {
            "standoff": 15
           },
           "zerolinecolor": "#EBF0F8",
           "zerolinewidth": 2
          }
         }
        },
        "title": {
         "text": "3D Surface of Second Derivative d²u/dy² (Linear Grid)"
        }
       }
      }
     },
     "metadata": {},
     "output_type": "display_data"
    }
   ],
   "source": [
    "# Step 2: Finite difference formula for the second order derivative using gradient\n",
    "def finite_difference_2d(u, hx, hy):\n",
    "    # Compute the gradient\n",
    "    grad_u = np.gradient(u, hx, hy)\n",
    "    \n",
    "    # Second derivative in x direction\n",
    "    d2u_dx2 = np.gradient(grad_u[0], hx, axis=0)  # Gradient in x direction\n",
    "    # Second derivative in y direction\n",
    "    d2u_dy2 = np.gradient(grad_u[1], hy, axis=1)  # Gradient in y direction\n",
    "    \n",
    "    return d2u_dx2, d2u_dy2\n",
    "\n",
    "# Example usage\n",
    "hx = 1 / (Nx - 1)\n",
    "hy = 1 / (Ny - 1)\n",
    "\n",
    "# Test 1: Zero grid\n",
    "u1 = np.zeros((Nx, Ny))  # Example grid\n",
    "d2u_dx2_1, d2u_dy2_1 = finite_difference_2d(u1, hx, hy)\n",
    "\n",
    "# Test 2: Sinusoidal grid\n",
    "u2 = np.sin(np.pi * np.linspace(0, 1, Nx)[:, None]) * np.sin(np.pi * np.linspace(0, 1, Ny))  # 2D sinusoidal function\n",
    "d2u_dx2_2, d2u_dy2_2 = finite_difference_2d(u2, hx, hy)\n",
    "\n",
    "# Test 3: Linear grid\n",
    "u3 = np.linspace(0, 1, Nx)[:, None] * np.linspace(0, 1, Ny)  # 2D linear function\n",
    "d2u_dx2_3, d2u_dy2_3 = finite_difference_2d(u3, hx, hy)\n",
    "\n",
    "# Function to create 3D surface plots\n",
    "def plot_3d_surface(X, Y, Z, title):\n",
    "    fig = go.Figure(data=[go.Surface(z=Z, x=X, y=Y, colorscale='Viridis')])\n",
    "    fig.update_layout(\n",
    "        title=title,\n",
    "        scene=dict(\n",
    "            xaxis_title='X',\n",
    "            yaxis_title='Y',\n",
    "            zaxis_title='Value',\n",
    "            camera=dict(eye=dict(x=1.5, y=1.5, z=1.5))\n",
    "        ),\n",
    "        template='plotly_white'\n",
    "    )\n",
    "    fig.show()\n",
    "\n",
    "# Create meshgrid for plotting\n",
    "X, Y = np.meshgrid(np.linspace(0, 1, Nx), np.linspace(0, 1, Ny))\n",
    "\n",
    "# Plot results for Test 1\n",
    "plot_3d_surface(X, Y, d2u_dx2_1, '3D Surface of Second Derivative d²u/dx² (Zero Grid)')\n",
    "plot_3d_surface(X, Y, d2u_dy2_1, '3D Surface of Second Derivative d²u/dy² (Zero Grid)')\n",
    "\n",
    "# Plot results for Test 2\n",
    "plot_3d_surface(X, Y, d2u_dx2_2, '3D Surface of Second Derivative d²u/dx² (Sinusoidal Grid)')\n",
    "plot_3d_surface(X, Y, d2u_dy2_2, '3D Surface of Second Derivative d²u/dy² (Sinusoidal Grid)')\n",
    "\n",
    "# Plot results for Test 3\n",
    "plot_3d_surface(X, Y, d2u_dx2_3, '3D Surface of Second Derivative d²u/dx² (Linear Grid)')\n",
    "plot_3d_surface(X, Y, d2u_dy2_3, '3D Surface of Second Derivative d²u/dy² (Linear Grid)')"
   ]
  },
  {
   "cell_type": "markdown",
   "metadata": {},
   "source": [
    "3. Combine the two partial derivatives and write an explicit form of the discrete Laplacian in terms of the grid points. Use the notation shorthand $u_{i j}=u\\left(x_i, y_j\\right)$ for the unknowns. What simplification do you obtain with an uniform grid?\n"
   ]
  },
  {
   "cell_type": "markdown",
   "metadata": {},
   "source": [
    "### Extended Interpretation of the Discrete Laplacian\n",
    "\n",
    "The discrete Laplacian derived above is a **central difference approximation** to the continuous Laplacian operator \\(\\Delta u = \\frac{\\partial^2 u}{\\partial x^2} + \\frac{\\partial^2 u}{\\partial y^2}\\). This approximation is commonly used in **finite difference methods** to solve partial differential equations (PDEs) numerically. Below, we provide a detailed interpretation of its components and applications:\n",
    "\n",
    "---\n",
    "\n",
    "#### 1. **Structure of the Discrete Laplacian**\n",
    "- The discrete Laplacian uses a **5-point stencil**, which means the value of \\(\\Delta u_{i,j}\\) at the grid point \\((i,j)\\) is computed using the function values at five neighboring points:\n",
    "  - \\(u_{i+1,j}\\) (right neighbor),\n",
    "  - \\(u_{i-1,j}\\) (left neighbor),\n",
    "  - \\(u_{i,j+1}\\) (top neighbor),\n",
    "  - \\(u_{i,j-1}\\) (bottom neighbor),\n",
    "  - and \\(u_{i,j}\\) (the central point itself).\n",
    "- These values are combined linearly with appropriate weights, such that the central point \\(u_{i,j}\\) is penalized by \\(-4\\) times its value, while each neighbor contributes \\(+1\\).\n",
    "\n",
    "This structure reflects how the value of a function at one grid point is influenced by its immediate surroundings, capturing the local curvature of the function.\n",
    "\n",
    "---\n",
    "\n",
    "#### 2. **Physical Interpretation**\n",
    "The Laplacian operator represents the divergence of the gradient (or the flux) of a function. It measures how the value of a function at a point differs from its surroundings. Physically, this operator is associated with diffusion, heat flow, and wave propagation:\n",
    "\n",
    "- In **heat transfer** problems, the Laplacian models the rate at which heat spreads out from a point.\n",
    "- In **fluid dynamics**, it describes the diffusion of substances or momentum within a fluid.\n",
    "- In **electromagnetism**, the Laplacian appears in Poisson's equation for electrostatics, modeling how charges distribute in space.\n",
    "\n",
    "The discrete Laplacian provides a numerical approximation to this concept, enabling the simulation of such physical processes on a computational grid.\n",
    "\n",
    "---\n",
    "\n",
    "#### 3. **Simplification from a Uniform Grid**\n",
    "The assumption of a uniform grid (\\(h = \\Delta x = \\Delta y\\)) simplifies the numerical representation:\n",
    "- All grid cells are square and equally spaced, leading to symmetry in the discrete Laplacian.\n",
    "- The factor \\(\\frac{1}{h^2}\\) accounts for the uniform spacing and ensures dimensional consistency.\n",
    "- This uniformity avoids the need for additional weighting or adjustments, as would be required for non-uniform grids.\n",
    "\n",
    "The symmetry of the uniform grid also ensures that the discrete Laplacian preserves the properties of the continuous Laplacian, such as consistency and stability under smooth changes.\n",
    "\n",
    "---\n",
    "\n",
    "#### 4. **Error and Accuracy**\n",
    "The discrete Laplacian introduces a **truncation error** due to the finite difference approximation. Specifically:\n",
    "- The central difference approximation for the second derivative is second-order accurate, meaning the error decreases as \\(O(h^2)\\) when the grid spacing \\(h\\) becomes smaller.\n",
    "- For sufficiently small \\(h\\), the discrete Laplacian closely approximates the continuous Laplacian, making it a reliable tool for numerical simulations.\n",
    "\n",
    "---\n",
    "\n",
    "#### 5. **Applications**\n",
    "The discrete Laplacian is a cornerstone of numerical methods for solving PDEs. Some key applications include:\n",
    "\n",
    "1. **Heat Equation (Diffusion)**\n",
    "   - The Laplacian models the diffusion of heat in a material. For example, in the equation:\n",
    "     \\[\n",
    "     \\frac{\\partial u}{\\partial t} = \\alpha \\Delta u,\n",
    "     \\]\n",
    "     the discrete Laplacian is used to compute the spatial component, while time derivatives are handled with time-stepping schemes.\n",
    "\n",
    "2. **Poisson's Equation**\n",
    "   - In problems involving electrostatics or gravitational potential, the discrete Laplacian is used to approximate:\n",
    "     \\[\n",
    "     \\Delta u = f,\n",
    "     \\]\n",
    "     where \\(f\\) is a source term.\n",
    "\n",
    "3. **Wave Equation**\n",
    "   - In wave propagation, the Laplacian is part of the second-order spatial derivative:\n",
    "     \\[\n",
    "     \\frac{\\partial^2 u}{\\partial t^2} = c^2 \\Delta u,\n",
    "     \\]\n",
    "     where \\(c\\) is the wave speed.\n",
    "\n",
    "\n",
    "---\n",
    "\n",
    "#### 6. **Numerical Implementation**\n",
    "In practice, the discrete Laplacian is implemented as a **linear operator** on a grid. This makes it suitable for efficient computation using matrix representations:\n",
    "- Each grid point corresponds to a row or column in a matrix.\n",
    "- The Laplacian is represented as a sparse matrix with most entries being zero, except for the coefficients associated with the 5-point stencil.\n",
    "\n",
    "This structure is crucial for solving large systems of equations efficiently using numerical solvers like iterative methods (e.g., conjugate gradient, Jacobi, Gauss-Seidel).\n",
    "\n",
    "---\n",
    "\n",
    "#### 7. **Limitations**\n",
    "While the discrete Laplacian is highly useful, it has some limitations:\n",
    "- **Boundary conditions**: Special care is needed to handle the boundaries of the grid (e.g., Dirichlet or Neumann conditions).\n",
    "- **Non-uniform grids**: For irregularly spaced grids, the discrete Laplacian becomes more complex and requires alternative formulations.\n",
    "- **Higher dimensions**: In 3D or higher dimensions, the stencil expands to include additional neighbors, increasing computational cost.\n",
    "\n",
    "---\n",
    "\n"
   ]
  },
  {
   "cell_type": "code",
   "execution_count": 11,
   "metadata": {},
   "outputs": [
    {
     "data": {
      "application/vnd.plotly.v1+json": {
       "config": {
        "plotlyServerURL": "https://plot.ly"
       },
       "data": [
        {
         "colorscale": [
          [
           0,
           "#440154"
          ],
          [
           0.1111111111111111,
           "#482878"
          ],
          [
           0.2222222222222222,
           "#3e4989"
          ],
          [
           0.3333333333333333,
           "#31688e"
          ],
          [
           0.4444444444444444,
           "#26828e"
          ],
          [
           0.5555555555555556,
           "#1f9e89"
          ],
          [
           0.6666666666666666,
           "#35b779"
          ],
          [
           0.7777777777777778,
           "#6ece58"
          ],
          [
           0.8888888888888888,
           "#b5de2b"
          ],
          [
           1,
           "#fde725"
          ]
         ],
         "type": "surface",
         "x": [
          [
           0,
           0.1111111111111111,
           0.2222222222222222,
           0.3333333333333333,
           0.4444444444444444,
           0.5555555555555556,
           0.6666666666666666,
           0.7777777777777777,
           0.8888888888888888,
           1
          ],
          [
           0,
           0.1111111111111111,
           0.2222222222222222,
           0.3333333333333333,
           0.4444444444444444,
           0.5555555555555556,
           0.6666666666666666,
           0.7777777777777777,
           0.8888888888888888,
           1
          ],
          [
           0,
           0.1111111111111111,
           0.2222222222222222,
           0.3333333333333333,
           0.4444444444444444,
           0.5555555555555556,
           0.6666666666666666,
           0.7777777777777777,
           0.8888888888888888,
           1
          ],
          [
           0,
           0.1111111111111111,
           0.2222222222222222,
           0.3333333333333333,
           0.4444444444444444,
           0.5555555555555556,
           0.6666666666666666,
           0.7777777777777777,
           0.8888888888888888,
           1
          ],
          [
           0,
           0.1111111111111111,
           0.2222222222222222,
           0.3333333333333333,
           0.4444444444444444,
           0.5555555555555556,
           0.6666666666666666,
           0.7777777777777777,
           0.8888888888888888,
           1
          ],
          [
           0,
           0.1111111111111111,
           0.2222222222222222,
           0.3333333333333333,
           0.4444444444444444,
           0.5555555555555556,
           0.6666666666666666,
           0.7777777777777777,
           0.8888888888888888,
           1
          ],
          [
           0,
           0.1111111111111111,
           0.2222222222222222,
           0.3333333333333333,
           0.4444444444444444,
           0.5555555555555556,
           0.6666666666666666,
           0.7777777777777777,
           0.8888888888888888,
           1
          ],
          [
           0,
           0.1111111111111111,
           0.2222222222222222,
           0.3333333333333333,
           0.4444444444444444,
           0.5555555555555556,
           0.6666666666666666,
           0.7777777777777777,
           0.8888888888888888,
           1
          ],
          [
           0,
           0.1111111111111111,
           0.2222222222222222,
           0.3333333333333333,
           0.4444444444444444,
           0.5555555555555556,
           0.6666666666666666,
           0.7777777777777777,
           0.8888888888888888,
           1
          ],
          [
           0,
           0.1111111111111111,
           0.2222222222222222,
           0.3333333333333333,
           0.4444444444444444,
           0.5555555555555556,
           0.6666666666666666,
           0.7777777777777777,
           0.8888888888888888,
           1
          ]
         ],
         "y": [
          [
           0,
           0,
           0,
           0,
           0,
           0,
           0,
           0,
           0,
           0
          ],
          [
           0.1111111111111111,
           0.1111111111111111,
           0.1111111111111111,
           0.1111111111111111,
           0.1111111111111111,
           0.1111111111111111,
           0.1111111111111111,
           0.1111111111111111,
           0.1111111111111111,
           0.1111111111111111
          ],
          [
           0.2222222222222222,
           0.2222222222222222,
           0.2222222222222222,
           0.2222222222222222,
           0.2222222222222222,
           0.2222222222222222,
           0.2222222222222222,
           0.2222222222222222,
           0.2222222222222222,
           0.2222222222222222
          ],
          [
           0.3333333333333333,
           0.3333333333333333,
           0.3333333333333333,
           0.3333333333333333,
           0.3333333333333333,
           0.3333333333333333,
           0.3333333333333333,
           0.3333333333333333,
           0.3333333333333333,
           0.3333333333333333
          ],
          [
           0.4444444444444444,
           0.4444444444444444,
           0.4444444444444444,
           0.4444444444444444,
           0.4444444444444444,
           0.4444444444444444,
           0.4444444444444444,
           0.4444444444444444,
           0.4444444444444444,
           0.4444444444444444
          ],
          [
           0.5555555555555556,
           0.5555555555555556,
           0.5555555555555556,
           0.5555555555555556,
           0.5555555555555556,
           0.5555555555555556,
           0.5555555555555556,
           0.5555555555555556,
           0.5555555555555556,
           0.5555555555555556
          ],
          [
           0.6666666666666666,
           0.6666666666666666,
           0.6666666666666666,
           0.6666666666666666,
           0.6666666666666666,
           0.6666666666666666,
           0.6666666666666666,
           0.6666666666666666,
           0.6666666666666666,
           0.6666666666666666
          ],
          [
           0.7777777777777777,
           0.7777777777777777,
           0.7777777777777777,
           0.7777777777777777,
           0.7777777777777777,
           0.7777777777777777,
           0.7777777777777777,
           0.7777777777777777,
           0.7777777777777777,
           0.7777777777777777
          ],
          [
           0.8888888888888888,
           0.8888888888888888,
           0.8888888888888888,
           0.8888888888888888,
           0.8888888888888888,
           0.8888888888888888,
           0.8888888888888888,
           0.8888888888888888,
           0.8888888888888888,
           0.8888888888888888
          ],
          [
           1,
           1,
           1,
           1,
           1,
           1,
           1,
           1,
           1,
           1
          ]
         ],
         "z": [
          [
           0,
           0,
           0,
           0,
           0,
           0,
           0,
           0,
           0,
           0
          ],
          [
           0,
           0,
           0,
           0,
           0,
           0,
           0,
           0,
           0,
           0
          ],
          [
           0,
           0,
           0,
           0,
           0,
           0,
           0,
           0,
           0,
           0
          ],
          [
           0,
           0,
           0,
           0,
           0,
           0,
           0,
           0,
           0,
           0
          ],
          [
           0,
           0,
           0,
           0,
           0,
           0,
           0,
           0,
           0,
           0
          ],
          [
           0,
           0,
           0,
           0,
           0,
           0,
           0,
           0,
           0,
           0
          ],
          [
           0,
           0,
           0,
           0,
           0,
           0,
           0,
           0,
           0,
           0
          ],
          [
           0,
           0,
           0,
           0,
           0,
           0,
           0,
           0,
           0,
           0
          ],
          [
           0,
           0,
           0,
           0,
           0,
           0,
           0,
           0,
           0,
           0
          ],
          [
           0,
           0,
           0,
           0,
           0,
           0,
           0,
           0,
           0,
           0
          ]
         ]
        }
       ],
       "layout": {
        "scene": {
         "camera": {
          "eye": {
           "x": 1.5,
           "y": 1.5,
           "z": 1.5
          }
         },
         "xaxis": {
          "title": {
           "text": "X"
          }
         },
         "yaxis": {
          "title": {
           "text": "Y"
          }
         },
         "zaxis": {
          "title": {
           "text": "Laplacian Value"
          }
         }
        },
        "template": {
         "data": {
          "bar": [
           {
            "error_x": {
             "color": "#2a3f5f"
            },
            "error_y": {
             "color": "#2a3f5f"
            },
            "marker": {
             "line": {
              "color": "white",
              "width": 0.5
             },
             "pattern": {
              "fillmode": "overlay",
              "size": 10,
              "solidity": 0.2
             }
            },
            "type": "bar"
           }
          ],
          "barpolar": [
           {
            "marker": {
             "line": {
              "color": "white",
              "width": 0.5
             },
             "pattern": {
              "fillmode": "overlay",
              "size": 10,
              "solidity": 0.2
             }
            },
            "type": "barpolar"
           }
          ],
          "carpet": [
           {
            "aaxis": {
             "endlinecolor": "#2a3f5f",
             "gridcolor": "#C8D4E3",
             "linecolor": "#C8D4E3",
             "minorgridcolor": "#C8D4E3",
             "startlinecolor": "#2a3f5f"
            },
            "baxis": {
             "endlinecolor": "#2a3f5f",
             "gridcolor": "#C8D4E3",
             "linecolor": "#C8D4E3",
             "minorgridcolor": "#C8D4E3",
             "startlinecolor": "#2a3f5f"
            },
            "type": "carpet"
           }
          ],
          "choropleth": [
           {
            "colorbar": {
             "outlinewidth": 0,
             "ticks": ""
            },
            "type": "choropleth"
           }
          ],
          "contour": [
           {
            "colorbar": {
             "outlinewidth": 0,
             "ticks": ""
            },
            "colorscale": [
             [
              0,
              "#0d0887"
             ],
             [
              0.1111111111111111,
              "#46039f"
             ],
             [
              0.2222222222222222,
              "#7201a8"
             ],
             [
              0.3333333333333333,
              "#9c179e"
             ],
             [
              0.4444444444444444,
              "#bd3786"
             ],
             [
              0.5555555555555556,
              "#d8576b"
             ],
             [
              0.6666666666666666,
              "#ed7953"
             ],
             [
              0.7777777777777778,
              "#fb9f3a"
             ],
             [
              0.8888888888888888,
              "#fdca26"
             ],
             [
              1,
              "#f0f921"
             ]
            ],
            "type": "contour"
           }
          ],
          "contourcarpet": [
           {
            "colorbar": {
             "outlinewidth": 0,
             "ticks": ""
            },
            "type": "contourcarpet"
           }
          ],
          "heatmap": [
           {
            "colorbar": {
             "outlinewidth": 0,
             "ticks": ""
            },
            "colorscale": [
             [
              0,
              "#0d0887"
             ],
             [
              0.1111111111111111,
              "#46039f"
             ],
             [
              0.2222222222222222,
              "#7201a8"
             ],
             [
              0.3333333333333333,
              "#9c179e"
             ],
             [
              0.4444444444444444,
              "#bd3786"
             ],
             [
              0.5555555555555556,
              "#d8576b"
             ],
             [
              0.6666666666666666,
              "#ed7953"
             ],
             [
              0.7777777777777778,
              "#fb9f3a"
             ],
             [
              0.8888888888888888,
              "#fdca26"
             ],
             [
              1,
              "#f0f921"
             ]
            ],
            "type": "heatmap"
           }
          ],
          "heatmapgl": [
           {
            "colorbar": {
             "outlinewidth": 0,
             "ticks": ""
            },
            "colorscale": [
             [
              0,
              "#0d0887"
             ],
             [
              0.1111111111111111,
              "#46039f"
             ],
             [
              0.2222222222222222,
              "#7201a8"
             ],
             [
              0.3333333333333333,
              "#9c179e"
             ],
             [
              0.4444444444444444,
              "#bd3786"
             ],
             [
              0.5555555555555556,
              "#d8576b"
             ],
             [
              0.6666666666666666,
              "#ed7953"
             ],
             [
              0.7777777777777778,
              "#fb9f3a"
             ],
             [
              0.8888888888888888,
              "#fdca26"
             ],
             [
              1,
              "#f0f921"
             ]
            ],
            "type": "heatmapgl"
           }
          ],
          "histogram": [
           {
            "marker": {
             "pattern": {
              "fillmode": "overlay",
              "size": 10,
              "solidity": 0.2
             }
            },
            "type": "histogram"
           }
          ],
          "histogram2d": [
           {
            "colorbar": {
             "outlinewidth": 0,
             "ticks": ""
            },
            "colorscale": [
             [
              0,
              "#0d0887"
             ],
             [
              0.1111111111111111,
              "#46039f"
             ],
             [
              0.2222222222222222,
              "#7201a8"
             ],
             [
              0.3333333333333333,
              "#9c179e"
             ],
             [
              0.4444444444444444,
              "#bd3786"
             ],
             [
              0.5555555555555556,
              "#d8576b"
             ],
             [
              0.6666666666666666,
              "#ed7953"
             ],
             [
              0.7777777777777778,
              "#fb9f3a"
             ],
             [
              0.8888888888888888,
              "#fdca26"
             ],
             [
              1,
              "#f0f921"
             ]
            ],
            "type": "histogram2d"
           }
          ],
          "histogram2dcontour": [
           {
            "colorbar": {
             "outlinewidth": 0,
             "ticks": ""
            },
            "colorscale": [
             [
              0,
              "#0d0887"
             ],
             [
              0.1111111111111111,
              "#46039f"
             ],
             [
              0.2222222222222222,
              "#7201a8"
             ],
             [
              0.3333333333333333,
              "#9c179e"
             ],
             [
              0.4444444444444444,
              "#bd3786"
             ],
             [
              0.5555555555555556,
              "#d8576b"
             ],
             [
              0.6666666666666666,
              "#ed7953"
             ],
             [
              0.7777777777777778,
              "#fb9f3a"
             ],
             [
              0.8888888888888888,
              "#fdca26"
             ],
             [
              1,
              "#f0f921"
             ]
            ],
            "type": "histogram2dcontour"
           }
          ],
          "mesh3d": [
           {
            "colorbar": {
             "outlinewidth": 0,
             "ticks": ""
            },
            "type": "mesh3d"
           }
          ],
          "parcoords": [
           {
            "line": {
             "colorbar": {
              "outlinewidth": 0,
              "ticks": ""
             }
            },
            "type": "parcoords"
           }
          ],
          "pie": [
           {
            "automargin": true,
            "type": "pie"
           }
          ],
          "scatter": [
           {
            "marker": {
             "colorbar": {
              "outlinewidth": 0,
              "ticks": ""
             }
            },
            "type": "scatter"
           }
          ],
          "scatter3d": [
           {
            "line": {
             "colorbar": {
              "outlinewidth": 0,
              "ticks": ""
             }
            },
            "marker": {
             "colorbar": {
              "outlinewidth": 0,
              "ticks": ""
             }
            },
            "type": "scatter3d"
           }
          ],
          "scattercarpet": [
           {
            "marker": {
             "colorbar": {
              "outlinewidth": 0,
              "ticks": ""
             }
            },
            "type": "scattercarpet"
           }
          ],
          "scattergeo": [
           {
            "marker": {
             "colorbar": {
              "outlinewidth": 0,
              "ticks": ""
             }
            },
            "type": "scattergeo"
           }
          ],
          "scattergl": [
           {
            "marker": {
             "colorbar": {
              "outlinewidth": 0,
              "ticks": ""
             }
            },
            "type": "scattergl"
           }
          ],
          "scattermapbox": [
           {
            "marker": {
             "colorbar": {
              "outlinewidth": 0,
              "ticks": ""
             }
            },
            "type": "scattermapbox"
           }
          ],
          "scatterpolar": [
           {
            "marker": {
             "colorbar": {
              "outlinewidth": 0,
              "ticks": ""
             }
            },
            "type": "scatterpolar"
           }
          ],
          "scatterpolargl": [
           {
            "marker": {
             "colorbar": {
              "outlinewidth": 0,
              "ticks": ""
             }
            },
            "type": "scatterpolargl"
           }
          ],
          "scatterternary": [
           {
            "marker": {
             "colorbar": {
              "outlinewidth": 0,
              "ticks": ""
             }
            },
            "type": "scatterternary"
           }
          ],
          "surface": [
           {
            "colorbar": {
             "outlinewidth": 0,
             "ticks": ""
            },
            "colorscale": [
             [
              0,
              "#0d0887"
             ],
             [
              0.1111111111111111,
              "#46039f"
             ],
             [
              0.2222222222222222,
              "#7201a8"
             ],
             [
              0.3333333333333333,
              "#9c179e"
             ],
             [
              0.4444444444444444,
              "#bd3786"
             ],
             [
              0.5555555555555556,
              "#d8576b"
             ],
             [
              0.6666666666666666,
              "#ed7953"
             ],
             [
              0.7777777777777778,
              "#fb9f3a"
             ],
             [
              0.8888888888888888,
              "#fdca26"
             ],
             [
              1,
              "#f0f921"
             ]
            ],
            "type": "surface"
           }
          ],
          "table": [
           {
            "cells": {
             "fill": {
              "color": "#EBF0F8"
             },
             "line": {
              "color": "white"
             }
            },
            "header": {
             "fill": {
              "color": "#C8D4E3"
             },
             "line": {
              "color": "white"
             }
            },
            "type": "table"
           }
          ]
         },
         "layout": {
          "annotationdefaults": {
           "arrowcolor": "#2a3f5f",
           "arrowhead": 0,
           "arrowwidth": 1
          },
          "autotypenumbers": "strict",
          "coloraxis": {
           "colorbar": {
            "outlinewidth": 0,
            "ticks": ""
           }
          },
          "colorscale": {
           "diverging": [
            [
             0,
             "#8e0152"
            ],
            [
             0.1,
             "#c51b7d"
            ],
            [
             0.2,
             "#de77ae"
            ],
            [
             0.3,
             "#f1b6da"
            ],
            [
             0.4,
             "#fde0ef"
            ],
            [
             0.5,
             "#f7f7f7"
            ],
            [
             0.6,
             "#e6f5d0"
            ],
            [
             0.7,
             "#b8e186"
            ],
            [
             0.8,
             "#7fbc41"
            ],
            [
             0.9,
             "#4d9221"
            ],
            [
             1,
             "#276419"
            ]
           ],
           "sequential": [
            [
             0,
             "#0d0887"
            ],
            [
             0.1111111111111111,
             "#46039f"
            ],
            [
             0.2222222222222222,
             "#7201a8"
            ],
            [
             0.3333333333333333,
             "#9c179e"
            ],
            [
             0.4444444444444444,
             "#bd3786"
            ],
            [
             0.5555555555555556,
             "#d8576b"
            ],
            [
             0.6666666666666666,
             "#ed7953"
            ],
            [
             0.7777777777777778,
             "#fb9f3a"
            ],
            [
             0.8888888888888888,
             "#fdca26"
            ],
            [
             1,
             "#f0f921"
            ]
           ],
           "sequentialminus": [
            [
             0,
             "#0d0887"
            ],
            [
             0.1111111111111111,
             "#46039f"
            ],
            [
             0.2222222222222222,
             "#7201a8"
            ],
            [
             0.3333333333333333,
             "#9c179e"
            ],
            [
             0.4444444444444444,
             "#bd3786"
            ],
            [
             0.5555555555555556,
             "#d8576b"
            ],
            [
             0.6666666666666666,
             "#ed7953"
            ],
            [
             0.7777777777777778,
             "#fb9f3a"
            ],
            [
             0.8888888888888888,
             "#fdca26"
            ],
            [
             1,
             "#f0f921"
            ]
           ]
          },
          "colorway": [
           "#636efa",
           "#EF553B",
           "#00cc96",
           "#ab63fa",
           "#FFA15A",
           "#19d3f3",
           "#FF6692",
           "#B6E880",
           "#FF97FF",
           "#FECB52"
          ],
          "font": {
           "color": "#2a3f5f"
          },
          "geo": {
           "bgcolor": "white",
           "lakecolor": "white",
           "landcolor": "white",
           "showlakes": true,
           "showland": true,
           "subunitcolor": "#C8D4E3"
          },
          "hoverlabel": {
           "align": "left"
          },
          "hovermode": "closest",
          "mapbox": {
           "style": "light"
          },
          "paper_bgcolor": "white",
          "plot_bgcolor": "white",
          "polar": {
           "angularaxis": {
            "gridcolor": "#EBF0F8",
            "linecolor": "#EBF0F8",
            "ticks": ""
           },
           "bgcolor": "white",
           "radialaxis": {
            "gridcolor": "#EBF0F8",
            "linecolor": "#EBF0F8",
            "ticks": ""
           }
          },
          "scene": {
           "xaxis": {
            "backgroundcolor": "white",
            "gridcolor": "#DFE8F3",
            "gridwidth": 2,
            "linecolor": "#EBF0F8",
            "showbackground": true,
            "ticks": "",
            "zerolinecolor": "#EBF0F8"
           },
           "yaxis": {
            "backgroundcolor": "white",
            "gridcolor": "#DFE8F3",
            "gridwidth": 2,
            "linecolor": "#EBF0F8",
            "showbackground": true,
            "ticks": "",
            "zerolinecolor": "#EBF0F8"
           },
           "zaxis": {
            "backgroundcolor": "white",
            "gridcolor": "#DFE8F3",
            "gridwidth": 2,
            "linecolor": "#EBF0F8",
            "showbackground": true,
            "ticks": "",
            "zerolinecolor": "#EBF0F8"
           }
          },
          "shapedefaults": {
           "line": {
            "color": "#2a3f5f"
           }
          },
          "ternary": {
           "aaxis": {
            "gridcolor": "#DFE8F3",
            "linecolor": "#A2B1C6",
            "ticks": ""
           },
           "baxis": {
            "gridcolor": "#DFE8F3",
            "linecolor": "#A2B1C6",
            "ticks": ""
           },
           "bgcolor": "white",
           "caxis": {
            "gridcolor": "#DFE8F3",
            "linecolor": "#A2B1C6",
            "ticks": ""
           }
          },
          "title": {
           "x": 0.05
          },
          "xaxis": {
           "automargin": true,
           "gridcolor": "#EBF0F8",
           "linecolor": "#EBF0F8",
           "ticks": "",
           "title": {
            "standoff": 15
           },
           "zerolinecolor": "#EBF0F8",
           "zerolinewidth": 2
          },
          "yaxis": {
           "automargin": true,
           "gridcolor": "#EBF0F8",
           "linecolor": "#EBF0F8",
           "ticks": "",
           "title": {
            "standoff": 15
           },
           "zerolinecolor": "#EBF0F8",
           "zerolinewidth": 2
          }
         }
        },
        "title": {
         "text": "3D Surface of Laplacian (Zero Grid)"
        }
       }
      }
     },
     "metadata": {},
     "output_type": "display_data"
    },
    {
     "data": {
      "application/vnd.plotly.v1+json": {
       "config": {
        "plotlyServerURL": "https://plot.ly"
       },
       "data": [
        {
         "colorscale": [
          [
           0,
           "#440154"
          ],
          [
           0.1111111111111111,
           "#482878"
          ],
          [
           0.2222222222222222,
           "#3e4989"
          ],
          [
           0.3333333333333333,
           "#31688e"
          ],
          [
           0.4444444444444444,
           "#26828e"
          ],
          [
           0.5555555555555556,
           "#1f9e89"
          ],
          [
           0.6666666666666666,
           "#35b779"
          ],
          [
           0.7777777777777778,
           "#6ece58"
          ],
          [
           0.8888888888888888,
           "#b5de2b"
          ],
          [
           1,
           "#fde725"
          ]
         ],
         "type": "surface",
         "x": [
          [
           0,
           0.1111111111111111,
           0.2222222222222222,
           0.3333333333333333,
           0.4444444444444444,
           0.5555555555555556,
           0.6666666666666666,
           0.7777777777777777,
           0.8888888888888888,
           1
          ],
          [
           0,
           0.1111111111111111,
           0.2222222222222222,
           0.3333333333333333,
           0.4444444444444444,
           0.5555555555555556,
           0.6666666666666666,
           0.7777777777777777,
           0.8888888888888888,
           1
          ],
          [
           0,
           0.1111111111111111,
           0.2222222222222222,
           0.3333333333333333,
           0.4444444444444444,
           0.5555555555555556,
           0.6666666666666666,
           0.7777777777777777,
           0.8888888888888888,
           1
          ],
          [
           0,
           0.1111111111111111,
           0.2222222222222222,
           0.3333333333333333,
           0.4444444444444444,
           0.5555555555555556,
           0.6666666666666666,
           0.7777777777777777,
           0.8888888888888888,
           1
          ],
          [
           0,
           0.1111111111111111,
           0.2222222222222222,
           0.3333333333333333,
           0.4444444444444444,
           0.5555555555555556,
           0.6666666666666666,
           0.7777777777777777,
           0.8888888888888888,
           1
          ],
          [
           0,
           0.1111111111111111,
           0.2222222222222222,
           0.3333333333333333,
           0.4444444444444444,
           0.5555555555555556,
           0.6666666666666666,
           0.7777777777777777,
           0.8888888888888888,
           1
          ],
          [
           0,
           0.1111111111111111,
           0.2222222222222222,
           0.3333333333333333,
           0.4444444444444444,
           0.5555555555555556,
           0.6666666666666666,
           0.7777777777777777,
           0.8888888888888888,
           1
          ],
          [
           0,
           0.1111111111111111,
           0.2222222222222222,
           0.3333333333333333,
           0.4444444444444444,
           0.5555555555555556,
           0.6666666666666666,
           0.7777777777777777,
           0.8888888888888888,
           1
          ],
          [
           0,
           0.1111111111111111,
           0.2222222222222222,
           0.3333333333333333,
           0.4444444444444444,
           0.5555555555555556,
           0.6666666666666666,
           0.7777777777777777,
           0.8888888888888888,
           1
          ],
          [
           0,
           0.1111111111111111,
           0.2222222222222222,
           0.3333333333333333,
           0.4444444444444444,
           0.5555555555555556,
           0.6666666666666666,
           0.7777777777777777,
           0.8888888888888888,
           1
          ]
         ],
         "y": [
          [
           0,
           0,
           0,
           0,
           0,
           0,
           0,
           0,
           0,
           0
          ],
          [
           0.1111111111111111,
           0.1111111111111111,
           0.1111111111111111,
           0.1111111111111111,
           0.1111111111111111,
           0.1111111111111111,
           0.1111111111111111,
           0.1111111111111111,
           0.1111111111111111,
           0.1111111111111111
          ],
          [
           0.2222222222222222,
           0.2222222222222222,
           0.2222222222222222,
           0.2222222222222222,
           0.2222222222222222,
           0.2222222222222222,
           0.2222222222222222,
           0.2222222222222222,
           0.2222222222222222,
           0.2222222222222222
          ],
          [
           0.3333333333333333,
           0.3333333333333333,
           0.3333333333333333,
           0.3333333333333333,
           0.3333333333333333,
           0.3333333333333333,
           0.3333333333333333,
           0.3333333333333333,
           0.3333333333333333,
           0.3333333333333333
          ],
          [
           0.4444444444444444,
           0.4444444444444444,
           0.4444444444444444,
           0.4444444444444444,
           0.4444444444444444,
           0.4444444444444444,
           0.4444444444444444,
           0.4444444444444444,
           0.4444444444444444,
           0.4444444444444444
          ],
          [
           0.5555555555555556,
           0.5555555555555556,
           0.5555555555555556,
           0.5555555555555556,
           0.5555555555555556,
           0.5555555555555556,
           0.5555555555555556,
           0.5555555555555556,
           0.5555555555555556,
           0.5555555555555556
          ],
          [
           0.6666666666666666,
           0.6666666666666666,
           0.6666666666666666,
           0.6666666666666666,
           0.6666666666666666,
           0.6666666666666666,
           0.6666666666666666,
           0.6666666666666666,
           0.6666666666666666,
           0.6666666666666666
          ],
          [
           0.7777777777777777,
           0.7777777777777777,
           0.7777777777777777,
           0.7777777777777777,
           0.7777777777777777,
           0.7777777777777777,
           0.7777777777777777,
           0.7777777777777777,
           0.7777777777777777,
           0.7777777777777777
          ],
          [
           0.8888888888888888,
           0.8888888888888888,
           0.8888888888888888,
           0.8888888888888888,
           0.8888888888888888,
           0.8888888888888888,
           0.8888888888888888,
           0.8888888888888888,
           0.8888888888888888,
           0.8888888888888888
          ],
          [
           1,
           1,
           1,
           1,
           1,
           1,
           1,
           1,
           1,
           1
          ]
         ],
         "z": [
          [
           0,
           -0.5714244827667453,
           -1.0739267395846295,
           -1.446897582137948,
           -1.6453512223513758,
           -1.6453512223513758,
           -1.446897582137948,
           -1.0739267395846335,
           -0.5714244827667443,
           -2.0460583314485932e-16
          ],
          [
           -0.5714244827667453,
           -2.216775705118119,
           -4.166175544073949,
           -5.613073126211895,
           -6.38295124919207,
           -6.38295124919207,
           -5.613073126211899,
           -4.166175544073951,
           -2.2167757051181187,
           -0.5714244827667447
          ],
          [
           -1.0739267395846295,
           -4.166175544073949,
           -7.829848831330013,
           -10.549126793266014,
           -11.996024375403964,
           -11.996024375403964,
           -10.54912679326602,
           -7.829848831330015,
           -4.166175544073951,
           -1.0739267395846301
          ],
          [
           -1.446897582137948,
           -5.613073126211895,
           -10.549126793266014,
           -14.212800080522081,
           -16.162199919477917,
           -16.162199919477914,
           -14.212800080522083,
           -10.549126793266023,
           -5.613073126211901,
           -1.446897582137949
          ],
          [
           -1.6453512223513758,
           -6.38295124919207,
           -11.996024375403964,
           -16.162199919477917,
           -18.37897562459603,
           -18.378975624596027,
           -16.162199919477917,
           -11.996024375403973,
           -6.382951249192076,
           -1.6453512223513769
          ],
          [
           -1.6453512223513758,
           -6.38295124919207,
           -11.996024375403964,
           -16.162199919477914,
           -18.378975624596027,
           -18.378975624596023,
           -16.162199919477914,
           -11.996024375403973,
           -6.382951249192075,
           -1.6453512223513769
          ],
          [
           -1.446897582137948,
           -5.613073126211899,
           -10.54912679326602,
           -14.212800080522083,
           -16.162199919477917,
           -16.162199919477914,
           -14.212800080522086,
           -10.549126793266026,
           -5.6130731262119,
           -1.446897582137945
          ],
          [
           -1.0739267395846335,
           -4.166175544073951,
           -7.829848831330015,
           -10.549126793266023,
           -11.996024375403973,
           -11.996024375403973,
           -10.549126793266026,
           -7.829848831330023,
           -4.166175544073953,
           -1.0739267395846301
          ],
          [
           -0.5714244827667443,
           -2.2167757051181187,
           -4.166175544073951,
           -5.613073126211901,
           -6.382951249192076,
           -6.382951249192075,
           -5.6130731262119,
           -4.166175544073953,
           -2.2167757051181223,
           -0.5714244827667467
          ],
          [
           -2.0460583314485932e-16,
           -0.5714244827667447,
           -1.0739267395846301,
           -1.446897582137949,
           -1.6453512223513769,
           -1.6453512223513769,
           -1.446897582137945,
           -1.0739267395846301,
           -0.5714244827667467,
           -4.0921166628971865e-16
          ]
         ]
        }
       ],
       "layout": {
        "scene": {
         "camera": {
          "eye": {
           "x": 1.5,
           "y": 1.5,
           "z": 1.5
          }
         },
         "xaxis": {
          "title": {
           "text": "X"
          }
         },
         "yaxis": {
          "title": {
           "text": "Y"
          }
         },
         "zaxis": {
          "title": {
           "text": "Laplacian Value"
          }
         }
        },
        "template": {
         "data": {
          "bar": [
           {
            "error_x": {
             "color": "#2a3f5f"
            },
            "error_y": {
             "color": "#2a3f5f"
            },
            "marker": {
             "line": {
              "color": "white",
              "width": 0.5
             },
             "pattern": {
              "fillmode": "overlay",
              "size": 10,
              "solidity": 0.2
             }
            },
            "type": "bar"
           }
          ],
          "barpolar": [
           {
            "marker": {
             "line": {
              "color": "white",
              "width": 0.5
             },
             "pattern": {
              "fillmode": "overlay",
              "size": 10,
              "solidity": 0.2
             }
            },
            "type": "barpolar"
           }
          ],
          "carpet": [
           {
            "aaxis": {
             "endlinecolor": "#2a3f5f",
             "gridcolor": "#C8D4E3",
             "linecolor": "#C8D4E3",
             "minorgridcolor": "#C8D4E3",
             "startlinecolor": "#2a3f5f"
            },
            "baxis": {
             "endlinecolor": "#2a3f5f",
             "gridcolor": "#C8D4E3",
             "linecolor": "#C8D4E3",
             "minorgridcolor": "#C8D4E3",
             "startlinecolor": "#2a3f5f"
            },
            "type": "carpet"
           }
          ],
          "choropleth": [
           {
            "colorbar": {
             "outlinewidth": 0,
             "ticks": ""
            },
            "type": "choropleth"
           }
          ],
          "contour": [
           {
            "colorbar": {
             "outlinewidth": 0,
             "ticks": ""
            },
            "colorscale": [
             [
              0,
              "#0d0887"
             ],
             [
              0.1111111111111111,
              "#46039f"
             ],
             [
              0.2222222222222222,
              "#7201a8"
             ],
             [
              0.3333333333333333,
              "#9c179e"
             ],
             [
              0.4444444444444444,
              "#bd3786"
             ],
             [
              0.5555555555555556,
              "#d8576b"
             ],
             [
              0.6666666666666666,
              "#ed7953"
             ],
             [
              0.7777777777777778,
              "#fb9f3a"
             ],
             [
              0.8888888888888888,
              "#fdca26"
             ],
             [
              1,
              "#f0f921"
             ]
            ],
            "type": "contour"
           }
          ],
          "contourcarpet": [
           {
            "colorbar": {
             "outlinewidth": 0,
             "ticks": ""
            },
            "type": "contourcarpet"
           }
          ],
          "heatmap": [
           {
            "colorbar": {
             "outlinewidth": 0,
             "ticks": ""
            },
            "colorscale": [
             [
              0,
              "#0d0887"
             ],
             [
              0.1111111111111111,
              "#46039f"
             ],
             [
              0.2222222222222222,
              "#7201a8"
             ],
             [
              0.3333333333333333,
              "#9c179e"
             ],
             [
              0.4444444444444444,
              "#bd3786"
             ],
             [
              0.5555555555555556,
              "#d8576b"
             ],
             [
              0.6666666666666666,
              "#ed7953"
             ],
             [
              0.7777777777777778,
              "#fb9f3a"
             ],
             [
              0.8888888888888888,
              "#fdca26"
             ],
             [
              1,
              "#f0f921"
             ]
            ],
            "type": "heatmap"
           }
          ],
          "heatmapgl": [
           {
            "colorbar": {
             "outlinewidth": 0,
             "ticks": ""
            },
            "colorscale": [
             [
              0,
              "#0d0887"
             ],
             [
              0.1111111111111111,
              "#46039f"
             ],
             [
              0.2222222222222222,
              "#7201a8"
             ],
             [
              0.3333333333333333,
              "#9c179e"
             ],
             [
              0.4444444444444444,
              "#bd3786"
             ],
             [
              0.5555555555555556,
              "#d8576b"
             ],
             [
              0.6666666666666666,
              "#ed7953"
             ],
             [
              0.7777777777777778,
              "#fb9f3a"
             ],
             [
              0.8888888888888888,
              "#fdca26"
             ],
             [
              1,
              "#f0f921"
             ]
            ],
            "type": "heatmapgl"
           }
          ],
          "histogram": [
           {
            "marker": {
             "pattern": {
              "fillmode": "overlay",
              "size": 10,
              "solidity": 0.2
             }
            },
            "type": "histogram"
           }
          ],
          "histogram2d": [
           {
            "colorbar": {
             "outlinewidth": 0,
             "ticks": ""
            },
            "colorscale": [
             [
              0,
              "#0d0887"
             ],
             [
              0.1111111111111111,
              "#46039f"
             ],
             [
              0.2222222222222222,
              "#7201a8"
             ],
             [
              0.3333333333333333,
              "#9c179e"
             ],
             [
              0.4444444444444444,
              "#bd3786"
             ],
             [
              0.5555555555555556,
              "#d8576b"
             ],
             [
              0.6666666666666666,
              "#ed7953"
             ],
             [
              0.7777777777777778,
              "#fb9f3a"
             ],
             [
              0.8888888888888888,
              "#fdca26"
             ],
             [
              1,
              "#f0f921"
             ]
            ],
            "type": "histogram2d"
           }
          ],
          "histogram2dcontour": [
           {
            "colorbar": {
             "outlinewidth": 0,
             "ticks": ""
            },
            "colorscale": [
             [
              0,
              "#0d0887"
             ],
             [
              0.1111111111111111,
              "#46039f"
             ],
             [
              0.2222222222222222,
              "#7201a8"
             ],
             [
              0.3333333333333333,
              "#9c179e"
             ],
             [
              0.4444444444444444,
              "#bd3786"
             ],
             [
              0.5555555555555556,
              "#d8576b"
             ],
             [
              0.6666666666666666,
              "#ed7953"
             ],
             [
              0.7777777777777778,
              "#fb9f3a"
             ],
             [
              0.8888888888888888,
              "#fdca26"
             ],
             [
              1,
              "#f0f921"
             ]
            ],
            "type": "histogram2dcontour"
           }
          ],
          "mesh3d": [
           {
            "colorbar": {
             "outlinewidth": 0,
             "ticks": ""
            },
            "type": "mesh3d"
           }
          ],
          "parcoords": [
           {
            "line": {
             "colorbar": {
              "outlinewidth": 0,
              "ticks": ""
             }
            },
            "type": "parcoords"
           }
          ],
          "pie": [
           {
            "automargin": true,
            "type": "pie"
           }
          ],
          "scatter": [
           {
            "marker": {
             "colorbar": {
              "outlinewidth": 0,
              "ticks": ""
             }
            },
            "type": "scatter"
           }
          ],
          "scatter3d": [
           {
            "line": {
             "colorbar": {
              "outlinewidth": 0,
              "ticks": ""
             }
            },
            "marker": {
             "colorbar": {
              "outlinewidth": 0,
              "ticks": ""
             }
            },
            "type": "scatter3d"
           }
          ],
          "scattercarpet": [
           {
            "marker": {
             "colorbar": {
              "outlinewidth": 0,
              "ticks": ""
             }
            },
            "type": "scattercarpet"
           }
          ],
          "scattergeo": [
           {
            "marker": {
             "colorbar": {
              "outlinewidth": 0,
              "ticks": ""
             }
            },
            "type": "scattergeo"
           }
          ],
          "scattergl": [
           {
            "marker": {
             "colorbar": {
              "outlinewidth": 0,
              "ticks": ""
             }
            },
            "type": "scattergl"
           }
          ],
          "scattermapbox": [
           {
            "marker": {
             "colorbar": {
              "outlinewidth": 0,
              "ticks": ""
             }
            },
            "type": "scattermapbox"
           }
          ],
          "scatterpolar": [
           {
            "marker": {
             "colorbar": {
              "outlinewidth": 0,
              "ticks": ""
             }
            },
            "type": "scatterpolar"
           }
          ],
          "scatterpolargl": [
           {
            "marker": {
             "colorbar": {
              "outlinewidth": 0,
              "ticks": ""
             }
            },
            "type": "scatterpolargl"
           }
          ],
          "scatterternary": [
           {
            "marker": {
             "colorbar": {
              "outlinewidth": 0,
              "ticks": ""
             }
            },
            "type": "scatterternary"
           }
          ],
          "surface": [
           {
            "colorbar": {
             "outlinewidth": 0,
             "ticks": ""
            },
            "colorscale": [
             [
              0,
              "#0d0887"
             ],
             [
              0.1111111111111111,
              "#46039f"
             ],
             [
              0.2222222222222222,
              "#7201a8"
             ],
             [
              0.3333333333333333,
              "#9c179e"
             ],
             [
              0.4444444444444444,
              "#bd3786"
             ],
             [
              0.5555555555555556,
              "#d8576b"
             ],
             [
              0.6666666666666666,
              "#ed7953"
             ],
             [
              0.7777777777777778,
              "#fb9f3a"
             ],
             [
              0.8888888888888888,
              "#fdca26"
             ],
             [
              1,
              "#f0f921"
             ]
            ],
            "type": "surface"
           }
          ],
          "table": [
           {
            "cells": {
             "fill": {
              "color": "#EBF0F8"
             },
             "line": {
              "color": "white"
             }
            },
            "header": {
             "fill": {
              "color": "#C8D4E3"
             },
             "line": {
              "color": "white"
             }
            },
            "type": "table"
           }
          ]
         },
         "layout": {
          "annotationdefaults": {
           "arrowcolor": "#2a3f5f",
           "arrowhead": 0,
           "arrowwidth": 1
          },
          "autotypenumbers": "strict",
          "coloraxis": {
           "colorbar": {
            "outlinewidth": 0,
            "ticks": ""
           }
          },
          "colorscale": {
           "diverging": [
            [
             0,
             "#8e0152"
            ],
            [
             0.1,
             "#c51b7d"
            ],
            [
             0.2,
             "#de77ae"
            ],
            [
             0.3,
             "#f1b6da"
            ],
            [
             0.4,
             "#fde0ef"
            ],
            [
             0.5,
             "#f7f7f7"
            ],
            [
             0.6,
             "#e6f5d0"
            ],
            [
             0.7,
             "#b8e186"
            ],
            [
             0.8,
             "#7fbc41"
            ],
            [
             0.9,
             "#4d9221"
            ],
            [
             1,
             "#276419"
            ]
           ],
           "sequential": [
            [
             0,
             "#0d0887"
            ],
            [
             0.1111111111111111,
             "#46039f"
            ],
            [
             0.2222222222222222,
             "#7201a8"
            ],
            [
             0.3333333333333333,
             "#9c179e"
            ],
            [
             0.4444444444444444,
             "#bd3786"
            ],
            [
             0.5555555555555556,
             "#d8576b"
            ],
            [
             0.6666666666666666,
             "#ed7953"
            ],
            [
             0.7777777777777778,
             "#fb9f3a"
            ],
            [
             0.8888888888888888,
             "#fdca26"
            ],
            [
             1,
             "#f0f921"
            ]
           ],
           "sequentialminus": [
            [
             0,
             "#0d0887"
            ],
            [
             0.1111111111111111,
             "#46039f"
            ],
            [
             0.2222222222222222,
             "#7201a8"
            ],
            [
             0.3333333333333333,
             "#9c179e"
            ],
            [
             0.4444444444444444,
             "#bd3786"
            ],
            [
             0.5555555555555556,
             "#d8576b"
            ],
            [
             0.6666666666666666,
             "#ed7953"
            ],
            [
             0.7777777777777778,
             "#fb9f3a"
            ],
            [
             0.8888888888888888,
             "#fdca26"
            ],
            [
             1,
             "#f0f921"
            ]
           ]
          },
          "colorway": [
           "#636efa",
           "#EF553B",
           "#00cc96",
           "#ab63fa",
           "#FFA15A",
           "#19d3f3",
           "#FF6692",
           "#B6E880",
           "#FF97FF",
           "#FECB52"
          ],
          "font": {
           "color": "#2a3f5f"
          },
          "geo": {
           "bgcolor": "white",
           "lakecolor": "white",
           "landcolor": "white",
           "showlakes": true,
           "showland": true,
           "subunitcolor": "#C8D4E3"
          },
          "hoverlabel": {
           "align": "left"
          },
          "hovermode": "closest",
          "mapbox": {
           "style": "light"
          },
          "paper_bgcolor": "white",
          "plot_bgcolor": "white",
          "polar": {
           "angularaxis": {
            "gridcolor": "#EBF0F8",
            "linecolor": "#EBF0F8",
            "ticks": ""
           },
           "bgcolor": "white",
           "radialaxis": {
            "gridcolor": "#EBF0F8",
            "linecolor": "#EBF0F8",
            "ticks": ""
           }
          },
          "scene": {
           "xaxis": {
            "backgroundcolor": "white",
            "gridcolor": "#DFE8F3",
            "gridwidth": 2,
            "linecolor": "#EBF0F8",
            "showbackground": true,
            "ticks": "",
            "zerolinecolor": "#EBF0F8"
           },
           "yaxis": {
            "backgroundcolor": "white",
            "gridcolor": "#DFE8F3",
            "gridwidth": 2,
            "linecolor": "#EBF0F8",
            "showbackground": true,
            "ticks": "",
            "zerolinecolor": "#EBF0F8"
           },
           "zaxis": {
            "backgroundcolor": "white",
            "gridcolor": "#DFE8F3",
            "gridwidth": 2,
            "linecolor": "#EBF0F8",
            "showbackground": true,
            "ticks": "",
            "zerolinecolor": "#EBF0F8"
           }
          },
          "shapedefaults": {
           "line": {
            "color": "#2a3f5f"
           }
          },
          "ternary": {
           "aaxis": {
            "gridcolor": "#DFE8F3",
            "linecolor": "#A2B1C6",
            "ticks": ""
           },
           "baxis": {
            "gridcolor": "#DFE8F3",
            "linecolor": "#A2B1C6",
            "ticks": ""
           },
           "bgcolor": "white",
           "caxis": {
            "gridcolor": "#DFE8F3",
            "linecolor": "#A2B1C6",
            "ticks": ""
           }
          },
          "title": {
           "x": 0.05
          },
          "xaxis": {
           "automargin": true,
           "gridcolor": "#EBF0F8",
           "linecolor": "#EBF0F8",
           "ticks": "",
           "title": {
            "standoff": 15
           },
           "zerolinecolor": "#EBF0F8",
           "zerolinewidth": 2
          },
          "yaxis": {
           "automargin": true,
           "gridcolor": "#EBF0F8",
           "linecolor": "#EBF0F8",
           "ticks": "",
           "title": {
            "standoff": 15
           },
           "zerolinecolor": "#EBF0F8",
           "zerolinewidth": 2
          }
         }
        },
        "title": {
         "text": "3D Surface of Laplacian (Sinusoidal Grid)"
        }
       }
      }
     },
     "metadata": {},
     "output_type": "display_data"
    },
    {
     "data": {
      "application/vnd.plotly.v1+json": {
       "config": {
        "plotlyServerURL": "https://plot.ly"
       },
       "data": [
        {
         "colorscale": [
          [
           0,
           "#440154"
          ],
          [
           0.1111111111111111,
           "#482878"
          ],
          [
           0.2222222222222222,
           "#3e4989"
          ],
          [
           0.3333333333333333,
           "#31688e"
          ],
          [
           0.4444444444444444,
           "#26828e"
          ],
          [
           0.5555555555555556,
           "#1f9e89"
          ],
          [
           0.6666666666666666,
           "#35b779"
          ],
          [
           0.7777777777777778,
           "#6ece58"
          ],
          [
           0.8888888888888888,
           "#b5de2b"
          ],
          [
           1,
           "#fde725"
          ]
         ],
         "type": "surface",
         "x": [
          [
           0,
           0.1111111111111111,
           0.2222222222222222,
           0.3333333333333333,
           0.4444444444444444,
           0.5555555555555556,
           0.6666666666666666,
           0.7777777777777777,
           0.8888888888888888,
           1
          ],
          [
           0,
           0.1111111111111111,
           0.2222222222222222,
           0.3333333333333333,
           0.4444444444444444,
           0.5555555555555556,
           0.6666666666666666,
           0.7777777777777777,
           0.8888888888888888,
           1
          ],
          [
           0,
           0.1111111111111111,
           0.2222222222222222,
           0.3333333333333333,
           0.4444444444444444,
           0.5555555555555556,
           0.6666666666666666,
           0.7777777777777777,
           0.8888888888888888,
           1
          ],
          [
           0,
           0.1111111111111111,
           0.2222222222222222,
           0.3333333333333333,
           0.4444444444444444,
           0.5555555555555556,
           0.6666666666666666,
           0.7777777777777777,
           0.8888888888888888,
           1
          ],
          [
           0,
           0.1111111111111111,
           0.2222222222222222,
           0.3333333333333333,
           0.4444444444444444,
           0.5555555555555556,
           0.6666666666666666,
           0.7777777777777777,
           0.8888888888888888,
           1
          ],
          [
           0,
           0.1111111111111111,
           0.2222222222222222,
           0.3333333333333333,
           0.4444444444444444,
           0.5555555555555556,
           0.6666666666666666,
           0.7777777777777777,
           0.8888888888888888,
           1
          ],
          [
           0,
           0.1111111111111111,
           0.2222222222222222,
           0.3333333333333333,
           0.4444444444444444,
           0.5555555555555556,
           0.6666666666666666,
           0.7777777777777777,
           0.8888888888888888,
           1
          ],
          [
           0,
           0.1111111111111111,
           0.2222222222222222,
           0.3333333333333333,
           0.4444444444444444,
           0.5555555555555556,
           0.6666666666666666,
           0.7777777777777777,
           0.8888888888888888,
           1
          ],
          [
           0,
           0.1111111111111111,
           0.2222222222222222,
           0.3333333333333333,
           0.4444444444444444,
           0.5555555555555556,
           0.6666666666666666,
           0.7777777777777777,
           0.8888888888888888,
           1
          ],
          [
           0,
           0.1111111111111111,
           0.2222222222222222,
           0.3333333333333333,
           0.4444444444444444,
           0.5555555555555556,
           0.6666666666666666,
           0.7777777777777777,
           0.8888888888888888,
           1
          ]
         ],
         "y": [
          [
           0,
           0,
           0,
           0,
           0,
           0,
           0,
           0,
           0,
           0
          ],
          [
           0.1111111111111111,
           0.1111111111111111,
           0.1111111111111111,
           0.1111111111111111,
           0.1111111111111111,
           0.1111111111111111,
           0.1111111111111111,
           0.1111111111111111,
           0.1111111111111111,
           0.1111111111111111
          ],
          [
           0.2222222222222222,
           0.2222222222222222,
           0.2222222222222222,
           0.2222222222222222,
           0.2222222222222222,
           0.2222222222222222,
           0.2222222222222222,
           0.2222222222222222,
           0.2222222222222222,
           0.2222222222222222
          ],
          [
           0.3333333333333333,
           0.3333333333333333,
           0.3333333333333333,
           0.3333333333333333,
           0.3333333333333333,
           0.3333333333333333,
           0.3333333333333333,
           0.3333333333333333,
           0.3333333333333333,
           0.3333333333333333
          ],
          [
           0.4444444444444444,
           0.4444444444444444,
           0.4444444444444444,
           0.4444444444444444,
           0.4444444444444444,
           0.4444444444444444,
           0.4444444444444444,
           0.4444444444444444,
           0.4444444444444444,
           0.4444444444444444
          ],
          [
           0.5555555555555556,
           0.5555555555555556,
           0.5555555555555556,
           0.5555555555555556,
           0.5555555555555556,
           0.5555555555555556,
           0.5555555555555556,
           0.5555555555555556,
           0.5555555555555556,
           0.5555555555555556
          ],
          [
           0.6666666666666666,
           0.6666666666666666,
           0.6666666666666666,
           0.6666666666666666,
           0.6666666666666666,
           0.6666666666666666,
           0.6666666666666666,
           0.6666666666666666,
           0.6666666666666666,
           0.6666666666666666
          ],
          [
           0.7777777777777777,
           0.7777777777777777,
           0.7777777777777777,
           0.7777777777777777,
           0.7777777777777777,
           0.7777777777777777,
           0.7777777777777777,
           0.7777777777777777,
           0.7777777777777777,
           0.7777777777777777
          ],
          [
           0.8888888888888888,
           0.8888888888888888,
           0.8888888888888888,
           0.8888888888888888,
           0.8888888888888888,
           0.8888888888888888,
           0.8888888888888888,
           0.8888888888888888,
           0.8888888888888888,
           0.8888888888888888
          ],
          [
           1,
           1,
           1,
           1,
           1,
           1,
           1,
           1,
           1,
           1
          ]
         ],
         "z": [
          [
           0,
           0,
           0,
           0,
           0,
           0,
           0,
           0,
           0,
           0
          ],
          [
           0,
           0,
           0,
           0,
           0,
           -2.498001805406602e-16,
           0,
           6.245004513516506e-17,
           0,
           -6.245004513516506e-16
          ],
          [
           0,
           0,
           0,
           0,
           0,
           -4.996003610813204e-16,
           0,
           1.124100812432971e-15,
           0,
           -1.2490009027033011e-15
          ],
          [
           0,
           0,
           0,
           0,
           0,
           0,
           0,
           4.246603069191224e-15,
           0,
           -1.4988010832439613e-15
          ],
          [
           0,
           0,
           0,
           0,
           0,
           -9.992007221626409e-16,
           0,
           1.7486012637846216e-15,
           0,
           -2.4980018054066022e-15
          ],
          [
           0,
           -2.498001805406602e-16,
           -4.996003610813204e-16,
           0,
           -9.992007221626409e-16,
           -3.9968028886505635e-15,
           -1.9984014443252818e-15,
           -2.4980018054066022e-15,
           0,
           -1.4988010832439613e-15
          ],
          [
           0,
           0,
           0,
           0,
           0,
           -1.9984014443252818e-15,
           0,
           5.495603971894525e-15,
           0,
           -4.9960036108132044e-15
          ],
          [
           0,
           6.245004513516506e-17,
           1.124100812432971e-15,
           4.246603069191224e-15,
           1.7486012637846216e-15,
           -2.4980018054066022e-15,
           5.495603971894525e-15,
           1.099120794378905e-14,
           6.494804694057166e-15,
           4.496403249731884e-15
          ],
          [
           0,
           0,
           0,
           0,
           0,
           0,
           0,
           6.494804694057166e-15,
           0,
           -2.9976021664879227e-15
          ],
          [
           0,
           -6.245004513516506e-16,
           -1.2490009027033011e-15,
           -1.4988010832439613e-15,
           -2.4980018054066022e-15,
           -1.4988010832439613e-15,
           -4.9960036108132044e-15,
           4.496403249731884e-15,
           -2.9976021664879227e-15,
           0
          ]
         ]
        }
       ],
       "layout": {
        "scene": {
         "camera": {
          "eye": {
           "x": 1.5,
           "y": 1.5,
           "z": 1.5
          }
         },
         "xaxis": {
          "title": {
           "text": "X"
          }
         },
         "yaxis": {
          "title": {
           "text": "Y"
          }
         },
         "zaxis": {
          "title": {
           "text": "Laplacian Value"
          }
         }
        },
        "template": {
         "data": {
          "bar": [
           {
            "error_x": {
             "color": "#2a3f5f"
            },
            "error_y": {
             "color": "#2a3f5f"
            },
            "marker": {
             "line": {
              "color": "white",
              "width": 0.5
             },
             "pattern": {
              "fillmode": "overlay",
              "size": 10,
              "solidity": 0.2
             }
            },
            "type": "bar"
           }
          ],
          "barpolar": [
           {
            "marker": {
             "line": {
              "color": "white",
              "width": 0.5
             },
             "pattern": {
              "fillmode": "overlay",
              "size": 10,
              "solidity": 0.2
             }
            },
            "type": "barpolar"
           }
          ],
          "carpet": [
           {
            "aaxis": {
             "endlinecolor": "#2a3f5f",
             "gridcolor": "#C8D4E3",
             "linecolor": "#C8D4E3",
             "minorgridcolor": "#C8D4E3",
             "startlinecolor": "#2a3f5f"
            },
            "baxis": {
             "endlinecolor": "#2a3f5f",
             "gridcolor": "#C8D4E3",
             "linecolor": "#C8D4E3",
             "minorgridcolor": "#C8D4E3",
             "startlinecolor": "#2a3f5f"
            },
            "type": "carpet"
           }
          ],
          "choropleth": [
           {
            "colorbar": {
             "outlinewidth": 0,
             "ticks": ""
            },
            "type": "choropleth"
           }
          ],
          "contour": [
           {
            "colorbar": {
             "outlinewidth": 0,
             "ticks": ""
            },
            "colorscale": [
             [
              0,
              "#0d0887"
             ],
             [
              0.1111111111111111,
              "#46039f"
             ],
             [
              0.2222222222222222,
              "#7201a8"
             ],
             [
              0.3333333333333333,
              "#9c179e"
             ],
             [
              0.4444444444444444,
              "#bd3786"
             ],
             [
              0.5555555555555556,
              "#d8576b"
             ],
             [
              0.6666666666666666,
              "#ed7953"
             ],
             [
              0.7777777777777778,
              "#fb9f3a"
             ],
             [
              0.8888888888888888,
              "#fdca26"
             ],
             [
              1,
              "#f0f921"
             ]
            ],
            "type": "contour"
           }
          ],
          "contourcarpet": [
           {
            "colorbar": {
             "outlinewidth": 0,
             "ticks": ""
            },
            "type": "contourcarpet"
           }
          ],
          "heatmap": [
           {
            "colorbar": {
             "outlinewidth": 0,
             "ticks": ""
            },
            "colorscale": [
             [
              0,
              "#0d0887"
             ],
             [
              0.1111111111111111,
              "#46039f"
             ],
             [
              0.2222222222222222,
              "#7201a8"
             ],
             [
              0.3333333333333333,
              "#9c179e"
             ],
             [
              0.4444444444444444,
              "#bd3786"
             ],
             [
              0.5555555555555556,
              "#d8576b"
             ],
             [
              0.6666666666666666,
              "#ed7953"
             ],
             [
              0.7777777777777778,
              "#fb9f3a"
             ],
             [
              0.8888888888888888,
              "#fdca26"
             ],
             [
              1,
              "#f0f921"
             ]
            ],
            "type": "heatmap"
           }
          ],
          "heatmapgl": [
           {
            "colorbar": {
             "outlinewidth": 0,
             "ticks": ""
            },
            "colorscale": [
             [
              0,
              "#0d0887"
             ],
             [
              0.1111111111111111,
              "#46039f"
             ],
             [
              0.2222222222222222,
              "#7201a8"
             ],
             [
              0.3333333333333333,
              "#9c179e"
             ],
             [
              0.4444444444444444,
              "#bd3786"
             ],
             [
              0.5555555555555556,
              "#d8576b"
             ],
             [
              0.6666666666666666,
              "#ed7953"
             ],
             [
              0.7777777777777778,
              "#fb9f3a"
             ],
             [
              0.8888888888888888,
              "#fdca26"
             ],
             [
              1,
              "#f0f921"
             ]
            ],
            "type": "heatmapgl"
           }
          ],
          "histogram": [
           {
            "marker": {
             "pattern": {
              "fillmode": "overlay",
              "size": 10,
              "solidity": 0.2
             }
            },
            "type": "histogram"
           }
          ],
          "histogram2d": [
           {
            "colorbar": {
             "outlinewidth": 0,
             "ticks": ""
            },
            "colorscale": [
             [
              0,
              "#0d0887"
             ],
             [
              0.1111111111111111,
              "#46039f"
             ],
             [
              0.2222222222222222,
              "#7201a8"
             ],
             [
              0.3333333333333333,
              "#9c179e"
             ],
             [
              0.4444444444444444,
              "#bd3786"
             ],
             [
              0.5555555555555556,
              "#d8576b"
             ],
             [
              0.6666666666666666,
              "#ed7953"
             ],
             [
              0.7777777777777778,
              "#fb9f3a"
             ],
             [
              0.8888888888888888,
              "#fdca26"
             ],
             [
              1,
              "#f0f921"
             ]
            ],
            "type": "histogram2d"
           }
          ],
          "histogram2dcontour": [
           {
            "colorbar": {
             "outlinewidth": 0,
             "ticks": ""
            },
            "colorscale": [
             [
              0,
              "#0d0887"
             ],
             [
              0.1111111111111111,
              "#46039f"
             ],
             [
              0.2222222222222222,
              "#7201a8"
             ],
             [
              0.3333333333333333,
              "#9c179e"
             ],
             [
              0.4444444444444444,
              "#bd3786"
             ],
             [
              0.5555555555555556,
              "#d8576b"
             ],
             [
              0.6666666666666666,
              "#ed7953"
             ],
             [
              0.7777777777777778,
              "#fb9f3a"
             ],
             [
              0.8888888888888888,
              "#fdca26"
             ],
             [
              1,
              "#f0f921"
             ]
            ],
            "type": "histogram2dcontour"
           }
          ],
          "mesh3d": [
           {
            "colorbar": {
             "outlinewidth": 0,
             "ticks": ""
            },
            "type": "mesh3d"
           }
          ],
          "parcoords": [
           {
            "line": {
             "colorbar": {
              "outlinewidth": 0,
              "ticks": ""
             }
            },
            "type": "parcoords"
           }
          ],
          "pie": [
           {
            "automargin": true,
            "type": "pie"
           }
          ],
          "scatter": [
           {
            "marker": {
             "colorbar": {
              "outlinewidth": 0,
              "ticks": ""
             }
            },
            "type": "scatter"
           }
          ],
          "scatter3d": [
           {
            "line": {
             "colorbar": {
              "outlinewidth": 0,
              "ticks": ""
             }
            },
            "marker": {
             "colorbar": {
              "outlinewidth": 0,
              "ticks": ""
             }
            },
            "type": "scatter3d"
           }
          ],
          "scattercarpet": [
           {
            "marker": {
             "colorbar": {
              "outlinewidth": 0,
              "ticks": ""
             }
            },
            "type": "scattercarpet"
           }
          ],
          "scattergeo": [
           {
            "marker": {
             "colorbar": {
              "outlinewidth": 0,
              "ticks": ""
             }
            },
            "type": "scattergeo"
           }
          ],
          "scattergl": [
           {
            "marker": {
             "colorbar": {
              "outlinewidth": 0,
              "ticks": ""
             }
            },
            "type": "scattergl"
           }
          ],
          "scattermapbox": [
           {
            "marker": {
             "colorbar": {
              "outlinewidth": 0,
              "ticks": ""
             }
            },
            "type": "scattermapbox"
           }
          ],
          "scatterpolar": [
           {
            "marker": {
             "colorbar": {
              "outlinewidth": 0,
              "ticks": ""
             }
            },
            "type": "scatterpolar"
           }
          ],
          "scatterpolargl": [
           {
            "marker": {
             "colorbar": {
              "outlinewidth": 0,
              "ticks": ""
             }
            },
            "type": "scatterpolargl"
           }
          ],
          "scatterternary": [
           {
            "marker": {
             "colorbar": {
              "outlinewidth": 0,
              "ticks": ""
             }
            },
            "type": "scatterternary"
           }
          ],
          "surface": [
           {
            "colorbar": {
             "outlinewidth": 0,
             "ticks": ""
            },
            "colorscale": [
             [
              0,
              "#0d0887"
             ],
             [
              0.1111111111111111,
              "#46039f"
             ],
             [
              0.2222222222222222,
              "#7201a8"
             ],
             [
              0.3333333333333333,
              "#9c179e"
             ],
             [
              0.4444444444444444,
              "#bd3786"
             ],
             [
              0.5555555555555556,
              "#d8576b"
             ],
             [
              0.6666666666666666,
              "#ed7953"
             ],
             [
              0.7777777777777778,
              "#fb9f3a"
             ],
             [
              0.8888888888888888,
              "#fdca26"
             ],
             [
              1,
              "#f0f921"
             ]
            ],
            "type": "surface"
           }
          ],
          "table": [
           {
            "cells": {
             "fill": {
              "color": "#EBF0F8"
             },
             "line": {
              "color": "white"
             }
            },
            "header": {
             "fill": {
              "color": "#C8D4E3"
             },
             "line": {
              "color": "white"
             }
            },
            "type": "table"
           }
          ]
         },
         "layout": {
          "annotationdefaults": {
           "arrowcolor": "#2a3f5f",
           "arrowhead": 0,
           "arrowwidth": 1
          },
          "autotypenumbers": "strict",
          "coloraxis": {
           "colorbar": {
            "outlinewidth": 0,
            "ticks": ""
           }
          },
          "colorscale": {
           "diverging": [
            [
             0,
             "#8e0152"
            ],
            [
             0.1,
             "#c51b7d"
            ],
            [
             0.2,
             "#de77ae"
            ],
            [
             0.3,
             "#f1b6da"
            ],
            [
             0.4,
             "#fde0ef"
            ],
            [
             0.5,
             "#f7f7f7"
            ],
            [
             0.6,
             "#e6f5d0"
            ],
            [
             0.7,
             "#b8e186"
            ],
            [
             0.8,
             "#7fbc41"
            ],
            [
             0.9,
             "#4d9221"
            ],
            [
             1,
             "#276419"
            ]
           ],
           "sequential": [
            [
             0,
             "#0d0887"
            ],
            [
             0.1111111111111111,
             "#46039f"
            ],
            [
             0.2222222222222222,
             "#7201a8"
            ],
            [
             0.3333333333333333,
             "#9c179e"
            ],
            [
             0.4444444444444444,
             "#bd3786"
            ],
            [
             0.5555555555555556,
             "#d8576b"
            ],
            [
             0.6666666666666666,
             "#ed7953"
            ],
            [
             0.7777777777777778,
             "#fb9f3a"
            ],
            [
             0.8888888888888888,
             "#fdca26"
            ],
            [
             1,
             "#f0f921"
            ]
           ],
           "sequentialminus": [
            [
             0,
             "#0d0887"
            ],
            [
             0.1111111111111111,
             "#46039f"
            ],
            [
             0.2222222222222222,
             "#7201a8"
            ],
            [
             0.3333333333333333,
             "#9c179e"
            ],
            [
             0.4444444444444444,
             "#bd3786"
            ],
            [
             0.5555555555555556,
             "#d8576b"
            ],
            [
             0.6666666666666666,
             "#ed7953"
            ],
            [
             0.7777777777777778,
             "#fb9f3a"
            ],
            [
             0.8888888888888888,
             "#fdca26"
            ],
            [
             1,
             "#f0f921"
            ]
           ]
          },
          "colorway": [
           "#636efa",
           "#EF553B",
           "#00cc96",
           "#ab63fa",
           "#FFA15A",
           "#19d3f3",
           "#FF6692",
           "#B6E880",
           "#FF97FF",
           "#FECB52"
          ],
          "font": {
           "color": "#2a3f5f"
          },
          "geo": {
           "bgcolor": "white",
           "lakecolor": "white",
           "landcolor": "white",
           "showlakes": true,
           "showland": true,
           "subunitcolor": "#C8D4E3"
          },
          "hoverlabel": {
           "align": "left"
          },
          "hovermode": "closest",
          "mapbox": {
           "style": "light"
          },
          "paper_bgcolor": "white",
          "plot_bgcolor": "white",
          "polar": {
           "angularaxis": {
            "gridcolor": "#EBF0F8",
            "linecolor": "#EBF0F8",
            "ticks": ""
           },
           "bgcolor": "white",
           "radialaxis": {
            "gridcolor": "#EBF0F8",
            "linecolor": "#EBF0F8",
            "ticks": ""
           }
          },
          "scene": {
           "xaxis": {
            "backgroundcolor": "white",
            "gridcolor": "#DFE8F3",
            "gridwidth": 2,
            "linecolor": "#EBF0F8",
            "showbackground": true,
            "ticks": "",
            "zerolinecolor": "#EBF0F8"
           },
           "yaxis": {
            "backgroundcolor": "white",
            "gridcolor": "#DFE8F3",
            "gridwidth": 2,
            "linecolor": "#EBF0F8",
            "showbackground": true,
            "ticks": "",
            "zerolinecolor": "#EBF0F8"
           },
           "zaxis": {
            "backgroundcolor": "white",
            "gridcolor": "#DFE8F3",
            "gridwidth": 2,
            "linecolor": "#EBF0F8",
            "showbackground": true,
            "ticks": "",
            "zerolinecolor": "#EBF0F8"
           }
          },
          "shapedefaults": {
           "line": {
            "color": "#2a3f5f"
           }
          },
          "ternary": {
           "aaxis": {
            "gridcolor": "#DFE8F3",
            "linecolor": "#A2B1C6",
            "ticks": ""
           },
           "baxis": {
            "gridcolor": "#DFE8F3",
            "linecolor": "#A2B1C6",
            "ticks": ""
           },
           "bgcolor": "white",
           "caxis": {
            "gridcolor": "#DFE8F3",
            "linecolor": "#A2B1C6",
            "ticks": ""
           }
          },
          "title": {
           "x": 0.05
          },
          "xaxis": {
           "automargin": true,
           "gridcolor": "#EBF0F8",
           "linecolor": "#EBF0F8",
           "ticks": "",
           "title": {
            "standoff": 15
           },
           "zerolinecolor": "#EBF0F8",
           "zerolinewidth": 2
          },
          "yaxis": {
           "automargin": true,
           "gridcolor": "#EBF0F8",
           "linecolor": "#EBF0F8",
           "ticks": "",
           "title": {
            "standoff": 15
           },
           "zerolinecolor": "#EBF0F8",
           "zerolinewidth": 2
          }
         }
        },
        "title": {
         "text": "3D Surface of Laplacian (Linear Grid)"
        }
       }
      }
     },
     "metadata": {},
     "output_type": "display_data"
    }
   ],
   "source": [
    "import numpy as np\n",
    "import plotly.graph_objects as go\n",
    "\n",
    "def finite_difference_2d(u, hx, hy):\n",
    "    # Compute the gradient\n",
    "    grad_u = np.gradient(u, hx, hy)\n",
    "    \n",
    "    # Second derivative in x direction\n",
    "    d2u_dx2 = np.gradient(grad_u[0], hx, axis=0)  # Gradient in x direction\n",
    "    # Second derivative in y direction\n",
    "    d2u_dy2 = np.gradient(grad_u[1], hy, axis=1)  # Gradient in y direction\n",
    "    \n",
    "    return d2u_dx2, d2u_dy2\n",
    "\n",
    "def compute_laplacian(u, hx, hy):\n",
    "    # Compute the second derivatives\n",
    "    d2u_dx2, d2u_dy2 = finite_difference_2d(u, hx, hy)\n",
    "    # Compute the Laplacian\n",
    "    laplacian = d2u_dx2 + d2u_dy2\n",
    "    return laplacian\n",
    "\n",
    "# Define grid size\n",
    "Nx = 10\n",
    "Ny = 10\n",
    "\n",
    "# Example usage\n",
    "hx = 1 / (Nx - 1)\n",
    "hy = 1 / (Ny - 1)\n",
    "\n",
    "# Test 1: Zero grid\n",
    "u1 = np.zeros((Nx, Ny))  # Example grid\n",
    "laplacian_1 = compute_laplacian(u1, hx, hy)\n",
    "\n",
    "# Test 2: Sinusoidal grid\n",
    "u2 = np.sin(np.pi * np.linspace(0, 1, Nx)[:, None]) * np.sin(np.pi * np.linspace(0, 1, Ny))  # 2D sinusoidal function\n",
    "laplacian_2 = compute_laplacian(u2, hx, hy)\n",
    "\n",
    "# Test 3: Linear grid\n",
    "u3 = np.linspace(0, 1, Nx)[:, None] * np.linspace(0, 1, Ny)  # 2D linear function\n",
    "laplacian_3 = compute_laplacian(u3, hx, hy)\n",
    "\n",
    "# Function to create 3D surface plots\n",
    "def plot_3d_surface(X, Y, Z, title):\n",
    "    fig = go.Figure(data=[go.Surface(z=Z, x=X, y=Y, colorscale='Viridis')])\n",
    "    fig.update_layout(\n",
    "        title=title,\n",
    "        scene=dict(\n",
    "            xaxis_title='X',\n",
    "            yaxis_title='Y',\n",
    "            zaxis_title='Laplacian Value',\n",
    "            camera=dict(eye=dict(x=1.5, y=1.5, z=1.5))\n",
    "        ),\n",
    "        template='plotly_white'\n",
    "    )\n",
    "    fig.show()\n",
    "\n",
    "# Create meshgrid for plotting\n",
    "X, Y = np.meshgrid(np.linspace(0, 1, Nx), np.linspace(0, 1, Ny))\n",
    "\n",
    "# Plot results for Laplacian of Test 1\n",
    "plot_3d_surface(X, Y, laplacian_1, '3D Surface of Laplacian (Zero Grid)')\n",
    "\n",
    "# Plot results for Laplacian of Test 2\n",
    "plot_3d_surface(X, Y, laplacian_2, '3D Surface of Laplacian (Sinusoidal Grid)')\n",
    "\n",
    "# Plot results for Laplacian of Test 3\n",
    "plot_3d_surface(X, Y, laplacian_3, '3D Surface of Laplacian (Linear Grid)')"
   ]
  },
  {
   "cell_type": "markdown",
   "metadata": {},
   "source": [
    "4. Write the discrete Laplacian in a matrix form, and express the discrete Poisson equation as a linear system $\\mathbb{A} \\mathbf{u}=\\mathbf{f}$ of size $\\left(N_x-1\\right) \\times\\left(N_y-1\\right)$. To do so you need to order the unknowns to get a global unknown vector. For example, you can use the column ordering $\\mathbf{u}=\\mathbf{u}_j, j=\\left\\{1, N_y-1\\right\\}$, where each $\\mathbf{u}_j$ is a vector of size $\\left(N_x-1\\right)$ such that\n",
    "\n",
    "$$\n",
    "\\mathbf{u}_j=\\left(u_{0 j}, u_{1 j}, \\cdots, u_{N_x-1, j}\\right)^T\n",
    "$$\n",
    "\n",
    "\n",
    "Up to now we have not considered the boundary points. In any PDE solver we need to specify boundary conditions. Let us assume we use a homogeneous Dirichlet boundary condition everywhere, that is\n",
    "\n",
    "$$\n",
    "u(x, 1)=u(x, 0)=u(1, y)=u(0, y)=0, \\quad(x, y) \\in \\partial \\Omega\n",
    "$$\n",
    "\n",
    "\n",
    "Show that the boundary condition can be incorporated into the linear system as\n",
    "\n",
    "$$\n",
    "\\mathbb{A} \\mathbf{u}=\\mathbf{b}+\\mathbf{f}\n",
    "$$\n",
    "\n",
    "where you will specify the vector $\\mathbf{b}$, of size $\\left(N_y-1\\right)^2$. How would you extend the procedure for a non-zero boundary condition?"
   ]
  },
  {
   "cell_type": "code",
   "execution_count": 9,
   "metadata": {},
   "outputs": [],
   "source": [
    "import numpy as np\n",
    "def create_poisson_system(Nx, Ny):\n",
    "    # Step 1: Generate the grid\n",
    "    x = np.linspace(0, 1, Nx)\n",
    "    y = np.linspace(0, 1, Ny)\n",
    "    X, Y = np.meshgrid(x, y)\n",
    "\n",
    "    # Step 2: Define the discrete Laplacian\n",
    "    hx = 1 / (Nx - 1)\n",
    "    hy = 1 / (Ny - 1)\n",
    "\n",
    "    from scipy.sparse import diags\n",
    "\n",
    "    # Diagonal entries for the Laplacian\n",
    "    diagonals = [-4 * np.ones((Nx - 1) * (Ny - 1)), \n",
    "                 np.ones((Nx - 1) * (Ny - 1) - 1), \n",
    "                 np.ones((Nx - 1) * (Ny - 1) - 1), \n",
    "                 np.ones((Nx - 1) * (Ny - 1) - (Nx - 1)), \n",
    "                 np.ones((Nx - 1) * (Ny - 1) - (Nx - 1))]\n",
    "    \n",
    "    # Adjust for the boundary conditions\n",
    "    for i in range(1, Ny - 1):\n",
    "        diagonals[1][i * (Nx - 1) - 1] = 0  # Right boundary\n",
    "    for i in range(1, Ny - 1):\n",
    "        diagonals[2][i * (Nx - 1)] = 0  # Left boundary\n",
    "\n",
    "    # Create the sparse matrix\n",
    "    A = diags(diagonals, [0, -1, 1, -(Nx - 1), (Nx - 1)], shape=((Nx - 1) * (Ny - 1), (Nx - 1) * (Ny - 1))).tocsc()\n",
    "\n",
    "    # Step 3: Define the right-hand side vector\n",
    "    f = np.zeros((Nx - 1) * (Ny - 1))  # Initialize f\n",
    "\n",
    "    # Step 4: Incorporate boundary conditions\n",
    "    b = np.zeros((Ny - 1) ** 2)  # Initialize b for the boundary conditions\n",
    "    # Here you can define b based on your specific boundary conditions\n",
    "\n",
    "    return A, f, b"
   ]
  },
  {
   "cell_type": "markdown",
   "metadata": {},
   "source": [
    "## 1.2 Validation of the implementation\n",
    "\n",
    "To validate the implementation we need to define an exact solution. To do so let us take\n",
    "\n",
    "$$\n",
    "u_{\\mathrm{ex}}(x, y)=\\sin ^2(\\pi x) \\sin ^2(\\pi y)\n",
    "$$\n",
    "\n",
    "\n",
    "Find by hand the corresponding right-hand-side $f(x, y)$ for this solution. Is the exact solution consistent with the boundary conditions?\n",
    "Given a number of grid points (start with a small number), call a linear system solver and compute the relative error in the maximum norm in the computational domain $\\Omega$. Show a convergence plot in log-log scale with respect to the step size. What is the expected convergence rate? Do you observe any difficulty in terms of computational time?"
   ]
  },
  {
   "cell_type": "code",
   "execution_count": 11,
   "metadata": {},
   "outputs": [
    {
     "data": {
      "image/png": "[encoded data removed]",
      "text/plain": [
       "<Figure size 640x480 with 1 Axes>"
      ]
     },
     "metadata": {},
     "output_type": "display_data"
    }
   ],
   "source": [
    "import matplotlib.pyplot as plt\n",
    "from scipy.sparse.linalg import spsolve\n",
    "\n",
    "# Define the exact solution\n",
    "def exact_solution(X, Y):\n",
    "    return np.sin(np.pi * X) ** 2 * np.sin(np.pi * Y) ** 2\n",
    "\n",
    "# Define the right-hand side f(x, y)\n",
    "def compute_rhs(X, Y):\n",
    "    return -np.pi ** 2 * (2 * np.sin(np.pi * X) ** 2 * np.sin(np.pi * Y) ** 2 +\n",
    "                          2 * np.sin(np.pi * X) ** 2 * np.cos(np.pi * Y) ** 2 +\n",
    "                          2 * np.sin(np.pi * Y) ** 2 * np.cos(np.pi * X) ** 2)\n",
    "\n",
    "# Validation function\n",
    "def validate_solver(Nx, Ny):\n",
    "    # Create the Poisson system\n",
    "    A, f, b = create_poisson_system(Nx, Ny)\n",
    "    \n",
    "    # Solve the linear system\n",
    "    u = spsolve(A, f + b)  # Incorporate boundary conditions\n",
    "\n",
    "    # Create grid for exact solution\n",
    "    x = np.linspace(0, 1, Nx)\n",
    "    y = np.linspace(0, 1, Ny)\n",
    "    X, Y = np.meshgrid(x, y)\n",
    "\n",
    "    # Compute exact solution and error\n",
    "    u_ex = exact_solution(X, Y).flatten()[:(Nx - 1) * (Ny - 1)]  # Ensure u_ex matches the size of u\n",
    "    error = np.max(np.abs(u - u_ex))\n",
    "\n",
    "    return error\n",
    "\n",
    "# Convergence analysis\n",
    "errors = []\n",
    "grid_sizes = [10, 20, 40, 80]\n",
    "\n",
    "for size in grid_sizes:\n",
    "    error = validate_solver(size, size)\n",
    "    errors.append(error)\n",
    "\n",
    "# Plotting the convergence\n",
    "plt.loglog(grid_sizes, errors, marker='o')\n",
    "plt.xlabel('Grid Size (N)')\n",
    "plt.ylabel('Max Error')\n",
    "plt.title('Convergence of the Poisson Solver')\n",
    "plt.grid()\n",
    "plt.show()"
   ]
  },
  {
   "cell_type": "markdown",
   "metadata": {},
   "source": [
    "## 2 Solving the linear system\n",
    "In this part we will analyze various ways to solve the linear system. We will compare the numerical cost of some direct and iterative methods."
   ]
  },
  {
   "cell_type": "markdown",
   "metadata": {},
   "source": [
    "## 2.1 Direct methods\n",
    "\n",
    "In the first section we used a dense representation of the matrix, meaning that all the entries were stored. Implement instead a sparse representation of the matrix that stores only the non-zeros entries. In Python you can use the scipy.sparse library (look up at the documentation: scipy.sparse.spdiags, scipy.sparse.kron, scipy.sparse.eye, ...)\n",
    "- Solve again the system using a sparse solver, and compare the computational time with the direct approach (i.e. solving the problem with a dense representation of the matrix). You may write the discrete Laplacian as\n",
    "\n",
    "$$\n",
    "\\Delta_h=\\mathbb{I} \\otimes \\mathbb{T}+\\mathbb{T} \\otimes \\mathbb{I}\n",
    "$$\n",
    "\n",
    "where $\\otimes$ is the Kronecker product, and $\\mathbb{T}$ a matrix to be identified.\n",
    "- Explain why it is advantageous to use a sparse matrix representation. As a justification, you may count the number of operations when doing a Gaussian elimination of a tridiagonal matrix."
   ]
  },
  {
   "cell_type": "code",
   "execution_count": 15,
   "metadata": {},
   "outputs": [
    {
     "name": "stdout",
     "output_type": "stream",
     "text": [
      "Solution u: [-0. -0. -0. -0. -0. -0. -0. -0. -0. -0. -0. -0. -0. -0. -0. -0. -0. -0.\n",
      " -0. -0. -0. -0. -0. -0. -0. -0. -0. -0. -0. -0. -0. -0. -0. -0. -0. -0.\n",
      " -0. -0. -0. -0. -0. -0. -0. -0. -0. -0. -0. -0. -0. -0. -0. -0. -0. -0.\n",
      " -0. -0. -0. -0. -0. -0. -0. -0. -0. -0. -0. -0. -0. -0. -0. -0. -0. -0.\n",
      " -0. -0. -0. -0. -0. -0. -0. -0. -0.]\n"
     ]
    }
   ],
   "source": [
    "from scipy.sparse.linalg import spsolve\n",
    "\n",
    "def create_poisson_system_sparse(Nx, Ny):\n",
    "    # Step 1: Generate the grid\n",
    "    x = np.linspace(0, 1, Nx)\n",
    "    y = np.linspace(0, 1, Ny)\n",
    "    X, Y = np.meshgrid(x, y)\n",
    "\n",
    "    # Step 2: Define the discrete Laplacian\n",
    "    hx = 1 / (Nx - 1)\n",
    "    hy = 1 / (Ny - 1)\n",
    "\n",
    "    # Diagonal entries for the Laplacian\n",
    "    diagonals = [-4 * np.ones((Nx - 1) * (Ny - 1)), \n",
    "                 np.ones((Nx - 1) * (Ny - 1) - 1), \n",
    "                 np.ones((Nx - 1) * (Ny - 1) - 1), \n",
    "                 np.ones((Nx - 1) * (Ny - 1) - (Nx - 1)), \n",
    "                 np.ones((Nx - 1) * (Ny - 1) - (Nx - 1))]\n",
    "    \n",
    "    # Adjust for the boundary conditions\n",
    "    for i in range(1, Ny - 1):\n",
    "        diagonals[1][i * (Nx - 1) - 1] = 0  # Right boundary\n",
    "    for i in range(1, Ny - 1):\n",
    "        diagonals[2][i * (Nx - 1)] = 0  # Left boundary\n",
    "\n",
    "    # Create the sparse matrix\n",
    "    A = diags(diagonals, [0, -1, 1, -(Nx - 1), (Nx - 1)], shape=((Nx - 1) * (Ny - 1), (Nx - 1) * (Ny - 1))).tocsc()\n",
    "\n",
    "    # Step 3: Define the right-hand side vector\n",
    "    f = np.zeros((Nx - 1) * (Ny - 1))  # Initialize f\n",
    "\n",
    "    # Step 4: Incorporate boundary conditions\n",
    "    b = np.zeros((Ny - 1) ** 2)  # Initialize b for the boundary conditions\n",
    "\n",
    "    return A, f, b\n",
    "\n",
    "def solve_poisson_direct(A, f, b):\n",
    "    # Solve the system using a sparse solver\n",
    "    u = spsolve(A, f + b)  # Incorporate boundary conditions\n",
    "    return u\n",
    "\n",
    "# Example usage\n",
    "Nx, Ny = 10, 10  # Define grid size\n",
    "A, f, b = create_poisson_system_sparse(Nx, Ny)\n",
    "u = solve_poisson_direct(A, f, b)\n",
    "\n",
    "print(\"Solution u:\", u)"
   ]
  },
  {
   "cell_type": "markdown",
   "metadata": {},
   "source": [
    "## 2.2 Iterative methods\n",
    "\n",
    "We shall now investigate the performance of some iterative methods. Before doing so you may find theoretically the eigenvalues of the discrete Laplacian in 2D by following these steps\n",
    "- If $\\mathbb{T}$ is of size $N$, show that its eigenvalues are $\\lambda_i=2-2 \\cos \\left(\\frac{\\pi i}{N+1}\\right)$. (Hint: find a recurrence formula for the eigenvalues and look again at the definition of Chebychev polynomials)\n",
    "- Use the Kronecker product form of $\\Delta_h$ to deduce the eigenvalues $\\lambda_{i, j}$ of the 2D discrete Laplacian (Hint: look up on what does the Kronecker product to eigenvalues)\n",
    "\n",
    "We now turn into the implementation of iterative methods.\n",
    "1. Implement the Jacobi and Gauss-Seidel methods, and validate their implementation thanks to a small test that you will choose.\n",
    "2. Do you expect these methods to converge for the discrete Poisson problem ? Explain your answer by giving linear algebra arguments and by writing down the convergence radius. How will the convergence be affected when increasing the number of grid points?\n",
    "3. Explain how to measure the cost of an iterative solver (number of iterations and cost per iteration).\n",
    "4. Implement the SOR method. Plot the number of iterations to reach a given residual (that you fix) as a function of the relaxation parameter $\\omega$. Is there an optimal parameter ? If yes, can you predict this value theoretically?\n",
    "5. Plot the decrease of the residual for different methods (Jacobi, Gauss-Seidel, SOR) and conclude on the computational performance of these iterative methods."
   ]
  },
  {
   "cell_type": "code",
   "execution_count": 14,
   "metadata": {},
   "outputs": [
    {
     "name": "stdout",
     "output_type": "stream",
     "text": [
      "Solving using Jacobi method:\n",
      "Jacobi converged in 1 iterations.\n",
      "Solving using Gauss-Seidel method:\n",
      "Gauss-Seidel converged in 1 iterations.\n"
     ]
    },
    {
     "data": {
      "text/plain": [
       "(array([-0., -0., -0., -0., -0., -0., -0., -0., -0., -0., -0., -0., -0.,\n",
       "        -0., -0., -0., -0., -0., -0., -0., -0., -0., -0., -0., -0., -0.,\n",
       "        -0., -0., -0., -0., -0., -0., -0., -0., -0., -0., -0., -0., -0.,\n",
       "        -0., -0., -0., -0., -0., -0., -0., -0., -0., -0., -0., -0., -0.,\n",
       "        -0., -0., -0., -0., -0., -0., -0., -0., -0., -0., -0., -0., -0.,\n",
       "        -0., -0., -0., -0., -0., -0., -0., -0., -0., -0., -0., -0., -0.,\n",
       "        -0., -0., -0.]),\n",
       " array([-0., -0., -0., -0., -0., -0., -0., -0., -0., -0., -0., -0., -0.,\n",
       "        -0., -0., -0., -0., -0., -0., -0., -0., -0., -0., -0., -0., -0.,\n",
       "        -0., -0., -0., -0., -0., -0., -0., -0., -0., -0., -0., -0., -0.,\n",
       "        -0., -0., -0., -0., -0., -0., -0., -0., -0., -0., -0., -0., -0.,\n",
       "        -0., -0., -0., -0., -0., -0., -0., -0., -0., -0., -0., -0., -0.,\n",
       "        -0., -0., -0., -0., -0., -0., -0., -0., -0., -0., -0., -0., -0.,\n",
       "        -0., -0., -0.]))"
      ]
     },
     "execution_count": 14,
     "metadata": {},
     "output_type": "execute_result"
    }
   ],
   "source": [
    "import numpy as np\n",
    "\n",
    "def jacobi(A, b, x0, max_iterations=1000, tolerance=1e-10):\n",
    "    x = x0.copy()\n",
    "    n = len(b)\n",
    "    \n",
    "    for it in range(max_iterations):\n",
    "        x_new = np.zeros_like(x)\n",
    "        for i in range(n):\n",
    "            sum_ax = np.dot(A[i, :], x) - A[i, i] * x[i]\n",
    "            x_new[i] = (b[i] - sum_ax) / A[i, i]\n",
    "        \n",
    "        # Check for convergence\n",
    "        if np.linalg.norm(x_new - x, ord=np.inf) < tolerance:\n",
    "            print(f\"Jacobi converged in {it + 1} iterations.\")\n",
    "            return x_new\n",
    "        \n",
    "        x = x_new\n",
    "    \n",
    "    print(\"Jacobi did not converge.\")\n",
    "    return x\n",
    "\n",
    "def gauss_seidel(A, b, x0, max_iterations=1000, tolerance=1e-10):\n",
    "    x = x0.copy()\n",
    "    n = len(b)\n",
    "    \n",
    "    for it in range(max_iterations):\n",
    "        x_new = x.copy()\n",
    "        for i in range(n):\n",
    "            sum_ax = np.dot(A[i, :], x_new) - A[i, i] * x_new[i]\n",
    "            x_new[i] = (b[i] - sum_ax) / A[i, i]\n",
    "        \n",
    "        # Check for convergence\n",
    "        if np.linalg.norm(x_new - x, ord=np.inf) < tolerance:\n",
    "            print(f\"Gauss-Seidel converged in {it + 1} iterations.\")\n",
    "            return x_new\n",
    "        \n",
    "        x = x_new\n",
    "    \n",
    "    print(\"Gauss-Seidel did not converge.\")\n",
    "    return x\n",
    "\n",
    "# Validation Test\n",
    "def validate_iterative_methods(Nx, Ny):\n",
    "    A, f, b = create_poisson_system(Nx, Ny)  # Create the system\n",
    "    x0 = np.zeros((Nx - 1) * (Ny - 1))  # Initial guess\n",
    "\n",
    "    # Solve using Jacobi method\n",
    "    print(\"Solving using Jacobi method:\")\n",
    "    x_jacobi = jacobi(A.toarray(), f + b, x0)\n",
    "\n",
    "    # Solve using Gauss-Seidel method\n",
    "    print(\"Solving using Gauss-Seidel method:\")\n",
    "    x_gauss_seidel = gauss_seidel(A.toarray(), f + b, x0)\n",
    "\n",
    "    return x_jacobi, x_gauss_seidel\n",
    "\n",
    "# Example usage\n",
    "Nx, Ny = 10, 10  # Define grid size\n",
    "validate_iterative_methods(Nx, Ny)"
   ]
  },
  {
   "cell_type": "markdown",
   "metadata": {},
   "source": [
    "## 3 Extensions to the solver\n",
    "You can continue the development of your solver by choosing one of the following extensions\n",
    "1. Add a diffusion term to your solver such that the equation becomes\n",
    "\n",
    "$$\n",
    "-\\Delta u+\\alpha u=f\n",
    "$$\n",
    "\n",
    "where $\\alpha$ is a real parameter. Solve again your problem with direct and iterative methods. What is going on for iterative methods when $\\alpha<0$ ? Explain the behaviour by an analysis of the eigenvalues.\n",
    "2. Implement a higher order finite difference formula.\n",
    "3. Implement the conjugate gradient iterative method, and compare its efficiency with the other iterative methods.\n",
    "4. Implement non-homogeneous Dirichlet boundary conditions and/or Neumann boundary conditions thanks to the 2nd order centered difference scheme. Validate your solver by checking the convergence rate thanks to an exact solution that you will define."
   ]
  },
  {
   "cell_type": "code",
   "execution_count": 16,
   "metadata": {},
   "outputs": [],
   "source": [
    "# Numerical_Analysis_Project/Project2.ipynb\n",
    "def create_poisson_system_with_diffusion(Nx, Ny, alpha):\n",
    "    # Step 1: Generate the grid\n",
    "    x = np.linspace(0, 1, Nx)\n",
    "    y = np.linspace(0, 1, Ny)\n",
    "    X, Y = np.meshgrid(x, y)\n",
    "\n",
    "    # Step 2: Define the discrete Laplacian with diffusion term\n",
    "    hx = 1 / (Nx - 1)\n",
    "    hy = 1 / (Ny - 1)\n",
    "\n",
    "    # Diagonal entries for the Laplacian with diffusion term\n",
    "    diagonals = [(-4 + alpha * hx**2) * np.ones((Nx - 1) * (Ny - 1)), \n",
    "                 np.ones((Nx - 1) * (Ny - 1) - 1), \n",
    "                 np.ones((Nx - 1) * (Ny - 1) - 1), \n",
    "                 np.ones((Nx - 1) * (Ny - 1) - (Nx - 1)), \n",
    "                 np.ones((Nx - 1) * (Ny - 1) - (Nx - 1))]\n",
    "    \n",
    "    # Adjust for the boundary conditions\n",
    "    for i in range(1, Ny - 1):\n",
    "        diagonals[1][i * (Nx - 1) - 1] = 0  # Right boundary\n",
    "    for i in range(1, Ny - 1):\n",
    "        diagonals[2][i * (Nx - 1)] = 0  # Left boundary\n",
    "\n",
    "    # Create the sparse matrix\n",
    "    A = diags(diagonals, [0, -1, 1, -(Nx - 1), (Nx - 1)], shape=((Nx - 1) * (Ny - 1), (Nx - 1) * (Ny - 1))).tocsc()\n",
    "\n",
    "    # Step 3: Define the right-hand side vector\n",
    "    f = np.zeros((Nx - 1) * (Ny - 1))  # Initialize f\n",
    "\n",
    "    # Step 4: Incorporate boundary conditions\n",
    "    b = np.zeros((Ny - 1) ** 2)  # Initialize b for the boundary conditions\n",
    "\n",
    "    return A, f, b\n",
    "\n",
    "# Numerical_Analysis_Project/Project2.ipynb\n",
    "def create_poisson_system_higher_order(Nx, Ny):\n",
    "    # Step 1: Generate the grid\n",
    "    x = np.linspace(0, 1, Nx)\n",
    "    y = np.linspace(0, 1, Ny)\n",
    "    X, Y = np.meshgrid(x, y)\n",
    "\n",
    "    # Step 2: Define the higher-order discrete Laplacian\n",
    "    hx = 1 / (Nx - 1)\n",
    "    hy = 1 / (Ny - 1)\n",
    "\n",
    "    # Diagonal entries for the higher-order Laplacian\n",
    "    diagonals = [-4 * np.ones((Nx - 1) * (Ny - 1)), \n",
    "                 np.ones((Nx - 1) * (Ny - 1) - 1), \n",
    "                 np.ones((Nx - 1) * (Ny - 1) - 1), \n",
    "                 np.ones((Nx - 1) * (Ny - 1) - (Nx - 1)), \n",
    "                 np.ones((Nx - 1) * (Ny - 1) - (Nx - 1))]\n",
    "    \n",
    "    # Adjust for the boundary conditions\n",
    "    for i in range(1, Ny - 1):\n",
    "        diagonals[1][i * (Nx - 1) - 1] = 0  # Right boundary\n",
    "    for i in range(1, Ny - 1):\n",
    "        diagonals[2][i * (Nx - 1)] = 0  # Left boundary\n",
    "\n",
    "    # Create the sparse matrix\n",
    "    A = diags(diagonals, [0, -1, 1, -(Nx - 1), (Nx - 1)], shape=((Nx - 1) * (Ny - 1), (Nx - 1) * (Ny - 1))).tocsc()\n",
    "\n",
    "    # Step 3: Define the right-hand side vector\n",
    "    f = np.zeros((Nx - 1) * (Ny - 1))  # Initialize f\n",
    "\n",
    "    # Step 4: Incorporate boundary conditions\n",
    "    b = np.zeros((Ny - 1) ** 2)  # Initialize b for the boundary conditions\n",
    "\n",
    "    return A, f, b\n",
    "\n",
    "# Numerical_Analysis_Project/Project2.ipynb\n",
    "from scipy.sparse.linalg import cg\n",
    "\n",
    "def solve_poisson_conjugate_gradient(A, f, b):\n",
    "    # Solve the system using the Conjugate Gradient method\n",
    "    u, info = cg(A, f + b)  # Incorporate boundary conditions\n",
    "    if info != 0:\n",
    "        print(\"Conjugate Gradient did not converge\")\n",
    "    return u"
   ]
  },
  {
   "cell_type": "code",
   "execution_count": 20,
   "metadata": {},
   "outputs": [
    {
     "name": "stdout",
     "output_type": "stream",
     "text": [
      "Conjugate Gradient did not converge\n",
      "Max error between numerical and exact solution: 52.91462014870801\n"
     ]
    }
   ],
   "source": [
    "import matplotlib.pyplot as plt\n",
    "\n",
    "# Define the exact solution for validation\n",
    "def exact_solution(X, Y):\n",
    "    return np.sin(np.pi * X) * np.sin(np.pi * Y)\n",
    "\n",
    "# Define the right-hand side f(x, y) for the exact solution\n",
    "def compute_rhs(Nx, Ny):\n",
    "    x = np.linspace(0, 1, Nx)\n",
    "    y = np.linspace(0, 1, Ny)\n",
    "    X, Y = np.meshgrid(x, y)\n",
    "    return -2 * np.pi**2 * exact_solution(X, Y).flatten()\n",
    "\n",
    "# Test the functions\n",
    "def test_poisson_solver_with_diffusion(Nx, Ny, alpha):\n",
    "    # Create the Poisson system with diffusion\n",
    "    A, f, _ = create_poisson_system_with_diffusion(Nx, Ny, alpha)\n",
    "    \n",
    "    # Compute the right-hand side based on the exact solution\n",
    "    f = compute_rhs(Nx, Ny)[:(Nx - 1) * (Ny - 1)]  # Ensure f has the correct size\n",
    "    \n",
    "    # Initialize b for the boundary conditions\n",
    "    b = np.zeros((Nx - 1) * (Ny - 1))  # Ensure b is of the correct size\n",
    "\n",
    "    # Solve the system using Conjugate Gradient\n",
    "    u = solve_poisson_conjugate_gradient(A, f, b)\n",
    "    \n",
    "    # Create grid for exact solution\n",
    "    x = np.linspace(0, 1, Nx)\n",
    "    y = np.linspace(0, 1, Ny)\n",
    "    X, Y = np.meshgrid(x, y)\n",
    "    \n",
    "    # Compute the exact solution\n",
    "    u_exact = exact_solution(X, Y).flatten()[:(Nx - 1) * (Ny - 1)]\n",
    "    \n",
    "    # Calculate the error\n",
    "    error = np.max(np.abs(u - u_exact))\n",
    "    \n",
    "    print(f\"Max error between numerical and exact solution: {error}\")\n",
    "\n",
    "# Example usage\n",
    "Nx, Ny = 10, 10  # Define grid size\n",
    "alpha = 0.1      # Define diffusion coefficient\n",
    "test_poisson_solver_with_diffusion(Nx, Ny, alpha)"
   ]
  },
  {
   "cell_type": "markdown",
   "metadata": {},
   "source": []
  }
 ],
 "metadata": {
  "kernelspec": {
   "display_name": "Python 3",
   "language": "python",
   "name": "python3"
  },
  "language_info": {
   "codemirror_mode": {
    "name": "ipython",
    "version": 3
   },
   "file_extension": ".py",
   "mimetype": "text/x-python",
   "name": "python",
   "nbconvert_exporter": "python",
   "pygments_lexer": "ipython3",
   "version": "3.10.2"
  }
 },
 "nbformat": 4,
 "nbformat_minor": 2
}
