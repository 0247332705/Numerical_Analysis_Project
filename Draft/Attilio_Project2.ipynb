{
 "cells": [
  {
   "cell_type": "markdown",
   "metadata": {},
   "source": [
    "<# Project 2\n",
    "## Introduction\n",
    "The Poisson equation appears in many physical applications: electrostatics, fluid mechanics, gravitational field, heat conduction, etc. Let us consider the Poisson problem in two space dimensions $x$ and $y$. It takes the form\n",
    "\n",
    "$$\n",
    "-\\Delta u=f(x, y), \\quad(x, y) \\in \\Omega, \\quad \\Delta=\\frac{\\partial^2}{\\partial x^2}+\\frac{\\partial^2}{\\partial y^2}\n",
    "$$\n",
    "\n",
    "where $u=u(x, y)$ is the function we are seeking, $f=f(x, y)$ is a source term, and $\\Omega$ is the computational domain. In this project you will design a Poisson solver over a square domain\n",
    "\n",
    "$$\n",
    "\\Omega=\\{(x, y), 0 \\leq x \\leq 1,0 \\leq y \\leq 1\\}\n",
    "$$\n",
    "\n",
    "and analyze its numerical properties. We propose to discretize the Poisson equation by a classical finite difference scheme, and to investigate the numerical performance of various linear system solvers. In the first part you will focus on finite difference discretization in two-dimensions and the verification of the code. In the second part you will test different direct and iterative linear system solvers, and try to understand their performance.\n",
    "You should write a small project report that shows your results, and summarize your findings. For the evaluation I will pay attention to the quality of the interpretations, how you apply the algorithms and the quality of the numerical illustrations. It does not need to be long: I will prefer a short summary that shows that you have understood and analyzed the methods."
   ]
  },
  {
   "cell_type": "markdown",
   "metadata": {},
   "source": [
    "## 1 Finite difference discretization\n",
    "In this part we propose to i) find a discrete version of the Poisson problem, ii) implement and validate the solver."
   ]
  },
  {
   "cell_type": "markdown",
   "metadata": {},
   "source": [
    "## 1.1 Designing the solver\n",
    "\n",
    "You may follow the steps below\n",
    "1. Generate a rectangular grid of $\\left(N_x-1\\right) \\times\\left(N_y-1\\right)$ points, which will represent the discretization of the interior domain of $\\Omega$. Each point ( $x_i, y_j$ ) of the grid has an index $i \\in\\left\\{1, \\cdots, N_x-1\\right\\}$ and $j \\in\\left\\{1, \\cdots, N_y-1\\right\\}$. You can use the numpy. meshgrid function."
   ]
  },
  {
   "cell_type": "code",
   "execution_count": 3,
   "metadata": {},
   "outputs": [],
   "source": [
    "# Step 1: Generate the grid\n",
    "import numpy as np\n",
    "import matplotlib.pyplot as plt\n",
    "\n",
    "Nx = 10\n",
    "Ny = 10\n",
    "x = np.linspace(0, 1, Nx)  # Create an array of Nx points between 0 and 1\n",
    "y = np.linspace(0, 1, Ny)  # Create an array of Ny points between 0 and 1\n",
    "X, Y = np.meshgrid(x, y)   # Generate the meshgrid from x and y\n"
   ]
  },
  {
   "cell_type": "markdown",
   "metadata": {},
   "source": [
    "2. Recall the finite difference formula for the second order derivative in 1D and its approximation order. Apply the formula to the $x$ and $y$ directions.\n"
   ]
  },
  {
   "cell_type": "code",
   "execution_count": 4,
   "metadata": {},
   "outputs": [],
   "source": [
    "# Define the grid size and spacing\n",
    "hx = 1 / (Nx - 1)  # Grid spacing in the x direction\n",
    "hy = 1 / (Ny - 1)  # Grid spacing in the y direction\n",
    "\n",
    "# Create a meshgrid for x and y\n",
    "x = np.linspace(0, 1, Nx)  # x-coordinates\n",
    "y = np.linspace(0, 1, Ny)  # y-coordinates\n",
    "X, Y = np.meshgrid(x, y)  # Create a 2D grid\n",
    "\n",
    "# Define the function u(x, y) = sin^2(pi x) * sin^2(pi y)\n",
    "u = np.sin(np.pi * X)**2 * np.sin(np.pi * Y)**2  # Example function\n",
    "\n",
    "# Initialize arrays for second derivatives\n",
    "d2u_dx2 = np.zeros((Nx, Ny))\n",
    "d2u_dy2 = np.zeros((Nx, Ny))\n",
    "\n",
    "# Compute second derivatives for interior points\n",
    "for i in range(1, Nx - 1):\n",
    "    for j in range(1, Ny - 1):\n",
    "        # d^2u/dx^2 at (i, j):\n",
    "        d2u_dx2[i, j] = (u[i+1, j] - 2*u[i, j] + u[i-1, j]) / hx**2\n",
    "        \n",
    "        # d^2u/dy^2 at (i, j):\n",
    "        d2u_dy2[i, j] = (u[i, j+1] - 2*u[i, j] + u[i, j-1]) / hy**2\n",
    "\n",
    "# Now d2u_dx2 and d2u_dy2 contain the second derivatives for the interior points\n",
    "#d2u_dx2, d2u_dy2 "
   ]
  },
  {
   "cell_type": "markdown",
   "metadata": {},
   "source": [
    "3. Combine the two partial derivatives and write an explicit form of the discrete Laplacian in terms of the grid points. Use the notation shorthand $u_{i j}=u\\left(x_i, y_j\\right)$ for the unknowns. What simplification do you obtain with an uniform grid?\n"
   ]
  },
  {
   "cell_type": "markdown",
   "metadata": {},
   "source": [
    "## The Discrete Laplacian\n",
    "\n",
    "The Laplacian operator in 2D is given by:\n",
    "\n",
    "1. Second-order derivative in $x$ :\n",
    "\n",
    "$$\n",
    "\\left.\\frac{\\partial^2 u}{\\partial x^2}\\right|_{(i, j)} \\approx \\frac{u_{i+1, j}-2 u_{i, j}+u_{i-1, j}}{\\Delta x^2}\n",
    "$$\n",
    "\n",
    "2. Second-order derivative in $y$ :\n",
    "\n",
    "$$\n",
    "\\left.\\frac{\\partial^2 u}{\\partial y^2}\\right|_{(i, j)} \\approx \\frac{u_{i, j+1}-2 u_{i, j}+u_{i, j-1}}{\\Delta y^2}\n",
    "$$\n",
    "\n",
    "\n",
    "Combining the Approximations\n",
    "Combining the $x$ - and $y$-direction derivatives, the discrete Laplacian becomes:\n",
    "\n",
    "$$\n",
    "\\Delta u_{i, j} \\approx \\frac{u_{i+1, j}-2 u_{i, j}+u_{i-1, j}}{\\Delta x^2}+\\frac{u_{i, j+1}-2 u_{i, j}+u_{i, j-1}}{\\Delta y^2}\n",
    "$$\n"
   ]
  },
  {
   "cell_type": "code",
   "execution_count": 5,
   "metadata": {},
   "outputs": [],
   "source": [
    "import sympy as sp\n",
    "import plotly.graph_objects as go\n",
    "\n",
    "def finite_difference_second_derivatives(u, hx, hy):\n",
    "    \"\"\"\n",
    "    Compute the second-order derivatives of a 2D array u using finite difference approximations.\n",
    "\n",
    "    Parameters:\n",
    "    u : 2D numpy array\n",
    "        The values of the function u at grid points.\n",
    "    hx : float\n",
    "        The grid spacing in the x direction (Δx).\n",
    "    hy : float\n",
    "        The grid spacing in the y direction (Δy).\n",
    "\n",
    "    Returns:\n",
    "    d2u_dx2 : 2D numpy array\n",
    "        The second derivative of u with respect to x.\n",
    "    d2u_dy2 : 2D numpy array\n",
    "        The second derivative of u with respect to y.\n",
    "    \"\"\"\n",
    "    # Initialize the second derivative arrays\n",
    "    d2u_dx2 = np.zeros_like(u)\n",
    "    d2u_dy2 = np.zeros_like(u)\n",
    "\n",
    "    # Compute the second derivative with respect to x\n",
    "    d2u_dx2[1:-1, 1:-1] = (u[2:, 1:-1] - 2 * u[1:-1, 1:-1] + u[:-2, 1:-1]) / hx**2\n",
    "\n",
    "    # Compute the second derivative with respect to y\n",
    "    d2u_dy2[1:-1, 1:-1] = (u[1:-1, 2:] - 2 * u[1:-1, 1:-1] + u[1:-1, :-2]) / hy**2\n",
    "\n",
    "    return d2u_dx2, d2u_dy2\n",
    "\n"
   ]
  },
  {
   "cell_type": "markdown",
   "metadata": {},
   "source": [
    "## Simplification with a Uniform Grid\n",
    "For a uniform grid, the grid spacing in both directions is equal $(\\Delta x=\\Delta y=h)$. This simplifies the Laplacian to:\n",
    "\n",
    "$$\n",
    "-\\Delta u_{i, j}=\\frac{-u_{i+1, j}+2 u_{i, j}-u_{i-1, j}}{h^2}+\\frac{-u_{i, j+1}+2 u_{i, j}-u_{i, j-1}}{h^2} .\n",
    "$$\n",
    "\n",
    "\n",
    "Factoring out $h^2$, we obtain:\n",
    "\n",
    "$$\n",
    "-\\Delta u_{i, j}=\\frac{-u_{i+1, j}-u_{i-1, j}-u_{i, j+1}-u_{i, j-1}+4 u_{i, j}}{h^2}\n",
    "$$\n"
   ]
  },
  {
   "cell_type": "code",
   "execution_count": 6,
   "metadata": {},
   "outputs": [
    {
     "name": "stdout",
     "output_type": "stream",
     "text": [
      "Numerical Laplacian:\n",
      "⎡         0            0.849074355273444  2.99900609385099   5.44381826142245 \n",
      "⎢                                                                             \n",
      "⎢ 0.849074355273444    1.89061824129193   3.67882558433499   5.08209386588796 \n",
      "⎢                                                                             \n",
      "⎢  2.99900609385099    3.67882558433499   2.40118286698649   -1.2776427173485 \n",
      "⎢                                                                             \n",
      "⎢  5.44381826142245    5.08209386588796   -1.2776427173485   -12.5502183016835\n",
      "⎢                                                                             \n",
      "⎢  7.03955607372047    5.99801218770198   -3.67882558433499  -19.9078694703535\n",
      "⎢                                                                             \n",
      "⎢  7.03955607372047    5.99801218770198   -3.67882558433499  -19.9078694703535\n",
      "⎢                                                                             \n",
      "⎢  5.44381826142245    5.08209386588797   -1.2776427173485   -12.5502183016835\n",
      "⎢                                                                             \n",
      "⎢  2.99900609385099    3.67882558433499   2.40118286698649   -1.27764271734851\n",
      "⎢                                                                             \n",
      "⎢ 0.849074355273445    1.89061824129193   3.67882558433499   5.08209386588796 \n",
      "⎢                                                                             \n",
      "⎣1.08858929234688e-31  0.849074355273444  2.99900609385099   5.44381826142245 \n",
      "\n",
      "  7.03955607372047   7.03955607372047   5.44381826142245   2.99900609385099   \n",
      "                                                                              \n",
      "  5.99801218770198   5.99801218770198   5.08209386588797   3.67882558433499   \n",
      "                                                                              \n",
      "  -3.67882558433499  -3.67882558433499  -1.2776427173485   2.40118286698649   \n",
      "                                                                              \n",
      "  -19.9078694703535  -19.9078694703535  -12.5502183016835  -1.27764271734851  \n",
      "                                                                              \n",
      "  -30.5006255642045  -30.5006255642045  -19.9078694703535   -3.678825584335   \n",
      "                                                                              \n",
      "  -30.5006255642045  -30.5006255642045  -19.9078694703535   -3.678825584335   \n",
      "                                                                              \n",
      "  -19.9078694703535  -19.9078694703535  -12.5502183016835  -1.27764271734851  \n",
      "                                                                              \n",
      "   -3.678825584335    -3.678825584335   -1.27764271734851  2.40118286698648   \n",
      "                                                                              \n",
      "  5.99801218770198   5.99801218770198   5.08209386588797   3.67882558433499   \n",
      "                                                                              \n",
      "  7.03955607372047   7.03955607372047   5.44381826142246   2.99900609385099   \n",
      "\n",
      "0.849074355273445  1.08858929234688e-31⎤\n",
      "                                       ⎥\n",
      "1.89061824129193    0.849074355273444  ⎥\n",
      "                                       ⎥\n",
      "3.67882558433499     2.99900609385099  ⎥\n",
      "                                       ⎥\n",
      "5.08209386588796     5.44381826142245  ⎥\n",
      "                                       ⎥\n",
      "5.99801218770198     7.03955607372047  ⎥\n",
      "                                       ⎥\n",
      "5.99801218770198     7.03955607372047  ⎥\n",
      "                                       ⎥\n",
      "5.08209386588797     5.44381826142246  ⎥\n",
      "                                       ⎥\n",
      "3.67882558433499     2.99900609385099  ⎥\n",
      "                                       ⎥\n",
      "1.89061824129193    0.849074355273445  ⎥\n",
      "                                       ⎥\n",
      "0.849074355273445  2.17717858469376e-31⎦\n",
      "\n",
      "Exact Laplacian:\n",
      "⎡-39.4784176043574  -34.8603200166529  -23.1668864392641  -9.86960440108936  -\n",
      "⎢                                                                             \n",
      "⎢-34.8603200166529  -30.2422224289485  -18.5487888515596  -5.25150681338487  3\n",
      "⎢                                                                             \n",
      "⎢-23.1668864392641  -18.5487888515596  -6.85535527417073  6.44192676400399   1\n",
      "⎢                                                                             \n",
      "⎢-9.86960440108936  -5.25150681338487  6.44192676400398   19.7392088021787   2\n",
      "⎢                                                                             \n",
      "⎢-1.19041995061913  3.42767763708536   15.1211112144742   28.4183932526489   3\n",
      "⎢                                                                             \n",
      "⎢-1.19041995061913  3.42767763708536   15.1211112144742   28.4183932526489   3\n",
      "⎢                                                                             \n",
      "⎢-9.86960440108935  -5.25150681338486   6.441926764004    19.7392088021787   2\n",
      "⎢                                                                             \n",
      "⎢-23.1668864392641  -18.5487888515596  -6.85535527417072   6.441926764004    1\n",
      "⎢                                                                             \n",
      "⎢-34.8603200166529  -30.2422224289484  -18.5487888515596  -5.25150681338487  3\n",
      "⎢                                                                             \n",
      "⎣-39.4784176043574  -34.8603200166529  -23.1668864392641  -9.86960440108936  -\n",
      "\n",
      "1.19041995061913  -1.19041995061913  -9.86960440108935  -23.1668864392641  -34\n",
      "                                                                              \n",
      ".42767763708536   3.42767763708536   -5.25150681338486  -18.5487888515596  -30\n",
      "                                                                              \n",
      "5.1211112144742   15.1211112144742    6.441926764004    -6.85535527417072  -18\n",
      "                                                                              \n",
      "8.4183932526489   28.4183932526489   19.7392088021787    6.441926764004    -5.\n",
      "                                                                              \n",
      "7.0975777031192   37.0975777031192   28.4183932526489   15.1211112144742   3.4\n",
      "                                                                              \n",
      "7.0975777031192   37.0975777031192   28.4183932526489   15.1211112144742   3.4\n",
      "                                                                              \n",
      "8.4183932526489   28.4183932526489   19.7392088021787   6.44192676400401   -5.\n",
      "                                                                              \n",
      "5.1211112144742   15.1211112144742   6.44192676400401   -6.85535527417071  -18\n",
      "                                                                              \n",
      ".42767763708537   3.42767763708537   -5.25150681338485  -18.5487888515596  -30\n",
      "                                                                              \n",
      "1.19041995061913  -1.19041995061913  -9.86960440108935  -23.1668864392641  -34\n",
      "\n",
      ".8603200166529  -39.4784176043574⎤\n",
      "                                 ⎥\n",
      ".2422224289484  -34.8603200166529⎥\n",
      "                                 ⎥\n",
      ".5487888515596  -23.1668864392641⎥\n",
      "                                 ⎥\n",
      "25150681338487  -9.86960440108936⎥\n",
      "                                 ⎥\n",
      "2767763708537   -1.19041995061913⎥\n",
      "                                 ⎥\n",
      "2767763708537   -1.19041995061913⎥\n",
      "                                 ⎥\n",
      "25150681338486  -9.86960440108935⎥\n",
      "                                 ⎥\n",
      ".5487888515596  -23.1668864392641⎥\n",
      "                                 ⎥\n",
      ".2422224289484  -34.8603200166529⎥\n",
      "                                 ⎥\n",
      ".8603200166529  -39.4784176043574⎦\n",
      "\n",
      "Maximum absolute error: 67.59820326732364\n"
     ]
    },
    {
     "data": {
      "application/vnd.plotly.v1+json": {
       "config": {
        "plotlyServerURL": "https://plot.ly"
       },
       "data": [
        {
         "colorscale": [
          [
           0,
           "#440154"
          ],
          [
           0.1111111111111111,
           "#482878"
          ],
          [
           0.2222222222222222,
           "#3e4989"
          ],
          [
           0.3333333333333333,
           "#31688e"
          ],
          [
           0.4444444444444444,
           "#26828e"
          ],
          [
           0.5555555555555556,
           "#1f9e89"
          ],
          [
           0.6666666666666666,
           "#35b779"
          ],
          [
           0.7777777777777778,
           "#6ece58"
          ],
          [
           0.8888888888888888,
           "#b5de2b"
          ],
          [
           1,
           "#fde725"
          ]
         ],
         "showscale": true,
         "type": "surface",
         "x": [
          [
           0,
           0.1111111111111111,
           0.2222222222222222,
           0.3333333333333333,
           0.4444444444444444,
           0.5555555555555556,
           0.6666666666666666,
           0.7777777777777777,
           0.8888888888888888,
           1
          ],
          [
           0,
           0.1111111111111111,
           0.2222222222222222,
           0.3333333333333333,
           0.4444444444444444,
           0.5555555555555556,
           0.6666666666666666,
           0.7777777777777777,
           0.8888888888888888,
           1
          ],
          [
           0,
           0.1111111111111111,
           0.2222222222222222,
           0.3333333333333333,
           0.4444444444444444,
           0.5555555555555556,
           0.6666666666666666,
           0.7777777777777777,
           0.8888888888888888,
           1
          ],
          [
           0,
           0.1111111111111111,
           0.2222222222222222,
           0.3333333333333333,
           0.4444444444444444,
           0.5555555555555556,
           0.6666666666666666,
           0.7777777777777777,
           0.8888888888888888,
           1
          ],
          [
           0,
           0.1111111111111111,
           0.2222222222222222,
           0.3333333333333333,
           0.4444444444444444,
           0.5555555555555556,
           0.6666666666666666,
           0.7777777777777777,
           0.8888888888888888,
           1
          ],
          [
           0,
           0.1111111111111111,
           0.2222222222222222,
           0.3333333333333333,
           0.4444444444444444,
           0.5555555555555556,
           0.6666666666666666,
           0.7777777777777777,
           0.8888888888888888,
           1
          ],
          [
           0,
           0.1111111111111111,
           0.2222222222222222,
           0.3333333333333333,
           0.4444444444444444,
           0.5555555555555556,
           0.6666666666666666,
           0.7777777777777777,
           0.8888888888888888,
           1
          ],
          [
           0,
           0.1111111111111111,
           0.2222222222222222,
           0.3333333333333333,
           0.4444444444444444,
           0.5555555555555556,
           0.6666666666666666,
           0.7777777777777777,
           0.8888888888888888,
           1
          ],
          [
           0,
           0.1111111111111111,
           0.2222222222222222,
           0.3333333333333333,
           0.4444444444444444,
           0.5555555555555556,
           0.6666666666666666,
           0.7777777777777777,
           0.8888888888888888,
           1
          ],
          [
           0,
           0.1111111111111111,
           0.2222222222222222,
           0.3333333333333333,
           0.4444444444444444,
           0.5555555555555556,
           0.6666666666666666,
           0.7777777777777777,
           0.8888888888888888,
           1
          ]
         ],
         "y": [
          [
           0,
           0,
           0,
           0,
           0,
           0,
           0,
           0,
           0,
           0
          ],
          [
           0.1111111111111111,
           0.1111111111111111,
           0.1111111111111111,
           0.1111111111111111,
           0.1111111111111111,
           0.1111111111111111,
           0.1111111111111111,
           0.1111111111111111,
           0.1111111111111111,
           0.1111111111111111
          ],
          [
           0.2222222222222222,
           0.2222222222222222,
           0.2222222222222222,
           0.2222222222222222,
           0.2222222222222222,
           0.2222222222222222,
           0.2222222222222222,
           0.2222222222222222,
           0.2222222222222222,
           0.2222222222222222
          ],
          [
           0.3333333333333333,
           0.3333333333333333,
           0.3333333333333333,
           0.3333333333333333,
           0.3333333333333333,
           0.3333333333333333,
           0.3333333333333333,
           0.3333333333333333,
           0.3333333333333333,
           0.3333333333333333
          ],
          [
           0.4444444444444444,
           0.4444444444444444,
           0.4444444444444444,
           0.4444444444444444,
           0.4444444444444444,
           0.4444444444444444,
           0.4444444444444444,
           0.4444444444444444,
           0.4444444444444444,
           0.4444444444444444
          ],
          [
           0.5555555555555556,
           0.5555555555555556,
           0.5555555555555556,
           0.5555555555555556,
           0.5555555555555556,
           0.5555555555555556,
           0.5555555555555556,
           0.5555555555555556,
           0.5555555555555556,
           0.5555555555555556
          ],
          [
           0.6666666666666666,
           0.6666666666666666,
           0.6666666666666666,
           0.6666666666666666,
           0.6666666666666666,
           0.6666666666666666,
           0.6666666666666666,
           0.6666666666666666,
           0.6666666666666666,
           0.6666666666666666
          ],
          [
           0.7777777777777777,
           0.7777777777777777,
           0.7777777777777777,
           0.7777777777777777,
           0.7777777777777777,
           0.7777777777777777,
           0.7777777777777777,
           0.7777777777777777,
           0.7777777777777777,
           0.7777777777777777
          ],
          [
           0.8888888888888888,
           0.8888888888888888,
           0.8888888888888888,
           0.8888888888888888,
           0.8888888888888888,
           0.8888888888888888,
           0.8888888888888888,
           0.8888888888888888,
           0.8888888888888888,
           0.8888888888888888
          ],
          [
           1,
           1,
           1,
           1,
           1,
           1,
           1,
           1,
           1,
           1
          ]
         ],
         "z": [
          [
           0,
           0.8490743552734442,
           2.9990060938509906,
           5.44381826142245,
           7.039556073720469,
           7.039556073720469,
           5.443818261422454,
           2.9990060938509924,
           0.849074355273445,
           1.088589292346879e-31
          ],
          [
           0.8490743552734442,
           1.8906182412919321,
           3.6788255843349917,
           5.082093865887964,
           5.998012187701983,
           5.998012187701983,
           5.082093865887965,
           3.6788255843349917,
           1.8906182412919326,
           0.8490743552734444
          ],
          [
           2.9990060938509906,
           3.6788255843349917,
           2.4011828669864888,
           -1.2776427173484999,
           -3.678825584334987,
           -3.678825584334987,
           -1.277642717348503,
           2.4011828669864865,
           3.6788255843349917,
           2.999006093850991
          ],
          [
           5.44381826142245,
           5.082093865887964,
           -1.2776427173484999,
           -12.550218301683493,
           -19.907869470353475,
           -19.907869470353475,
           -12.550218301683497,
           -1.27764271734851,
           5.082093865887963,
           5.443818261422451
          ],
          [
           7.039556073720469,
           5.998012187701983,
           -3.678825584334987,
           -19.907869470353475,
           -30.500625564204462,
           -30.50062556420446,
           -19.907869470353486,
           -3.678825584335004,
           5.998012187701978,
           7.039556073720469
          ],
          [
           7.039556073720469,
           5.998012187701983,
           -3.678825584334987,
           -19.907869470353475,
           -30.50062556420446,
           -30.500625564204455,
           -19.907869470353486,
           -3.678825584335004,
           5.998012187701979,
           7.039556073720469
          ],
          [
           5.443818261422454,
           5.082093865887965,
           -1.277642717348503,
           -12.550218301683497,
           -19.907869470353486,
           -19.907869470353486,
           -12.55021830168351,
           -1.277642717348514,
           5.082093865887966,
           5.443818261422456
          ],
          [
           2.9990060938509924,
           3.6788255843349917,
           2.4011828669864865,
           -1.27764271734851,
           -3.678825584335004,
           -3.678825584335004,
           -1.277642717348514,
           2.4011828669864834,
           3.678825584334991,
           2.9990060938509933
          ],
          [
           0.849074355273445,
           1.8906182412919326,
           3.6788255843349917,
           5.082093865887963,
           5.998012187701978,
           5.998012187701979,
           5.082093865887966,
           3.678825584334991,
           1.890618241291933,
           0.8490743552734453
          ],
          [
           1.088589292346879e-31,
           0.8490743552734444,
           2.999006093850991,
           5.443818261422451,
           7.039556073720469,
           7.039556073720469,
           5.443818261422456,
           2.9990060938509933,
           0.8490743552734453,
           2.177178584693758e-31
          ]
         ]
        }
       ],
       "layout": {
        "scene": {
         "camera": {
          "eye": {
           "x": 1.5,
           "y": 1.5,
           "z": 1.5
          }
         },
         "xaxis": {
          "title": {
           "text": "X"
          }
         },
         "yaxis": {
          "title": {
           "text": "Y"
          }
         },
         "zaxis": {
          "title": {
           "text": "Value"
          }
         }
        },
        "template": {
         "data": {
          "bar": [
           {
            "error_x": {
             "color": "#2a3f5f"
            },
            "error_y": {
             "color": "#2a3f5f"
            },
            "marker": {
             "line": {
              "color": "white",
              "width": 0.5
             },
             "pattern": {
              "fillmode": "overlay",
              "size": 10,
              "solidity": 0.2
             }
            },
            "type": "bar"
           }
          ],
          "barpolar": [
           {
            "marker": {
             "line": {
              "color": "white",
              "width": 0.5
             },
             "pattern": {
              "fillmode": "overlay",
              "size": 10,
              "solidity": 0.2
             }
            },
            "type": "barpolar"
           }
          ],
          "carpet": [
           {
            "aaxis": {
             "endlinecolor": "#2a3f5f",
             "gridcolor": "#C8D4E3",
             "linecolor": "#C8D4E3",
             "minorgridcolor": "#C8D4E3",
             "startlinecolor": "#2a3f5f"
            },
            "baxis": {
             "endlinecolor": "#2a3f5f",
             "gridcolor": "#C8D4E3",
             "linecolor": "#C8D4E3",
             "minorgridcolor": "#C8D4E3",
             "startlinecolor": "#2a3f5f"
            },
            "type": "carpet"
           }
          ],
          "choropleth": [
           {
            "colorbar": {
             "outlinewidth": 0,
             "ticks": ""
            },
            "type": "choropleth"
           }
          ],
          "contour": [
           {
            "colorbar": {
             "outlinewidth": 0,
             "ticks": ""
            },
            "colorscale": [
             [
              0,
              "#0d0887"
             ],
             [
              0.1111111111111111,
              "#46039f"
             ],
             [
              0.2222222222222222,
              "#7201a8"
             ],
             [
              0.3333333333333333,
              "#9c179e"
             ],
             [
              0.4444444444444444,
              "#bd3786"
             ],
             [
              0.5555555555555556,
              "#d8576b"
             ],
             [
              0.6666666666666666,
              "#ed7953"
             ],
             [
              0.7777777777777778,
              "#fb9f3a"
             ],
             [
              0.8888888888888888,
              "#fdca26"
             ],
             [
              1,
              "#f0f921"
             ]
            ],
            "type": "contour"
           }
          ],
          "contourcarpet": [
           {
            "colorbar": {
             "outlinewidth": 0,
             "ticks": ""
            },
            "type": "contourcarpet"
           }
          ],
          "heatmap": [
           {
            "colorbar": {
             "outlinewidth": 0,
             "ticks": ""
            },
            "colorscale": [
             [
              0,
              "#0d0887"
             ],
             [
              0.1111111111111111,
              "#46039f"
             ],
             [
              0.2222222222222222,
              "#7201a8"
             ],
             [
              0.3333333333333333,
              "#9c179e"
             ],
             [
              0.4444444444444444,
              "#bd3786"
             ],
             [
              0.5555555555555556,
              "#d8576b"
             ],
             [
              0.6666666666666666,
              "#ed7953"
             ],
             [
              0.7777777777777778,
              "#fb9f3a"
             ],
             [
              0.8888888888888888,
              "#fdca26"
             ],
             [
              1,
              "#f0f921"
             ]
            ],
            "type": "heatmap"
           }
          ],
          "heatmapgl": [
           {
            "colorbar": {
             "outlinewidth": 0,
             "ticks": ""
            },
            "colorscale": [
             [
              0,
              "#0d0887"
             ],
             [
              0.1111111111111111,
              "#46039f"
             ],
             [
              0.2222222222222222,
              "#7201a8"
             ],
             [
              0.3333333333333333,
              "#9c179e"
             ],
             [
              0.4444444444444444,
              "#bd3786"
             ],
             [
              0.5555555555555556,
              "#d8576b"
             ],
             [
              0.6666666666666666,
              "#ed7953"
             ],
             [
              0.7777777777777778,
              "#fb9f3a"
             ],
             [
              0.8888888888888888,
              "#fdca26"
             ],
             [
              1,
              "#f0f921"
             ]
            ],
            "type": "heatmapgl"
           }
          ],
          "histogram": [
           {
            "marker": {
             "pattern": {
              "fillmode": "overlay",
              "size": 10,
              "solidity": 0.2
             }
            },
            "type": "histogram"
           }
          ],
          "histogram2d": [
           {
            "colorbar": {
             "outlinewidth": 0,
             "ticks": ""
            },
            "colorscale": [
             [
              0,
              "#0d0887"
             ],
             [
              0.1111111111111111,
              "#46039f"
             ],
             [
              0.2222222222222222,
              "#7201a8"
             ],
             [
              0.3333333333333333,
              "#9c179e"
             ],
             [
              0.4444444444444444,
              "#bd3786"
             ],
             [
              0.5555555555555556,
              "#d8576b"
             ],
             [
              0.6666666666666666,
              "#ed7953"
             ],
             [
              0.7777777777777778,
              "#fb9f3a"
             ],
             [
              0.8888888888888888,
              "#fdca26"
             ],
             [
              1,
              "#f0f921"
             ]
            ],
            "type": "histogram2d"
           }
          ],
          "histogram2dcontour": [
           {
            "colorbar": {
             "outlinewidth": 0,
             "ticks": ""
            },
            "colorscale": [
             [
              0,
              "#0d0887"
             ],
             [
              0.1111111111111111,
              "#46039f"
             ],
             [
              0.2222222222222222,
              "#7201a8"
             ],
             [
              0.3333333333333333,
              "#9c179e"
             ],
             [
              0.4444444444444444,
              "#bd3786"
             ],
             [
              0.5555555555555556,
              "#d8576b"
             ],
             [
              0.6666666666666666,
              "#ed7953"
             ],
             [
              0.7777777777777778,
              "#fb9f3a"
             ],
             [
              0.8888888888888888,
              "#fdca26"
             ],
             [
              1,
              "#f0f921"
             ]
            ],
            "type": "histogram2dcontour"
           }
          ],
          "mesh3d": [
           {
            "colorbar": {
             "outlinewidth": 0,
             "ticks": ""
            },
            "type": "mesh3d"
           }
          ],
          "parcoords": [
           {
            "line": {
             "colorbar": {
              "outlinewidth": 0,
              "ticks": ""
             }
            },
            "type": "parcoords"
           }
          ],
          "pie": [
           {
            "automargin": true,
            "type": "pie"
           }
          ],
          "scatter": [
           {
            "marker": {
             "colorbar": {
              "outlinewidth": 0,
              "ticks": ""
             }
            },
            "type": "scatter"
           }
          ],
          "scatter3d": [
           {
            "line": {
             "colorbar": {
              "outlinewidth": 0,
              "ticks": ""
             }
            },
            "marker": {
             "colorbar": {
              "outlinewidth": 0,
              "ticks": ""
             }
            },
            "type": "scatter3d"
           }
          ],
          "scattercarpet": [
           {
            "marker": {
             "colorbar": {
              "outlinewidth": 0,
              "ticks": ""
             }
            },
            "type": "scattercarpet"
           }
          ],
          "scattergeo": [
           {
            "marker": {
             "colorbar": {
              "outlinewidth": 0,
              "ticks": ""
             }
            },
            "type": "scattergeo"
           }
          ],
          "scattergl": [
           {
            "marker": {
             "colorbar": {
              "outlinewidth": 0,
              "ticks": ""
             }
            },
            "type": "scattergl"
           }
          ],
          "scattermapbox": [
           {
            "marker": {
             "colorbar": {
              "outlinewidth": 0,
              "ticks": ""
             }
            },
            "type": "scattermapbox"
           }
          ],
          "scatterpolar": [
           {
            "marker": {
             "colorbar": {
              "outlinewidth": 0,
              "ticks": ""
             }
            },
            "type": "scatterpolar"
           }
          ],
          "scatterpolargl": [
           {
            "marker": {
             "colorbar": {
              "outlinewidth": 0,
              "ticks": ""
             }
            },
            "type": "scatterpolargl"
           }
          ],
          "scatterternary": [
           {
            "marker": {
             "colorbar": {
              "outlinewidth": 0,
              "ticks": ""
             }
            },
            "type": "scatterternary"
           }
          ],
          "surface": [
           {
            "colorbar": {
             "outlinewidth": 0,
             "ticks": ""
            },
            "colorscale": [
             [
              0,
              "#0d0887"
             ],
             [
              0.1111111111111111,
              "#46039f"
             ],
             [
              0.2222222222222222,
              "#7201a8"
             ],
             [
              0.3333333333333333,
              "#9c179e"
             ],
             [
              0.4444444444444444,
              "#bd3786"
             ],
             [
              0.5555555555555556,
              "#d8576b"
             ],
             [
              0.6666666666666666,
              "#ed7953"
             ],
             [
              0.7777777777777778,
              "#fb9f3a"
             ],
             [
              0.8888888888888888,
              "#fdca26"
             ],
             [
              1,
              "#f0f921"
             ]
            ],
            "type": "surface"
           }
          ],
          "table": [
           {
            "cells": {
             "fill": {
              "color": "#EBF0F8"
             },
             "line": {
              "color": "white"
             }
            },
            "header": {
             "fill": {
              "color": "#C8D4E3"
             },
             "line": {
              "color": "white"
             }
            },
            "type": "table"
           }
          ]
         },
         "layout": {
          "annotationdefaults": {
           "arrowcolor": "#2a3f5f",
           "arrowhead": 0,
           "arrowwidth": 1
          },
          "autotypenumbers": "strict",
          "coloraxis": {
           "colorbar": {
            "outlinewidth": 0,
            "ticks": ""
           }
          },
          "colorscale": {
           "diverging": [
            [
             0,
             "#8e0152"
            ],
            [
             0.1,
             "#c51b7d"
            ],
            [
             0.2,
             "#de77ae"
            ],
            [
             0.3,
             "#f1b6da"
            ],
            [
             0.4,
             "#fde0ef"
            ],
            [
             0.5,
             "#f7f7f7"
            ],
            [
             0.6,
             "#e6f5d0"
            ],
            [
             0.7,
             "#b8e186"
            ],
            [
             0.8,
             "#7fbc41"
            ],
            [
             0.9,
             "#4d9221"
            ],
            [
             1,
             "#276419"
            ]
           ],
           "sequential": [
            [
             0,
             "#0d0887"
            ],
            [
             0.1111111111111111,
             "#46039f"
            ],
            [
             0.2222222222222222,
             "#7201a8"
            ],
            [
             0.3333333333333333,
             "#9c179e"
            ],
            [
             0.4444444444444444,
             "#bd3786"
            ],
            [
             0.5555555555555556,
             "#d8576b"
            ],
            [
             0.6666666666666666,
             "#ed7953"
            ],
            [
             0.7777777777777778,
             "#fb9f3a"
            ],
            [
             0.8888888888888888,
             "#fdca26"
            ],
            [
             1,
             "#f0f921"
            ]
           ],
           "sequentialminus": [
            [
             0,
             "#0d0887"
            ],
            [
             0.1111111111111111,
             "#46039f"
            ],
            [
             0.2222222222222222,
             "#7201a8"
            ],
            [
             0.3333333333333333,
             "#9c179e"
            ],
            [
             0.4444444444444444,
             "#bd3786"
            ],
            [
             0.5555555555555556,
             "#d8576b"
            ],
            [
             0.6666666666666666,
             "#ed7953"
            ],
            [
             0.7777777777777778,
             "#fb9f3a"
            ],
            [
             0.8888888888888888,
             "#fdca26"
            ],
            [
             1,
             "#f0f921"
            ]
           ]
          },
          "colorway": [
           "#636efa",
           "#EF553B",
           "#00cc96",
           "#ab63fa",
           "#FFA15A",
           "#19d3f3",
           "#FF6692",
           "#B6E880",
           "#FF97FF",
           "#FECB52"
          ],
          "font": {
           "color": "#2a3f5f"
          },
          "geo": {
           "bgcolor": "white",
           "lakecolor": "white",
           "landcolor": "white",
           "showlakes": true,
           "showland": true,
           "subunitcolor": "#C8D4E3"
          },
          "hoverlabel": {
           "align": "left"
          },
          "hovermode": "closest",
          "mapbox": {
           "style": "light"
          },
          "paper_bgcolor": "white",
          "plot_bgcolor": "white",
          "polar": {
           "angularaxis": {
            "gridcolor": "#EBF0F8",
            "linecolor": "#EBF0F8",
            "ticks": ""
           },
           "bgcolor": "white",
           "radialaxis": {
            "gridcolor": "#EBF0F8",
            "linecolor": "#EBF0F8",
            "ticks": ""
           }
          },
          "scene": {
           "xaxis": {
            "backgroundcolor": "white",
            "gridcolor": "#DFE8F3",
            "gridwidth": 2,
            "linecolor": "#EBF0F8",
            "showbackground": true,
            "ticks": "",
            "zerolinecolor": "#EBF0F8"
           },
           "yaxis": {
            "backgroundcolor": "white",
            "gridcolor": "#DFE8F3",
            "gridwidth": 2,
            "linecolor": "#EBF0F8",
            "showbackground": true,
            "ticks": "",
            "zerolinecolor": "#EBF0F8"
           },
           "zaxis": {
            "backgroundcolor": "white",
            "gridcolor": "#DFE8F3",
            "gridwidth": 2,
            "linecolor": "#EBF0F8",
            "showbackground": true,
            "ticks": "",
            "zerolinecolor": "#EBF0F8"
           }
          },
          "shapedefaults": {
           "line": {
            "color": "#2a3f5f"
           }
          },
          "ternary": {
           "aaxis": {
            "gridcolor": "#DFE8F3",
            "linecolor": "#A2B1C6",
            "ticks": ""
           },
           "baxis": {
            "gridcolor": "#DFE8F3",
            "linecolor": "#A2B1C6",
            "ticks": ""
           },
           "bgcolor": "white",
           "caxis": {
            "gridcolor": "#DFE8F3",
            "linecolor": "#A2B1C6",
            "ticks": ""
           }
          },
          "title": {
           "x": 0.05
          },
          "xaxis": {
           "automargin": true,
           "gridcolor": "#EBF0F8",
           "linecolor": "#EBF0F8",
           "ticks": "",
           "title": {
            "standoff": 15
           },
           "zerolinecolor": "#EBF0F8",
           "zerolinewidth": 2
          },
          "yaxis": {
           "automargin": true,
           "gridcolor": "#EBF0F8",
           "linecolor": "#EBF0F8",
           "ticks": "",
           "title": {
            "standoff": 15
           },
           "zerolinecolor": "#EBF0F8",
           "zerolinewidth": 2
          }
         }
        },
        "title": {
         "text": "3D Surface of Numerical Laplacian"
        }
       }
      }
     },
     "metadata": {},
     "output_type": "display_data"
    },
    {
     "data": {
      "application/vnd.plotly.v1+json": {
       "config": {
        "plotlyServerURL": "https://plot.ly"
       },
       "data": [
        {
         "colorscale": [
          [
           0,
           "#440154"
          ],
          [
           0.1111111111111111,
           "#482878"
          ],
          [
           0.2222222222222222,
           "#3e4989"
          ],
          [
           0.3333333333333333,
           "#31688e"
          ],
          [
           0.4444444444444444,
           "#26828e"
          ],
          [
           0.5555555555555556,
           "#1f9e89"
          ],
          [
           0.6666666666666666,
           "#35b779"
          ],
          [
           0.7777777777777778,
           "#6ece58"
          ],
          [
           0.8888888888888888,
           "#b5de2b"
          ],
          [
           1,
           "#fde725"
          ]
         ],
         "showscale": true,
         "type": "surface",
         "x": [
          [
           0,
           0.1111111111111111,
           0.2222222222222222,
           0.3333333333333333,
           0.4444444444444444,
           0.5555555555555556,
           0.6666666666666666,
           0.7777777777777777,
           0.8888888888888888,
           1
          ],
          [
           0,
           0.1111111111111111,
           0.2222222222222222,
           0.3333333333333333,
           0.4444444444444444,
           0.5555555555555556,
           0.6666666666666666,
           0.7777777777777777,
           0.8888888888888888,
           1
          ],
          [
           0,
           0.1111111111111111,
           0.2222222222222222,
           0.3333333333333333,
           0.4444444444444444,
           0.5555555555555556,
           0.6666666666666666,
           0.7777777777777777,
           0.8888888888888888,
           1
          ],
          [
           0,
           0.1111111111111111,
           0.2222222222222222,
           0.3333333333333333,
           0.4444444444444444,
           0.5555555555555556,
           0.6666666666666666,
           0.7777777777777777,
           0.8888888888888888,
           1
          ],
          [
           0,
           0.1111111111111111,
           0.2222222222222222,
           0.3333333333333333,
           0.4444444444444444,
           0.5555555555555556,
           0.6666666666666666,
           0.7777777777777777,
           0.8888888888888888,
           1
          ],
          [
           0,
           0.1111111111111111,
           0.2222222222222222,
           0.3333333333333333,
           0.4444444444444444,
           0.5555555555555556,
           0.6666666666666666,
           0.7777777777777777,
           0.8888888888888888,
           1
          ],
          [
           0,
           0.1111111111111111,
           0.2222222222222222,
           0.3333333333333333,
           0.4444444444444444,
           0.5555555555555556,
           0.6666666666666666,
           0.7777777777777777,
           0.8888888888888888,
           1
          ],
          [
           0,
           0.1111111111111111,
           0.2222222222222222,
           0.3333333333333333,
           0.4444444444444444,
           0.5555555555555556,
           0.6666666666666666,
           0.7777777777777777,
           0.8888888888888888,
           1
          ],
          [
           0,
           0.1111111111111111,
           0.2222222222222222,
           0.3333333333333333,
           0.4444444444444444,
           0.5555555555555556,
           0.6666666666666666,
           0.7777777777777777,
           0.8888888888888888,
           1
          ],
          [
           0,
           0.1111111111111111,
           0.2222222222222222,
           0.3333333333333333,
           0.4444444444444444,
           0.5555555555555556,
           0.6666666666666666,
           0.7777777777777777,
           0.8888888888888888,
           1
          ]
         ],
         "y": [
          [
           0,
           0,
           0,
           0,
           0,
           0,
           0,
           0,
           0,
           0
          ],
          [
           0.1111111111111111,
           0.1111111111111111,
           0.1111111111111111,
           0.1111111111111111,
           0.1111111111111111,
           0.1111111111111111,
           0.1111111111111111,
           0.1111111111111111,
           0.1111111111111111,
           0.1111111111111111
          ],
          [
           0.2222222222222222,
           0.2222222222222222,
           0.2222222222222222,
           0.2222222222222222,
           0.2222222222222222,
           0.2222222222222222,
           0.2222222222222222,
           0.2222222222222222,
           0.2222222222222222,
           0.2222222222222222
          ],
          [
           0.3333333333333333,
           0.3333333333333333,
           0.3333333333333333,
           0.3333333333333333,
           0.3333333333333333,
           0.3333333333333333,
           0.3333333333333333,
           0.3333333333333333,
           0.3333333333333333,
           0.3333333333333333
          ],
          [
           0.4444444444444444,
           0.4444444444444444,
           0.4444444444444444,
           0.4444444444444444,
           0.4444444444444444,
           0.4444444444444444,
           0.4444444444444444,
           0.4444444444444444,
           0.4444444444444444,
           0.4444444444444444
          ],
          [
           0.5555555555555556,
           0.5555555555555556,
           0.5555555555555556,
           0.5555555555555556,
           0.5555555555555556,
           0.5555555555555556,
           0.5555555555555556,
           0.5555555555555556,
           0.5555555555555556,
           0.5555555555555556
          ],
          [
           0.6666666666666666,
           0.6666666666666666,
           0.6666666666666666,
           0.6666666666666666,
           0.6666666666666666,
           0.6666666666666666,
           0.6666666666666666,
           0.6666666666666666,
           0.6666666666666666,
           0.6666666666666666
          ],
          [
           0.7777777777777777,
           0.7777777777777777,
           0.7777777777777777,
           0.7777777777777777,
           0.7777777777777777,
           0.7777777777777777,
           0.7777777777777777,
           0.7777777777777777,
           0.7777777777777777,
           0.7777777777777777
          ],
          [
           0.8888888888888888,
           0.8888888888888888,
           0.8888888888888888,
           0.8888888888888888,
           0.8888888888888888,
           0.8888888888888888,
           0.8888888888888888,
           0.8888888888888888,
           0.8888888888888888,
           0.8888888888888888
          ],
          [
           1,
           1,
           1,
           1,
           1,
           1,
           1,
           1,
           1,
           1
          ]
         ],
         "z": [
          [
           -39.47841760435743,
           -34.86032001665294,
           -23.16688643926408,
           -9.869604401089362,
           -1.190419950619128,
           -1.1904199506191264,
           -9.86960440108935,
           -23.166886439264072,
           -34.860320016652935,
           -39.47841760435743
          ],
          [
           -34.86032001665294,
           -30.242222428948452,
           -18.54878885155959,
           -5.2515068133848715,
           3.427677637085363,
           3.4276776370853645,
           -5.251506813384859,
           -18.548788851559582,
           -30.242222428948445,
           -34.86032001665294
          ],
          [
           -23.16688643926408,
           -18.548788851559593,
           -6.855355274170733,
           6.441926764003986,
           15.121111214474219,
           15.121111214474219,
           6.441926764003996,
           -6.855355274170722,
           -18.548788851559586,
           -23.16688643926408
          ],
          [
           -9.869604401089362,
           -5.2515068133848715,
           6.441926764003984,
           19.73920880217871,
           28.41839325264894,
           28.41839325264894,
           19.739208802178716,
           6.4419267640039966,
           -5.251506813384866,
           -9.869604401089362
          ],
          [
           -1.190419950619128,
           3.4276776370853623,
           15.121111214474217,
           28.41839325264894,
           37.09757770311917,
           37.09757770311917,
           28.418393252648947,
           15.121111214474231,
           3.4276776370853668,
           -1.190419950619128
          ],
          [
           -1.1904199506191264,
           3.4276776370853637,
           15.121111214474217,
           28.41839325264894,
           37.09757770311917,
           37.09757770311917,
           28.418393252648947,
           15.121111214474233,
           3.4276776370853685,
           -1.1904199506191264
          ],
          [
           -9.86960440108935,
           -5.251506813384861,
           6.441926764003996,
           19.739208802178716,
           28.418393252648947,
           28.418393252648947,
           19.739208802178723,
           6.441926764004008,
           -5.251506813384856,
           -9.86960440108935
          ],
          [
           -23.166886439264072,
           -18.548788851559582,
           -6.855355274170723,
           6.441926764003997,
           15.12111121447423,
           15.121111214474231,
           6.441926764004007,
           -6.855355274170711,
           -18.548788851559575,
           -23.166886439264072
          ],
          [
           -34.860320016652935,
           -30.242222428948445,
           -18.548788851559582,
           -5.251506813384866,
           3.4276776370853677,
           3.4276776370853694,
           -5.251506813384854,
           -18.548788851559575,
           -30.242222428948438,
           -34.860320016652935
          ],
          [
           -39.47841760435743,
           -34.86032001665294,
           -23.16688643926408,
           -9.869604401089362,
           -1.190419950619128,
           -1.1904199506191264,
           -9.86960440108935,
           -23.166886439264072,
           -34.860320016652935,
           -39.47841760435743
          ]
         ]
        }
       ],
       "layout": {
        "scene": {
         "camera": {
          "eye": {
           "x": 1.5,
           "y": 1.5,
           "z": 1.5
          }
         },
         "xaxis": {
          "title": {
           "text": "X"
          }
         },
         "yaxis": {
          "title": {
           "text": "Y"
          }
         },
         "zaxis": {
          "title": {
           "text": "Value"
          }
         }
        },
        "template": {
         "data": {
          "bar": [
           {
            "error_x": {
             "color": "#2a3f5f"
            },
            "error_y": {
             "color": "#2a3f5f"
            },
            "marker": {
             "line": {
              "color": "white",
              "width": 0.5
             },
             "pattern": {
              "fillmode": "overlay",
              "size": 10,
              "solidity": 0.2
             }
            },
            "type": "bar"
           }
          ],
          "barpolar": [
           {
            "marker": {
             "line": {
              "color": "white",
              "width": 0.5
             },
             "pattern": {
              "fillmode": "overlay",
              "size": 10,
              "solidity": 0.2
             }
            },
            "type": "barpolar"
           }
          ],
          "carpet": [
           {
            "aaxis": {
             "endlinecolor": "#2a3f5f",
             "gridcolor": "#C8D4E3",
             "linecolor": "#C8D4E3",
             "minorgridcolor": "#C8D4E3",
             "startlinecolor": "#2a3f5f"
            },
            "baxis": {
             "endlinecolor": "#2a3f5f",
             "gridcolor": "#C8D4E3",
             "linecolor": "#C8D4E3",
             "minorgridcolor": "#C8D4E3",
             "startlinecolor": "#2a3f5f"
            },
            "type": "carpet"
           }
          ],
          "choropleth": [
           {
            "colorbar": {
             "outlinewidth": 0,
             "ticks": ""
            },
            "type": "choropleth"
           }
          ],
          "contour": [
           {
            "colorbar": {
             "outlinewidth": 0,
             "ticks": ""
            },
            "colorscale": [
             [
              0,
              "#0d0887"
             ],
             [
              0.1111111111111111,
              "#46039f"
             ],
             [
              0.2222222222222222,
              "#7201a8"
             ],
             [
              0.3333333333333333,
              "#9c179e"
             ],
             [
              0.4444444444444444,
              "#bd3786"
             ],
             [
              0.5555555555555556,
              "#d8576b"
             ],
             [
              0.6666666666666666,
              "#ed7953"
             ],
             [
              0.7777777777777778,
              "#fb9f3a"
             ],
             [
              0.8888888888888888,
              "#fdca26"
             ],
             [
              1,
              "#f0f921"
             ]
            ],
            "type": "contour"
           }
          ],
          "contourcarpet": [
           {
            "colorbar": {
             "outlinewidth": 0,
             "ticks": ""
            },
            "type": "contourcarpet"
           }
          ],
          "heatmap": [
           {
            "colorbar": {
             "outlinewidth": 0,
             "ticks": ""
            },
            "colorscale": [
             [
              0,
              "#0d0887"
             ],
             [
              0.1111111111111111,
              "#46039f"
             ],
             [
              0.2222222222222222,
              "#7201a8"
             ],
             [
              0.3333333333333333,
              "#9c179e"
             ],
             [
              0.4444444444444444,
              "#bd3786"
             ],
             [
              0.5555555555555556,
              "#d8576b"
             ],
             [
              0.6666666666666666,
              "#ed7953"
             ],
             [
              0.7777777777777778,
              "#fb9f3a"
             ],
             [
              0.8888888888888888,
              "#fdca26"
             ],
             [
              1,
              "#f0f921"
             ]
            ],
            "type": "heatmap"
           }
          ],
          "heatmapgl": [
           {
            "colorbar": {
             "outlinewidth": 0,
             "ticks": ""
            },
            "colorscale": [
             [
              0,
              "#0d0887"
             ],
             [
              0.1111111111111111,
              "#46039f"
             ],
             [
              0.2222222222222222,
              "#7201a8"
             ],
             [
              0.3333333333333333,
              "#9c179e"
             ],
             [
              0.4444444444444444,
              "#bd3786"
             ],
             [
              0.5555555555555556,
              "#d8576b"
             ],
             [
              0.6666666666666666,
              "#ed7953"
             ],
             [
              0.7777777777777778,
              "#fb9f3a"
             ],
             [
              0.8888888888888888,
              "#fdca26"
             ],
             [
              1,
              "#f0f921"
             ]
            ],
            "type": "heatmapgl"
           }
          ],
          "histogram": [
           {
            "marker": {
             "pattern": {
              "fillmode": "overlay",
              "size": 10,
              "solidity": 0.2
             }
            },
            "type": "histogram"
           }
          ],
          "histogram2d": [
           {
            "colorbar": {
             "outlinewidth": 0,
             "ticks": ""
            },
            "colorscale": [
             [
              0,
              "#0d0887"
             ],
             [
              0.1111111111111111,
              "#46039f"
             ],
             [
              0.2222222222222222,
              "#7201a8"
             ],
             [
              0.3333333333333333,
              "#9c179e"
             ],
             [
              0.4444444444444444,
              "#bd3786"
             ],
             [
              0.5555555555555556,
              "#d8576b"
             ],
             [
              0.6666666666666666,
              "#ed7953"
             ],
             [
              0.7777777777777778,
              "#fb9f3a"
             ],
             [
              0.8888888888888888,
              "#fdca26"
             ],
             [
              1,
              "#f0f921"
             ]
            ],
            "type": "histogram2d"
           }
          ],
          "histogram2dcontour": [
           {
            "colorbar": {
             "outlinewidth": 0,
             "ticks": ""
            },
            "colorscale": [
             [
              0,
              "#0d0887"
             ],
             [
              0.1111111111111111,
              "#46039f"
             ],
             [
              0.2222222222222222,
              "#7201a8"
             ],
             [
              0.3333333333333333,
              "#9c179e"
             ],
             [
              0.4444444444444444,
              "#bd3786"
             ],
             [
              0.5555555555555556,
              "#d8576b"
             ],
             [
              0.6666666666666666,
              "#ed7953"
             ],
             [
              0.7777777777777778,
              "#fb9f3a"
             ],
             [
              0.8888888888888888,
              "#fdca26"
             ],
             [
              1,
              "#f0f921"
             ]
            ],
            "type": "histogram2dcontour"
           }
          ],
          "mesh3d": [
           {
            "colorbar": {
             "outlinewidth": 0,
             "ticks": ""
            },
            "type": "mesh3d"
           }
          ],
          "parcoords": [
           {
            "line": {
             "colorbar": {
              "outlinewidth": 0,
              "ticks": ""
             }
            },
            "type": "parcoords"
           }
          ],
          "pie": [
           {
            "automargin": true,
            "type": "pie"
           }
          ],
          "scatter": [
           {
            "marker": {
             "colorbar": {
              "outlinewidth": 0,
              "ticks": ""
             }
            },
            "type": "scatter"
           }
          ],
          "scatter3d": [
           {
            "line": {
             "colorbar": {
              "outlinewidth": 0,
              "ticks": ""
             }
            },
            "marker": {
             "colorbar": {
              "outlinewidth": 0,
              "ticks": ""
             }
            },
            "type": "scatter3d"
           }
          ],
          "scattercarpet": [
           {
            "marker": {
             "colorbar": {
              "outlinewidth": 0,
              "ticks": ""
             }
            },
            "type": "scattercarpet"
           }
          ],
          "scattergeo": [
           {
            "marker": {
             "colorbar": {
              "outlinewidth": 0,
              "ticks": ""
             }
            },
            "type": "scattergeo"
           }
          ],
          "scattergl": [
           {
            "marker": {
             "colorbar": {
              "outlinewidth": 0,
              "ticks": ""
             }
            },
            "type": "scattergl"
           }
          ],
          "scattermapbox": [
           {
            "marker": {
             "colorbar": {
              "outlinewidth": 0,
              "ticks": ""
             }
            },
            "type": "scattermapbox"
           }
          ],
          "scatterpolar": [
           {
            "marker": {
             "colorbar": {
              "outlinewidth": 0,
              "ticks": ""
             }
            },
            "type": "scatterpolar"
           }
          ],
          "scatterpolargl": [
           {
            "marker": {
             "colorbar": {
              "outlinewidth": 0,
              "ticks": ""
             }
            },
            "type": "scatterpolargl"
           }
          ],
          "scatterternary": [
           {
            "marker": {
             "colorbar": {
              "outlinewidth": 0,
              "ticks": ""
             }
            },
            "type": "scatterternary"
           }
          ],
          "surface": [
           {
            "colorbar": {
             "outlinewidth": 0,
             "ticks": ""
            },
            "colorscale": [
             [
              0,
              "#0d0887"
             ],
             [
              0.1111111111111111,
              "#46039f"
             ],
             [
              0.2222222222222222,
              "#7201a8"
             ],
             [
              0.3333333333333333,
              "#9c179e"
             ],
             [
              0.4444444444444444,
              "#bd3786"
             ],
             [
              0.5555555555555556,
              "#d8576b"
             ],
             [
              0.6666666666666666,
              "#ed7953"
             ],
             [
              0.7777777777777778,
              "#fb9f3a"
             ],
             [
              0.8888888888888888,
              "#fdca26"
             ],
             [
              1,
              "#f0f921"
             ]
            ],
            "type": "surface"
           }
          ],
          "table": [
           {
            "cells": {
             "fill": {
              "color": "#EBF0F8"
             },
             "line": {
              "color": "white"
             }
            },
            "header": {
             "fill": {
              "color": "#C8D4E3"
             },
             "line": {
              "color": "white"
             }
            },
            "type": "table"
           }
          ]
         },
         "layout": {
          "annotationdefaults": {
           "arrowcolor": "#2a3f5f",
           "arrowhead": 0,
           "arrowwidth": 1
          },
          "autotypenumbers": "strict",
          "coloraxis": {
           "colorbar": {
            "outlinewidth": 0,
            "ticks": ""
           }
          },
          "colorscale": {
           "diverging": [
            [
             0,
             "#8e0152"
            ],
            [
             0.1,
             "#c51b7d"
            ],
            [
             0.2,
             "#de77ae"
            ],
            [
             0.3,
             "#f1b6da"
            ],
            [
             0.4,
             "#fde0ef"
            ],
            [
             0.5,
             "#f7f7f7"
            ],
            [
             0.6,
             "#e6f5d0"
            ],
            [
             0.7,
             "#b8e186"
            ],
            [
             0.8,
             "#7fbc41"
            ],
            [
             0.9,
             "#4d9221"
            ],
            [
             1,
             "#276419"
            ]
           ],
           "sequential": [
            [
             0,
             "#0d0887"
            ],
            [
             0.1111111111111111,
             "#46039f"
            ],
            [
             0.2222222222222222,
             "#7201a8"
            ],
            [
             0.3333333333333333,
             "#9c179e"
            ],
            [
             0.4444444444444444,
             "#bd3786"
            ],
            [
             0.5555555555555556,
             "#d8576b"
            ],
            [
             0.6666666666666666,
             "#ed7953"
            ],
            [
             0.7777777777777778,
             "#fb9f3a"
            ],
            [
             0.8888888888888888,
             "#fdca26"
            ],
            [
             1,
             "#f0f921"
            ]
           ],
           "sequentialminus": [
            [
             0,
             "#0d0887"
            ],
            [
             0.1111111111111111,
             "#46039f"
            ],
            [
             0.2222222222222222,
             "#7201a8"
            ],
            [
             0.3333333333333333,
             "#9c179e"
            ],
            [
             0.4444444444444444,
             "#bd3786"
            ],
            [
             0.5555555555555556,
             "#d8576b"
            ],
            [
             0.6666666666666666,
             "#ed7953"
            ],
            [
             0.7777777777777778,
             "#fb9f3a"
            ],
            [
             0.8888888888888888,
             "#fdca26"
            ],
            [
             1,
             "#f0f921"
            ]
           ]
          },
          "colorway": [
           "#636efa",
           "#EF553B",
           "#00cc96",
           "#ab63fa",
           "#FFA15A",
           "#19d3f3",
           "#FF6692",
           "#B6E880",
           "#FF97FF",
           "#FECB52"
          ],
          "font": {
           "color": "#2a3f5f"
          },
          "geo": {
           "bgcolor": "white",
           "lakecolor": "white",
           "landcolor": "white",
           "showlakes": true,
           "showland": true,
           "subunitcolor": "#C8D4E3"
          },
          "hoverlabel": {
           "align": "left"
          },
          "hovermode": "closest",
          "mapbox": {
           "style": "light"
          },
          "paper_bgcolor": "white",
          "plot_bgcolor": "white",
          "polar": {
           "angularaxis": {
            "gridcolor": "#EBF0F8",
            "linecolor": "#EBF0F8",
            "ticks": ""
           },
           "bgcolor": "white",
           "radialaxis": {
            "gridcolor": "#EBF0F8",
            "linecolor": "#EBF0F8",
            "ticks": ""
           }
          },
          "scene": {
           "xaxis": {
            "backgroundcolor": "white",
            "gridcolor": "#DFE8F3",
            "gridwidth": 2,
            "linecolor": "#EBF0F8",
            "showbackground": true,
            "ticks": "",
            "zerolinecolor": "#EBF0F8"
           },
           "yaxis": {
            "backgroundcolor": "white",
            "gridcolor": "#DFE8F3",
            "gridwidth": 2,
            "linecolor": "#EBF0F8",
            "showbackground": true,
            "ticks": "",
            "zerolinecolor": "#EBF0F8"
           },
           "zaxis": {
            "backgroundcolor": "white",
            "gridcolor": "#DFE8F3",
            "gridwidth": 2,
            "linecolor": "#EBF0F8",
            "showbackground": true,
            "ticks": "",
            "zerolinecolor": "#EBF0F8"
           }
          },
          "shapedefaults": {
           "line": {
            "color": "#2a3f5f"
           }
          },
          "ternary": {
           "aaxis": {
            "gridcolor": "#DFE8F3",
            "linecolor": "#A2B1C6",
            "ticks": ""
           },
           "baxis": {
            "gridcolor": "#DFE8F3",
            "linecolor": "#A2B1C6",
            "ticks": ""
           },
           "bgcolor": "white",
           "caxis": {
            "gridcolor": "#DFE8F3",
            "linecolor": "#A2B1C6",
            "ticks": ""
           }
          },
          "title": {
           "x": 0.05
          },
          "xaxis": {
           "automargin": true,
           "gridcolor": "#EBF0F8",
           "linecolor": "#EBF0F8",
           "ticks": "",
           "title": {
            "standoff": 15
           },
           "zerolinecolor": "#EBF0F8",
           "zerolinewidth": 2
          },
          "yaxis": {
           "automargin": true,
           "gridcolor": "#EBF0F8",
           "linecolor": "#EBF0F8",
           "ticks": "",
           "title": {
            "standoff": 15
           },
           "zerolinecolor": "#EBF0F8",
           "zerolinewidth": 2
          }
         }
        },
        "title": {
         "text": "3D Surface of Exact Laplacian"
        }
       }
      }
     },
     "metadata": {},
     "output_type": "display_data"
    }
   ],
   "source": [
    "import sympy as sp\n",
    "import plotly.graph_objects as go\n",
    "\n",
    "# Create a meshgrid for x and y\n",
    "x = np.linspace(0, 1, Nx)  # x-coordinates\n",
    "y = np.linspace(0, 1, Ny)  # y-coordinates\n",
    "X, Y = np.meshgrid(x, y)  # Create a 2D grid\n",
    "\n",
    "# Define the function u(x, y) = sin^2(pi x) * sin^2(pi y)\n",
    "u = np.sin(np.pi * X)**2 * np.sin(np.pi * Y)**2  # Example function\n",
    "\n",
    "# Compute the first derivatives using np.gradient\n",
    "du_dx = np.gradient(u, hx, axis=0)  # Gradient in x direction\n",
    "du_dy = np.gradient(u, hy, axis=1)  # Gradient in y direction\n",
    "\n",
    "# Compute the second derivatives\n",
    "d2u_dx2 = np.gradient(du_dx, hx, axis=0)  # Second derivative in x direction\n",
    "d2u_dy2 = np.gradient(du_dy, hy, axis=1)  # Second derivative in y direction\n",
    "\n",
    "# Compute the Laplacian\n",
    "laplacian = d2u_dx2 + d2u_dy2\n",
    "\n",
    "# Compute the exact Laplacian for u(x, y) = sin^2(pi x) * sin^2(pi y)\n",
    "# The exact Laplacian can be derived or computed separately; for this example, we will use a known result.\n",
    "# The exact Laplacian of sin^2(pi x) * sin^2(pi y) is:\n",
    "exact_laplacian = 2 * (2 * np.pi**2) * np.sin(np.pi * X)**2 * np.sin(np.pi * Y)**2 - 4 * np.pi**2 * np.cos(np.pi * X)**2 * np.cos(np.pi * Y)**2\n",
    "\n",
    "# Compute the error\n",
    "error = np.max(np.abs(laplacian - exact_laplacian))\n",
    "\n",
    "# Pretty print the matrices using sympy\n",
    "sp.init_printing()  # Initialize pretty printing\n",
    "sympy_laplacian = sp.Matrix(laplacian)\n",
    "sympy_exact_laplacian = sp.Matrix(exact_laplacian)\n",
    "\n",
    "print(\"Numerical Laplacian:\")\n",
    "sp.pprint(sympy_laplacian)\n",
    "\n",
    "print(\"\\nExact Laplacian:\")\n",
    "sp.pprint(sympy_exact_laplacian)\n",
    "\n",
    "# Print the maximum absolute error\n",
    "print(f\"\\nMaximum absolute error: {error}\")\n",
    "\n",
    "# Plot results in 3D\n",
    "fig1 = go.Figure(data=[go.Surface(z=laplacian, x=X, y=Y, colorscale='Viridis', showscale=True)])\n",
    "fig1.update_layout(\n",
    "    title='3D Surface of Numerical Laplacian',\n",
    "    scene=dict(\n",
    "        xaxis_title='X',\n",
    "        yaxis_title='Y',\n",
    "        zaxis_title='Value',\n",
    "        camera=dict(eye=dict(x=1.5, y=1.5, z=1.5))\n",
    "    ),\n",
    "    template='plotly_white'\n",
    ")\n",
    "fig1.show()\n",
    "\n",
    "fig2 = go.Figure(data=[go.Surface(z=exact_laplacian, x=X, y=Y, colorscale='Viridis', showscale=True)])\n",
    "fig2.update_layout(\n",
    "    title='3D Surface of Exact Laplacian',\n",
    "    scene=dict(\n",
    "        xaxis_title='X',\n",
    "        yaxis_title='Y',\n",
    "        zaxis_title='Value',\n",
    "        camera=dict(eye=dict(x=1.5, y=1.5, z=1.5))\n",
    "    ),\n",
    "    template='plotly_white'\n",
    ")\n",
    "fig2.show()"
   ]
  },
  {
   "cell_type": "markdown",
   "metadata": {},
   "source": [
    "### Extended Interpretation of the Discrete Laplacian\n",
    "\n",
    "The discrete Laplacian derived above is a **central difference approximation** to the continuous Laplacian operator \n",
    "$$\n",
    "\\Delta u = \\frac{\\partial^2 u}{\\partial x^2} + \\frac{\\partial^2 u}{\\partial y^2}\n",
    "$$\n",
    "This approximation is commonly used in **finite difference methods** to solve partial differential equations (PDEs) numerically. Below, we provide a detailed interpretation of its components and applications:\n",
    "\n",
    "---\n",
    "\n",
    "#### 1. **Structure of the Discrete Laplacian**\n",
    "- The discrete Laplacian uses a **5-point stencil**, which means the value of $\\Delta u_{i,j}$ at the grid point $(i,j)$ is computed using the function values at five neighboring points:\n",
    "  - $u_{i+1,j}$ (right neighbor),\n",
    "  - $u_{i-1,j}$ (left neighbor),\n",
    "  - $u_{i,j+1}$ (top neighbor),\n",
    "  - $u_{i,j-1}$ (bottom neighbor),\n",
    "  - and $u_{i,j}$ (the central point itself).\n",
    "- These values are combined linearly with appropriate weights, such that the central point $u_{i,j}$ is penalized by $-4$ times its value, while each neighbor contributes $+1$.\n",
    "\n",
    "This structure reflects how the value of a function at one grid point is influenced by its immediate surroundings, capturing the local curvature of the function.\n",
    "\n",
    "---\n",
    "\n",
    "#### 2. **Physical Interpretation**\n",
    "The Laplacian operator represents the divergence of the gradient (or the flux) of a function. It measures how the value of a function at a point differs from its surroundings. Physically, this operator is associated with diffusion, heat flow, and wave propagation:\n",
    "\n",
    "- In **heat transfer** problems, the Laplacian models the rate at which heat spreads out from a point.\n",
    "- In **fluid dynamics**, it describes the diffusion of substances or momentum within a fluid.\n",
    "- In **electromagnetism**, the Laplacian appears in Poisson's equation for electrostatics, modeling how charges distribute in space.\n",
    "\n",
    "The discrete Laplacian provides a numerical approximation to this concept, enabling the simulation of such physical processes on a computational grid.\n",
    "\n",
    "---\n",
    "\n",
    "#### 3. **Simplification from a Uniform Grid**\n",
    "The assumption of a uniform grid $h = \\Delta x = \\Delta y$ simplifies the numerical representation:\n",
    "- All grid cells are square and equally spaced, leading to symmetry in the discrete Laplacian.\n",
    "- The factor $\\frac{1}{h^2}$ accounts for the uniform spacing and ensures dimensional consistency.\n",
    "- This uniformity avoids the need for additional weighting or adjustments, as would be required for non-uniform grids.\n",
    "\n",
    "The symmetry of the uniform grid also ensures that the discrete Laplacian preserves the properties of the continuous Laplacian, such as consistency and stability under smooth changes.\n",
    "\n",
    "---\n",
    "\n",
    "#### 4. **Error and Accuracy**\n",
    "The discrete Laplacian introduces a **truncation error** due to the finite difference approximation. Specifically:\n",
    "- The central difference approximation for the second derivative is second-order accurate, meaning the error decreases as $O(h^2)$ when the grid spacing $h$ becomes smaller.\n",
    "- For sufficiently small $h$, the discrete Laplacian closely approximates the continuous Laplacian, making it a reliable tool for numerical simulations.\n",
    "\n",
    "---\n",
    "\n",
    "#### 5. **Applications**\n",
    "The discrete Laplacian is a cornerstone of numerical methods for solving PDEs. Some key applications include:\n",
    "\n",
    "1. **Heat Equation (Diffusion)**\n",
    "   - The Laplacian models the diffusion of heat in a material. For example, in the equation:\n",
    "   $$\n",
    "   \\frac{\\partial u}{\\partial t} = \\alpha \\Delta u,\n",
    "   $$\n",
    "   the discrete Laplacian is used to compute the spatial component, while time derivatives are handled with time-stepping schemes.\n",
    "\n",
    "2. **Poisson's Equation**\n",
    "   - In problems involving electrostatics or gravitational potential, the discrete Laplacian is used to approximate:\n",
    "   $$\n",
    "   \\Delta u = f,\n",
    "   $$\n",
    "   where $f$ is a source term.\n",
    "\n",
    "3. **Wave Equation**\n",
    "   - In wave propagation, the Laplacian is part of the second-order spatial derivative:\n",
    "   $$\n",
    "   \\frac{\\partial^2 u}{\\partial t^2} = c^2 \\Delta u,\n",
    "   $$\n",
    "   where $c$ is the wave speed.\n",
    "\n",
    "\n",
    "---\n",
    "\n",
    "#### 6. **Numerical Implementation**\n",
    "In practice, the discrete Laplacian is implemented as a **linear operator** on a grid. This makes it suitable for efficient computation using matrix representations:\n",
    "- Each grid point corresponds to a row or column in a matrix.\n",
    "- The Laplacian is represented as a sparse matrix with most entries being zero, except for the coefficients associated with the 5-point stencil.\n",
    "\n",
    "This structure is crucial for solving large systems of equations efficiently using numerical solvers like iterative methods (e.g., conjugate gradient, Jacobi, Gauss-Seidel).\n",
    "\n",
    "---\n",
    "\n",
    "#### 7. **Limitations**\n",
    "While the discrete Laplacian is highly useful, it has some limitations:\n",
    "- **Boundary conditions**: Special care is needed to handle the boundaries of the grid (e.g., Dirichlet or Neumann conditions).\n",
    "- **Non-uniform grids**: For irregularly spaced grids, the discrete Laplacian becomes more complex and requires alternative formulations.\n",
    "- **Higher dimensions**: In 3D or higher dimensions, the stencil expands to include additional neighbors, increasing computational cost.\n",
    "\n",
    "---\n",
    "\n"
   ]
  },
  {
   "cell_type": "markdown",
   "metadata": {},
   "source": [
    "## "
   ]
  },
  {
   "cell_type": "markdown",
   "metadata": {},
   "source": [
    "## Laplacian manually implemented"
   ]
  },
  {
   "cell_type": "code",
   "execution_count": 7,
   "metadata": {},
   "outputs": [],
   "source": [
    "def compute_laplacian(u, hx, hy):\n",
    "    \"\"\"\n",
    "    Compute the Laplacian of a 2D array u using finite difference approximations.\n",
    "\n",
    "    Parameters:\n",
    "    u : 2D numpy array\n",
    "        The values of the function u at grid points.\n",
    "    hx : float\n",
    "        The grid spacing in the x direction (Δx).\n",
    "    hy : float\n",
    "        The grid spacing in the y direction (Δy).\n",
    "\n",
    "    Returns:\n",
    "    laplacian : 2D numpy array\n",
    "        The Laplacian of u.\n",
    "    \"\"\"\n",
    "    laplacian = np.zeros_like(u)\n",
    "\n",
    "    # Compute the Laplacian using finite difference\n",
    "    laplacian[1:-1, 1:-1] = (\n",
    "        (u[2:, 1:-1] - 2 * u[1:-1, 1:-1] + u[:-2, 1:-1]) / hx**2 +\n",
    "        (u[1:-1, 2:] - 2 * u[1:-1, 1:-1] + u[1:-1, :-2]) / hy**2\n",
    "    )\n",
    "\n",
    "    return laplacian\n",
    "\n",
    "\n"
   ]
  },
  {
   "cell_type": "markdown",
   "metadata": {},
   "source": [
    "## Compute the Laplacian with numpy"
   ]
  },
  {
   "cell_type": "code",
   "execution_count": 8,
   "metadata": {},
   "outputs": [
    {
     "data": {
      "application/vnd.plotly.v1+json": {
       "config": {
        "plotlyServerURL": "https://plot.ly"
       },
       "data": [
        {
         "colorscale": [
          [
           0,
           "#440154"
          ],
          [
           0.1111111111111111,
           "#482878"
          ],
          [
           0.2222222222222222,
           "#3e4989"
          ],
          [
           0.3333333333333333,
           "#31688e"
          ],
          [
           0.4444444444444444,
           "#26828e"
          ],
          [
           0.5555555555555556,
           "#1f9e89"
          ],
          [
           0.6666666666666666,
           "#35b779"
          ],
          [
           0.7777777777777778,
           "#6ece58"
          ],
          [
           0.8888888888888888,
           "#b5de2b"
          ],
          [
           1,
           "#fde725"
          ]
         ],
         "type": "surface",
         "x": [
          [
           0,
           0.1111111111111111,
           0.2222222222222222,
           0.3333333333333333,
           0.4444444444444444,
           0.5555555555555556,
           0.6666666666666666,
           0.7777777777777777,
           0.8888888888888888,
           1
          ],
          [
           0,
           0.1111111111111111,
           0.2222222222222222,
           0.3333333333333333,
           0.4444444444444444,
           0.5555555555555556,
           0.6666666666666666,
           0.7777777777777777,
           0.8888888888888888,
           1
          ],
          [
           0,
           0.1111111111111111,
           0.2222222222222222,
           0.3333333333333333,
           0.4444444444444444,
           0.5555555555555556,
           0.6666666666666666,
           0.7777777777777777,
           0.8888888888888888,
           1
          ],
          [
           0,
           0.1111111111111111,
           0.2222222222222222,
           0.3333333333333333,
           0.4444444444444444,
           0.5555555555555556,
           0.6666666666666666,
           0.7777777777777777,
           0.8888888888888888,
           1
          ],
          [
           0,
           0.1111111111111111,
           0.2222222222222222,
           0.3333333333333333,
           0.4444444444444444,
           0.5555555555555556,
           0.6666666666666666,
           0.7777777777777777,
           0.8888888888888888,
           1
          ],
          [
           0,
           0.1111111111111111,
           0.2222222222222222,
           0.3333333333333333,
           0.4444444444444444,
           0.5555555555555556,
           0.6666666666666666,
           0.7777777777777777,
           0.8888888888888888,
           1
          ],
          [
           0,
           0.1111111111111111,
           0.2222222222222222,
           0.3333333333333333,
           0.4444444444444444,
           0.5555555555555556,
           0.6666666666666666,
           0.7777777777777777,
           0.8888888888888888,
           1
          ],
          [
           0,
           0.1111111111111111,
           0.2222222222222222,
           0.3333333333333333,
           0.4444444444444444,
           0.5555555555555556,
           0.6666666666666666,
           0.7777777777777777,
           0.8888888888888888,
           1
          ],
          [
           0,
           0.1111111111111111,
           0.2222222222222222,
           0.3333333333333333,
           0.4444444444444444,
           0.5555555555555556,
           0.6666666666666666,
           0.7777777777777777,
           0.8888888888888888,
           1
          ],
          [
           0,
           0.1111111111111111,
           0.2222222222222222,
           0.3333333333333333,
           0.4444444444444444,
           0.5555555555555556,
           0.6666666666666666,
           0.7777777777777777,
           0.8888888888888888,
           1
          ]
         ],
         "y": [
          [
           0,
           0,
           0,
           0,
           0,
           0,
           0,
           0,
           0,
           0
          ],
          [
           0.1111111111111111,
           0.1111111111111111,
           0.1111111111111111,
           0.1111111111111111,
           0.1111111111111111,
           0.1111111111111111,
           0.1111111111111111,
           0.1111111111111111,
           0.1111111111111111,
           0.1111111111111111
          ],
          [
           0.2222222222222222,
           0.2222222222222222,
           0.2222222222222222,
           0.2222222222222222,
           0.2222222222222222,
           0.2222222222222222,
           0.2222222222222222,
           0.2222222222222222,
           0.2222222222222222,
           0.2222222222222222
          ],
          [
           0.3333333333333333,
           0.3333333333333333,
           0.3333333333333333,
           0.3333333333333333,
           0.3333333333333333,
           0.3333333333333333,
           0.3333333333333333,
           0.3333333333333333,
           0.3333333333333333,
           0.3333333333333333
          ],
          [
           0.4444444444444444,
           0.4444444444444444,
           0.4444444444444444,
           0.4444444444444444,
           0.4444444444444444,
           0.4444444444444444,
           0.4444444444444444,
           0.4444444444444444,
           0.4444444444444444,
           0.4444444444444444
          ],
          [
           0.5555555555555556,
           0.5555555555555556,
           0.5555555555555556,
           0.5555555555555556,
           0.5555555555555556,
           0.5555555555555556,
           0.5555555555555556,
           0.5555555555555556,
           0.5555555555555556,
           0.5555555555555556
          ],
          [
           0.6666666666666666,
           0.6666666666666666,
           0.6666666666666666,
           0.6666666666666666,
           0.6666666666666666,
           0.6666666666666666,
           0.6666666666666666,
           0.6666666666666666,
           0.6666666666666666,
           0.6666666666666666
          ],
          [
           0.7777777777777777,
           0.7777777777777777,
           0.7777777777777777,
           0.7777777777777777,
           0.7777777777777777,
           0.7777777777777777,
           0.7777777777777777,
           0.7777777777777777,
           0.7777777777777777,
           0.7777777777777777
          ],
          [
           0.8888888888888888,
           0.8888888888888888,
           0.8888888888888888,
           0.8888888888888888,
           0.8888888888888888,
           0.8888888888888888,
           0.8888888888888888,
           0.8888888888888888,
           0.8888888888888888,
           0.8888888888888888
          ],
          [
           1,
           1,
           1,
           1,
           1,
           1,
           1,
           1,
           1,
           1
          ]
         ],
         "z": [
          [
           0,
           0,
           0,
           0,
           0,
           0,
           0,
           0,
           0,
           0
          ],
          [
           0,
           0,
           0,
           0,
           0,
           0,
           0,
           0,
           0,
           0
          ],
          [
           0,
           0,
           0,
           0,
           0,
           0,
           0,
           0,
           0,
           0
          ],
          [
           0,
           0,
           0,
           0,
           0,
           0,
           0,
           0,
           0,
           0
          ],
          [
           0,
           0,
           0,
           0,
           0,
           0,
           0,
           0,
           0,
           0
          ],
          [
           0,
           0,
           0,
           0,
           0,
           0,
           0,
           0,
           0,
           0
          ],
          [
           0,
           0,
           0,
           0,
           0,
           0,
           0,
           0,
           0,
           0
          ],
          [
           0,
           0,
           0,
           0,
           0,
           0,
           0,
           0,
           0,
           0
          ],
          [
           0,
           0,
           0,
           0,
           0,
           0,
           0,
           0,
           0,
           0
          ],
          [
           0,
           0,
           0,
           0,
           0,
           0,
           0,
           0,
           0,
           0
          ]
         ]
        }
       ],
       "layout": {
        "scene": {
         "camera": {
          "eye": {
           "x": 1.5,
           "y": 1.5,
           "z": 1.5
          }
         },
         "xaxis": {
          "title": {
           "text": "X"
          }
         },
         "yaxis": {
          "title": {
           "text": "Y"
          }
         },
         "zaxis": {
          "title": {
           "text": "Laplacian Value"
          }
         }
        },
        "template": {
         "data": {
          "bar": [
           {
            "error_x": {
             "color": "#2a3f5f"
            },
            "error_y": {
             "color": "#2a3f5f"
            },
            "marker": {
             "line": {
              "color": "white",
              "width": 0.5
             },
             "pattern": {
              "fillmode": "overlay",
              "size": 10,
              "solidity": 0.2
             }
            },
            "type": "bar"
           }
          ],
          "barpolar": [
           {
            "marker": {
             "line": {
              "color": "white",
              "width": 0.5
             },
             "pattern": {
              "fillmode": "overlay",
              "size": 10,
              "solidity": 0.2
             }
            },
            "type": "barpolar"
           }
          ],
          "carpet": [
           {
            "aaxis": {
             "endlinecolor": "#2a3f5f",
             "gridcolor": "#C8D4E3",
             "linecolor": "#C8D4E3",
             "minorgridcolor": "#C8D4E3",
             "startlinecolor": "#2a3f5f"
            },
            "baxis": {
             "endlinecolor": "#2a3f5f",
             "gridcolor": "#C8D4E3",
             "linecolor": "#C8D4E3",
             "minorgridcolor": "#C8D4E3",
             "startlinecolor": "#2a3f5f"
            },
            "type": "carpet"
           }
          ],
          "choropleth": [
           {
            "colorbar": {
             "outlinewidth": 0,
             "ticks": ""
            },
            "type": "choropleth"
           }
          ],
          "contour": [
           {
            "colorbar": {
             "outlinewidth": 0,
             "ticks": ""
            },
            "colorscale": [
             [
              0,
              "#0d0887"
             ],
             [
              0.1111111111111111,
              "#46039f"
             ],
             [
              0.2222222222222222,
              "#7201a8"
             ],
             [
              0.3333333333333333,
              "#9c179e"
             ],
             [
              0.4444444444444444,
              "#bd3786"
             ],
             [
              0.5555555555555556,
              "#d8576b"
             ],
             [
              0.6666666666666666,
              "#ed7953"
             ],
             [
              0.7777777777777778,
              "#fb9f3a"
             ],
             [
              0.8888888888888888,
              "#fdca26"
             ],
             [
              1,
              "#f0f921"
             ]
            ],
            "type": "contour"
           }
          ],
          "contourcarpet": [
           {
            "colorbar": {
             "outlinewidth": 0,
             "ticks": ""
            },
            "type": "contourcarpet"
           }
          ],
          "heatmap": [
           {
            "colorbar": {
             "outlinewidth": 0,
             "ticks": ""
            },
            "colorscale": [
             [
              0,
              "#0d0887"
             ],
             [
              0.1111111111111111,
              "#46039f"
             ],
             [
              0.2222222222222222,
              "#7201a8"
             ],
             [
              0.3333333333333333,
              "#9c179e"
             ],
             [
              0.4444444444444444,
              "#bd3786"
             ],
             [
              0.5555555555555556,
              "#d8576b"
             ],
             [
              0.6666666666666666,
              "#ed7953"
             ],
             [
              0.7777777777777778,
              "#fb9f3a"
             ],
             [
              0.8888888888888888,
              "#fdca26"
             ],
             [
              1,
              "#f0f921"
             ]
            ],
            "type": "heatmap"
           }
          ],
          "heatmapgl": [
           {
            "colorbar": {
             "outlinewidth": 0,
             "ticks": ""
            },
            "colorscale": [
             [
              0,
              "#0d0887"
             ],
             [
              0.1111111111111111,
              "#46039f"
             ],
             [
              0.2222222222222222,
              "#7201a8"
             ],
             [
              0.3333333333333333,
              "#9c179e"
             ],
             [
              0.4444444444444444,
              "#bd3786"
             ],
             [
              0.5555555555555556,
              "#d8576b"
             ],
             [
              0.6666666666666666,
              "#ed7953"
             ],
             [
              0.7777777777777778,
              "#fb9f3a"
             ],
             [
              0.8888888888888888,
              "#fdca26"
             ],
             [
              1,
              "#f0f921"
             ]
            ],
            "type": "heatmapgl"
           }
          ],
          "histogram": [
           {
            "marker": {
             "pattern": {
              "fillmode": "overlay",
              "size": 10,
              "solidity": 0.2
             }
            },
            "type": "histogram"
           }
          ],
          "histogram2d": [
           {
            "colorbar": {
             "outlinewidth": 0,
             "ticks": ""
            },
            "colorscale": [
             [
              0,
              "#0d0887"
             ],
             [
              0.1111111111111111,
              "#46039f"
             ],
             [
              0.2222222222222222,
              "#7201a8"
             ],
             [
              0.3333333333333333,
              "#9c179e"
             ],
             [
              0.4444444444444444,
              "#bd3786"
             ],
             [
              0.5555555555555556,
              "#d8576b"
             ],
             [
              0.6666666666666666,
              "#ed7953"
             ],
             [
              0.7777777777777778,
              "#fb9f3a"
             ],
             [
              0.8888888888888888,
              "#fdca26"
             ],
             [
              1,
              "#f0f921"
             ]
            ],
            "type": "histogram2d"
           }
          ],
          "histogram2dcontour": [
           {
            "colorbar": {
             "outlinewidth": 0,
             "ticks": ""
            },
            "colorscale": [
             [
              0,
              "#0d0887"
             ],
             [
              0.1111111111111111,
              "#46039f"
             ],
             [
              0.2222222222222222,
              "#7201a8"
             ],
             [
              0.3333333333333333,
              "#9c179e"
             ],
             [
              0.4444444444444444,
              "#bd3786"
             ],
             [
              0.5555555555555556,
              "#d8576b"
             ],
             [
              0.6666666666666666,
              "#ed7953"
             ],
             [
              0.7777777777777778,
              "#fb9f3a"
             ],
             [
              0.8888888888888888,
              "#fdca26"
             ],
             [
              1,
              "#f0f921"
             ]
            ],
            "type": "histogram2dcontour"
           }
          ],
          "mesh3d": [
           {
            "colorbar": {
             "outlinewidth": 0,
             "ticks": ""
            },
            "type": "mesh3d"
           }
          ],
          "parcoords": [
           {
            "line": {
             "colorbar": {
              "outlinewidth": 0,
              "ticks": ""
             }
            },
            "type": "parcoords"
           }
          ],
          "pie": [
           {
            "automargin": true,
            "type": "pie"
           }
          ],
          "scatter": [
           {
            "marker": {
             "colorbar": {
              "outlinewidth": 0,
              "ticks": ""
             }
            },
            "type": "scatter"
           }
          ],
          "scatter3d": [
           {
            "line": {
             "colorbar": {
              "outlinewidth": 0,
              "ticks": ""
             }
            },
            "marker": {
             "colorbar": {
              "outlinewidth": 0,
              "ticks": ""
             }
            },
            "type": "scatter3d"
           }
          ],
          "scattercarpet": [
           {
            "marker": {
             "colorbar": {
              "outlinewidth": 0,
              "ticks": ""
             }
            },
            "type": "scattercarpet"
           }
          ],
          "scattergeo": [
           {
            "marker": {
             "colorbar": {
              "outlinewidth": 0,
              "ticks": ""
             }
            },
            "type": "scattergeo"
           }
          ],
          "scattergl": [
           {
            "marker": {
             "colorbar": {
              "outlinewidth": 0,
              "ticks": ""
             }
            },
            "type": "scattergl"
           }
          ],
          "scattermapbox": [
           {
            "marker": {
             "colorbar": {
              "outlinewidth": 0,
              "ticks": ""
             }
            },
            "type": "scattermapbox"
           }
          ],
          "scatterpolar": [
           {
            "marker": {
             "colorbar": {
              "outlinewidth": 0,
              "ticks": ""
             }
            },
            "type": "scatterpolar"
           }
          ],
          "scatterpolargl": [
           {
            "marker": {
             "colorbar": {
              "outlinewidth": 0,
              "ticks": ""
             }
            },
            "type": "scatterpolargl"
           }
          ],
          "scatterternary": [
           {
            "marker": {
             "colorbar": {
              "outlinewidth": 0,
              "ticks": ""
             }
            },
            "type": "scatterternary"
           }
          ],
          "surface": [
           {
            "colorbar": {
             "outlinewidth": 0,
             "ticks": ""
            },
            "colorscale": [
             [
              0,
              "#0d0887"
             ],
             [
              0.1111111111111111,
              "#46039f"
             ],
             [
              0.2222222222222222,
              "#7201a8"
             ],
             [
              0.3333333333333333,
              "#9c179e"
             ],
             [
              0.4444444444444444,
              "#bd3786"
             ],
             [
              0.5555555555555556,
              "#d8576b"
             ],
             [
              0.6666666666666666,
              "#ed7953"
             ],
             [
              0.7777777777777778,
              "#fb9f3a"
             ],
             [
              0.8888888888888888,
              "#fdca26"
             ],
             [
              1,
              "#f0f921"
             ]
            ],
            "type": "surface"
           }
          ],
          "table": [
           {
            "cells": {
             "fill": {
              "color": "#EBF0F8"
             },
             "line": {
              "color": "white"
             }
            },
            "header": {
             "fill": {
              "color": "#C8D4E3"
             },
             "line": {
              "color": "white"
             }
            },
            "type": "table"
           }
          ]
         },
         "layout": {
          "annotationdefaults": {
           "arrowcolor": "#2a3f5f",
           "arrowhead": 0,
           "arrowwidth": 1
          },
          "autotypenumbers": "strict",
          "coloraxis": {
           "colorbar": {
            "outlinewidth": 0,
            "ticks": ""
           }
          },
          "colorscale": {
           "diverging": [
            [
             0,
             "#8e0152"
            ],
            [
             0.1,
             "#c51b7d"
            ],
            [
             0.2,
             "#de77ae"
            ],
            [
             0.3,
             "#f1b6da"
            ],
            [
             0.4,
             "#fde0ef"
            ],
            [
             0.5,
             "#f7f7f7"
            ],
            [
             0.6,
             "#e6f5d0"
            ],
            [
             0.7,
             "#b8e186"
            ],
            [
             0.8,
             "#7fbc41"
            ],
            [
             0.9,
             "#4d9221"
            ],
            [
             1,
             "#276419"
            ]
           ],
           "sequential": [
            [
             0,
             "#0d0887"
            ],
            [
             0.1111111111111111,
             "#46039f"
            ],
            [
             0.2222222222222222,
             "#7201a8"
            ],
            [
             0.3333333333333333,
             "#9c179e"
            ],
            [
             0.4444444444444444,
             "#bd3786"
            ],
            [
             0.5555555555555556,
             "#d8576b"
            ],
            [
             0.6666666666666666,
             "#ed7953"
            ],
            [
             0.7777777777777778,
             "#fb9f3a"
            ],
            [
             0.8888888888888888,
             "#fdca26"
            ],
            [
             1,
             "#f0f921"
            ]
           ],
           "sequentialminus": [
            [
             0,
             "#0d0887"
            ],
            [
             0.1111111111111111,
             "#46039f"
            ],
            [
             0.2222222222222222,
             "#7201a8"
            ],
            [
             0.3333333333333333,
             "#9c179e"
            ],
            [
             0.4444444444444444,
             "#bd3786"
            ],
            [
             0.5555555555555556,
             "#d8576b"
            ],
            [
             0.6666666666666666,
             "#ed7953"
            ],
            [
             0.7777777777777778,
             "#fb9f3a"
            ],
            [
             0.8888888888888888,
             "#fdca26"
            ],
            [
             1,
             "#f0f921"
            ]
           ]
          },
          "colorway": [
           "#636efa",
           "#EF553B",
           "#00cc96",
           "#ab63fa",
           "#FFA15A",
           "#19d3f3",
           "#FF6692",
           "#B6E880",
           "#FF97FF",
           "#FECB52"
          ],
          "font": {
           "color": "#2a3f5f"
          },
          "geo": {
           "bgcolor": "white",
           "lakecolor": "white",
           "landcolor": "white",
           "showlakes": true,
           "showland": true,
           "subunitcolor": "#C8D4E3"
          },
          "hoverlabel": {
           "align": "left"
          },
          "hovermode": "closest",
          "mapbox": {
           "style": "light"
          },
          "paper_bgcolor": "white",
          "plot_bgcolor": "white",
          "polar": {
           "angularaxis": {
            "gridcolor": "#EBF0F8",
            "linecolor": "#EBF0F8",
            "ticks": ""
           },
           "bgcolor": "white",
           "radialaxis": {
            "gridcolor": "#EBF0F8",
            "linecolor": "#EBF0F8",
            "ticks": ""
           }
          },
          "scene": {
           "xaxis": {
            "backgroundcolor": "white",
            "gridcolor": "#DFE8F3",
            "gridwidth": 2,
            "linecolor": "#EBF0F8",
            "showbackground": true,
            "ticks": "",
            "zerolinecolor": "#EBF0F8"
           },
           "yaxis": {
            "backgroundcolor": "white",
            "gridcolor": "#DFE8F3",
            "gridwidth": 2,
            "linecolor": "#EBF0F8",
            "showbackground": true,
            "ticks": "",
            "zerolinecolor": "#EBF0F8"
           },
           "zaxis": {
            "backgroundcolor": "white",
            "gridcolor": "#DFE8F3",
            "gridwidth": 2,
            "linecolor": "#EBF0F8",
            "showbackground": true,
            "ticks": "",
            "zerolinecolor": "#EBF0F8"
           }
          },
          "shapedefaults": {
           "line": {
            "color": "#2a3f5f"
           }
          },
          "ternary": {
           "aaxis": {
            "gridcolor": "#DFE8F3",
            "linecolor": "#A2B1C6",
            "ticks": ""
           },
           "baxis": {
            "gridcolor": "#DFE8F3",
            "linecolor": "#A2B1C6",
            "ticks": ""
           },
           "bgcolor": "white",
           "caxis": {
            "gridcolor": "#DFE8F3",
            "linecolor": "#A2B1C6",
            "ticks": ""
           }
          },
          "title": {
           "x": 0.05
          },
          "xaxis": {
           "automargin": true,
           "gridcolor": "#EBF0F8",
           "linecolor": "#EBF0F8",
           "ticks": "",
           "title": {
            "standoff": 15
           },
           "zerolinecolor": "#EBF0F8",
           "zerolinewidth": 2
          },
          "yaxis": {
           "automargin": true,
           "gridcolor": "#EBF0F8",
           "linecolor": "#EBF0F8",
           "ticks": "",
           "title": {
            "standoff": 15
           },
           "zerolinecolor": "#EBF0F8",
           "zerolinewidth": 2
          }
         }
        },
        "title": {
         "text": "3D Surface of Laplacian (Zero Grid)"
        }
       }
      }
     },
     "metadata": {},
     "output_type": "display_data"
    },
    {
     "data": {
      "application/vnd.plotly.v1+json": {
       "config": {
        "plotlyServerURL": "https://plot.ly"
       },
       "data": [
        {
         "colorscale": [
          [
           0,
           "#440154"
          ],
          [
           0.1111111111111111,
           "#482878"
          ],
          [
           0.2222222222222222,
           "#3e4989"
          ],
          [
           0.3333333333333333,
           "#31688e"
          ],
          [
           0.4444444444444444,
           "#26828e"
          ],
          [
           0.5555555555555556,
           "#1f9e89"
          ],
          [
           0.6666666666666666,
           "#35b779"
          ],
          [
           0.7777777777777778,
           "#6ece58"
          ],
          [
           0.8888888888888888,
           "#b5de2b"
          ],
          [
           1,
           "#fde725"
          ]
         ],
         "type": "surface",
         "x": [
          [
           0,
           0.1111111111111111,
           0.2222222222222222,
           0.3333333333333333,
           0.4444444444444444,
           0.5555555555555556,
           0.6666666666666666,
           0.7777777777777777,
           0.8888888888888888,
           1
          ],
          [
           0,
           0.1111111111111111,
           0.2222222222222222,
           0.3333333333333333,
           0.4444444444444444,
           0.5555555555555556,
           0.6666666666666666,
           0.7777777777777777,
           0.8888888888888888,
           1
          ],
          [
           0,
           0.1111111111111111,
           0.2222222222222222,
           0.3333333333333333,
           0.4444444444444444,
           0.5555555555555556,
           0.6666666666666666,
           0.7777777777777777,
           0.8888888888888888,
           1
          ],
          [
           0,
           0.1111111111111111,
           0.2222222222222222,
           0.3333333333333333,
           0.4444444444444444,
           0.5555555555555556,
           0.6666666666666666,
           0.7777777777777777,
           0.8888888888888888,
           1
          ],
          [
           0,
           0.1111111111111111,
           0.2222222222222222,
           0.3333333333333333,
           0.4444444444444444,
           0.5555555555555556,
           0.6666666666666666,
           0.7777777777777777,
           0.8888888888888888,
           1
          ],
          [
           0,
           0.1111111111111111,
           0.2222222222222222,
           0.3333333333333333,
           0.4444444444444444,
           0.5555555555555556,
           0.6666666666666666,
           0.7777777777777777,
           0.8888888888888888,
           1
          ],
          [
           0,
           0.1111111111111111,
           0.2222222222222222,
           0.3333333333333333,
           0.4444444444444444,
           0.5555555555555556,
           0.6666666666666666,
           0.7777777777777777,
           0.8888888888888888,
           1
          ],
          [
           0,
           0.1111111111111111,
           0.2222222222222222,
           0.3333333333333333,
           0.4444444444444444,
           0.5555555555555556,
           0.6666666666666666,
           0.7777777777777777,
           0.8888888888888888,
           1
          ],
          [
           0,
           0.1111111111111111,
           0.2222222222222222,
           0.3333333333333333,
           0.4444444444444444,
           0.5555555555555556,
           0.6666666666666666,
           0.7777777777777777,
           0.8888888888888888,
           1
          ],
          [
           0,
           0.1111111111111111,
           0.2222222222222222,
           0.3333333333333333,
           0.4444444444444444,
           0.5555555555555556,
           0.6666666666666666,
           0.7777777777777777,
           0.8888888888888888,
           1
          ]
         ],
         "y": [
          [
           0,
           0,
           0,
           0,
           0,
           0,
           0,
           0,
           0,
           0
          ],
          [
           0.1111111111111111,
           0.1111111111111111,
           0.1111111111111111,
           0.1111111111111111,
           0.1111111111111111,
           0.1111111111111111,
           0.1111111111111111,
           0.1111111111111111,
           0.1111111111111111,
           0.1111111111111111
          ],
          [
           0.2222222222222222,
           0.2222222222222222,
           0.2222222222222222,
           0.2222222222222222,
           0.2222222222222222,
           0.2222222222222222,
           0.2222222222222222,
           0.2222222222222222,
           0.2222222222222222,
           0.2222222222222222
          ],
          [
           0.3333333333333333,
           0.3333333333333333,
           0.3333333333333333,
           0.3333333333333333,
           0.3333333333333333,
           0.3333333333333333,
           0.3333333333333333,
           0.3333333333333333,
           0.3333333333333333,
           0.3333333333333333
          ],
          [
           0.4444444444444444,
           0.4444444444444444,
           0.4444444444444444,
           0.4444444444444444,
           0.4444444444444444,
           0.4444444444444444,
           0.4444444444444444,
           0.4444444444444444,
           0.4444444444444444,
           0.4444444444444444
          ],
          [
           0.5555555555555556,
           0.5555555555555556,
           0.5555555555555556,
           0.5555555555555556,
           0.5555555555555556,
           0.5555555555555556,
           0.5555555555555556,
           0.5555555555555556,
           0.5555555555555556,
           0.5555555555555556
          ],
          [
           0.6666666666666666,
           0.6666666666666666,
           0.6666666666666666,
           0.6666666666666666,
           0.6666666666666666,
           0.6666666666666666,
           0.6666666666666666,
           0.6666666666666666,
           0.6666666666666666,
           0.6666666666666666
          ],
          [
           0.7777777777777777,
           0.7777777777777777,
           0.7777777777777777,
           0.7777777777777777,
           0.7777777777777777,
           0.7777777777777777,
           0.7777777777777777,
           0.7777777777777777,
           0.7777777777777777,
           0.7777777777777777
          ],
          [
           0.8888888888888888,
           0.8888888888888888,
           0.8888888888888888,
           0.8888888888888888,
           0.8888888888888888,
           0.8888888888888888,
           0.8888888888888888,
           0.8888888888888888,
           0.8888888888888888,
           0.8888888888888888
          ],
          [
           1,
           1,
           1,
           1,
           1,
           1,
           1,
           1,
           1,
           1
          ]
         ],
         "z": [
          [
           0,
           -0.5714244827667453,
           -1.0739267395846295,
           -1.446897582137948,
           -1.6453512223513758,
           -1.6453512223513758,
           -1.446897582137948,
           -1.0739267395846335,
           -0.5714244827667443,
           -2.0460583314485932e-16
          ],
          [
           -0.5714244827667453,
           -2.216775705118119,
           -4.166175544073949,
           -5.613073126211895,
           -6.38295124919207,
           -6.38295124919207,
           -5.613073126211899,
           -4.166175544073951,
           -2.2167757051181187,
           -0.5714244827667447
          ],
          [
           -1.0739267395846295,
           -4.166175544073949,
           -7.829848831330013,
           -10.549126793266014,
           -11.996024375403964,
           -11.996024375403964,
           -10.54912679326602,
           -7.829848831330015,
           -4.166175544073951,
           -1.0739267395846301
          ],
          [
           -1.446897582137948,
           -5.613073126211895,
           -10.549126793266014,
           -14.212800080522081,
           -16.162199919477917,
           -16.162199919477914,
           -14.212800080522083,
           -10.549126793266023,
           -5.613073126211901,
           -1.446897582137949
          ],
          [
           -1.6453512223513758,
           -6.38295124919207,
           -11.996024375403964,
           -16.162199919477917,
           -18.37897562459603,
           -18.378975624596027,
           -16.162199919477917,
           -11.996024375403973,
           -6.382951249192076,
           -1.6453512223513769
          ],
          [
           -1.6453512223513758,
           -6.38295124919207,
           -11.996024375403964,
           -16.162199919477914,
           -18.378975624596027,
           -18.378975624596023,
           -16.162199919477914,
           -11.996024375403973,
           -6.382951249192075,
           -1.6453512223513769
          ],
          [
           -1.446897582137948,
           -5.613073126211899,
           -10.54912679326602,
           -14.212800080522083,
           -16.162199919477917,
           -16.162199919477914,
           -14.212800080522086,
           -10.549126793266026,
           -5.6130731262119,
           -1.446897582137945
          ],
          [
           -1.0739267395846335,
           -4.166175544073951,
           -7.829848831330015,
           -10.549126793266023,
           -11.996024375403973,
           -11.996024375403973,
           -10.549126793266026,
           -7.829848831330023,
           -4.166175544073953,
           -1.0739267395846301
          ],
          [
           -0.5714244827667443,
           -2.2167757051181187,
           -4.166175544073951,
           -5.613073126211901,
           -6.382951249192076,
           -6.382951249192075,
           -5.6130731262119,
           -4.166175544073953,
           -2.2167757051181223,
           -0.5714244827667467
          ],
          [
           -2.0460583314485932e-16,
           -0.5714244827667447,
           -1.0739267395846301,
           -1.446897582137949,
           -1.6453512223513769,
           -1.6453512223513769,
           -1.446897582137945,
           -1.0739267395846301,
           -0.5714244827667467,
           -4.0921166628971865e-16
          ]
         ]
        }
       ],
       "layout": {
        "scene": {
         "camera": {
          "eye": {
           "x": 1.5,
           "y": 1.5,
           "z": 1.5
          }
         },
         "xaxis": {
          "title": {
           "text": "X"
          }
         },
         "yaxis": {
          "title": {
           "text": "Y"
          }
         },
         "zaxis": {
          "title": {
           "text": "Laplacian Value"
          }
         }
        },
        "template": {
         "data": {
          "bar": [
           {
            "error_x": {
             "color": "#2a3f5f"
            },
            "error_y": {
             "color": "#2a3f5f"
            },
            "marker": {
             "line": {
              "color": "white",
              "width": 0.5
             },
             "pattern": {
              "fillmode": "overlay",
              "size": 10,
              "solidity": 0.2
             }
            },
            "type": "bar"
           }
          ],
          "barpolar": [
           {
            "marker": {
             "line": {
              "color": "white",
              "width": 0.5
             },
             "pattern": {
              "fillmode": "overlay",
              "size": 10,
              "solidity": 0.2
             }
            },
            "type": "barpolar"
           }
          ],
          "carpet": [
           {
            "aaxis": {
             "endlinecolor": "#2a3f5f",
             "gridcolor": "#C8D4E3",
             "linecolor": "#C8D4E3",
             "minorgridcolor": "#C8D4E3",
             "startlinecolor": "#2a3f5f"
            },
            "baxis": {
             "endlinecolor": "#2a3f5f",
             "gridcolor": "#C8D4E3",
             "linecolor": "#C8D4E3",
             "minorgridcolor": "#C8D4E3",
             "startlinecolor": "#2a3f5f"
            },
            "type": "carpet"
           }
          ],
          "choropleth": [
           {
            "colorbar": {
             "outlinewidth": 0,
             "ticks": ""
            },
            "type": "choropleth"
           }
          ],
          "contour": [
           {
            "colorbar": {
             "outlinewidth": 0,
             "ticks": ""
            },
            "colorscale": [
             [
              0,
              "#0d0887"
             ],
             [
              0.1111111111111111,
              "#46039f"
             ],
             [
              0.2222222222222222,
              "#7201a8"
             ],
             [
              0.3333333333333333,
              "#9c179e"
             ],
             [
              0.4444444444444444,
              "#bd3786"
             ],
             [
              0.5555555555555556,
              "#d8576b"
             ],
             [
              0.6666666666666666,
              "#ed7953"
             ],
             [
              0.7777777777777778,
              "#fb9f3a"
             ],
             [
              0.8888888888888888,
              "#fdca26"
             ],
             [
              1,
              "#f0f921"
             ]
            ],
            "type": "contour"
           }
          ],
          "contourcarpet": [
           {
            "colorbar": {
             "outlinewidth": 0,
             "ticks": ""
            },
            "type": "contourcarpet"
           }
          ],
          "heatmap": [
           {
            "colorbar": {
             "outlinewidth": 0,
             "ticks": ""
            },
            "colorscale": [
             [
              0,
              "#0d0887"
             ],
             [
              0.1111111111111111,
              "#46039f"
             ],
             [
              0.2222222222222222,
              "#7201a8"
             ],
             [
              0.3333333333333333,
              "#9c179e"
             ],
             [
              0.4444444444444444,
              "#bd3786"
             ],
             [
              0.5555555555555556,
              "#d8576b"
             ],
             [
              0.6666666666666666,
              "#ed7953"
             ],
             [
              0.7777777777777778,
              "#fb9f3a"
             ],
             [
              0.8888888888888888,
              "#fdca26"
             ],
             [
              1,
              "#f0f921"
             ]
            ],
            "type": "heatmap"
           }
          ],
          "heatmapgl": [
           {
            "colorbar": {
             "outlinewidth": 0,
             "ticks": ""
            },
            "colorscale": [
             [
              0,
              "#0d0887"
             ],
             [
              0.1111111111111111,
              "#46039f"
             ],
             [
              0.2222222222222222,
              "#7201a8"
             ],
             [
              0.3333333333333333,
              "#9c179e"
             ],
             [
              0.4444444444444444,
              "#bd3786"
             ],
             [
              0.5555555555555556,
              "#d8576b"
             ],
             [
              0.6666666666666666,
              "#ed7953"
             ],
             [
              0.7777777777777778,
              "#fb9f3a"
             ],
             [
              0.8888888888888888,
              "#fdca26"
             ],
             [
              1,
              "#f0f921"
             ]
            ],
            "type": "heatmapgl"
           }
          ],
          "histogram": [
           {
            "marker": {
             "pattern": {
              "fillmode": "overlay",
              "size": 10,
              "solidity": 0.2
             }
            },
            "type": "histogram"
           }
          ],
          "histogram2d": [
           {
            "colorbar": {
             "outlinewidth": 0,
             "ticks": ""
            },
            "colorscale": [
             [
              0,
              "#0d0887"
             ],
             [
              0.1111111111111111,
              "#46039f"
             ],
             [
              0.2222222222222222,
              "#7201a8"
             ],
             [
              0.3333333333333333,
              "#9c179e"
             ],
             [
              0.4444444444444444,
              "#bd3786"
             ],
             [
              0.5555555555555556,
              "#d8576b"
             ],
             [
              0.6666666666666666,
              "#ed7953"
             ],
             [
              0.7777777777777778,
              "#fb9f3a"
             ],
             [
              0.8888888888888888,
              "#fdca26"
             ],
             [
              1,
              "#f0f921"
             ]
            ],
            "type": "histogram2d"
           }
          ],
          "histogram2dcontour": [
           {
            "colorbar": {
             "outlinewidth": 0,
             "ticks": ""
            },
            "colorscale": [
             [
              0,
              "#0d0887"
             ],
             [
              0.1111111111111111,
              "#46039f"
             ],
             [
              0.2222222222222222,
              "#7201a8"
             ],
             [
              0.3333333333333333,
              "#9c179e"
             ],
             [
              0.4444444444444444,
              "#bd3786"
             ],
             [
              0.5555555555555556,
              "#d8576b"
             ],
             [
              0.6666666666666666,
              "#ed7953"
             ],
             [
              0.7777777777777778,
              "#fb9f3a"
             ],
             [
              0.8888888888888888,
              "#fdca26"
             ],
             [
              1,
              "#f0f921"
             ]
            ],
            "type": "histogram2dcontour"
           }
          ],
          "mesh3d": [
           {
            "colorbar": {
             "outlinewidth": 0,
             "ticks": ""
            },
            "type": "mesh3d"
           }
          ],
          "parcoords": [
           {
            "line": {
             "colorbar": {
              "outlinewidth": 0,
              "ticks": ""
             }
            },
            "type": "parcoords"
           }
          ],
          "pie": [
           {
            "automargin": true,
            "type": "pie"
           }
          ],
          "scatter": [
           {
            "marker": {
             "colorbar": {
              "outlinewidth": 0,
              "ticks": ""
             }
            },
            "type": "scatter"
           }
          ],
          "scatter3d": [
           {
            "line": {
             "colorbar": {
              "outlinewidth": 0,
              "ticks": ""
             }
            },
            "marker": {
             "colorbar": {
              "outlinewidth": 0,
              "ticks": ""
             }
            },
            "type": "scatter3d"
           }
          ],
          "scattercarpet": [
           {
            "marker": {
             "colorbar": {
              "outlinewidth": 0,
              "ticks": ""
             }
            },
            "type": "scattercarpet"
           }
          ],
          "scattergeo": [
           {
            "marker": {
             "colorbar": {
              "outlinewidth": 0,
              "ticks": ""
             }
            },
            "type": "scattergeo"
           }
          ],
          "scattergl": [
           {
            "marker": {
             "colorbar": {
              "outlinewidth": 0,
              "ticks": ""
             }
            },
            "type": "scattergl"
           }
          ],
          "scattermapbox": [
           {
            "marker": {
             "colorbar": {
              "outlinewidth": 0,
              "ticks": ""
             }
            },
            "type": "scattermapbox"
           }
          ],
          "scatterpolar": [
           {
            "marker": {
             "colorbar": {
              "outlinewidth": 0,
              "ticks": ""
             }
            },
            "type": "scatterpolar"
           }
          ],
          "scatterpolargl": [
           {
            "marker": {
             "colorbar": {
              "outlinewidth": 0,
              "ticks": ""
             }
            },
            "type": "scatterpolargl"
           }
          ],
          "scatterternary": [
           {
            "marker": {
             "colorbar": {
              "outlinewidth": 0,
              "ticks": ""
             }
            },
            "type": "scatterternary"
           }
          ],
          "surface": [
           {
            "colorbar": {
             "outlinewidth": 0,
             "ticks": ""
            },
            "colorscale": [
             [
              0,
              "#0d0887"
             ],
             [
              0.1111111111111111,
              "#46039f"
             ],
             [
              0.2222222222222222,
              "#7201a8"
             ],
             [
              0.3333333333333333,
              "#9c179e"
             ],
             [
              0.4444444444444444,
              "#bd3786"
             ],
             [
              0.5555555555555556,
              "#d8576b"
             ],
             [
              0.6666666666666666,
              "#ed7953"
             ],
             [
              0.7777777777777778,
              "#fb9f3a"
             ],
             [
              0.8888888888888888,
              "#fdca26"
             ],
             [
              1,
              "#f0f921"
             ]
            ],
            "type": "surface"
           }
          ],
          "table": [
           {
            "cells": {
             "fill": {
              "color": "#EBF0F8"
             },
             "line": {
              "color": "white"
             }
            },
            "header": {
             "fill": {
              "color": "#C8D4E3"
             },
             "line": {
              "color": "white"
             }
            },
            "type": "table"
           }
          ]
         },
         "layout": {
          "annotationdefaults": {
           "arrowcolor": "#2a3f5f",
           "arrowhead": 0,
           "arrowwidth": 1
          },
          "autotypenumbers": "strict",
          "coloraxis": {
           "colorbar": {
            "outlinewidth": 0,
            "ticks": ""
           }
          },
          "colorscale": {
           "diverging": [
            [
             0,
             "#8e0152"
            ],
            [
             0.1,
             "#c51b7d"
            ],
            [
             0.2,
             "#de77ae"
            ],
            [
             0.3,
             "#f1b6da"
            ],
            [
             0.4,
             "#fde0ef"
            ],
            [
             0.5,
             "#f7f7f7"
            ],
            [
             0.6,
             "#e6f5d0"
            ],
            [
             0.7,
             "#b8e186"
            ],
            [
             0.8,
             "#7fbc41"
            ],
            [
             0.9,
             "#4d9221"
            ],
            [
             1,
             "#276419"
            ]
           ],
           "sequential": [
            [
             0,
             "#0d0887"
            ],
            [
             0.1111111111111111,
             "#46039f"
            ],
            [
             0.2222222222222222,
             "#7201a8"
            ],
            [
             0.3333333333333333,
             "#9c179e"
            ],
            [
             0.4444444444444444,
             "#bd3786"
            ],
            [
             0.5555555555555556,
             "#d8576b"
            ],
            [
             0.6666666666666666,
             "#ed7953"
            ],
            [
             0.7777777777777778,
             "#fb9f3a"
            ],
            [
             0.8888888888888888,
             "#fdca26"
            ],
            [
             1,
             "#f0f921"
            ]
           ],
           "sequentialminus": [
            [
             0,
             "#0d0887"
            ],
            [
             0.1111111111111111,
             "#46039f"
            ],
            [
             0.2222222222222222,
             "#7201a8"
            ],
            [
             0.3333333333333333,
             "#9c179e"
            ],
            [
             0.4444444444444444,
             "#bd3786"
            ],
            [
             0.5555555555555556,
             "#d8576b"
            ],
            [
             0.6666666666666666,
             "#ed7953"
            ],
            [
             0.7777777777777778,
             "#fb9f3a"
            ],
            [
             0.8888888888888888,
             "#fdca26"
            ],
            [
             1,
             "#f0f921"
            ]
           ]
          },
          "colorway": [
           "#636efa",
           "#EF553B",
           "#00cc96",
           "#ab63fa",
           "#FFA15A",
           "#19d3f3",
           "#FF6692",
           "#B6E880",
           "#FF97FF",
           "#FECB52"
          ],
          "font": {
           "color": "#2a3f5f"
          },
          "geo": {
           "bgcolor": "white",
           "lakecolor": "white",
           "landcolor": "white",
           "showlakes": true,
           "showland": true,
           "subunitcolor": "#C8D4E3"
          },
          "hoverlabel": {
           "align": "left"
          },
          "hovermode": "closest",
          "mapbox": {
           "style": "light"
          },
          "paper_bgcolor": "white",
          "plot_bgcolor": "white",
          "polar": {
           "angularaxis": {
            "gridcolor": "#EBF0F8",
            "linecolor": "#EBF0F8",
            "ticks": ""
           },
           "bgcolor": "white",
           "radialaxis": {
            "gridcolor": "#EBF0F8",
            "linecolor": "#EBF0F8",
            "ticks": ""
           }
          },
          "scene": {
           "xaxis": {
            "backgroundcolor": "white",
            "gridcolor": "#DFE8F3",
            "gridwidth": 2,
            "linecolor": "#EBF0F8",
            "showbackground": true,
            "ticks": "",
            "zerolinecolor": "#EBF0F8"
           },
           "yaxis": {
            "backgroundcolor": "white",
            "gridcolor": "#DFE8F3",
            "gridwidth": 2,
            "linecolor": "#EBF0F8",
            "showbackground": true,
            "ticks": "",
            "zerolinecolor": "#EBF0F8"
           },
           "zaxis": {
            "backgroundcolor": "white",
            "gridcolor": "#DFE8F3",
            "gridwidth": 2,
            "linecolor": "#EBF0F8",
            "showbackground": true,
            "ticks": "",
            "zerolinecolor": "#EBF0F8"
           }
          },
          "shapedefaults": {
           "line": {
            "color": "#2a3f5f"
           }
          },
          "ternary": {
           "aaxis": {
            "gridcolor": "#DFE8F3",
            "linecolor": "#A2B1C6",
            "ticks": ""
           },
           "baxis": {
            "gridcolor": "#DFE8F3",
            "linecolor": "#A2B1C6",
            "ticks": ""
           },
           "bgcolor": "white",
           "caxis": {
            "gridcolor": "#DFE8F3",
            "linecolor": "#A2B1C6",
            "ticks": ""
           }
          },
          "title": {
           "x": 0.05
          },
          "xaxis": {
           "automargin": true,
           "gridcolor": "#EBF0F8",
           "linecolor": "#EBF0F8",
           "ticks": "",
           "title": {
            "standoff": 15
           },
           "zerolinecolor": "#EBF0F8",
           "zerolinewidth": 2
          },
          "yaxis": {
           "automargin": true,
           "gridcolor": "#EBF0F8",
           "linecolor": "#EBF0F8",
           "ticks": "",
           "title": {
            "standoff": 15
           },
           "zerolinecolor": "#EBF0F8",
           "zerolinewidth": 2
          }
         }
        },
        "title": {
         "text": "3D Surface of Laplacian (Sinusoidal Grid)"
        }
       }
      }
     },
     "metadata": {},
     "output_type": "display_data"
    },
    {
     "data": {
      "application/vnd.plotly.v1+json": {
       "config": {
        "plotlyServerURL": "https://plot.ly"
       },
       "data": [
        {
         "colorscale": [
          [
           0,
           "#440154"
          ],
          [
           0.1111111111111111,
           "#482878"
          ],
          [
           0.2222222222222222,
           "#3e4989"
          ],
          [
           0.3333333333333333,
           "#31688e"
          ],
          [
           0.4444444444444444,
           "#26828e"
          ],
          [
           0.5555555555555556,
           "#1f9e89"
          ],
          [
           0.6666666666666666,
           "#35b779"
          ],
          [
           0.7777777777777778,
           "#6ece58"
          ],
          [
           0.8888888888888888,
           "#b5de2b"
          ],
          [
           1,
           "#fde725"
          ]
         ],
         "type": "surface",
         "x": [
          [
           0,
           0.1111111111111111,
           0.2222222222222222,
           0.3333333333333333,
           0.4444444444444444,
           0.5555555555555556,
           0.6666666666666666,
           0.7777777777777777,
           0.8888888888888888,
           1
          ],
          [
           0,
           0.1111111111111111,
           0.2222222222222222,
           0.3333333333333333,
           0.4444444444444444,
           0.5555555555555556,
           0.6666666666666666,
           0.7777777777777777,
           0.8888888888888888,
           1
          ],
          [
           0,
           0.1111111111111111,
           0.2222222222222222,
           0.3333333333333333,
           0.4444444444444444,
           0.5555555555555556,
           0.6666666666666666,
           0.7777777777777777,
           0.8888888888888888,
           1
          ],
          [
           0,
           0.1111111111111111,
           0.2222222222222222,
           0.3333333333333333,
           0.4444444444444444,
           0.5555555555555556,
           0.6666666666666666,
           0.7777777777777777,
           0.8888888888888888,
           1
          ],
          [
           0,
           0.1111111111111111,
           0.2222222222222222,
           0.3333333333333333,
           0.4444444444444444,
           0.5555555555555556,
           0.6666666666666666,
           0.7777777777777777,
           0.8888888888888888,
           1
          ],
          [
           0,
           0.1111111111111111,
           0.2222222222222222,
           0.3333333333333333,
           0.4444444444444444,
           0.5555555555555556,
           0.6666666666666666,
           0.7777777777777777,
           0.8888888888888888,
           1
          ],
          [
           0,
           0.1111111111111111,
           0.2222222222222222,
           0.3333333333333333,
           0.4444444444444444,
           0.5555555555555556,
           0.6666666666666666,
           0.7777777777777777,
           0.8888888888888888,
           1
          ],
          [
           0,
           0.1111111111111111,
           0.2222222222222222,
           0.3333333333333333,
           0.4444444444444444,
           0.5555555555555556,
           0.6666666666666666,
           0.7777777777777777,
           0.8888888888888888,
           1
          ],
          [
           0,
           0.1111111111111111,
           0.2222222222222222,
           0.3333333333333333,
           0.4444444444444444,
           0.5555555555555556,
           0.6666666666666666,
           0.7777777777777777,
           0.8888888888888888,
           1
          ],
          [
           0,
           0.1111111111111111,
           0.2222222222222222,
           0.3333333333333333,
           0.4444444444444444,
           0.5555555555555556,
           0.6666666666666666,
           0.7777777777777777,
           0.8888888888888888,
           1
          ]
         ],
         "y": [
          [
           0,
           0,
           0,
           0,
           0,
           0,
           0,
           0,
           0,
           0
          ],
          [
           0.1111111111111111,
           0.1111111111111111,
           0.1111111111111111,
           0.1111111111111111,
           0.1111111111111111,
           0.1111111111111111,
           0.1111111111111111,
           0.1111111111111111,
           0.1111111111111111,
           0.1111111111111111
          ],
          [
           0.2222222222222222,
           0.2222222222222222,
           0.2222222222222222,
           0.2222222222222222,
           0.2222222222222222,
           0.2222222222222222,
           0.2222222222222222,
           0.2222222222222222,
           0.2222222222222222,
           0.2222222222222222
          ],
          [
           0.3333333333333333,
           0.3333333333333333,
           0.3333333333333333,
           0.3333333333333333,
           0.3333333333333333,
           0.3333333333333333,
           0.3333333333333333,
           0.3333333333333333,
           0.3333333333333333,
           0.3333333333333333
          ],
          [
           0.4444444444444444,
           0.4444444444444444,
           0.4444444444444444,
           0.4444444444444444,
           0.4444444444444444,
           0.4444444444444444,
           0.4444444444444444,
           0.4444444444444444,
           0.4444444444444444,
           0.4444444444444444
          ],
          [
           0.5555555555555556,
           0.5555555555555556,
           0.5555555555555556,
           0.5555555555555556,
           0.5555555555555556,
           0.5555555555555556,
           0.5555555555555556,
           0.5555555555555556,
           0.5555555555555556,
           0.5555555555555556
          ],
          [
           0.6666666666666666,
           0.6666666666666666,
           0.6666666666666666,
           0.6666666666666666,
           0.6666666666666666,
           0.6666666666666666,
           0.6666666666666666,
           0.6666666666666666,
           0.6666666666666666,
           0.6666666666666666
          ],
          [
           0.7777777777777777,
           0.7777777777777777,
           0.7777777777777777,
           0.7777777777777777,
           0.7777777777777777,
           0.7777777777777777,
           0.7777777777777777,
           0.7777777777777777,
           0.7777777777777777,
           0.7777777777777777
          ],
          [
           0.8888888888888888,
           0.8888888888888888,
           0.8888888888888888,
           0.8888888888888888,
           0.8888888888888888,
           0.8888888888888888,
           0.8888888888888888,
           0.8888888888888888,
           0.8888888888888888,
           0.8888888888888888
          ],
          [
           1,
           1,
           1,
           1,
           1,
           1,
           1,
           1,
           1,
           1
          ]
         ],
         "z": [
          [
           0,
           0,
           0,
           0,
           0,
           0,
           0,
           0,
           0,
           0
          ],
          [
           0,
           0,
           0,
           0,
           0,
           -2.498001805406602e-16,
           0,
           6.245004513516506e-17,
           0,
           -6.245004513516506e-16
          ],
          [
           0,
           0,
           0,
           0,
           0,
           -4.996003610813204e-16,
           0,
           1.124100812432971e-15,
           0,
           -1.2490009027033011e-15
          ],
          [
           0,
           0,
           0,
           0,
           0,
           0,
           0,
           4.246603069191224e-15,
           0,
           -1.4988010832439613e-15
          ],
          [
           0,
           0,
           0,
           0,
           0,
           -9.992007221626409e-16,
           0,
           1.7486012637846216e-15,
           0,
           -2.4980018054066022e-15
          ],
          [
           0,
           -2.498001805406602e-16,
           -4.996003610813204e-16,
           0,
           -9.992007221626409e-16,
           -3.9968028886505635e-15,
           -1.9984014443252818e-15,
           -2.4980018054066022e-15,
           0,
           -1.4988010832439613e-15
          ],
          [
           0,
           0,
           0,
           0,
           0,
           -1.9984014443252818e-15,
           0,
           5.495603971894525e-15,
           0,
           -4.9960036108132044e-15
          ],
          [
           0,
           6.245004513516506e-17,
           1.124100812432971e-15,
           4.246603069191224e-15,
           1.7486012637846216e-15,
           -2.4980018054066022e-15,
           5.495603971894525e-15,
           1.099120794378905e-14,
           6.494804694057166e-15,
           4.496403249731884e-15
          ],
          [
           0,
           0,
           0,
           0,
           0,
           0,
           0,
           6.494804694057166e-15,
           0,
           -2.9976021664879227e-15
          ],
          [
           0,
           -6.245004513516506e-16,
           -1.2490009027033011e-15,
           -1.4988010832439613e-15,
           -2.4980018054066022e-15,
           -1.4988010832439613e-15,
           -4.9960036108132044e-15,
           4.496403249731884e-15,
           -2.9976021664879227e-15,
           0
          ]
         ]
        }
       ],
       "layout": {
        "scene": {
         "camera": {
          "eye": {
           "x": 1.5,
           "y": 1.5,
           "z": 1.5
          }
         },
         "xaxis": {
          "title": {
           "text": "X"
          }
         },
         "yaxis": {
          "title": {
           "text": "Y"
          }
         },
         "zaxis": {
          "title": {
           "text": "Laplacian Value"
          }
         }
        },
        "template": {
         "data": {
          "bar": [
           {
            "error_x": {
             "color": "#2a3f5f"
            },
            "error_y": {
             "color": "#2a3f5f"
            },
            "marker": {
             "line": {
              "color": "white",
              "width": 0.5
             },
             "pattern": {
              "fillmode": "overlay",
              "size": 10,
              "solidity": 0.2
             }
            },
            "type": "bar"
           }
          ],
          "barpolar": [
           {
            "marker": {
             "line": {
              "color": "white",
              "width": 0.5
             },
             "pattern": {
              "fillmode": "overlay",
              "size": 10,
              "solidity": 0.2
             }
            },
            "type": "barpolar"
           }
          ],
          "carpet": [
           {
            "aaxis": {
             "endlinecolor": "#2a3f5f",
             "gridcolor": "#C8D4E3",
             "linecolor": "#C8D4E3",
             "minorgridcolor": "#C8D4E3",
             "startlinecolor": "#2a3f5f"
            },
            "baxis": {
             "endlinecolor": "#2a3f5f",
             "gridcolor": "#C8D4E3",
             "linecolor": "#C8D4E3",
             "minorgridcolor": "#C8D4E3",
             "startlinecolor": "#2a3f5f"
            },
            "type": "carpet"
           }
          ],
          "choropleth": [
           {
            "colorbar": {
             "outlinewidth": 0,
             "ticks": ""
            },
            "type": "choropleth"
           }
          ],
          "contour": [
           {
            "colorbar": {
             "outlinewidth": 0,
             "ticks": ""
            },
            "colorscale": [
             [
              0,
              "#0d0887"
             ],
             [
              0.1111111111111111,
              "#46039f"
             ],
             [
              0.2222222222222222,
              "#7201a8"
             ],
             [
              0.3333333333333333,
              "#9c179e"
             ],
             [
              0.4444444444444444,
              "#bd3786"
             ],
             [
              0.5555555555555556,
              "#d8576b"
             ],
             [
              0.6666666666666666,
              "#ed7953"
             ],
             [
              0.7777777777777778,
              "#fb9f3a"
             ],
             [
              0.8888888888888888,
              "#fdca26"
             ],
             [
              1,
              "#f0f921"
             ]
            ],
            "type": "contour"
           }
          ],
          "contourcarpet": [
           {
            "colorbar": {
             "outlinewidth": 0,
             "ticks": ""
            },
            "type": "contourcarpet"
           }
          ],
          "heatmap": [
           {
            "colorbar": {
             "outlinewidth": 0,
             "ticks": ""
            },
            "colorscale": [
             [
              0,
              "#0d0887"
             ],
             [
              0.1111111111111111,
              "#46039f"
             ],
             [
              0.2222222222222222,
              "#7201a8"
             ],
             [
              0.3333333333333333,
              "#9c179e"
             ],
             [
              0.4444444444444444,
              "#bd3786"
             ],
             [
              0.5555555555555556,
              "#d8576b"
             ],
             [
              0.6666666666666666,
              "#ed7953"
             ],
             [
              0.7777777777777778,
              "#fb9f3a"
             ],
             [
              0.8888888888888888,
              "#fdca26"
             ],
             [
              1,
              "#f0f921"
             ]
            ],
            "type": "heatmap"
           }
          ],
          "heatmapgl": [
           {
            "colorbar": {
             "outlinewidth": 0,
             "ticks": ""
            },
            "colorscale": [
             [
              0,
              "#0d0887"
             ],
             [
              0.1111111111111111,
              "#46039f"
             ],
             [
              0.2222222222222222,
              "#7201a8"
             ],
             [
              0.3333333333333333,
              "#9c179e"
             ],
             [
              0.4444444444444444,
              "#bd3786"
             ],
             [
              0.5555555555555556,
              "#d8576b"
             ],
             [
              0.6666666666666666,
              "#ed7953"
             ],
             [
              0.7777777777777778,
              "#fb9f3a"
             ],
             [
              0.8888888888888888,
              "#fdca26"
             ],
             [
              1,
              "#f0f921"
             ]
            ],
            "type": "heatmapgl"
           }
          ],
          "histogram": [
           {
            "marker": {
             "pattern": {
              "fillmode": "overlay",
              "size": 10,
              "solidity": 0.2
             }
            },
            "type": "histogram"
           }
          ],
          "histogram2d": [
           {
            "colorbar": {
             "outlinewidth": 0,
             "ticks": ""
            },
            "colorscale": [
             [
              0,
              "#0d0887"
             ],
             [
              0.1111111111111111,
              "#46039f"
             ],
             [
              0.2222222222222222,
              "#7201a8"
             ],
             [
              0.3333333333333333,
              "#9c179e"
             ],
             [
              0.4444444444444444,
              "#bd3786"
             ],
             [
              0.5555555555555556,
              "#d8576b"
             ],
             [
              0.6666666666666666,
              "#ed7953"
             ],
             [
              0.7777777777777778,
              "#fb9f3a"
             ],
             [
              0.8888888888888888,
              "#fdca26"
             ],
             [
              1,
              "#f0f921"
             ]
            ],
            "type": "histogram2d"
           }
          ],
          "histogram2dcontour": [
           {
            "colorbar": {
             "outlinewidth": 0,
             "ticks": ""
            },
            "colorscale": [
             [
              0,
              "#0d0887"
             ],
             [
              0.1111111111111111,
              "#46039f"
             ],
             [
              0.2222222222222222,
              "#7201a8"
             ],
             [
              0.3333333333333333,
              "#9c179e"
             ],
             [
              0.4444444444444444,
              "#bd3786"
             ],
             [
              0.5555555555555556,
              "#d8576b"
             ],
             [
              0.6666666666666666,
              "#ed7953"
             ],
             [
              0.7777777777777778,
              "#fb9f3a"
             ],
             [
              0.8888888888888888,
              "#fdca26"
             ],
             [
              1,
              "#f0f921"
             ]
            ],
            "type": "histogram2dcontour"
           }
          ],
          "mesh3d": [
           {
            "colorbar": {
             "outlinewidth": 0,
             "ticks": ""
            },
            "type": "mesh3d"
           }
          ],
          "parcoords": [
           {
            "line": {
             "colorbar": {
              "outlinewidth": 0,
              "ticks": ""
             }
            },
            "type": "parcoords"
           }
          ],
          "pie": [
           {
            "automargin": true,
            "type": "pie"
           }
          ],
          "scatter": [
           {
            "marker": {
             "colorbar": {
              "outlinewidth": 0,
              "ticks": ""
             }
            },
            "type": "scatter"
           }
          ],
          "scatter3d": [
           {
            "line": {
             "colorbar": {
              "outlinewidth": 0,
              "ticks": ""
             }
            },
            "marker": {
             "colorbar": {
              "outlinewidth": 0,
              "ticks": ""
             }
            },
            "type": "scatter3d"
           }
          ],
          "scattercarpet": [
           {
            "marker": {
             "colorbar": {
              "outlinewidth": 0,
              "ticks": ""
             }
            },
            "type": "scattercarpet"
           }
          ],
          "scattergeo": [
           {
            "marker": {
             "colorbar": {
              "outlinewidth": 0,
              "ticks": ""
             }
            },
            "type": "scattergeo"
           }
          ],
          "scattergl": [
           {
            "marker": {
             "colorbar": {
              "outlinewidth": 0,
              "ticks": ""
             }
            },
            "type": "scattergl"
           }
          ],
          "scattermapbox": [
           {
            "marker": {
             "colorbar": {
              "outlinewidth": 0,
              "ticks": ""
             }
            },
            "type": "scattermapbox"
           }
          ],
          "scatterpolar": [
           {
            "marker": {
             "colorbar": {
              "outlinewidth": 0,
              "ticks": ""
             }
            },
            "type": "scatterpolar"
           }
          ],
          "scatterpolargl": [
           {
            "marker": {
             "colorbar": {
              "outlinewidth": 0,
              "ticks": ""
             }
            },
            "type": "scatterpolargl"
           }
          ],
          "scatterternary": [
           {
            "marker": {
             "colorbar": {
              "outlinewidth": 0,
              "ticks": ""
             }
            },
            "type": "scatterternary"
           }
          ],
          "surface": [
           {
            "colorbar": {
             "outlinewidth": 0,
             "ticks": ""
            },
            "colorscale": [
             [
              0,
              "#0d0887"
             ],
             [
              0.1111111111111111,
              "#46039f"
             ],
             [
              0.2222222222222222,
              "#7201a8"
             ],
             [
              0.3333333333333333,
              "#9c179e"
             ],
             [
              0.4444444444444444,
              "#bd3786"
             ],
             [
              0.5555555555555556,
              "#d8576b"
             ],
             [
              0.6666666666666666,
              "#ed7953"
             ],
             [
              0.7777777777777778,
              "#fb9f3a"
             ],
             [
              0.8888888888888888,
              "#fdca26"
             ],
             [
              1,
              "#f0f921"
             ]
            ],
            "type": "surface"
           }
          ],
          "table": [
           {
            "cells": {
             "fill": {
              "color": "#EBF0F8"
             },
             "line": {
              "color": "white"
             }
            },
            "header": {
             "fill": {
              "color": "#C8D4E3"
             },
             "line": {
              "color": "white"
             }
            },
            "type": "table"
           }
          ]
         },
         "layout": {
          "annotationdefaults": {
           "arrowcolor": "#2a3f5f",
           "arrowhead": 0,
           "arrowwidth": 1
          },
          "autotypenumbers": "strict",
          "coloraxis": {
           "colorbar": {
            "outlinewidth": 0,
            "ticks": ""
           }
          },
          "colorscale": {
           "diverging": [
            [
             0,
             "#8e0152"
            ],
            [
             0.1,
             "#c51b7d"
            ],
            [
             0.2,
             "#de77ae"
            ],
            [
             0.3,
             "#f1b6da"
            ],
            [
             0.4,
             "#fde0ef"
            ],
            [
             0.5,
             "#f7f7f7"
            ],
            [
             0.6,
             "#e6f5d0"
            ],
            [
             0.7,
             "#b8e186"
            ],
            [
             0.8,
             "#7fbc41"
            ],
            [
             0.9,
             "#4d9221"
            ],
            [
             1,
             "#276419"
            ]
           ],
           "sequential": [
            [
             0,
             "#0d0887"
            ],
            [
             0.1111111111111111,
             "#46039f"
            ],
            [
             0.2222222222222222,
             "#7201a8"
            ],
            [
             0.3333333333333333,
             "#9c179e"
            ],
            [
             0.4444444444444444,
             "#bd3786"
            ],
            [
             0.5555555555555556,
             "#d8576b"
            ],
            [
             0.6666666666666666,
             "#ed7953"
            ],
            [
             0.7777777777777778,
             "#fb9f3a"
            ],
            [
             0.8888888888888888,
             "#fdca26"
            ],
            [
             1,
             "#f0f921"
            ]
           ],
           "sequentialminus": [
            [
             0,
             "#0d0887"
            ],
            [
             0.1111111111111111,
             "#46039f"
            ],
            [
             0.2222222222222222,
             "#7201a8"
            ],
            [
             0.3333333333333333,
             "#9c179e"
            ],
            [
             0.4444444444444444,
             "#bd3786"
            ],
            [
             0.5555555555555556,
             "#d8576b"
            ],
            [
             0.6666666666666666,
             "#ed7953"
            ],
            [
             0.7777777777777778,
             "#fb9f3a"
            ],
            [
             0.8888888888888888,
             "#fdca26"
            ],
            [
             1,
             "#f0f921"
            ]
           ]
          },
          "colorway": [
           "#636efa",
           "#EF553B",
           "#00cc96",
           "#ab63fa",
           "#FFA15A",
           "#19d3f3",
           "#FF6692",
           "#B6E880",
           "#FF97FF",
           "#FECB52"
          ],
          "font": {
           "color": "#2a3f5f"
          },
          "geo": {
           "bgcolor": "white",
           "lakecolor": "white",
           "landcolor": "white",
           "showlakes": true,
           "showland": true,
           "subunitcolor": "#C8D4E3"
          },
          "hoverlabel": {
           "align": "left"
          },
          "hovermode": "closest",
          "mapbox": {
           "style": "light"
          },
          "paper_bgcolor": "white",
          "plot_bgcolor": "white",
          "polar": {
           "angularaxis": {
            "gridcolor": "#EBF0F8",
            "linecolor": "#EBF0F8",
            "ticks": ""
           },
           "bgcolor": "white",
           "radialaxis": {
            "gridcolor": "#EBF0F8",
            "linecolor": "#EBF0F8",
            "ticks": ""
           }
          },
          "scene": {
           "xaxis": {
            "backgroundcolor": "white",
            "gridcolor": "#DFE8F3",
            "gridwidth": 2,
            "linecolor": "#EBF0F8",
            "showbackground": true,
            "ticks": "",
            "zerolinecolor": "#EBF0F8"
           },
           "yaxis": {
            "backgroundcolor": "white",
            "gridcolor": "#DFE8F3",
            "gridwidth": 2,
            "linecolor": "#EBF0F8",
            "showbackground": true,
            "ticks": "",
            "zerolinecolor": "#EBF0F8"
           },
           "zaxis": {
            "backgroundcolor": "white",
            "gridcolor": "#DFE8F3",
            "gridwidth": 2,
            "linecolor": "#EBF0F8",
            "showbackground": true,
            "ticks": "",
            "zerolinecolor": "#EBF0F8"
           }
          },
          "shapedefaults": {
           "line": {
            "color": "#2a3f5f"
           }
          },
          "ternary": {
           "aaxis": {
            "gridcolor": "#DFE8F3",
            "linecolor": "#A2B1C6",
            "ticks": ""
           },
           "baxis": {
            "gridcolor": "#DFE8F3",
            "linecolor": "#A2B1C6",
            "ticks": ""
           },
           "bgcolor": "white",
           "caxis": {
            "gridcolor": "#DFE8F3",
            "linecolor": "#A2B1C6",
            "ticks": ""
           }
          },
          "title": {
           "x": 0.05
          },
          "xaxis": {
           "automargin": true,
           "gridcolor": "#EBF0F8",
           "linecolor": "#EBF0F8",
           "ticks": "",
           "title": {
            "standoff": 15
           },
           "zerolinecolor": "#EBF0F8",
           "zerolinewidth": 2
          },
          "yaxis": {
           "automargin": true,
           "gridcolor": "#EBF0F8",
           "linecolor": "#EBF0F8",
           "ticks": "",
           "title": {
            "standoff": 15
           },
           "zerolinecolor": "#EBF0F8",
           "zerolinewidth": 2
          }
         }
        },
        "title": {
         "text": "3D Surface of Laplacian (Linear Grid)"
        }
       }
      }
     },
     "metadata": {},
     "output_type": "display_data"
    }
   ],
   "source": [
    "def finite_difference_2d(u, hx, hy):\n",
    "    # Compute the gradient\n",
    "    grad_u = np.gradient(u, hx, hy)\n",
    "    \n",
    "    # Second derivative in x direction\n",
    "    d2u_dx2 = np.gradient(grad_u[0], hx, axis=0)  # Gradient in x direction\n",
    "    # Second derivative in y direction\n",
    "    d2u_dy2 = np.gradient(grad_u[1], hy, axis=1)  # Gradient in y direction\n",
    "    \n",
    "    return d2u_dx2, d2u_dy2\n",
    "\n",
    "def compute_laplacian(u, hx, hy):\n",
    "    # Compute the second derivatives\n",
    "    d2u_dx2, d2u_dy2 = finite_difference_2d(u, hx, hy)\n",
    "    # Compute the Laplacian\n",
    "    laplacian = d2u_dx2 + d2u_dy2\n",
    "    return laplacian\n",
    "\n",
    "\n",
    "# Example usage\n",
    "hx = 1 / (Nx - 1)\n",
    "hy = 1 / (Ny - 1)\n",
    "\n",
    "# Test 1: Zero grid\n",
    "u1 = np.zeros((Nx, Ny))  # Example grid\n",
    "laplacian_1 = compute_laplacian(u1, hx, hy)\n",
    "\n",
    "# Test 2: Sinusoidal grid\n",
    "u2 = np.sin(np.pi * np.linspace(0, 1, Nx)[:, None]) * np.sin(np.pi * np.linspace(0, 1, Ny))  # 2D sinusoidal function\n",
    "laplacian_2 = compute_laplacian(u2, hx, hy)\n",
    "\n",
    "# Test 3: Linear grid\n",
    "u3 = np.linspace(0, 1, Nx)[:, None] * np.linspace(0, 1, Ny)  # 2D linear function\n",
    "laplacian_3 = compute_laplacian(u3, hx, hy)\n",
    "\n",
    "# Function to create 3D surface plots\n",
    "def plot_3d_surface(X, Y, Z, title):\n",
    "    fig = go.Figure(data=[go.Surface(z=Z, x=X, y=Y, colorscale='Viridis')])\n",
    "    fig.update_layout(\n",
    "        title=title,\n",
    "        scene=dict(\n",
    "            xaxis_title='X',\n",
    "            yaxis_title='Y',\n",
    "            zaxis_title='Laplacian Value',\n",
    "            camera=dict(eye=dict(x=1.5, y=1.5, z=1.5))\n",
    "        ),\n",
    "        template='plotly_white'\n",
    "    )\n",
    "    fig.show()\n",
    "\n",
    "# Create meshgrid for plotting\n",
    "X, Y = np.meshgrid(np.linspace(0, 1, Nx), np.linspace(0, 1, Ny))\n",
    "\n",
    "# Plot results for Laplacian of Test 1\n",
    "plot_3d_surface(X, Y, laplacian_1, '3D Surface of Laplacian (Zero Grid)')\n",
    "\n",
    "# Plot results for Laplacian of Test 2\n",
    "plot_3d_surface(X, Y, laplacian_2, '3D Surface of Laplacian (Sinusoidal Grid)')\n",
    "\n",
    "# Plot results for Laplacian of Test 3\n",
    "plot_3d_surface(X, Y, laplacian_3, '3D Surface of Laplacian (Linear Grid)')"
   ]
  },
  {
   "cell_type": "markdown",
   "metadata": {},
   "source": [
    "4. Write the discrete Laplacian in a matrix form, and express the discrete Poisson equation as a linear system $\\mathbb{A} \\mathbf{u}=\\mathbf{f}$ of size $\\left(N_x-1\\right) \\times\\left(N_y-1\\right)$. To do so you need to order the unknowns to get a global unknown vector. For example, you can use the column ordering $\\mathbf{u}=\\mathbf{u}_j, j=\\left\\{1, N_y-1\\right\\}$, where each $\\mathbf{u}_j$ is a vector of size $\\left(N_x-1\\right)$ such that\n",
    "\n",
    "$$\n",
    "\\mathbf{u}_j=\\left(u_{0 j}, u_{1 j}, \\cdots, u_{N_x-1, j}\\right)^T\n",
    "$$\n",
    "\n",
    "\n"
   ]
  },
  {
   "cell_type": "code",
   "execution_count": 9,
   "metadata": {},
   "outputs": [
    {
     "name": "stdout",
     "output_type": "stream",
     "text": [
      "Numerical Laplacian:\n",
      "[[ 0.00000000e+00  8.49074355e-01  2.99900609e+00  5.44381826e+00\n",
      "   7.03955607e+00  7.03955607e+00  5.44381826e+00  2.99900609e+00\n",
      "   8.49074355e-01  1.08858929e-31]\n",
      " [ 8.49074355e-01  1.89061824e+00  3.67882558e+00  5.08209387e+00\n",
      "   5.99801219e+00  5.99801219e+00  5.08209387e+00  3.67882558e+00\n",
      "   1.89061824e+00  8.49074355e-01]\n",
      " [ 2.99900609e+00  3.67882558e+00  2.40118287e+00 -1.27764272e+00\n",
      "  -3.67882558e+00 -3.67882558e+00 -1.27764272e+00  2.40118287e+00\n",
      "   3.67882558e+00  2.99900609e+00]\n",
      " [ 5.44381826e+00  5.08209387e+00 -1.27764272e+00 -1.25502183e+01\n",
      "  -1.99078695e+01 -1.99078695e+01 -1.25502183e+01 -1.27764272e+00\n",
      "   5.08209387e+00  5.44381826e+00]\n",
      " [ 7.03955607e+00  5.99801219e+00 -3.67882558e+00 -1.99078695e+01\n",
      "  -3.05006256e+01 -3.05006256e+01 -1.99078695e+01 -3.67882558e+00\n",
      "   5.99801219e+00  7.03955607e+00]\n",
      " [ 7.03955607e+00  5.99801219e+00 -3.67882558e+00 -1.99078695e+01\n",
      "  -3.05006256e+01 -3.05006256e+01 -1.99078695e+01 -3.67882558e+00\n",
      "   5.99801219e+00  7.03955607e+00]\n",
      " [ 5.44381826e+00  5.08209387e+00 -1.27764272e+00 -1.25502183e+01\n",
      "  -1.99078695e+01 -1.99078695e+01 -1.25502183e+01 -1.27764272e+00\n",
      "   5.08209387e+00  5.44381826e+00]\n",
      " [ 2.99900609e+00  3.67882558e+00  2.40118287e+00 -1.27764272e+00\n",
      "  -3.67882558e+00 -3.67882558e+00 -1.27764272e+00  2.40118287e+00\n",
      "   3.67882558e+00  2.99900609e+00]\n",
      " [ 8.49074355e-01  1.89061824e+00  3.67882558e+00  5.08209387e+00\n",
      "   5.99801219e+00  5.99801219e+00  5.08209387e+00  3.67882558e+00\n",
      "   1.89061824e+00  8.49074355e-01]\n",
      " [ 1.08858929e-31  8.49074355e-01  2.99900609e+00  5.44381826e+00\n",
      "   7.03955607e+00  7.03955607e+00  5.44381826e+00  2.99900609e+00\n",
      "   8.49074355e-01  2.17717858e-31]]\n",
      "\n",
      "Exact Laplacian:\n",
      "[[-39.4784176  -34.86032002 -23.16688644  -9.8696044   -1.19041995\n",
      "   -1.19041995  -9.8696044  -23.16688644 -34.86032002 -39.4784176 ]\n",
      " [-34.86032002 -30.24222243 -18.54878885  -5.25150681   3.42767764\n",
      "    3.42767764  -5.25150681 -18.54878885 -30.24222243 -34.86032002]\n",
      " [-23.16688644 -18.54878885  -6.85535527   6.44192676  15.12111121\n",
      "   15.12111121   6.44192676  -6.85535527 -18.54878885 -23.16688644]\n",
      " [ -9.8696044   -5.25150681   6.44192676  19.7392088   28.41839325\n",
      "   28.41839325  19.7392088    6.44192676  -5.25150681  -9.8696044 ]\n",
      " [ -1.19041995   3.42767764  15.12111121  28.41839325  37.0975777\n",
      "   37.0975777   28.41839325  15.12111121   3.42767764  -1.19041995]\n",
      " [ -1.19041995   3.42767764  15.12111121  28.41839325  37.0975777\n",
      "   37.0975777   28.41839325  15.12111121   3.42767764  -1.19041995]\n",
      " [ -9.8696044   -5.25150681   6.44192676  19.7392088   28.41839325\n",
      "   28.41839325  19.7392088    6.44192676  -5.25150681  -9.8696044 ]\n",
      " [-23.16688644 -18.54878885  -6.85535527   6.44192676  15.12111121\n",
      "   15.12111121   6.44192676  -6.85535527 -18.54878885 -23.16688644]\n",
      " [-34.86032002 -30.24222243 -18.54878885  -5.25150681   3.42767764\n",
      "    3.42767764  -5.25150681 -18.54878885 -30.24222243 -34.86032002]\n",
      " [-39.4784176  -34.86032002 -23.16688644  -9.8696044   -1.19041995\n",
      "   -1.19041995  -9.8696044  -23.16688644 -34.86032002 -39.4784176 ]]\n",
      "\n",
      "Maximum absolute error: 67.59820326732364\n"
     ]
    }
   ],
   "source": [
    "# Define the function u(x, y) = sin^2(pi x) * sin^2(pi y)\n",
    "u = np.sin(np.pi * X)**2 * np.sin(np.pi * Y)**2  # Example function\n",
    "\n",
    "# Compute the first derivatives using np.gradient\n",
    "du_dx = np.gradient(u, hx, axis=0)  # Gradient in x direction\n",
    "du_dy = np.gradient(u, hy, axis=1)  # Gradient in y direction\n",
    "\n",
    "# Compute the second derivatives\n",
    "d2u_dx2 = np.gradient(du_dx, hx, axis=0)  # Second derivative in x direction\n",
    "d2u_dy2 = np.gradient(du_dy, hy, axis=1)  # Second derivative in y direction\n",
    "\n",
    "# Compute the Laplacian\n",
    "laplacian = d2u_dx2 + d2u_dy2\n",
    "\n",
    "# Compute the exact Laplacian for u(x, y) = sin^2(pi x) * sin^2(pi y)\n",
    "exact_laplacian = 2 * (2 * np.pi**2) * np.sin(np.pi * X)**2 * np.sin(np.pi * Y)**2 - 4 * np.pi**2 * np.cos(np.pi * X)**2 * np.cos(np.pi * Y)**2\n",
    "\n",
    "# Compute the error\n",
    "error = np.max(np.abs(laplacian - exact_laplacian))\n",
    "\n",
    "# Print the results\n",
    "print(\"Numerical Laplacian:\")\n",
    "print(laplacian)\n",
    "\n",
    "print(\"\\nExact Laplacian:\")\n",
    "print(exact_laplacian)\n",
    "\n",
    "# Print the maximum absolute error\n",
    "print(f\"\\nMaximum absolute error: {error}\")"
   ]
  },
  {
   "cell_type": "markdown",
   "metadata": {},
   "source": [
    "For example, you can use the column ordering $\\mathbf{u}=\\mathbf{u}_j, j=\\left\\{1, N_y-1\\right\\}$, where each $\\mathbf{u}_j$ is a vector of size $\\left(N_x-1\\right)$ such that\n",
    "\n",
    "$$\n",
    "\\mathbf{u}_j=\\left(u_{0 j}, u_{1 j}, \\cdots, u_{N_x-1, j}\\right)^T\n",
    "$$\n",
    "\n",
    "\n",
    "Up to now we have not considered the boundary points. In any PDE solver we need to specify boundary conditions. Let us assume we use a homogeneous Dirichlet boundary condition everywhere, that is\n",
    "\n",
    "$$\n",
    "u(x, 1)=u(x, 0)=u(1, y)=u(0, y)=0, \\quad(x, y) \\in \\partial \\Omega .\n",
    "$$\n",
    "\n",
    "\n",
    "Show that the boundary condition can be incorporated into the linear system as\n",
    "\n",
    "$$\n",
    "\\mathbb{A} \\mathbf{u}=\\mathbf{b}+\\mathbf{f}\n",
    "$$\n",
    "\n",
    "where you will specify the vector $\\mathbf{b}$, of size $\\left(N_y-1\\right)^2$. How would you extend the procedure for a non-zero boundary condition?"
   ]
  },
  {
   "cell_type": "code",
   "execution_count": 10,
   "metadata": {},
   "outputs": [
    {
     "name": "stdout",
     "output_type": "stream",
     "text": [
      "Sparse Matrix A:\n",
      " [[-4.  1.  0. ...  0.  0.  0.]\n",
      " [ 1. -4.  1. ...  0.  0.  0.]\n",
      " [ 0.  1. -4. ...  0.  0.  0.]\n",
      " ...\n",
      " [ 0.  0.  0. ... -4.  1.  0.]\n",
      " [ 0.  0.  0. ...  1. -4.  1.]\n",
      " [ 0.  0.  0. ...  0.  1. -4.]]\n",
      "Right-hand side vector f:\n",
      " [0. 0. 0. 0. 0. 0. 0. 0. 0. 0. 0. 0. 0. 0. 0. 0. 0. 0. 0. 0. 0. 0. 0. 0.\n",
      " 0. 0. 0. 0. 0. 0. 0. 0. 0. 0. 0. 0. 0. 0. 0. 0. 0. 0. 0. 0. 0. 0. 0. 0.\n",
      " 0. 0. 0. 0. 0. 0. 0. 0. 0. 0. 0. 0. 0. 0. 0. 0. 0. 0. 0. 0. 0. 0. 0. 0.\n",
      " 0. 0. 0. 0. 0. 0. 0. 0. 0.]\n",
      "Boundary condition vector b:\n",
      " [0. 0. 0. 0. 0. 0. 0. 0. 0. 0. 0. 0. 0. 0. 0. 0. 0. 0. 0. 0. 0. 0. 0. 0.\n",
      " 0. 0. 0. 0. 0. 0. 0. 0. 0. 0. 0. 0. 0. 0. 0. 0. 0. 0. 0. 0. 0. 0. 0. 0.\n",
      " 0. 0. 0. 0. 0. 0. 0. 0. 0. 0. 0. 0. 0. 0. 0. 0. 0. 0. 0. 0. 0. 0. 0. 0.\n",
      " 0. 0. 0. 0. 0. 0. 0. 0. 0.]\n"
     ]
    }
   ],
   "source": [
    "from scipy.sparse import diags\n",
    "\n",
    "def create_poisson_system(Nx, Ny):\n",
    "    # Step 1: Generate the grid\n",
    "    hx = 1 / (Nx - 1)  # Grid spacing in the x direction\n",
    "    hy = 1 / (Ny - 1)  # Grid spacing in the y direction\n",
    "\n",
    "    # Step 2: Define the discrete Laplacian matrix A\n",
    "    diagonals = [-4 * np.ones((Nx - 1) * (Ny - 1)), \n",
    "                 np.ones((Nx - 1) * (Ny - 1) - 1), \n",
    "                 np.ones((Nx - 1) * (Ny - 1) - 1), \n",
    "                 np.ones((Nx - 1) * (Ny - 1) - (Nx - 1)), \n",
    "                 np.ones((Nx - 1) * (Ny - 1) - (Nx - 1))]\n",
    "    \n",
    "    # Create the sparse matrix A\n",
    "    A = diags(diagonals, [0, -1, 1, -(Nx - 1), (Nx - 1)], \n",
    "              shape=((Nx - 1) * (Ny - 1), (Nx - 1) * (Ny - 1))).tocsc() #Convert this array/matrix to Compressed Sparse Column format\n",
    "\n",
    "\n",
    "\n",
    "    # Step 3: Define the right-hand side vector f\n",
    "    f = np.zeros((Nx - 1) * (Ny - 1))  # Initialize f\n",
    "\n",
    "    # Step 4: Define the boundary condition vector b\n",
    "    b = np.zeros((Ny - 1) ** 2)  # Initialize b for the boundary conditions\n",
    "\n",
    "    return A, f, b\n",
    "\n",
    "# Example usage\n",
    "Nx, Ny = 10, 10  # Define grid size\n",
    "A, f, b = create_poisson_system(Nx, Ny)\n",
    "\n",
    "# Display the results\n",
    "print(\"Sparse Matrix A:\\n\", A.toarray())\n",
    "print(\"Right-hand side vector f:\\n\", f)\n",
    "print(\"Boundary condition vector b:\\n\", b)"
   ]
  },
  {
   "cell_type": "markdown",
   "metadata": {},
   "source": [
    "## 1.2 Validation of the implementation\n",
    "\n",
    "To validate the implementation we need to define an exact solution. To do so let us take\n",
    "\n",
    "$$\n",
    "u_{\\mathrm{ex}}(x, y)=\\sin ^2(\\pi x) \\sin ^2(\\pi y)\n",
    "$$\n",
    "\n",
    "\n",
    "Find by hand the corresponding right-hand-side $f(x, y)$ for this solution. Is the exact solution consistent with the boundary conditions?\n",
    "\n"
   ]
  },
  {
   "cell_type": "code",
   "execution_count": 11,
   "metadata": {},
   "outputs": [
    {
     "name": "stdout",
     "output_type": "stream",
     "text": [
      "Boundary conditions satisfied: True\n"
     ]
    }
   ],
   "source": [
    "# Define the exact solution\n",
    "def exact_solution(X, Y):\n",
    "    return np.sin(np.pi * X) ** 2 * np.sin(np.pi * Y) ** 2\n",
    "\n",
    "# Compute the right-hand side f(x, y) for the exact solution\n",
    "def compute_rhs(X, Y):\n",
    "    return -np.pi ** 2 * (2 * np.sin(np.pi * X) ** 2 * np.sin(np.pi * Y) ** 2 +\n",
    "                          2 * np.sin(np.pi * X) ** 2 * np.cos(np.pi * Y) ** 2 +\n",
    "                          2 * np.sin(np.pi * Y) ** 2 * np.cos(np.pi * X) ** 2)\n",
    "\n",
    "# Check boundary conditions\n",
    "def check_boundary_conditions(Nx, Ny):\n",
    "    x = np.linspace(0, 1, Nx)\n",
    "    y = np.linspace(0, 1, Ny)\n",
    "    X, Y = np.meshgrid(x, y)\n",
    "    \n",
    "    # Evaluate the exact solution at the boundaries\n",
    "    boundary_values = exact_solution(X, Y)\n",
    "    \n",
    "    # Check if the boundary values are zero\n",
    "    return np.allclose(boundary_values[0, :], 0) and np.allclose(boundary_values[-1, :], 0) and \\\n",
    "           np.allclose(boundary_values[:, 0], 0) and np.allclose(boundary_values[:, -1], 0)\n",
    "\n",
    "# Example usage\n",
    "Nx, Ny = 10, 10  # Define grid size\n",
    "b_conditions = check_boundary_conditions(Nx, Ny)\n",
    "print(f\"Boundary conditions satisfied: {b_conditions}\")"
   ]
  },
  {
   "cell_type": "markdown",
   "metadata": {},
   "source": [
    "Given a number of grid points (start with a small number), call a linear system solver and compute the relative error in the maximum norm in the computational domain $\\Omega$. Show a convergence plot in log-log scale with respect to the step size. What is the expected convergence rate? Do you observe any difficulty in terms of computational time?"
   ]
  },
  {
   "cell_type": "code",
   "execution_count": 26,
   "metadata": {},
   "outputs": [
    {
     "data": {
      "application/vnd.plotly.v1+json": {
       "config": {
        "plotlyServerURL": "https://plot.ly"
       },
       "data": [
        {
         "line": {
          "width": 2
         },
         "marker": {
          "color": "blue",
          "size": 8
         },
         "mode": "lines+markers",
         "name": "Max Error",
         "type": "scatter",
         "x": [
          10,
          20,
          40,
          80
         ],
         "y": [
          0.9406018657828262,
          0.9864078069139405,
          0.9967599368968444,
          0.9992095534904878
         ]
        }
       ],
       "layout": {
        "showlegend": true,
        "template": {
         "data": {
          "bar": [
           {
            "error_x": {
             "color": "#2a3f5f"
            },
            "error_y": {
             "color": "#2a3f5f"
            },
            "marker": {
             "line": {
              "color": "white",
              "width": 0.5
             },
             "pattern": {
              "fillmode": "overlay",
              "size": 10,
              "solidity": 0.2
             }
            },
            "type": "bar"
           }
          ],
          "barpolar": [
           {
            "marker": {
             "line": {
              "color": "white",
              "width": 0.5
             },
             "pattern": {
              "fillmode": "overlay",
              "size": 10,
              "solidity": 0.2
             }
            },
            "type": "barpolar"
           }
          ],
          "carpet": [
           {
            "aaxis": {
             "endlinecolor": "#2a3f5f",
             "gridcolor": "#C8D4E3",
             "linecolor": "#C8D4E3",
             "minorgridcolor": "#C8D4E3",
             "startlinecolor": "#2a3f5f"
            },
            "baxis": {
             "endlinecolor": "#2a3f5f",
             "gridcolor": "#C8D4E3",
             "linecolor": "#C8D4E3",
             "minorgridcolor": "#C8D4E3",
             "startlinecolor": "#2a3f5f"
            },
            "type": "carpet"
           }
          ],
          "choropleth": [
           {
            "colorbar": {
             "outlinewidth": 0,
             "ticks": ""
            },
            "type": "choropleth"
           }
          ],
          "contour": [
           {
            "colorbar": {
             "outlinewidth": 0,
             "ticks": ""
            },
            "colorscale": [
             [
              0,
              "#0d0887"
             ],
             [
              0.1111111111111111,
              "#46039f"
             ],
             [
              0.2222222222222222,
              "#7201a8"
             ],
             [
              0.3333333333333333,
              "#9c179e"
             ],
             [
              0.4444444444444444,
              "#bd3786"
             ],
             [
              0.5555555555555556,
              "#d8576b"
             ],
             [
              0.6666666666666666,
              "#ed7953"
             ],
             [
              0.7777777777777778,
              "#fb9f3a"
             ],
             [
              0.8888888888888888,
              "#fdca26"
             ],
             [
              1,
              "#f0f921"
             ]
            ],
            "type": "contour"
           }
          ],
          "contourcarpet": [
           {
            "colorbar": {
             "outlinewidth": 0,
             "ticks": ""
            },
            "type": "contourcarpet"
           }
          ],
          "heatmap": [
           {
            "colorbar": {
             "outlinewidth": 0,
             "ticks": ""
            },
            "colorscale": [
             [
              0,
              "#0d0887"
             ],
             [
              0.1111111111111111,
              "#46039f"
             ],
             [
              0.2222222222222222,
              "#7201a8"
             ],
             [
              0.3333333333333333,
              "#9c179e"
             ],
             [
              0.4444444444444444,
              "#bd3786"
             ],
             [
              0.5555555555555556,
              "#d8576b"
             ],
             [
              0.6666666666666666,
              "#ed7953"
             ],
             [
              0.7777777777777778,
              "#fb9f3a"
             ],
             [
              0.8888888888888888,
              "#fdca26"
             ],
             [
              1,
              "#f0f921"
             ]
            ],
            "type": "heatmap"
           }
          ],
          "heatmapgl": [
           {
            "colorbar": {
             "outlinewidth": 0,
             "ticks": ""
            },
            "colorscale": [
             [
              0,
              "#0d0887"
             ],
             [
              0.1111111111111111,
              "#46039f"
             ],
             [
              0.2222222222222222,
              "#7201a8"
             ],
             [
              0.3333333333333333,
              "#9c179e"
             ],
             [
              0.4444444444444444,
              "#bd3786"
             ],
             [
              0.5555555555555556,
              "#d8576b"
             ],
             [
              0.6666666666666666,
              "#ed7953"
             ],
             [
              0.7777777777777778,
              "#fb9f3a"
             ],
             [
              0.8888888888888888,
              "#fdca26"
             ],
             [
              1,
              "#f0f921"
             ]
            ],
            "type": "heatmapgl"
           }
          ],
          "histogram": [
           {
            "marker": {
             "pattern": {
              "fillmode": "overlay",
              "size": 10,
              "solidity": 0.2
             }
            },
            "type": "histogram"
           }
          ],
          "histogram2d": [
           {
            "colorbar": {
             "outlinewidth": 0,
             "ticks": ""
            },
            "colorscale": [
             [
              0,
              "#0d0887"
             ],
             [
              0.1111111111111111,
              "#46039f"
             ],
             [
              0.2222222222222222,
              "#7201a8"
             ],
             [
              0.3333333333333333,
              "#9c179e"
             ],
             [
              0.4444444444444444,
              "#bd3786"
             ],
             [
              0.5555555555555556,
              "#d8576b"
             ],
             [
              0.6666666666666666,
              "#ed7953"
             ],
             [
              0.7777777777777778,
              "#fb9f3a"
             ],
             [
              0.8888888888888888,
              "#fdca26"
             ],
             [
              1,
              "#f0f921"
             ]
            ],
            "type": "histogram2d"
           }
          ],
          "histogram2dcontour": [
           {
            "colorbar": {
             "outlinewidth": 0,
             "ticks": ""
            },
            "colorscale": [
             [
              0,
              "#0d0887"
             ],
             [
              0.1111111111111111,
              "#46039f"
             ],
             [
              0.2222222222222222,
              "#7201a8"
             ],
             [
              0.3333333333333333,
              "#9c179e"
             ],
             [
              0.4444444444444444,
              "#bd3786"
             ],
             [
              0.5555555555555556,
              "#d8576b"
             ],
             [
              0.6666666666666666,
              "#ed7953"
             ],
             [
              0.7777777777777778,
              "#fb9f3a"
             ],
             [
              0.8888888888888888,
              "#fdca26"
             ],
             [
              1,
              "#f0f921"
             ]
            ],
            "type": "histogram2dcontour"
           }
          ],
          "mesh3d": [
           {
            "colorbar": {
             "outlinewidth": 0,
             "ticks": ""
            },
            "type": "mesh3d"
           }
          ],
          "parcoords": [
           {
            "line": {
             "colorbar": {
              "outlinewidth": 0,
              "ticks": ""
             }
            },
            "type": "parcoords"
           }
          ],
          "pie": [
           {
            "automargin": true,
            "type": "pie"
           }
          ],
          "scatter": [
           {
            "marker": {
             "colorbar": {
              "outlinewidth": 0,
              "ticks": ""
             }
            },
            "type": "scatter"
           }
          ],
          "scatter3d": [
           {
            "line": {
             "colorbar": {
              "outlinewidth": 0,
              "ticks": ""
             }
            },
            "marker": {
             "colorbar": {
              "outlinewidth": 0,
              "ticks": ""
             }
            },
            "type": "scatter3d"
           }
          ],
          "scattercarpet": [
           {
            "marker": {
             "colorbar": {
              "outlinewidth": 0,
              "ticks": ""
             }
            },
            "type": "scattercarpet"
           }
          ],
          "scattergeo": [
           {
            "marker": {
             "colorbar": {
              "outlinewidth": 0,
              "ticks": ""
             }
            },
            "type": "scattergeo"
           }
          ],
          "scattergl": [
           {
            "marker": {
             "colorbar": {
              "outlinewidth": 0,
              "ticks": ""
             }
            },
            "type": "scattergl"
           }
          ],
          "scattermapbox": [
           {
            "marker": {
             "colorbar": {
              "outlinewidth": 0,
              "ticks": ""
             }
            },
            "type": "scattermapbox"
           }
          ],
          "scatterpolar": [
           {
            "marker": {
             "colorbar": {
              "outlinewidth": 0,
              "ticks": ""
             }
            },
            "type": "scatterpolar"
           }
          ],
          "scatterpolargl": [
           {
            "marker": {
             "colorbar": {
              "outlinewidth": 0,
              "ticks": ""
             }
            },
            "type": "scatterpolargl"
           }
          ],
          "scatterternary": [
           {
            "marker": {
             "colorbar": {
              "outlinewidth": 0,
              "ticks": ""
             }
            },
            "type": "scatterternary"
           }
          ],
          "surface": [
           {
            "colorbar": {
             "outlinewidth": 0,
             "ticks": ""
            },
            "colorscale": [
             [
              0,
              "#0d0887"
             ],
             [
              0.1111111111111111,
              "#46039f"
             ],
             [
              0.2222222222222222,
              "#7201a8"
             ],
             [
              0.3333333333333333,
              "#9c179e"
             ],
             [
              0.4444444444444444,
              "#bd3786"
             ],
             [
              0.5555555555555556,
              "#d8576b"
             ],
             [
              0.6666666666666666,
              "#ed7953"
             ],
             [
              0.7777777777777778,
              "#fb9f3a"
             ],
             [
              0.8888888888888888,
              "#fdca26"
             ],
             [
              1,
              "#f0f921"
             ]
            ],
            "type": "surface"
           }
          ],
          "table": [
           {
            "cells": {
             "fill": {
              "color": "#EBF0F8"
             },
             "line": {
              "color": "white"
             }
            },
            "header": {
             "fill": {
              "color": "#C8D4E3"
             },
             "line": {
              "color": "white"
             }
            },
            "type": "table"
           }
          ]
         },
         "layout": {
          "annotationdefaults": {
           "arrowcolor": "#2a3f5f",
           "arrowhead": 0,
           "arrowwidth": 1
          },
          "autotypenumbers": "strict",
          "coloraxis": {
           "colorbar": {
            "outlinewidth": 0,
            "ticks": ""
           }
          },
          "colorscale": {
           "diverging": [
            [
             0,
             "#8e0152"
            ],
            [
             0.1,
             "#c51b7d"
            ],
            [
             0.2,
             "#de77ae"
            ],
            [
             0.3,
             "#f1b6da"
            ],
            [
             0.4,
             "#fde0ef"
            ],
            [
             0.5,
             "#f7f7f7"
            ],
            [
             0.6,
             "#e6f5d0"
            ],
            [
             0.7,
             "#b8e186"
            ],
            [
             0.8,
             "#7fbc41"
            ],
            [
             0.9,
             "#4d9221"
            ],
            [
             1,
             "#276419"
            ]
           ],
           "sequential": [
            [
             0,
             "#0d0887"
            ],
            [
             0.1111111111111111,
             "#46039f"
            ],
            [
             0.2222222222222222,
             "#7201a8"
            ],
            [
             0.3333333333333333,
             "#9c179e"
            ],
            [
             0.4444444444444444,
             "#bd3786"
            ],
            [
             0.5555555555555556,
             "#d8576b"
            ],
            [
             0.6666666666666666,
             "#ed7953"
            ],
            [
             0.7777777777777778,
             "#fb9f3a"
            ],
            [
             0.8888888888888888,
             "#fdca26"
            ],
            [
             1,
             "#f0f921"
            ]
           ],
           "sequentialminus": [
            [
             0,
             "#0d0887"
            ],
            [
             0.1111111111111111,
             "#46039f"
            ],
            [
             0.2222222222222222,
             "#7201a8"
            ],
            [
             0.3333333333333333,
             "#9c179e"
            ],
            [
             0.4444444444444444,
             "#bd3786"
            ],
            [
             0.5555555555555556,
             "#d8576b"
            ],
            [
             0.6666666666666666,
             "#ed7953"
            ],
            [
             0.7777777777777778,
             "#fb9f3a"
            ],
            [
             0.8888888888888888,
             "#fdca26"
            ],
            [
             1,
             "#f0f921"
            ]
           ]
          },
          "colorway": [
           "#636efa",
           "#EF553B",
           "#00cc96",
           "#ab63fa",
           "#FFA15A",
           "#19d3f3",
           "#FF6692",
           "#B6E880",
           "#FF97FF",
           "#FECB52"
          ],
          "font": {
           "color": "#2a3f5f"
          },
          "geo": {
           "bgcolor": "white",
           "lakecolor": "white",
           "landcolor": "white",
           "showlakes": true,
           "showland": true,
           "subunitcolor": "#C8D4E3"
          },
          "hoverlabel": {
           "align": "left"
          },
          "hovermode": "closest",
          "mapbox": {
           "style": "light"
          },
          "paper_bgcolor": "white",
          "plot_bgcolor": "white",
          "polar": {
           "angularaxis": {
            "gridcolor": "#EBF0F8",
            "linecolor": "#EBF0F8",
            "ticks": ""
           },
           "bgcolor": "white",
           "radialaxis": {
            "gridcolor": "#EBF0F8",
            "linecolor": "#EBF0F8",
            "ticks": ""
           }
          },
          "scene": {
           "xaxis": {
            "backgroundcolor": "white",
            "gridcolor": "#DFE8F3",
            "gridwidth": 2,
            "linecolor": "#EBF0F8",
            "showbackground": true,
            "ticks": "",
            "zerolinecolor": "#EBF0F8"
           },
           "yaxis": {
            "backgroundcolor": "white",
            "gridcolor": "#DFE8F3",
            "gridwidth": 2,
            "linecolor": "#EBF0F8",
            "showbackground": true,
            "ticks": "",
            "zerolinecolor": "#EBF0F8"
           },
           "zaxis": {
            "backgroundcolor": "white",
            "gridcolor": "#DFE8F3",
            "gridwidth": 2,
            "linecolor": "#EBF0F8",
            "showbackground": true,
            "ticks": "",
            "zerolinecolor": "#EBF0F8"
           }
          },
          "shapedefaults": {
           "line": {
            "color": "#2a3f5f"
           }
          },
          "ternary": {
           "aaxis": {
            "gridcolor": "#DFE8F3",
            "linecolor": "#A2B1C6",
            "ticks": ""
           },
           "baxis": {
            "gridcolor": "#DFE8F3",
            "linecolor": "#A2B1C6",
            "ticks": ""
           },
           "bgcolor": "white",
           "caxis": {
            "gridcolor": "#DFE8F3",
            "linecolor": "#A2B1C6",
            "ticks": ""
           }
          },
          "title": {
           "x": 0.05
          },
          "xaxis": {
           "automargin": true,
           "gridcolor": "#EBF0F8",
           "linecolor": "#EBF0F8",
           "ticks": "",
           "title": {
            "standoff": 15
           },
           "zerolinecolor": "#EBF0F8",
           "zerolinewidth": 2
          },
          "yaxis": {
           "automargin": true,
           "gridcolor": "#EBF0F8",
           "linecolor": "#EBF0F8",
           "ticks": "",
           "title": {
            "standoff": 15
           },
           "zerolinecolor": "#EBF0F8",
           "zerolinewidth": 2
          }
         }
        },
        "title": {
         "text": "Convergence of the Poisson Solver"
        },
        "xaxis": {
         "title": {
          "text": "Grid Size (N)"
         },
         "type": "log"
        },
        "yaxis": {
         "title": {
          "text": "Max Error"
         },
         "type": "log"
        }
       }
      }
     },
     "metadata": {},
     "output_type": "display_data"
    },
    {
     "name": "stdout",
     "output_type": "stream",
     "text": [
      "Computational time: 0.05 seconds\n"
     ]
    }
   ],
   "source": [
    "from scipy.sparse.linalg import spsolve\n",
    "import plotly.graph_objects as go\n",
    "import time\n",
    "\n",
    "start_time = time.time()\n",
    "\n",
    "# Define the exact solution\n",
    "def exact_solution(X, Y):\n",
    "    return np.sin(np.pi * X) ** 2 * np.sin(np.pi * Y) ** 2\n",
    "\n",
    "# Define the right-hand side f(x, y)\n",
    "def compute_rhs(X, Y):\n",
    "    return -np.pi ** 2 * (2 * np.sin(np.pi * X) ** 2 * np.sin(np.pi * Y) ** 2 +\n",
    "                          2 * np.sin(np.pi * X) ** 2 * np.cos(np.pi * Y) ** 2 +\n",
    "                          2 * np.sin(np.pi * Y) ** 2 * np.cos(np.pi * X) ** 2)\n",
    "\n",
    "# Validation function\n",
    "def validate_solver(Nx, Ny):\n",
    "    # Create the Poisson system\n",
    "    A, f, b = create_poisson_system(Nx, Ny)\n",
    "    \n",
    "    # Solve the linear system\n",
    "    u = spsolve(A, f + b)  # Incorporate boundary conditions\n",
    "\n",
    "    # Create grid for exact solution\n",
    "    x = np.linspace(0, 1, Nx)\n",
    "    y = np.linspace(0, 1, Ny)\n",
    "    X, Y = np.meshgrid(x, y)\n",
    "\n",
    "    # Compute exact solution and error\n",
    "    u_ex = exact_solution(X, Y).flatten()[:(Nx - 1) * (Ny - 1)]  # Ensure u_ex matches the size of u\n",
    "    error = np.max(np.abs(u - u_ex))\n",
    "\n",
    "    return error\n",
    "\n",
    "# Convergence analysis\n",
    "errors = []\n",
    "grid_sizes = [10, 20, 40, 80]\n",
    "\n",
    "for size in grid_sizes:\n",
    "    error = validate_solver(size, size)\n",
    "    errors.append(error)\n",
    "\n",
    "# Plotting the convergence using Plotly\n",
    "fig = go.Figure()\n",
    "\n",
    "fig.add_trace(go.Scatter(\n",
    "    x=grid_sizes,\n",
    "    y=errors,\n",
    "    mode='lines+markers',\n",
    "    name='Max Error',\n",
    "    marker=dict(size=8, color='blue'),\n",
    "    line=dict(width=2)\n",
    "))\n",
    "\n",
    "fig.update_layout(\n",
    "    title='Convergence of the Poisson Solver',\n",
    "    xaxis_title='Grid Size (N)',\n",
    "    yaxis_title='Max Error',\n",
    "    xaxis_type='log',\n",
    "    yaxis_type='log',\n",
    "    template='plotly_white',\n",
    "    showlegend=True\n",
    ")\n",
    "\n",
    "fig.show()\n",
    "computational_time = time.time() - start_time\n",
    "print(f\"Computational time: {computational_time:.2f} seconds\")"
   ]
  },
  {
   "cell_type": "code",
   "execution_count": null,
   "metadata": {},
   "outputs": [],
   "source": []
  }
 ],
 "metadata": {
  "kernelspec": {
   "display_name": "Python 3",
   "language": "python",
   "name": "python3"
  },
  "language_info": {
   "codemirror_mode": {
    "name": "ipython",
    "version": 3
   },
   "file_extension": ".py",
   "mimetype": "text/x-python",
   "name": "python",
   "nbconvert_exporter": "python",
   "pygments_lexer": "ipython3",
   "version": "3.10.2"
  }
 },
 "nbformat": 4,
 "nbformat_minor": 2
}
