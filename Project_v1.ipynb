{
 "cells": [
  {
   "cell_type": "markdown",
   "metadata": {},
   "source": [
    "# Project 2: Solving the Poisson Equation"
   ]
  },
  {
   "cell_type": "markdown",
   "metadata": {},
   "source": [
    "## Introduction\n",
    "The Poisson equation appears in many physical applications: electrostatics, fluid mechanics, gravitational field, heat conduction, etc. Let us consider the Poisson problem in two space dimensions $x$ and $y$. It takes the form\n",
    "\n",
    "$$\n",
    "-\\Delta u=f(x, y), \\quad(x, y) \\in \\Omega, \\quad \\Delta=\\frac{\\partial^2}{\\partial x^2}+\\frac{\\partial^2}{\\partial y^2}\n",
    "$$\n",
    "\n",
    "where $u=u(x, y)$ is the function we are seeking, $f=f(x, y)$ is a source term, and $\\Omega$ is the computational domain. In this project you will design a Poisson solver over a square domain\n",
    "\n",
    "$$\n",
    "\\Omega=\\{(x, y), 0 \\leq x \\leq 1,0 \\leq y \\leq 1\\}\n",
    "$$\n",
    "\n",
    "and analyze its numerical properties. We propose to discretize the Poisson equation by a classical finite difference scheme, and to investigate the numerical performance of various linear system solvers. In the first part you will focus on finite difference discretization in two-dimensions and the verification of the code. In the second part you will test different direct and iterative linear system solvers, and try to understand their performance.\n",
    "You should write a small project report that shows your results, and summarize your findings. For the evaluation I will pay attention to the quality of the interpretations, how you apply the algorithms and the quality of the numerical illustrations. It does not need to be long: I will prefer a short summary that shows that you have understood and analyzed the methods."
   ]
  },
  {
   "cell_type": "markdown",
   "metadata": {},
   "source": [
    "## 1 Finite difference discretization\n",
    "In this part we propose to i) find a discrete version of the Poisson problem, ii) implement and validate the solver."
   ]
  },
  {
   "cell_type": "markdown",
   "metadata": {},
   "source": [
    "## 1.1 Designing the solver\n",
    "\n",
    "You may follow the steps below\n",
    "1. Generate a rectangular grid of $\\left(N_x-1\\right) \\times\\left(N_y-1\\right)$ points, which will represent the discretization of the interior domain of $\\Omega$. Each point ( $x_i, y_j$ ) of the grid has an index $i \\in\\left\\{1, \\cdots, N_x-1\\right\\}$ and $j \\in\\left\\{1, \\cdots, N_y-1\\right\\}$. You can use the numpy. meshgrid function."
   ]
  },
  {
   "cell_type": "code",
   "execution_count": 1,
   "metadata": {},
   "outputs": [],
   "source": [
    "# Step 1: Generate the grid\n",
    "import numpy as np\n",
    "import matplotlib.pyplot as plt\n",
    "\n",
    "Nx = 10\n",
    "Ny = 10\n",
    "x = np.linspace(0, 1, Nx)  # Create an array of Nx points between 0 and 1\n",
    "y = np.linspace(0, 1, Ny)  # Create an array of Ny points between 0 and 1\n",
    "X, Y = np.meshgrid(x, y)   # Generate the meshgrid from x and y\n"
   ]
  },
  {
   "cell_type": "markdown",
   "metadata": {},
   "source": [
    "2. Recall the finite difference formula for the second order derivative in 1D and its approximation order. Apply the formula to the $x$ and $y$ directions.\n"
   ]
  },
  {
   "cell_type": "code",
   "execution_count": 2,
   "metadata": {},
   "outputs": [],
   "source": [
    "# Define the grid size and spacing\n",
    "hx = 1 / (Nx - 1)  # Grid spacing in the x direction\n",
    "hy = 1 / (Ny - 1)  # Grid spacing in the y direction\n",
    "\n",
    "# Create a meshgrid for x and y\n",
    "x = np.linspace(0, 1, Nx)  # x-coordinates\n",
    "y = np.linspace(0, 1, Ny)  # y-coordinates\n",
    "X, Y = np.meshgrid(x, y)  # Create a 2D grid\n",
    "\n",
    "# Define the function u(x, y) = sin^2(pi x) * sin^2(pi y)\n",
    "u = np.sin(np.pi * X)**2 * np.sin(np.pi * Y)**2  # Example function\n",
    "\n",
    "# Initialize arrays for second derivatives\n",
    "d2u_dx2 = np.zeros((Nx, Ny))\n",
    "d2u_dy2 = np.zeros((Nx, Ny))\n",
    "\n",
    "# Compute second derivatives for interior points\n",
    "for i in range(1, Nx - 1):\n",
    "    for j in range(1, Ny - 1):\n",
    "        # d^2u/dx^2 at (i, j):\n",
    "        d2u_dx2[i, j] = (u[i+1, j] - 2*u[i, j] + u[i-1, j]) / hx**2\n",
    "        \n",
    "        # d^2u/dy^2 at (i, j):\n",
    "        d2u_dy2[i, j] = (u[i, j+1] - 2*u[i, j] + u[i, j-1]) / hy**2\n",
    "\n",
    "# Now d2u_dx2 and d2u_dy2 contain the second derivatives for the interior points\n",
    "#d2u_dx2, d2u_dy2 "
   ]
  },
  {
   "cell_type": "markdown",
   "metadata": {},
   "source": [
    "3. Combine the two partial derivatives and write an explicit form of the discrete Laplacian in terms of the grid points. Use the notation shorthand $u_{i j}=u\\left(x_i, y_j\\right)$ for the unknowns. What simplification do you obtain with an uniform grid?\n"
   ]
  },
  {
   "cell_type": "markdown",
   "metadata": {},
   "source": [
    "## The Discrete Laplacian\n",
    "\n",
    "The Laplacian operator in 2D is given by:\n",
    "\n",
    "1. Second-order derivative in $x$ :\n",
    "\n",
    "$$\n",
    "\\left.\\frac{\\partial^2 u}{\\partial x^2}\\right|_{(i, j)} \\approx \\frac{u_{i+1, j}-2 u_{i, j}+u_{i-1, j}}{\\Delta x^2}\n",
    "$$\n",
    "\n",
    "2. Second-order derivative in $y$ :\n",
    "\n",
    "$$\n",
    "\\left.\\frac{\\partial^2 u}{\\partial y^2}\\right|_{(i, j)} \\approx \\frac{u_{i, j+1}-2 u_{i, j}+u_{i, j-1}}{\\Delta y^2}\n",
    "$$\n",
    "\n",
    "\n",
    "Combining the Approximations\n",
    "Combining the $x$ - and $y$-direction derivatives, the discrete Laplacian becomes:\n",
    "\n",
    "$$\n",
    "\\Delta u_{i, j} \\approx \\frac{u_{i+1, j}-2 u_{i, j}+u_{i-1, j}}{\\Delta x^2}+\\frac{u_{i, j+1}-2 u_{i, j}+u_{i, j-1}}{\\Delta y^2}\n",
    "$$\n"
   ]
  },
  {
   "cell_type": "code",
   "execution_count": 3,
   "metadata": {},
   "outputs": [],
   "source": [
    "import sympy as sp\n",
    "import plotly.graph_objects as go\n",
    "\n",
    "def finite_difference_second_derivatives(u, hx, hy):\n",
    "    \"\"\"\n",
    "    Compute the second-order derivatives of a 2D array u using finite difference approximations.\n",
    "\n",
    "    Parameters:\n",
    "    u : 2D numpy array\n",
    "        The values of the function u at grid points.\n",
    "    hx : float\n",
    "        The grid spacing in the x direction (Δx).\n",
    "    hy : float\n",
    "        The grid spacing in the y direction (Δy).\n",
    "\n",
    "    Returns:\n",
    "    d2u_dx2 : 2D numpy array\n",
    "        The second derivative of u with respect to x.\n",
    "    d2u_dy2 : 2D numpy array\n",
    "        The second derivative of u with respect to y.\n",
    "    \"\"\"\n",
    "    # Initialize the second derivative arrays\n",
    "    d2u_dx2 = np.zeros_like(u)\n",
    "    d2u_dy2 = np.zeros_like(u)\n",
    "\n",
    "    # Compute the second derivative with respect to x\n",
    "    d2u_dx2[1:-1, 1:-1] = (u[2:, 1:-1] - 2 * u[1:-1, 1:-1] + u[:-2, 1:-1]) / hx**2\n",
    "\n",
    "    # Compute the second derivative with respect to y\n",
    "    d2u_dy2[1:-1, 1:-1] = (u[1:-1, 2:] - 2 * u[1:-1, 1:-1] + u[1:-1, :-2]) / hy**2\n",
    "\n",
    "    return d2u_dx2, d2u_dy2\n",
    "\n"
   ]
  },
  {
   "cell_type": "markdown",
   "metadata": {},
   "source": [
    "## Simplification with a Uniform Grid\n",
    "For a uniform grid, the grid spacing in both directions is equal $(\\Delta x=\\Delta y=h)$. This simplifies the Laplacian to:\n",
    "\n",
    "$$\n",
    "-\\Delta u_{i, j}=\\frac{-u_{i+1, j}+2 u_{i, j}-u_{i-1, j}}{h^2}+\\frac{-u_{i, j+1}+2 u_{i, j}-u_{i, j-1}}{h^2} .\n",
    "$$\n",
    "\n",
    "\n",
    "Factoring out $h^2$, we obtain:\n",
    "\n",
    "$$\n",
    "-\\Delta u_{i, j}=\\frac{-u_{i+1, j}-u_{i-1, j}-u_{i, j+1}-u_{i, j-1}+4 u_{i, j}}{h^2}\n",
    "$$\n"
   ]
  },
  {
   "cell_type": "code",
   "execution_count": 4,
   "metadata": {},
   "outputs": [
    {
     "name": "stdout",
     "output_type": "stream",
     "text": [
      "Numerical Laplacian:\n",
      "⎡         0            0.849074355273444  2.99900609385099   5.44381826142245 \n",
      "⎢                                                                             \n",
      "⎢ 0.849074355273444    1.89061824129193   3.67882558433499   5.08209386588796 \n",
      "⎢                                                                             \n",
      "⎢  2.99900609385099    3.67882558433499   2.40118286698649   -1.2776427173485 \n",
      "⎢                                                                             \n",
      "⎢  5.44381826142245    5.08209386588796   -1.2776427173485   -12.5502183016835\n",
      "⎢                                                                             \n",
      "⎢  7.03955607372047    5.99801218770198   -3.67882558433499  -19.9078694703535\n",
      "⎢                                                                             \n",
      "⎢  7.03955607372047    5.99801218770198   -3.67882558433499  -19.9078694703535\n",
      "⎢                                                                             \n",
      "⎢  5.44381826142245    5.08209386588797   -1.2776427173485   -12.5502183016835\n",
      "⎢                                                                             \n",
      "⎢  2.99900609385099    3.67882558433499   2.40118286698649   -1.27764271734851\n",
      "⎢                                                                             \n",
      "⎢ 0.849074355273445    1.89061824129193   3.67882558433499   5.08209386588796 \n",
      "⎢                                                                             \n",
      "⎣1.08858929234688e-31  0.849074355273444  2.99900609385099   5.44381826142245 \n",
      "\n",
      "  7.03955607372047   7.03955607372047   5.44381826142245   2.99900609385099   \n",
      "                                                                              \n",
      "  5.99801218770198   5.99801218770198   5.08209386588797   3.67882558433499   \n",
      "                                                                              \n",
      "  -3.67882558433499  -3.67882558433499  -1.2776427173485   2.40118286698649   \n",
      "                                                                              \n",
      "  -19.9078694703535  -19.9078694703535  -12.5502183016835  -1.27764271734851  \n",
      "                                                                              \n",
      "  -30.5006255642045  -30.5006255642045  -19.9078694703535   -3.678825584335   \n",
      "                                                                              \n",
      "  -30.5006255642045  -30.5006255642045  -19.9078694703535   -3.678825584335   \n",
      "                                                                              \n",
      "  -19.9078694703535  -19.9078694703535  -12.5502183016835  -1.27764271734851  \n",
      "                                                                              \n",
      "   -3.678825584335    -3.678825584335   -1.27764271734851  2.40118286698648   \n",
      "                                                                              \n",
      "  5.99801218770198   5.99801218770198   5.08209386588797   3.67882558433499   \n",
      "                                                                              \n",
      "  7.03955607372047   7.03955607372047   5.44381826142246   2.99900609385099   \n",
      "\n",
      "0.849074355273445  1.08858929234688e-31⎤\n",
      "                                       ⎥\n",
      "1.89061824129193    0.849074355273444  ⎥\n",
      "                                       ⎥\n",
      "3.67882558433499     2.99900609385099  ⎥\n",
      "                                       ⎥\n",
      "5.08209386588796     5.44381826142245  ⎥\n",
      "                                       ⎥\n",
      "5.99801218770198     7.03955607372047  ⎥\n",
      "                                       ⎥\n",
      "5.99801218770198     7.03955607372047  ⎥\n",
      "                                       ⎥\n",
      "5.08209386588797     5.44381826142246  ⎥\n",
      "                                       ⎥\n",
      "3.67882558433499     2.99900609385099  ⎥\n",
      "                                       ⎥\n",
      "1.89061824129193    0.849074355273445  ⎥\n",
      "                                       ⎥\n",
      "0.849074355273445  2.17717858469376e-31⎦\n",
      "\n",
      "Exact Laplacian:\n",
      "⎡-39.4784176043574  -34.8603200166529  -23.1668864392641  -9.86960440108936  -\n",
      "⎢                                                                             \n",
      "⎢-34.8603200166529  -30.2422224289485  -18.5487888515596  -5.25150681338487  3\n",
      "⎢                                                                             \n",
      "⎢-23.1668864392641  -18.5487888515596  -6.85535527417073  6.44192676400399   1\n",
      "⎢                                                                             \n",
      "⎢-9.86960440108936  -5.25150681338487  6.44192676400398   19.7392088021787   2\n",
      "⎢                                                                             \n",
      "⎢-1.19041995061913  3.42767763708536   15.1211112144742   28.4183932526489   3\n",
      "⎢                                                                             \n",
      "⎢-1.19041995061913  3.42767763708536   15.1211112144742   28.4183932526489   3\n",
      "⎢                                                                             \n",
      "⎢-9.86960440108935  -5.25150681338486   6.441926764004    19.7392088021787   2\n",
      "⎢                                                                             \n",
      "⎢-23.1668864392641  -18.5487888515596  -6.85535527417072   6.441926764004    1\n",
      "⎢                                                                             \n",
      "⎢-34.8603200166529  -30.2422224289484  -18.5487888515596  -5.25150681338487  3\n",
      "⎢                                                                             \n",
      "⎣-39.4784176043574  -34.8603200166529  -23.1668864392641  -9.86960440108936  -\n",
      "\n",
      "1.19041995061913  -1.19041995061913  -9.86960440108935  -23.1668864392641  -34\n",
      "                                                                              \n",
      ".42767763708536   3.42767763708536   -5.25150681338486  -18.5487888515596  -30\n",
      "                                                                              \n",
      "5.1211112144742   15.1211112144742    6.441926764004    -6.85535527417072  -18\n",
      "                                                                              \n",
      "8.4183932526489   28.4183932526489   19.7392088021787    6.441926764004    -5.\n",
      "                                                                              \n",
      "7.0975777031192   37.0975777031192   28.4183932526489   15.1211112144742   3.4\n",
      "                                                                              \n",
      "7.0975777031192   37.0975777031192   28.4183932526489   15.1211112144742   3.4\n",
      "                                                                              \n",
      "8.4183932526489   28.4183932526489   19.7392088021787   6.44192676400401   -5.\n",
      "                                                                              \n",
      "5.1211112144742   15.1211112144742   6.44192676400401   -6.85535527417071  -18\n",
      "                                                                              \n",
      ".42767763708537   3.42767763708537   -5.25150681338485  -18.5487888515596  -30\n",
      "                                                                              \n",
      "1.19041995061913  -1.19041995061913  -9.86960440108935  -23.1668864392641  -34\n",
      "\n",
      ".8603200166529  -39.4784176043574⎤\n",
      "                                 ⎥\n",
      ".2422224289484  -34.8603200166529⎥\n",
      "                                 ⎥\n",
      ".5487888515596  -23.1668864392641⎥\n",
      "                                 ⎥\n",
      "25150681338487  -9.86960440108936⎥\n",
      "                                 ⎥\n",
      "2767763708537   -1.19041995061913⎥\n",
      "                                 ⎥\n",
      "2767763708537   -1.19041995061913⎥\n",
      "                                 ⎥\n",
      "25150681338486  -9.86960440108935⎥\n",
      "                                 ⎥\n",
      ".5487888515596  -23.1668864392641⎥\n",
      "                                 ⎥\n",
      ".2422224289484  -34.8603200166529⎥\n",
      "                                 ⎥\n",
      ".8603200166529  -39.4784176043574⎦\n",
      "\n",
      "Maximum absolute error: 67.59820326732364\n"
     ]
    },
    {
     "data": {
      "application/vnd.plotly.v1+json": {
       "config": {
        "plotlyServerURL": "https://plot.ly"
       },
       "data": [
        {
         "colorscale": [
          [
           0,
           "#440154"
          ],
          [
           0.1111111111111111,
           "#482878"
          ],
          [
           0.2222222222222222,
           "#3e4989"
          ],
          [
           0.3333333333333333,
           "#31688e"
          ],
          [
           0.4444444444444444,
           "#26828e"
          ],
          [
           0.5555555555555556,
           "#1f9e89"
          ],
          [
           0.6666666666666666,
           "#35b779"
          ],
          [
           0.7777777777777778,
           "#6ece58"
          ],
          [
           0.8888888888888888,
           "#b5de2b"
          ],
          [
           1,
           "#fde725"
          ]
         ],
         "showscale": true,
         "type": "surface",
         "x": [
          [
           0,
           0.1111111111111111,
           0.2222222222222222,
           0.3333333333333333,
           0.4444444444444444,
           0.5555555555555556,
           0.6666666666666666,
           0.7777777777777777,
           0.8888888888888888,
           1
          ],
          [
           0,
           0.1111111111111111,
           0.2222222222222222,
           0.3333333333333333,
           0.4444444444444444,
           0.5555555555555556,
           0.6666666666666666,
           0.7777777777777777,
           0.8888888888888888,
           1
          ],
          [
           0,
           0.1111111111111111,
           0.2222222222222222,
           0.3333333333333333,
           0.4444444444444444,
           0.5555555555555556,
           0.6666666666666666,
           0.7777777777777777,
           0.8888888888888888,
           1
          ],
          [
           0,
           0.1111111111111111,
           0.2222222222222222,
           0.3333333333333333,
           0.4444444444444444,
           0.5555555555555556,
           0.6666666666666666,
           0.7777777777777777,
           0.8888888888888888,
           1
          ],
          [
           0,
           0.1111111111111111,
           0.2222222222222222,
           0.3333333333333333,
           0.4444444444444444,
           0.5555555555555556,
           0.6666666666666666,
           0.7777777777777777,
           0.8888888888888888,
           1
          ],
          [
           0,
           0.1111111111111111,
           0.2222222222222222,
           0.3333333333333333,
           0.4444444444444444,
           0.5555555555555556,
           0.6666666666666666,
           0.7777777777777777,
           0.8888888888888888,
           1
          ],
          [
           0,
           0.1111111111111111,
           0.2222222222222222,
           0.3333333333333333,
           0.4444444444444444,
           0.5555555555555556,
           0.6666666666666666,
           0.7777777777777777,
           0.8888888888888888,
           1
          ],
          [
           0,
           0.1111111111111111,
           0.2222222222222222,
           0.3333333333333333,
           0.4444444444444444,
           0.5555555555555556,
           0.6666666666666666,
           0.7777777777777777,
           0.8888888888888888,
           1
          ],
          [
           0,
           0.1111111111111111,
           0.2222222222222222,
           0.3333333333333333,
           0.4444444444444444,
           0.5555555555555556,
           0.6666666666666666,
           0.7777777777777777,
           0.8888888888888888,
           1
          ],
          [
           0,
           0.1111111111111111,
           0.2222222222222222,
           0.3333333333333333,
           0.4444444444444444,
           0.5555555555555556,
           0.6666666666666666,
           0.7777777777777777,
           0.8888888888888888,
           1
          ]
         ],
         "y": [
          [
           0,
           0,
           0,
           0,
           0,
           0,
           0,
           0,
           0,
           0
          ],
          [
           0.1111111111111111,
           0.1111111111111111,
           0.1111111111111111,
           0.1111111111111111,
           0.1111111111111111,
           0.1111111111111111,
           0.1111111111111111,
           0.1111111111111111,
           0.1111111111111111,
           0.1111111111111111
          ],
          [
           0.2222222222222222,
           0.2222222222222222,
           0.2222222222222222,
           0.2222222222222222,
           0.2222222222222222,
           0.2222222222222222,
           0.2222222222222222,
           0.2222222222222222,
           0.2222222222222222,
           0.2222222222222222
          ],
          [
           0.3333333333333333,
           0.3333333333333333,
           0.3333333333333333,
           0.3333333333333333,
           0.3333333333333333,
           0.3333333333333333,
           0.3333333333333333,
           0.3333333333333333,
           0.3333333333333333,
           0.3333333333333333
          ],
          [
           0.4444444444444444,
           0.4444444444444444,
           0.4444444444444444,
           0.4444444444444444,
           0.4444444444444444,
           0.4444444444444444,
           0.4444444444444444,
           0.4444444444444444,
           0.4444444444444444,
           0.4444444444444444
          ],
          [
           0.5555555555555556,
           0.5555555555555556,
           0.5555555555555556,
           0.5555555555555556,
           0.5555555555555556,
           0.5555555555555556,
           0.5555555555555556,
           0.5555555555555556,
           0.5555555555555556,
           0.5555555555555556
          ],
          [
           0.6666666666666666,
           0.6666666666666666,
           0.6666666666666666,
           0.6666666666666666,
           0.6666666666666666,
           0.6666666666666666,
           0.6666666666666666,
           0.6666666666666666,
           0.6666666666666666,
           0.6666666666666666
          ],
          [
           0.7777777777777777,
           0.7777777777777777,
           0.7777777777777777,
           0.7777777777777777,
           0.7777777777777777,
           0.7777777777777777,
           0.7777777777777777,
           0.7777777777777777,
           0.7777777777777777,
           0.7777777777777777
          ],
          [
           0.8888888888888888,
           0.8888888888888888,
           0.8888888888888888,
           0.8888888888888888,
           0.8888888888888888,
           0.8888888888888888,
           0.8888888888888888,
           0.8888888888888888,
           0.8888888888888888,
           0.8888888888888888
          ],
          [
           1,
           1,
           1,
           1,
           1,
           1,
           1,
           1,
           1,
           1
          ]
         ],
         "z": [
          [
           0,
           0.8490743552734442,
           2.9990060938509906,
           5.44381826142245,
           7.039556073720469,
           7.039556073720469,
           5.443818261422454,
           2.9990060938509924,
           0.849074355273445,
           1.088589292346879e-31
          ],
          [
           0.8490743552734442,
           1.8906182412919321,
           3.6788255843349917,
           5.082093865887964,
           5.998012187701983,
           5.998012187701983,
           5.082093865887965,
           3.6788255843349917,
           1.8906182412919326,
           0.8490743552734444
          ],
          [
           2.9990060938509906,
           3.6788255843349917,
           2.4011828669864888,
           -1.2776427173484999,
           -3.678825584334987,
           -3.678825584334987,
           -1.277642717348503,
           2.4011828669864865,
           3.6788255843349917,
           2.999006093850991
          ],
          [
           5.44381826142245,
           5.082093865887964,
           -1.2776427173484999,
           -12.550218301683493,
           -19.907869470353475,
           -19.907869470353475,
           -12.550218301683497,
           -1.27764271734851,
           5.082093865887963,
           5.443818261422451
          ],
          [
           7.039556073720469,
           5.998012187701983,
           -3.678825584334987,
           -19.907869470353475,
           -30.500625564204462,
           -30.50062556420446,
           -19.907869470353486,
           -3.678825584335004,
           5.998012187701978,
           7.039556073720469
          ],
          [
           7.039556073720469,
           5.998012187701983,
           -3.678825584334987,
           -19.907869470353475,
           -30.50062556420446,
           -30.500625564204455,
           -19.907869470353486,
           -3.678825584335004,
           5.998012187701979,
           7.039556073720469
          ],
          [
           5.443818261422454,
           5.082093865887965,
           -1.277642717348503,
           -12.550218301683497,
           -19.907869470353486,
           -19.907869470353486,
           -12.55021830168351,
           -1.277642717348514,
           5.082093865887966,
           5.443818261422456
          ],
          [
           2.9990060938509924,
           3.6788255843349917,
           2.4011828669864865,
           -1.27764271734851,
           -3.678825584335004,
           -3.678825584335004,
           -1.277642717348514,
           2.4011828669864834,
           3.678825584334991,
           2.9990060938509933
          ],
          [
           0.849074355273445,
           1.8906182412919326,
           3.6788255843349917,
           5.082093865887963,
           5.998012187701978,
           5.998012187701979,
           5.082093865887966,
           3.678825584334991,
           1.890618241291933,
           0.8490743552734453
          ],
          [
           1.088589292346879e-31,
           0.8490743552734444,
           2.999006093850991,
           5.443818261422451,
           7.039556073720469,
           7.039556073720469,
           5.443818261422456,
           2.9990060938509933,
           0.8490743552734453,
           2.177178584693758e-31
          ]
         ]
        }
       ],
       "layout": {
        "scene": {
         "camera": {
          "eye": {
           "x": 1.5,
           "y": 1.5,
           "z": 1.5
          }
         },
         "xaxis": {
          "title": {
           "text": "X"
          }
         },
         "yaxis": {
          "title": {
           "text": "Y"
          }
         },
         "zaxis": {
          "title": {
           "text": "Value"
          }
         }
        },
        "template": {
         "data": {
          "bar": [
           {
            "error_x": {
             "color": "#2a3f5f"
            },
            "error_y": {
             "color": "#2a3f5f"
            },
            "marker": {
             "line": {
              "color": "white",
              "width": 0.5
             },
             "pattern": {
              "fillmode": "overlay",
              "size": 10,
              "solidity": 0.2
             }
            },
            "type": "bar"
           }
          ],
          "barpolar": [
           {
            "marker": {
             "line": {
              "color": "white",
              "width": 0.5
             },
             "pattern": {
              "fillmode": "overlay",
              "size": 10,
              "solidity": 0.2
             }
            },
            "type": "barpolar"
           }
          ],
          "carpet": [
           {
            "aaxis": {
             "endlinecolor": "#2a3f5f",
             "gridcolor": "#C8D4E3",
             "linecolor": "#C8D4E3",
             "minorgridcolor": "#C8D4E3",
             "startlinecolor": "#2a3f5f"
            },
            "baxis": {
             "endlinecolor": "#2a3f5f",
             "gridcolor": "#C8D4E3",
             "linecolor": "#C8D4E3",
             "minorgridcolor": "#C8D4E3",
             "startlinecolor": "#2a3f5f"
            },
            "type": "carpet"
           }
          ],
          "choropleth": [
           {
            "colorbar": {
             "outlinewidth": 0,
             "ticks": ""
            },
            "type": "choropleth"
           }
          ],
          "contour": [
           {
            "colorbar": {
             "outlinewidth": 0,
             "ticks": ""
            },
            "colorscale": [
             [
              0,
              "#0d0887"
             ],
             [
              0.1111111111111111,
              "#46039f"
             ],
             [
              0.2222222222222222,
              "#7201a8"
             ],
             [
              0.3333333333333333,
              "#9c179e"
             ],
             [
              0.4444444444444444,
              "#bd3786"
             ],
             [
              0.5555555555555556,
              "#d8576b"
             ],
             [
              0.6666666666666666,
              "#ed7953"
             ],
             [
              0.7777777777777778,
              "#fb9f3a"
             ],
             [
              0.8888888888888888,
              "#fdca26"
             ],
             [
              1,
              "#f0f921"
             ]
            ],
            "type": "contour"
           }
          ],
          "contourcarpet": [
           {
            "colorbar": {
             "outlinewidth": 0,
             "ticks": ""
            },
            "type": "contourcarpet"
           }
          ],
          "heatmap": [
           {
            "colorbar": {
             "outlinewidth": 0,
             "ticks": ""
            },
            "colorscale": [
             [
              0,
              "#0d0887"
             ],
             [
              0.1111111111111111,
              "#46039f"
             ],
             [
              0.2222222222222222,
              "#7201a8"
             ],
             [
              0.3333333333333333,
              "#9c179e"
             ],
             [
              0.4444444444444444,
              "#bd3786"
             ],
             [
              0.5555555555555556,
              "#d8576b"
             ],
             [
              0.6666666666666666,
              "#ed7953"
             ],
             [
              0.7777777777777778,
              "#fb9f3a"
             ],
             [
              0.8888888888888888,
              "#fdca26"
             ],
             [
              1,
              "#f0f921"
             ]
            ],
            "type": "heatmap"
           }
          ],
          "heatmapgl": [
           {
            "colorbar": {
             "outlinewidth": 0,
             "ticks": ""
            },
            "colorscale": [
             [
              0,
              "#0d0887"
             ],
             [
              0.1111111111111111,
              "#46039f"
             ],
             [
              0.2222222222222222,
              "#7201a8"
             ],
             [
              0.3333333333333333,
              "#9c179e"
             ],
             [
              0.4444444444444444,
              "#bd3786"
             ],
             [
              0.5555555555555556,
              "#d8576b"
             ],
             [
              0.6666666666666666,
              "#ed7953"
             ],
             [
              0.7777777777777778,
              "#fb9f3a"
             ],
             [
              0.8888888888888888,
              "#fdca26"
             ],
             [
              1,
              "#f0f921"
             ]
            ],
            "type": "heatmapgl"
           }
          ],
          "histogram": [
           {
            "marker": {
             "pattern": {
              "fillmode": "overlay",
              "size": 10,
              "solidity": 0.2
             }
            },
            "type": "histogram"
           }
          ],
          "histogram2d": [
           {
            "colorbar": {
             "outlinewidth": 0,
             "ticks": ""
            },
            "colorscale": [
             [
              0,
              "#0d0887"
             ],
             [
              0.1111111111111111,
              "#46039f"
             ],
             [
              0.2222222222222222,
              "#7201a8"
             ],
             [
              0.3333333333333333,
              "#9c179e"
             ],
             [
              0.4444444444444444,
              "#bd3786"
             ],
             [
              0.5555555555555556,
              "#d8576b"
             ],
             [
              0.6666666666666666,
              "#ed7953"
             ],
             [
              0.7777777777777778,
              "#fb9f3a"
             ],
             [
              0.8888888888888888,
              "#fdca26"
             ],
             [
              1,
              "#f0f921"
             ]
            ],
            "type": "histogram2d"
           }
          ],
          "histogram2dcontour": [
           {
            "colorbar": {
             "outlinewidth": 0,
             "ticks": ""
            },
            "colorscale": [
             [
              0,
              "#0d0887"
             ],
             [
              0.1111111111111111,
              "#46039f"
             ],
             [
              0.2222222222222222,
              "#7201a8"
             ],
             [
              0.3333333333333333,
              "#9c179e"
             ],
             [
              0.4444444444444444,
              "#bd3786"
             ],
             [
              0.5555555555555556,
              "#d8576b"
             ],
             [
              0.6666666666666666,
              "#ed7953"
             ],
             [
              0.7777777777777778,
              "#fb9f3a"
             ],
             [
              0.8888888888888888,
              "#fdca26"
             ],
             [
              1,
              "#f0f921"
             ]
            ],
            "type": "histogram2dcontour"
           }
          ],
          "mesh3d": [
           {
            "colorbar": {
             "outlinewidth": 0,
             "ticks": ""
            },
            "type": "mesh3d"
           }
          ],
          "parcoords": [
           {
            "line": {
             "colorbar": {
              "outlinewidth": 0,
              "ticks": ""
             }
            },
            "type": "parcoords"
           }
          ],
          "pie": [
           {
            "automargin": true,
            "type": "pie"
           }
          ],
          "scatter": [
           {
            "marker": {
             "colorbar": {
              "outlinewidth": 0,
              "ticks": ""
             }
            },
            "type": "scatter"
           }
          ],
          "scatter3d": [
           {
            "line": {
             "colorbar": {
              "outlinewidth": 0,
              "ticks": ""
             }
            },
            "marker": {
             "colorbar": {
              "outlinewidth": 0,
              "ticks": ""
             }
            },
            "type": "scatter3d"
           }
          ],
          "scattercarpet": [
           {
            "marker": {
             "colorbar": {
              "outlinewidth": 0,
              "ticks": ""
             }
            },
            "type": "scattercarpet"
           }
          ],
          "scattergeo": [
           {
            "marker": {
             "colorbar": {
              "outlinewidth": 0,
              "ticks": ""
             }
            },
            "type": "scattergeo"
           }
          ],
          "scattergl": [
           {
            "marker": {
             "colorbar": {
              "outlinewidth": 0,
              "ticks": ""
             }
            },
            "type": "scattergl"
           }
          ],
          "scattermapbox": [
           {
            "marker": {
             "colorbar": {
              "outlinewidth": 0,
              "ticks": ""
             }
            },
            "type": "scattermapbox"
           }
          ],
          "scatterpolar": [
           {
            "marker": {
             "colorbar": {
              "outlinewidth": 0,
              "ticks": ""
             }
            },
            "type": "scatterpolar"
           }
          ],
          "scatterpolargl": [
           {
            "marker": {
             "colorbar": {
              "outlinewidth": 0,
              "ticks": ""
             }
            },
            "type": "scatterpolargl"
           }
          ],
          "scatterternary": [
           {
            "marker": {
             "colorbar": {
              "outlinewidth": 0,
              "ticks": ""
             }
            },
            "type": "scatterternary"
           }
          ],
          "surface": [
           {
            "colorbar": {
             "outlinewidth": 0,
             "ticks": ""
            },
            "colorscale": [
             [
              0,
              "#0d0887"
             ],
             [
              0.1111111111111111,
              "#46039f"
             ],
             [
              0.2222222222222222,
              "#7201a8"
             ],
             [
              0.3333333333333333,
              "#9c179e"
             ],
             [
              0.4444444444444444,
              "#bd3786"
             ],
             [
              0.5555555555555556,
              "#d8576b"
             ],
             [
              0.6666666666666666,
              "#ed7953"
             ],
             [
              0.7777777777777778,
              "#fb9f3a"
             ],
             [
              0.8888888888888888,
              "#fdca26"
             ],
             [
              1,
              "#f0f921"
             ]
            ],
            "type": "surface"
           }
          ],
          "table": [
           {
            "cells": {
             "fill": {
              "color": "#EBF0F8"
             },
             "line": {
              "color": "white"
             }
            },
            "header": {
             "fill": {
              "color": "#C8D4E3"
             },
             "line": {
              "color": "white"
             }
            },
            "type": "table"
           }
          ]
         },
         "layout": {
          "annotationdefaults": {
           "arrowcolor": "#2a3f5f",
           "arrowhead": 0,
           "arrowwidth": 1
          },
          "autotypenumbers": "strict",
          "coloraxis": {
           "colorbar": {
            "outlinewidth": 0,
            "ticks": ""
           }
          },
          "colorscale": {
           "diverging": [
            [
             0,
             "#8e0152"
            ],
            [
             0.1,
             "#c51b7d"
            ],
            [
             0.2,
             "#de77ae"
            ],
            [
             0.3,
             "#f1b6da"
            ],
            [
             0.4,
             "#fde0ef"
            ],
            [
             0.5,
             "#f7f7f7"
            ],
            [
             0.6,
             "#e6f5d0"
            ],
            [
             0.7,
             "#b8e186"
            ],
            [
             0.8,
             "#7fbc41"
            ],
            [
             0.9,
             "#4d9221"
            ],
            [
             1,
             "#276419"
            ]
           ],
           "sequential": [
            [
             0,
             "#0d0887"
            ],
            [
             0.1111111111111111,
             "#46039f"
            ],
            [
             0.2222222222222222,
             "#7201a8"
            ],
            [
             0.3333333333333333,
             "#9c179e"
            ],
            [
             0.4444444444444444,
             "#bd3786"
            ],
            [
             0.5555555555555556,
             "#d8576b"
            ],
            [
             0.6666666666666666,
             "#ed7953"
            ],
            [
             0.7777777777777778,
             "#fb9f3a"
            ],
            [
             0.8888888888888888,
             "#fdca26"
            ],
            [
             1,
             "#f0f921"
            ]
           ],
           "sequentialminus": [
            [
             0,
             "#0d0887"
            ],
            [
             0.1111111111111111,
             "#46039f"
            ],
            [
             0.2222222222222222,
             "#7201a8"
            ],
            [
             0.3333333333333333,
             "#9c179e"
            ],
            [
             0.4444444444444444,
             "#bd3786"
            ],
            [
             0.5555555555555556,
             "#d8576b"
            ],
            [
             0.6666666666666666,
             "#ed7953"
            ],
            [
             0.7777777777777778,
             "#fb9f3a"
            ],
            [
             0.8888888888888888,
             "#fdca26"
            ],
            [
             1,
             "#f0f921"
            ]
           ]
          },
          "colorway": [
           "#636efa",
           "#EF553B",
           "#00cc96",
           "#ab63fa",
           "#FFA15A",
           "#19d3f3",
           "#FF6692",
           "#B6E880",
           "#FF97FF",
           "#FECB52"
          ],
          "font": {
           "color": "#2a3f5f"
          },
          "geo": {
           "bgcolor": "white",
           "lakecolor": "white",
           "landcolor": "white",
           "showlakes": true,
           "showland": true,
           "subunitcolor": "#C8D4E3"
          },
          "hoverlabel": {
           "align": "left"
          },
          "hovermode": "closest",
          "mapbox": {
           "style": "light"
          },
          "paper_bgcolor": "white",
          "plot_bgcolor": "white",
          "polar": {
           "angularaxis": {
            "gridcolor": "#EBF0F8",
            "linecolor": "#EBF0F8",
            "ticks": ""
           },
           "bgcolor": "white",
           "radialaxis": {
            "gridcolor": "#EBF0F8",
            "linecolor": "#EBF0F8",
            "ticks": ""
           }
          },
          "scene": {
           "xaxis": {
            "backgroundcolor": "white",
            "gridcolor": "#DFE8F3",
            "gridwidth": 2,
            "linecolor": "#EBF0F8",
            "showbackground": true,
            "ticks": "",
            "zerolinecolor": "#EBF0F8"
           },
           "yaxis": {
            "backgroundcolor": "white",
            "gridcolor": "#DFE8F3",
            "gridwidth": 2,
            "linecolor": "#EBF0F8",
            "showbackground": true,
            "ticks": "",
            "zerolinecolor": "#EBF0F8"
           },
           "zaxis": {
            "backgroundcolor": "white",
            "gridcolor": "#DFE8F3",
            "gridwidth": 2,
            "linecolor": "#EBF0F8",
            "showbackground": true,
            "ticks": "",
            "zerolinecolor": "#EBF0F8"
           }
          },
          "shapedefaults": {
           "line": {
            "color": "#2a3f5f"
           }
          },
          "ternary": {
           "aaxis": {
            "gridcolor": "#DFE8F3",
            "linecolor": "#A2B1C6",
            "ticks": ""
           },
           "baxis": {
            "gridcolor": "#DFE8F3",
            "linecolor": "#A2B1C6",
            "ticks": ""
           },
           "bgcolor": "white",
           "caxis": {
            "gridcolor": "#DFE8F3",
            "linecolor": "#A2B1C6",
            "ticks": ""
           }
          },
          "title": {
           "x": 0.05
          },
          "xaxis": {
           "automargin": true,
           "gridcolor": "#EBF0F8",
           "linecolor": "#EBF0F8",
           "ticks": "",
           "title": {
            "standoff": 15
           },
           "zerolinecolor": "#EBF0F8",
           "zerolinewidth": 2
          },
          "yaxis": {
           "automargin": true,
           "gridcolor": "#EBF0F8",
           "linecolor": "#EBF0F8",
           "ticks": "",
           "title": {
            "standoff": 15
           },
           "zerolinecolor": "#EBF0F8",
           "zerolinewidth": 2
          }
         }
        },
        "title": {
         "text": "3D Surface of Numerical Laplacian"
        }
       }
      }
     },
     "metadata": {},
     "output_type": "display_data"
    },
    {
     "data": {
      "application/vnd.plotly.v1+json": {
       "config": {
        "plotlyServerURL": "https://plot.ly"
       },
       "data": [
        {
         "colorscale": [
          [
           0,
           "#440154"
          ],
          [
           0.1111111111111111,
           "#482878"
          ],
          [
           0.2222222222222222,
           "#3e4989"
          ],
          [
           0.3333333333333333,
           "#31688e"
          ],
          [
           0.4444444444444444,
           "#26828e"
          ],
          [
           0.5555555555555556,
           "#1f9e89"
          ],
          [
           0.6666666666666666,
           "#35b779"
          ],
          [
           0.7777777777777778,
           "#6ece58"
          ],
          [
           0.8888888888888888,
           "#b5de2b"
          ],
          [
           1,
           "#fde725"
          ]
         ],
         "showscale": true,
         "type": "surface",
         "x": [
          [
           0,
           0.1111111111111111,
           0.2222222222222222,
           0.3333333333333333,
           0.4444444444444444,
           0.5555555555555556,
           0.6666666666666666,
           0.7777777777777777,
           0.8888888888888888,
           1
          ],
          [
           0,
           0.1111111111111111,
           0.2222222222222222,
           0.3333333333333333,
           0.4444444444444444,
           0.5555555555555556,
           0.6666666666666666,
           0.7777777777777777,
           0.8888888888888888,
           1
          ],
          [
           0,
           0.1111111111111111,
           0.2222222222222222,
           0.3333333333333333,
           0.4444444444444444,
           0.5555555555555556,
           0.6666666666666666,
           0.7777777777777777,
           0.8888888888888888,
           1
          ],
          [
           0,
           0.1111111111111111,
           0.2222222222222222,
           0.3333333333333333,
           0.4444444444444444,
           0.5555555555555556,
           0.6666666666666666,
           0.7777777777777777,
           0.8888888888888888,
           1
          ],
          [
           0,
           0.1111111111111111,
           0.2222222222222222,
           0.3333333333333333,
           0.4444444444444444,
           0.5555555555555556,
           0.6666666666666666,
           0.7777777777777777,
           0.8888888888888888,
           1
          ],
          [
           0,
           0.1111111111111111,
           0.2222222222222222,
           0.3333333333333333,
           0.4444444444444444,
           0.5555555555555556,
           0.6666666666666666,
           0.7777777777777777,
           0.8888888888888888,
           1
          ],
          [
           0,
           0.1111111111111111,
           0.2222222222222222,
           0.3333333333333333,
           0.4444444444444444,
           0.5555555555555556,
           0.6666666666666666,
           0.7777777777777777,
           0.8888888888888888,
           1
          ],
          [
           0,
           0.1111111111111111,
           0.2222222222222222,
           0.3333333333333333,
           0.4444444444444444,
           0.5555555555555556,
           0.6666666666666666,
           0.7777777777777777,
           0.8888888888888888,
           1
          ],
          [
           0,
           0.1111111111111111,
           0.2222222222222222,
           0.3333333333333333,
           0.4444444444444444,
           0.5555555555555556,
           0.6666666666666666,
           0.7777777777777777,
           0.8888888888888888,
           1
          ],
          [
           0,
           0.1111111111111111,
           0.2222222222222222,
           0.3333333333333333,
           0.4444444444444444,
           0.5555555555555556,
           0.6666666666666666,
           0.7777777777777777,
           0.8888888888888888,
           1
          ]
         ],
         "y": [
          [
           0,
           0,
           0,
           0,
           0,
           0,
           0,
           0,
           0,
           0
          ],
          [
           0.1111111111111111,
           0.1111111111111111,
           0.1111111111111111,
           0.1111111111111111,
           0.1111111111111111,
           0.1111111111111111,
           0.1111111111111111,
           0.1111111111111111,
           0.1111111111111111,
           0.1111111111111111
          ],
          [
           0.2222222222222222,
           0.2222222222222222,
           0.2222222222222222,
           0.2222222222222222,
           0.2222222222222222,
           0.2222222222222222,
           0.2222222222222222,
           0.2222222222222222,
           0.2222222222222222,
           0.2222222222222222
          ],
          [
           0.3333333333333333,
           0.3333333333333333,
           0.3333333333333333,
           0.3333333333333333,
           0.3333333333333333,
           0.3333333333333333,
           0.3333333333333333,
           0.3333333333333333,
           0.3333333333333333,
           0.3333333333333333
          ],
          [
           0.4444444444444444,
           0.4444444444444444,
           0.4444444444444444,
           0.4444444444444444,
           0.4444444444444444,
           0.4444444444444444,
           0.4444444444444444,
           0.4444444444444444,
           0.4444444444444444,
           0.4444444444444444
          ],
          [
           0.5555555555555556,
           0.5555555555555556,
           0.5555555555555556,
           0.5555555555555556,
           0.5555555555555556,
           0.5555555555555556,
           0.5555555555555556,
           0.5555555555555556,
           0.5555555555555556,
           0.5555555555555556
          ],
          [
           0.6666666666666666,
           0.6666666666666666,
           0.6666666666666666,
           0.6666666666666666,
           0.6666666666666666,
           0.6666666666666666,
           0.6666666666666666,
           0.6666666666666666,
           0.6666666666666666,
           0.6666666666666666
          ],
          [
           0.7777777777777777,
           0.7777777777777777,
           0.7777777777777777,
           0.7777777777777777,
           0.7777777777777777,
           0.7777777777777777,
           0.7777777777777777,
           0.7777777777777777,
           0.7777777777777777,
           0.7777777777777777
          ],
          [
           0.8888888888888888,
           0.8888888888888888,
           0.8888888888888888,
           0.8888888888888888,
           0.8888888888888888,
           0.8888888888888888,
           0.8888888888888888,
           0.8888888888888888,
           0.8888888888888888,
           0.8888888888888888
          ],
          [
           1,
           1,
           1,
           1,
           1,
           1,
           1,
           1,
           1,
           1
          ]
         ],
         "z": [
          [
           -39.47841760435743,
           -34.86032001665294,
           -23.16688643926408,
           -9.869604401089362,
           -1.190419950619128,
           -1.1904199506191264,
           -9.86960440108935,
           -23.166886439264072,
           -34.860320016652935,
           -39.47841760435743
          ],
          [
           -34.86032001665294,
           -30.242222428948452,
           -18.54878885155959,
           -5.2515068133848715,
           3.427677637085363,
           3.4276776370853645,
           -5.251506813384859,
           -18.548788851559582,
           -30.242222428948445,
           -34.86032001665294
          ],
          [
           -23.16688643926408,
           -18.548788851559593,
           -6.855355274170733,
           6.441926764003986,
           15.121111214474219,
           15.121111214474219,
           6.441926764003996,
           -6.855355274170722,
           -18.548788851559586,
           -23.16688643926408
          ],
          [
           -9.869604401089362,
           -5.2515068133848715,
           6.441926764003984,
           19.73920880217871,
           28.41839325264894,
           28.41839325264894,
           19.739208802178716,
           6.4419267640039966,
           -5.251506813384866,
           -9.869604401089362
          ],
          [
           -1.190419950619128,
           3.4276776370853623,
           15.121111214474217,
           28.41839325264894,
           37.09757770311917,
           37.09757770311917,
           28.418393252648947,
           15.121111214474231,
           3.4276776370853668,
           -1.190419950619128
          ],
          [
           -1.1904199506191264,
           3.4276776370853637,
           15.121111214474217,
           28.41839325264894,
           37.09757770311917,
           37.09757770311917,
           28.418393252648947,
           15.121111214474233,
           3.4276776370853685,
           -1.1904199506191264
          ],
          [
           -9.86960440108935,
           -5.251506813384861,
           6.441926764003996,
           19.739208802178716,
           28.418393252648947,
           28.418393252648947,
           19.739208802178723,
           6.441926764004008,
           -5.251506813384856,
           -9.86960440108935
          ],
          [
           -23.166886439264072,
           -18.548788851559582,
           -6.855355274170723,
           6.441926764003997,
           15.12111121447423,
           15.121111214474231,
           6.441926764004007,
           -6.855355274170711,
           -18.548788851559575,
           -23.166886439264072
          ],
          [
           -34.860320016652935,
           -30.242222428948445,
           -18.548788851559582,
           -5.251506813384866,
           3.4276776370853677,
           3.4276776370853694,
           -5.251506813384854,
           -18.548788851559575,
           -30.242222428948438,
           -34.860320016652935
          ],
          [
           -39.47841760435743,
           -34.86032001665294,
           -23.16688643926408,
           -9.869604401089362,
           -1.190419950619128,
           -1.1904199506191264,
           -9.86960440108935,
           -23.166886439264072,
           -34.860320016652935,
           -39.47841760435743
          ]
         ]
        }
       ],
       "layout": {
        "scene": {
         "camera": {
          "eye": {
           "x": 1.5,
           "y": 1.5,
           "z": 1.5
          }
         },
         "xaxis": {
          "title": {
           "text": "X"
          }
         },
         "yaxis": {
          "title": {
           "text": "Y"
          }
         },
         "zaxis": {
          "title": {
           "text": "Value"
          }
         }
        },
        "template": {
         "data": {
          "bar": [
           {
            "error_x": {
             "color": "#2a3f5f"
            },
            "error_y": {
             "color": "#2a3f5f"
            },
            "marker": {
             "line": {
              "color": "white",
              "width": 0.5
             },
             "pattern": {
              "fillmode": "overlay",
              "size": 10,
              "solidity": 0.2
             }
            },
            "type": "bar"
           }
          ],
          "barpolar": [
           {
            "marker": {
             "line": {
              "color": "white",
              "width": 0.5
             },
             "pattern": {
              "fillmode": "overlay",
              "size": 10,
              "solidity": 0.2
             }
            },
            "type": "barpolar"
           }
          ],
          "carpet": [
           {
            "aaxis": {
             "endlinecolor": "#2a3f5f",
             "gridcolor": "#C8D4E3",
             "linecolor": "#C8D4E3",
             "minorgridcolor": "#C8D4E3",
             "startlinecolor": "#2a3f5f"
            },
            "baxis": {
             "endlinecolor": "#2a3f5f",
             "gridcolor": "#C8D4E3",
             "linecolor": "#C8D4E3",
             "minorgridcolor": "#C8D4E3",
             "startlinecolor": "#2a3f5f"
            },
            "type": "carpet"
           }
          ],
          "choropleth": [
           {
            "colorbar": {
             "outlinewidth": 0,
             "ticks": ""
            },
            "type": "choropleth"
           }
          ],
          "contour": [
           {
            "colorbar": {
             "outlinewidth": 0,
             "ticks": ""
            },
            "colorscale": [
             [
              0,
              "#0d0887"
             ],
             [
              0.1111111111111111,
              "#46039f"
             ],
             [
              0.2222222222222222,
              "#7201a8"
             ],
             [
              0.3333333333333333,
              "#9c179e"
             ],
             [
              0.4444444444444444,
              "#bd3786"
             ],
             [
              0.5555555555555556,
              "#d8576b"
             ],
             [
              0.6666666666666666,
              "#ed7953"
             ],
             [
              0.7777777777777778,
              "#fb9f3a"
             ],
             [
              0.8888888888888888,
              "#fdca26"
             ],
             [
              1,
              "#f0f921"
             ]
            ],
            "type": "contour"
           }
          ],
          "contourcarpet": [
           {
            "colorbar": {
             "outlinewidth": 0,
             "ticks": ""
            },
            "type": "contourcarpet"
           }
          ],
          "heatmap": [
           {
            "colorbar": {
             "outlinewidth": 0,
             "ticks": ""
            },
            "colorscale": [
             [
              0,
              "#0d0887"
             ],
             [
              0.1111111111111111,
              "#46039f"
             ],
             [
              0.2222222222222222,
              "#7201a8"
             ],
             [
              0.3333333333333333,
              "#9c179e"
             ],
             [
              0.4444444444444444,
              "#bd3786"
             ],
             [
              0.5555555555555556,
              "#d8576b"
             ],
             [
              0.6666666666666666,
              "#ed7953"
             ],
             [
              0.7777777777777778,
              "#fb9f3a"
             ],
             [
              0.8888888888888888,
              "#fdca26"
             ],
             [
              1,
              "#f0f921"
             ]
            ],
            "type": "heatmap"
           }
          ],
          "heatmapgl": [
           {
            "colorbar": {
             "outlinewidth": 0,
             "ticks": ""
            },
            "colorscale": [
             [
              0,
              "#0d0887"
             ],
             [
              0.1111111111111111,
              "#46039f"
             ],
             [
              0.2222222222222222,
              "#7201a8"
             ],
             [
              0.3333333333333333,
              "#9c179e"
             ],
             [
              0.4444444444444444,
              "#bd3786"
             ],
             [
              0.5555555555555556,
              "#d8576b"
             ],
             [
              0.6666666666666666,
              "#ed7953"
             ],
             [
              0.7777777777777778,
              "#fb9f3a"
             ],
             [
              0.8888888888888888,
              "#fdca26"
             ],
             [
              1,
              "#f0f921"
             ]
            ],
            "type": "heatmapgl"
           }
          ],
          "histogram": [
           {
            "marker": {
             "pattern": {
              "fillmode": "overlay",
              "size": 10,
              "solidity": 0.2
             }
            },
            "type": "histogram"
           }
          ],
          "histogram2d": [
           {
            "colorbar": {
             "outlinewidth": 0,
             "ticks": ""
            },
            "colorscale": [
             [
              0,
              "#0d0887"
             ],
             [
              0.1111111111111111,
              "#46039f"
             ],
             [
              0.2222222222222222,
              "#7201a8"
             ],
             [
              0.3333333333333333,
              "#9c179e"
             ],
             [
              0.4444444444444444,
              "#bd3786"
             ],
             [
              0.5555555555555556,
              "#d8576b"
             ],
             [
              0.6666666666666666,
              "#ed7953"
             ],
             [
              0.7777777777777778,
              "#fb9f3a"
             ],
             [
              0.8888888888888888,
              "#fdca26"
             ],
             [
              1,
              "#f0f921"
             ]
            ],
            "type": "histogram2d"
           }
          ],
          "histogram2dcontour": [
           {
            "colorbar": {
             "outlinewidth": 0,
             "ticks": ""
            },
            "colorscale": [
             [
              0,
              "#0d0887"
             ],
             [
              0.1111111111111111,
              "#46039f"
             ],
             [
              0.2222222222222222,
              "#7201a8"
             ],
             [
              0.3333333333333333,
              "#9c179e"
             ],
             [
              0.4444444444444444,
              "#bd3786"
             ],
             [
              0.5555555555555556,
              "#d8576b"
             ],
             [
              0.6666666666666666,
              "#ed7953"
             ],
             [
              0.7777777777777778,
              "#fb9f3a"
             ],
             [
              0.8888888888888888,
              "#fdca26"
             ],
             [
              1,
              "#f0f921"
             ]
            ],
            "type": "histogram2dcontour"
           }
          ],
          "mesh3d": [
           {
            "colorbar": {
             "outlinewidth": 0,
             "ticks": ""
            },
            "type": "mesh3d"
           }
          ],
          "parcoords": [
           {
            "line": {
             "colorbar": {
              "outlinewidth": 0,
              "ticks": ""
             }
            },
            "type": "parcoords"
           }
          ],
          "pie": [
           {
            "automargin": true,
            "type": "pie"
           }
          ],
          "scatter": [
           {
            "marker": {
             "colorbar": {
              "outlinewidth": 0,
              "ticks": ""
             }
            },
            "type": "scatter"
           }
          ],
          "scatter3d": [
           {
            "line": {
             "colorbar": {
              "outlinewidth": 0,
              "ticks": ""
             }
            },
            "marker": {
             "colorbar": {
              "outlinewidth": 0,
              "ticks": ""
             }
            },
            "type": "scatter3d"
           }
          ],
          "scattercarpet": [
           {
            "marker": {
             "colorbar": {
              "outlinewidth": 0,
              "ticks": ""
             }
            },
            "type": "scattercarpet"
           }
          ],
          "scattergeo": [
           {
            "marker": {
             "colorbar": {
              "outlinewidth": 0,
              "ticks": ""
             }
            },
            "type": "scattergeo"
           }
          ],
          "scattergl": [
           {
            "marker": {
             "colorbar": {
              "outlinewidth": 0,
              "ticks": ""
             }
            },
            "type": "scattergl"
           }
          ],
          "scattermapbox": [
           {
            "marker": {
             "colorbar": {
              "outlinewidth": 0,
              "ticks": ""
             }
            },
            "type": "scattermapbox"
           }
          ],
          "scatterpolar": [
           {
            "marker": {
             "colorbar": {
              "outlinewidth": 0,
              "ticks": ""
             }
            },
            "type": "scatterpolar"
           }
          ],
          "scatterpolargl": [
           {
            "marker": {
             "colorbar": {
              "outlinewidth": 0,
              "ticks": ""
             }
            },
            "type": "scatterpolargl"
           }
          ],
          "scatterternary": [
           {
            "marker": {
             "colorbar": {
              "outlinewidth": 0,
              "ticks": ""
             }
            },
            "type": "scatterternary"
           }
          ],
          "surface": [
           {
            "colorbar": {
             "outlinewidth": 0,
             "ticks": ""
            },
            "colorscale": [
             [
              0,
              "#0d0887"
             ],
             [
              0.1111111111111111,
              "#46039f"
             ],
             [
              0.2222222222222222,
              "#7201a8"
             ],
             [
              0.3333333333333333,
              "#9c179e"
             ],
             [
              0.4444444444444444,
              "#bd3786"
             ],
             [
              0.5555555555555556,
              "#d8576b"
             ],
             [
              0.6666666666666666,
              "#ed7953"
             ],
             [
              0.7777777777777778,
              "#fb9f3a"
             ],
             [
              0.8888888888888888,
              "#fdca26"
             ],
             [
              1,
              "#f0f921"
             ]
            ],
            "type": "surface"
           }
          ],
          "table": [
           {
            "cells": {
             "fill": {
              "color": "#EBF0F8"
             },
             "line": {
              "color": "white"
             }
            },
            "header": {
             "fill": {
              "color": "#C8D4E3"
             },
             "line": {
              "color": "white"
             }
            },
            "type": "table"
           }
          ]
         },
         "layout": {
          "annotationdefaults": {
           "arrowcolor": "#2a3f5f",
           "arrowhead": 0,
           "arrowwidth": 1
          },
          "autotypenumbers": "strict",
          "coloraxis": {
           "colorbar": {
            "outlinewidth": 0,
            "ticks": ""
           }
          },
          "colorscale": {
           "diverging": [
            [
             0,
             "#8e0152"
            ],
            [
             0.1,
             "#c51b7d"
            ],
            [
             0.2,
             "#de77ae"
            ],
            [
             0.3,
             "#f1b6da"
            ],
            [
             0.4,
             "#fde0ef"
            ],
            [
             0.5,
             "#f7f7f7"
            ],
            [
             0.6,
             "#e6f5d0"
            ],
            [
             0.7,
             "#b8e186"
            ],
            [
             0.8,
             "#7fbc41"
            ],
            [
             0.9,
             "#4d9221"
            ],
            [
             1,
             "#276419"
            ]
           ],
           "sequential": [
            [
             0,
             "#0d0887"
            ],
            [
             0.1111111111111111,
             "#46039f"
            ],
            [
             0.2222222222222222,
             "#7201a8"
            ],
            [
             0.3333333333333333,
             "#9c179e"
            ],
            [
             0.4444444444444444,
             "#bd3786"
            ],
            [
             0.5555555555555556,
             "#d8576b"
            ],
            [
             0.6666666666666666,
             "#ed7953"
            ],
            [
             0.7777777777777778,
             "#fb9f3a"
            ],
            [
             0.8888888888888888,
             "#fdca26"
            ],
            [
             1,
             "#f0f921"
            ]
           ],
           "sequentialminus": [
            [
             0,
             "#0d0887"
            ],
            [
             0.1111111111111111,
             "#46039f"
            ],
            [
             0.2222222222222222,
             "#7201a8"
            ],
            [
             0.3333333333333333,
             "#9c179e"
            ],
            [
             0.4444444444444444,
             "#bd3786"
            ],
            [
             0.5555555555555556,
             "#d8576b"
            ],
            [
             0.6666666666666666,
             "#ed7953"
            ],
            [
             0.7777777777777778,
             "#fb9f3a"
            ],
            [
             0.8888888888888888,
             "#fdca26"
            ],
            [
             1,
             "#f0f921"
            ]
           ]
          },
          "colorway": [
           "#636efa",
           "#EF553B",
           "#00cc96",
           "#ab63fa",
           "#FFA15A",
           "#19d3f3",
           "#FF6692",
           "#B6E880",
           "#FF97FF",
           "#FECB52"
          ],
          "font": {
           "color": "#2a3f5f"
          },
          "geo": {
           "bgcolor": "white",
           "lakecolor": "white",
           "landcolor": "white",
           "showlakes": true,
           "showland": true,
           "subunitcolor": "#C8D4E3"
          },
          "hoverlabel": {
           "align": "left"
          },
          "hovermode": "closest",
          "mapbox": {
           "style": "light"
          },
          "paper_bgcolor": "white",
          "plot_bgcolor": "white",
          "polar": {
           "angularaxis": {
            "gridcolor": "#EBF0F8",
            "linecolor": "#EBF0F8",
            "ticks": ""
           },
           "bgcolor": "white",
           "radialaxis": {
            "gridcolor": "#EBF0F8",
            "linecolor": "#EBF0F8",
            "ticks": ""
           }
          },
          "scene": {
           "xaxis": {
            "backgroundcolor": "white",
            "gridcolor": "#DFE8F3",
            "gridwidth": 2,
            "linecolor": "#EBF0F8",
            "showbackground": true,
            "ticks": "",
            "zerolinecolor": "#EBF0F8"
           },
           "yaxis": {
            "backgroundcolor": "white",
            "gridcolor": "#DFE8F3",
            "gridwidth": 2,
            "linecolor": "#EBF0F8",
            "showbackground": true,
            "ticks": "",
            "zerolinecolor": "#EBF0F8"
           },
           "zaxis": {
            "backgroundcolor": "white",
            "gridcolor": "#DFE8F3",
            "gridwidth": 2,
            "linecolor": "#EBF0F8",
            "showbackground": true,
            "ticks": "",
            "zerolinecolor": "#EBF0F8"
           }
          },
          "shapedefaults": {
           "line": {
            "color": "#2a3f5f"
           }
          },
          "ternary": {
           "aaxis": {
            "gridcolor": "#DFE8F3",
            "linecolor": "#A2B1C6",
            "ticks": ""
           },
           "baxis": {
            "gridcolor": "#DFE8F3",
            "linecolor": "#A2B1C6",
            "ticks": ""
           },
           "bgcolor": "white",
           "caxis": {
            "gridcolor": "#DFE8F3",
            "linecolor": "#A2B1C6",
            "ticks": ""
           }
          },
          "title": {
           "x": 0.05
          },
          "xaxis": {
           "automargin": true,
           "gridcolor": "#EBF0F8",
           "linecolor": "#EBF0F8",
           "ticks": "",
           "title": {
            "standoff": 15
           },
           "zerolinecolor": "#EBF0F8",
           "zerolinewidth": 2
          },
          "yaxis": {
           "automargin": true,
           "gridcolor": "#EBF0F8",
           "linecolor": "#EBF0F8",
           "ticks": "",
           "title": {
            "standoff": 15
           },
           "zerolinecolor": "#EBF0F8",
           "zerolinewidth": 2
          }
         }
        },
        "title": {
         "text": "3D Surface of Exact Laplacian"
        }
       }
      }
     },
     "metadata": {},
     "output_type": "display_data"
    }
   ],
   "source": [
    "import sympy as sp\n",
    "import plotly.graph_objects as go\n",
    "\n",
    "# Create a meshgrid for x and y\n",
    "x = np.linspace(0, 1, Nx)  # x-coordinates\n",
    "y = np.linspace(0, 1, Ny)  # y-coordinates\n",
    "X, Y = np.meshgrid(x, y)  # Create a 2D grid\n",
    "\n",
    "# Define the function u(x, y) = sin^2(pi x) * sin^2(pi y)\n",
    "u = np.sin(np.pi * X)**2 * np.sin(np.pi * Y)**2  # Example function\n",
    "\n",
    "# Compute the first derivatives using np.gradient\n",
    "du_dx = np.gradient(u, hx, axis=0)  # Gradient in x direction\n",
    "du_dy = np.gradient(u, hy, axis=1)  # Gradient in y direction\n",
    "\n",
    "# Compute the second derivatives\n",
    "d2u_dx2 = np.gradient(du_dx, hx, axis=0)  # Second derivative in x direction\n",
    "d2u_dy2 = np.gradient(du_dy, hy, axis=1)  # Second derivative in y direction\n",
    "\n",
    "# Compute the Laplacian\n",
    "laplacian = d2u_dx2 + d2u_dy2\n",
    "\n",
    "# Compute the exact Laplacian for u(x, y) = sin^2(pi x) * sin^2(pi y)\n",
    "# The exact Laplacian can be derived or computed separately; for this example, we will use a known result.\n",
    "# The exact Laplacian of sin^2(pi x) * sin^2(pi y) is:\n",
    "exact_laplacian = 2 * (2 * np.pi**2) * np.sin(np.pi * X)**2 * np.sin(np.pi * Y)**2 - 4 * np.pi**2 * np.cos(np.pi * X)**2 * np.cos(np.pi * Y)**2\n",
    "\n",
    "# Compute the error\n",
    "error = np.max(np.abs(laplacian - exact_laplacian))\n",
    "\n",
    "# Pretty print the matrices using sympy\n",
    "sp.init_printing()  # Initialize pretty printing\n",
    "sympy_laplacian = sp.Matrix(laplacian)\n",
    "sympy_exact_laplacian = sp.Matrix(exact_laplacian)\n",
    "\n",
    "print(\"Numerical Laplacian:\")\n",
    "sp.pprint(sympy_laplacian)\n",
    "\n",
    "print(\"\\nExact Laplacian:\")\n",
    "sp.pprint(sympy_exact_laplacian)\n",
    "\n",
    "# Print the maximum absolute error\n",
    "print(f\"\\nMaximum absolute error: {error}\")\n",
    "\n",
    "# Plot results in 3D\n",
    "fig1 = go.Figure(data=[go.Surface(z=laplacian, x=X, y=Y, colorscale='Viridis', showscale=True)])\n",
    "fig1.update_layout(\n",
    "    title='3D Surface of Numerical Laplacian',\n",
    "    scene=dict(\n",
    "        xaxis_title='X',\n",
    "        yaxis_title='Y',\n",
    "        zaxis_title='Value',\n",
    "        camera=dict(eye=dict(x=1.5, y=1.5, z=1.5))\n",
    "    ),\n",
    "    template='plotly_white'\n",
    ")\n",
    "fig1.show()\n",
    "\n",
    "fig2 = go.Figure(data=[go.Surface(z=exact_laplacian, x=X, y=Y, colorscale='Viridis', showscale=True)])\n",
    "fig2.update_layout(\n",
    "    title='3D Surface of Exact Laplacian',\n",
    "    scene=dict(\n",
    "        xaxis_title='X',\n",
    "        yaxis_title='Y',\n",
    "        zaxis_title='Value',\n",
    "        camera=dict(eye=dict(x=1.5, y=1.5, z=1.5))\n",
    "    ),\n",
    "    template='plotly_white'\n",
    ")\n",
    "fig2.show()"
   ]
  },
  {
   "cell_type": "markdown",
   "metadata": {},
   "source": [
    "### Extended Interpretation of the Discrete Laplacian\n",
    "\n",
    "The discrete Laplacian derived above is a **central difference approximation** to the continuous Laplacian operator \n",
    "$$\n",
    "\\Delta u = \\frac{\\partial^2 u}{\\partial x^2} + \\frac{\\partial^2 u}{\\partial y^2}\n",
    "$$\n",
    "This approximation is commonly used in **finite difference methods** to solve partial differential equations (PDEs) numerically. Below, we provide a detailed interpretation of its components and applications:\n",
    "\n",
    "---\n",
    "\n",
    "#### 1. **Structure of the Discrete Laplacian**\n",
    "- The discrete Laplacian uses a **5-point stencil**, which means the value of $\\Delta u_{i,j}$ at the grid point $(i,j)$ is computed using the function values at five neighboring points:\n",
    "  - $u_{i+1,j}$ (right neighbor),\n",
    "  - $u_{i-1,j}$ (left neighbor),\n",
    "  - $u_{i,j+1}$ (top neighbor),\n",
    "  - $u_{i,j-1}$ (bottom neighbor),\n",
    "  - and $u_{i,j}$ (the central point itself).\n",
    "- These values are combined linearly with appropriate weights, such that the central point $u_{i,j}$ is penalized by $-4$ times its value, while each neighbor contributes $+1$.\n",
    "\n",
    "This structure reflects how the value of a function at one grid point is influenced by its immediate surroundings, capturing the local curvature of the function.\n",
    "\n",
    "---\n",
    "\n",
    "#### 2. **Physical Interpretation**\n",
    "The Laplacian operator represents the divergence of the gradient (or the flux) of a function. It measures how the value of a function at a point differs from its surroundings. Physically, this operator is associated with diffusion, heat flow, and wave propagation:\n",
    "\n",
    "- In **heat transfer** problems, the Laplacian models the rate at which heat spreads out from a point.\n",
    "- In **fluid dynamics**, it describes the diffusion of substances or momentum within a fluid.\n",
    "- In **electromagnetism**, the Laplacian appears in Poisson's equation for electrostatics, modeling how charges distribute in space.\n",
    "\n",
    "The discrete Laplacian provides a numerical approximation to this concept, enabling the simulation of such physical processes on a computational grid.\n",
    "\n",
    "---\n",
    "\n",
    "#### 3. **Simplification from a Uniform Grid**\n",
    "The assumption of a uniform grid $h = \\Delta x = \\Delta y$ simplifies the numerical representation:\n",
    "- All grid cells are square and equally spaced, leading to symmetry in the discrete Laplacian.\n",
    "- The factor $\\frac{1}{h^2}$ accounts for the uniform spacing and ensures dimensional consistency.\n",
    "- This uniformity avoids the need for additional weighting or adjustments, as would be required for non-uniform grids.\n",
    "\n",
    "The symmetry of the uniform grid also ensures that the discrete Laplacian preserves the properties of the continuous Laplacian, such as consistency and stability under smooth changes.\n",
    "\n",
    "---\n",
    "\n",
    "#### 4. **Error and Accuracy**\n",
    "The discrete Laplacian introduces a **truncation error** due to the finite difference approximation. Specifically:\n",
    "- The central difference approximation for the second derivative is second-order accurate, meaning the error decreases as $O(h^2)$ when the grid spacing $h$ becomes smaller.\n",
    "- For sufficiently small $h$, the discrete Laplacian closely approximates the continuous Laplacian, making it a reliable tool for numerical simulations.\n",
    "\n",
    "---\n",
    "\n",
    "#### 5. **Applications**\n",
    "The discrete Laplacian is a cornerstone of numerical methods for solving PDEs. Some key applications include:\n",
    "\n",
    "1. **Heat Equation (Diffusion)**\n",
    "   - The Laplacian models the diffusion of heat in a material. For example, in the equation:\n",
    "   $$\n",
    "   \\frac{\\partial u}{\\partial t} = \\alpha \\Delta u,\n",
    "   $$\n",
    "   the discrete Laplacian is used to compute the spatial component, while time derivatives are handled with time-stepping schemes.\n",
    "\n",
    "2. **Poisson's Equation**\n",
    "   - In problems involving electrostatics or gravitational potential, the discrete Laplacian is used to approximate:\n",
    "   $$\n",
    "   \\Delta u = f,\n",
    "   $$\n",
    "   where $f$ is a source term.\n",
    "\n",
    "3. **Wave Equation**\n",
    "   - In wave propagation, the Laplacian is part of the second-order spatial derivative:\n",
    "   $$\n",
    "   \\frac{\\partial^2 u}{\\partial t^2} = c^2 \\Delta u,\n",
    "   $$\n",
    "   where $c$ is the wave speed.\n",
    "\n",
    "\n",
    "---\n",
    "\n",
    "#### 6. **Numerical Implementation**\n",
    "In practice, the discrete Laplacian is implemented as a **linear operator** on a grid. This makes it suitable for efficient computation using matrix representations:\n",
    "- Each grid point corresponds to a row or column in a matrix.\n",
    "- The Laplacian is represented as a sparse matrix with most entries being zero, except for the coefficients associated with the 5-point stencil.\n",
    "\n",
    "This structure is crucial for solving large systems of equations efficiently using numerical solvers like iterative methods (e.g., conjugate gradient, Jacobi, Gauss-Seidel).\n",
    "\n",
    "---\n",
    "\n",
    "#### 7. **Limitations**\n",
    "While the discrete Laplacian is highly useful, it has some limitations:\n",
    "- **Boundary conditions**: Special care is needed to handle the boundaries of the grid (e.g., Dirichlet or Neumann conditions).\n",
    "- **Non-uniform grids**: For irregularly spaced grids, the discrete Laplacian becomes more complex and requires alternative formulations.\n",
    "- **Higher dimensions**: In 3D or higher dimensions, the stencil expands to include additional neighbors, increasing computational cost.\n",
    "\n",
    "---\n",
    "\n"
   ]
  },
  {
   "cell_type": "markdown",
   "metadata": {},
   "source": [
    "## "
   ]
  },
  {
   "cell_type": "markdown",
   "metadata": {},
   "source": [
    "## Laplacian manually implemented"
   ]
  },
  {
   "cell_type": "code",
   "execution_count": 5,
   "metadata": {},
   "outputs": [],
   "source": [
    "def compute_laplacian(u, hx, hy):\n",
    "    \"\"\"\n",
    "    Compute the Laplacian of a 2D array u using finite difference approximations.\n",
    "\n",
    "    Parameters:\n",
    "    u : 2D numpy array\n",
    "        The values of the function u at grid points.\n",
    "    hx : float\n",
    "        The grid spacing in the x direction (Δx).\n",
    "    hy : float\n",
    "        The grid spacing in the y direction (Δy).\n",
    "\n",
    "    Returns:\n",
    "    laplacian : 2D numpy array\n",
    "        The Laplacian of u.\n",
    "    \"\"\"\n",
    "    laplacian = np.zeros_like(u)\n",
    "\n",
    "    # Compute the Laplacian using finite difference\n",
    "    laplacian[1:-1, 1:-1] = (\n",
    "        (u[2:, 1:-1] - 2 * u[1:-1, 1:-1] + u[:-2, 1:-1]) / hx**2 +\n",
    "        (u[1:-1, 2:] - 2 * u[1:-1, 1:-1] + u[1:-1, :-2]) / hy**2\n",
    "    )\n",
    "\n",
    "    return laplacian\n",
    "\n",
    "\n"
   ]
  },
  {
   "cell_type": "markdown",
   "metadata": {},
   "source": [
    "## Compute the Laplacian with numpy"
   ]
  },
  {
   "cell_type": "code",
   "execution_count": 6,
   "metadata": {},
   "outputs": [
    {
     "data": {
      "application/vnd.plotly.v1+json": {
       "config": {
        "plotlyServerURL": "https://plot.ly"
       },
       "data": [
        {
         "colorscale": [
          [
           0,
           "#440154"
          ],
          [
           0.1111111111111111,
           "#482878"
          ],
          [
           0.2222222222222222,
           "#3e4989"
          ],
          [
           0.3333333333333333,
           "#31688e"
          ],
          [
           0.4444444444444444,
           "#26828e"
          ],
          [
           0.5555555555555556,
           "#1f9e89"
          ],
          [
           0.6666666666666666,
           "#35b779"
          ],
          [
           0.7777777777777778,
           "#6ece58"
          ],
          [
           0.8888888888888888,
           "#b5de2b"
          ],
          [
           1,
           "#fde725"
          ]
         ],
         "type": "surface",
         "x": [
          [
           0,
           0.1111111111111111,
           0.2222222222222222,
           0.3333333333333333,
           0.4444444444444444,
           0.5555555555555556,
           0.6666666666666666,
           0.7777777777777777,
           0.8888888888888888,
           1
          ],
          [
           0,
           0.1111111111111111,
           0.2222222222222222,
           0.3333333333333333,
           0.4444444444444444,
           0.5555555555555556,
           0.6666666666666666,
           0.7777777777777777,
           0.8888888888888888,
           1
          ],
          [
           0,
           0.1111111111111111,
           0.2222222222222222,
           0.3333333333333333,
           0.4444444444444444,
           0.5555555555555556,
           0.6666666666666666,
           0.7777777777777777,
           0.8888888888888888,
           1
          ],
          [
           0,
           0.1111111111111111,
           0.2222222222222222,
           0.3333333333333333,
           0.4444444444444444,
           0.5555555555555556,
           0.6666666666666666,
           0.7777777777777777,
           0.8888888888888888,
           1
          ],
          [
           0,
           0.1111111111111111,
           0.2222222222222222,
           0.3333333333333333,
           0.4444444444444444,
           0.5555555555555556,
           0.6666666666666666,
           0.7777777777777777,
           0.8888888888888888,
           1
          ],
          [
           0,
           0.1111111111111111,
           0.2222222222222222,
           0.3333333333333333,
           0.4444444444444444,
           0.5555555555555556,
           0.6666666666666666,
           0.7777777777777777,
           0.8888888888888888,
           1
          ],
          [
           0,
           0.1111111111111111,
           0.2222222222222222,
           0.3333333333333333,
           0.4444444444444444,
           0.5555555555555556,
           0.6666666666666666,
           0.7777777777777777,
           0.8888888888888888,
           1
          ],
          [
           0,
           0.1111111111111111,
           0.2222222222222222,
           0.3333333333333333,
           0.4444444444444444,
           0.5555555555555556,
           0.6666666666666666,
           0.7777777777777777,
           0.8888888888888888,
           1
          ],
          [
           0,
           0.1111111111111111,
           0.2222222222222222,
           0.3333333333333333,
           0.4444444444444444,
           0.5555555555555556,
           0.6666666666666666,
           0.7777777777777777,
           0.8888888888888888,
           1
          ],
          [
           0,
           0.1111111111111111,
           0.2222222222222222,
           0.3333333333333333,
           0.4444444444444444,
           0.5555555555555556,
           0.6666666666666666,
           0.7777777777777777,
           0.8888888888888888,
           1
          ]
         ],
         "y": [
          [
           0,
           0,
           0,
           0,
           0,
           0,
           0,
           0,
           0,
           0
          ],
          [
           0.1111111111111111,
           0.1111111111111111,
           0.1111111111111111,
           0.1111111111111111,
           0.1111111111111111,
           0.1111111111111111,
           0.1111111111111111,
           0.1111111111111111,
           0.1111111111111111,
           0.1111111111111111
          ],
          [
           0.2222222222222222,
           0.2222222222222222,
           0.2222222222222222,
           0.2222222222222222,
           0.2222222222222222,
           0.2222222222222222,
           0.2222222222222222,
           0.2222222222222222,
           0.2222222222222222,
           0.2222222222222222
          ],
          [
           0.3333333333333333,
           0.3333333333333333,
           0.3333333333333333,
           0.3333333333333333,
           0.3333333333333333,
           0.3333333333333333,
           0.3333333333333333,
           0.3333333333333333,
           0.3333333333333333,
           0.3333333333333333
          ],
          [
           0.4444444444444444,
           0.4444444444444444,
           0.4444444444444444,
           0.4444444444444444,
           0.4444444444444444,
           0.4444444444444444,
           0.4444444444444444,
           0.4444444444444444,
           0.4444444444444444,
           0.4444444444444444
          ],
          [
           0.5555555555555556,
           0.5555555555555556,
           0.5555555555555556,
           0.5555555555555556,
           0.5555555555555556,
           0.5555555555555556,
           0.5555555555555556,
           0.5555555555555556,
           0.5555555555555556,
           0.5555555555555556
          ],
          [
           0.6666666666666666,
           0.6666666666666666,
           0.6666666666666666,
           0.6666666666666666,
           0.6666666666666666,
           0.6666666666666666,
           0.6666666666666666,
           0.6666666666666666,
           0.6666666666666666,
           0.6666666666666666
          ],
          [
           0.7777777777777777,
           0.7777777777777777,
           0.7777777777777777,
           0.7777777777777777,
           0.7777777777777777,
           0.7777777777777777,
           0.7777777777777777,
           0.7777777777777777,
           0.7777777777777777,
           0.7777777777777777
          ],
          [
           0.8888888888888888,
           0.8888888888888888,
           0.8888888888888888,
           0.8888888888888888,
           0.8888888888888888,
           0.8888888888888888,
           0.8888888888888888,
           0.8888888888888888,
           0.8888888888888888,
           0.8888888888888888
          ],
          [
           1,
           1,
           1,
           1,
           1,
           1,
           1,
           1,
           1,
           1
          ]
         ],
         "z": [
          [
           0,
           0,
           0,
           0,
           0,
           0,
           0,
           0,
           0,
           0
          ],
          [
           0,
           0,
           0,
           0,
           0,
           0,
           0,
           0,
           0,
           0
          ],
          [
           0,
           0,
           0,
           0,
           0,
           0,
           0,
           0,
           0,
           0
          ],
          [
           0,
           0,
           0,
           0,
           0,
           0,
           0,
           0,
           0,
           0
          ],
          [
           0,
           0,
           0,
           0,
           0,
           0,
           0,
           0,
           0,
           0
          ],
          [
           0,
           0,
           0,
           0,
           0,
           0,
           0,
           0,
           0,
           0
          ],
          [
           0,
           0,
           0,
           0,
           0,
           0,
           0,
           0,
           0,
           0
          ],
          [
           0,
           0,
           0,
           0,
           0,
           0,
           0,
           0,
           0,
           0
          ],
          [
           0,
           0,
           0,
           0,
           0,
           0,
           0,
           0,
           0,
           0
          ],
          [
           0,
           0,
           0,
           0,
           0,
           0,
           0,
           0,
           0,
           0
          ]
         ]
        }
       ],
       "layout": {
        "scene": {
         "camera": {
          "eye": {
           "x": 1.5,
           "y": 1.5,
           "z": 1.5
          }
         },
         "xaxis": {
          "title": {
           "text": "X"
          }
         },
         "yaxis": {
          "title": {
           "text": "Y"
          }
         },
         "zaxis": {
          "title": {
           "text": "Laplacian Value"
          }
         }
        },
        "template": {
         "data": {
          "bar": [
           {
            "error_x": {
             "color": "#2a3f5f"
            },
            "error_y": {
             "color": "#2a3f5f"
            },
            "marker": {
             "line": {
              "color": "white",
              "width": 0.5
             },
             "pattern": {
              "fillmode": "overlay",
              "size": 10,
              "solidity": 0.2
             }
            },
            "type": "bar"
           }
          ],
          "barpolar": [
           {
            "marker": {
             "line": {
              "color": "white",
              "width": 0.5
             },
             "pattern": {
              "fillmode": "overlay",
              "size": 10,
              "solidity": 0.2
             }
            },
            "type": "barpolar"
           }
          ],
          "carpet": [
           {
            "aaxis": {
             "endlinecolor": "#2a3f5f",
             "gridcolor": "#C8D4E3",
             "linecolor": "#C8D4E3",
             "minorgridcolor": "#C8D4E3",
             "startlinecolor": "#2a3f5f"
            },
            "baxis": {
             "endlinecolor": "#2a3f5f",
             "gridcolor": "#C8D4E3",
             "linecolor": "#C8D4E3",
             "minorgridcolor": "#C8D4E3",
             "startlinecolor": "#2a3f5f"
            },
            "type": "carpet"
           }
          ],
          "choropleth": [
           {
            "colorbar": {
             "outlinewidth": 0,
             "ticks": ""
            },
            "type": "choropleth"
           }
          ],
          "contour": [
           {
            "colorbar": {
             "outlinewidth": 0,
             "ticks": ""
            },
            "colorscale": [
             [
              0,
              "#0d0887"
             ],
             [
              0.1111111111111111,
              "#46039f"
             ],
             [
              0.2222222222222222,
              "#7201a8"
             ],
             [
              0.3333333333333333,
              "#9c179e"
             ],
             [
              0.4444444444444444,
              "#bd3786"
             ],
             [
              0.5555555555555556,
              "#d8576b"
             ],
             [
              0.6666666666666666,
              "#ed7953"
             ],
             [
              0.7777777777777778,
              "#fb9f3a"
             ],
             [
              0.8888888888888888,
              "#fdca26"
             ],
             [
              1,
              "#f0f921"
             ]
            ],
            "type": "contour"
           }
          ],
          "contourcarpet": [
           {
            "colorbar": {
             "outlinewidth": 0,
             "ticks": ""
            },
            "type": "contourcarpet"
           }
          ],
          "heatmap": [
           {
            "colorbar": {
             "outlinewidth": 0,
             "ticks": ""
            },
            "colorscale": [
             [
              0,
              "#0d0887"
             ],
             [
              0.1111111111111111,
              "#46039f"
             ],
             [
              0.2222222222222222,
              "#7201a8"
             ],
             [
              0.3333333333333333,
              "#9c179e"
             ],
             [
              0.4444444444444444,
              "#bd3786"
             ],
             [
              0.5555555555555556,
              "#d8576b"
             ],
             [
              0.6666666666666666,
              "#ed7953"
             ],
             [
              0.7777777777777778,
              "#fb9f3a"
             ],
             [
              0.8888888888888888,
              "#fdca26"
             ],
             [
              1,
              "#f0f921"
             ]
            ],
            "type": "heatmap"
           }
          ],
          "heatmapgl": [
           {
            "colorbar": {
             "outlinewidth": 0,
             "ticks": ""
            },
            "colorscale": [
             [
              0,
              "#0d0887"
             ],
             [
              0.1111111111111111,
              "#46039f"
             ],
             [
              0.2222222222222222,
              "#7201a8"
             ],
             [
              0.3333333333333333,
              "#9c179e"
             ],
             [
              0.4444444444444444,
              "#bd3786"
             ],
             [
              0.5555555555555556,
              "#d8576b"
             ],
             [
              0.6666666666666666,
              "#ed7953"
             ],
             [
              0.7777777777777778,
              "#fb9f3a"
             ],
             [
              0.8888888888888888,
              "#fdca26"
             ],
             [
              1,
              "#f0f921"
             ]
            ],
            "type": "heatmapgl"
           }
          ],
          "histogram": [
           {
            "marker": {
             "pattern": {
              "fillmode": "overlay",
              "size": 10,
              "solidity": 0.2
             }
            },
            "type": "histogram"
           }
          ],
          "histogram2d": [
           {
            "colorbar": {
             "outlinewidth": 0,
             "ticks": ""
            },
            "colorscale": [
             [
              0,
              "#0d0887"
             ],
             [
              0.1111111111111111,
              "#46039f"
             ],
             [
              0.2222222222222222,
              "#7201a8"
             ],
             [
              0.3333333333333333,
              "#9c179e"
             ],
             [
              0.4444444444444444,
              "#bd3786"
             ],
             [
              0.5555555555555556,
              "#d8576b"
             ],
             [
              0.6666666666666666,
              "#ed7953"
             ],
             [
              0.7777777777777778,
              "#fb9f3a"
             ],
             [
              0.8888888888888888,
              "#fdca26"
             ],
             [
              1,
              "#f0f921"
             ]
            ],
            "type": "histogram2d"
           }
          ],
          "histogram2dcontour": [
           {
            "colorbar": {
             "outlinewidth": 0,
             "ticks": ""
            },
            "colorscale": [
             [
              0,
              "#0d0887"
             ],
             [
              0.1111111111111111,
              "#46039f"
             ],
             [
              0.2222222222222222,
              "#7201a8"
             ],
             [
              0.3333333333333333,
              "#9c179e"
             ],
             [
              0.4444444444444444,
              "#bd3786"
             ],
             [
              0.5555555555555556,
              "#d8576b"
             ],
             [
              0.6666666666666666,
              "#ed7953"
             ],
             [
              0.7777777777777778,
              "#fb9f3a"
             ],
             [
              0.8888888888888888,
              "#fdca26"
             ],
             [
              1,
              "#f0f921"
             ]
            ],
            "type": "histogram2dcontour"
           }
          ],
          "mesh3d": [
           {
            "colorbar": {
             "outlinewidth": 0,
             "ticks": ""
            },
            "type": "mesh3d"
           }
          ],
          "parcoords": [
           {
            "line": {
             "colorbar": {
              "outlinewidth": 0,
              "ticks": ""
             }
            },
            "type": "parcoords"
           }
          ],
          "pie": [
           {
            "automargin": true,
            "type": "pie"
           }
          ],
          "scatter": [
           {
            "marker": {
             "colorbar": {
              "outlinewidth": 0,
              "ticks": ""
             }
            },
            "type": "scatter"
           }
          ],
          "scatter3d": [
           {
            "line": {
             "colorbar": {
              "outlinewidth": 0,
              "ticks": ""
             }
            },
            "marker": {
             "colorbar": {
              "outlinewidth": 0,
              "ticks": ""
             }
            },
            "type": "scatter3d"
           }
          ],
          "scattercarpet": [
           {
            "marker": {
             "colorbar": {
              "outlinewidth": 0,
              "ticks": ""
             }
            },
            "type": "scattercarpet"
           }
          ],
          "scattergeo": [
           {
            "marker": {
             "colorbar": {
              "outlinewidth": 0,
              "ticks": ""
             }
            },
            "type": "scattergeo"
           }
          ],
          "scattergl": [
           {
            "marker": {
             "colorbar": {
              "outlinewidth": 0,
              "ticks": ""
             }
            },
            "type": "scattergl"
           }
          ],
          "scattermapbox": [
           {
            "marker": {
             "colorbar": {
              "outlinewidth": 0,
              "ticks": ""
             }
            },
            "type": "scattermapbox"
           }
          ],
          "scatterpolar": [
           {
            "marker": {
             "colorbar": {
              "outlinewidth": 0,
              "ticks": ""
             }
            },
            "type": "scatterpolar"
           }
          ],
          "scatterpolargl": [
           {
            "marker": {
             "colorbar": {
              "outlinewidth": 0,
              "ticks": ""
             }
            },
            "type": "scatterpolargl"
           }
          ],
          "scatterternary": [
           {
            "marker": {
             "colorbar": {
              "outlinewidth": 0,
              "ticks": ""
             }
            },
            "type": "scatterternary"
           }
          ],
          "surface": [
           {
            "colorbar": {
             "outlinewidth": 0,
             "ticks": ""
            },
            "colorscale": [
             [
              0,
              "#0d0887"
             ],
             [
              0.1111111111111111,
              "#46039f"
             ],
             [
              0.2222222222222222,
              "#7201a8"
             ],
             [
              0.3333333333333333,
              "#9c179e"
             ],
             [
              0.4444444444444444,
              "#bd3786"
             ],
             [
              0.5555555555555556,
              "#d8576b"
             ],
             [
              0.6666666666666666,
              "#ed7953"
             ],
             [
              0.7777777777777778,
              "#fb9f3a"
             ],
             [
              0.8888888888888888,
              "#fdca26"
             ],
             [
              1,
              "#f0f921"
             ]
            ],
            "type": "surface"
           }
          ],
          "table": [
           {
            "cells": {
             "fill": {
              "color": "#EBF0F8"
             },
             "line": {
              "color": "white"
             }
            },
            "header": {
             "fill": {
              "color": "#C8D4E3"
             },
             "line": {
              "color": "white"
             }
            },
            "type": "table"
           }
          ]
         },
         "layout": {
          "annotationdefaults": {
           "arrowcolor": "#2a3f5f",
           "arrowhead": 0,
           "arrowwidth": 1
          },
          "autotypenumbers": "strict",
          "coloraxis": {
           "colorbar": {
            "outlinewidth": 0,
            "ticks": ""
           }
          },
          "colorscale": {
           "diverging": [
            [
             0,
             "#8e0152"
            ],
            [
             0.1,
             "#c51b7d"
            ],
            [
             0.2,
             "#de77ae"
            ],
            [
             0.3,
             "#f1b6da"
            ],
            [
             0.4,
             "#fde0ef"
            ],
            [
             0.5,
             "#f7f7f7"
            ],
            [
             0.6,
             "#e6f5d0"
            ],
            [
             0.7,
             "#b8e186"
            ],
            [
             0.8,
             "#7fbc41"
            ],
            [
             0.9,
             "#4d9221"
            ],
            [
             1,
             "#276419"
            ]
           ],
           "sequential": [
            [
             0,
             "#0d0887"
            ],
            [
             0.1111111111111111,
             "#46039f"
            ],
            [
             0.2222222222222222,
             "#7201a8"
            ],
            [
             0.3333333333333333,
             "#9c179e"
            ],
            [
             0.4444444444444444,
             "#bd3786"
            ],
            [
             0.5555555555555556,
             "#d8576b"
            ],
            [
             0.6666666666666666,
             "#ed7953"
            ],
            [
             0.7777777777777778,
             "#fb9f3a"
            ],
            [
             0.8888888888888888,
             "#fdca26"
            ],
            [
             1,
             "#f0f921"
            ]
           ],
           "sequentialminus": [
            [
             0,
             "#0d0887"
            ],
            [
             0.1111111111111111,
             "#46039f"
            ],
            [
             0.2222222222222222,
             "#7201a8"
            ],
            [
             0.3333333333333333,
             "#9c179e"
            ],
            [
             0.4444444444444444,
             "#bd3786"
            ],
            [
             0.5555555555555556,
             "#d8576b"
            ],
            [
             0.6666666666666666,
             "#ed7953"
            ],
            [
             0.7777777777777778,
             "#fb9f3a"
            ],
            [
             0.8888888888888888,
             "#fdca26"
            ],
            [
             1,
             "#f0f921"
            ]
           ]
          },
          "colorway": [
           "#636efa",
           "#EF553B",
           "#00cc96",
           "#ab63fa",
           "#FFA15A",
           "#19d3f3",
           "#FF6692",
           "#B6E880",
           "#FF97FF",
           "#FECB52"
          ],
          "font": {
           "color": "#2a3f5f"
          },
          "geo": {
           "bgcolor": "white",
           "lakecolor": "white",
           "landcolor": "white",
           "showlakes": true,
           "showland": true,
           "subunitcolor": "#C8D4E3"
          },
          "hoverlabel": {
           "align": "left"
          },
          "hovermode": "closest",
          "mapbox": {
           "style": "light"
          },
          "paper_bgcolor": "white",
          "plot_bgcolor": "white",
          "polar": {
           "angularaxis": {
            "gridcolor": "#EBF0F8",
            "linecolor": "#EBF0F8",
            "ticks": ""
           },
           "bgcolor": "white",
           "radialaxis": {
            "gridcolor": "#EBF0F8",
            "linecolor": "#EBF0F8",
            "ticks": ""
           }
          },
          "scene": {
           "xaxis": {
            "backgroundcolor": "white",
            "gridcolor": "#DFE8F3",
            "gridwidth": 2,
            "linecolor": "#EBF0F8",
            "showbackground": true,
            "ticks": "",
            "zerolinecolor": "#EBF0F8"
           },
           "yaxis": {
            "backgroundcolor": "white",
            "gridcolor": "#DFE8F3",
            "gridwidth": 2,
            "linecolor": "#EBF0F8",
            "showbackground": true,
            "ticks": "",
            "zerolinecolor": "#EBF0F8"
           },
           "zaxis": {
            "backgroundcolor": "white",
            "gridcolor": "#DFE8F3",
            "gridwidth": 2,
            "linecolor": "#EBF0F8",
            "showbackground": true,
            "ticks": "",
            "zerolinecolor": "#EBF0F8"
           }
          },
          "shapedefaults": {
           "line": {
            "color": "#2a3f5f"
           }
          },
          "ternary": {
           "aaxis": {
            "gridcolor": "#DFE8F3",
            "linecolor": "#A2B1C6",
            "ticks": ""
           },
           "baxis": {
            "gridcolor": "#DFE8F3",
            "linecolor": "#A2B1C6",
            "ticks": ""
           },
           "bgcolor": "white",
           "caxis": {
            "gridcolor": "#DFE8F3",
            "linecolor": "#A2B1C6",
            "ticks": ""
           }
          },
          "title": {
           "x": 0.05
          },
          "xaxis": {
           "automargin": true,
           "gridcolor": "#EBF0F8",
           "linecolor": "#EBF0F8",
           "ticks": "",
           "title": {
            "standoff": 15
           },
           "zerolinecolor": "#EBF0F8",
           "zerolinewidth": 2
          },
          "yaxis": {
           "automargin": true,
           "gridcolor": "#EBF0F8",
           "linecolor": "#EBF0F8",
           "ticks": "",
           "title": {
            "standoff": 15
           },
           "zerolinecolor": "#EBF0F8",
           "zerolinewidth": 2
          }
         }
        },
        "title": {
         "text": "3D Surface of Laplacian (Zero Grid)"
        }
       }
      }
     },
     "metadata": {},
     "output_type": "display_data"
    },
    {
     "data": {
      "application/vnd.plotly.v1+json": {
       "config": {
        "plotlyServerURL": "https://plot.ly"
       },
       "data": [
        {
         "colorscale": [
          [
           0,
           "#440154"
          ],
          [
           0.1111111111111111,
           "#482878"
          ],
          [
           0.2222222222222222,
           "#3e4989"
          ],
          [
           0.3333333333333333,
           "#31688e"
          ],
          [
           0.4444444444444444,
           "#26828e"
          ],
          [
           0.5555555555555556,
           "#1f9e89"
          ],
          [
           0.6666666666666666,
           "#35b779"
          ],
          [
           0.7777777777777778,
           "#6ece58"
          ],
          [
           0.8888888888888888,
           "#b5de2b"
          ],
          [
           1,
           "#fde725"
          ]
         ],
         "type": "surface",
         "x": [
          [
           0,
           0.1111111111111111,
           0.2222222222222222,
           0.3333333333333333,
           0.4444444444444444,
           0.5555555555555556,
           0.6666666666666666,
           0.7777777777777777,
           0.8888888888888888,
           1
          ],
          [
           0,
           0.1111111111111111,
           0.2222222222222222,
           0.3333333333333333,
           0.4444444444444444,
           0.5555555555555556,
           0.6666666666666666,
           0.7777777777777777,
           0.8888888888888888,
           1
          ],
          [
           0,
           0.1111111111111111,
           0.2222222222222222,
           0.3333333333333333,
           0.4444444444444444,
           0.5555555555555556,
           0.6666666666666666,
           0.7777777777777777,
           0.8888888888888888,
           1
          ],
          [
           0,
           0.1111111111111111,
           0.2222222222222222,
           0.3333333333333333,
           0.4444444444444444,
           0.5555555555555556,
           0.6666666666666666,
           0.7777777777777777,
           0.8888888888888888,
           1
          ],
          [
           0,
           0.1111111111111111,
           0.2222222222222222,
           0.3333333333333333,
           0.4444444444444444,
           0.5555555555555556,
           0.6666666666666666,
           0.7777777777777777,
           0.8888888888888888,
           1
          ],
          [
           0,
           0.1111111111111111,
           0.2222222222222222,
           0.3333333333333333,
           0.4444444444444444,
           0.5555555555555556,
           0.6666666666666666,
           0.7777777777777777,
           0.8888888888888888,
           1
          ],
          [
           0,
           0.1111111111111111,
           0.2222222222222222,
           0.3333333333333333,
           0.4444444444444444,
           0.5555555555555556,
           0.6666666666666666,
           0.7777777777777777,
           0.8888888888888888,
           1
          ],
          [
           0,
           0.1111111111111111,
           0.2222222222222222,
           0.3333333333333333,
           0.4444444444444444,
           0.5555555555555556,
           0.6666666666666666,
           0.7777777777777777,
           0.8888888888888888,
           1
          ],
          [
           0,
           0.1111111111111111,
           0.2222222222222222,
           0.3333333333333333,
           0.4444444444444444,
           0.5555555555555556,
           0.6666666666666666,
           0.7777777777777777,
           0.8888888888888888,
           1
          ],
          [
           0,
           0.1111111111111111,
           0.2222222222222222,
           0.3333333333333333,
           0.4444444444444444,
           0.5555555555555556,
           0.6666666666666666,
           0.7777777777777777,
           0.8888888888888888,
           1
          ]
         ],
         "y": [
          [
           0,
           0,
           0,
           0,
           0,
           0,
           0,
           0,
           0,
           0
          ],
          [
           0.1111111111111111,
           0.1111111111111111,
           0.1111111111111111,
           0.1111111111111111,
           0.1111111111111111,
           0.1111111111111111,
           0.1111111111111111,
           0.1111111111111111,
           0.1111111111111111,
           0.1111111111111111
          ],
          [
           0.2222222222222222,
           0.2222222222222222,
           0.2222222222222222,
           0.2222222222222222,
           0.2222222222222222,
           0.2222222222222222,
           0.2222222222222222,
           0.2222222222222222,
           0.2222222222222222,
           0.2222222222222222
          ],
          [
           0.3333333333333333,
           0.3333333333333333,
           0.3333333333333333,
           0.3333333333333333,
           0.3333333333333333,
           0.3333333333333333,
           0.3333333333333333,
           0.3333333333333333,
           0.3333333333333333,
           0.3333333333333333
          ],
          [
           0.4444444444444444,
           0.4444444444444444,
           0.4444444444444444,
           0.4444444444444444,
           0.4444444444444444,
           0.4444444444444444,
           0.4444444444444444,
           0.4444444444444444,
           0.4444444444444444,
           0.4444444444444444
          ],
          [
           0.5555555555555556,
           0.5555555555555556,
           0.5555555555555556,
           0.5555555555555556,
           0.5555555555555556,
           0.5555555555555556,
           0.5555555555555556,
           0.5555555555555556,
           0.5555555555555556,
           0.5555555555555556
          ],
          [
           0.6666666666666666,
           0.6666666666666666,
           0.6666666666666666,
           0.6666666666666666,
           0.6666666666666666,
           0.6666666666666666,
           0.6666666666666666,
           0.6666666666666666,
           0.6666666666666666,
           0.6666666666666666
          ],
          [
           0.7777777777777777,
           0.7777777777777777,
           0.7777777777777777,
           0.7777777777777777,
           0.7777777777777777,
           0.7777777777777777,
           0.7777777777777777,
           0.7777777777777777,
           0.7777777777777777,
           0.7777777777777777
          ],
          [
           0.8888888888888888,
           0.8888888888888888,
           0.8888888888888888,
           0.8888888888888888,
           0.8888888888888888,
           0.8888888888888888,
           0.8888888888888888,
           0.8888888888888888,
           0.8888888888888888,
           0.8888888888888888
          ],
          [
           1,
           1,
           1,
           1,
           1,
           1,
           1,
           1,
           1,
           1
          ]
         ],
         "z": [
          [
           0,
           -0.5714244827667453,
           -1.0739267395846295,
           -1.446897582137948,
           -1.6453512223513758,
           -1.6453512223513758,
           -1.446897582137948,
           -1.0739267395846335,
           -0.5714244827667443,
           -2.0460583314485932e-16
          ],
          [
           -0.5714244827667453,
           -2.216775705118119,
           -4.166175544073949,
           -5.613073126211895,
           -6.38295124919207,
           -6.38295124919207,
           -5.613073126211899,
           -4.166175544073951,
           -2.2167757051181187,
           -0.5714244827667447
          ],
          [
           -1.0739267395846295,
           -4.166175544073949,
           -7.829848831330013,
           -10.549126793266014,
           -11.996024375403964,
           -11.996024375403964,
           -10.54912679326602,
           -7.829848831330015,
           -4.166175544073951,
           -1.0739267395846301
          ],
          [
           -1.446897582137948,
           -5.613073126211895,
           -10.549126793266014,
           -14.212800080522081,
           -16.162199919477917,
           -16.162199919477914,
           -14.212800080522083,
           -10.549126793266023,
           -5.613073126211901,
           -1.446897582137949
          ],
          [
           -1.6453512223513758,
           -6.38295124919207,
           -11.996024375403964,
           -16.162199919477917,
           -18.37897562459603,
           -18.378975624596027,
           -16.162199919477917,
           -11.996024375403973,
           -6.382951249192076,
           -1.6453512223513769
          ],
          [
           -1.6453512223513758,
           -6.38295124919207,
           -11.996024375403964,
           -16.162199919477914,
           -18.378975624596027,
           -18.378975624596023,
           -16.162199919477914,
           -11.996024375403973,
           -6.382951249192075,
           -1.6453512223513769
          ],
          [
           -1.446897582137948,
           -5.613073126211899,
           -10.54912679326602,
           -14.212800080522083,
           -16.162199919477917,
           -16.162199919477914,
           -14.212800080522086,
           -10.549126793266026,
           -5.6130731262119,
           -1.446897582137945
          ],
          [
           -1.0739267395846335,
           -4.166175544073951,
           -7.829848831330015,
           -10.549126793266023,
           -11.996024375403973,
           -11.996024375403973,
           -10.549126793266026,
           -7.829848831330023,
           -4.166175544073953,
           -1.0739267395846301
          ],
          [
           -0.5714244827667443,
           -2.2167757051181187,
           -4.166175544073951,
           -5.613073126211901,
           -6.382951249192076,
           -6.382951249192075,
           -5.6130731262119,
           -4.166175544073953,
           -2.2167757051181223,
           -0.5714244827667467
          ],
          [
           -2.0460583314485932e-16,
           -0.5714244827667447,
           -1.0739267395846301,
           -1.446897582137949,
           -1.6453512223513769,
           -1.6453512223513769,
           -1.446897582137945,
           -1.0739267395846301,
           -0.5714244827667467,
           -4.0921166628971865e-16
          ]
         ]
        }
       ],
       "layout": {
        "scene": {
         "camera": {
          "eye": {
           "x": 1.5,
           "y": 1.5,
           "z": 1.5
          }
         },
         "xaxis": {
          "title": {
           "text": "X"
          }
         },
         "yaxis": {
          "title": {
           "text": "Y"
          }
         },
         "zaxis": {
          "title": {
           "text": "Laplacian Value"
          }
         }
        },
        "template": {
         "data": {
          "bar": [
           {
            "error_x": {
             "color": "#2a3f5f"
            },
            "error_y": {
             "color": "#2a3f5f"
            },
            "marker": {
             "line": {
              "color": "white",
              "width": 0.5
             },
             "pattern": {
              "fillmode": "overlay",
              "size": 10,
              "solidity": 0.2
             }
            },
            "type": "bar"
           }
          ],
          "barpolar": [
           {
            "marker": {
             "line": {
              "color": "white",
              "width": 0.5
             },
             "pattern": {
              "fillmode": "overlay",
              "size": 10,
              "solidity": 0.2
             }
            },
            "type": "barpolar"
           }
          ],
          "carpet": [
           {
            "aaxis": {
             "endlinecolor": "#2a3f5f",
             "gridcolor": "#C8D4E3",
             "linecolor": "#C8D4E3",
             "minorgridcolor": "#C8D4E3",
             "startlinecolor": "#2a3f5f"
            },
            "baxis": {
             "endlinecolor": "#2a3f5f",
             "gridcolor": "#C8D4E3",
             "linecolor": "#C8D4E3",
             "minorgridcolor": "#C8D4E3",
             "startlinecolor": "#2a3f5f"
            },
            "type": "carpet"
           }
          ],
          "choropleth": [
           {
            "colorbar": {
             "outlinewidth": 0,
             "ticks": ""
            },
            "type": "choropleth"
           }
          ],
          "contour": [
           {
            "colorbar": {
             "outlinewidth": 0,
             "ticks": ""
            },
            "colorscale": [
             [
              0,
              "#0d0887"
             ],
             [
              0.1111111111111111,
              "#46039f"
             ],
             [
              0.2222222222222222,
              "#7201a8"
             ],
             [
              0.3333333333333333,
              "#9c179e"
             ],
             [
              0.4444444444444444,
              "#bd3786"
             ],
             [
              0.5555555555555556,
              "#d8576b"
             ],
             [
              0.6666666666666666,
              "#ed7953"
             ],
             [
              0.7777777777777778,
              "#fb9f3a"
             ],
             [
              0.8888888888888888,
              "#fdca26"
             ],
             [
              1,
              "#f0f921"
             ]
            ],
            "type": "contour"
           }
          ],
          "contourcarpet": [
           {
            "colorbar": {
             "outlinewidth": 0,
             "ticks": ""
            },
            "type": "contourcarpet"
           }
          ],
          "heatmap": [
           {
            "colorbar": {
             "outlinewidth": 0,
             "ticks": ""
            },
            "colorscale": [
             [
              0,
              "#0d0887"
             ],
             [
              0.1111111111111111,
              "#46039f"
             ],
             [
              0.2222222222222222,
              "#7201a8"
             ],
             [
              0.3333333333333333,
              "#9c179e"
             ],
             [
              0.4444444444444444,
              "#bd3786"
             ],
             [
              0.5555555555555556,
              "#d8576b"
             ],
             [
              0.6666666666666666,
              "#ed7953"
             ],
             [
              0.7777777777777778,
              "#fb9f3a"
             ],
             [
              0.8888888888888888,
              "#fdca26"
             ],
             [
              1,
              "#f0f921"
             ]
            ],
            "type": "heatmap"
           }
          ],
          "heatmapgl": [
           {
            "colorbar": {
             "outlinewidth": 0,
             "ticks": ""
            },
            "colorscale": [
             [
              0,
              "#0d0887"
             ],
             [
              0.1111111111111111,
              "#46039f"
             ],
             [
              0.2222222222222222,
              "#7201a8"
             ],
             [
              0.3333333333333333,
              "#9c179e"
             ],
             [
              0.4444444444444444,
              "#bd3786"
             ],
             [
              0.5555555555555556,
              "#d8576b"
             ],
             [
              0.6666666666666666,
              "#ed7953"
             ],
             [
              0.7777777777777778,
              "#fb9f3a"
             ],
             [
              0.8888888888888888,
              "#fdca26"
             ],
             [
              1,
              "#f0f921"
             ]
            ],
            "type": "heatmapgl"
           }
          ],
          "histogram": [
           {
            "marker": {
             "pattern": {
              "fillmode": "overlay",
              "size": 10,
              "solidity": 0.2
             }
            },
            "type": "histogram"
           }
          ],
          "histogram2d": [
           {
            "colorbar": {
             "outlinewidth": 0,
             "ticks": ""
            },
            "colorscale": [
             [
              0,
              "#0d0887"
             ],
             [
              0.1111111111111111,
              "#46039f"
             ],
             [
              0.2222222222222222,
              "#7201a8"
             ],
             [
              0.3333333333333333,
              "#9c179e"
             ],
             [
              0.4444444444444444,
              "#bd3786"
             ],
             [
              0.5555555555555556,
              "#d8576b"
             ],
             [
              0.6666666666666666,
              "#ed7953"
             ],
             [
              0.7777777777777778,
              "#fb9f3a"
             ],
             [
              0.8888888888888888,
              "#fdca26"
             ],
             [
              1,
              "#f0f921"
             ]
            ],
            "type": "histogram2d"
           }
          ],
          "histogram2dcontour": [
           {
            "colorbar": {
             "outlinewidth": 0,
             "ticks": ""
            },
            "colorscale": [
             [
              0,
              "#0d0887"
             ],
             [
              0.1111111111111111,
              "#46039f"
             ],
             [
              0.2222222222222222,
              "#7201a8"
             ],
             [
              0.3333333333333333,
              "#9c179e"
             ],
             [
              0.4444444444444444,
              "#bd3786"
             ],
             [
              0.5555555555555556,
              "#d8576b"
             ],
             [
              0.6666666666666666,
              "#ed7953"
             ],
             [
              0.7777777777777778,
              "#fb9f3a"
             ],
             [
              0.8888888888888888,
              "#fdca26"
             ],
             [
              1,
              "#f0f921"
             ]
            ],
            "type": "histogram2dcontour"
           }
          ],
          "mesh3d": [
           {
            "colorbar": {
             "outlinewidth": 0,
             "ticks": ""
            },
            "type": "mesh3d"
           }
          ],
          "parcoords": [
           {
            "line": {
             "colorbar": {
              "outlinewidth": 0,
              "ticks": ""
             }
            },
            "type": "parcoords"
           }
          ],
          "pie": [
           {
            "automargin": true,
            "type": "pie"
           }
          ],
          "scatter": [
           {
            "marker": {
             "colorbar": {
              "outlinewidth": 0,
              "ticks": ""
             }
            },
            "type": "scatter"
           }
          ],
          "scatter3d": [
           {
            "line": {
             "colorbar": {
              "outlinewidth": 0,
              "ticks": ""
             }
            },
            "marker": {
             "colorbar": {
              "outlinewidth": 0,
              "ticks": ""
             }
            },
            "type": "scatter3d"
           }
          ],
          "scattercarpet": [
           {
            "marker": {
             "colorbar": {
              "outlinewidth": 0,
              "ticks": ""
             }
            },
            "type": "scattercarpet"
           }
          ],
          "scattergeo": [
           {
            "marker": {
             "colorbar": {
              "outlinewidth": 0,
              "ticks": ""
             }
            },
            "type": "scattergeo"
           }
          ],
          "scattergl": [
           {
            "marker": {
             "colorbar": {
              "outlinewidth": 0,
              "ticks": ""
             }
            },
            "type": "scattergl"
           }
          ],
          "scattermapbox": [
           {
            "marker": {
             "colorbar": {
              "outlinewidth": 0,
              "ticks": ""
             }
            },
            "type": "scattermapbox"
           }
          ],
          "scatterpolar": [
           {
            "marker": {
             "colorbar": {
              "outlinewidth": 0,
              "ticks": ""
             }
            },
            "type": "scatterpolar"
           }
          ],
          "scatterpolargl": [
           {
            "marker": {
             "colorbar": {
              "outlinewidth": 0,
              "ticks": ""
             }
            },
            "type": "scatterpolargl"
           }
          ],
          "scatterternary": [
           {
            "marker": {
             "colorbar": {
              "outlinewidth": 0,
              "ticks": ""
             }
            },
            "type": "scatterternary"
           }
          ],
          "surface": [
           {
            "colorbar": {
             "outlinewidth": 0,
             "ticks": ""
            },
            "colorscale": [
             [
              0,
              "#0d0887"
             ],
             [
              0.1111111111111111,
              "#46039f"
             ],
             [
              0.2222222222222222,
              "#7201a8"
             ],
             [
              0.3333333333333333,
              "#9c179e"
             ],
             [
              0.4444444444444444,
              "#bd3786"
             ],
             [
              0.5555555555555556,
              "#d8576b"
             ],
             [
              0.6666666666666666,
              "#ed7953"
             ],
             [
              0.7777777777777778,
              "#fb9f3a"
             ],
             [
              0.8888888888888888,
              "#fdca26"
             ],
             [
              1,
              "#f0f921"
             ]
            ],
            "type": "surface"
           }
          ],
          "table": [
           {
            "cells": {
             "fill": {
              "color": "#EBF0F8"
             },
             "line": {
              "color": "white"
             }
            },
            "header": {
             "fill": {
              "color": "#C8D4E3"
             },
             "line": {
              "color": "white"
             }
            },
            "type": "table"
           }
          ]
         },
         "layout": {
          "annotationdefaults": {
           "arrowcolor": "#2a3f5f",
           "arrowhead": 0,
           "arrowwidth": 1
          },
          "autotypenumbers": "strict",
          "coloraxis": {
           "colorbar": {
            "outlinewidth": 0,
            "ticks": ""
           }
          },
          "colorscale": {
           "diverging": [
            [
             0,
             "#8e0152"
            ],
            [
             0.1,
             "#c51b7d"
            ],
            [
             0.2,
             "#de77ae"
            ],
            [
             0.3,
             "#f1b6da"
            ],
            [
             0.4,
             "#fde0ef"
            ],
            [
             0.5,
             "#f7f7f7"
            ],
            [
             0.6,
             "#e6f5d0"
            ],
            [
             0.7,
             "#b8e186"
            ],
            [
             0.8,
             "#7fbc41"
            ],
            [
             0.9,
             "#4d9221"
            ],
            [
             1,
             "#276419"
            ]
           ],
           "sequential": [
            [
             0,
             "#0d0887"
            ],
            [
             0.1111111111111111,
             "#46039f"
            ],
            [
             0.2222222222222222,
             "#7201a8"
            ],
            [
             0.3333333333333333,
             "#9c179e"
            ],
            [
             0.4444444444444444,
             "#bd3786"
            ],
            [
             0.5555555555555556,
             "#d8576b"
            ],
            [
             0.6666666666666666,
             "#ed7953"
            ],
            [
             0.7777777777777778,
             "#fb9f3a"
            ],
            [
             0.8888888888888888,
             "#fdca26"
            ],
            [
             1,
             "#f0f921"
            ]
           ],
           "sequentialminus": [
            [
             0,
             "#0d0887"
            ],
            [
             0.1111111111111111,
             "#46039f"
            ],
            [
             0.2222222222222222,
             "#7201a8"
            ],
            [
             0.3333333333333333,
             "#9c179e"
            ],
            [
             0.4444444444444444,
             "#bd3786"
            ],
            [
             0.5555555555555556,
             "#d8576b"
            ],
            [
             0.6666666666666666,
             "#ed7953"
            ],
            [
             0.7777777777777778,
             "#fb9f3a"
            ],
            [
             0.8888888888888888,
             "#fdca26"
            ],
            [
             1,
             "#f0f921"
            ]
           ]
          },
          "colorway": [
           "#636efa",
           "#EF553B",
           "#00cc96",
           "#ab63fa",
           "#FFA15A",
           "#19d3f3",
           "#FF6692",
           "#B6E880",
           "#FF97FF",
           "#FECB52"
          ],
          "font": {
           "color": "#2a3f5f"
          },
          "geo": {
           "bgcolor": "white",
           "lakecolor": "white",
           "landcolor": "white",
           "showlakes": true,
           "showland": true,
           "subunitcolor": "#C8D4E3"
          },
          "hoverlabel": {
           "align": "left"
          },
          "hovermode": "closest",
          "mapbox": {
           "style": "light"
          },
          "paper_bgcolor": "white",
          "plot_bgcolor": "white",
          "polar": {
           "angularaxis": {
            "gridcolor": "#EBF0F8",
            "linecolor": "#EBF0F8",
            "ticks": ""
           },
           "bgcolor": "white",
           "radialaxis": {
            "gridcolor": "#EBF0F8",
            "linecolor": "#EBF0F8",
            "ticks": ""
           }
          },
          "scene": {
           "xaxis": {
            "backgroundcolor": "white",
            "gridcolor": "#DFE8F3",
            "gridwidth": 2,
            "linecolor": "#EBF0F8",
            "showbackground": true,
            "ticks": "",
            "zerolinecolor": "#EBF0F8"
           },
           "yaxis": {
            "backgroundcolor": "white",
            "gridcolor": "#DFE8F3",
            "gridwidth": 2,
            "linecolor": "#EBF0F8",
            "showbackground": true,
            "ticks": "",
            "zerolinecolor": "#EBF0F8"
           },
           "zaxis": {
            "backgroundcolor": "white",
            "gridcolor": "#DFE8F3",
            "gridwidth": 2,
            "linecolor": "#EBF0F8",
            "showbackground": true,
            "ticks": "",
            "zerolinecolor": "#EBF0F8"
           }
          },
          "shapedefaults": {
           "line": {
            "color": "#2a3f5f"
           }
          },
          "ternary": {
           "aaxis": {
            "gridcolor": "#DFE8F3",
            "linecolor": "#A2B1C6",
            "ticks": ""
           },
           "baxis": {
            "gridcolor": "#DFE8F3",
            "linecolor": "#A2B1C6",
            "ticks": ""
           },
           "bgcolor": "white",
           "caxis": {
            "gridcolor": "#DFE8F3",
            "linecolor": "#A2B1C6",
            "ticks": ""
           }
          },
          "title": {
           "x": 0.05
          },
          "xaxis": {
           "automargin": true,
           "gridcolor": "#EBF0F8",
           "linecolor": "#EBF0F8",
           "ticks": "",
           "title": {
            "standoff": 15
           },
           "zerolinecolor": "#EBF0F8",
           "zerolinewidth": 2
          },
          "yaxis": {
           "automargin": true,
           "gridcolor": "#EBF0F8",
           "linecolor": "#EBF0F8",
           "ticks": "",
           "title": {
            "standoff": 15
           },
           "zerolinecolor": "#EBF0F8",
           "zerolinewidth": 2
          }
         }
        },
        "title": {
         "text": "3D Surface of Laplacian (Sinusoidal Grid)"
        }
       }
      }
     },
     "metadata": {},
     "output_type": "display_data"
    },
    {
     "data": {
      "application/vnd.plotly.v1+json": {
       "config": {
        "plotlyServerURL": "https://plot.ly"
       },
       "data": [
        {
         "colorscale": [
          [
           0,
           "#440154"
          ],
          [
           0.1111111111111111,
           "#482878"
          ],
          [
           0.2222222222222222,
           "#3e4989"
          ],
          [
           0.3333333333333333,
           "#31688e"
          ],
          [
           0.4444444444444444,
           "#26828e"
          ],
          [
           0.5555555555555556,
           "#1f9e89"
          ],
          [
           0.6666666666666666,
           "#35b779"
          ],
          [
           0.7777777777777778,
           "#6ece58"
          ],
          [
           0.8888888888888888,
           "#b5de2b"
          ],
          [
           1,
           "#fde725"
          ]
         ],
         "type": "surface",
         "x": [
          [
           0,
           0.1111111111111111,
           0.2222222222222222,
           0.3333333333333333,
           0.4444444444444444,
           0.5555555555555556,
           0.6666666666666666,
           0.7777777777777777,
           0.8888888888888888,
           1
          ],
          [
           0,
           0.1111111111111111,
           0.2222222222222222,
           0.3333333333333333,
           0.4444444444444444,
           0.5555555555555556,
           0.6666666666666666,
           0.7777777777777777,
           0.8888888888888888,
           1
          ],
          [
           0,
           0.1111111111111111,
           0.2222222222222222,
           0.3333333333333333,
           0.4444444444444444,
           0.5555555555555556,
           0.6666666666666666,
           0.7777777777777777,
           0.8888888888888888,
           1
          ],
          [
           0,
           0.1111111111111111,
           0.2222222222222222,
           0.3333333333333333,
           0.4444444444444444,
           0.5555555555555556,
           0.6666666666666666,
           0.7777777777777777,
           0.8888888888888888,
           1
          ],
          [
           0,
           0.1111111111111111,
           0.2222222222222222,
           0.3333333333333333,
           0.4444444444444444,
           0.5555555555555556,
           0.6666666666666666,
           0.7777777777777777,
           0.8888888888888888,
           1
          ],
          [
           0,
           0.1111111111111111,
           0.2222222222222222,
           0.3333333333333333,
           0.4444444444444444,
           0.5555555555555556,
           0.6666666666666666,
           0.7777777777777777,
           0.8888888888888888,
           1
          ],
          [
           0,
           0.1111111111111111,
           0.2222222222222222,
           0.3333333333333333,
           0.4444444444444444,
           0.5555555555555556,
           0.6666666666666666,
           0.7777777777777777,
           0.8888888888888888,
           1
          ],
          [
           0,
           0.1111111111111111,
           0.2222222222222222,
           0.3333333333333333,
           0.4444444444444444,
           0.5555555555555556,
           0.6666666666666666,
           0.7777777777777777,
           0.8888888888888888,
           1
          ],
          [
           0,
           0.1111111111111111,
           0.2222222222222222,
           0.3333333333333333,
           0.4444444444444444,
           0.5555555555555556,
           0.6666666666666666,
           0.7777777777777777,
           0.8888888888888888,
           1
          ],
          [
           0,
           0.1111111111111111,
           0.2222222222222222,
           0.3333333333333333,
           0.4444444444444444,
           0.5555555555555556,
           0.6666666666666666,
           0.7777777777777777,
           0.8888888888888888,
           1
          ]
         ],
         "y": [
          [
           0,
           0,
           0,
           0,
           0,
           0,
           0,
           0,
           0,
           0
          ],
          [
           0.1111111111111111,
           0.1111111111111111,
           0.1111111111111111,
           0.1111111111111111,
           0.1111111111111111,
           0.1111111111111111,
           0.1111111111111111,
           0.1111111111111111,
           0.1111111111111111,
           0.1111111111111111
          ],
          [
           0.2222222222222222,
           0.2222222222222222,
           0.2222222222222222,
           0.2222222222222222,
           0.2222222222222222,
           0.2222222222222222,
           0.2222222222222222,
           0.2222222222222222,
           0.2222222222222222,
           0.2222222222222222
          ],
          [
           0.3333333333333333,
           0.3333333333333333,
           0.3333333333333333,
           0.3333333333333333,
           0.3333333333333333,
           0.3333333333333333,
           0.3333333333333333,
           0.3333333333333333,
           0.3333333333333333,
           0.3333333333333333
          ],
          [
           0.4444444444444444,
           0.4444444444444444,
           0.4444444444444444,
           0.4444444444444444,
           0.4444444444444444,
           0.4444444444444444,
           0.4444444444444444,
           0.4444444444444444,
           0.4444444444444444,
           0.4444444444444444
          ],
          [
           0.5555555555555556,
           0.5555555555555556,
           0.5555555555555556,
           0.5555555555555556,
           0.5555555555555556,
           0.5555555555555556,
           0.5555555555555556,
           0.5555555555555556,
           0.5555555555555556,
           0.5555555555555556
          ],
          [
           0.6666666666666666,
           0.6666666666666666,
           0.6666666666666666,
           0.6666666666666666,
           0.6666666666666666,
           0.6666666666666666,
           0.6666666666666666,
           0.6666666666666666,
           0.6666666666666666,
           0.6666666666666666
          ],
          [
           0.7777777777777777,
           0.7777777777777777,
           0.7777777777777777,
           0.7777777777777777,
           0.7777777777777777,
           0.7777777777777777,
           0.7777777777777777,
           0.7777777777777777,
           0.7777777777777777,
           0.7777777777777777
          ],
          [
           0.8888888888888888,
           0.8888888888888888,
           0.8888888888888888,
           0.8888888888888888,
           0.8888888888888888,
           0.8888888888888888,
           0.8888888888888888,
           0.8888888888888888,
           0.8888888888888888,
           0.8888888888888888
          ],
          [
           1,
           1,
           1,
           1,
           1,
           1,
           1,
           1,
           1,
           1
          ]
         ],
         "z": [
          [
           0,
           0,
           0,
           0,
           0,
           0,
           0,
           0,
           0,
           0
          ],
          [
           0,
           0,
           0,
           0,
           0,
           -2.498001805406602e-16,
           0,
           6.245004513516506e-17,
           0,
           -6.245004513516506e-16
          ],
          [
           0,
           0,
           0,
           0,
           0,
           -4.996003610813204e-16,
           0,
           1.124100812432971e-15,
           0,
           -1.2490009027033011e-15
          ],
          [
           0,
           0,
           0,
           0,
           0,
           0,
           0,
           4.246603069191224e-15,
           0,
           -1.4988010832439613e-15
          ],
          [
           0,
           0,
           0,
           0,
           0,
           -9.992007221626409e-16,
           0,
           1.7486012637846216e-15,
           0,
           -2.4980018054066022e-15
          ],
          [
           0,
           -2.498001805406602e-16,
           -4.996003610813204e-16,
           0,
           -9.992007221626409e-16,
           -3.9968028886505635e-15,
           -1.9984014443252818e-15,
           -2.4980018054066022e-15,
           0,
           -1.4988010832439613e-15
          ],
          [
           0,
           0,
           0,
           0,
           0,
           -1.9984014443252818e-15,
           0,
           5.495603971894525e-15,
           0,
           -4.9960036108132044e-15
          ],
          [
           0,
           6.245004513516506e-17,
           1.124100812432971e-15,
           4.246603069191224e-15,
           1.7486012637846216e-15,
           -2.4980018054066022e-15,
           5.495603971894525e-15,
           1.099120794378905e-14,
           6.494804694057166e-15,
           4.496403249731884e-15
          ],
          [
           0,
           0,
           0,
           0,
           0,
           0,
           0,
           6.494804694057166e-15,
           0,
           -2.9976021664879227e-15
          ],
          [
           0,
           -6.245004513516506e-16,
           -1.2490009027033011e-15,
           -1.4988010832439613e-15,
           -2.4980018054066022e-15,
           -1.4988010832439613e-15,
           -4.9960036108132044e-15,
           4.496403249731884e-15,
           -2.9976021664879227e-15,
           0
          ]
         ]
        }
       ],
       "layout": {
        "scene": {
         "camera": {
          "eye": {
           "x": 1.5,
           "y": 1.5,
           "z": 1.5
          }
         },
         "xaxis": {
          "title": {
           "text": "X"
          }
         },
         "yaxis": {
          "title": {
           "text": "Y"
          }
         },
         "zaxis": {
          "title": {
           "text": "Laplacian Value"
          }
         }
        },
        "template": {
         "data": {
          "bar": [
           {
            "error_x": {
             "color": "#2a3f5f"
            },
            "error_y": {
             "color": "#2a3f5f"
            },
            "marker": {
             "line": {
              "color": "white",
              "width": 0.5
             },
             "pattern": {
              "fillmode": "overlay",
              "size": 10,
              "solidity": 0.2
             }
            },
            "type": "bar"
           }
          ],
          "barpolar": [
           {
            "marker": {
             "line": {
              "color": "white",
              "width": 0.5
             },
             "pattern": {
              "fillmode": "overlay",
              "size": 10,
              "solidity": 0.2
             }
            },
            "type": "barpolar"
           }
          ],
          "carpet": [
           {
            "aaxis": {
             "endlinecolor": "#2a3f5f",
             "gridcolor": "#C8D4E3",
             "linecolor": "#C8D4E3",
             "minorgridcolor": "#C8D4E3",
             "startlinecolor": "#2a3f5f"
            },
            "baxis": {
             "endlinecolor": "#2a3f5f",
             "gridcolor": "#C8D4E3",
             "linecolor": "#C8D4E3",
             "minorgridcolor": "#C8D4E3",
             "startlinecolor": "#2a3f5f"
            },
            "type": "carpet"
           }
          ],
          "choropleth": [
           {
            "colorbar": {
             "outlinewidth": 0,
             "ticks": ""
            },
            "type": "choropleth"
           }
          ],
          "contour": [
           {
            "colorbar": {
             "outlinewidth": 0,
             "ticks": ""
            },
            "colorscale": [
             [
              0,
              "#0d0887"
             ],
             [
              0.1111111111111111,
              "#46039f"
             ],
             [
              0.2222222222222222,
              "#7201a8"
             ],
             [
              0.3333333333333333,
              "#9c179e"
             ],
             [
              0.4444444444444444,
              "#bd3786"
             ],
             [
              0.5555555555555556,
              "#d8576b"
             ],
             [
              0.6666666666666666,
              "#ed7953"
             ],
             [
              0.7777777777777778,
              "#fb9f3a"
             ],
             [
              0.8888888888888888,
              "#fdca26"
             ],
             [
              1,
              "#f0f921"
             ]
            ],
            "type": "contour"
           }
          ],
          "contourcarpet": [
           {
            "colorbar": {
             "outlinewidth": 0,
             "ticks": ""
            },
            "type": "contourcarpet"
           }
          ],
          "heatmap": [
           {
            "colorbar": {
             "outlinewidth": 0,
             "ticks": ""
            },
            "colorscale": [
             [
              0,
              "#0d0887"
             ],
             [
              0.1111111111111111,
              "#46039f"
             ],
             [
              0.2222222222222222,
              "#7201a8"
             ],
             [
              0.3333333333333333,
              "#9c179e"
             ],
             [
              0.4444444444444444,
              "#bd3786"
             ],
             [
              0.5555555555555556,
              "#d8576b"
             ],
             [
              0.6666666666666666,
              "#ed7953"
             ],
             [
              0.7777777777777778,
              "#fb9f3a"
             ],
             [
              0.8888888888888888,
              "#fdca26"
             ],
             [
              1,
              "#f0f921"
             ]
            ],
            "type": "heatmap"
           }
          ],
          "heatmapgl": [
           {
            "colorbar": {
             "outlinewidth": 0,
             "ticks": ""
            },
            "colorscale": [
             [
              0,
              "#0d0887"
             ],
             [
              0.1111111111111111,
              "#46039f"
             ],
             [
              0.2222222222222222,
              "#7201a8"
             ],
             [
              0.3333333333333333,
              "#9c179e"
             ],
             [
              0.4444444444444444,
              "#bd3786"
             ],
             [
              0.5555555555555556,
              "#d8576b"
             ],
             [
              0.6666666666666666,
              "#ed7953"
             ],
             [
              0.7777777777777778,
              "#fb9f3a"
             ],
             [
              0.8888888888888888,
              "#fdca26"
             ],
             [
              1,
              "#f0f921"
             ]
            ],
            "type": "heatmapgl"
           }
          ],
          "histogram": [
           {
            "marker": {
             "pattern": {
              "fillmode": "overlay",
              "size": 10,
              "solidity": 0.2
             }
            },
            "type": "histogram"
           }
          ],
          "histogram2d": [
           {
            "colorbar": {
             "outlinewidth": 0,
             "ticks": ""
            },
            "colorscale": [
             [
              0,
              "#0d0887"
             ],
             [
              0.1111111111111111,
              "#46039f"
             ],
             [
              0.2222222222222222,
              "#7201a8"
             ],
             [
              0.3333333333333333,
              "#9c179e"
             ],
             [
              0.4444444444444444,
              "#bd3786"
             ],
             [
              0.5555555555555556,
              "#d8576b"
             ],
             [
              0.6666666666666666,
              "#ed7953"
             ],
             [
              0.7777777777777778,
              "#fb9f3a"
             ],
             [
              0.8888888888888888,
              "#fdca26"
             ],
             [
              1,
              "#f0f921"
             ]
            ],
            "type": "histogram2d"
           }
          ],
          "histogram2dcontour": [
           {
            "colorbar": {
             "outlinewidth": 0,
             "ticks": ""
            },
            "colorscale": [
             [
              0,
              "#0d0887"
             ],
             [
              0.1111111111111111,
              "#46039f"
             ],
             [
              0.2222222222222222,
              "#7201a8"
             ],
             [
              0.3333333333333333,
              "#9c179e"
             ],
             [
              0.4444444444444444,
              "#bd3786"
             ],
             [
              0.5555555555555556,
              "#d8576b"
             ],
             [
              0.6666666666666666,
              "#ed7953"
             ],
             [
              0.7777777777777778,
              "#fb9f3a"
             ],
             [
              0.8888888888888888,
              "#fdca26"
             ],
             [
              1,
              "#f0f921"
             ]
            ],
            "type": "histogram2dcontour"
           }
          ],
          "mesh3d": [
           {
            "colorbar": {
             "outlinewidth": 0,
             "ticks": ""
            },
            "type": "mesh3d"
           }
          ],
          "parcoords": [
           {
            "line": {
             "colorbar": {
              "outlinewidth": 0,
              "ticks": ""
             }
            },
            "type": "parcoords"
           }
          ],
          "pie": [
           {
            "automargin": true,
            "type": "pie"
           }
          ],
          "scatter": [
           {
            "marker": {
             "colorbar": {
              "outlinewidth": 0,
              "ticks": ""
             }
            },
            "type": "scatter"
           }
          ],
          "scatter3d": [
           {
            "line": {
             "colorbar": {
              "outlinewidth": 0,
              "ticks": ""
             }
            },
            "marker": {
             "colorbar": {
              "outlinewidth": 0,
              "ticks": ""
             }
            },
            "type": "scatter3d"
           }
          ],
          "scattercarpet": [
           {
            "marker": {
             "colorbar": {
              "outlinewidth": 0,
              "ticks": ""
             }
            },
            "type": "scattercarpet"
           }
          ],
          "scattergeo": [
           {
            "marker": {
             "colorbar": {
              "outlinewidth": 0,
              "ticks": ""
             }
            },
            "type": "scattergeo"
           }
          ],
          "scattergl": [
           {
            "marker": {
             "colorbar": {
              "outlinewidth": 0,
              "ticks": ""
             }
            },
            "type": "scattergl"
           }
          ],
          "scattermapbox": [
           {
            "marker": {
             "colorbar": {
              "outlinewidth": 0,
              "ticks": ""
             }
            },
            "type": "scattermapbox"
           }
          ],
          "scatterpolar": [
           {
            "marker": {
             "colorbar": {
              "outlinewidth": 0,
              "ticks": ""
             }
            },
            "type": "scatterpolar"
           }
          ],
          "scatterpolargl": [
           {
            "marker": {
             "colorbar": {
              "outlinewidth": 0,
              "ticks": ""
             }
            },
            "type": "scatterpolargl"
           }
          ],
          "scatterternary": [
           {
            "marker": {
             "colorbar": {
              "outlinewidth": 0,
              "ticks": ""
             }
            },
            "type": "scatterternary"
           }
          ],
          "surface": [
           {
            "colorbar": {
             "outlinewidth": 0,
             "ticks": ""
            },
            "colorscale": [
             [
              0,
              "#0d0887"
             ],
             [
              0.1111111111111111,
              "#46039f"
             ],
             [
              0.2222222222222222,
              "#7201a8"
             ],
             [
              0.3333333333333333,
              "#9c179e"
             ],
             [
              0.4444444444444444,
              "#bd3786"
             ],
             [
              0.5555555555555556,
              "#d8576b"
             ],
             [
              0.6666666666666666,
              "#ed7953"
             ],
             [
              0.7777777777777778,
              "#fb9f3a"
             ],
             [
              0.8888888888888888,
              "#fdca26"
             ],
             [
              1,
              "#f0f921"
             ]
            ],
            "type": "surface"
           }
          ],
          "table": [
           {
            "cells": {
             "fill": {
              "color": "#EBF0F8"
             },
             "line": {
              "color": "white"
             }
            },
            "header": {
             "fill": {
              "color": "#C8D4E3"
             },
             "line": {
              "color": "white"
             }
            },
            "type": "table"
           }
          ]
         },
         "layout": {
          "annotationdefaults": {
           "arrowcolor": "#2a3f5f",
           "arrowhead": 0,
           "arrowwidth": 1
          },
          "autotypenumbers": "strict",
          "coloraxis": {
           "colorbar": {
            "outlinewidth": 0,
            "ticks": ""
           }
          },
          "colorscale": {
           "diverging": [
            [
             0,
             "#8e0152"
            ],
            [
             0.1,
             "#c51b7d"
            ],
            [
             0.2,
             "#de77ae"
            ],
            [
             0.3,
             "#f1b6da"
            ],
            [
             0.4,
             "#fde0ef"
            ],
            [
             0.5,
             "#f7f7f7"
            ],
            [
             0.6,
             "#e6f5d0"
            ],
            [
             0.7,
             "#b8e186"
            ],
            [
             0.8,
             "#7fbc41"
            ],
            [
             0.9,
             "#4d9221"
            ],
            [
             1,
             "#276419"
            ]
           ],
           "sequential": [
            [
             0,
             "#0d0887"
            ],
            [
             0.1111111111111111,
             "#46039f"
            ],
            [
             0.2222222222222222,
             "#7201a8"
            ],
            [
             0.3333333333333333,
             "#9c179e"
            ],
            [
             0.4444444444444444,
             "#bd3786"
            ],
            [
             0.5555555555555556,
             "#d8576b"
            ],
            [
             0.6666666666666666,
             "#ed7953"
            ],
            [
             0.7777777777777778,
             "#fb9f3a"
            ],
            [
             0.8888888888888888,
             "#fdca26"
            ],
            [
             1,
             "#f0f921"
            ]
           ],
           "sequentialminus": [
            [
             0,
             "#0d0887"
            ],
            [
             0.1111111111111111,
             "#46039f"
            ],
            [
             0.2222222222222222,
             "#7201a8"
            ],
            [
             0.3333333333333333,
             "#9c179e"
            ],
            [
             0.4444444444444444,
             "#bd3786"
            ],
            [
             0.5555555555555556,
             "#d8576b"
            ],
            [
             0.6666666666666666,
             "#ed7953"
            ],
            [
             0.7777777777777778,
             "#fb9f3a"
            ],
            [
             0.8888888888888888,
             "#fdca26"
            ],
            [
             1,
             "#f0f921"
            ]
           ]
          },
          "colorway": [
           "#636efa",
           "#EF553B",
           "#00cc96",
           "#ab63fa",
           "#FFA15A",
           "#19d3f3",
           "#FF6692",
           "#B6E880",
           "#FF97FF",
           "#FECB52"
          ],
          "font": {
           "color": "#2a3f5f"
          },
          "geo": {
           "bgcolor": "white",
           "lakecolor": "white",
           "landcolor": "white",
           "showlakes": true,
           "showland": true,
           "subunitcolor": "#C8D4E3"
          },
          "hoverlabel": {
           "align": "left"
          },
          "hovermode": "closest",
          "mapbox": {
           "style": "light"
          },
          "paper_bgcolor": "white",
          "plot_bgcolor": "white",
          "polar": {
           "angularaxis": {
            "gridcolor": "#EBF0F8",
            "linecolor": "#EBF0F8",
            "ticks": ""
           },
           "bgcolor": "white",
           "radialaxis": {
            "gridcolor": "#EBF0F8",
            "linecolor": "#EBF0F8",
            "ticks": ""
           }
          },
          "scene": {
           "xaxis": {
            "backgroundcolor": "white",
            "gridcolor": "#DFE8F3",
            "gridwidth": 2,
            "linecolor": "#EBF0F8",
            "showbackground": true,
            "ticks": "",
            "zerolinecolor": "#EBF0F8"
           },
           "yaxis": {
            "backgroundcolor": "white",
            "gridcolor": "#DFE8F3",
            "gridwidth": 2,
            "linecolor": "#EBF0F8",
            "showbackground": true,
            "ticks": "",
            "zerolinecolor": "#EBF0F8"
           },
           "zaxis": {
            "backgroundcolor": "white",
            "gridcolor": "#DFE8F3",
            "gridwidth": 2,
            "linecolor": "#EBF0F8",
            "showbackground": true,
            "ticks": "",
            "zerolinecolor": "#EBF0F8"
           }
          },
          "shapedefaults": {
           "line": {
            "color": "#2a3f5f"
           }
          },
          "ternary": {
           "aaxis": {
            "gridcolor": "#DFE8F3",
            "linecolor": "#A2B1C6",
            "ticks": ""
           },
           "baxis": {
            "gridcolor": "#DFE8F3",
            "linecolor": "#A2B1C6",
            "ticks": ""
           },
           "bgcolor": "white",
           "caxis": {
            "gridcolor": "#DFE8F3",
            "linecolor": "#A2B1C6",
            "ticks": ""
           }
          },
          "title": {
           "x": 0.05
          },
          "xaxis": {
           "automargin": true,
           "gridcolor": "#EBF0F8",
           "linecolor": "#EBF0F8",
           "ticks": "",
           "title": {
            "standoff": 15
           },
           "zerolinecolor": "#EBF0F8",
           "zerolinewidth": 2
          },
          "yaxis": {
           "automargin": true,
           "gridcolor": "#EBF0F8",
           "linecolor": "#EBF0F8",
           "ticks": "",
           "title": {
            "standoff": 15
           },
           "zerolinecolor": "#EBF0F8",
           "zerolinewidth": 2
          }
         }
        },
        "title": {
         "text": "3D Surface of Laplacian (Linear Grid)"
        }
       }
      }
     },
     "metadata": {},
     "output_type": "display_data"
    }
   ],
   "source": [
    "def finite_difference_2d(u, hx, hy):\n",
    "    # Compute the gradient\n",
    "    grad_u = np.gradient(u, hx, hy)\n",
    "    \n",
    "    # Second derivative in x direction\n",
    "    d2u_dx2 = np.gradient(grad_u[0], hx, axis=0)  # Gradient in x direction\n",
    "    # Second derivative in y direction\n",
    "    d2u_dy2 = np.gradient(grad_u[1], hy, axis=1)  # Gradient in y direction\n",
    "    \n",
    "    return d2u_dx2, d2u_dy2\n",
    "\n",
    "def compute_laplacian(u, hx, hy):\n",
    "    # Compute the second derivatives\n",
    "    d2u_dx2, d2u_dy2 = finite_difference_2d(u, hx, hy)\n",
    "    # Compute the Laplacian\n",
    "    laplacian = d2u_dx2 + d2u_dy2\n",
    "    return laplacian\n",
    "\n",
    "\n",
    "# Example usage\n",
    "hx = 1 / (Nx - 1)\n",
    "hy = 1 / (Ny - 1)\n",
    "\n",
    "# Test 1: Zero grid\n",
    "u1 = np.zeros((Nx, Ny))  # Example grid\n",
    "laplacian_1 = compute_laplacian(u1, hx, hy)\n",
    "\n",
    "# Test 2: Sinusoidal grid\n",
    "u2 = np.sin(np.pi * np.linspace(0, 1, Nx)[:, None]) * np.sin(np.pi * np.linspace(0, 1, Ny))  # 2D sinusoidal function\n",
    "laplacian_2 = compute_laplacian(u2, hx, hy)\n",
    "\n",
    "# Test 3: Linear grid\n",
    "u3 = np.linspace(0, 1, Nx)[:, None] * np.linspace(0, 1, Ny)  # 2D linear function\n",
    "laplacian_3 = compute_laplacian(u3, hx, hy)\n",
    "\n",
    "# Function to create 3D surface plots\n",
    "def plot_3d_surface(X, Y, Z, title):\n",
    "    fig = go.Figure(data=[go.Surface(z=Z, x=X, y=Y, colorscale='Viridis')])\n",
    "    fig.update_layout(\n",
    "        title=title,\n",
    "        scene=dict(\n",
    "            xaxis_title='X',\n",
    "            yaxis_title='Y',\n",
    "            zaxis_title='Laplacian Value',\n",
    "            camera=dict(eye=dict(x=1.5, y=1.5, z=1.5))\n",
    "        ),\n",
    "        template='plotly_white'\n",
    "    )\n",
    "    fig.show()\n",
    "\n",
    "# Create meshgrid for plotting\n",
    "X, Y = np.meshgrid(np.linspace(0, 1, Nx), np.linspace(0, 1, Ny))\n",
    "\n",
    "# Plot results for Laplacian of Test 1\n",
    "plot_3d_surface(X, Y, laplacian_1, '3D Surface of Laplacian (Zero Grid)')\n",
    "\n",
    "# Plot results for Laplacian of Test 2\n",
    "plot_3d_surface(X, Y, laplacian_2, '3D Surface of Laplacian (Sinusoidal Grid)')\n",
    "\n",
    "# Plot results for Laplacian of Test 3\n",
    "plot_3d_surface(X, Y, laplacian_3, '3D Surface of Laplacian (Linear Grid)')"
   ]
  },
  {
   "cell_type": "markdown",
   "metadata": {},
   "source": [
    "4. Write the discrete Laplacian in a matrix form, and express the discrete Poisson equation as a linear system $\\mathbb{A} \\mathbf{u}=\\mathbf{f}$ of size $\\left(N_x-1\\right) \\times\\left(N_y-1\\right)$. To do so you need to order the unknowns to get a global unknown vector. For example, you can use the column ordering $\\mathbf{u}=\\mathbf{u}_j, j=\\left\\{1, N_y-1\\right\\}$, where each $\\mathbf{u}_j$ is a vector of size $\\left(N_x-1\\right)$ such that\n",
    "\n",
    "$$\n",
    "\\mathbf{u}_j=\\left(u_{0 j}, u_{1 j}, \\cdots, u_{N_x-1, j}\\right)^T\n",
    "$$\n",
    "\n",
    "\n"
   ]
  },
  {
   "cell_type": "code",
   "execution_count": 7,
   "metadata": {},
   "outputs": [
    {
     "name": "stdout",
     "output_type": "stream",
     "text": [
      "Numerical Laplacian:\n",
      "[[ 0.00000000e+00  8.49074355e-01  2.99900609e+00  5.44381826e+00\n",
      "   7.03955607e+00  7.03955607e+00  5.44381826e+00  2.99900609e+00\n",
      "   8.49074355e-01  1.08858929e-31]\n",
      " [ 8.49074355e-01  1.89061824e+00  3.67882558e+00  5.08209387e+00\n",
      "   5.99801219e+00  5.99801219e+00  5.08209387e+00  3.67882558e+00\n",
      "   1.89061824e+00  8.49074355e-01]\n",
      " [ 2.99900609e+00  3.67882558e+00  2.40118287e+00 -1.27764272e+00\n",
      "  -3.67882558e+00 -3.67882558e+00 -1.27764272e+00  2.40118287e+00\n",
      "   3.67882558e+00  2.99900609e+00]\n",
      " [ 5.44381826e+00  5.08209387e+00 -1.27764272e+00 -1.25502183e+01\n",
      "  -1.99078695e+01 -1.99078695e+01 -1.25502183e+01 -1.27764272e+00\n",
      "   5.08209387e+00  5.44381826e+00]\n",
      " [ 7.03955607e+00  5.99801219e+00 -3.67882558e+00 -1.99078695e+01\n",
      "  -3.05006256e+01 -3.05006256e+01 -1.99078695e+01 -3.67882558e+00\n",
      "   5.99801219e+00  7.03955607e+00]\n",
      " [ 7.03955607e+00  5.99801219e+00 -3.67882558e+00 -1.99078695e+01\n",
      "  -3.05006256e+01 -3.05006256e+01 -1.99078695e+01 -3.67882558e+00\n",
      "   5.99801219e+00  7.03955607e+00]\n",
      " [ 5.44381826e+00  5.08209387e+00 -1.27764272e+00 -1.25502183e+01\n",
      "  -1.99078695e+01 -1.99078695e+01 -1.25502183e+01 -1.27764272e+00\n",
      "   5.08209387e+00  5.44381826e+00]\n",
      " [ 2.99900609e+00  3.67882558e+00  2.40118287e+00 -1.27764272e+00\n",
      "  -3.67882558e+00 -3.67882558e+00 -1.27764272e+00  2.40118287e+00\n",
      "   3.67882558e+00  2.99900609e+00]\n",
      " [ 8.49074355e-01  1.89061824e+00  3.67882558e+00  5.08209387e+00\n",
      "   5.99801219e+00  5.99801219e+00  5.08209387e+00  3.67882558e+00\n",
      "   1.89061824e+00  8.49074355e-01]\n",
      " [ 1.08858929e-31  8.49074355e-01  2.99900609e+00  5.44381826e+00\n",
      "   7.03955607e+00  7.03955607e+00  5.44381826e+00  2.99900609e+00\n",
      "   8.49074355e-01  2.17717858e-31]]\n",
      "\n",
      "Exact Laplacian:\n",
      "[[-39.4784176  -34.86032002 -23.16688644  -9.8696044   -1.19041995\n",
      "   -1.19041995  -9.8696044  -23.16688644 -34.86032002 -39.4784176 ]\n",
      " [-34.86032002 -30.24222243 -18.54878885  -5.25150681   3.42767764\n",
      "    3.42767764  -5.25150681 -18.54878885 -30.24222243 -34.86032002]\n",
      " [-23.16688644 -18.54878885  -6.85535527   6.44192676  15.12111121\n",
      "   15.12111121   6.44192676  -6.85535527 -18.54878885 -23.16688644]\n",
      " [ -9.8696044   -5.25150681   6.44192676  19.7392088   28.41839325\n",
      "   28.41839325  19.7392088    6.44192676  -5.25150681  -9.8696044 ]\n",
      " [ -1.19041995   3.42767764  15.12111121  28.41839325  37.0975777\n",
      "   37.0975777   28.41839325  15.12111121   3.42767764  -1.19041995]\n",
      " [ -1.19041995   3.42767764  15.12111121  28.41839325  37.0975777\n",
      "   37.0975777   28.41839325  15.12111121   3.42767764  -1.19041995]\n",
      " [ -9.8696044   -5.25150681   6.44192676  19.7392088   28.41839325\n",
      "   28.41839325  19.7392088    6.44192676  -5.25150681  -9.8696044 ]\n",
      " [-23.16688644 -18.54878885  -6.85535527   6.44192676  15.12111121\n",
      "   15.12111121   6.44192676  -6.85535527 -18.54878885 -23.16688644]\n",
      " [-34.86032002 -30.24222243 -18.54878885  -5.25150681   3.42767764\n",
      "    3.42767764  -5.25150681 -18.54878885 -30.24222243 -34.86032002]\n",
      " [-39.4784176  -34.86032002 -23.16688644  -9.8696044   -1.19041995\n",
      "   -1.19041995  -9.8696044  -23.16688644 -34.86032002 -39.4784176 ]]\n",
      "\n",
      "Maximum absolute error: 67.59820326732364\n"
     ]
    }
   ],
   "source": [
    "# Define the function u(x, y) = sin^2(pi x) * sin^2(pi y)\n",
    "u = np.sin(np.pi * X)**2 * np.sin(np.pi * Y)**2  # Example function\n",
    "\n",
    "# Compute the first derivatives using np.gradient\n",
    "du_dx = np.gradient(u, hx, axis=0)  # Gradient in x direction\n",
    "du_dy = np.gradient(u, hy, axis=1)  # Gradient in y direction\n",
    "\n",
    "# Compute the second derivatives\n",
    "d2u_dx2 = np.gradient(du_dx, hx, axis=0)  # Second derivative in x direction\n",
    "d2u_dy2 = np.gradient(du_dy, hy, axis=1)  # Second derivative in y direction\n",
    "\n",
    "# Compute the Laplacian\n",
    "laplacian = d2u_dx2 + d2u_dy2\n",
    "\n",
    "# Compute the exact Laplacian for u(x, y) = sin^2(pi x) * sin^2(pi y)\n",
    "exact_laplacian = 2 * (2 * np.pi**2) * np.sin(np.pi * X)**2 * np.sin(np.pi * Y)**2 - 4 * np.pi**2 * np.cos(np.pi * X)**2 * np.cos(np.pi * Y)**2\n",
    "\n",
    "# Compute the error\n",
    "error = np.max(np.abs(laplacian - exact_laplacian))\n",
    "\n",
    "# Print the results\n",
    "print(\"Numerical Laplacian:\")\n",
    "print(laplacian)\n",
    "\n",
    "print(\"\\nExact Laplacian:\")\n",
    "print(exact_laplacian)\n",
    "\n",
    "# Print the maximum absolute error\n",
    "print(f\"\\nMaximum absolute error: {error}\")"
   ]
  },
  {
   "cell_type": "markdown",
   "metadata": {},
   "source": [
    "For example, you can use the column ordering $\\mathbf{u}=\\mathbf{u}_j, j=\\left\\{1, N_y-1\\right\\}$, where each $\\mathbf{u}_j$ is a vector of size $\\left(N_x-1\\right)$ such that\n",
    "\n",
    "$$\n",
    "\\mathbf{u}_j=\\left(u_{0 j}, u_{1 j}, \\cdots, u_{N_x-1, j}\\right)^T\n",
    "$$\n",
    "\n",
    "\n",
    "Up to now we have not considered the boundary points. In any PDE solver we need to specify boundary conditions. Let us assume we use a homogeneous Dirichlet boundary condition everywhere, that is\n",
    "\n",
    "$$\n",
    "u(x, 1)=u(x, 0)=u(1, y)=u(0, y)=0, \\quad(x, y) \\in \\partial \\Omega .\n",
    "$$\n",
    "\n",
    "\n",
    "Show that the boundary condition can be incorporated into the linear system as\n",
    "\n",
    "$$\n",
    "\\mathbb{A} \\mathbf{u}=\\mathbf{b}+\\mathbf{f}\n",
    "$$\n",
    "\n",
    "where you will specify the vector $\\mathbf{b}$, of size $\\left(N_y-1\\right)^2$. How would you extend the procedure for a non-zero boundary condition?"
   ]
  },
  {
   "cell_type": "code",
   "execution_count": 8,
   "metadata": {},
   "outputs": [
    {
     "name": "stdout",
     "output_type": "stream",
     "text": [
      "Sparse Matrix A:\n",
      " [[-4.  1.  0. ...  0.  0.  0.]\n",
      " [ 1. -4.  1. ...  0.  0.  0.]\n",
      " [ 0.  1. -4. ...  0.  0.  0.]\n",
      " ...\n",
      " [ 0.  0.  0. ... -4.  1.  0.]\n",
      " [ 0.  0.  0. ...  1. -4.  1.]\n",
      " [ 0.  0.  0. ...  0.  1. -4.]]\n",
      "Right-hand side vector f:\n",
      " [0. 0. 0. 0. 0. 0. 0. 0. 0. 0. 0. 0. 0. 0. 0. 0. 0. 0. 0. 0. 0. 0. 0. 0.\n",
      " 0. 0. 0. 0. 0. 0. 0. 0. 0. 0. 0. 0. 0. 0. 0. 0. 0. 0. 0. 0. 0. 0. 0. 0.\n",
      " 0. 0. 0. 0. 0. 0. 0. 0. 0. 0. 0. 0. 0. 0. 0. 0. 0. 0. 0. 0. 0. 0. 0. 0.\n",
      " 0. 0. 0. 0. 0. 0. 0. 0. 0.]\n",
      "Boundary condition vector b:\n",
      " [0. 0. 0. 0. 0. 0. 0. 0. 0. 0. 0. 0. 0. 0. 0. 0. 0. 0. 0. 0. 0. 0. 0. 0.\n",
      " 0. 0. 0. 0. 0. 0. 0. 0. 0. 0. 0. 0. 0. 0. 0. 0. 0. 0. 0. 0. 0. 0. 0. 0.\n",
      " 0. 0. 0. 0. 0. 0. 0. 0. 0. 0. 0. 0. 0. 0. 0. 0. 0. 0. 0. 0. 0. 0. 0. 0.\n",
      " 0. 0. 0. 0. 0. 0. 0. 0. 0.]\n"
     ]
    }
   ],
   "source": [
    "from scipy.sparse import diags\n",
    "\n",
    "def create_poisson_system(Nx, Ny):\n",
    "    # Step 1: Generate the grid\n",
    "    hx = 1 / (Nx - 1)  # Grid spacing in the x direction\n",
    "    hy = 1 / (Ny - 1)  # Grid spacing in the y direction\n",
    "\n",
    "    # Step 2: Define the discrete Laplacian matrix A\n",
    "    diagonals = [-4 * np.ones((Nx - 1) * (Ny - 1)), \n",
    "                 np.ones((Nx - 1) * (Ny - 1) - 1), \n",
    "                 np.ones((Nx - 1) * (Ny - 1) - 1), \n",
    "                 np.ones((Nx - 1) * (Ny - 1) - (Nx - 1)), \n",
    "                 np.ones((Nx - 1) * (Ny - 1) - (Nx - 1))]\n",
    "    \n",
    "    # Create the sparse matrix A\n",
    "    A = diags(diagonals, [0, -1, 1, -(Nx - 1), (Nx - 1)], \n",
    "              shape=((Nx - 1) * (Ny - 1), (Nx - 1) * (Ny - 1))).tocsc() #Convert this array/matrix to Compressed Sparse Column format\n",
    "\n",
    "\n",
    "\n",
    "    # Step 3: Define the right-hand side vector f\n",
    "    f = np.zeros((Nx - 1) * (Ny - 1))  # Initialize f\n",
    "\n",
    "    # Step 4: Define the boundary condition vector b\n",
    "    b = np.zeros((Ny - 1) ** 2)  # Initialize b for the boundary conditions\n",
    "\n",
    "    return A, f, b\n",
    "\n",
    "# Example usage\n",
    "Nx, Ny = 10, 10  # Define grid size\n",
    "A, f, b = create_poisson_system(Nx, Ny)\n",
    "\n",
    "# Display the results\n",
    "print(\"Sparse Matrix A:\\n\", A.toarray())\n",
    "print(\"Right-hand side vector f:\\n\", f)\n",
    "print(\"Boundary condition vector b:\\n\", b)"
   ]
  },
  {
   "cell_type": "markdown",
   "metadata": {},
   "source": [
    "## 1.2 Validation of the implementation\n",
    "\n",
    "To validate the implementation we need to define an exact solution. To do so let us take\n",
    "\n",
    "$$\n",
    "u_{\\mathrm{ex}}(x, y)=\\sin ^2(\\pi x) \\sin ^2(\\pi y)\n",
    "$$\n",
    "\n",
    "\n",
    "Find by hand the corresponding right-hand-side $f(x, y)$ for this solution. Is the exact solution consistent with the boundary conditions?\n",
    "\n"
   ]
  },
  {
   "cell_type": "code",
   "execution_count": 9,
   "metadata": {},
   "outputs": [
    {
     "name": "stdout",
     "output_type": "stream",
     "text": [
      "Boundary conditions satisfied: True\n"
     ]
    }
   ],
   "source": [
    "# Define the exact solution\n",
    "def exact_solution(X, Y):\n",
    "    return np.sin(np.pi * X) ** 2 * np.sin(np.pi * Y) ** 2\n",
    "\n",
    "# Compute the right-hand side f(x, y) for the exact solution\n",
    "def compute_rhs(X, Y):\n",
    "    return -np.pi ** 2 * (2 * np.sin(np.pi * X) ** 2 * np.sin(np.pi * Y) ** 2 +\n",
    "                          2 * np.sin(np.pi * X) ** 2 * np.cos(np.pi * Y) ** 2 +\n",
    "                          2 * np.sin(np.pi * Y) ** 2 * np.cos(np.pi * X) ** 2)\n",
    "\n",
    "# Check boundary conditions\n",
    "def check_boundary_conditions(Nx, Ny):\n",
    "    x = np.linspace(0, 1, Nx)\n",
    "    y = np.linspace(0, 1, Ny)\n",
    "    X, Y = np.meshgrid(x, y)\n",
    "    \n",
    "    # Evaluate the exact solution at the boundaries\n",
    "    boundary_values = exact_solution(X, Y)\n",
    "    \n",
    "    # Check if the boundary values are zero\n",
    "    return np.allclose(boundary_values[0, :], 0) and np.allclose(boundary_values[-1, :], 0) and \\\n",
    "           np.allclose(boundary_values[:, 0], 0) and np.allclose(boundary_values[:, -1], 0)\n",
    "\n",
    "# Example usage\n",
    "Nx, Ny = 10, 10  # Define grid size\n",
    "b_conditions = check_boundary_conditions(Nx, Ny)\n",
    "print(f\"Boundary conditions satisfied: {b_conditions}\")"
   ]
  },
  {
   "cell_type": "markdown",
   "metadata": {},
   "source": [
    "Given a number of grid points (start with a small number), call a linear system solver and compute the relative error in the maximum norm in the computational domain $\\Omega$. Show a convergence plot in log-log scale with respect to the step size. What is the expected convergence rate? Do you observe any difficulty in terms of computational time?"
   ]
  },
  {
   "cell_type": "code",
   "execution_count": 10,
   "metadata": {},
   "outputs": [
    {
     "data": {
      "application/vnd.plotly.v1+json": {
       "config": {
        "plotlyServerURL": "https://plot.ly"
       },
       "data": [
        {
         "line": {
          "width": 2
         },
         "marker": {
          "color": "blue",
          "size": 8
         },
         "mode": "lines+markers",
         "name": "Max Error",
         "type": "scatter",
         "x": [
          10,
          20,
          40,
          80
         ],
         "y": [
          0.9406018657828262,
          0.9864078069139405,
          0.9967599368968444,
          0.9992095534904878
         ]
        }
       ],
       "layout": {
        "showlegend": true,
        "template": {
         "data": {
          "bar": [
           {
            "error_x": {
             "color": "#2a3f5f"
            },
            "error_y": {
             "color": "#2a3f5f"
            },
            "marker": {
             "line": {
              "color": "white",
              "width": 0.5
             },
             "pattern": {
              "fillmode": "overlay",
              "size": 10,
              "solidity": 0.2
             }
            },
            "type": "bar"
           }
          ],
          "barpolar": [
           {
            "marker": {
             "line": {
              "color": "white",
              "width": 0.5
             },
             "pattern": {
              "fillmode": "overlay",
              "size": 10,
              "solidity": 0.2
             }
            },
            "type": "barpolar"
           }
          ],
          "carpet": [
           {
            "aaxis": {
             "endlinecolor": "#2a3f5f",
             "gridcolor": "#C8D4E3",
             "linecolor": "#C8D4E3",
             "minorgridcolor": "#C8D4E3",
             "startlinecolor": "#2a3f5f"
            },
            "baxis": {
             "endlinecolor": "#2a3f5f",
             "gridcolor": "#C8D4E3",
             "linecolor": "#C8D4E3",
             "minorgridcolor": "#C8D4E3",
             "startlinecolor": "#2a3f5f"
            },
            "type": "carpet"
           }
          ],
          "choropleth": [
           {
            "colorbar": {
             "outlinewidth": 0,
             "ticks": ""
            },
            "type": "choropleth"
           }
          ],
          "contour": [
           {
            "colorbar": {
             "outlinewidth": 0,
             "ticks": ""
            },
            "colorscale": [
             [
              0,
              "#0d0887"
             ],
             [
              0.1111111111111111,
              "#46039f"
             ],
             [
              0.2222222222222222,
              "#7201a8"
             ],
             [
              0.3333333333333333,
              "#9c179e"
             ],
             [
              0.4444444444444444,
              "#bd3786"
             ],
             [
              0.5555555555555556,
              "#d8576b"
             ],
             [
              0.6666666666666666,
              "#ed7953"
             ],
             [
              0.7777777777777778,
              "#fb9f3a"
             ],
             [
              0.8888888888888888,
              "#fdca26"
             ],
             [
              1,
              "#f0f921"
             ]
            ],
            "type": "contour"
           }
          ],
          "contourcarpet": [
           {
            "colorbar": {
             "outlinewidth": 0,
             "ticks": ""
            },
            "type": "contourcarpet"
           }
          ],
          "heatmap": [
           {
            "colorbar": {
             "outlinewidth": 0,
             "ticks": ""
            },
            "colorscale": [
             [
              0,
              "#0d0887"
             ],
             [
              0.1111111111111111,
              "#46039f"
             ],
             [
              0.2222222222222222,
              "#7201a8"
             ],
             [
              0.3333333333333333,
              "#9c179e"
             ],
             [
              0.4444444444444444,
              "#bd3786"
             ],
             [
              0.5555555555555556,
              "#d8576b"
             ],
             [
              0.6666666666666666,
              "#ed7953"
             ],
             [
              0.7777777777777778,
              "#fb9f3a"
             ],
             [
              0.8888888888888888,
              "#fdca26"
             ],
             [
              1,
              "#f0f921"
             ]
            ],
            "type": "heatmap"
           }
          ],
          "heatmapgl": [
           {
            "colorbar": {
             "outlinewidth": 0,
             "ticks": ""
            },
            "colorscale": [
             [
              0,
              "#0d0887"
             ],
             [
              0.1111111111111111,
              "#46039f"
             ],
             [
              0.2222222222222222,
              "#7201a8"
             ],
             [
              0.3333333333333333,
              "#9c179e"
             ],
             [
              0.4444444444444444,
              "#bd3786"
             ],
             [
              0.5555555555555556,
              "#d8576b"
             ],
             [
              0.6666666666666666,
              "#ed7953"
             ],
             [
              0.7777777777777778,
              "#fb9f3a"
             ],
             [
              0.8888888888888888,
              "#fdca26"
             ],
             [
              1,
              "#f0f921"
             ]
            ],
            "type": "heatmapgl"
           }
          ],
          "histogram": [
           {
            "marker": {
             "pattern": {
              "fillmode": "overlay",
              "size": 10,
              "solidity": 0.2
             }
            },
            "type": "histogram"
           }
          ],
          "histogram2d": [
           {
            "colorbar": {
             "outlinewidth": 0,
             "ticks": ""
            },
            "colorscale": [
             [
              0,
              "#0d0887"
             ],
             [
              0.1111111111111111,
              "#46039f"
             ],
             [
              0.2222222222222222,
              "#7201a8"
             ],
             [
              0.3333333333333333,
              "#9c179e"
             ],
             [
              0.4444444444444444,
              "#bd3786"
             ],
             [
              0.5555555555555556,
              "#d8576b"
             ],
             [
              0.6666666666666666,
              "#ed7953"
             ],
             [
              0.7777777777777778,
              "#fb9f3a"
             ],
             [
              0.8888888888888888,
              "#fdca26"
             ],
             [
              1,
              "#f0f921"
             ]
            ],
            "type": "histogram2d"
           }
          ],
          "histogram2dcontour": [
           {
            "colorbar": {
             "outlinewidth": 0,
             "ticks": ""
            },
            "colorscale": [
             [
              0,
              "#0d0887"
             ],
             [
              0.1111111111111111,
              "#46039f"
             ],
             [
              0.2222222222222222,
              "#7201a8"
             ],
             [
              0.3333333333333333,
              "#9c179e"
             ],
             [
              0.4444444444444444,
              "#bd3786"
             ],
             [
              0.5555555555555556,
              "#d8576b"
             ],
             [
              0.6666666666666666,
              "#ed7953"
             ],
             [
              0.7777777777777778,
              "#fb9f3a"
             ],
             [
              0.8888888888888888,
              "#fdca26"
             ],
             [
              1,
              "#f0f921"
             ]
            ],
            "type": "histogram2dcontour"
           }
          ],
          "mesh3d": [
           {
            "colorbar": {
             "outlinewidth": 0,
             "ticks": ""
            },
            "type": "mesh3d"
           }
          ],
          "parcoords": [
           {
            "line": {
             "colorbar": {
              "outlinewidth": 0,
              "ticks": ""
             }
            },
            "type": "parcoords"
           }
          ],
          "pie": [
           {
            "automargin": true,
            "type": "pie"
           }
          ],
          "scatter": [
           {
            "marker": {
             "colorbar": {
              "outlinewidth": 0,
              "ticks": ""
             }
            },
            "type": "scatter"
           }
          ],
          "scatter3d": [
           {
            "line": {
             "colorbar": {
              "outlinewidth": 0,
              "ticks": ""
             }
            },
            "marker": {
             "colorbar": {
              "outlinewidth": 0,
              "ticks": ""
             }
            },
            "type": "scatter3d"
           }
          ],
          "scattercarpet": [
           {
            "marker": {
             "colorbar": {
              "outlinewidth": 0,
              "ticks": ""
             }
            },
            "type": "scattercarpet"
           }
          ],
          "scattergeo": [
           {
            "marker": {
             "colorbar": {
              "outlinewidth": 0,
              "ticks": ""
             }
            },
            "type": "scattergeo"
           }
          ],
          "scattergl": [
           {
            "marker": {
             "colorbar": {
              "outlinewidth": 0,
              "ticks": ""
             }
            },
            "type": "scattergl"
           }
          ],
          "scattermapbox": [
           {
            "marker": {
             "colorbar": {
              "outlinewidth": 0,
              "ticks": ""
             }
            },
            "type": "scattermapbox"
           }
          ],
          "scatterpolar": [
           {
            "marker": {
             "colorbar": {
              "outlinewidth": 0,
              "ticks": ""
             }
            },
            "type": "scatterpolar"
           }
          ],
          "scatterpolargl": [
           {
            "marker": {
             "colorbar": {
              "outlinewidth": 0,
              "ticks": ""
             }
            },
            "type": "scatterpolargl"
           }
          ],
          "scatterternary": [
           {
            "marker": {
             "colorbar": {
              "outlinewidth": 0,
              "ticks": ""
             }
            },
            "type": "scatterternary"
           }
          ],
          "surface": [
           {
            "colorbar": {
             "outlinewidth": 0,
             "ticks": ""
            },
            "colorscale": [
             [
              0,
              "#0d0887"
             ],
             [
              0.1111111111111111,
              "#46039f"
             ],
             [
              0.2222222222222222,
              "#7201a8"
             ],
             [
              0.3333333333333333,
              "#9c179e"
             ],
             [
              0.4444444444444444,
              "#bd3786"
             ],
             [
              0.5555555555555556,
              "#d8576b"
             ],
             [
              0.6666666666666666,
              "#ed7953"
             ],
             [
              0.7777777777777778,
              "#fb9f3a"
             ],
             [
              0.8888888888888888,
              "#fdca26"
             ],
             [
              1,
              "#f0f921"
             ]
            ],
            "type": "surface"
           }
          ],
          "table": [
           {
            "cells": {
             "fill": {
              "color": "#EBF0F8"
             },
             "line": {
              "color": "white"
             }
            },
            "header": {
             "fill": {
              "color": "#C8D4E3"
             },
             "line": {
              "color": "white"
             }
            },
            "type": "table"
           }
          ]
         },
         "layout": {
          "annotationdefaults": {
           "arrowcolor": "#2a3f5f",
           "arrowhead": 0,
           "arrowwidth": 1
          },
          "autotypenumbers": "strict",
          "coloraxis": {
           "colorbar": {
            "outlinewidth": 0,
            "ticks": ""
           }
          },
          "colorscale": {
           "diverging": [
            [
             0,
             "#8e0152"
            ],
            [
             0.1,
             "#c51b7d"
            ],
            [
             0.2,
             "#de77ae"
            ],
            [
             0.3,
             "#f1b6da"
            ],
            [
             0.4,
             "#fde0ef"
            ],
            [
             0.5,
             "#f7f7f7"
            ],
            [
             0.6,
             "#e6f5d0"
            ],
            [
             0.7,
             "#b8e186"
            ],
            [
             0.8,
             "#7fbc41"
            ],
            [
             0.9,
             "#4d9221"
            ],
            [
             1,
             "#276419"
            ]
           ],
           "sequential": [
            [
             0,
             "#0d0887"
            ],
            [
             0.1111111111111111,
             "#46039f"
            ],
            [
             0.2222222222222222,
             "#7201a8"
            ],
            [
             0.3333333333333333,
             "#9c179e"
            ],
            [
             0.4444444444444444,
             "#bd3786"
            ],
            [
             0.5555555555555556,
             "#d8576b"
            ],
            [
             0.6666666666666666,
             "#ed7953"
            ],
            [
             0.7777777777777778,
             "#fb9f3a"
            ],
            [
             0.8888888888888888,
             "#fdca26"
            ],
            [
             1,
             "#f0f921"
            ]
           ],
           "sequentialminus": [
            [
             0,
             "#0d0887"
            ],
            [
             0.1111111111111111,
             "#46039f"
            ],
            [
             0.2222222222222222,
             "#7201a8"
            ],
            [
             0.3333333333333333,
             "#9c179e"
            ],
            [
             0.4444444444444444,
             "#bd3786"
            ],
            [
             0.5555555555555556,
             "#d8576b"
            ],
            [
             0.6666666666666666,
             "#ed7953"
            ],
            [
             0.7777777777777778,
             "#fb9f3a"
            ],
            [
             0.8888888888888888,
             "#fdca26"
            ],
            [
             1,
             "#f0f921"
            ]
           ]
          },
          "colorway": [
           "#636efa",
           "#EF553B",
           "#00cc96",
           "#ab63fa",
           "#FFA15A",
           "#19d3f3",
           "#FF6692",
           "#B6E880",
           "#FF97FF",
           "#FECB52"
          ],
          "font": {
           "color": "#2a3f5f"
          },
          "geo": {
           "bgcolor": "white",
           "lakecolor": "white",
           "landcolor": "white",
           "showlakes": true,
           "showland": true,
           "subunitcolor": "#C8D4E3"
          },
          "hoverlabel": {
           "align": "left"
          },
          "hovermode": "closest",
          "mapbox": {
           "style": "light"
          },
          "paper_bgcolor": "white",
          "plot_bgcolor": "white",
          "polar": {
           "angularaxis": {
            "gridcolor": "#EBF0F8",
            "linecolor": "#EBF0F8",
            "ticks": ""
           },
           "bgcolor": "white",
           "radialaxis": {
            "gridcolor": "#EBF0F8",
            "linecolor": "#EBF0F8",
            "ticks": ""
           }
          },
          "scene": {
           "xaxis": {
            "backgroundcolor": "white",
            "gridcolor": "#DFE8F3",
            "gridwidth": 2,
            "linecolor": "#EBF0F8",
            "showbackground": true,
            "ticks": "",
            "zerolinecolor": "#EBF0F8"
           },
           "yaxis": {
            "backgroundcolor": "white",
            "gridcolor": "#DFE8F3",
            "gridwidth": 2,
            "linecolor": "#EBF0F8",
            "showbackground": true,
            "ticks": "",
            "zerolinecolor": "#EBF0F8"
           },
           "zaxis": {
            "backgroundcolor": "white",
            "gridcolor": "#DFE8F3",
            "gridwidth": 2,
            "linecolor": "#EBF0F8",
            "showbackground": true,
            "ticks": "",
            "zerolinecolor": "#EBF0F8"
           }
          },
          "shapedefaults": {
           "line": {
            "color": "#2a3f5f"
           }
          },
          "ternary": {
           "aaxis": {
            "gridcolor": "#DFE8F3",
            "linecolor": "#A2B1C6",
            "ticks": ""
           },
           "baxis": {
            "gridcolor": "#DFE8F3",
            "linecolor": "#A2B1C6",
            "ticks": ""
           },
           "bgcolor": "white",
           "caxis": {
            "gridcolor": "#DFE8F3",
            "linecolor": "#A2B1C6",
            "ticks": ""
           }
          },
          "title": {
           "x": 0.05
          },
          "xaxis": {
           "automargin": true,
           "gridcolor": "#EBF0F8",
           "linecolor": "#EBF0F8",
           "ticks": "",
           "title": {
            "standoff": 15
           },
           "zerolinecolor": "#EBF0F8",
           "zerolinewidth": 2
          },
          "yaxis": {
           "automargin": true,
           "gridcolor": "#EBF0F8",
           "linecolor": "#EBF0F8",
           "ticks": "",
           "title": {
            "standoff": 15
           },
           "zerolinecolor": "#EBF0F8",
           "zerolinewidth": 2
          }
         }
        },
        "title": {
         "text": "Convergence of the Poisson Solver"
        },
        "xaxis": {
         "title": {
          "text": "Grid Size (N)"
         },
         "type": "log"
        },
        "yaxis": {
         "title": {
          "text": "Max Error"
         },
         "type": "log"
        }
       }
      }
     },
     "metadata": {},
     "output_type": "display_data"
    },
    {
     "name": "stdout",
     "output_type": "stream",
     "text": [
      "Computational time: 0.08 seconds\n"
     ]
    }
   ],
   "source": [
    "from scipy.sparse.linalg import spsolve\n",
    "import plotly.graph_objects as go\n",
    "import time\n",
    "\n",
    "start_time = time.time()\n",
    "\n",
    "# Define the exact solution\n",
    "def exact_solution(X, Y):\n",
    "    return np.sin(np.pi * X) ** 2 * np.sin(np.pi * Y) ** 2\n",
    "\n",
    "# Define the right-hand side f(x, y)\n",
    "def compute_rhs(X, Y):\n",
    "    return -np.pi ** 2 * (2 * np.sin(np.pi * X) ** 2 * np.sin(np.pi * Y) ** 2 +\n",
    "                          2 * np.sin(np.pi * X) ** 2 * np.cos(np.pi * Y) ** 2 +\n",
    "                          2 * np.sin(np.pi * Y) ** 2 * np.cos(np.pi * X) ** 2)\n",
    "\n",
    "# Validation function\n",
    "def validate_solver(Nx, Ny):\n",
    "    # Create the Poisson system\n",
    "    A, f, b = create_poisson_system(Nx, Ny)\n",
    "    \n",
    "    # Solve the linear system\n",
    "    u = spsolve(A, f + b)  # Incorporate boundary conditions\n",
    "\n",
    "    # Create grid for exact solution\n",
    "    x = np.linspace(0, 1, Nx)\n",
    "    y = np.linspace(0, 1, Ny)\n",
    "    X, Y = np.meshgrid(x, y)\n",
    "\n",
    "    # Compute exact solution and error\n",
    "    u_ex = exact_solution(X, Y).flatten()[:(Nx - 1) * (Ny - 1)]  # Ensure u_ex matches the size of u\n",
    "    error = np.max(np.abs(u - u_ex))\n",
    "\n",
    "    return error\n",
    "\n",
    "# Convergence analysis\n",
    "errors = []\n",
    "grid_sizes = [10, 20, 40, 80]\n",
    "\n",
    "for size in grid_sizes:\n",
    "    error = validate_solver(size, size)\n",
    "    errors.append(error)\n",
    "\n",
    "# Plotting the convergence using Plotly\n",
    "fig = go.Figure()\n",
    "\n",
    "fig.add_trace(go.Scatter(\n",
    "    x=grid_sizes,\n",
    "    y=errors,\n",
    "    mode='lines+markers',\n",
    "    name='Max Error',\n",
    "    marker=dict(size=8, color='blue'),\n",
    "    line=dict(width=2)\n",
    "))\n",
    "\n",
    "fig.update_layout(\n",
    "    title='Convergence of the Poisson Solver',\n",
    "    xaxis_title='Grid Size (N)',\n",
    "    yaxis_title='Max Error',\n",
    "    xaxis_type='log',\n",
    "    yaxis_type='log',\n",
    "    template='plotly_white',\n",
    "    showlegend=True\n",
    ")\n",
    "\n",
    "fig.show()\n",
    "computational_time = time.time() - start_time\n",
    "print(f\"Computational time: {computational_time:.2f} seconds\")"
   ]
  },
  {
   "cell_type": "markdown",
   "metadata": {},
   "source": [
    "## Eigenvalues of 1D and 2D Discrete Laplacian\n",
    "\n",
    "1. Eigenvalues of the 1D Discrete Laplacian:\n",
    "   - The 1D discrete Laplacian matrix T (of size N) is tridiagonal, with -2 on the diagonal and 1 on the off-diagonals.\n",
    "   - Its eigenvalues are given by:\n",
    "     $\\lambda_i = 2 - 2\\cos\\left(\\frac{i\\pi}{N+1}\\right), \\quad i = 1, 2, \\dots, N$\n",
    "   - Derivation:\n",
    "     - The eigenvector components of T correspond to the sine functions:\n",
    "       $v_i(k) = \\sin\\left(\\frac{i k \\pi}{N+1}\\right), \\quad k = 1, 2, \\dots, N$\n",
    "     - Substituting into the eigenvalue equation $Tv = \\lambda v$, we arrive at the eigenvalues above.\n",
    "\n",
    "2. Eigenvalues of the 2D Discrete Laplacian:\n",
    "   - The 2D discrete Laplacian $\\Delta_h$ can be represented as the Kronecker product of 1D Laplacian matrices:\n",
    "     $\\Delta_h = T \\otimes I + I \\otimes T$\n",
    "     where $T$ is the 1D Laplacian matrix and $I$ is the identity matrix of appropriate size.\n",
    "   - Using the Kronecker product properties, the eigenvalues of $\\Delta_h$ are:\n",
    "     $\\lambda_{i,j} = \\lambda_i + \\lambda_j$\n",
    "     where $\\lambda_i$ and $\\lambda_j$ are the eigenvalues of the 1D Laplacian T.\n",
    "\n",
    "3. Significance:\n",
    "   - The eigenvalues of the discrete Laplacian play a critical role in understanding the convergence of iterative solvers like Jacobi and Gauss-Seidel, as the spectral radius determines the convergence rate.\n",
    "\n",
    "\n"
   ]
  },
  {
   "cell_type": "markdown",
   "metadata": {},
   "source": [
    "## Eigenvalues of 1D Discrete Laplacian"
   ]
  },
  {
   "cell_type": "code",
   "execution_count": 11,
   "metadata": {},
   "outputs": [
    {
     "name": "stdout",
     "output_type": "stream",
     "text": [
      "Eigenvalues of the 1D discrete Laplacian (N=10):\n",
      "[0.08101405277100526, 0.3174929343376376, 0.6902785321094298, 1.1691699739962271, 1.7153703234534299, 2.28462967654657, 2.8308300260037726, 3.3097214678905704, 3.682507065662362, 3.918985947228995]\n"
     ]
    }
   ],
   "source": [
    "# Function to compute the eigenvalues of the 1D discrete Laplacian\n",
    "def compute_eigenvalues_1D(N):\n",
    "    \"\"\"\n",
    "    Computes the eigenvalues of the 1D discrete Laplacian matrix of size N.\n",
    "    \n",
    "    Args:\n",
    "        N (int): Size of the matrix.\n",
    "    \n",
    "    Returns:\n",
    "        eigenvalues (list): List of eigenvalues.\n",
    "    \"\"\"\n",
    "    eigenvalues = [2 - 2 * np.cos(np.pi * i / (N + 1)) for i in range(1, N + 1)]\n",
    "    return eigenvalues\n",
    "\n",
    "# Parameters\n",
    "N = 10  # Size of the matrix (you can adjust this)\n",
    "\n",
    "# Compute the eigenvalues\n",
    "eigenvalues_1D = compute_eigenvalues_1D(N)\n",
    "\n",
    "# Display the results\n",
    "print(f\"Eigenvalues of the 1D discrete Laplacian (N={N}):\")\n",
    "print(eigenvalues_1D)\n",
    "\n",
    "\n"
   ]
  },
  {
   "cell_type": "markdown",
   "metadata": {},
   "source": [
    "## Eigenvalues of the 2D Discrete Laplacian"
   ]
  },
  {
   "cell_type": "code",
   "execution_count": 12,
   "metadata": {},
   "outputs": [
    {
     "name": "stdout",
     "output_type": "stream",
     "text": [
      "Eigenvalues of the 2D discrete Laplacian (N=10x10):\n",
      "[0.16202811 0.39850699 0.77129258 1.25018403 1.79638438 2.36564373\n",
      " 2.91184408 3.39073552 3.76352112 4.         0.39850699 0.63498587\n",
      " 1.00777147 1.48666291 2.03286326 2.60212261 3.14832296 3.6272144\n",
      " 4.         4.23647888 0.77129258 1.00777147 1.38055706 1.85944851\n",
      " 2.40564886 2.97490821 3.52110856 4.         4.3727856  4.60926448\n",
      " 1.25018403 1.48666291 1.85944851 2.33833995 2.8845403  3.45379965\n",
      " 4.         4.47889144 4.85167704 5.08815592 1.79638438 2.03286326\n",
      " 2.40564886 2.8845403  3.43074065 4.         4.54620035 5.02509179\n",
      " 5.39787739 5.63435627 2.36564373 2.60212261 2.97490821 3.45379965\n",
      " 4.         4.56925935 5.1154597  5.59435114 5.96713674 6.20361562\n",
      " 2.91184408 3.14832296 3.52110856 4.         4.54620035 5.1154597\n",
      " 5.66166005 6.14055149 6.51333709 6.74981597 3.39073552 3.6272144\n",
      " 4.         4.47889144 5.02509179 5.59435114 6.14055149 6.61944294\n",
      " 6.99222853 7.22870742 3.76352112 4.         4.3727856  4.85167704\n",
      " 5.39787739 5.96713674 6.51333709 6.99222853 7.36501413 7.60149301\n",
      " 4.         4.23647888 4.60926448 5.08815592 5.63435627 6.20361562\n",
      " 6.74981597 7.22870742 7.60149301 7.83797189]\n"
     ]
    }
   ],
   "source": [
    "# Function to compute the eigenvalues of the 2D discrete Laplacian\n",
    "def compute_eigenvalues_2D(N):\n",
    "    \"\"\"\n",
    "    Computes the eigenvalues of the 2D discrete Laplacian matrix of size N x N.\n",
    "    \n",
    "    Args:\n",
    "        N (int): Size of the matrix in one dimension.\n",
    "    \n",
    "    Returns:\n",
    "        eigenvalues_2D (np.array): Array of eigenvalues for the 2D Laplacian.\n",
    "    \"\"\"\n",
    "    # Compute 1D eigenvalues\n",
    "    eigenvalues_1D = [2 - 2 * np.cos(np.pi * i / (N + 1)) for i in range(1, N + 1)]\n",
    "    \n",
    "    # Compute 2D eigenvalues using the Kronecker product formula\n",
    "    eigenvalues_2D = [l1 + l2 for l1 in eigenvalues_1D for l2 in eigenvalues_1D]\n",
    "    \n",
    "    return np.array(eigenvalues_2D)\n",
    "\n",
    "# Parameters\n",
    "N = 10  # Size of the matrix (you can adjust this)\n",
    "\n",
    "# Compute the eigenvalues for the 2D Laplacian\n",
    "eigenvalues_2D = compute_eigenvalues_2D(N)\n",
    "\n",
    "# Display the results\n",
    "print(f\"Eigenvalues of the 2D discrete Laplacian (N={N}x{N}):\")\n",
    "print(eigenvalues_2D)\n",
    "\n"
   ]
  },
  {
   "cell_type": "markdown",
   "metadata": {},
   "source": [
    "## Problem 1: Jacobi and Gauss-Seidel Methods\n",
    "\n",
    "1. Implement the Jacobi Method:\n",
    "   - Input: A (matrix), b (right-hand side vector), initial guess x0, tolerance tol, maximum iterations max_iter.\n",
    "   - Output: Approximate solution x and the residual $||Ax - b||$ at each iteration.\n",
    "\n",
    "2. Implement the Gauss-Seidel Method:\n",
    "   - Input: A (matrix), b (right-hand side vector), initial guess x0, tolerance tol, maximum iterations max_iter.\n",
    "   - Output: Approximate solution x and the residual $||Ax - b||$ at each iteration.\n",
    "\n",
    "3. Compare the number of iterations and convergence speed for the two methods on a sample problem.\n",
    "\n",
    "Explanation of the Code:\n",
    "1. Jacobi Method:\n",
    "   - Each component of the solution vector is updated independently based on the values from the previous iteration.\n",
    "   - Formula:\n",
    "     $x_i^{(k+1)} = \\frac{1}{A_{ii}} \\left(b_i - \\sum_{j \\neq i} A_{ij} x_j^{(k)}\\right)$\n",
    "   - The method does not use updated values within the same iteration.\n",
    "   - Convergence is guaranteed if A is diagonally dominant or symmetric positive definite.\n",
    "\n",
    "2. Gauss-Seidel Method:\n",
    "   - Each component of the solution vector is updated sequentially using the latest available values.\n",
    "   - Formula:\n",
    "     $x_i^{(k+1)} = \\frac{1}{A_{ii}} \\left(b_i - \\sum_{j < i} A_{ij} x_j^{(k+1)} - \\sum_{j > i} A_{ij} x_j^{(k)}\\right)$\n",
    "   - Updated values are immediately used in the same iteration, leading to faster convergence compared to Jacobi.\n",
    "   - Convergence is guaranteed under the same conditions as Jacobi.\n",
    "\n",
    "3. Residual Calculation:\n",
    "   - At each iteration, compute the residual:\n",
    "     $r = ||Ax - b||$\n",
    "   - Stop the iteration if the residual is less than the specified tolerance.\n",
    "\n",
    "4. Performance Comparison:\n",
    "   - Jacobi is easier to implement but converges slower.\n",
    "   - Gauss-Seidel leverages updated values, often requiring fewer iterations."
   ]
  },
  {
   "cell_type": "code",
   "execution_count": 13,
   "metadata": {},
   "outputs": [
    {
     "name": "stdout",
     "output_type": "stream",
     "text": [
      "Solution using Jacobi method:\n",
      "[0.95192159 1.40384357 1.53845856 1.40384357 0.95192159 1.40384357\n",
      " 2.12499553 2.34614868 2.12499553 1.40384357 1.53845856 2.34614868\n",
      " 2.59614788 2.34614868 1.53845856 1.40384357 2.12499553 2.34614868\n",
      " 2.12499553 1.40384357 0.95192159 1.40384357 1.53845856 1.40384357\n",
      " 0.95192159]\n",
      "\n",
      "Solution using Gauss-Seidel method:\n",
      "[0.951922   1.40384455 1.53845993 1.40384495 0.95192247 1.40384455\n",
      " 2.12499759 2.34615143 2.12499819 1.40384525 1.53845993 2.34615143\n",
      " 2.59615143 2.34615204 1.53846063 1.40384495 2.12499819 2.34615204\n",
      " 2.12499864 1.40384548 0.95192247 1.40384525 1.53846063 1.40384548\n",
      " 0.95192274]\n"
     ]
    }
   ],
   "source": [
    "def generate_2D_laplacian(N):\n",
    "    \"\"\"\n",
    "    Generates the 2D discrete Laplacian matrix using Kronecker products.\n",
    "    \n",
    "    Args:\n",
    "        N (int): Size of the matrix in one dimension.\n",
    "    \n",
    "    Returns:\n",
    "        A (np.array): 2D discrete Laplacian matrix of size (N^2 x N^2).\n",
    "    \"\"\"\n",
    "    I = np.eye(N)  # Identity matrix\n",
    "    T = np.diag(2 * np.ones(N)) - np.diag(np.ones(N - 1), k=-1) - np.diag(np.ones(N - 1), k=1)\n",
    "    A = np.kron(I, T) + np.kron(T, I)  # Kronecker product for 2D Laplacian\n",
    "    return A\n",
    "\n",
    "def jacobi_method(A, b, tol=1e-6, max_iter=1000):\n",
    "    \"\"\"\n",
    "    Solves Ax = b using the Jacobi method.\n",
    "    \n",
    "    Args:\n",
    "        A (np.array): Coefficient matrix.\n",
    "        b (np.array): Right-hand side vector.\n",
    "        tol (float): Convergence tolerance.\n",
    "        max_iter (int): Maximum number of iterations.\n",
    "    \n",
    "    Returns:\n",
    "        x (np.array): Solution vector.\n",
    "    \"\"\"\n",
    "    N = len(b)\n",
    "    x = np.zeros_like(b)  # Initial guess\n",
    "    D = np.diag(np.diag(A))  # Diagonal matrix\n",
    "    R = A - D  # Remainder of A\n",
    "    for k in range(max_iter):\n",
    "        x_new = np.linalg.inv(D) @ (b - R @ x)\n",
    "        if np.linalg.norm(x_new - x, ord=np.inf) < tol:  # Convergence check\n",
    "            return x_new\n",
    "        x = x_new\n",
    "    raise ValueError(\"Jacobi method did not converge within the maximum number of iterations.\")\n",
    "\n",
    "def gauss_seidel_method(A, b, tol=1e-6, max_iter=1000):\n",
    "    \"\"\"\n",
    "    Solves Ax = b using the Gauss-Seidel method.\n",
    "    \n",
    "    Args:\n",
    "        A (np.array): Coefficient matrix.\n",
    "        b (np.array): Right-hand side vector.\n",
    "        tol (float): Convergence tolerance.\n",
    "        max_iter (int): Maximum number of iterations.\n",
    "    \n",
    "    Returns:\n",
    "        x (np.array): Solution vector.\n",
    "    \"\"\"\n",
    "    N = len(b)\n",
    "    x = np.zeros_like(b)  # Initial guess\n",
    "    for k in range(max_iter):\n",
    "        x_new = np.copy(x)\n",
    "        for i in range(N):\n",
    "            sum1 = np.dot(A[i, :i], x_new[:i])  # Lower triangular part\n",
    "            sum2 = np.dot(A[i, i + 1:], x[i + 1:])  # Upper triangular part\n",
    "            x_new[i] = (b[i] - sum1 - sum2) / A[i, i]\n",
    "        if np.linalg.norm(x_new - x, ord=np.inf) < tol:  # Convergence check\n",
    "            return x_new\n",
    "        x = x_new\n",
    "    raise ValueError(\"Gauss-Seidel method did not converge within the maximum number of iterations.\")\n",
    "\n",
    "# Parameters\n",
    "N = 5  # Size of the grid in one dimension\n",
    "A = generate_2D_laplacian(N)  # Generate the 2D Laplacian matrix\n",
    "b = np.ones(N**2)  # Test vector (e.g., all ones)\n",
    "\n",
    "# Solve using Jacobi and Gauss-Seidel methods\n",
    "x_jacobi = jacobi_method(A, b)\n",
    "x_gauss_seidel = gauss_seidel_method(A, b)\n",
    "\n",
    "# Display results\n",
    "print(\"Solution using Jacobi method:\")\n",
    "print(x_jacobi)\n",
    "print(\"\\nSolution using Gauss-Seidel method:\")\n",
    "print(x_gauss_seidel)\n"
   ]
  },
  {
   "cell_type": "markdown",
   "metadata": {},
   "source": [
    "# Problem 2: Convergence of Methods for the Discrete Poisson Problem\n",
    "#### 1. Convergence Analysis:\n",
    "   - Both Jacobi and Gauss-Seidel methods converge if the spectral radius (the largest absolute eigenvalue) of the iteration matrix G is less than 1.\n",
    "   - For the discrete Poisson problem, the matrix A is symmetric and positive definite, ensuring convergence under these methods.\n",
    "\n",
    "#### 2. Effect of Increasing Grid Points:\n",
    "   - As the grid resolution increases (N becomes large), the condition number of A increases, making the system harder to solve numerically.\n",
    "   - The convergence rate is proportional to $(1 - \\frac{\\pi^2}{(N+1)^2})$, meaning more iterations are needed for finer grids.\n"
   ]
  },
  {
   "cell_type": "code",
   "execution_count": 14,
   "metadata": {},
   "outputs": [],
   "source": [
    "def create_poisson_matrix(n):\n",
    "    \"\"\"\n",
    "    Creates the coefficient matrix A for the 2D discrete Poisson problem\n",
    "    using the finite difference method on a grid of size n x n.\n",
    "    \"\"\"\n",
    "    N = n * n\n",
    "    A = np.zeros((N, N))\n",
    "    \n",
    "    for i in range(N):\n",
    "        A[i, i] = 4\n",
    "        if i % n != 0:  # Left neighbor\n",
    "            A[i, i - 1] = -1\n",
    "        if (i + 1) % n != 0:  # Right neighbor\n",
    "            A[i, i + 1] = -1\n",
    "        if i - n >= 0:  # Top neighbor\n",
    "            A[i, i - n] = -1\n",
    "        if i + n < N:  # Bottom neighbor\n",
    "            A[i, i + n] = -1\n",
    "    \n",
    "    return A\n",
    "\n",
    "def jacobi_method(A, b, x0, tol, max_iter):\n",
    "    \"\"\"\n",
    "    Solves the system Ax = b using the Jacobi iterative method.\n",
    "    \"\"\"\n",
    "    n = len(b)\n",
    "    x = x0.copy()\n",
    "    D = np.diag(np.diag(A))\n",
    "    R = A - D\n",
    "    \n",
    "    residuals = []\n",
    "    \n",
    "    for k in range(max_iter):\n",
    "        x_new = np.linalg.inv(D) @ (b - R @ x)\n",
    "        residual = np.linalg.norm(A @ x_new - b)\n",
    "        residuals.append(residual)\n",
    "        \n",
    "        if residual < tol:\n",
    "            break\n",
    "        \n",
    "        x = x_new\n",
    "    \n",
    "    return x, residuals\n",
    "\n",
    "def gauss_seidel_method(A, b, x0, tol, max_iter):\n",
    "    \"\"\"\n",
    "    Solves the system Ax = b using the Gauss-Seidel iterative method.\n",
    "    \"\"\"\n",
    "    n = len(b)\n",
    "    x = x0.copy()\n",
    "    residuals = []\n",
    "    \n",
    "    for k in range(max_iter):\n",
    "        for i in range(n):\n",
    "            sum1 = np.dot(A[i, :i], x[:i])\n",
    "            sum2 = np.dot(A[i, i + 1:], x[i + 1:])\n",
    "            x[i] = (b[i] - sum1 - sum2) / A[i, i]\n",
    "        \n",
    "        residual = np.linalg.norm(A @ x - b)\n",
    "        residuals.append(residual)\n",
    "        \n",
    "        if residual < tol:\n",
    "            break\n",
    "    \n",
    "    return x, residuals\n",
    "\n",
    "# Parameters\n",
    "n = 10  # Grid size (n x n)\n",
    "tol = 1e-6\n",
    "max_iter = 500\n",
    "x0 = np.zeros(n * n)  # Initial guess\n",
    "\n",
    "# Create the discrete Poisson matrix A and the right-hand side vector b\n",
    "A = create_poisson_matrix(n)\n",
    "b = np.ones(n * n)\n",
    "\n",
    "# Solve using Jacobi and Gauss-Seidel methods\n",
    "x_jacobi, residuals_jacobi = jacobi_method(A, b, x0, tol, max_iter)\n",
    "x_gs, residuals_gs = gauss_seidel_method(A, b, x0, tol, max_iter)\n",
    "\n",
    "\n"
   ]
  },
  {
   "cell_type": "markdown",
   "metadata": {},
   "source": [
    "## Do these methods converge for the discrete Poisson problem?\n",
    "\n",
    "Yes, both the **Jacobi** and **Gauss-Seidel** methods are expected to converge for the discrete Poisson problem. This is because:\n",
    "\n",
    "1. **Symmetry and Positive Definiteness**:\n",
    "   - The coefficient matrix $A$ of the discrete Poisson problem is symmetric and positive definite.\n",
    "   - For symmetric and positive definite matrices, both the Jacobi and Gauss-Seidel methods are guaranteed to converge.\n",
    "\n",
    "2. **Sufficient Conditions**:\n",
    "   - The discrete Poisson matrix $A$ is also diagonally dominant. This property further ensures convergence for these iterative methods.\n",
    "\n",
    "---\n",
    "\n",
    "### Linear Algebra Argument for Convergence\n",
    "\n",
    "The convergence of iterative methods depends on the spectral radius $\\rho(G)$ of the iteration matrix $G$. The iteration matrix $G$ is defined as:\n",
    "- For **Jacobi**: $G = D^{-1}(L + U)$,\n",
    "- For **Gauss-Seidel**: $G = (D - L)^{-1}U$,\n",
    "\n",
    "where $A = D - L - U$, with:\n",
    "- $D$: Diagonal of $A$,\n",
    "- $L$: Strictly lower triangular part of $A$,\n",
    "- $U$: Strictly upper triangular part of $A$.\n",
    "\n",
    "The spectral radius $\\rho(G)$ determines convergence:\n",
    "\\[\n",
    "\\rho(G) < 1 \\implies \\text{Convergence}.\n",
    "\\]\n",
    "\n",
    "For the discrete Poisson problem, the eigenvalues of $A$ are well-separated, and the iteration matrices $G$ for both Jacobi and Gauss-Seidel methods have $\\rho(G) < 1$, ensuring convergence.\n",
    "\n",
    "---\n",
    "\n",
    "### Convergence Radius\n",
    "\n",
    "The convergence radius is defined as $1 - \\rho(G)$, which determines the rate at which the iterative methods reduce the error. For example:\n",
    "- If $\\rho(G)$ is close to 1, the methods converge slowly.\n",
    "- If $\\rho(G)$ is much smaller than 1, the methods converge quickly.\n",
    "\n",
    "For the Jacobi method:\n",
    "\\[$\n",
    "\\rho(G_{\\text{Jacobi}}) \\approx 1 - \\frac{\\pi^2}{(N + 1)^2},\n",
    "$\\]\n",
    "where $N$ is the number of grid points in one dimension.\n",
    "\n",
    "For the Gauss-Seidel method:\n",
    "\\[$\n",
    "\\rho(G_{\\text{Gauss-Seidel}}) \\approx \\rho(G_{\\text{Jacobi}})^2,\n",
    "$\\]\n",
    "indicating that Gauss-Seidel converges faster than Jacobi.\n",
    "\n",
    "---\n",
    "\n",
    "### Effect of Increasing Grid Points\n",
    "\n",
    "As the number of grid points increases:\n",
    "1. **Condition Number**:\n",
    "   - The condition number $\\kappa(A)$ of the matrix $A$ increases as $\\mathcal{O}(N^2)$, where $N$ is the number of grid points.\n",
    "   - A higher condition number leads to slower convergence for iterative methods.\n",
    "\n",
    "2. **Spectral Radius**:\n",
    "   - The spectral radius $\\rho(G)$ approaches 1 as $N$ increases.\n",
    "   - This reduces the convergence radius, causing the methods to converge more slowly.\n",
    "\n",
    "---\n",
    "\n",
    "### Conclusion Based on the Output\n",
    "\n",
    "From the plotted residuals:\n",
    "1. Both methods converge for the discrete Poisson problem.\n",
    "2. Gauss-Seidel converges faster than Jacobi, as shown by the steeper reduction in residuals.\n",
    "3. For larger grid sizes (higher $N$), the convergence rate slows down because the condition number of $A$ increases, and $\\rho(G)$ approaches 1.\n"
   ]
  },
  {
   "cell_type": "markdown",
   "metadata": {},
   "source": [
    "## Problem 3: Measuring the Cost of an Iterative Solver\n",
    "\n",
    "1. Number of Iterations:\n",
    "   - The total number of iterations required to reach a desired residual $||Ax - b|| \\leq tol$ directly impacts the computational cost.\n",
    "\n",
    "2. Cost per Iteration:\n",
    "   - Jacobi Method:\n",
    "     Each iteration involves a matrix-vector product, which scales as $O(N^2)$ for a grid of size $N \\times N$.\n",
    "   - Gauss-Seidel Method:\n",
    "     Similar cost per iteration but slightly faster convergence due to the immediate use of updated values.\n",
    "\n",
    "3. Total Cost:\n",
    "   Total cost = (cost per iteration) * (number of iterations).\n"
   ]
  },
  {
   "cell_type": "markdown",
   "metadata": {},
   "source": [
    "### To analyze the cost of an iterative solver, we can simulate both the Jacobi and Gauss-Seidel methods for a given problem and measure:\n",
    "\n",
    "1. Number of iterations required to achieve a given residual tolerance.\n",
    "2. Cost per iteration, which is proportional to the number of operations (e.g., matrix-vector products).\n",
    "3. Total cost as the product of these two metrics."
   ]
  },
  {
   "cell_type": "code",
   "execution_count": 15,
   "metadata": {},
   "outputs": [
    {
     "name": "stdout",
     "output_type": "stream",
     "text": [
      "Jacobi Method: Iterations = 387, Total Cost = 3870000\n",
      "Gauss-Seidel Method: Iterations = 195, Total Cost = 1950000\n"
     ]
    }
   ],
   "source": [
    "def create_poisson_matrix(n):\n",
    "    \"\"\"\n",
    "    Creates the coefficient matrix A for the 2D discrete Poisson problem\n",
    "    using the finite difference method on a grid of size n x n.\n",
    "    \"\"\"\n",
    "    N = n * n\n",
    "    A = np.zeros((N, N))\n",
    "    \n",
    "    for i in range(N):\n",
    "        A[i, i] = 4\n",
    "        if i % n != 0:  # Left neighbor\n",
    "            A[i, i - 1] = -1\n",
    "        if (i + 1) % n != 0:  # Right neighbor\n",
    "            A[i, i + 1] = -1\n",
    "        if i - n >= 0:  # Top neighbor\n",
    "            A[i, i - n] = -1\n",
    "        if i + n < N:  # Bottom neighbor\n",
    "            A[i, i + n] = -1\n",
    "    \n",
    "    return A\n",
    "\n",
    "def jacobi_method(A, b, x0, tol, max_iter):\n",
    "    \"\"\"\n",
    "    Solves the system Ax = b using the Jacobi iterative method.\n",
    "    \"\"\"\n",
    "    n = len(b)\n",
    "    x = x0.copy()\n",
    "    D = np.diag(np.diag(A))\n",
    "    R = A - D\n",
    "    iterations = 0\n",
    "    \n",
    "    for k in range(max_iter):\n",
    "        x_new = np.linalg.inv(D) @ (b - R @ x)\n",
    "        residual = np.linalg.norm(A @ x_new - b)\n",
    "        iterations += 1\n",
    "        if residual < tol:\n",
    "            break\n",
    "        x = x_new\n",
    "    \n",
    "    return x, iterations\n",
    "\n",
    "def gauss_seidel_method(A, b, x0, tol, max_iter):\n",
    "    \"\"\"\n",
    "    Solves the system Ax = b using the Gauss-Seidel iterative method.\n",
    "    \"\"\"\n",
    "    n = len(b)\n",
    "    x = x0.copy()\n",
    "    iterations = 0\n",
    "    \n",
    "    for k in range(max_iter):\n",
    "        for i in range(n):\n",
    "            sum1 = np.dot(A[i, :i], x[:i])\n",
    "            sum2 = np.dot(A[i, i + 1:], x[i + 1:])\n",
    "            x[i] = (b[i] - sum1 - sum2) / A[i, i]\n",
    "        \n",
    "        residual = np.linalg.norm(A @ x - b)\n",
    "        iterations += 1\n",
    "        if residual < tol:\n",
    "            break\n",
    "    \n",
    "    return x, iterations\n",
    "\n",
    "# Parameters\n",
    "n = 10  # Grid size (n x n)\n",
    "tol = 1e-6  # Residual tolerance\n",
    "max_iter = 500  # Maximum iterations\n",
    "x0 = np.zeros(n * n)  # Initial guess\n",
    "\n",
    "# Create the Poisson matrix and right-hand side vector\n",
    "A = create_poisson_matrix(n)\n",
    "b = np.ones(n * n)\n",
    "\n",
    "# Solve using Jacobi and Gauss-Seidel methods\n",
    "_, jacobi_iterations = jacobi_method(A, b, x0, tol, max_iter)\n",
    "_, gs_iterations = gauss_seidel_method(A, b, x0, tol, max_iter)\n",
    "\n",
    "# Cost per iteration (approximation)\n",
    "cost_per_iteration = lambda N: N ** 2\n",
    "\n",
    "# Total cost\n",
    "jacobi_cost = cost_per_iteration(n * n) * jacobi_iterations\n",
    "gs_cost = cost_per_iteration(n * n) * gs_iterations\n",
    "\n",
    "# Display results\n",
    "print(f\"Jacobi Method: Iterations = {jacobi_iterations}, Total Cost = {jacobi_cost}\")\n",
    "print(f\"Gauss-Seidel Method: Iterations = {gs_iterations}, Total Cost = {gs_cost}\")"
   ]
  },
  {
   "cell_type": "markdown",
   "metadata": {},
   "source": [
    "## Problem 4: Successive Over-Relaxation (SOR) Method\n",
    "\n",
    "The SOR method introduces a relaxation parameter $\\omega$ (omega) to accelerate convergence:\n",
    "\n",
    "Formula:\n",
    "  $x_i^{(k+1)} = (1 - \\omega)x_i^{(k)} + \\frac{\\omega}{A_{ii}} \\left(b_i - \\sum_{j<i} A_{ij} x_j^{(k+1)} - \\sum_{j>i} A_{ij} x_j^{(k)}\\right)$\n",
    "\n",
    "Optimal Relaxation Parameter:\n",
    "  Theoretically, the optimal $\\omega$ ($\\omega_{opt}$) is given by:\n",
    "    $\\omega_{opt} = \\frac{2}{1 + \\sqrt{1 - \\rho(G)^2}}$,\n",
    "  where $\\rho(G)$ is the spectral radius of the iteration matrix G.\n",
    "\n",
    "Implementation Steps:\n",
    "  - Initialize $x^{(0)}$ as the starting guess.\n",
    "  - Update each element of $x$ using the SOR formula iteratively.\n",
    "  - Stop when the residual $||Ax - b||$ falls below the tolerance level."
   ]
  },
  {
   "cell_type": "code",
   "execution_count": 16,
   "metadata": {},
   "outputs": [
    {
     "data": {
      "application/vnd.plotly.v1+json": {
       "config": {
        "plotlyServerURL": "https://plot.ly"
       },
       "data": [
        {
         "line": {
          "width": 2
         },
         "marker": {
          "color": "blue",
          "size": 8
         },
         "mode": "lines+markers",
         "name": "Iterations",
         "type": "scatter",
         "x": [
          0.5,
          0.55,
          0.6,
          0.65,
          0.7,
          0.75,
          0.8,
          0.85,
          0.8999999999999999,
          0.95,
          1,
          1.0499999999999998,
          1.1,
          1.15,
          1.2,
          1.25,
          1.2999999999999998,
          1.35,
          1.4,
          1.45,
          1.5,
          1.5499999999999998,
          1.5999999999999999,
          1.65,
          1.7,
          1.75,
          1.7999999999999998,
          1.8499999999999999,
          1.9,
          1.95
         ],
         "y": [
          592,
          520,
          460,
          409,
          365,
          328,
          295,
          265,
          239,
          216,
          195,
          176,
          158,
          142,
          127,
          114,
          101,
          89,
          77,
          66,
          54,
          41,
          39,
          43,
          51,
          64,
          79,
          109,
          166,
          339
         ]
        },
        {
         "marker": {
          "color": "red",
          "size": 10
         },
         "mode": "markers",
         "name": "Gauss-Seidel (ω=1)",
         "type": "scatter",
         "x": [
          1
         ],
         "y": [
          39
         ]
        }
       ],
       "layout": {
        "shapes": [
         {
          "line": {
           "color": "red",
           "dash": "dash"
          },
          "type": "line",
          "x0": 1,
          "x1": 1,
          "y0": 0,
          "y1": 592
         }
        ],
        "showlegend": true,
        "template": {
         "data": {
          "bar": [
           {
            "error_x": {
             "color": "#2a3f5f"
            },
            "error_y": {
             "color": "#2a3f5f"
            },
            "marker": {
             "line": {
              "color": "white",
              "width": 0.5
             },
             "pattern": {
              "fillmode": "overlay",
              "size": 10,
              "solidity": 0.2
             }
            },
            "type": "bar"
           }
          ],
          "barpolar": [
           {
            "marker": {
             "line": {
              "color": "white",
              "width": 0.5
             },
             "pattern": {
              "fillmode": "overlay",
              "size": 10,
              "solidity": 0.2
             }
            },
            "type": "barpolar"
           }
          ],
          "carpet": [
           {
            "aaxis": {
             "endlinecolor": "#2a3f5f",
             "gridcolor": "#C8D4E3",
             "linecolor": "#C8D4E3",
             "minorgridcolor": "#C8D4E3",
             "startlinecolor": "#2a3f5f"
            },
            "baxis": {
             "endlinecolor": "#2a3f5f",
             "gridcolor": "#C8D4E3",
             "linecolor": "#C8D4E3",
             "minorgridcolor": "#C8D4E3",
             "startlinecolor": "#2a3f5f"
            },
            "type": "carpet"
           }
          ],
          "choropleth": [
           {
            "colorbar": {
             "outlinewidth": 0,
             "ticks": ""
            },
            "type": "choropleth"
           }
          ],
          "contour": [
           {
            "colorbar": {
             "outlinewidth": 0,
             "ticks": ""
            },
            "colorscale": [
             [
              0,
              "#0d0887"
             ],
             [
              0.1111111111111111,
              "#46039f"
             ],
             [
              0.2222222222222222,
              "#7201a8"
             ],
             [
              0.3333333333333333,
              "#9c179e"
             ],
             [
              0.4444444444444444,
              "#bd3786"
             ],
             [
              0.5555555555555556,
              "#d8576b"
             ],
             [
              0.6666666666666666,
              "#ed7953"
             ],
             [
              0.7777777777777778,
              "#fb9f3a"
             ],
             [
              0.8888888888888888,
              "#fdca26"
             ],
             [
              1,
              "#f0f921"
             ]
            ],
            "type": "contour"
           }
          ],
          "contourcarpet": [
           {
            "colorbar": {
             "outlinewidth": 0,
             "ticks": ""
            },
            "type": "contourcarpet"
           }
          ],
          "heatmap": [
           {
            "colorbar": {
             "outlinewidth": 0,
             "ticks": ""
            },
            "colorscale": [
             [
              0,
              "#0d0887"
             ],
             [
              0.1111111111111111,
              "#46039f"
             ],
             [
              0.2222222222222222,
              "#7201a8"
             ],
             [
              0.3333333333333333,
              "#9c179e"
             ],
             [
              0.4444444444444444,
              "#bd3786"
             ],
             [
              0.5555555555555556,
              "#d8576b"
             ],
             [
              0.6666666666666666,
              "#ed7953"
             ],
             [
              0.7777777777777778,
              "#fb9f3a"
             ],
             [
              0.8888888888888888,
              "#fdca26"
             ],
             [
              1,
              "#f0f921"
             ]
            ],
            "type": "heatmap"
           }
          ],
          "heatmapgl": [
           {
            "colorbar": {
             "outlinewidth": 0,
             "ticks": ""
            },
            "colorscale": [
             [
              0,
              "#0d0887"
             ],
             [
              0.1111111111111111,
              "#46039f"
             ],
             [
              0.2222222222222222,
              "#7201a8"
             ],
             [
              0.3333333333333333,
              "#9c179e"
             ],
             [
              0.4444444444444444,
              "#bd3786"
             ],
             [
              0.5555555555555556,
              "#d8576b"
             ],
             [
              0.6666666666666666,
              "#ed7953"
             ],
             [
              0.7777777777777778,
              "#fb9f3a"
             ],
             [
              0.8888888888888888,
              "#fdca26"
             ],
             [
              1,
              "#f0f921"
             ]
            ],
            "type": "heatmapgl"
           }
          ],
          "histogram": [
           {
            "marker": {
             "pattern": {
              "fillmode": "overlay",
              "size": 10,
              "solidity": 0.2
             }
            },
            "type": "histogram"
           }
          ],
          "histogram2d": [
           {
            "colorbar": {
             "outlinewidth": 0,
             "ticks": ""
            },
            "colorscale": [
             [
              0,
              "#0d0887"
             ],
             [
              0.1111111111111111,
              "#46039f"
             ],
             [
              0.2222222222222222,
              "#7201a8"
             ],
             [
              0.3333333333333333,
              "#9c179e"
             ],
             [
              0.4444444444444444,
              "#bd3786"
             ],
             [
              0.5555555555555556,
              "#d8576b"
             ],
             [
              0.6666666666666666,
              "#ed7953"
             ],
             [
              0.7777777777777778,
              "#fb9f3a"
             ],
             [
              0.8888888888888888,
              "#fdca26"
             ],
             [
              1,
              "#f0f921"
             ]
            ],
            "type": "histogram2d"
           }
          ],
          "histogram2dcontour": [
           {
            "colorbar": {
             "outlinewidth": 0,
             "ticks": ""
            },
            "colorscale": [
             [
              0,
              "#0d0887"
             ],
             [
              0.1111111111111111,
              "#46039f"
             ],
             [
              0.2222222222222222,
              "#7201a8"
             ],
             [
              0.3333333333333333,
              "#9c179e"
             ],
             [
              0.4444444444444444,
              "#bd3786"
             ],
             [
              0.5555555555555556,
              "#d8576b"
             ],
             [
              0.6666666666666666,
              "#ed7953"
             ],
             [
              0.7777777777777778,
              "#fb9f3a"
             ],
             [
              0.8888888888888888,
              "#fdca26"
             ],
             [
              1,
              "#f0f921"
             ]
            ],
            "type": "histogram2dcontour"
           }
          ],
          "mesh3d": [
           {
            "colorbar": {
             "outlinewidth": 0,
             "ticks": ""
            },
            "type": "mesh3d"
           }
          ],
          "parcoords": [
           {
            "line": {
             "colorbar": {
              "outlinewidth": 0,
              "ticks": ""
             }
            },
            "type": "parcoords"
           }
          ],
          "pie": [
           {
            "automargin": true,
            "type": "pie"
           }
          ],
          "scatter": [
           {
            "marker": {
             "colorbar": {
              "outlinewidth": 0,
              "ticks": ""
             }
            },
            "type": "scatter"
           }
          ],
          "scatter3d": [
           {
            "line": {
             "colorbar": {
              "outlinewidth": 0,
              "ticks": ""
             }
            },
            "marker": {
             "colorbar": {
              "outlinewidth": 0,
              "ticks": ""
             }
            },
            "type": "scatter3d"
           }
          ],
          "scattercarpet": [
           {
            "marker": {
             "colorbar": {
              "outlinewidth": 0,
              "ticks": ""
             }
            },
            "type": "scattercarpet"
           }
          ],
          "scattergeo": [
           {
            "marker": {
             "colorbar": {
              "outlinewidth": 0,
              "ticks": ""
             }
            },
            "type": "scattergeo"
           }
          ],
          "scattergl": [
           {
            "marker": {
             "colorbar": {
              "outlinewidth": 0,
              "ticks": ""
             }
            },
            "type": "scattergl"
           }
          ],
          "scattermapbox": [
           {
            "marker": {
             "colorbar": {
              "outlinewidth": 0,
              "ticks": ""
             }
            },
            "type": "scattermapbox"
           }
          ],
          "scatterpolar": [
           {
            "marker": {
             "colorbar": {
              "outlinewidth": 0,
              "ticks": ""
             }
            },
            "type": "scatterpolar"
           }
          ],
          "scatterpolargl": [
           {
            "marker": {
             "colorbar": {
              "outlinewidth": 0,
              "ticks": ""
             }
            },
            "type": "scatterpolargl"
           }
          ],
          "scatterternary": [
           {
            "marker": {
             "colorbar": {
              "outlinewidth": 0,
              "ticks": ""
             }
            },
            "type": "scatterternary"
           }
          ],
          "surface": [
           {
            "colorbar": {
             "outlinewidth": 0,
             "ticks": ""
            },
            "colorscale": [
             [
              0,
              "#0d0887"
             ],
             [
              0.1111111111111111,
              "#46039f"
             ],
             [
              0.2222222222222222,
              "#7201a8"
             ],
             [
              0.3333333333333333,
              "#9c179e"
             ],
             [
              0.4444444444444444,
              "#bd3786"
             ],
             [
              0.5555555555555556,
              "#d8576b"
             ],
             [
              0.6666666666666666,
              "#ed7953"
             ],
             [
              0.7777777777777778,
              "#fb9f3a"
             ],
             [
              0.8888888888888888,
              "#fdca26"
             ],
             [
              1,
              "#f0f921"
             ]
            ],
            "type": "surface"
           }
          ],
          "table": [
           {
            "cells": {
             "fill": {
              "color": "#EBF0F8"
             },
             "line": {
              "color": "white"
             }
            },
            "header": {
             "fill": {
              "color": "#C8D4E3"
             },
             "line": {
              "color": "white"
             }
            },
            "type": "table"
           }
          ]
         },
         "layout": {
          "annotationdefaults": {
           "arrowcolor": "#2a3f5f",
           "arrowhead": 0,
           "arrowwidth": 1
          },
          "autotypenumbers": "strict",
          "coloraxis": {
           "colorbar": {
            "outlinewidth": 0,
            "ticks": ""
           }
          },
          "colorscale": {
           "diverging": [
            [
             0,
             "#8e0152"
            ],
            [
             0.1,
             "#c51b7d"
            ],
            [
             0.2,
             "#de77ae"
            ],
            [
             0.3,
             "#f1b6da"
            ],
            [
             0.4,
             "#fde0ef"
            ],
            [
             0.5,
             "#f7f7f7"
            ],
            [
             0.6,
             "#e6f5d0"
            ],
            [
             0.7,
             "#b8e186"
            ],
            [
             0.8,
             "#7fbc41"
            ],
            [
             0.9,
             "#4d9221"
            ],
            [
             1,
             "#276419"
            ]
           ],
           "sequential": [
            [
             0,
             "#0d0887"
            ],
            [
             0.1111111111111111,
             "#46039f"
            ],
            [
             0.2222222222222222,
             "#7201a8"
            ],
            [
             0.3333333333333333,
             "#9c179e"
            ],
            [
             0.4444444444444444,
             "#bd3786"
            ],
            [
             0.5555555555555556,
             "#d8576b"
            ],
            [
             0.6666666666666666,
             "#ed7953"
            ],
            [
             0.7777777777777778,
             "#fb9f3a"
            ],
            [
             0.8888888888888888,
             "#fdca26"
            ],
            [
             1,
             "#f0f921"
            ]
           ],
           "sequentialminus": [
            [
             0,
             "#0d0887"
            ],
            [
             0.1111111111111111,
             "#46039f"
            ],
            [
             0.2222222222222222,
             "#7201a8"
            ],
            [
             0.3333333333333333,
             "#9c179e"
            ],
            [
             0.4444444444444444,
             "#bd3786"
            ],
            [
             0.5555555555555556,
             "#d8576b"
            ],
            [
             0.6666666666666666,
             "#ed7953"
            ],
            [
             0.7777777777777778,
             "#fb9f3a"
            ],
            [
             0.8888888888888888,
             "#fdca26"
            ],
            [
             1,
             "#f0f921"
            ]
           ]
          },
          "colorway": [
           "#636efa",
           "#EF553B",
           "#00cc96",
           "#ab63fa",
           "#FFA15A",
           "#19d3f3",
           "#FF6692",
           "#B6E880",
           "#FF97FF",
           "#FECB52"
          ],
          "font": {
           "color": "#2a3f5f"
          },
          "geo": {
           "bgcolor": "white",
           "lakecolor": "white",
           "landcolor": "white",
           "showlakes": true,
           "showland": true,
           "subunitcolor": "#C8D4E3"
          },
          "hoverlabel": {
           "align": "left"
          },
          "hovermode": "closest",
          "mapbox": {
           "style": "light"
          },
          "paper_bgcolor": "white",
          "plot_bgcolor": "white",
          "polar": {
           "angularaxis": {
            "gridcolor": "#EBF0F8",
            "linecolor": "#EBF0F8",
            "ticks": ""
           },
           "bgcolor": "white",
           "radialaxis": {
            "gridcolor": "#EBF0F8",
            "linecolor": "#EBF0F8",
            "ticks": ""
           }
          },
          "scene": {
           "xaxis": {
            "backgroundcolor": "white",
            "gridcolor": "#DFE8F3",
            "gridwidth": 2,
            "linecolor": "#EBF0F8",
            "showbackground": true,
            "ticks": "",
            "zerolinecolor": "#EBF0F8"
           },
           "yaxis": {
            "backgroundcolor": "white",
            "gridcolor": "#DFE8F3",
            "gridwidth": 2,
            "linecolor": "#EBF0F8",
            "showbackground": true,
            "ticks": "",
            "zerolinecolor": "#EBF0F8"
           },
           "zaxis": {
            "backgroundcolor": "white",
            "gridcolor": "#DFE8F3",
            "gridwidth": 2,
            "linecolor": "#EBF0F8",
            "showbackground": true,
            "ticks": "",
            "zerolinecolor": "#EBF0F8"
           }
          },
          "shapedefaults": {
           "line": {
            "color": "#2a3f5f"
           }
          },
          "ternary": {
           "aaxis": {
            "gridcolor": "#DFE8F3",
            "linecolor": "#A2B1C6",
            "ticks": ""
           },
           "baxis": {
            "gridcolor": "#DFE8F3",
            "linecolor": "#A2B1C6",
            "ticks": ""
           },
           "bgcolor": "white",
           "caxis": {
            "gridcolor": "#DFE8F3",
            "linecolor": "#A2B1C6",
            "ticks": ""
           }
          },
          "title": {
           "x": 0.05
          },
          "xaxis": {
           "automargin": true,
           "gridcolor": "#EBF0F8",
           "linecolor": "#EBF0F8",
           "ticks": "",
           "title": {
            "standoff": 15
           },
           "zerolinecolor": "#EBF0F8",
           "zerolinewidth": 2
          },
          "yaxis": {
           "automargin": true,
           "gridcolor": "#EBF0F8",
           "linecolor": "#EBF0F8",
           "ticks": "",
           "title": {
            "standoff": 15
           },
           "zerolinecolor": "#EBF0F8",
           "zerolinewidth": 2
          }
         }
        },
        "title": {
         "text": "Number of Iterations vs. Relaxation Parameter (ω)"
        },
        "xaxis": {
         "title": {
          "text": "Relaxation Parameter (ω)"
         }
        },
        "yaxis": {
         "title": {
          "text": "Number of Iterations"
         }
        }
       }
      }
     },
     "metadata": {},
     "output_type": "display_data"
    },
    {
     "name": "stdout",
     "output_type": "stream",
     "text": [
      "Optimal ω: 1.60, Minimum Iterations: 39\n"
     ]
    }
   ],
   "source": [
    "def sor_method_iterations(A, b, omega, x0, tol, max_iter):\n",
    "    \"\"\"\n",
    "    Solves the system Ax = b using the Successive Over-Relaxation (SOR) method\n",
    "    and returns the number of iterations to reach a given residual tolerance.\n",
    "    \n",
    "    Args:\n",
    "        A (np.array): Coefficient matrix.\n",
    "        b (np.array): Right-hand side vector.\n",
    "        omega (float): Relaxation parameter (0 < omega < 2).\n",
    "        x0 (np.array): Initial guess.\n",
    "        tol (float): Convergence tolerance.\n",
    "        max_iter (int): Maximum number of iterations.\n",
    "    \n",
    "    Returns:\n",
    "        iterations (int): Number of iterations to reach the tolerance.\n",
    "    \"\"\"\n",
    "    n = len(b)\n",
    "    x = x0.copy()\n",
    "    iterations = 0\n",
    "\n",
    "    for k in range(max_iter):\n",
    "        x_old = x.copy()\n",
    "        \n",
    "        for i in range(n):\n",
    "            sum1 = np.dot(A[i, :i], x[:i])\n",
    "            sum2 = np.dot(A[i, i + 1:], x_old[i + 1:])\n",
    "            x[i] = (1 - omega) * x_old[i] + (omega / A[i, i]) * (b[i] - sum1 - sum2)\n",
    "        \n",
    "        residual = np.linalg.norm(A @ x - b)\n",
    "        iterations += 1\n",
    "        \n",
    "        if residual < tol:\n",
    "            break\n",
    "\n",
    "    return iterations\n",
    "\n",
    "def create_poisson_matrix(n):\n",
    "    \"\"\"\n",
    "    Creates the coefficient matrix A for the 2D discrete Poisson problem\n",
    "    using the finite difference method on a grid of size n x n.\n",
    "    \"\"\"\n",
    "    N = n * n\n",
    "    A = np.zeros((N, N))\n",
    "    \n",
    "    for i in range(N):\n",
    "        A[i, i] = 4\n",
    "        if i % n != 0:  # Left neighbor\n",
    "            A[i, i - 1] = -1\n",
    "        if (i + 1) % n != 0:  # Right neighbor\n",
    "            A[i, i + 1] = -1\n",
    "        if i - n >= 0:  # Top neighbor\n",
    "            A[i, i - n] = -1\n",
    "        if i + n < N:  # Bottom neighbor\n",
    "            A[i, i + n] = -1\n",
    "    \n",
    "    return A\n",
    "\n",
    "# Parameters\n",
    "n = 10  # Grid size (n x n)\n",
    "tol = 1e-6  # Residual tolerance\n",
    "max_iter = 1000  # Maximum iterations\n",
    "x0 = np.zeros(n * n)  # Initial guess\n",
    "omega_values = np.linspace(0.5, 1.95, 30)  # Range of omega values\n",
    "\n",
    "# Create the Poisson matrix and right-hand side vector\n",
    "A = create_poisson_matrix(n)\n",
    "b = np.ones(n * n)\n",
    "\n",
    "# Compute the number of iterations for each omega\n",
    "iterations = []\n",
    "for omega in omega_values:\n",
    "    num_iter = sor_method_iterations(A, b, omega, x0, tol, max_iter)\n",
    "    iterations.append(num_iter)\n",
    "\n",
    "\n",
    "#Plot\n",
    "fig = go.Figure()\n",
    "\n",
    "# Add the iterations trace\n",
    "fig.add_trace(go.Scatter(\n",
    "    x=omega_values,\n",
    "    y=iterations,\n",
    "    mode='lines+markers',\n",
    "    name='Iterations',\n",
    "    marker=dict(size=8, color='blue'),\n",
    "    line=dict(width=2)\n",
    "))\n",
    "\n",
    "# Add a marker for Gauss-Seidel (ω=1)\n",
    "fig.add_trace(go.Scatter(\n",
    "    x=[1.0], \n",
    "    y=[min(iterations)], \n",
    "    mode='markers',\n",
    "    marker=dict(color='red', size=10),\n",
    "    name='Gauss-Seidel (ω=1)'\n",
    "))\n",
    "\n",
    "# Add a vertical line at ω=1\n",
    "fig.add_shape(\n",
    "    type='line',\n",
    "    x0=1.0,\n",
    "    y0=0,\n",
    "    x1=1.0,\n",
    "    y1=max(iterations),  # Adjust this to the maximum y value for the line length\n",
    "    line=dict(color='red', dash='dash')\n",
    ")\n",
    "\n",
    "# Update layout\n",
    "fig.update_layout(\n",
    "    title='Number of Iterations vs. Relaxation Parameter (ω)',\n",
    "    xaxis_title='Relaxation Parameter (ω)',\n",
    "    yaxis_title='Number of Iterations',\n",
    "    template='plotly_white',\n",
    "    showlegend=True\n",
    ")\n",
    "\n",
    "fig.show()\n",
    "# Find the optimal omega (minimum iterations)\n",
    "optimal_omega = omega_values[np.argmin(iterations)]\n",
    "print(f\"Optimal ω: {optimal_omega:.2f}, Minimum Iterations: {min(iterations)}\")\n"
   ]
  },
  {
   "cell_type": "markdown",
   "metadata": {},
   "source": [
    "### Explanation of the Code\n",
    "\n",
    "1. **SOR Method**:\n",
    "   - The `sor_method_iterations` function computes the number of iterations required to achieve a specified residual tolerance for a given relaxation parameter $\\omega$.\n",
    "   - It updates each component of the solution vector $x$ iteratively using the SOR formula:\n",
    "     \\[$\n",
    "     x_i^{(k+1)} = (1 - \\omega)x_i^{(k)} + \\frac{\\omega}{A_{ii}} \\left(b_i - \\sum_{j < i} A_{ij}x_j^{(k+1)} - \\sum_{j > i} A_{ij}x_j^{(k)}\\right)\n",
    "     $\\]\n",
    "\n",
    "2. **Relaxation Parameter**:\n",
    "   - The `omega_values` array explores a range of $\\omega$ values between 0.5 and 1.95, excluding $\\omega = 2$ since convergence is not guaranteed beyond this value.\n",
    "   - Different values of $\\omega$ influence the convergence speed of the SOR method.\n",
    "\n",
    "3. **Poisson Matrix**:\n",
    "   - The `create_poisson_matrix` function generates the 2D discrete Poisson problem matrix $A$ using the finite difference method.\n",
    "   - This matrix models a discretized Laplacian operator, which is commonly used in numerical methods for solving partial differential equations.\n",
    "\n",
    "4. **Optimal $\\omega$**:\n",
    "   - The plot shows the number of iterations required for convergence versus $\\omega$.\n",
    "   - The minimum point on the plot corresponds to the optimal $\\omega$, where the SOR method converges the fastest.\n",
    "\n",
    "5. **Plot**:\n",
    "   - The plot includes a vertical line at $\\omega = 1$, corresponding to the Gauss-Seidel method. This provides a baseline for comparing the performance of the SOR method.\n",
    "\n",
    "---\n",
    "\n",
    "### Theoretical Prediction of Optimal $\\omega$\n",
    "\n",
    "The optimal relaxation parameter $\\omega_{\\text{opt}}$ for the SOR method can be theoretically predicted using:\n",
    "\\[\n",
    "\\omega_{\\text{opt}} = \\frac{2}{1 + \\sqrt{1 - \\rho(G)^2}},\n",
    "\\]\n",
    "where $\\rho(G)$ is the spectral radius of the iteration matrix $G$ for the Gauss-Seidel method.\n",
    "\n",
    "1. **Spectral Radius**:\n",
    "   - The spectral radius $\\rho(G)$ is the largest absolute eigenvalue of $G$.\n",
    "   - For the Gauss-Seidel method, $G$ is given by:\n",
    "     \\[\n",
    "     $G_{\\text{GS}} = (D - L)^{-1}U$,\n",
    "     \\]\n",
    "     where $A = D - L - U$ is the decomposition of the coefficient matrix into diagonal ($D$), strictly lower triangular ($L$), and strictly upper triangular ($U$) components.\n",
    "\n",
    "2. **Impact of $\\rho(G)$**:\n",
    "   - A smaller $\\rho(G)$ leads to faster convergence and a larger optimal $\\omega_{\\text{opt}}$.\n",
    "   - As $\\rho(G)$ approaches 1, the convergence slows down, and the optimal $\\omega$ approaches 1.\n",
    "\n",
    "3. **Practical Estimation**:\n",
    "   - In practice, computing $\\rho(G)$ involves eigenvalue calculations, which can be computationally expensive.\n",
    "   - Numerical experiments, as shown in the provided code, are often used to empirically determine the optimal $\\omega$.\n",
    "\n",
    "4. **Conclusions**:\n",
    "   - The optimal $\\omega$ typically lies between 1 and 2 for many problems.\n",
    "   - For the discrete Poisson problem, the theoretical and empirical values of $\\omega_{\\text{opt}}$ are often close, validating the approach.\n"
   ]
  },
  {
   "cell_type": "markdown",
   "metadata": {},
   "source": [
    "## Problem 5: Residual Decay and Performance Comparison\n",
    "\n",
    "1. Residual Decay:\n",
    "   - Plot $||Ax^{(k)} - b||$ versus iteration number for Jacobi, Gauss-Seidel, and SOR methods.\n",
    "   - Compare how quickly each method reduces the residual to understand convergence rates.\n",
    "\n",
    "2. Performance Insights:\n",
    "   - SOR typically converges faster than Jacobi and Gauss-Seidel for well-chosen $\\omega$.\n",
    "   - The optimal $\\omega$ can significantly reduce the number of iterations required.\n"
   ]
  },
  {
   "cell_type": "code",
   "execution_count": 17,
   "metadata": {},
   "outputs": [
    {
     "data": {
      "application/vnd.plotly.v1+json": {
       "config": {
        "plotlyServerURL": "https://plot.ly"
       },
       "data": [
        {
         "marker": {
          "symbol": "circle"
         },
         "mode": "lines+markers",
         "name": "Jacobi Method",
         "type": "scatter",
         "x": [
          0,
          1,
          2,
          3,
          4,
          5,
          6,
          7,
          8,
          9,
          10,
          11,
          12,
          13,
          14,
          15,
          16,
          17,
          18,
          19,
          20,
          21,
          22,
          23,
          24,
          25,
          26,
          27,
          28,
          29,
          30,
          31,
          32,
          33,
          34,
          35,
          36,
          37,
          38,
          39,
          40,
          41,
          42,
          43,
          44,
          45,
          46,
          47,
          48,
          49,
          50,
          51,
          52,
          53,
          54,
          55,
          56,
          57,
          58,
          59,
          60,
          61,
          62,
          63,
          64,
          65,
          66,
          67,
          68,
          69,
          70,
          71,
          72,
          73,
          74,
          75,
          76,
          77,
          78,
          79,
          80,
          81,
          82,
          83,
          84,
          85,
          86,
          87,
          88,
          89,
          90,
          91,
          92,
          93,
          94,
          95,
          96,
          97,
          98,
          99,
          100,
          101,
          102,
          103,
          104,
          105,
          106,
          107,
          108,
          109,
          110,
          111,
          112,
          113,
          114,
          115,
          116,
          117,
          118,
          119,
          120,
          121,
          122,
          123,
          124,
          125,
          126,
          127,
          128,
          129,
          130,
          131,
          132,
          133,
          134,
          135,
          136,
          137,
          138,
          139,
          140,
          141,
          142,
          143,
          144,
          145,
          146,
          147,
          148,
          149,
          150,
          151,
          152,
          153,
          154,
          155,
          156,
          157,
          158,
          159,
          160,
          161,
          162,
          163,
          164,
          165,
          166,
          167,
          168,
          169,
          170,
          171,
          172,
          173,
          174,
          175,
          176,
          177,
          178,
          179,
          180,
          181,
          182,
          183,
          184,
          185,
          186,
          187,
          188,
          189,
          190,
          191,
          192,
          193,
          194,
          195,
          196,
          197,
          198,
          199,
          200,
          201,
          202,
          203,
          204,
          205,
          206,
          207,
          208,
          209,
          210,
          211,
          212,
          213,
          214,
          215,
          216,
          217,
          218,
          219,
          220,
          221,
          222,
          223,
          224,
          225,
          226,
          227,
          228,
          229,
          230,
          231,
          232,
          233,
          234,
          235,
          236,
          237,
          238,
          239,
          240,
          241,
          242,
          243,
          244,
          245,
          246,
          247,
          248,
          249,
          250,
          251,
          252,
          253,
          254,
          255,
          256,
          257,
          258,
          259,
          260,
          261,
          262,
          263,
          264,
          265,
          266,
          267,
          268,
          269,
          270,
          271,
          272,
          273,
          274,
          275,
          276,
          277,
          278,
          279,
          280,
          281,
          282,
          283,
          284,
          285,
          286,
          287,
          288,
          289,
          290,
          291,
          292,
          293,
          294,
          295,
          296,
          297,
          298,
          299,
          300,
          301,
          302,
          303,
          304,
          305,
          306,
          307,
          308,
          309,
          310,
          311,
          312,
          313,
          314,
          315,
          316,
          317,
          318,
          319,
          320,
          321,
          322,
          323,
          324,
          325,
          326,
          327,
          328,
          329,
          330,
          331,
          332,
          333,
          334,
          335,
          336,
          337,
          338,
          339,
          340,
          341,
          342,
          343,
          344,
          345,
          346,
          347,
          348,
          349,
          350,
          351,
          352,
          353,
          354,
          355,
          356,
          357,
          358,
          359,
          360,
          361,
          362,
          363,
          364,
          365,
          366,
          367,
          368,
          369,
          370,
          371,
          372,
          373,
          374,
          375,
          376,
          377,
          378,
          379,
          380,
          381,
          382,
          383,
          384,
          385,
          386
         ],
         "y": [
          9.1104335791443,
          8.522030274529655,
          8.048801347095106,
          7.641663400808099,
          7.2788181418744395,
          6.948322171831885,
          6.642819955131345,
          6.357457259588022,
          6.088891443578607,
          5.834751327506939,
          5.5933118216424615,
          5.3632858468574565,
          5.143686883385775,
          4.933736655962687,
          4.732802605363521,
          4.540355335550197,
          4.355939561317006,
          4.179154213910257,
          4.009638770119232,
          3.8470638149574166,
          3.6911244865714994,
          3.541535885077515,
          3.3980298211498607,
          3.260352480053326,
          3.128262712635568,
          3.001530757102024,
          2.8799372581185656,
          2.7632724924063696,
          2.651335738952102,
          2.5439347516330852,
          2.440885305428498,
          2.342010796475479,
          2.2471418824075213,
          2.156116153614477,
          2.0687778289232135,
          1.9849774711458872,
          1.9045717192707317,
          1.8274230349780516,
          1.7533994617850133,
          1.682374395550049,
          1.6142263653621294,
          1.5488388240447712,
          1.4860999476481342,
          1.4259024434039411,
          1.368143365691065,
          1.3127239396129706,
          1.259549391828246,
          1.2085287883061748,
          1.15957487870351,
          1.1126039470785947,
          1.067535668675194,
          1.0242929725231023,
          0.9828019096147687,
          0.9429915264288597,
          0.9047937435818042,
          0.8681432393980933,
          0.8329773381989936,
          0.7992359031179319,
          0.766861233258556,
          0.7357979650193655,
          0.7059929774158454,
          0.6773953012380375,
          0.6499560318881141,
          0.6236282457487182,
          0.5983669199391565,
          0.5741288553220636,
          0.5508726026288888,
          0.5285583915778104,
          0.5071480628629809,
          0.48660500289861536,
          0.46689408120645964,
          0.4479815903395096,
          0.4298351882392174,
          0.41242384292765777,
          0.39571777944009134,
          0.3796884289070363,
          0.36430837969898655,
          0.3495513305500331,
          0.33539204558033525,
          0.3218063111405162,
          0.3087708944041154,
          0.2962635036374025,
          0.2842627500785047,
          0.27274811136064764,
          0.2616998964171691,
          0.2510992118079155,
          0.2409279294098348,
          0.23116865541622106,
          0.22180470059177362,
          0.21282005173248025,
          0.20419934428158612,
          0.19592783605486547,
          0.1879913820301414,
          0.18037641015799558,
          0.17306989815240328,
          0.16605935122140905,
          0.1593327806999232,
          0.15287868354803485,
          0.14668602267977346,
          0.14074420808869606,
          0.1350430787380452,
          0.12957288518442386,
          0.12432427290540876,
          0.11928826630247341,
          0.11445625335187855,
          0.10981997087737207,
          0.10537149041937806,
          0.10110320467668506,
          0.0970078144971869,
          0.09307831639575302,
          0.08930799057759586,
          0.08569038944683403,
          0.0822193265805228,
          0.07888886614932461,
          0.07569331276669244,
          0.07262720174924575,
          0.06968528977168396,
          0.06686254590021765,
          0.06415414298924237,
          0.06155544942643871,
          0.05906202121234139,
          0.056669594360716925,
          0.054374077606692744,
          0.05217154541038629,
          0.05005823124388365,
          0.04803052115007154,
          0.0460849475625362,
          0.04421818337564586,
          0.04242703625493016,
          0.04070844317789073,
          0.03905946519597275,
          0.03747728240867786,
          0.03595918914129352,
          0.03450258931794103,
          0.03310499202207101,
          0.031764007236746536,
          0.03047734175749402,
          0.029242795270767258,
          0.028058256591150164,
          0.026921700051079273,
          0.025831182036769117,
          0.024784837664429675,
          0.02378087759119945,
          0.022817584955138852,
          0.02189331243931608,
          0.021006479454667396,
          0.020155569437134688,
          0.01933912725412807,
          0.01855575671617448,
          0.017804118189269462,
          0.017082926303998158,
          0.016390947757461534,
          0.01572699920416809,
          0.015089945232440548,
          0.014478696422759252,
          0.013892207484730683,
          0.013329475469590851,
          0.012789538055039915,
          0.012271471899590748,
          0.011774391063561231,
          0.011297445494077707,
          0.010839819571365828,
          0.010400730713968513,
          0.009979428040511327,
          0.009575191085562249,
          0.009187328567611636,
          0.008815177206912071,
          0.008458100591198702,
          0.008115488087372166,
          0.007786753797292389,
          0.007471335555762709,
          0.00716869396927074,
          0.006878311493509805,
          0.006599691548363833,
          0.00633235766867113,
          0.0060758526895009785,
          0.005829737964292735,
          0.005593592614752434,
          0.005367012811116831,
          0.005149611081563236,
          0.004941015649609467,
          0.004740869798318616,
          0.004548831260310095,
          0.004364571632427973,
          0.004187775814143765,
          0.004018141468748084,
          0.0038553785062525863,
          0.003699208587374649,
          0.003549364647524596,
          0.0034055904400932696,
          0.0032676400982824347,
          0.003135277714601056,
          0.003008276937488006,
          0.0028864205842079956,
          0.002769500269445787,
          0.0026573160489495166,
          0.0025496760776381605,
          0.0024463962814918264,
          0.0023473000427704236,
          0.0022522178979992873,
          0.0021609872481801527,
          0.002073452080698279,
          0.001989462702560549,
          0.0019088754843741356,
          0.0018315526147601538,
          0.0017573618646619452,
          0.001686176361247837,
          0.0016178743708862501,
          0.0015523390910612048,
          0.0014894584505462923,
          0.0014291249177787301,
          0.0013712353170343202,
          0.0013156906518605451,
          0.0012623959359120047,
          0.0012112600304247556,
          0.0011621954884134802,
          0.0011151184051016267,
          0.001069948274443018,
          0.0010266078514560271,
          0.000985023020137036,
          0.0009451226666664939,
          0.0009068385578711092,
          0.0008701052244813684,
          0.0008348598491955096,
          0.0008010421592536792,
          0.0007685943233761375,
          0.0007374608528391274,
          0.0007075885066153562,
          0.0006789262003012406,
          0.0006514249187910309,
          0.0006250376324248761,
          0.0005997192165524266,
          0.0005754263744268493,
          0.0005521175630899959,
          0.0005297529223936699,
          0.0005082942067914266,
          0.00048770471994645954,
          0.0004679492519833752,
          0.00044899401928716597,
          0.00043080660670130914,
          0.0004133559121222899,
          0.00039661209327987006,
          0.00038054651675139374,
          0.0003651317089565543,
          0.0003503413091914875,
          0.00033615002452903507,
          0.0003225335866158132,
          0.00030946871011563635,
          0.00029693305291055716,
          0.00028490517789723694,
          0.0002733645163420831,
          0.0002622913326637669,
          0.00025166669073275723,
          0.00024147242144452292,
          0.0002316910917038732,
          0.0002223059745306388,
          0.00021330102056291343,
          0.00020466083049369734,
          0.0001963706288387412,
          0.00018841623859084874,
          0.0001807840570404304,
          0.00017346103246913448,
          0.00016643464185351668,
          0.0001596928694211131,
          0.00015322418614546998,
          0.00014701752999493332,
          0.00014106228702890212,
          0.0001353482732506709,
          0.00012986571717259654,
          0.00012460524314143975,
          0.0001195578552714295,
          0.00011471492207299187,
          0.00011006816169892698,
          0.00010560962776299611,
          0.0001013316957847531,
          0.00009722705011070234,
          0.00009328867143167545,
          0.00008950982474957536,
          0.00008588404792006923,
          0.0000824051405313944,
          0.00007906715332708395,
          0.00007586437805421847,
          0.0000727913376902753,
          0.00006984277706421129,
          0.00006701365384263007,
          0.00006429913000467841,
          0.00006169456344546734,
          0.00005919550013070928,
          0.00005679766644610039,
          0.00005449696187313464,
          0.00005228945200215748,
          0.00005017136178770532,
          0.000048139069117885014,
          0.00004618909857286523,
          0.00004431811553990045,
          0.00004252292046274331,
          0.00004080044339562782,
          0.000039147738758341376,
          0.00003756198028231454,
          0.00003604045614773256,
          0.00003458056444501158,
          0.0000331798086108875,
          0.00003183579322308876,
          0.00003054621990987989,
          0.000029308883378436066,
          0.000028121667659725403,
          0.000026982542527179255,
          0.000025889559957756387,
          0.000024840850876730588,
          0.00002383462187269524,
          0.000022869152223844065,
          0.00002194279086288816,
          0.000021053953653874836,
          0.00002020112060030297,
          0.000019382833274332634,
          0.000018597692329968903,
          0.000017844355122356117,
          0.000017121533357576584,
          0.000016427990960398833,
          0.000015762541894197326,
          0.000015124048189969548,
          0.000014511417976324157,
          0.000013923603586273285,
          0.00001335959980679769,
          0.000012818442138950523,
          0.000012299205165921321,
          0.000011801000947386667,
          0.000011322977480536574,
          0.000010864317336192745,
          0.000010424236149615039,
          0.00001000198134421144,
          0.0000095968308155607,
          0.00000920809173496418,
          0.000008835099318030335,
          0.000008477215722508391,
          0.000008133828915793007,
          0.00000780435169513968,
          0.000007488220620847227,
          0.00000718489506822343,
          0.000006893856337948471,
          0.000006614606711647503,
          0.000006346668660095702,
          0.000006089583990623156,
          0.00000584291305314607,
          0.000005606234009575192,
          0.0000053791421448257016,
          0.000005161249093706084,
          0.0000049521822407923415,
          0.0000047515840624109155,
          0.000004559111525956609,
          0.000004374435472240921,
          0.000004197240097549854,
          0.000004027222381056988,
          0.000003864091584514317,
          0.0000037075687226161798,
          0.0000035573861281055904,
          0.0000034132870048538095,
          0.000003275024895169802,
          0.0000031423633737450745,
          0.0000030150755809366512,
          0.000002892943833335704,
          0.000002775759280757413,
          0.000002663321524627534,
          0.000002555438287281069,
          0.0000024519250816967918,
          0.000002352604887934555,
          0.000002257307861834342,
          0.0000021658710384832603,
          0.000002078138038185347,
          0.000001993958845640633,
          0.0000019131894968156078,
          0.0000018356918865074132,
          0.0000017613334715775034,
          0.0000016899870802720766,
          0.0000016215307369808408,
          0.0000015558473454069643,
          0.0000014928245948432757,
          0.0000014323547097159023,
          0.0000013743342749552007,
          0.0000013186640823498266,
          0.000001265248928517868,
          0.0000012139974491886301,
          0.0000011648220260474928,
          0.0000011176385480052012,
          0.0000010723663336409376,
          0.000001028927960668249,
          9.872491507663357e-7
         ]
        },
        {
         "marker": {
          "symbol": "square"
         },
         "mode": "lines+markers",
         "name": "Gauss-Seidel Method",
         "type": "scatter",
         "x": [
          0,
          1,
          2,
          3,
          4,
          5,
          6,
          7,
          8,
          9,
          10,
          11,
          12,
          13,
          14,
          15,
          16,
          17,
          18,
          19,
          20,
          21,
          22,
          23,
          24,
          25,
          26,
          27,
          28,
          29,
          30,
          31,
          32,
          33,
          34,
          35,
          36,
          37,
          38,
          39,
          40,
          41,
          42,
          43,
          44,
          45,
          46,
          47,
          48,
          49,
          50,
          51,
          52,
          53,
          54,
          55,
          56,
          57,
          58,
          59,
          60,
          61,
          62,
          63,
          64,
          65,
          66,
          67,
          68,
          69,
          70,
          71,
          72,
          73,
          74,
          75,
          76,
          77,
          78,
          79,
          80,
          81,
          82,
          83,
          84,
          85,
          86,
          87,
          88,
          89,
          90,
          91,
          92,
          93,
          94,
          95,
          96,
          97,
          98,
          99,
          100,
          101,
          102,
          103,
          104,
          105,
          106,
          107,
          108,
          109,
          110,
          111,
          112,
          113,
          114,
          115,
          116,
          117,
          118,
          119,
          120,
          121,
          122,
          123,
          124,
          125,
          126,
          127,
          128,
          129,
          130,
          131,
          132,
          133,
          134,
          135,
          136,
          137,
          138,
          139,
          140,
          141,
          142,
          143,
          144,
          145,
          146,
          147,
          148,
          149,
          150,
          151,
          152,
          153,
          154,
          155,
          156,
          157,
          158,
          159,
          160,
          161,
          162,
          163,
          164,
          165,
          166,
          167,
          168,
          169,
          170,
          171,
          172,
          173,
          174,
          175,
          176,
          177,
          178,
          179,
          180,
          181,
          182,
          183,
          184,
          185,
          186,
          187,
          188,
          189,
          190,
          191,
          192,
          193,
          194
         ],
         "y": [
          8.653760484875452,
          7.785236858235004,
          7.093169051921346,
          6.50315913532145,
          5.98265119979886,
          5.514434195485088,
          5.088367451779295,
          4.6979581874058285,
          4.33872264656009,
          4.007337162359072,
          3.7011815094144365,
          3.4180871057240467,
          3.156193831108855,
          2.9138651425336817,
          2.689635226957463,
          2.4821744151602703,
          2.290265493094755,
          2.1127868475177443,
          1.948700099271536,
          1.7970407906074914,
          1.6569111989819763,
          1.527474650006069,
          1.4079508898864082,
          1.2976122035560647,
          1.1957800545817605,
          1.101822089392434,
          1.0151493978585042,
          0.9352139586629549,
          0.8615062240771809,
          0.7935528169830168,
          0.7309143251914062,
          0.673183185885424,
          0.619981657635905,
          0.5709598798897395,
          0.5257940208551086,
          0.4841845148422911,
          0.44585438974025937,
          0.41054768467442154,
          0.3780279571648974,
          0.348076878391137,
          0.3204929145253214,
          0.2950900915528557,
          0.271696840563842,
          0.25015492017202184,
          0.23031841248958856,
          0.2120527889456538,
          0.19523404216936788,
          0.17974788015413617,
          0.16548897896354117,
          0.1523602903233404,
          0.1402724005565938,
          0.12914293745349514,
          0.11889602181693594,
          0.1094617605838684,
          0.10077577858664123,
          0.09277878618439808,
          0.08541618015955674,
          0.07863767543625291,
          0.07239696533478276,
          0.06665140822763456,
          0.061361738607769584,
          0.05649180071772589,
          0.05200830301901903,
          0.04788059190462052,
          0.04408044317338074,
          0.040581869894205244,
          0.03736094538951329,
          0.03439564016272042,
          0.03166567168298008,
          0.029152366023055133,
          0.026838530422625285,
          0.0247083359206769,
          0.022747209266355477,
          0.020941733378933902,
          0.019279555684086146,
          0.017749303705848495,
          0.016340507342215992,
          0.015043527296863526,
          0.013849489180889742,
          0.01275022283647617,
          0.011738206469683708,
          0.010806515211927558,
          0.00994877375973471,
          0.00915911276990148,
          0.008432128712686384,
          0.007762846909169936,
          0.007146687500453188,
          0.006579434116398373,
          0.006057205029926114,
          0.0055764265998304065,
          0.005133808820664041,
          0.004726322812637989,
          0.004351180097636514,
          0.004005813519701239,
          0.0036878596795668875,
          0.0033951427631257907,
          0.0031256596531992966,
          0.002877566222906203,
          0.0026491647167353346,
          0.002438892133162105,
          0.002245309529208144,
          0.002067092173904766,
          0.001903020483194779,
          0.001751971674326741,
          0.0016129120826114817,
          0.0014848900880012677,
          0.0013670296030674288,
          0.001258524077812898,
          0.001158630980388038,
          0.0010666667157806493,
          0.0009820019479049647,
          0.0009040572929211591,
          0.0008322993544042546,
          0.0007662370731991638,
          0.0007054183670032811,
          0.0006494270366667286,
          0.0005978799180457151,
          0.000550424259912688,
          0.0005067353100140648,
          0.000466514092684857,
          0.00042948536290628425,
          0.0003953957227168944,
          0.0003640118871503825,
          0.0003351190878109473,
          0.00030851960315993556,
          0.00028403140542362075,
          0.0002614869149840133,
          0.00024073185351984911,
          0.00022162418830309433,
          0.0002040331601813302,
          0.00018783838877650972,
          0.00017292904869228455,
          0.00015920311110117518,
          0.00014656664552553777,
          0.00013493317705277557,
          0.0001242230945726612,
          0.00011436310594778097,
          0.00010528573649246132,
          0.00009692886718577821,
          0.00008923530961183845,
          0.00008215241457322579,
          0.00007563171180784716,
          0.00006962857830062946,
          0.0000641019329120911,
          0.00005901395523322475,
          0.00005432982679311448,
          0.00005001749277049975,
          0.000046047442638183974,
          0.00004239250822519308,
          0.00003902767777224568,
          0.000035929924793870505,
          0.000033078050479909475,
          0.00003045253865946808,
          0.000028035422198602832,
          0.000025810160083172174,
          0.00002376152421987112,
          0.000021875495208438163,
          0.000020139166419284408,
          0.000018540655659538976,
          0.000017069023871075905,
          0.000015714200252395465,
          0.000014466913362800408,
          0.000013318627670417618,
          0.000012261485122708018,
          0.000011288251401902315,
          0.000010392266387495074,
          0.000009567398601923451,
          0.00000880800323637957,
          0.000008108883539269807,
          0.0000074652552282126215,
          0.000006872713783459414,
          0.000006327204267010247,
          0.0000058249936057272215,
          0.000005362645025385455,
          0.00000493699455105327,
          0.000004545129329936951,
          0.000004184367716633103,
          0.000003852240922723898,
          0.0000035464761044626074,
          0.00000326498082676299,
          0.0000030058287413750802,
          0.000002767246394185708,
          0.000002547601102064381,
          0.0000023453897619752437,
          0.0000021592285929506903,
          0.000001987843639380124,
          0.000001830062062170025,
          0.0000016848041142318861,
          0.0000015510757648614533,
          0.0000014279618665529904,
          0.000001314619915676536,
          0.0000012102742792597431,
          0.000001114210899126174,
          0.0000010257723774401662,
          9.443535077618091e-7
         ]
        },
        {
         "marker": {
          "symbol": "triangle-up"
         },
         "mode": "lines+markers",
         "name": "SOR Method (ω=1.5)",
         "type": "scatter",
         "x": [
          0,
          1,
          2,
          3,
          4,
          5,
          6,
          7,
          8,
          9,
          10,
          11,
          12,
          13,
          14,
          15,
          16,
          17,
          18,
          19,
          20,
          21,
          22,
          23,
          24,
          25,
          26,
          27,
          28,
          29,
          30,
          31,
          32,
          33,
          34,
          35,
          36,
          37,
          38,
          39,
          40,
          41,
          42,
          43,
          44,
          45,
          46,
          47,
          48,
          49,
          50,
          51,
          52,
          53
         ],
         "y": [
          8.335734856778357,
          6.567583378600692,
          5.270164434045365,
          4.261633035684839,
          3.450760708720186,
          2.7866726834406736,
          2.2371264575687904,
          1.779619013957714,
          1.3974398249262947,
          1.0776538458167435,
          0.8140273388676442,
          0.6034647391066179,
          0.4405451573412613,
          0.3178836916339094,
          0.22783912863281508,
          0.1632525319383289,
          0.1176967221055612,
          0.08567372838396534,
          0.06282961828640256,
          0.046055171834841334,
          0.033326428687467866,
          0.024317982538855996,
          0.01769762695243807,
          0.012881077865928328,
          0.009374392239611841,
          0.006823048208071974,
          0.004966812881162891,
          0.0036160099907313102,
          0.002632665503044352,
          0.0019166594154231516,
          0.0013953403214724879,
          0.0010158267590016918,
          0.000739543154002096,
          0.0005383957135441306,
          0.0003919523305591276,
          0.0002853408516671256,
          0.00020772883300169978,
          0.00015122801075705478,
          0.00011009540114733453,
          0.0000801503361193856,
          0.00005834992397326757,
          0.000042479236741685735,
          0.0000309251564345631,
          0.000022513725518834795,
          0.000016390142601991248,
          0.000011932135804322467,
          0.000008686676928046462,
          0.000006323960656258502,
          0.000004603886710706217,
          0.00000335166105638539,
          0.000002440032313016329,
          0.0000017763603563116999,
          0.0000012932025648534115,
          9.414603535420237e-7
         ]
        }
       ],
       "layout": {
        "legend": {
         "orientation": "v",
         "traceorder": "normal",
         "x": 1,
         "xanchor": "right",
         "y": 1,
         "yanchor": "top"
        },
        "template": {
         "data": {
          "bar": [
           {
            "error_x": {
             "color": "#2a3f5f"
            },
            "error_y": {
             "color": "#2a3f5f"
            },
            "marker": {
             "line": {
              "color": "white",
              "width": 0.5
             },
             "pattern": {
              "fillmode": "overlay",
              "size": 10,
              "solidity": 0.2
             }
            },
            "type": "bar"
           }
          ],
          "barpolar": [
           {
            "marker": {
             "line": {
              "color": "white",
              "width": 0.5
             },
             "pattern": {
              "fillmode": "overlay",
              "size": 10,
              "solidity": 0.2
             }
            },
            "type": "barpolar"
           }
          ],
          "carpet": [
           {
            "aaxis": {
             "endlinecolor": "#2a3f5f",
             "gridcolor": "#C8D4E3",
             "linecolor": "#C8D4E3",
             "minorgridcolor": "#C8D4E3",
             "startlinecolor": "#2a3f5f"
            },
            "baxis": {
             "endlinecolor": "#2a3f5f",
             "gridcolor": "#C8D4E3",
             "linecolor": "#C8D4E3",
             "minorgridcolor": "#C8D4E3",
             "startlinecolor": "#2a3f5f"
            },
            "type": "carpet"
           }
          ],
          "choropleth": [
           {
            "colorbar": {
             "outlinewidth": 0,
             "ticks": ""
            },
            "type": "choropleth"
           }
          ],
          "contour": [
           {
            "colorbar": {
             "outlinewidth": 0,
             "ticks": ""
            },
            "colorscale": [
             [
              0,
              "#0d0887"
             ],
             [
              0.1111111111111111,
              "#46039f"
             ],
             [
              0.2222222222222222,
              "#7201a8"
             ],
             [
              0.3333333333333333,
              "#9c179e"
             ],
             [
              0.4444444444444444,
              "#bd3786"
             ],
             [
              0.5555555555555556,
              "#d8576b"
             ],
             [
              0.6666666666666666,
              "#ed7953"
             ],
             [
              0.7777777777777778,
              "#fb9f3a"
             ],
             [
              0.8888888888888888,
              "#fdca26"
             ],
             [
              1,
              "#f0f921"
             ]
            ],
            "type": "contour"
           }
          ],
          "contourcarpet": [
           {
            "colorbar": {
             "outlinewidth": 0,
             "ticks": ""
            },
            "type": "contourcarpet"
           }
          ],
          "heatmap": [
           {
            "colorbar": {
             "outlinewidth": 0,
             "ticks": ""
            },
            "colorscale": [
             [
              0,
              "#0d0887"
             ],
             [
              0.1111111111111111,
              "#46039f"
             ],
             [
              0.2222222222222222,
              "#7201a8"
             ],
             [
              0.3333333333333333,
              "#9c179e"
             ],
             [
              0.4444444444444444,
              "#bd3786"
             ],
             [
              0.5555555555555556,
              "#d8576b"
             ],
             [
              0.6666666666666666,
              "#ed7953"
             ],
             [
              0.7777777777777778,
              "#fb9f3a"
             ],
             [
              0.8888888888888888,
              "#fdca26"
             ],
             [
              1,
              "#f0f921"
             ]
            ],
            "type": "heatmap"
           }
          ],
          "heatmapgl": [
           {
            "colorbar": {
             "outlinewidth": 0,
             "ticks": ""
            },
            "colorscale": [
             [
              0,
              "#0d0887"
             ],
             [
              0.1111111111111111,
              "#46039f"
             ],
             [
              0.2222222222222222,
              "#7201a8"
             ],
             [
              0.3333333333333333,
              "#9c179e"
             ],
             [
              0.4444444444444444,
              "#bd3786"
             ],
             [
              0.5555555555555556,
              "#d8576b"
             ],
             [
              0.6666666666666666,
              "#ed7953"
             ],
             [
              0.7777777777777778,
              "#fb9f3a"
             ],
             [
              0.8888888888888888,
              "#fdca26"
             ],
             [
              1,
              "#f0f921"
             ]
            ],
            "type": "heatmapgl"
           }
          ],
          "histogram": [
           {
            "marker": {
             "pattern": {
              "fillmode": "overlay",
              "size": 10,
              "solidity": 0.2
             }
            },
            "type": "histogram"
           }
          ],
          "histogram2d": [
           {
            "colorbar": {
             "outlinewidth": 0,
             "ticks": ""
            },
            "colorscale": [
             [
              0,
              "#0d0887"
             ],
             [
              0.1111111111111111,
              "#46039f"
             ],
             [
              0.2222222222222222,
              "#7201a8"
             ],
             [
              0.3333333333333333,
              "#9c179e"
             ],
             [
              0.4444444444444444,
              "#bd3786"
             ],
             [
              0.5555555555555556,
              "#d8576b"
             ],
             [
              0.6666666666666666,
              "#ed7953"
             ],
             [
              0.7777777777777778,
              "#fb9f3a"
             ],
             [
              0.8888888888888888,
              "#fdca26"
             ],
             [
              1,
              "#f0f921"
             ]
            ],
            "type": "histogram2d"
           }
          ],
          "histogram2dcontour": [
           {
            "colorbar": {
             "outlinewidth": 0,
             "ticks": ""
            },
            "colorscale": [
             [
              0,
              "#0d0887"
             ],
             [
              0.1111111111111111,
              "#46039f"
             ],
             [
              0.2222222222222222,
              "#7201a8"
             ],
             [
              0.3333333333333333,
              "#9c179e"
             ],
             [
              0.4444444444444444,
              "#bd3786"
             ],
             [
              0.5555555555555556,
              "#d8576b"
             ],
             [
              0.6666666666666666,
              "#ed7953"
             ],
             [
              0.7777777777777778,
              "#fb9f3a"
             ],
             [
              0.8888888888888888,
              "#fdca26"
             ],
             [
              1,
              "#f0f921"
             ]
            ],
            "type": "histogram2dcontour"
           }
          ],
          "mesh3d": [
           {
            "colorbar": {
             "outlinewidth": 0,
             "ticks": ""
            },
            "type": "mesh3d"
           }
          ],
          "parcoords": [
           {
            "line": {
             "colorbar": {
              "outlinewidth": 0,
              "ticks": ""
             }
            },
            "type": "parcoords"
           }
          ],
          "pie": [
           {
            "automargin": true,
            "type": "pie"
           }
          ],
          "scatter": [
           {
            "marker": {
             "colorbar": {
              "outlinewidth": 0,
              "ticks": ""
             }
            },
            "type": "scatter"
           }
          ],
          "scatter3d": [
           {
            "line": {
             "colorbar": {
              "outlinewidth": 0,
              "ticks": ""
             }
            },
            "marker": {
             "colorbar": {
              "outlinewidth": 0,
              "ticks": ""
             }
            },
            "type": "scatter3d"
           }
          ],
          "scattercarpet": [
           {
            "marker": {
             "colorbar": {
              "outlinewidth": 0,
              "ticks": ""
             }
            },
            "type": "scattercarpet"
           }
          ],
          "scattergeo": [
           {
            "marker": {
             "colorbar": {
              "outlinewidth": 0,
              "ticks": ""
             }
            },
            "type": "scattergeo"
           }
          ],
          "scattergl": [
           {
            "marker": {
             "colorbar": {
              "outlinewidth": 0,
              "ticks": ""
             }
            },
            "type": "scattergl"
           }
          ],
          "scattermapbox": [
           {
            "marker": {
             "colorbar": {
              "outlinewidth": 0,
              "ticks": ""
             }
            },
            "type": "scattermapbox"
           }
          ],
          "scatterpolar": [
           {
            "marker": {
             "colorbar": {
              "outlinewidth": 0,
              "ticks": ""
             }
            },
            "type": "scatterpolar"
           }
          ],
          "scatterpolargl": [
           {
            "marker": {
             "colorbar": {
              "outlinewidth": 0,
              "ticks": ""
             }
            },
            "type": "scatterpolargl"
           }
          ],
          "scatterternary": [
           {
            "marker": {
             "colorbar": {
              "outlinewidth": 0,
              "ticks": ""
             }
            },
            "type": "scatterternary"
           }
          ],
          "surface": [
           {
            "colorbar": {
             "outlinewidth": 0,
             "ticks": ""
            },
            "colorscale": [
             [
              0,
              "#0d0887"
             ],
             [
              0.1111111111111111,
              "#46039f"
             ],
             [
              0.2222222222222222,
              "#7201a8"
             ],
             [
              0.3333333333333333,
              "#9c179e"
             ],
             [
              0.4444444444444444,
              "#bd3786"
             ],
             [
              0.5555555555555556,
              "#d8576b"
             ],
             [
              0.6666666666666666,
              "#ed7953"
             ],
             [
              0.7777777777777778,
              "#fb9f3a"
             ],
             [
              0.8888888888888888,
              "#fdca26"
             ],
             [
              1,
              "#f0f921"
             ]
            ],
            "type": "surface"
           }
          ],
          "table": [
           {
            "cells": {
             "fill": {
              "color": "#EBF0F8"
             },
             "line": {
              "color": "white"
             }
            },
            "header": {
             "fill": {
              "color": "#C8D4E3"
             },
             "line": {
              "color": "white"
             }
            },
            "type": "table"
           }
          ]
         },
         "layout": {
          "annotationdefaults": {
           "arrowcolor": "#2a3f5f",
           "arrowhead": 0,
           "arrowwidth": 1
          },
          "autotypenumbers": "strict",
          "coloraxis": {
           "colorbar": {
            "outlinewidth": 0,
            "ticks": ""
           }
          },
          "colorscale": {
           "diverging": [
            [
             0,
             "#8e0152"
            ],
            [
             0.1,
             "#c51b7d"
            ],
            [
             0.2,
             "#de77ae"
            ],
            [
             0.3,
             "#f1b6da"
            ],
            [
             0.4,
             "#fde0ef"
            ],
            [
             0.5,
             "#f7f7f7"
            ],
            [
             0.6,
             "#e6f5d0"
            ],
            [
             0.7,
             "#b8e186"
            ],
            [
             0.8,
             "#7fbc41"
            ],
            [
             0.9,
             "#4d9221"
            ],
            [
             1,
             "#276419"
            ]
           ],
           "sequential": [
            [
             0,
             "#0d0887"
            ],
            [
             0.1111111111111111,
             "#46039f"
            ],
            [
             0.2222222222222222,
             "#7201a8"
            ],
            [
             0.3333333333333333,
             "#9c179e"
            ],
            [
             0.4444444444444444,
             "#bd3786"
            ],
            [
             0.5555555555555556,
             "#d8576b"
            ],
            [
             0.6666666666666666,
             "#ed7953"
            ],
            [
             0.7777777777777778,
             "#fb9f3a"
            ],
            [
             0.8888888888888888,
             "#fdca26"
            ],
            [
             1,
             "#f0f921"
            ]
           ],
           "sequentialminus": [
            [
             0,
             "#0d0887"
            ],
            [
             0.1111111111111111,
             "#46039f"
            ],
            [
             0.2222222222222222,
             "#7201a8"
            ],
            [
             0.3333333333333333,
             "#9c179e"
            ],
            [
             0.4444444444444444,
             "#bd3786"
            ],
            [
             0.5555555555555556,
             "#d8576b"
            ],
            [
             0.6666666666666666,
             "#ed7953"
            ],
            [
             0.7777777777777778,
             "#fb9f3a"
            ],
            [
             0.8888888888888888,
             "#fdca26"
            ],
            [
             1,
             "#f0f921"
            ]
           ]
          },
          "colorway": [
           "#636efa",
           "#EF553B",
           "#00cc96",
           "#ab63fa",
           "#FFA15A",
           "#19d3f3",
           "#FF6692",
           "#B6E880",
           "#FF97FF",
           "#FECB52"
          ],
          "font": {
           "color": "#2a3f5f"
          },
          "geo": {
           "bgcolor": "white",
           "lakecolor": "white",
           "landcolor": "white",
           "showlakes": true,
           "showland": true,
           "subunitcolor": "#C8D4E3"
          },
          "hoverlabel": {
           "align": "left"
          },
          "hovermode": "closest",
          "mapbox": {
           "style": "light"
          },
          "paper_bgcolor": "white",
          "plot_bgcolor": "white",
          "polar": {
           "angularaxis": {
            "gridcolor": "#EBF0F8",
            "linecolor": "#EBF0F8",
            "ticks": ""
           },
           "bgcolor": "white",
           "radialaxis": {
            "gridcolor": "#EBF0F8",
            "linecolor": "#EBF0F8",
            "ticks": ""
           }
          },
          "scene": {
           "xaxis": {
            "backgroundcolor": "white",
            "gridcolor": "#DFE8F3",
            "gridwidth": 2,
            "linecolor": "#EBF0F8",
            "showbackground": true,
            "ticks": "",
            "zerolinecolor": "#EBF0F8"
           },
           "yaxis": {
            "backgroundcolor": "white",
            "gridcolor": "#DFE8F3",
            "gridwidth": 2,
            "linecolor": "#EBF0F8",
            "showbackground": true,
            "ticks": "",
            "zerolinecolor": "#EBF0F8"
           },
           "zaxis": {
            "backgroundcolor": "white",
            "gridcolor": "#DFE8F3",
            "gridwidth": 2,
            "linecolor": "#EBF0F8",
            "showbackground": true,
            "ticks": "",
            "zerolinecolor": "#EBF0F8"
           }
          },
          "shapedefaults": {
           "line": {
            "color": "#2a3f5f"
           }
          },
          "ternary": {
           "aaxis": {
            "gridcolor": "#DFE8F3",
            "linecolor": "#A2B1C6",
            "ticks": ""
           },
           "baxis": {
            "gridcolor": "#DFE8F3",
            "linecolor": "#A2B1C6",
            "ticks": ""
           },
           "bgcolor": "white",
           "caxis": {
            "gridcolor": "#DFE8F3",
            "linecolor": "#A2B1C6",
            "ticks": ""
           }
          },
          "title": {
           "x": 0.05
          },
          "xaxis": {
           "automargin": true,
           "gridcolor": "#EBF0F8",
           "linecolor": "#EBF0F8",
           "ticks": "",
           "title": {
            "standoff": 15
           },
           "zerolinecolor": "#EBF0F8",
           "zerolinewidth": 2
          },
          "yaxis": {
           "automargin": true,
           "gridcolor": "#EBF0F8",
           "linecolor": "#EBF0F8",
           "ticks": "",
           "title": {
            "standoff": 15
           },
           "zerolinecolor": "#EBF0F8",
           "zerolinewidth": 2
          }
         }
        },
        "title": {
         "text": "Residual Decay for Jacobi, Gauss-Seidel, and SOR Methods"
        },
        "xaxis": {
         "title": {
          "text": "Iteration"
         }
        },
        "yaxis": {
         "title": {
          "text": "Residual ||Ax - b||"
         },
         "type": "log"
        }
       }
      }
     },
     "metadata": {},
     "output_type": "display_data"
    },
    {
     "name": "stdout",
     "output_type": "stream",
     "text": [
      "Jacobi Method: Converged in 387 iterations, Final Residual = 9.87e-07\n",
      "Gauss-Seidel Method: Converged in 195 iterations, Final Residual = 9.44e-07\n",
      "SOR Method (ω=1.5): Converged in 54 iterations, Final Residual = 9.41e-07\n"
     ]
    }
   ],
   "source": [
    "# Define Jacobi, Gauss-Seidel, and SOR methods\n",
    "def jacobi_method(A, b, x0, tol, max_iter):\n",
    "    n = len(b)\n",
    "    x = x0.copy()\n",
    "    D = np.diag(np.diag(A))\n",
    "    R = A - D\n",
    "    residuals = []\n",
    "\n",
    "    for k in range(max_iter):\n",
    "        x_new = np.linalg.inv(D) @ (b - R @ x)\n",
    "        residual = np.linalg.norm(A @ x_new - b)\n",
    "        residuals.append(residual)\n",
    "\n",
    "        if residual < tol:\n",
    "            break\n",
    "        x = x_new\n",
    "\n",
    "    return x, residuals\n",
    "\n",
    "def gauss_seidel_method(A, b, x0, tol, max_iter):\n",
    "    n = len(b)\n",
    "    x = x0.copy()\n",
    "    residuals = []\n",
    "\n",
    "    for k in range(max_iter):\n",
    "        for i in range(n):\n",
    "            sum1 = np.dot(A[i, :i], x[:i])\n",
    "            sum2 = np.dot(A[i, i + 1:], x[i + 1:])\n",
    "            x[i] = (b[i] - sum1 - sum2) / A[i, i]\n",
    "\n",
    "        residual = np.linalg.norm(A @ x - b)\n",
    "        residuals.append(residual)\n",
    "\n",
    "        if residual < tol:\n",
    "            break\n",
    "\n",
    "    return x, residuals\n",
    "\n",
    "def sor_method(A, b, omega, x0, tol, max_iter):\n",
    "    n = len(b)\n",
    "    x = x0.copy()\n",
    "    residuals = []\n",
    "\n",
    "    for k in range(max_iter):\n",
    "        x_old = x.copy()\n",
    "\n",
    "        for i in range(n):\n",
    "            sum1 = np.dot(A[i, :i], x[:i])\n",
    "            sum2 = np.dot(A[i, i + 1:], x_old[i + 1:])\n",
    "            x[i] = (1 - omega) * x_old[i] + (omega / A[i, i]) * (b[i] - sum1 - sum2)\n",
    "\n",
    "        residual = np.linalg.norm(A @ x - b)\n",
    "        residuals.append(residual)\n",
    "\n",
    "        if residual < tol:\n",
    "            break\n",
    "\n",
    "    return x, residuals\n",
    "\n",
    "def create_poisson_matrix(n):\n",
    "    N = n * n\n",
    "    A = np.zeros((N, N))\n",
    "\n",
    "    for i in range(N):\n",
    "        A[i, i] = 4\n",
    "        if i % n != 0:  # Left neighbor\n",
    "            A[i, i - 1] = -1\n",
    "        if (i + 1) % n != 0:  # Right neighbor\n",
    "            A[i, i + 1] = -1\n",
    "        if i - n >= 0:  # Top neighbor\n",
    "            A[i, i - n] = -1\n",
    "        if i + n < N:  # Bottom neighbor\n",
    "            A[i, i + n] = -1\n",
    "\n",
    "    return A\n",
    "\n",
    "# Parameters\n",
    "n = 10  # Grid size (n x n)\n",
    "tol = 1e-6  # Residual tolerance\n",
    "max_iter = 500  # Maximum iterations\n",
    "x0 = np.zeros(n * n)  # Initial guess\n",
    "omega = 1.5  # Relaxation parameter for SOR\n",
    "\n",
    "# Create the Poisson matrix and right-hand side vector\n",
    "A = create_poisson_matrix(n)\n",
    "b = np.ones(n * n)\n",
    "\n",
    "# Solve using Jacobi, Gauss-Seidel, and SOR methods\n",
    "_, jacobi_residuals = jacobi_method(A, b, x0, tol, max_iter)\n",
    "_, gs_residuals = gauss_seidel_method(A, b, x0, tol, max_iter)\n",
    "_, sor_residuals = sor_method(A, b, omega, x0, tol, max_iter)\n",
    "\n",
    "# Plot residual decay\n",
    "fig = go.Figure()\n",
    "\n",
    "# Add traces for each method\n",
    "fig.add_trace(go.Scatter(\n",
    "    x=list(range(len(jacobi_residuals))),\n",
    "    y=jacobi_residuals,\n",
    "    mode='lines+markers',\n",
    "    name='Jacobi Method',\n",
    "    marker=dict(symbol='circle')\n",
    "))\n",
    "\n",
    "fig.add_trace(go.Scatter(\n",
    "    x=list(range(len(gs_residuals))),\n",
    "    y=gs_residuals,\n",
    "    mode='lines+markers',\n",
    "    name='Gauss-Seidel Method',\n",
    "    marker=dict(symbol='square')\n",
    "))\n",
    "\n",
    "fig.add_trace(go.Scatter(\n",
    "    x=list(range(len(sor_residuals))),\n",
    "    y=sor_residuals,\n",
    "    mode='lines+markers',\n",
    "    name=f'SOR Method (ω={omega})',\n",
    "    marker=dict(symbol='triangle-up')\n",
    "))\n",
    "\n",
    "# Update layout\n",
    "fig.update_layout(\n",
    "    title='Residual Decay for Jacobi, Gauss-Seidel, and SOR Methods',\n",
    "    xaxis_title='Iteration',\n",
    "    yaxis_title='Residual ||Ax - b||',\n",
    "    yaxis_type='log',\n",
    "    template='plotly_white',\n",
    "    legend=dict(x=1, y=1, traceorder='normal', orientation='v', xanchor='right', yanchor='top')\n",
    ")\n",
    "\n",
    "# Show the figure\n",
    "fig.show()\n",
    "\n",
    "# Performance Insights\n",
    "print(f\"Jacobi Method: Converged in {len(jacobi_residuals)} iterations, Final Residual = {jacobi_residuals[-1]:.2e}\")\n",
    "print(f\"Gauss-Seidel Method: Converged in {len(gs_residuals)} iterations, Final Residual = {gs_residuals[-1]:.2e}\")\n",
    "print(f\"SOR Method (ω={omega}): Converged in {len(sor_residuals)} iterations, Final Residual = {sor_residuals[-1]:.2e}\")"
   ]
  },
  {
   "cell_type": "markdown",
   "metadata": {},
   "source": [
    "## Performance Insights: Successive Over-Relaxation (SOR) Method\n",
    "\n",
    "1. **Residual Decay Comparison**:\n",
    "   - The Successive Over-Relaxation (SOR) method converges significantly faster than both Jacobi and Gauss-Seidel methods when the relaxation parameter $\\omega$ is well-chosen.\n",
    "\n",
    "2. **Role of $\\omega$**:\n",
    "   - The choice of $\\omega$ is crucial for the SOR method.\n",
    "   - Suboptimal values of $\\omega$ (too small or too large) can slow down convergence or even prevent it entirely.\n",
    "   - The optimal $\\omega$ can significantly reduce the number of iterations required to achieve a given accuracy.\n",
    "\n",
    "3. **Comparison of Methods**:\n",
    "   - **Jacobi Method**:\n",
    "     - Simpler to implement.\n",
    "     - Uses values only from the previous iteration.\n",
    "     - Converges slowly due to the lack of updates within an iteration.\n",
    "   - **Gauss-Seidel Method**:\n",
    "     - Also straightforward to implement.\n",
    "     - Uses updated values immediately within the same iteration.\n",
    "     - Converges faster than Jacobi but slower than SOR.\n",
    "   - **SOR Method**:\n",
    "     - Builds on Gauss-Seidel by introducing a relaxation parameter $\\omega$.\n",
    "     - Over-relaxation ($1 < \\omega < 2$) accelerates convergence.\n",
    "     - Requires careful tuning of $\\omega$ for optimal performance.\n",
    "\n",
    "4. **Computational Efficiency**:\n",
    "   - For large systems, the SOR method is the most efficient among the three due to its faster convergence rate.\n",
    "   - Both Jacobi and Gauss-Seidel methods require more iterations, making them less efficient for high-dimensional problems.\n",
    "\n",
    "5. **Practical Recommendation**:\n",
    "   - Use SOR for large systems when computational performance is critical.\n",
    "   - Tune $\\omega$ carefully to achieve the best results.\n"
   ]
  },
  {
   "cell_type": "markdown",
   "metadata": {},
   "source": [
    "## 2 Solving the linear system\n",
    "In this part we will analyze various ways to solve the linear system. We will compare the numerical cost of som direct and iterative methods.\n",
    "2.1 Direct methods\n",
    "\n",
    "In the first section we used a dense representation of the matrix, meaning that all the entries were stored Implement instead a sparse representation of the matrix that stores only the non-zeros entries. In Python yon can use the scipy.sparse library (look up at the documentation: scipy.sparse.spdiags, scipy.sparse.kron scipy.sparse.eye, ...)\n",
    "- Solve again the system using a sparse solver, and compare the computational time with the direct approach (i.e. solving the problem with a dense representation of the matrix). You may write the discrete Laplacia as\n",
    "\n",
    "$$\n",
    "\\Delta_h=1 \\otimes T+T \\otimes \\mathbb{1}\n",
    "$$\n",
    "\n",
    "where $\\otimes$ is the Kronecker product, and T a matrix to be identified."
   ]
  },
  {
   "cell_type": "code",
   "execution_count": 18,
   "metadata": {},
   "outputs": [
    {
     "name": "stdout",
     "output_type": "stream",
     "text": [
      "Sparse solver time: 0.0149 seconds\n",
      "Dense solver time: 0.3146 seconds\n",
      "Sparse Solver Numerical Results (Partial View):\n",
      "[[0.      0.      0.      0.      0.      0.      0.      0.      0.\n",
      "  0.     ]\n",
      " [0.      0.00004 0.00008 0.00015 0.00024 0.00036 0.00049 0.00065 0.00082\n",
      "  0.00101]\n",
      " [0.      0.00008 0.00014 0.00022 0.00032 0.00045 0.0006  0.00077 0.00097\n",
      "  0.00118]\n",
      " [0.      0.00015 0.00022 0.00029 0.00039 0.00051 0.00065 0.00081 0.00099\n",
      "  0.00119]\n",
      " [0.      0.00024 0.00032 0.00039 0.00047 0.00058 0.0007  0.00084 0.001\n",
      "  0.00117]\n",
      " [0.      0.00036 0.00045 0.00051 0.00058 0.00066 0.00076 0.00088 0.00101\n",
      "  0.00115]\n",
      " [0.      0.00049 0.0006  0.00065 0.0007  0.00076 0.00084 0.00092 0.00101\n",
      "  0.00111]\n",
      " [0.      0.00065 0.00077 0.00081 0.00084 0.00088 0.00092 0.00097 0.00102\n",
      "  0.00108]\n",
      " [0.      0.00082 0.00097 0.00099 0.001   0.00101 0.00101 0.00102 0.00103\n",
      "  0.00103]\n",
      " [0.      0.00101 0.00118 0.00119 0.00117 0.00115 0.00111 0.00108 0.00103\n",
      "  0.00099]]\n"
     ]
    },
    {
     "data": {
      "image/png": "[encoded data removed]",
      "text/plain": [
       "<Figure size 1200x500 with 2 Axes>"
      ]
     },
     "metadata": {},
     "output_type": "display_data"
    }
   ],
   "source": [
    "import numpy as np\n",
    "import matplotlib.pyplot as plt\n",
    "import time\n",
    "from scipy.sparse import diags, kron, eye\n",
    "from scipy.sparse.linalg import spsolve\n",
    "\n",
    "def exact_solution(x, y):\n",
    "    return np.sin(np.pi * x)**2 * np.sin(np.pi * y)**2\n",
    "\n",
    "def source_term(x, y):\n",
    "    return -4 * np.pi**2 * (np.cos(2 * np.pi * x) * np.sin(np.pi * y)**2 + np.sin(np.pi * x)**2 * np.cos(2 * np.pi * y))\n",
    "\n",
    "# Step 1: Sparse Poisson solver with Kronecker product\n",
    "def sparse_poisson_solver(Nx, Ny):\n",
    "    h_x = 1 / (Nx - 1)\n",
    "    h_y = 1 / (Ny - 1)\n",
    "    x = np.linspace(0, 1, Nx)\n",
    "    y = np.linspace(0, 1, Ny)\n",
    "\n",
    "    # Step 2: Tridiagonal matrix T for one direction (1D Laplacian)\n",
    "    diagonal = -4 * np.ones(Nx - 1)\n",
    "    off_diagonal = np.ones(Nx - 2)\n",
    "    T = diags([diagonal, off_diagonal, off_diagonal], [0, -1, 1], shape=(Nx-1, Nx-1))\n",
    "\n",
    "    # Step 3: Create the 2D Laplacian using Kronecker product\n",
    "    Lx = kron(eye(Ny-1), T)  # 2D Laplacian in x direction\n",
    "    Ly = kron(T, eye(Ny-1))  # 2D Laplacian in y direction\n",
    "    L = Lx + Ly  # Full Laplacian matrix\n",
    "\n",
    "    # Step 4: Set up the right-hand side f\n",
    "    f = np.zeros((Nx-1, Ny-1))  # Right-hand side has (Nx-1)*(Ny-1) values\n",
    "    for i in range(1, Nx-1):\n",
    "        for j in range(1, Ny-1):\n",
    "            f[i-1, j-1] = source_term(x[i], y[j])  # Source term for interior points\n",
    "\n",
    "    b = f.flatten() * h_x * h_y  # Flatten and scale by the grid size\n",
    "\n",
    "    # Step 5: Solve the linear system using sparse solver\n",
    "    u_sparse = spsolve(L, b)\n",
    "\n",
    "    # Step 6: Reconstruct the solution on the grid\n",
    "    U_sparse = np.zeros((Nx, Ny))  # The solution grid will be of size (Nx, Ny)\n",
    "    U_sparse[1:Nx, 1:Ny] = u_sparse.reshape((Nx-1, Ny-1))  # Correct reshaping\n",
    "\n",
    "    return U_sparse, x, y\n",
    "\n",
    "# Step 2: Dense Poisson solver (for comparison)\n",
    "def dense_poisson_solver(Nx, Ny):\n",
    "    h_x = 1 / (Nx - 1)\n",
    "    h_y = 1 / (Ny - 1)\n",
    "    x = np.linspace(0, 1, Nx)\n",
    "    y = np.linspace(0, 1, Ny)\n",
    "    \n",
    "    # Step 2: Set up the discrete Laplacian matrix A (dense)\n",
    "    N = (Nx - 1) * (Ny - 1)\n",
    "    A = np.zeros((N, N))\n",
    "    \n",
    "    # Fill the matrix A (same as before)\n",
    "    for j in range(Ny - 1):\n",
    "        for i in range(Nx - 1):\n",
    "            index = i + j * (Nx - 1)\n",
    "            \n",
    "            # Diagonal (center value)\n",
    "            A[index, index] = -4\n",
    "            \n",
    "            # Off-diagonal (neighboring values)\n",
    "            if i > 0:  # Left\n",
    "                A[index, index - 1] = 1\n",
    "            if i < Nx - 2:  # Right\n",
    "                A[index, index + 1] = 1\n",
    "            if j > 0:  # Down\n",
    "                A[index, index - (Nx - 1)] = 1\n",
    "            if j < Ny - 2:  # Up\n",
    "                A[index, index + (Nx - 1)] = 1\n",
    "    \n",
    "    # Step 3: Set up the right-hand side vector f\n",
    "    f = np.zeros((Nx - 1, Ny - 1))\n",
    "    for i in range(1, Nx-1):\n",
    "        for j in range(1, Ny-1):\n",
    "            f[i-1, j-1] = source_term(x[i], y[j])\n",
    "    \n",
    "    b = f.flatten() * h_x * h_y  # Flatten and scale by the grid size\n",
    "    \n",
    "    # Step 4: Solve the linear system using dense solver\n",
    "    u_dense = np.linalg.solve(A, b)\n",
    "    \n",
    "    # Step 5: Reconstruct the solution on the grid\n",
    "    U_dense = np.zeros((Nx, Ny))\n",
    "    U_dense[1:Nx, 1:Ny] = u_dense.reshape((Nx-1, Ny-1))\n",
    "    \n",
    "    return U_dense, x, y\n",
    "\n",
    "# Step 3: Run comparison and measure computational time\n",
    "Nx = 50\n",
    "Ny = 50\n",
    "\n",
    "# Sparse solver\n",
    "start_time = time.time()\n",
    "U_sparse, x, y = sparse_poisson_solver(Nx, Ny)\n",
    "sparse_time = time.time() - start_time\n",
    "print(f\"Sparse solver time: {sparse_time:.4f} seconds\")\n",
    "\n",
    "# Dense solver\n",
    "start_time = time.time()\n",
    "U_dense, x, y = dense_poisson_solver(Nx, Ny)\n",
    "dense_time = time.time() - start_time\n",
    "print(f\"Dense solver time: {dense_time:.4f} seconds\")\n",
    "\n",
    "# Step 4: Plot solutions for comparison\n",
    "fig, ax = plt.subplots(1, 2, figsize=(12, 5))\n",
    "\n",
    "# Sparse solution plot\n",
    "ax[0].contourf(x, y, U_sparse.T, 50, cmap='viridis')\n",
    "ax[0].set_title('Sparse Solver Solution')\n",
    "ax[0].set_xlabel('x')\n",
    "ax[0].set_ylabel('y')\n",
    "\n",
    "# Dense solution plot\n",
    "ax[1].contourf(x, y, U_dense.T, 50, cmap='viridis')\n",
    "ax[1].set_title('Dense Solver Solution')\n",
    "ax[1].set_xlabel('x')\n",
    "ax[1].set_ylabel('y')\n",
    "\n",
    "# Print the numerical results for the sparse solution\n",
    "print(\"Sparse Solver Numerical Results (Partial View):\")\n",
    "print(np.array2string(U_sparse[:10, :10], precision=5, suppress_small=True))\n",
    "plt.tight_layout()\n",
    "plt.show()"
   ]
  },
  {
   "cell_type": "markdown",
   "metadata": {},
   "source": [
    "### Explain why it is advantageous to use a sparse matrix representation. As a justification, you may count the number of operations when doing a Gaussian elimination of a tridiagonal matrix."
   ]
  },
  {
   "cell_type": "markdown",
   "metadata": {},
   "source": [
    "Sparse matrix representation is highly advantageous, particularly when solving large-scale systems like the one in this problem. Here's why:\n",
    "1. Memory Efficiency:\n",
    "- Sparse matrices store only the non-zero elements and their indices, reducing memory usage significantly.\n",
    "- For example, in the 2D Laplacian matrix $L$, the matrix size grows as $\\left(N_x-1\\right) \\times\\left(N_y-\\right.$ 1), and most of the entries are zeros. Sparse representation avoids storing these zeros.\n",
    "---\n",
    "2. Computational Speed:\n",
    "- Sparse solvers are optimized to perform operations only on the non-zero elements. This reduces the number of operations and speeds up computation.\n",
    "- For example, operations like matrix-vector multiplications and factorizations (LU or Cholesky decomposition) are faster for sparse matrices.\n",
    "---\n",
    "3. Gaussian Elimination in a Tridiagonal Matrix:\n",
    "- A tridiagonal matrix (like the 10 Laplacian $T$ ) is a special case of a sparse matrix with only 3 non-zero diagonals (main, upper, and lower diagonals).\n",
    "- Direct methods like Gaussian elimir. $\\downarrow$ In take advantage of this sparsity.\n",
    "---\n",
    "General Dense Matrix (Gaussian Elimination Complexity)\n",
    "For a dense matrix (not sparse), Gaussian elimination involves:\n",
    "1. Forward elimination: $\\mathcal{O}\\left(n^3\\right)$ operations.\n",
    "2. Back substitution: $O\\left(n^2\\right)$ operations.\n",
    "3. Total complexity: $\\mathcal{O}\\left(n^3\\right)$.\n",
    "---\n",
    "## 2D Sparse Matrix (Kronecker Product of Tridiagonal Matrices)\n",
    "For a 2D Laplacian matrix of size $N \\times N$ (sparse, tridiagonal structure):\n",
    "1. Forward elimination involves operations proportional to the number of non-zero elements.\n",
    "- Number of non-zero elements in the sparse matrix is $\\mathcal{O}\\left(N^2\\right)$ (due to the grid structure).\n",
    "2. Total complexity: $\\mathcal{O}\\left(N^2\\right)$ instead of $\\mathcal{O}\\left(N^3\\right)$ for a dense matrix."
   ]
  },
  {
   "cell_type": "markdown",
   "metadata": {},
   "source": [
    "## 3 Extensions to the solver\n",
    "You can continue the development of your solver by choosing one of the following extensions\n",
    "1. Add a diffusion term to your solver such that the equation becomes\n",
    "\n",
    "$$\n",
    "-\\Delta u+a u=f\n",
    "$$\n",
    "\n",
    "where $\\alpha$ is a real parameter. Solve again your problem with direct and iterative methods. What is going on for iterative methods when $\\alpha<0$ ? Explain the behaviour by an analysis of the eigenvalues."
   ]
  },
  {
   "cell_type": "code",
   "execution_count": 19,
   "metadata": {},
   "outputs": [
    {
     "name": "stdout",
     "output_type": "stream",
     "text": [
      "Sparse solver with diffusion time: 0.0127 seconds\n",
      "Eigenvalues of the modified matrix: [-12.99210691 -12.96845881 -12.98028286 -12.98028286 -12.96062796\n",
      " -12.96062796]\n"
     ]
    },
    {
     "data": {
      "image/png": "[encoded data removed]",
      "text/plain": [
       "<Figure size 600x500 with 2 Axes>"
      ]
     },
     "metadata": {},
     "output_type": "display_data"
    }
   ],
   "source": [
    "\n",
    "from scipy.sparse.linalg import spsolve, eigs\n",
    "\n",
    "def exact_solution(x, y):\n",
    "    return np.sin(np.pi * x)**2 * np.sin(np.pi * y)**2\n",
    "\n",
    "def source_term(x, y):\n",
    "    return -4 * np.pi**2 * (np.cos(2 * np.pi * x) * np.sin(np.pi * y)**2 + np.sin(np.pi * x)**2 * np.cos(2 * np.pi * y))\n",
    "\n",
    "def sparse_poisson_solver_with_diffusion(Nx, Ny, alpha):\n",
    "    h_x = 1 / (Nx - 1)\n",
    "    h_y = 1 / (Ny - 1)\n",
    "    x = np.linspace(0, 1, Nx)\n",
    "    y = np.linspace(0, 1, Ny)\n",
    "\n",
    "    diagonal = -4 * np.ones(Nx - 1)\n",
    "    off_diagonal = np.ones(Nx - 2)\n",
    "    T = diags([diagonal, off_diagonal, off_diagonal], [0, -1, 1], shape=(Nx-1, Nx-1))\n",
    "\n",
    "    Lx = kron(eye(Ny-1), T)\n",
    "    Ly = kron(T, eye(Ny-1))\n",
    "    L = Lx + Ly\n",
    "\n",
    "    # Add the diffusion term (alpha * I)\n",
    "    I = eye((Nx-1) * (Ny-1))\n",
    "    A = L + alpha * I\n",
    "\n",
    "    f = np.zeros((Nx-1, Ny-1))\n",
    "    for i in range(1, Nx-1):\n",
    "        for j in range(1, Ny-1):\n",
    "            f[i-1, j-1] = source_term(x[i], y[j])\n",
    "\n",
    "    b = f.flatten() * h_x * h_y\n",
    "    u_sparse = spsolve(A, b)\n",
    "\n",
    "    U_sparse = np.zeros((Nx, Ny))\n",
    "    U_sparse[1:Nx, 1:Ny] = u_sparse.reshape((Nx-1, Ny-1))\n",
    "\n",
    "    return U_sparse, x, y, A\n",
    "\n",
    "def analyze_eigenvalues(A):\n",
    "    # Compute a few eigenvalues to understand stability\n",
    "    eigenvalues, _ = eigs(A, k=6, which='LM')  # Largest magnitude eigenvalues\n",
    "    return np.real(eigenvalues)\n",
    "\n",
    "# Parameters\n",
    "Nx, Ny = 50, 50\n",
    "alpha = -1.0  # Diffusion coefficient\n",
    "\n",
    "# Solve with diffusion term\n",
    "start_time = time.time()\n",
    "U_sparse, x, y, A = sparse_poisson_solver_with_diffusion(Nx, Ny, alpha)\n",
    "sparse_time = time.time() - start_time\n",
    "print(f\"Sparse solver with diffusion time: {sparse_time:.4f} seconds\")\n",
    "\n",
    "# Analyze eigenvalues\n",
    "eigenvalues = analyze_eigenvalues(A)\n",
    "print(\"Eigenvalues of the modified matrix:\", eigenvalues)\n",
    "\n",
    "# Plot the solution\n",
    "plt.figure(figsize=(6, 5))\n",
    "plt.contourf(x, y, U_sparse.T, 50, cmap='viridis')\n",
    "plt.title(f'Sparse Solver Solution with Diffusion (alpha={alpha})')\n",
    "plt.xlabel('x')\n",
    "plt.ylabel('y')\n",
    "plt.colorbar()\n",
    "plt.tight_layout()\n",
    "plt.show()\n"
   ]
  },
  {
   "cell_type": "code",
   "execution_count": 20,
   "metadata": {},
   "outputs": [
    {
     "data": {
      "application/vnd.plotly.v1+json": {
       "config": {
        "plotlyServerURL": "https://plot.ly"
       },
       "data": [
        {
         "marker": {
          "color": "blue"
         },
         "mode": "lines+markers",
         "name": "Eigenvalues of Laplacian (A)",
         "type": "scatter",
         "x": [
          0,
          1,
          2,
          3,
          4,
          5,
          6,
          7,
          8,
          9,
          10,
          11,
          12,
          13,
          14,
          15,
          16,
          17,
          18,
          19,
          20,
          21,
          22,
          23,
          24,
          25,
          26,
          27,
          28,
          29,
          30,
          31,
          32,
          33,
          34,
          35,
          36,
          37,
          38,
          39,
          40,
          41,
          42,
          43,
          44,
          45,
          46,
          47,
          48,
          49,
          50,
          51,
          52,
          53,
          54,
          55,
          56,
          57,
          58,
          59,
          60,
          61,
          62,
          63,
          64,
          65,
          66,
          67,
          68,
          69,
          70,
          71,
          72,
          73,
          74,
          75,
          76,
          77,
          78,
          79,
          80,
          81,
          82,
          83,
          84,
          85,
          86,
          87,
          88,
          89,
          90,
          91,
          92,
          93,
          94,
          95,
          96,
          97,
          98,
          99
         ],
         "y": [
          0.16202810554201053,
          0.39850698710864285,
          0.39850698710864285,
          0.6349858686752752,
          0.7712925848804351,
          0.7712925848804351,
          1.0077714664470674,
          1.0077714664470674,
          1.2501840267672324,
          1.2501840267672324,
          1.3805570642188596,
          1.4866629083338647,
          1.4866629083338647,
          1.7963843762244351,
          1.7963843762244351,
          1.859448506105657,
          1.859448506105657,
          2.0328632577910675,
          2.0328632577910675,
          2.3383399479924543,
          2.3656437293175756,
          2.3656437293175756,
          2.40564885556286,
          2.40564885556286,
          2.6021226108842077,
          2.6021226108842077,
          2.8845402974496572,
          2.8845402974496572,
          2.911844078774778,
          2.911844078774778,
          2.974908208656,
          2.974908208656,
          3.1483229603414102,
          3.1483229603414102,
          3.3907355206615755,
          3.3907355206615755,
          3.4307406469068598,
          3.4537996505427975,
          3.4537996505427975,
          3.5211085581132027,
          3.5211085581132027,
          3.627214402228208,
          3.627214402228208,
          3.763521118433367,
          3.763521118433367,
          3.9999999999999996,
          3.9999999999999996,
          4,
          4,
          4,
          4,
          4,
          4,
          4,
          4,
          4.236478881566633,
          4.236478881566633,
          4.3727855977717915,
          4.3727855977717915,
          4.478891441886797,
          4.478891441886797,
          4.5462003494572025,
          4.5462003494572025,
          4.56925935309314,
          4.6092644793384245,
          4.6092644793384245,
          4.851677039658589,
          4.851677039658589,
          5.025091791344,
          5.025091791344,
          5.088155921225222,
          5.088155921225222,
          5.115459702550343,
          5.115459702550343,
          5.397877389115791,
          5.397877389115791,
          5.594351144437141,
          5.594351144437141,
          5.634356270682424,
          5.634356270682424,
          5.661660052007545,
          5.9671367422089325,
          5.9671367422089325,
          6.140551493894343,
          6.140551493894343,
          6.2036156237755655,
          6.2036156237755655,
          6.513337091666134,
          6.513337091666134,
          6.619442935781141,
          6.749815973232767,
          6.749815973232767,
          6.992228533552932,
          6.992228533552932,
          7.228707415119565,
          7.228707415119565,
          7.365014131324724,
          7.601493012891357,
          7.601493012891357,
          7.83797189445799
         ]
        },
        {
         "marker": {
          "color": "orange"
         },
         "mode": "lines+markers",
         "name": "Eigenvalues of A + αI (α=-1.0)",
         "type": "scatter",
         "x": [
          0,
          1,
          2,
          3,
          4,
          5,
          6,
          7,
          8,
          9,
          10,
          11,
          12,
          13,
          14,
          15,
          16,
          17,
          18,
          19,
          20,
          21,
          22,
          23,
          24,
          25,
          26,
          27,
          28,
          29,
          30,
          31,
          32,
          33,
          34,
          35,
          36,
          37,
          38,
          39,
          40,
          41,
          42,
          43,
          44,
          45,
          46,
          47,
          48,
          49,
          50,
          51,
          52,
          53,
          54,
          55,
          56,
          57,
          58,
          59,
          60,
          61,
          62,
          63,
          64,
          65,
          66,
          67,
          68,
          69,
          70,
          71,
          72,
          73,
          74,
          75,
          76,
          77,
          78,
          79,
          80,
          81,
          82,
          83,
          84,
          85,
          86,
          87,
          88,
          89,
          90,
          91,
          92,
          93,
          94,
          95,
          96,
          97,
          98,
          99
         ],
         "y": [
          -0.8379718944579895,
          -0.6014930128913571,
          -0.6014930128913571,
          -0.3650141313247248,
          -0.22870741511956494,
          -0.22870741511956494,
          0.007771466447067388,
          0.007771466447067388,
          0.2501840267672324,
          0.2501840267672324,
          0.3805570642188596,
          0.4866629083338647,
          0.4866629083338647,
          0.7963843762244351,
          0.7963843762244351,
          0.8594485061056569,
          0.8594485061056569,
          1.0328632577910675,
          1.0328632577910675,
          1.3383399479924543,
          1.3656437293175756,
          1.3656437293175756,
          1.40564885556286,
          1.40564885556286,
          1.6021226108842077,
          1.6021226108842077,
          1.8845402974496572,
          1.8845402974496572,
          1.9118440787747781,
          1.9118440787747781,
          1.9749082086560001,
          1.9749082086560001,
          2.1483229603414102,
          2.1483229603414102,
          2.3907355206615755,
          2.3907355206615755,
          2.4307406469068598,
          2.4537996505427975,
          2.4537996505427975,
          2.5211085581132027,
          2.5211085581132027,
          2.627214402228208,
          2.627214402228208,
          2.763521118433367,
          2.763521118433367,
          2.9999999999999996,
          2.9999999999999996,
          3,
          3,
          3,
          3,
          3,
          3,
          3,
          3,
          3.236478881566633,
          3.236478881566633,
          3.3727855977717915,
          3.3727855977717915,
          3.4788914418867973,
          3.4788914418867973,
          3.5462003494572025,
          3.5462003494572025,
          3.5692593530931402,
          3.6092644793384245,
          3.6092644793384245,
          3.851677039658589,
          3.851677039658589,
          4.025091791344,
          4.025091791344,
          4.088155921225222,
          4.088155921225222,
          4.115459702550343,
          4.115459702550343,
          4.397877389115791,
          4.397877389115791,
          4.594351144437141,
          4.594351144437141,
          4.634356270682424,
          4.634356270682424,
          4.661660052007545,
          4.9671367422089325,
          4.9671367422089325,
          5.140551493894343,
          5.140551493894343,
          5.2036156237755655,
          5.2036156237755655,
          5.513337091666134,
          5.513337091666134,
          5.619442935781141,
          5.749815973232767,
          5.749815973232767,
          5.992228533552932,
          5.992228533552932,
          6.228707415119565,
          6.228707415119565,
          6.365014131324724,
          6.601493012891357,
          6.601493012891357,
          6.83797189445799
         ]
        }
       ],
       "layout": {
        "legend": {
         "orientation": "v",
         "traceorder": "normal",
         "x": 0,
         "xanchor": "left",
         "y": 1,
         "yanchor": "top"
        },
        "shapes": [
         {
          "line": {
           "color": "red",
           "dash": "dash"
          },
          "type": "line",
          "x0": 0,
          "x1": 99,
          "y0": 0,
          "y1": 0
         }
        ],
        "template": {
         "data": {
          "bar": [
           {
            "error_x": {
             "color": "#2a3f5f"
            },
            "error_y": {
             "color": "#2a3f5f"
            },
            "marker": {
             "line": {
              "color": "white",
              "width": 0.5
             },
             "pattern": {
              "fillmode": "overlay",
              "size": 10,
              "solidity": 0.2
             }
            },
            "type": "bar"
           }
          ],
          "barpolar": [
           {
            "marker": {
             "line": {
              "color": "white",
              "width": 0.5
             },
             "pattern": {
              "fillmode": "overlay",
              "size": 10,
              "solidity": 0.2
             }
            },
            "type": "barpolar"
           }
          ],
          "carpet": [
           {
            "aaxis": {
             "endlinecolor": "#2a3f5f",
             "gridcolor": "#C8D4E3",
             "linecolor": "#C8D4E3",
             "minorgridcolor": "#C8D4E3",
             "startlinecolor": "#2a3f5f"
            },
            "baxis": {
             "endlinecolor": "#2a3f5f",
             "gridcolor": "#C8D4E3",
             "linecolor": "#C8D4E3",
             "minorgridcolor": "#C8D4E3",
             "startlinecolor": "#2a3f5f"
            },
            "type": "carpet"
           }
          ],
          "choropleth": [
           {
            "colorbar": {
             "outlinewidth": 0,
             "ticks": ""
            },
            "type": "choropleth"
           }
          ],
          "contour": [
           {
            "colorbar": {
             "outlinewidth": 0,
             "ticks": ""
            },
            "colorscale": [
             [
              0,
              "#0d0887"
             ],
             [
              0.1111111111111111,
              "#46039f"
             ],
             [
              0.2222222222222222,
              "#7201a8"
             ],
             [
              0.3333333333333333,
              "#9c179e"
             ],
             [
              0.4444444444444444,
              "#bd3786"
             ],
             [
              0.5555555555555556,
              "#d8576b"
             ],
             [
              0.6666666666666666,
              "#ed7953"
             ],
             [
              0.7777777777777778,
              "#fb9f3a"
             ],
             [
              0.8888888888888888,
              "#fdca26"
             ],
             [
              1,
              "#f0f921"
             ]
            ],
            "type": "contour"
           }
          ],
          "contourcarpet": [
           {
            "colorbar": {
             "outlinewidth": 0,
             "ticks": ""
            },
            "type": "contourcarpet"
           }
          ],
          "heatmap": [
           {
            "colorbar": {
             "outlinewidth": 0,
             "ticks": ""
            },
            "colorscale": [
             [
              0,
              "#0d0887"
             ],
             [
              0.1111111111111111,
              "#46039f"
             ],
             [
              0.2222222222222222,
              "#7201a8"
             ],
             [
              0.3333333333333333,
              "#9c179e"
             ],
             [
              0.4444444444444444,
              "#bd3786"
             ],
             [
              0.5555555555555556,
              "#d8576b"
             ],
             [
              0.6666666666666666,
              "#ed7953"
             ],
             [
              0.7777777777777778,
              "#fb9f3a"
             ],
             [
              0.8888888888888888,
              "#fdca26"
             ],
             [
              1,
              "#f0f921"
             ]
            ],
            "type": "heatmap"
           }
          ],
          "heatmapgl": [
           {
            "colorbar": {
             "outlinewidth": 0,
             "ticks": ""
            },
            "colorscale": [
             [
              0,
              "#0d0887"
             ],
             [
              0.1111111111111111,
              "#46039f"
             ],
             [
              0.2222222222222222,
              "#7201a8"
             ],
             [
              0.3333333333333333,
              "#9c179e"
             ],
             [
              0.4444444444444444,
              "#bd3786"
             ],
             [
              0.5555555555555556,
              "#d8576b"
             ],
             [
              0.6666666666666666,
              "#ed7953"
             ],
             [
              0.7777777777777778,
              "#fb9f3a"
             ],
             [
              0.8888888888888888,
              "#fdca26"
             ],
             [
              1,
              "#f0f921"
             ]
            ],
            "type": "heatmapgl"
           }
          ],
          "histogram": [
           {
            "marker": {
             "pattern": {
              "fillmode": "overlay",
              "size": 10,
              "solidity": 0.2
             }
            },
            "type": "histogram"
           }
          ],
          "histogram2d": [
           {
            "colorbar": {
             "outlinewidth": 0,
             "ticks": ""
            },
            "colorscale": [
             [
              0,
              "#0d0887"
             ],
             [
              0.1111111111111111,
              "#46039f"
             ],
             [
              0.2222222222222222,
              "#7201a8"
             ],
             [
              0.3333333333333333,
              "#9c179e"
             ],
             [
              0.4444444444444444,
              "#bd3786"
             ],
             [
              0.5555555555555556,
              "#d8576b"
             ],
             [
              0.6666666666666666,
              "#ed7953"
             ],
             [
              0.7777777777777778,
              "#fb9f3a"
             ],
             [
              0.8888888888888888,
              "#fdca26"
             ],
             [
              1,
              "#f0f921"
             ]
            ],
            "type": "histogram2d"
           }
          ],
          "histogram2dcontour": [
           {
            "colorbar": {
             "outlinewidth": 0,
             "ticks": ""
            },
            "colorscale": [
             [
              0,
              "#0d0887"
             ],
             [
              0.1111111111111111,
              "#46039f"
             ],
             [
              0.2222222222222222,
              "#7201a8"
             ],
             [
              0.3333333333333333,
              "#9c179e"
             ],
             [
              0.4444444444444444,
              "#bd3786"
             ],
             [
              0.5555555555555556,
              "#d8576b"
             ],
             [
              0.6666666666666666,
              "#ed7953"
             ],
             [
              0.7777777777777778,
              "#fb9f3a"
             ],
             [
              0.8888888888888888,
              "#fdca26"
             ],
             [
              1,
              "#f0f921"
             ]
            ],
            "type": "histogram2dcontour"
           }
          ],
          "mesh3d": [
           {
            "colorbar": {
             "outlinewidth": 0,
             "ticks": ""
            },
            "type": "mesh3d"
           }
          ],
          "parcoords": [
           {
            "line": {
             "colorbar": {
              "outlinewidth": 0,
              "ticks": ""
             }
            },
            "type": "parcoords"
           }
          ],
          "pie": [
           {
            "automargin": true,
            "type": "pie"
           }
          ],
          "scatter": [
           {
            "marker": {
             "colorbar": {
              "outlinewidth": 0,
              "ticks": ""
             }
            },
            "type": "scatter"
           }
          ],
          "scatter3d": [
           {
            "line": {
             "colorbar": {
              "outlinewidth": 0,
              "ticks": ""
             }
            },
            "marker": {
             "colorbar": {
              "outlinewidth": 0,
              "ticks": ""
             }
            },
            "type": "scatter3d"
           }
          ],
          "scattercarpet": [
           {
            "marker": {
             "colorbar": {
              "outlinewidth": 0,
              "ticks": ""
             }
            },
            "type": "scattercarpet"
           }
          ],
          "scattergeo": [
           {
            "marker": {
             "colorbar": {
              "outlinewidth": 0,
              "ticks": ""
             }
            },
            "type": "scattergeo"
           }
          ],
          "scattergl": [
           {
            "marker": {
             "colorbar": {
              "outlinewidth": 0,
              "ticks": ""
             }
            },
            "type": "scattergl"
           }
          ],
          "scattermapbox": [
           {
            "marker": {
             "colorbar": {
              "outlinewidth": 0,
              "ticks": ""
             }
            },
            "type": "scattermapbox"
           }
          ],
          "scatterpolar": [
           {
            "marker": {
             "colorbar": {
              "outlinewidth": 0,
              "ticks": ""
             }
            },
            "type": "scatterpolar"
           }
          ],
          "scatterpolargl": [
           {
            "marker": {
             "colorbar": {
              "outlinewidth": 0,
              "ticks": ""
             }
            },
            "type": "scatterpolargl"
           }
          ],
          "scatterternary": [
           {
            "marker": {
             "colorbar": {
              "outlinewidth": 0,
              "ticks": ""
             }
            },
            "type": "scatterternary"
           }
          ],
          "surface": [
           {
            "colorbar": {
             "outlinewidth": 0,
             "ticks": ""
            },
            "colorscale": [
             [
              0,
              "#0d0887"
             ],
             [
              0.1111111111111111,
              "#46039f"
             ],
             [
              0.2222222222222222,
              "#7201a8"
             ],
             [
              0.3333333333333333,
              "#9c179e"
             ],
             [
              0.4444444444444444,
              "#bd3786"
             ],
             [
              0.5555555555555556,
              "#d8576b"
             ],
             [
              0.6666666666666666,
              "#ed7953"
             ],
             [
              0.7777777777777778,
              "#fb9f3a"
             ],
             [
              0.8888888888888888,
              "#fdca26"
             ],
             [
              1,
              "#f0f921"
             ]
            ],
            "type": "surface"
           }
          ],
          "table": [
           {
            "cells": {
             "fill": {
              "color": "#EBF0F8"
             },
             "line": {
              "color": "white"
             }
            },
            "header": {
             "fill": {
              "color": "#C8D4E3"
             },
             "line": {
              "color": "white"
             }
            },
            "type": "table"
           }
          ]
         },
         "layout": {
          "annotationdefaults": {
           "arrowcolor": "#2a3f5f",
           "arrowhead": 0,
           "arrowwidth": 1
          },
          "autotypenumbers": "strict",
          "coloraxis": {
           "colorbar": {
            "outlinewidth": 0,
            "ticks": ""
           }
          },
          "colorscale": {
           "diverging": [
            [
             0,
             "#8e0152"
            ],
            [
             0.1,
             "#c51b7d"
            ],
            [
             0.2,
             "#de77ae"
            ],
            [
             0.3,
             "#f1b6da"
            ],
            [
             0.4,
             "#fde0ef"
            ],
            [
             0.5,
             "#f7f7f7"
            ],
            [
             0.6,
             "#e6f5d0"
            ],
            [
             0.7,
             "#b8e186"
            ],
            [
             0.8,
             "#7fbc41"
            ],
            [
             0.9,
             "#4d9221"
            ],
            [
             1,
             "#276419"
            ]
           ],
           "sequential": [
            [
             0,
             "#0d0887"
            ],
            [
             0.1111111111111111,
             "#46039f"
            ],
            [
             0.2222222222222222,
             "#7201a8"
            ],
            [
             0.3333333333333333,
             "#9c179e"
            ],
            [
             0.4444444444444444,
             "#bd3786"
            ],
            [
             0.5555555555555556,
             "#d8576b"
            ],
            [
             0.6666666666666666,
             "#ed7953"
            ],
            [
             0.7777777777777778,
             "#fb9f3a"
            ],
            [
             0.8888888888888888,
             "#fdca26"
            ],
            [
             1,
             "#f0f921"
            ]
           ],
           "sequentialminus": [
            [
             0,
             "#0d0887"
            ],
            [
             0.1111111111111111,
             "#46039f"
            ],
            [
             0.2222222222222222,
             "#7201a8"
            ],
            [
             0.3333333333333333,
             "#9c179e"
            ],
            [
             0.4444444444444444,
             "#bd3786"
            ],
            [
             0.5555555555555556,
             "#d8576b"
            ],
            [
             0.6666666666666666,
             "#ed7953"
            ],
            [
             0.7777777777777778,
             "#fb9f3a"
            ],
            [
             0.8888888888888888,
             "#fdca26"
            ],
            [
             1,
             "#f0f921"
            ]
           ]
          },
          "colorway": [
           "#636efa",
           "#EF553B",
           "#00cc96",
           "#ab63fa",
           "#FFA15A",
           "#19d3f3",
           "#FF6692",
           "#B6E880",
           "#FF97FF",
           "#FECB52"
          ],
          "font": {
           "color": "#2a3f5f"
          },
          "geo": {
           "bgcolor": "white",
           "lakecolor": "white",
           "landcolor": "white",
           "showlakes": true,
           "showland": true,
           "subunitcolor": "#C8D4E3"
          },
          "hoverlabel": {
           "align": "left"
          },
          "hovermode": "closest",
          "mapbox": {
           "style": "light"
          },
          "paper_bgcolor": "white",
          "plot_bgcolor": "white",
          "polar": {
           "angularaxis": {
            "gridcolor": "#EBF0F8",
            "linecolor": "#EBF0F8",
            "ticks": ""
           },
           "bgcolor": "white",
           "radialaxis": {
            "gridcolor": "#EBF0F8",
            "linecolor": "#EBF0F8",
            "ticks": ""
           }
          },
          "scene": {
           "xaxis": {
            "backgroundcolor": "white",
            "gridcolor": "#DFE8F3",
            "gridwidth": 2,
            "linecolor": "#EBF0F8",
            "showbackground": true,
            "ticks": "",
            "zerolinecolor": "#EBF0F8"
           },
           "yaxis": {
            "backgroundcolor": "white",
            "gridcolor": "#DFE8F3",
            "gridwidth": 2,
            "linecolor": "#EBF0F8",
            "showbackground": true,
            "ticks": "",
            "zerolinecolor": "#EBF0F8"
           },
           "zaxis": {
            "backgroundcolor": "white",
            "gridcolor": "#DFE8F3",
            "gridwidth": 2,
            "linecolor": "#EBF0F8",
            "showbackground": true,
            "ticks": "",
            "zerolinecolor": "#EBF0F8"
           }
          },
          "shapedefaults": {
           "line": {
            "color": "#2a3f5f"
           }
          },
          "ternary": {
           "aaxis": {
            "gridcolor": "#DFE8F3",
            "linecolor": "#A2B1C6",
            "ticks": ""
           },
           "baxis": {
            "gridcolor": "#DFE8F3",
            "linecolor": "#A2B1C6",
            "ticks": ""
           },
           "bgcolor": "white",
           "caxis": {
            "gridcolor": "#DFE8F3",
            "linecolor": "#A2B1C6",
            "ticks": ""
           }
          },
          "title": {
           "x": 0.05
          },
          "xaxis": {
           "automargin": true,
           "gridcolor": "#EBF0F8",
           "linecolor": "#EBF0F8",
           "ticks": "",
           "title": {
            "standoff": 15
           },
           "zerolinecolor": "#EBF0F8",
           "zerolinewidth": 2
          },
          "yaxis": {
           "automargin": true,
           "gridcolor": "#EBF0F8",
           "linecolor": "#EBF0F8",
           "ticks": "",
           "title": {
            "standoff": 15
           },
           "zerolinecolor": "#EBF0F8",
           "zerolinewidth": 2
          }
         }
        },
        "title": {
         "text": "Eigenvalues of Laplacian with Diffusion Term"
        },
        "xaxis": {
         "title": {
          "text": "Index"
         }
        },
        "yaxis": {
         "title": {
          "text": "Eigenvalue"
         }
        }
       }
      }
     },
     "metadata": {},
     "output_type": "display_data"
    }
   ],
   "source": [
    "def laplacian_eigenvalues(n, alpha):\n",
    "    # Compute eigenvalues of 1D Laplacian\n",
    "    lambda_1D = [2 - 2 * np.cos(np.pi * i / (n + 1)) for i in range(1, n + 1)]\n",
    "    \n",
    "    # Compute eigenvalues of 2D Laplacian\n",
    "    lambda_2D = [l1 + l2 for l1 in lambda_1D for l2 in lambda_1D]\n",
    "    \n",
    "    # Add the diffusion term\n",
    "    eigenvalues = np.array(lambda_2D) + alpha\n",
    "    return np.array(lambda_2D), eigenvalues\n",
    "\n",
    "# Parameters\n",
    "n = 10  # Grid size\n",
    "alpha = -1.0  # Diffusion term\n",
    "\n",
    "# Compute eigenvalues\n",
    "lambda_2D, modified_eigenvalues = laplacian_eigenvalues(n, alpha)\n",
    "\n",
    "# Create the Plotly figure\n",
    "fig = go.Figure()\n",
    "\n",
    "# Add the eigenvalues of the Laplacian\n",
    "fig.add_trace(go.Scatter(\n",
    "    x=list(range(len(lambda_2D))),\n",
    "    y=sorted(lambda_2D),\n",
    "    mode='lines+markers',\n",
    "    name='Eigenvalues of Laplacian (A)',\n",
    "    marker=dict(color='blue')\n",
    "))\n",
    "\n",
    "# Add the modified eigenvalues with diffusion term\n",
    "fig.add_trace(go.Scatter(\n",
    "    x=list(range(len(modified_eigenvalues))),\n",
    "    y=sorted(modified_eigenvalues),\n",
    "    mode='lines+markers',\n",
    "    name=f'Eigenvalues of A + αI (α={alpha})',\n",
    "    marker=dict(color='orange')\n",
    "))\n",
    "\n",
    "# Add a horizontal line at y=0\n",
    "fig.add_shape(\n",
    "    type='line',\n",
    "    x0=0,\n",
    "    y0=0,\n",
    "    x1=len(lambda_2D) - 1,\n",
    "    y1=0,\n",
    "    line=dict(color='red', dash='dash'),\n",
    ")\n",
    "\n",
    "# Update layout\n",
    "fig.update_layout(\n",
    "    title='Eigenvalues of Laplacian with Diffusion Term',\n",
    "    xaxis_title='Index',\n",
    "    yaxis_title='Eigenvalue',\n",
    "    legend=dict(\n",
    "        x=0,  # Position the legend on the left\n",
    "        y=1,  # Align the legend vertically\n",
    "        traceorder='normal',\n",
    "        orientation='v',  # Vertical orientation\n",
    "        xanchor='left',  # Anchor the legend to the left\n",
    "        yanchor='top'  # Anchor the legend to the top\n",
    "    ),\n",
    "    template='plotly_white'\n",
    ")\n",
    "\n",
    "# Show the figure\n",
    "fig.show()"
   ]
  },
  {
   "cell_type": "code",
   "execution_count": 21,
   "metadata": {},
   "outputs": [
    {
     "data": {
      "application/vnd.plotly.v1+json": {
       "config": {
        "plotlyServerURL": "https://plot.ly"
       },
       "data": [
        {
         "marker": {
          "symbol": "circle"
         },
         "mode": "lines+markers",
         "name": "Jacobi Residuals",
         "type": "scatter",
         "x": [
          0,
          1,
          2,
          3,
          4,
          5,
          6,
          7,
          8,
          9,
          10,
          11,
          12,
          13,
          14,
          15,
          16,
          17,
          18,
          19,
          20,
          21,
          22,
          23,
          24,
          25,
          26,
          27,
          28,
          29,
          30,
          31,
          32,
          33,
          34,
          35,
          36,
          37,
          38,
          39,
          40,
          41,
          42,
          43,
          44,
          45,
          46,
          47,
          48,
          49,
          50,
          51,
          52,
          53,
          54,
          55,
          56,
          57,
          58,
          59,
          60,
          61,
          62,
          63,
          64,
          65,
          66,
          67,
          68,
          69,
          70,
          71,
          72,
          73,
          74,
          75,
          76,
          77,
          78,
          79,
          80,
          81,
          82,
          83,
          84,
          85,
          86,
          87,
          88,
          89,
          90,
          91,
          92,
          93,
          94,
          95,
          96,
          97,
          98,
          99,
          100,
          101,
          102,
          103,
          104,
          105,
          106,
          107,
          108,
          109,
          110,
          111,
          112,
          113,
          114,
          115,
          116,
          117,
          118,
          119,
          120,
          121,
          122,
          123,
          124,
          125,
          126,
          127,
          128,
          129,
          130,
          131,
          132,
          133,
          134,
          135,
          136,
          137,
          138,
          139,
          140,
          141,
          142,
          143,
          144,
          145,
          146,
          147,
          148,
          149,
          150,
          151,
          152,
          153,
          154,
          155,
          156,
          157,
          158,
          159,
          160,
          161,
          162,
          163,
          164,
          165,
          166,
          167,
          168,
          169,
          170,
          171,
          172,
          173,
          174,
          175,
          176,
          177,
          178,
          179,
          180,
          181,
          182,
          183,
          184,
          185,
          186,
          187,
          188,
          189,
          190,
          191,
          192,
          193,
          194,
          195,
          196,
          197,
          198,
          199,
          200,
          201,
          202,
          203,
          204,
          205,
          206,
          207,
          208,
          209,
          210,
          211,
          212,
          213,
          214,
          215,
          216,
          217,
          218,
          219,
          220,
          221,
          222,
          223,
          224,
          225,
          226,
          227,
          228,
          229,
          230,
          231,
          232,
          233,
          234,
          235,
          236,
          237,
          238,
          239,
          240,
          241,
          242,
          243,
          244,
          245,
          246,
          247,
          248,
          249,
          250,
          251,
          252,
          253,
          254,
          255,
          256,
          257,
          258,
          259,
          260,
          261,
          262,
          263,
          264,
          265,
          266,
          267,
          268,
          269,
          270,
          271,
          272,
          273,
          274,
          275,
          276,
          277,
          278,
          279,
          280,
          281,
          282,
          283,
          284,
          285,
          286,
          287,
          288,
          289,
          290,
          291,
          292,
          293,
          294,
          295,
          296,
          297,
          298,
          299,
          300,
          301,
          302,
          303,
          304,
          305,
          306,
          307,
          308,
          309,
          310,
          311,
          312,
          313,
          314,
          315,
          316,
          317,
          318,
          319,
          320,
          321,
          322,
          323,
          324,
          325,
          326,
          327,
          328,
          329,
          330,
          331,
          332,
          333,
          334,
          335,
          336,
          337,
          338,
          339,
          340,
          341,
          342,
          343,
          344,
          345,
          346,
          347,
          348,
          349,
          350,
          351,
          352,
          353,
          354,
          355,
          356,
          357,
          358,
          359,
          360,
          361,
          362,
          363,
          364,
          365,
          366,
          367,
          368,
          369,
          370,
          371,
          372,
          373,
          374,
          375,
          376,
          377,
          378,
          379,
          380,
          381,
          382,
          383,
          384,
          385,
          386,
          387,
          388,
          389,
          390,
          391,
          392,
          393,
          394,
          395,
          396,
          397,
          398,
          399,
          400,
          401,
          402,
          403,
          404,
          405,
          406,
          407,
          408,
          409,
          410,
          411,
          412,
          413,
          414,
          415,
          416,
          417,
          418,
          419,
          420,
          421,
          422,
          423,
          424,
          425,
          426,
          427,
          428,
          429,
          430,
          431,
          432,
          433,
          434,
          435,
          436,
          437,
          438,
          439,
          440,
          441,
          442,
          443,
          444,
          445,
          446,
          447,
          448,
          449,
          450,
          451,
          452,
          453,
          454,
          455,
          456,
          457,
          458,
          459,
          460,
          461,
          462,
          463,
          464,
          465,
          466,
          467,
          468,
          469,
          470,
          471,
          472,
          473,
          474,
          475,
          476,
          477,
          478,
          479,
          480,
          481,
          482,
          483,
          484,
          485,
          486,
          487,
          488,
          489,
          490,
          491,
          492,
          493,
          494,
          495,
          496,
          497,
          498,
          499,
          500,
          501,
          502,
          503,
          504,
          505,
          506,
          507,
          508,
          509,
          510,
          511,
          512,
          513,
          514,
          515,
          516,
          517,
          518,
          519,
          520,
          521,
          522,
          523,
          524,
          525,
          526,
          527,
          528,
          529,
          530,
          531,
          532,
          533,
          534,
          535,
          536,
          537,
          538,
          539,
          540,
          541,
          542,
          543,
          544,
          545,
          546,
          547,
          548,
          549,
          550,
          551,
          552,
          553,
          554,
          555,
          556,
          557,
          558,
          559,
          560,
          561,
          562,
          563,
          564,
          565,
          566,
          567,
          568,
          569,
          570,
          571,
          572,
          573,
          574,
          575,
          576,
          577,
          578,
          579,
          580,
          581,
          582,
          583,
          584,
          585,
          586,
          587,
          588,
          589,
          590,
          591,
          592,
          593,
          594,
          595,
          596,
          597,
          598,
          599,
          600,
          601,
          602,
          603,
          604,
          605,
          606,
          607,
          608,
          609,
          610,
          611,
          612,
          613,
          614,
          615,
          616,
          617,
          618,
          619,
          620,
          621,
          622,
          623,
          624,
          625,
          626,
          627,
          628,
          629,
          630,
          631,
          632,
          633,
          634,
          635,
          636,
          637,
          638,
          639,
          640,
          641,
          642,
          643,
          644,
          645,
          646,
          647,
          648,
          649,
          650,
          651,
          652,
          653,
          654,
          655,
          656,
          657,
          658,
          659,
          660,
          661,
          662,
          663,
          664,
          665,
          666,
          667,
          668,
          669,
          670,
          671,
          672,
          673,
          674,
          675,
          676,
          677,
          678,
          679,
          680,
          681,
          682,
          683,
          684,
          685,
          686,
          687,
          688,
          689,
          690,
          691,
          692,
          693,
          694,
          695,
          696,
          697,
          698,
          699,
          700,
          701,
          702,
          703,
          704,
          705,
          706,
          707,
          708,
          709,
          710,
          711,
          712,
          713,
          714,
          715,
          716,
          717,
          718,
          719,
          720,
          721,
          722,
          723,
          724,
          725,
          726,
          727,
          728,
          729,
          730,
          731,
          732,
          733,
          734,
          735,
          736,
          737,
          738,
          739,
          740,
          741,
          742,
          743,
          744,
          745,
          746,
          747,
          748,
          749,
          750,
          751,
          752,
          753,
          754,
          755,
          756,
          757,
          758,
          759,
          760,
          761,
          762,
          763,
          764,
          765,
          766,
          767,
          768,
          769,
          770,
          771,
          772,
          773,
          774,
          775,
          776,
          777,
          778,
          779,
          780,
          781,
          782,
          783,
          784,
          785,
          786,
          787,
          788,
          789,
          790,
          791,
          792,
          793,
          794,
          795,
          796,
          797,
          798,
          799,
          800,
          801,
          802,
          803,
          804,
          805,
          806,
          807,
          808,
          809,
          810,
          811,
          812,
          813,
          814,
          815,
          816,
          817,
          818,
          819,
          820,
          821,
          822,
          823,
          824,
          825,
          826,
          827,
          828,
          829,
          830,
          831,
          832,
          833,
          834,
          835,
          836,
          837,
          838,
          839,
          840,
          841,
          842,
          843,
          844,
          845,
          846,
          847,
          848,
          849,
          850,
          851,
          852,
          853,
          854,
          855,
          856,
          857,
          858,
          859,
          860,
          861,
          862,
          863,
          864,
          865,
          866,
          867,
          868,
          869,
          870,
          871,
          872,
          873,
          874,
          875,
          876,
          877,
          878,
          879,
          880,
          881,
          882,
          883,
          884,
          885,
          886,
          887,
          888,
          889,
          890,
          891,
          892,
          893,
          894,
          895,
          896,
          897,
          898,
          899,
          900,
          901,
          902,
          903,
          904,
          905,
          906,
          907,
          908,
          909,
          910,
          911,
          912,
          913,
          914,
          915,
          916,
          917,
          918,
          919,
          920,
          921,
          922,
          923,
          924,
          925,
          926,
          927,
          928,
          929,
          930,
          931,
          932,
          933,
          934,
          935,
          936,
          937,
          938,
          939,
          940,
          941,
          942,
          943,
          944,
          945,
          946,
          947,
          948,
          949,
          950,
          951,
          952,
          953,
          954,
          955,
          956,
          957,
          958,
          959,
          960,
          961,
          962,
          963,
          964,
          965,
          966,
          967,
          968,
          969,
          970,
          971,
          972,
          973,
          974,
          975,
          976,
          977,
          978,
          979,
          980,
          981,
          982,
          983,
          984,
          985,
          986,
          987,
          988,
          989,
          990,
          991,
          992,
          993,
          994,
          995,
          996,
          997,
          998,
          999
         ],
         "y": [
          12.147244772192398,
          15.150276043608274,
          19.078640230151358,
          24.151430007492255,
          30.672879741890632,
          39.040229925683676,
          49.76495754223683,
          63.50286830732516,
          81.09365231852205,
          103.6119190501433,
          132.4326697418655,
          169.31513587109467,
          216.51006948762551,
          276.8970171095104,
          354.1599441765826,
          453.01191880345976,
          579.4825567692402,
          741.285757808648,
          948.2901601967053,
          1213.1210051670676,
          1551.9301170022168,
          1985.3809574801805,
          2539.908830059497,
          3249.333089682976,
          4156.919681772941,
          5318.019798122923,
          6803.445572913175,
          8703.788691793265,
          11134.945292223687,
          14245.18410111109,
          18224.188872876006,
          23314.626597358692,
          29826.946985591167,
          38158.315806764804,
          48816.836760085054,
          62452.53909603304,
          79897.02082297178,
          102214.16521150187,
          130765.02363398949,
          167290.82173616329,
          214019.1512217431,
          273799.82354745065,
          350278.6708108096,
          448119.8933910704,
          573290.5146148191,
          733424.2904266391,
          938287.2677518646,
          1200373.384467106,
          1535666.4347160289,
          1964614.8693982149,
          2513378.8817955153,
          3215425.834100049,
          4113571.324805596,
          5262590.375135254,
          6732557.982414955,
          8613122.770059975,
          11018974.370419985,
          14096837.978677502,
          18034422.6532735,
          23071869.091086242,
          29516395.040561445,
          37761031.52970442,
          48308592.57156076,
          61802340.182867326,
          79065214.87729426,
          101150024.17560114,
          129403649.96943812,
          165549190.54057506,
          211791046.81461948,
          270949361.7237714,
          346632011.7054105,
          443454639.5479839,
          567322147.6837981,
          725788819.3044226,
          928519029.9338642,
          1187876646.7849991,
          1519679061.4811037,
          1944161842.186767,
          2487212836.196686,
          3181950986.9525485,
          4070746152.488797,
          5207803107.574895,
          6662467319.581045,
          8523454106.76555,
          10904259101.822824,
          13950079987.561169,
          17846671639.233475,
          22831674720.332806,
          29209108626.681374,
          37367912657.12445,
          47805666177.53481,
          61158934395.07314,
          78242090434.43022,
          100096981350.3278,
          128056467047.54785,
          163825707144.02472,
          209586153202.82404,
          268128588486.6683,
          343023328904.1749,
          438837965159.2141,
          561415925500.7327,
          718232847724.3108,
          918852494414.1433,
          1175510016238.0325,
          1503858134658.4749,
          1923921751357.0813,
          2461319202948.2905,
          3148824641401.7603,
          4028366824758.904,
          5153586217997.215,
          6593106353446.452,
          8434718960566.626,
          10790738102768.875,
          13804849852961.287,
          17660875247625.973,
          22593980943972.42,
          28905021282295.184,
          36978886430052.984,
          47307975602299.1,
          60522226915109.41,
          77427535296732.9,
          99054901442004.97,
          126723309247573.73,
          162120166421632.1,
          207404214083691.9,
          265337181481785.84,
          339452215027264.25,
          434269353595383.4,
          555571191241173.3,
          710755539118056.2,
          909286594321811.6,
          1163272131004845.8,
          1488201914800949.8,
          1903892374094869.5,
          2435695140616335,
          3116043164384465.5,
          3986428695608505,
          5099933764335422,
          6524467483705561,
          8346907609588993,
          10678398937080030,
          13661131666107736,
          17477013127003844,
          22358761726838030,
          28604099700829120,
          36593910239352104,
          46815466335650600,
          59892148007390390,
          76621460250360770,
          98023670317738260,
          125404030557031780,
          160432381576546200,
          205244990483914700,
          262574834985187420,
          335918278955031200,
          429748304488036100,
          549787304772018940,
          703356074548272600,
          899820281970856100,
          1151161650755802900,
          1472708687192877800,
          1884071516723463400,
          2410337842777829400,
          3083602965576603000,
          3944927171850103000,
          5046839870414779000,
          6456543192827307000,
          8260010436475086000,
          10567229301040350000,
          13518909686561935000,
          17295065140246858000,
          22125991307029190000,
          28306310924466600000,
          36212941921297326000,
          46328084436526210000,
          59268628663821400000,
          75823777011604550000,
          97003175034062700000,
          124098486484640510000,
          158762167757608350000,
          203108245918975070000,
          259841246456562580000,
          332421133640406340000,
          425274322678580900000,
          544063632625017000000,
          696033643603844100000,
          890452520582914100000,
          1.1391772491154995e+21,
          1.4573767549704182e+21,
          1.8644570084042846e+21,
          2.385244532226955e+21,
          3.051500492032216e+21,
          3.9038577081147914e+21,
          4.994298721235916e+21,
          6.389326041543641e+21,
          8.174017923991003e+21,
          1.045721701902444e+22,
          1.3378168337754518e+22,
          1.7115011359876535e+22,
          2.1895644190845113e+22,
          2.8011622338505287e+22,
          3.5835939751118294e+22,
          4.584577652542729e+22,
          5.865160059473059e+22,
          7.503439821585051e+22,
          9.599330382333432e+22,
          1.2280653404337455e+23,
          1.5710934203808994e+23,
          2.009937463663254e+23,
          2.5713611650525825e+23,
          3.28960396065752e+23,
          4.20846918163375e+23,
          5.383995479267649e+23,
          6.887874443106035e+23,
          8.811822841732149e+23,
          1.1273176135170304e+24,
          1.4422044389352726e+24,
          1.8450467008987094e+24,
          2.3604124606705612e+24,
          3.0197322277940126e+24,
          3.8632158063541426e+24,
          4.942304562337687e+24,
          6.322808668034513e+24,
          8.088920653983937e+24,
          1.03483500421637e+25,
          1.3238892205279141e+25,
          1.693683206587343e+25,
          2.1667695149992354e+25,
          2.772000166778478e+25,
          3.546286243842886e+25,
          4.53684897785733e+25,
          5.8040996221389645e+25,
          7.425323740801194e+25,
          9.499394608148882e+25,
          1.2152803173480387e+26,
          1.5547372339565863e+26,
          1.989012602397578e+26,
          2.544591488574883e+26,
          3.255356872009138e+26,
          4.1646560604005835e+26,
          5.327944303300524e+26,
          6.816166830434988e+26,
          8.720085574382094e+26,
          1.1155814450582344e+27,
          1.427190077370778e+27,
          1.8258384683327893e+27,
          2.3358389084271566e+27,
          2.9882946935082854e+27,
          3.822997015347584e+27,
          4.890851699166935e+27,
          6.256983787121598e+27,
          8.004709306350669e+27,
          1.0240616447026726e+28,
          1.3101066035204265e+28,
          1.6760507743517378e+28,
          2.1442119218821727e+28,
          2.743141697315177e+28,
          3.509366912270478e+28,
          4.489617192211637e+28,
          5.743674866861218e+28,
          7.3480209033060286e+28,
          9.40049923559278e+28,
          1.2026283953359636e+29,
          1.5385513269255136e+29,
          1.9683055836403887e+29,
          2.5181005032388472e+29,
          3.221466319617071e+29,
          4.121299064544445e+29,
          5.272476659459195e+29,
          6.745205744396712e+29,
          8.62930335644372e+29,
          1.1039674583594334e+30,
          1.412332025859908e+30,
          1.8068302069644144e+30,
          2.3115211841290443e+30,
          2.9571844460438416e+30,
          3.783196930214861e+30,
          4.839934496454792e+30,
          6.19184418947039e+30,
          7.921374658016792e+30,
          1.0134004434313403e+31,
          1.296467473240249e+31,
          1.6586019081250142e+31,
          2.1218891691593987e+31,
          2.7145836647961957e+31,
          3.4728319368808554e+31,
          4.442877122641608e+31,
          5.683879175742958e+31,
          7.271522842665502e+31,
          9.302633433353156e+31,
          1.1901081887218214e+32,
          1.5225339265595518e+32,
          1.9478141394981087e+32,
          2.4918853076738708e+32,
          3.1879285916883727e+32,
          4.078393445479671e+32,
          5.2175864727642194e+32,
          6.674983413124424e+32,
          8.539466245181602e+32,
          1.0924743814226562e+33,
          1.3976286571051766e+33,
          1.7880198349529103e+33,
          2.287456624427562e+33,
          2.926398078114908e+33,
          3.743811191933631e+33,
          4.7895473775995123e+33,
          6.127382740800632e+33,
          7.838907581926598e+33,
          1.0028502327562637e+34,
          1.2829703358897313e+34,
          1.6413346968560382e+34,
          2.0997988119773992e+34,
          2.6863229414618446e+34,
          3.4366773162560916e+34,
          4.396623650037397e+34,
          5.624705999784277e+34,
          7.1958211805870925e+34,
          9.20578648287959e+34,
          1.177718326255771e+35,
          1.5066832785859182e+35,
          1.9275360256875234e+35,
          2.4659430307146558e+35,
          3.154740015072468e+35,
          4.0359345040567005e+35,
          5.1632677314809536e+35,
          6.605492145661921e+35,
          8.45056440137115e+35,
          1.0811009554923225e+36,
          1.3830783607504044e+36,
          1.769405292131026e+36,
          2.263642593701369e+36,
          2.8959322179079463e+36,
          3.7048354868620294e+36,
          4.739684824055685e+36,
          6.063592381104926e+36,
          7.757299046043434e+36,
          9.924098571873489e+36,
          1.2696137132227037e+37,
          1.6242472493890616e+37,
          2.0779384309353052e+37,
          2.6583564321146113e+37,
          3.400899090635833e+37,
          4.350851708582685e+37,
          5.566148858164957e+37,
          7.120907626002179e+37,
          9.109947777209307e+37,
          1.1654574509636452e+38,
          1.4909976469950404e+38,
          1.907469021289986e+38,
          2.440270831086751e+38,
          3.121896954858864e+38,
          3.993917590047435e+38,
          5.109514486461147e+38,
          6.5367243311212764e+38,
          8.362588088221052e+38,
          1.0698459349173855e+39,
          1.368679543204352e+39,
          1.750984539779301e+39,
          2.240076483767805e+39,
          2.8657835287123713e+39,
          3.666265546266241e+39,
          4.6903413747298316e+39,
          6.000466123875517e+39,
          7.676540112360502e+39,
          9.82078173263966e+39,
          1.2563961423825816e+40,
          1.6073376942565953e+40,
          2.056305631819907e+40,
          2.630681073780161e+40,
          3.3654933414836075e+40,
          4.3055562851998628e+40,
          5.5082013375346745e+40,
          7.046773974157996e+40,
          9.01510681980547e+40,
          1.1533242199983313e+41,
          1.4754753138504263e+41,
          1.887610928508172e+41,
          2.414865897095372e+41,
          3.0893958139790387e+41,
          3.9523381016359036e+41,
          5.056320850491349e+41,
          6.4686724378492364e+41,
          8.275527670306803e+41,
          1.0587080870148974e+42,
          1.3544306274661864e+42,
          1.732755560402774e+42,
          2.216755713597217e+42,
          2.8359487085550946e+42,
          3.6280971458529626e+42,
          4.641511625382305e+42,
          5.937997055339101e+42,
          7.596621935921925e+42,
          9.718540494297128e+42,
          1.2433161757421412e+43,
          1.5906041794744425e+43,
          2.0348980453434412e+43,
          2.603293835371875e+43,
          3.330456191057667e+43,
          4.260732419000977e+43,
          5.450857091310582e+43,
          6.973412105719016e+43,
          8.921253223407565e+43,
          1.141317304492699e+44,
          1.4601145791005096e+44,
          1.8679595724253712e+44,
          2.3897254463174464e+44,
          3.057233032812477e+44,
          3.911191484914283e+44,
          5.003680997648142e+44,
          6.40132901260236e+44,
          8.189373612515456e+44,
          1.0476861919350072e+45,
          1.3403300529527588e+45,
          1.714716357510026e+45,
          2.193677729030285e+45,
          2.8064244898388878e+45,
          3.5903261053067506e+45,
          4.593190228035375e+45,
          5.876178333699617e+45,
          7.51753576385404e+45,
          9.617363659084857e+45,
          1.2303723807449773e+46,
          1.5740448723388625e+46,
          2.0137133268840896e+46,
          2.576191717358876e+46,
          3.2957838019862765e+46,
          4.216375200744407e+46,
          5.394109838982233e+46,
          6.900813985877707e+46,
          8.828376708893752e+46,
          1.129435389414058e+47,
          1.4449137603924566e+47,
          1.8485128007672844e+47,
          2.3648467252968857e+47,
          3.025405088796821e+47,
          3.870473233384125e+47,
          4.951589162660071e+47,
          6.334686679730706e+47,
          8.104116479001281e+47,
          1.0367790425273588e+48,
          1.3263762753276893e+48,
          1.6968649553945146e+48,
          2.1708400024982852e+48,
          2.7772076389845096e+48,
          3.552948287832192e+48,
          4.5453718903875316e+48,
          5.815003188388908e+48,
          7.43927293440674e+48,
          9.517240145818363e+48,
          1.217563339748604e+49,
          1.5576579592258492e+49,
          1.992749156229199e+49,
          2.5493717514375133e+49,
          3.2614723768474384e+49,
          4.1724797722971876e+49,
          5.337953365423692e+49,
          6.828971663474523e+49,
          8.736467104155081e+49,
          1.1176771734201327e+50,
          1.4298711928879057e+50,
          1.8292684836663004e+50,
          2.3402270092430146e+50,
          2.993908496042055e+50,
          3.830178887462799e+50,
          4.900039640276198e+50,
          6.2687381403700295e+50,
          8.019746932152339e+50,
          1.0259854442088784e+51,
          1.312567766332224e+51,
          1.679199398918192e+51,
          2.1482400327462573e+51,
          2.7482949560765478e+51,
          3.515959599700816e+51,
          4.4980513752338304e+51,
          5.754464919325184e+51,
          7.361824876004837e+51,
          9.41815898867608e+51,
          1.204887649869189e+52,
          1.5414416453924956e+52,
          1.9720032373211589e+52,
          2.522831000206258e+52,
          3.227518157752986e+52,
          4.1290413261029293e+52,
          5.282381520212863e+52,
          6.757877270127079e+52,
          8.645514342981402e+52,
          1.1060413687165349e+53,
          1.4149852290806358e+53,
          1.8102245134282266e+53,
          2.3158636017321417e+53,
          2.9627398049487367e+53,
          3.790304033995065e+53,
          4.849026784641267e+53,
          6.203476171642392e+53,
          7.93625573156778e+53,
          1.0153042148329424e+54,
          1.2989030136178566e+54,
          1.6617177532973723e+54,
          2.125875344559063e+54,
          2.719683274512959e+54,
          3.479355989802737e+54,
          4.45122349989232e+54,
          5.694556896179217e+54,
          7.285183106309252e+54,
          9.320109335998353e+54,
          1.1923439228279063e+55,
          1.52539415478043e+55,
          1.9514732980059306e+55,
          2.496566556844e+55,
          3.193917425937009e+55,
          4.0860551046552806e+55,
          5.227388216957857e+55,
          6.687523019368373e+55,
          8.555508463958881e+55,
          1.0945267009157209e+56,
          1.4002542386161211e+56,
          1.7913788043014478e+56,
          2.2917538344122385e+56,
          2.9318956018301666e+56,
          3.750844305769724e+56,
          4.798545008677329e+56,
          6.138893625865085e+56,
          7.853633733045833e+56,
          1.0047341845599029e+57,
          1.2853805205806911e+57,
          1.6444181038908236e+57,
          2.103743488490293e+57,
          2.6913694606582506e+57,
          3.4431334492029734e+57,
          4.4048831356364035e+57,
          5.6352725576481646e+57,
          7.209339231288015e+57,
          9.223080449098924e+57,
          1.1799307847988878e+58,
          1.5095137298212966e+58,
          1.9311570897841956e+58,
          2.4705755447916757e+58,
          3.1606665013485624e+58,
          4.043516399976883e+58,
          5.172967432630408e+58,
          6.617901205794002e+58,
          8.466439609379009e+58,
          1.083131908897417e+59,
          1.3856766081129723e+59,
          1.7727292922484886e+59,
          2.2678950667106996e+59,
          2.901372508538531e+59,
          3.711795381041319e+59,
          4.748588783471856e+59,
          6.074983429767813e+59,
          7.771871887582287e+59,
          9.942741957289663e+59,
          1.271998806197531e+60,
          1.6272985559900797e+60,
          2.081842040593999e+60,
          2.6633504135002786e+60,
          3.4072880107023786e+60,
          4.359025207133134e+60,
          5.576605410736959e+60,
          7.134284944296936e+60,
          9.127061701088807e+60,
          1.1676468762587591e+61,
          1.4937986312442605e+61,
          1.9110523875650953e+61,
          2.4448551174372247e+61,
          3.127761742248617e+61,
          4.001420553103716e+61,
          5.119113206906203e+61,
          6.549004204218238e+61,
          8.378298024158934e+61,
          1.0718557446704966e+62,
          1.3712507409862349e+62,
          1.7542739347199539e+62,
          2.2442846855451366e+62,
          2.8711671820949073e+62,
          3.6731529830568e+62,
          4.699152637672173e+62,
          6.011738583717977e+62,
          7.690961240379424e+62,
          9.839231027313992e+62,
          1.2587564048636704e+63,
          1.6103572346119162e+63,
          2.0601686021592084e+63,
          2.6356230643106145e+63,
          3.371815748403128e+63,
          4.3136446918873455e+63,
          5.5185490300471744e+63,
          7.060012025169817e+63,
          9.032042575712397e+63,
          1.1554908518377379e+64,
          1.4782471378855192e+64,
          1.891156989422529e+64,
          2.4194024578038165e+64,
          3.0951995448112094e+64,
          3.9597629535748633e+64,
          5.065819641512093e+64,
          6.480824468838889e+64,
          8.291074054773092e+64,
          1.0606969732362988e+65,
          1.3569750572725242e+65,
          1.736010710430823e+65,
          2.220920105037182e+65,
          2.8412763143231304e+65,
          3.634912879587119e+65,
          4.650231156886241e+65,
          5.949152160954084e+65,
          7.6108929298652635e+65,
          9.73679771885063e+65,
          1.24565186623238e+66,
          1.593592284293005e+66,
          2.03872079944722e+66,
          2.6081843763084517e+66,
          3.3367127772787593e+66,
          4.2687366196915796e+66,
          5.4610970570732935e+66,
          6.986512339318183e+66,
          8.938012666195706e+66,
          1.1434613801722883e+67,
          1.4628575464997946e+67,
          1.871468716353994e+67,
          2.3942147782413334e+67,
          3.0629763427287355e+67,
          3.9185390389275356e+67,
          5.0130808995800995e+67,
          6.413354532410868e+67,
          8.204758148195891e+67,
          1.049654372453367e+68,
          1.3428479934569866e+68,
          1.7179376191390735e+68,
          2.1977987662292795e+68,
          2.8116966314874727e+68,
          3.597070882463708e+68,
          4.601818983089636e+68,
          5.887217306827091e+68,
          7.531658186723008e+68,
          9.635430813102445e+68,
          1.2326837550560557e+69,
          1.5770018688866928e+69,
          2.0174962834316165e+69,
          2.5810313443279982e+69,
          3.30197525274866e+69,
          4.224296072081723e+69,
          5.404243199506312e+69,
          6.913777836840315e+69,
          8.84496167410656e+69,
          1.1315571437593023e+70,
          1.4476281715737865e+70,
          1.851985412041934e+70,
          2.3692893201210463e+70,
          3.0310886068213515e+70,
          3.87774429419739e+70,
          4.9608912050081393e+70,
          6.346587005428355e+70,
          8.119340850855444e+70,
          1.0387267329035934e+71,
          1.328868002302054e+71,
          1.700052681426606e+71,
          2.1749181368044184e+71,
          2.782424893934098e+71,
          3.559622847119774e+71,
          4.55391081403874e+71,
          5.825927238049661e+71,
          7.453248332930621e+71,
          9.535119208067863e+71,
          1.2198506510290327e+72,
          1.5605841713619026e+72,
          1.996492729540997e+72,
          2.5541609944893553e+72,
          3.267599370257003e+72,
          4.180318181798333e+72,
          5.347981230544578e+72,
          6.841800551639648e+72,
          8.752879408226712e+72,
          1.1197768388118066e+73,
          1.432557345141576e+73,
          1.8327049426175742e+73,
          2.3446233535334973e+73,
          2.999532844650466e+73,
          3.837374251424037e+73,
          4.9092448418274075e+73,
          6.280514575315483e+73,
          8.034812807598193e+73,
          1.027912857759765e+74,
          1.3150335526779906e+74,
          1.6823539384824558e+74,
          2.1522757108087897e+74,
          2.7534578957362426e+74,
          3.5225646721363794e+74,
          4.506501402690014e+74,
          5.765275241953261e+74,
          7.375654780810365e+74,
          9.43585191732496e+74,
          1.2071511486320242e+75,
          1.5443373936041296e+75,
          1.975707837404385e+75,
          2.5275703838728016e+75,
          3.2335813648560678e+75,
          4.136798132253565e+75,
          5.292304988211829e+75,
          6.770572600552273e+75,
          8.661755783435654e+75,
          1.1081191751161663e+76,
          1.4176434166019389e+76,
          1.813625196427213e+76,
          2.320214176989498e+76,
          2.9683056001362235e+76,
          3.797424489161693e+76,
          4.858136153576356e+76,
          6.21513000562543e+76,
          7.95116476066431e+76,
          1.0172115626544803e+77,
          1.3013431293951954e+77,
          1.6648394518882561e+77,
          2.1298690083773233e+77,
          2.7247924643430914e+77,
          3.4858922987932354e+77,
          4.4595855566253307e+77,
          5.705254675752936e+77,
          7.298869032088266e+77,
          9.337618068828182e+77,
          1.1945838569781886e+78,
          1.5282597562185032e+78,
          1.9551393305992782e+78,
          2.5012566001964784e+78,
          3.1999175107938765e+78,
          4.093731157003624e+78,
          5.237208374682296e+78,
          6.700086182483555e+78,
          8.57158081960607e+78,
          1.0965828758907754e+79,
          1.4028847525375699e+79,
          1.7947440838009487e+79,
          2.296059117124265e+79,
          2.9374034531789842e+79,
          3.7578906319949286e+79,
          4.8075595426811684e+79,
          6.150426135247879e+79,
          7.868387548673744e+79,
          1.0066216755504339e+80,
          1.2877952330382581e+80,
          1.6475073034059372e+80,
          2.1076955754620856e+80,
          2.696425460232314e+80,
          3.4496017106241915e+80,
          4.413158137483283e+80,
          5.645858965819801e+80,
          7.222882676963348e+80,
          9.240406903717606e+80,
          1.1821473996607915e+81,
          1.5123494983349045e+81,
          1.9347849564023347e+81,
          2.475216761497429e+81,
          3.166604121106153e+81,
          4.051112539226751e+81,
          5.1826853556128695e+81,
          6.630333577553734e+81,
          8.482344640510776e+81,
          1.0851666776462236e+82,
          1.3882797365361864e+82,
          1.7760595368238083e+82,
          2.272155528404617e+82,
          2.9068230192847542e+82,
          3.718768350059466e+82,
          4.757509469842713e+82,
          6.086395877624687e+82,
          7.786472105622837e+82,
          9.961420366120525e+82,
          1.2743883798017334e+83,
          1.6303555947676348e+83,
          2.0857529835635077e+83,
          2.6683537765662123e+83,
          3.4136889329773195e+83,
          4.3672140603964117e+83,
          5.587081606961061e+83,
          7.147687393186577e+83,
          9.144207775140591e+83,
          1.1698404146024603e+84,
          1.4966048774151084e+84,
          1.9146424855426433e+84,
          2.4494480158159506e+84,
          3.133637547212503e+84,
          4.008937611206619e+84,
          5.128729959482185e+84,
          6.561307146252428e+84,
          8.394037472741059e+84,
          1.0738693300469118e+85,
          1.3738267690134924e+85,
          1.757569509109271e+85,
          2.2485007928392355e+85,
          2.876560949194497e+85,
          3.680053358567959e+85,
          4.70798045342985e+85,
          6.023032219973784e+85,
          7.70540945989143e+85,
          9.857714980784678e+85,
          1.2611211013276354e+86,
          1.6133824474677905e+86,
          2.064038829464408e+86,
          2.6405743388514546e+86,
          3.3781500325796226e+86,
          4.3217482934343124e+86,
          5.528916161707555e+86,
          7.073274945149382e+86,
          9.049010147085731e+86,
          1.1576615539060066e+87,
          1.4810241690619385e+87,
          1.894709711957573e+87,
          2.423947540883253e+87,
          3.1010141785168268e+87,
          3.967201753821102e+87,
          5.075336276936613e+87,
          6.492999328601924e+87,
          8.30664964463626e+87,
          1.0626895957741136e+88,
          1.3595242670379899e+88,
          1.7392719755751345e+88,
          2.2250923196919295e+88,
          2.846613928517318e+88,
          3.641741417340705e+88,
          4.658967068879076e+88,
          5.9603282225210695e+88,
          7.625190733260204e+88,
          9.755089241378058e+88,
          1.2479919445446164e+89,
          1.596586002557404e+89,
          2.042550734966783e+89,
          2.61308410460234e+89,
          3.3429811171062347e+89,
          4.2767558570524995e+89,
          5.471356259608694e+89,
          6.999637182981652e+89,
          8.954803593228892e+89,
          1.1456094837067967e+90,
          1.4656056668304045e+90,
          1.8749844525511508e+90,
          2.398712543812339e+90,
          3.068730442011862e+90,
          3.925900396036389e+90,
          5.022498460143052e+90,
          6.425402643329187e+90,
          8.220171585224495e+90,
          1.0516262503904598e+91,
          1.3453706641576081e+91,
          1.721164932221726e+91,
          2.2019275451978918e+91,
          2.8169786773674607e+91,
          3.603828330341252e+91,
          4.610463948100395e+91,
          5.8982770177403784e+91,
          7.545807139938353e+91,
          9.653531908027939e+91,
          1.2349994715088216e+92,
          1.5799644204404425e+92,
          2.021286346631341e+92,
          2.585880063007586e+92,
          3.3081783347541224e+92,
          4.232231823547052e+92,
          5.414395596534759e+92,
          6.926766041659165e+92,
          8.8615777957913e+92,
          1.1336828840266664e+93,
          1.450347682040807e+93,
          1.85546454695497e+93,
          2.3737402607921333e+93,
          3.036782801887861e+93,
          3.885029014406333e+93,
          4.970210722148444e+93,
          6.35850968704649e+93,
          8.134593823174431e+93,
          1.0406780822058345e+94,
          1.3313644102281443e+94,
          1.703246395912419e+94,
          2.1790039322829086e+94,
          2.7876519500050816e+94,
          3.566309945216838e+94,
          4.5624657788894115e+94,
          5.836871809601312e+94,
          7.467249985601329e+94,
          9.553031857876575e+94,
          1.2221422592464028e+95,
          1.5635158806723614e+95,
          2.000243335519751e+95,
          2.5589592346005684e+95,
          3.273737873820238e+95,
          4.1881713165149093e+95,
          5.358027933986446e+95,
          6.854653540120263e+95,
          8.769322544409507e+95,
          1.1218804486293505e+96,
          1.4352485435937889e+96,
          1.8361478572915748e+96,
          2.349027956784774e+96,
          3.0051677591453477e+96,
          3.8445831325770463e+96,
          4.918467336245987e+96,
          6.292313133440581e+96,
          8.049906985757946e+96,
          1.0298438921446675e+97,
          1.3175039712434863e+97,
          1.6855144041564291e+97,
          2.1563189702854934e+97,
          2.7586305344807722e+97,
          3.529182152843607e+97,
          4.5149673043455025e+97,
          5.7761058728249305e+97,
          7.389510666438605e+97,
          9.453578083862965e+97,
          1.2094188995976688e+98,
          1.5472385817607206e+98,
          1.9794193969395618e+98,
          2.532318670933007e+98,
          3.2396559622840307e+98,
          4.1445695103197865e+98,
          5.302247098411618e+98,
          6.783291780391736e+98,
          8.678027735017125e+98,
          1.1102008848774222e+99,
          1.4203065977873121e+99,
          1.8170322679403167e+99,
          2.3245729252260645e+99,
          2.9738818512118777e+99,
          3.804558320796628e+99,
          4.867262635347912e+99,
          6.226805732470271e+99,
          7.966101797823597e+99,
          1.0191224936146076e+100,
          1.303787829167602e+100,
          1.6679670148938835e+100,
          2.133870174681905e+100,
          2.729911252283771e+100,
          3.492440886876575e+100,
          4.4679633222960754e+100,
          5.71597255214716e+100,
          7.312580668211371e+100,
          9.355159693517354e+100,
          1.1968279990628608e+101,
          1.531130740967884e+101,
          1.9588122501917915e+101,
          2.5059554542520352e+101,
          3.2059288673943376e+101,
          4.1014216295636693e+101,
          5.247046980529148e+101,
          6.712672946723846e+101,
          8.587683368738203e+101,
          1.0986429135907173e+102,
          1.4055202081355373e+102,
          1.7981156853056447e+102,
          2.300372487729044e+102,
          2.9429216515628253e+102,
          3.764950195430004e+102,
          4.816591011364824e+102,
          6.161980309572391e+102,
          7.883169080780794e+102,
          1.0085127123765633e+103,
          1.2902144817682814e+103,
          1.6506023062831145e+103,
          2.1116550868140445e+103,
          2.70149095799385e+103,
          3.45608212330426e+103,
          4.4214486847268145e+103,
          5.6564652615899184e+103,
          7.236451565320022e+103,
          9.257765907768256e+103,
          1.1843681786495308e+104,
          1.5151905941157655e+104,
          1.938419638321137e+104,
          2.479866697180648e+104,
          3.172552895260563e+104,
          4.058722948563788e+104,
          5.1924215346598265e+104,
          6.642789304734277e+104,
          8.498279550792098e+104,
          1.0872052689062378e+105,
          1.3908877551895932e+105,
          1.7793960375878085e+105,
          2.2764239937906398e+105,
          2.9122837693460947e+105,
          3.7257544184788273e+105,
          4.766446914591472e+105,
          6.097829764876023e+105,
          7.801099751594514e+105,
          9.980133864160979e+105,
          1.276782442452609e+106,
          1.6334183764901787e+106,
          2.089671273620168e+106,
          2.673366538936813e+106,
          3.4201018800079723e+106,
          4.375418297217842e+106,
          5.5975774837397724e+106,
          7.161115019881369e+106,
          9.16138605976189e+106,
          1.1720380737215118e+107,
          1.4994163953926147e+107,
          1.9182393278687875e+107,
          2.4540495424014632e+107,
          3.139524390448102e+107,
          4.016468790835056e+107,
          5.138364778064201e+107,
          6.573633200561092e+107,
          8.409806489409797e+107
         ]
        },
        {
         "marker": {
          "symbol": "square"
         },
         "mode": "lines+markers",
         "name": "Gauss-Seidel Residuals",
         "type": "scatter",
         "x": [
          0,
          1,
          2,
          3,
          4,
          5,
          6,
          7,
          8,
          9,
          10,
          11,
          12,
          13,
          14,
          15,
          16,
          17,
          18,
          19,
          20,
          21,
          22,
          23,
          24,
          25,
          26,
          27,
          28,
          29,
          30,
          31,
          32,
          33,
          34,
          35,
          36,
          37,
          38,
          39,
          40,
          41,
          42,
          43,
          44,
          45,
          46,
          47,
          48,
          49,
          50,
          51,
          52,
          53,
          54,
          55,
          56,
          57,
          58,
          59,
          60,
          61,
          62,
          63,
          64,
          65,
          66,
          67,
          68,
          69,
          70,
          71,
          72,
          73,
          74,
          75,
          76,
          77,
          78,
          79,
          80,
          81,
          82,
          83,
          84,
          85,
          86,
          87,
          88,
          89,
          90,
          91,
          92,
          93,
          94,
          95,
          96,
          97,
          98,
          99,
          100,
          101,
          102,
          103,
          104,
          105,
          106,
          107,
          108,
          109,
          110,
          111,
          112,
          113,
          114,
          115,
          116,
          117,
          118,
          119,
          120,
          121,
          122,
          123,
          124,
          125,
          126,
          127,
          128,
          129,
          130,
          131,
          132,
          133,
          134,
          135,
          136,
          137,
          138,
          139,
          140,
          141,
          142,
          143,
          144,
          145,
          146,
          147,
          148,
          149,
          150,
          151,
          152,
          153,
          154,
          155,
          156,
          157,
          158,
          159,
          160,
          161,
          162,
          163,
          164,
          165,
          166,
          167,
          168,
          169,
          170,
          171,
          172,
          173,
          174,
          175,
          176,
          177,
          178,
          179,
          180,
          181,
          182,
          183,
          184,
          185,
          186,
          187,
          188,
          189,
          190,
          191,
          192,
          193,
          194,
          195,
          196,
          197,
          198,
          199,
          200,
          201,
          202,
          203,
          204,
          205,
          206,
          207,
          208,
          209,
          210,
          211,
          212,
          213,
          214,
          215,
          216,
          217,
          218,
          219,
          220,
          221,
          222,
          223,
          224,
          225,
          226,
          227,
          228,
          229,
          230,
          231,
          232,
          233,
          234,
          235,
          236,
          237,
          238,
          239,
          240,
          241,
          242,
          243,
          244,
          245,
          246,
          247,
          248,
          249,
          250,
          251,
          252,
          253,
          254,
          255,
          256,
          257,
          258,
          259,
          260,
          261,
          262,
          263,
          264,
          265,
          266,
          267,
          268,
          269,
          270,
          271,
          272,
          273,
          274,
          275,
          276,
          277,
          278,
          279,
          280,
          281,
          282,
          283,
          284,
          285,
          286,
          287,
          288,
          289,
          290,
          291,
          292,
          293,
          294,
          295,
          296,
          297,
          298,
          299,
          300,
          301,
          302,
          303,
          304,
          305,
          306,
          307,
          308,
          309,
          310,
          311,
          312,
          313,
          314,
          315,
          316,
          317,
          318,
          319,
          320,
          321,
          322,
          323,
          324,
          325,
          326,
          327,
          328,
          329,
          330,
          331,
          332,
          333,
          334,
          335,
          336,
          337,
          338,
          339,
          340,
          341,
          342,
          343,
          344,
          345,
          346,
          347,
          348,
          349,
          350,
          351,
          352,
          353,
          354,
          355,
          356,
          357,
          358,
          359,
          360,
          361,
          362,
          363,
          364,
          365,
          366,
          367,
          368,
          369,
          370,
          371,
          372,
          373,
          374,
          375,
          376,
          377,
          378,
          379,
          380,
          381,
          382,
          383,
          384,
          385,
          386,
          387,
          388,
          389,
          390,
          391,
          392,
          393,
          394,
          395,
          396,
          397,
          398,
          399,
          400,
          401,
          402,
          403,
          404,
          405,
          406,
          407,
          408,
          409,
          410,
          411,
          412,
          413,
          414,
          415,
          416,
          417,
          418,
          419,
          420,
          421,
          422,
          423,
          424,
          425,
          426,
          427,
          428,
          429,
          430,
          431,
          432,
          433,
          434,
          435,
          436,
          437,
          438,
          439,
          440,
          441,
          442,
          443,
          444,
          445,
          446,
          447,
          448,
          449,
          450,
          451,
          452,
          453,
          454,
          455,
          456,
          457,
          458,
          459,
          460,
          461,
          462,
          463,
          464,
          465,
          466,
          467,
          468,
          469,
          470,
          471,
          472,
          473,
          474,
          475,
          476,
          477,
          478,
          479,
          480,
          481,
          482,
          483,
          484,
          485,
          486,
          487,
          488,
          489,
          490,
          491,
          492,
          493,
          494,
          495,
          496,
          497,
          498,
          499,
          500,
          501,
          502,
          503,
          504,
          505,
          506,
          507,
          508,
          509,
          510,
          511,
          512,
          513,
          514,
          515,
          516,
          517,
          518,
          519,
          520,
          521,
          522,
          523,
          524,
          525,
          526,
          527,
          528,
          529,
          530,
          531,
          532,
          533,
          534,
          535,
          536,
          537,
          538,
          539,
          540,
          541,
          542,
          543,
          544,
          545,
          546,
          547,
          548,
          549,
          550,
          551,
          552,
          553,
          554,
          555,
          556,
          557,
          558,
          559,
          560,
          561,
          562,
          563,
          564,
          565,
          566,
          567,
          568,
          569,
          570,
          571,
          572,
          573,
          574,
          575,
          576,
          577,
          578,
          579,
          580,
          581,
          582,
          583,
          584,
          585,
          586,
          587,
          588,
          589,
          590,
          591,
          592,
          593,
          594,
          595,
          596,
          597,
          598,
          599,
          600,
          601,
          602,
          603,
          604,
          605,
          606,
          607,
          608,
          609,
          610,
          611,
          612,
          613,
          614,
          615,
          616,
          617,
          618,
          619,
          620,
          621,
          622,
          623,
          624,
          625,
          626,
          627,
          628,
          629,
          630,
          631,
          632,
          633,
          634,
          635,
          636,
          637,
          638,
          639,
          640,
          641,
          642,
          643,
          644,
          645,
          646,
          647,
          648,
          649,
          650,
          651,
          652,
          653,
          654,
          655,
          656,
          657,
          658,
          659,
          660,
          661,
          662,
          663,
          664,
          665,
          666,
          667,
          668,
          669,
          670,
          671,
          672,
          673,
          674,
          675,
          676,
          677,
          678,
          679,
          680,
          681,
          682,
          683,
          684,
          685,
          686,
          687,
          688,
          689,
          690,
          691,
          692,
          693,
          694,
          695,
          696,
          697,
          698,
          699,
          700,
          701,
          702,
          703,
          704,
          705,
          706,
          707,
          708,
          709,
          710,
          711,
          712,
          713,
          714,
          715,
          716,
          717,
          718,
          719,
          720,
          721,
          722,
          723,
          724,
          725,
          726,
          727,
          728,
          729,
          730,
          731,
          732,
          733,
          734,
          735,
          736,
          737,
          738,
          739,
          740,
          741,
          742,
          743,
          744,
          745,
          746,
          747,
          748,
          749,
          750,
          751,
          752,
          753,
          754,
          755,
          756,
          757,
          758,
          759,
          760,
          761,
          762,
          763,
          764,
          765,
          766,
          767,
          768,
          769,
          770,
          771,
          772,
          773,
          774,
          775,
          776,
          777,
          778,
          779,
          780,
          781,
          782,
          783,
          784,
          785,
          786,
          787,
          788,
          789,
          790,
          791,
          792,
          793,
          794,
          795,
          796,
          797,
          798,
          799,
          800,
          801,
          802,
          803,
          804,
          805,
          806,
          807,
          808,
          809,
          810,
          811,
          812,
          813,
          814,
          815,
          816,
          817,
          818,
          819,
          820,
          821,
          822,
          823,
          824,
          825,
          826,
          827,
          828,
          829,
          830,
          831,
          832,
          833,
          834,
          835,
          836,
          837,
          838,
          839,
          840,
          841,
          842,
          843,
          844,
          845,
          846,
          847,
          848,
          849,
          850,
          851,
          852,
          853,
          854,
          855,
          856,
          857,
          858,
          859,
          860,
          861,
          862,
          863,
          864,
          865,
          866,
          867,
          868,
          869,
          870,
          871,
          872,
          873,
          874,
          875,
          876,
          877,
          878,
          879,
          880,
          881,
          882,
          883,
          884,
          885,
          886,
          887,
          888,
          889,
          890,
          891,
          892,
          893,
          894,
          895,
          896,
          897,
          898,
          899,
          900,
          901,
          902,
          903,
          904,
          905,
          906,
          907,
          908,
          909,
          910,
          911,
          912,
          913,
          914,
          915,
          916,
          917,
          918,
          919,
          920,
          921,
          922,
          923,
          924,
          925,
          926,
          927,
          928,
          929,
          930,
          931,
          932,
          933,
          934,
          935,
          936,
          937,
          938,
          939,
          940,
          941,
          942,
          943,
          944,
          945,
          946,
          947,
          948,
          949,
          950,
          951,
          952,
          953,
          954,
          955,
          956,
          957,
          958,
          959,
          960,
          961,
          962,
          963,
          964,
          965,
          966,
          967,
          968,
          969,
          970,
          971,
          972,
          973,
          974,
          975,
          976,
          977,
          978,
          979,
          980,
          981,
          982,
          983,
          984,
          985,
          986,
          987,
          988,
          989,
          990,
          991,
          992,
          993,
          994,
          995,
          996,
          997,
          998,
          999
         ],
         "y": [
          16.015840703456732,
          26.90541941802481,
          45.66997985076784,
          77.65814835263227,
          131.86177279232513,
          223.29745024575536,
          376.9659949036892,
          634.3958056763496,
          1064.438218227884,
          1781.058877728591,
          2972.633472210589,
          4950.150739298318,
          8226.473686241414,
          13646.596268372185,
          22601.598541808347,
          37379.928612141244,
          61743.93358724923,
          101875.75592674951,
          167928.77864773103,
          276571.62424799183,
          455158.7559819458,
          748566.345966713,
          1230394.7104583264,
          2021323.7245089265,
          3319184.4567536083,
          5448219.584368675,
          8939768.52716508,
          14664411.889342489,
          24048377.31739661,
          39427910.43804119,
          64629531.182296254,
          105920108.241593,
          173562374.26036993,
          284361593.43797433,
          465834772.67268485,
          763035951.4033995,
          1249729351.273782,
          2046679597.4759445,
          3351591765.278228,
          5488120547.1342125,
          8986092449.378618,
          14712817988.93013,
          24088027946.791557,
          39435684097.25426,
          64559821960.22901,
          105687079748.30042,
          173009399996.50388,
          283209056716.5884,
          463591484190.04517,
          758849631351.8917,
          1242135377435.7686,
          2033180361694.258,
          3327954631316.8735,
          5447209255571.566,
          8915926287000.879,
          14593354607761.021,
          23885839267052.523,
          39095158011269.305,
          63988640630312.5,
          104732276836274.22,
          171417921259837.16,
          280562846102305.03,
          459200715696216.7,
          751577207462263.5,
          1230108599457931.5,
          2013317456146390.2,
          3295187562694522.5,
          5393208459853506,
          8827008772157620,
          14447053417894434,
          23645279046276860,
          38699835561553530,
          63339315411652230,
          103666212423287820,
          169668321581121600,
          277692405139154750,
          454492772628499650,
          743857477257467000,
          1217453222649865700,
          1992574910339828700,
          3261195811413819400,
          5337513138716636000,
          8735764497460769000,
          14297587789781238000,
          23400467425095844000,
          38298892083035980000,
          62682717531062700000,
          102591022488604750000,
          167907789359036600000,
          274809840346044760000,
          449773301480334700000,
          736130862615668200000,
          1.204803848741137e+21,
          1.9718670797452634e+21,
          3.2272967499194706e+21,
          5.282021219924428e+21,
          8.644927635420787e+21,
          1.4148896346285036e+22,
          2.31570776518479e+22,
          3.7900498745728925e+22,
          6.2030614843691765e+22,
          1.0152365298130732e+23,
          1.661607242746178e+23,
          2.719502790717225e+23,
          4.4509286630746886e+23,
          7.284701356464165e+23,
          1.1922651916777811e+24,
          1.9513446074126757e+24,
          3.1937070416036264e+24,
          5.227044232689948e+24,
          8.554945973108693e+24,
          1.4001622491818589e+25,
          2.291603381480931e+25,
          3.750598213016778e+25,
          6.138491068049271e+25,
          1.0046683300891107e+26,
          1.6443103664739303e+26,
          2.6911931943684637e+26,
          4.40459473857276e+26,
          7.208867354049424e+26,
          1.179853573319957e+27,
          1.9310307478221836e+27,
          3.160459761244518e+27,
          5.172629124949547e+27,
          8.465885994432757e+27,
          1.3855860115911185e+28,
          2.267746807362469e+28,
          3.711552754294002e+28,
          6.07458636571201e+28,
          9.94209214615578e+28,
          1.6271922108028867e+29,
          2.663176372264493e+29,
          4.3587403745487055e+29,
          7.133818789674362e+29,
          1.1675705853484552e+30,
          1.9109275291608967e+30,
          3.127557396934193e+30,
          5.118778770706708e+30,
          8.377750676374163e+30,
          1.3711611602222874e+31,
          2.244138074289227e+31,
          3.6729130329853724e+31,
          6.011345870653898e+31,
          9.838588294307483e+31,
          1.6102520416819652e+32,
          2.6354509000062307e+32,
          4.313362918345338e+32,
          7.059550858634908e+32,
          1.1554153746385865e+33,
          1.891033458940914e+33,
          3.094997367313378e+33,
          5.065488745307869e+33,
          8.290532489255374e+33,
          1.3568864212121592e+34,
          2.220775037552958e+34,
          3.6346754527068914e+34,
          5.948763572543972e+34,
          9.736161729368061e+34,
          1.5934881940215366e+35,
          2.6080140152021197e+35,
          4.2684577952423e+35,
          6.986055996379936e+35,
          1.1433866919906812e+36,
          1.8713464765908595e+36,
          3.062776276784595e+36,
          5.0127534579571125e+36,
          8.204222234763069e+36,
          1.3427602821790182e+37,
          2.1976552119088793e+37,
          3.596835931557118e+37,
          5.886832769938278e+37,
          9.634801453426276e+37,
          1.5768988635232268e+38,
          2.5808627586093868e+38,
          4.224020152997854e+38,
          6.913326248509867e+38,
          1.1314832336756259e+39,
          1.8518644456610045e+39,
          3.030890624828945e+39,
          4.9605671739034045e+39,
          8.118810518994022e+39,
          1.3287812044967839e+40,
          2.1747760774705612e+40,
          3.5593903429164747e+40,
          5.825546705467837e+40,
          9.534496401920553e+40,
          1.5604822385659674e+41,
          2.5539941641682025e+41,
          4.180045135660772e+41,
          6.841353665287615e+41,
          1.1197036982743378e+42,
          1.832585235711812e+42,
          2.999336923977277e+42,
          4.90892418438447e+42,
          8.034287997253672e+42,
          1.314947658555008e+43,
          2.1521351304933336e+43,
          3.522334588581825e+43,
          5.764898671151063e+43,
          9.435235595269483e+43,
          1.5442365220351329e+44,
          2.527405290422827e+44,
          4.136527928790657e+44,
          6.77013036670567e+44,
          1.108046796038145e+45,
          1.8135067357761573e+45,
          2.968111719166188e+45,
          4.857818834447794e+45,
          7.950645414029209e+45,
          1.3012581294997518e+46,
          2.1297298916152263e+46,
          3.485664610589604e+46,
          5.704882025345422e+46,
          9.337008163158767e+46,
          1.5281599347992407e+47,
          2.501093225493714e+47,
          4.0934637665607195e+47,
          6.699648552619463e+47,
          1.0965112503323266e+48,
          1.794626856412128e+48,
          2.9372115906512966e+48,
          4.8072455270752236e+48,
          7.867873608812874e+48,
          1.2877111180530135e+49,
          2.1075579070054856e+49,
          3.449376392817991e+49,
          5.645490194969553e+49,
          9.239803347601505e+49,
          1.5122507161277284e+50,
          2.475055087641517e+50,
          4.050847932508262e+50,
          6.629900503726944e+50,
          1.0850957977605859e+51,
          1.775943529855082e+51,
          2.9066331541816662e+51,
          4.757198723361129e+51,
          7.785963516238862e+51,
          1.2743051405128506e+52,
          2.0856167483326515e+52,
          3.4134659608883484e+52,
          5.586716675275269e+52,
          9.143610502468883e+52,
          1.4965071236002822e+53,
          2.449288025098717e+53,
          4.008675759230337e+53,
          6.560878581028969e+53,
          1.0737991880707591e+54,
          1.757454709854704e+54,
          2.8763730607206903e+54,
          4.707672942037702e+54,
          7.704906165280613e+54,
          1.2610387286182835e+55,
          2.0639040125380956e+55,
          3.377929381786864e+55,
          5.52855502921717e+55,
          9.048419092442411e+55,
          1.4809274329330406e+56,
          2.4237892157818437e+56,
          3.966942627907947e+56,
          6.492575225043661e+56,
          1.0626201840252306e+57,
          1.73915837146149e+57,
          2.8464279960945714e+57,
          4.65866275889663e+57,
          7.624692678299984e+57,
          1.2479104293930565e+58,
          2.042417321579415e+58,
          3.342762763443287e+58,
          5.470998886761309e+58,
          8.954218691879753e+58,
          1.4655099377925863e+59,
          2.398555866986493e+59,
          3.925643967806077e+59,
          6.424982954986983e+59,
          1.0515575612666583e+60,
          1.721052510806734e+60,
          2.816794680631888e+60,
          4.6101628061987046e+60,
          7.545314270080247e+60,
          1.2349188049872692e+61,
          2.0211543221710844e+61,
          3.30796225430624e+61,
          5.414041944189833e+61,
          8.860998983676202e+61,
          1.4502529496095388e+62,
          2.373585215082137e+62,
          3.8847752557740844e+62,
          6.358094367954835e+62,
          1.0406101081840776e+63,
          1.7031351448833518e+63,
          2.7874698688048154e+63,
          4.5621677720865205e+63,
          7.466762246864768e+63,
          1.2220624325200216e+64,
          2.0001126855268946e+64,
          3.27352404292165e+64,
          5.357677963410932e+64,
          8.768749758135243e+64,
          1.4351547973936962e+65,
          2.348874525209566e+65,
          3.844332015750467e+65,
          6.291902138112501e+65,
          1.0297766257802403e+66,
          1.6854043113287477e+66,
          2.7584503488737428e+66,
          4.5146724000028296e+66,
          7.38902800540501e+66,
          1.2093399039236012e+67,
          1.9792901071049345e+67,
          3.23944435751535e+67,
          5.3019007712757096e+67,
          8.677460911850458e+67,
          1.4202138275510343e+68,
          2.324421090981365e+68,
          3.8043098182726644e+68,
          6.226399015892348e+68,
          1.0190559275403e+69,
          1.6678580682098966e+69,
          2.729732942535522e+69,
          4.46767148811483e+69,
          7.312103032018286e+69,
          1.1967498257892676e+70,
          1.9586843063551906e+70,
          3.205719465579987e+70,
          5.2467042589020785e+70,
          8.587122446598983e+70,
          1.4054284037026058e+71,
          2.3002222341855207e+71,
          3.76470427999193e+71,
          6.161577827199831e+71,
          1.0084468393018636e+72,
          1.6504944938106614e+72,
          2.701314504575371e+72,
          4.421159888744459e+72,
          7.235978901655328e+72,
          1.1842908192146454e+73,
          1.9382930264697777e+73,
          3.17234567346624e+73,
          5.1920823810057126e+73,
          8.497724468246488e+73,
          1.3907969065053172e+74,
          2.2762753044920827e+74,
          3.7255110631932625e+74,
          6.097431472627772e+74,
          9.979481991263928e+74,
          1.6333116864213203e+75,
          2.67319192252241e+75,
          4.37513250780459e+75,
          7.160647276977554e+75,
          1.171961519652702e+76,
          1.9181140341357668e+76,
          3.139319325978266e+76,
          5.138029155237941e+76,
          8.40925718566353e+76,
          1.3763177334745748e+77,
          2.252577679162902e+77,
          3.6867258753203175e+77,
          6.033952926678811e+77,
          9.875588571719474e+77,
          1.6163077641302861e+78,
          2.6453621163087618e+78,
          4.3295843042411365e+78,
          7.086099907443931e+78,
          1.1597605767622973e+79,
          1.898145119290585e+79,
          3.1066368059733806e+79,
          5.084538661530545e+79,
          8.321710909653196e+79,
          1.3619892988087757e+80,
          2.2291267627643748e+80,
          3.648344468505279e+80,
          5.97113523699595e+80,
          9.77277675567248e+80,
          1.5994808646179916e+81,
          2.617822037932222e+81,
          4.284510289480913e+81,
          7.0123286284073565e+81,
          1.1476866542602915e+82,
          1.878384094879964e+82,
          3.074294533965898e+82,
          5.031605041447377e+82,
          8.235076051889923e+82,
          1.3478100332156247e+83,
          2.2059199868831827e+83,
          3.610362639103621e+83,
          5.908971523601111e+83,
          9.671035282870571e+83,
          1.5828291449529276e+84,
          2.5905686711224323e+84,
          4.239905526885295e+84,
          6.939325360220444e+84,
          1.1357384297751914e+85,
          1.8588287966184082e+85,
          3.0422889677350906e+85,
          4.9792224975427234e+85,
          8.149343123869365e+85,
          1.3337783837402632e+86,
          2.182954809844998e+86,
          3.572776227233708e+86,
          5.847454978141622e+86,
          9.570353010288478e+86,
          1.5663507813897948e+87,
          2.563599031010525e+87,
          4.19576513120953e+87,
          6.867082107350606e+87,
          1.1239145947023197e+88,
          1.8394770827521524e+88,
          3.0106166019372405e+88,
          4.9273852927263554e+88,
          8.064502735869162e+88,
          1.3198928135951843e+89,
          2.1602287164361068e+89,
          3.535581116321199e+89,
          5.786578863144551e+89,
          9.470718910907685e+89,
          1.5500439691697647e+90,
          2.536910163802219e+90,
          4.152084268067703e+90,
          6.795590957504378e+90,
          1.112213854060495e+91,
          1.8203268338245956e+91,
          2.9792739677217205e+91,
          4.876087749635189e+91,
          7.980545595920566e+91,
          1.3061518019919168e+92,
          2.1377392176279383e+92,
          3.498773232648184e+92,
          5.726336511278791e+92,
          9.372122072508671e+92,
          1.5339069223228162e+93,
          2.510499146454302e+93,
          4.108858153403243e+93,
          6.724844080760821e+93,
          1.100634926350197e+94,
          1.8013759524441672e+94,
          2.9482576323510717e+94,
          4.82532425001147e+94,
          7.897462508790746e+94,
          1.2925538439744676e+95,
          2.115483850304455e+95,
          3.462348544907011e+95,
          5.666721324624831e+95,
          9.274551696475787e+95,
          1.5179378734721302e+96,
          2.4843630863544986e+96,
          4.066082052964975e+96,
          6.654833728713976e+96,
          1.0891765434132188e+97,
          1.7826223630546164e+97,
          2.91756419882505e+97,
          4.775089234087465e+97,
          7.81524437497572e+97,
          1.2790974502544943e+98,
          2.0934601769923944e+98,
          3.4263030637587875e+98,
          5.607726773952148e+98,
          9.177997096614571e+98,
          1.5021350736405246e+99,
          2.4584991210046604e+99,
          4.023751281788608e+99,
          6.585552233624238e+99,
          1.0778374502937692e+100,
          1.7640640117076936e+100,
          2.8871903055085664e+100,
          4.72537719997652e+100,
          7.733882189703716e+100,
          1.2657811470481886e+101,
          2.0716657855942954e+101,
          3.390632841396427e+101,
          5.5493463980040866e+101,
          9.082447697981344e+101,
          1.486496792058896e+102,
          2.4329044177072536e+102,
          3.9818612036836164e+102,
          6.516992007578557e+102,
          1.0666164051010305e+103,
          1.7456988658381924e+103,
          2.8571326257635188e+103,
          4.6761827030704956e+103,
          7.653367041948987e+103,
          1.252603475914871e+104,
          2.050098289124332e+104,
          3.355333971112299e+104,
          5.4915738027902196e+104,
          8.987893035725029e+104,
          1.4710213159766648e+105,
          2.4075761732551176e+105,
          3.9404072307254764e+105,
          6.449145541659391e+105,
          1.055512178873139e+106,
          1.7275249140413378e+106,
          2.8273878675844408e+106,
          4.62750035544344e+106,
          7.573690113455806e+106,
          1.2395629935972527e+107,
          2.0287553254468768e+107,
          3.320402586870341e+107,
          5.4344026608860525e+107,
          8.89432275394099e+107,
          1.4557069504741876e+108,
          2.3825116136244483e+108,
          3.8993848227531837e+108,
          6.382005405122303e+108,
          1.0445235554425895e+109,
          1.7095401658524925e+109,
          2.7979527732379607e+109,
          4.579324825261506e+109,
          7.494842677772694e+109,
          1.2266582718633672e+110,
          2.007634557017793e+110,
          3.2858348628826434e+110,
          5.377826710740023e+110,
          8.801726604536854e+110,
          1.440552018277127e+111,
          2.3577079936709765e+111,
          3.858789486872002e+111,
          6.315564244582129e+111,
          1.033649331303034e+112,
          1.6917426515291556e+112,
          2.7688241189059966e+112,
          4.531650836198977e+112,
          7.416816099296662e+112,
          1.2138878973501473e+113,
          1.9867336706284207e+113,
          3.251627013190436e+113,
          5.321839755987724e+113,
          8.710094446110072e+113,
          1.4255548595727485e+114,
          2.3331625968293168e+114,
          3.818616776961379e+114,
          6.249814783207608e+114,
          1.0228883154774712e+115,
          1.6741304218352262e+115,
          2.73999871433268e+115,
          4.484473166860394e+115,
          7.339601832327408e+115,
          1.2012504714086265e+116,
          1.9660503771522274e+116,
          3.217775291249436e+116,
          5.26643566477325e+116,
          8.619416242837223e+116,
          1.4107138318281337e+117,
          2.308872734815435e+117,
          3.778862293188008e+117,
          6.184749819924408e+117,
          1.012239329387807e+118,
          1.6567015478275248e+118,
          2.711473402474947e+118,
          4.437786650208693e+118,
          7.263191420131385e+118,
          1.1887446099507588e+119,
          1.9455824112940967e+119,
          3.184275989519524e+119,
          5.211608369077626e+119,
          8.52968206337487e+119,
          1.3960273096102877e+120,
          2.2848357473322232e+120,
          3.7395216815239366e+120,
          6.120362228626443e+120,
          1.0017012067257742e+121,
          1.6394541206445237e+121,
          2.6832450591567707e+121,
          4.391586172999302e+121,
          7.187576494015583e+121,
          1.1763689432978266e+122,
          1.925327531342228e+122,
          3.151125439058679e+122,
          5.157351864054221e+122,
          8.440882079771834e+122,
          1.3814936844081158e+123,
          2.2610490017781396e+123,
          3.7005906332697034e+123,
          6.056644957395393e+123,
          9.912727933251936e+123,
          1.6223862512972855e+124,
          2.6553105927269895e+124,
          4.3458666752201125e+124,
          7.1127487724109615e+124,
          1.1641221160304292e+125,
          1.905283518922612e+125,
          3.1183200091211414e+125,
          5.103660207371079e+125,
          8.353006566392813e+125,
          1.3671113644562507e+126,
          2.23750989295887e+126,
          3.662064884582433e+126,
          5.993591027728372e+126,
          9.809529470355672e+126,
          1.6054960704625747e+127,
          2.627666943720706e+127,
          4.3006231495373008e+127,
          7.038700059965437e+127,
          1.1520027868400362e+128,
          1.885448178756073e+128,
          3.0858561067597656e+128,
          5.050527518560083e+128,
          8.266045898853203e+128,
          1.3528787745607246e+129,
          2.214215842802003e+129,
          3.623940216008853e+129,
          5.931193533773595e+129,
          9.707405375969856e+129,
          1.5887817282781242e+130,
          2.600311084524201e+130,
          4.255850640746903e+130,
          6.965422246646293e+130,
          1.1400096283820792e+131,
          1.8658193384178357e+131,
          3.0537301764325135e+131,
          4.997947978372934e+131,
          8.179990552965001e+131,
          1.338794355926444e+132,
          2.1911643000746766e+132,
          3.586212452023164e+132,
          5.869445641574065e+132,
          9.6063444651634e+132,
          1.5722413941400336e+133,
          2.573240019043341e+133,
          4.211544245232112e+133,
          6.892907306851962e+133,
          1.1281413271305812e+134,
          1.846394848099591e+134,
          3.0219386996130345e+134,
          4.945915828143792e+134,
          8.0948311036937e+134,
          1.324856565986467e+135,
          2.1683527401041512e+135,
          3.5488774605697244e+135,
          5.808340588319072e+135,
          9.506335669448208e+135,
          1.555873256502274e+136,
          2.5464507823754364e+136,
          4.167699110426221e+136,
          6.821147298533021e+136,
          1.1163965832342928e+137,
          1.8271725803740458e+137,
          2.9904781944053122e+137,
          4.8944253691585714e+137,
          8.010558224126026e+137,
          1.3110638782330593e+138,
          2.1457786645013067e+138,
          3.511931152610493e+138,
          5.7478716816035135e+138,
          9.407368035566905e+138,
          1.5396755226782842e+139,
          2.519940440484521e+139,
          4.124310434281145e+139,
          6.750134362322364e+139,
          1.1047741103743296e+140,
          1.8081504299619196e+140,
          2.9593452151623143e+140,
          4.843470962030811e+140,
          7.92716268444842e+140,
          1.2974147820505031e+141,
          2.12343960088701e+141,
          3.47536948167719e+141,
          5.688032298694933e+141,
          9.309430724293252e+141,
          1.5236464186446303e+142,
          2.493706089880003e+142,
          4.0813734647414985e+142,
          6.679860720674418e+142,
          1.09327263562329e+143,
          1.7893263135013686e+143,
          2.9285363521086127e+143,
          4.79304702608402e+143,
          7.844635350936167e+143,
          1.2839077825496524e+144,
          2.101333102621329e+144,
          3.4391884434281154e+144,
          5.6288158858081656e+144,
          9.21251300924494e+144,
          1.5077841888467077e+145,
          2.4677448572986648e+145,
          4.0388834992241297e+145,
          6.610318677013327e+145,
          1.0818908993058422e+146,
          1.7706981693198095e+146,
          2.898048230966937e+146,
          4.743148038740469e+146,
          7.762967184953047e+146,
          1.270541400404207e+147,
          2.0794567485355752e+147,
          3.4033840752095725e+147,
          5.570215957387562e+147,
          9.116604275708863e+147,
          1.4920870960064706e+148,
          2.4420538993899836e+148,
          3.996835884103084e+148,
          6.54150061488999e+148,
          1.0706276548607592e+149,
          1.7522639572081201e+149,
          2.867877512588619e+149,
          4.693768534916353e+149,
          7.682149241961394e+149,
          1.2573141716886935e+150,
          2.0578081426671257e+150,
          3.367952455621882e+150,
          5.5122260953966586e+150,
          9.021694019478511e+150,
          1.4765534209321552e+151,
          2.4166304024047081e+151,
          3.955226014199919e+151,
          6.473398997147904e+151,
          1.0594816687043911e+152,
          1.7340216581971867e+152,
          2.83802089258787e+152,
          4.644903106423215e+152,
          7.6021726705424665e+152,
          1.2442246477181306e+153,
          2.036384913997014e+153,
          3.3328897040898868e+153,
          5.4548399486152635e+153,
          8.92777184570357e+153,
          null,
          null,
          null,
          null,
          null,
          null,
          null,
          null,
          null,
          null,
          null,
          null,
          null,
          null,
          null,
          null,
          null,
          null,
          null,
          null,
          null,
          null,
          null,
          null,
          null,
          null,
          null,
          null,
          null,
          null,
          null,
          null,
          null,
          null,
          null,
          null,
          null,
          null,
          null,
          null,
          null,
          null,
          null,
          null,
          null,
          null,
          null,
          null,
          null,
          null,
          null,
          null,
          null,
          null,
          null,
          null,
          null,
          null,
          null,
          null,
          null,
          null,
          null,
          null,
          null,
          null,
          null,
          null,
          null,
          null,
          null,
          null,
          null,
          null,
          null,
          null,
          null,
          null,
          null,
          null,
          null,
          null,
          null,
          null,
          null,
          null,
          null,
          null,
          null,
          null,
          null,
          null,
          null,
          null,
          null,
          null,
          null,
          null,
          null,
          null,
          null,
          null,
          null,
          null,
          null,
          null,
          null,
          null,
          null,
          null,
          null,
          null,
          null,
          null,
          null,
          null,
          null,
          null,
          null,
          null,
          null,
          null,
          null,
          null,
          null,
          null,
          null,
          null,
          null,
          null,
          null,
          null,
          null,
          null,
          null,
          null,
          null,
          null,
          null,
          null,
          null,
          null,
          null,
          null,
          null,
          null,
          null,
          null,
          null,
          null,
          null,
          null,
          null,
          null,
          null,
          null,
          null,
          null,
          null,
          null,
          null,
          null,
          null,
          null,
          null,
          null,
          null,
          null,
          null,
          null,
          null,
          null,
          null,
          null,
          null,
          null,
          null,
          null,
          null,
          null,
          null,
          null,
          null,
          null,
          null,
          null,
          null,
          null,
          null,
          null,
          null,
          null,
          null,
          null,
          null,
          null,
          null,
          null,
          null,
          null,
          null,
          null,
          null,
          null,
          null,
          null,
          null,
          null,
          null,
          null,
          null,
          null,
          null,
          null,
          null,
          null,
          null,
          null,
          null,
          null,
          null,
          null,
          null,
          null,
          null,
          null,
          null,
          null,
          null,
          null,
          null,
          null,
          null,
          null,
          null,
          null,
          null,
          null,
          null,
          null,
          null,
          null,
          null,
          null,
          null,
          null,
          null,
          null,
          null,
          null,
          null,
          null,
          null,
          null,
          null,
          null,
          null,
          null,
          null,
          null,
          null,
          null,
          null,
          null,
          null,
          null,
          null,
          null,
          null,
          null,
          null,
          null,
          null,
          null,
          null,
          null,
          null,
          null,
          null,
          null,
          null,
          null,
          null,
          null,
          null,
          null
         ]
        }
       ],
       "layout": {
        "legend": {
         "orientation": "v",
         "traceorder": "normal",
         "x": 1,
         "xanchor": "right",
         "y": 1,
         "yanchor": "top"
        },
        "template": {
         "data": {
          "bar": [
           {
            "error_x": {
             "color": "#2a3f5f"
            },
            "error_y": {
             "color": "#2a3f5f"
            },
            "marker": {
             "line": {
              "color": "white",
              "width": 0.5
             },
             "pattern": {
              "fillmode": "overlay",
              "size": 10,
              "solidity": 0.2
             }
            },
            "type": "bar"
           }
          ],
          "barpolar": [
           {
            "marker": {
             "line": {
              "color": "white",
              "width": 0.5
             },
             "pattern": {
              "fillmode": "overlay",
              "size": 10,
              "solidity": 0.2
             }
            },
            "type": "barpolar"
           }
          ],
          "carpet": [
           {
            "aaxis": {
             "endlinecolor": "#2a3f5f",
             "gridcolor": "#C8D4E3",
             "linecolor": "#C8D4E3",
             "minorgridcolor": "#C8D4E3",
             "startlinecolor": "#2a3f5f"
            },
            "baxis": {
             "endlinecolor": "#2a3f5f",
             "gridcolor": "#C8D4E3",
             "linecolor": "#C8D4E3",
             "minorgridcolor": "#C8D4E3",
             "startlinecolor": "#2a3f5f"
            },
            "type": "carpet"
           }
          ],
          "choropleth": [
           {
            "colorbar": {
             "outlinewidth": 0,
             "ticks": ""
            },
            "type": "choropleth"
           }
          ],
          "contour": [
           {
            "colorbar": {
             "outlinewidth": 0,
             "ticks": ""
            },
            "colorscale": [
             [
              0,
              "#0d0887"
             ],
             [
              0.1111111111111111,
              "#46039f"
             ],
             [
              0.2222222222222222,
              "#7201a8"
             ],
             [
              0.3333333333333333,
              "#9c179e"
             ],
             [
              0.4444444444444444,
              "#bd3786"
             ],
             [
              0.5555555555555556,
              "#d8576b"
             ],
             [
              0.6666666666666666,
              "#ed7953"
             ],
             [
              0.7777777777777778,
              "#fb9f3a"
             ],
             [
              0.8888888888888888,
              "#fdca26"
             ],
             [
              1,
              "#f0f921"
             ]
            ],
            "type": "contour"
           }
          ],
          "contourcarpet": [
           {
            "colorbar": {
             "outlinewidth": 0,
             "ticks": ""
            },
            "type": "contourcarpet"
           }
          ],
          "heatmap": [
           {
            "colorbar": {
             "outlinewidth": 0,
             "ticks": ""
            },
            "colorscale": [
             [
              0,
              "#0d0887"
             ],
             [
              0.1111111111111111,
              "#46039f"
             ],
             [
              0.2222222222222222,
              "#7201a8"
             ],
             [
              0.3333333333333333,
              "#9c179e"
             ],
             [
              0.4444444444444444,
              "#bd3786"
             ],
             [
              0.5555555555555556,
              "#d8576b"
             ],
             [
              0.6666666666666666,
              "#ed7953"
             ],
             [
              0.7777777777777778,
              "#fb9f3a"
             ],
             [
              0.8888888888888888,
              "#fdca26"
             ],
             [
              1,
              "#f0f921"
             ]
            ],
            "type": "heatmap"
           }
          ],
          "heatmapgl": [
           {
            "colorbar": {
             "outlinewidth": 0,
             "ticks": ""
            },
            "colorscale": [
             [
              0,
              "#0d0887"
             ],
             [
              0.1111111111111111,
              "#46039f"
             ],
             [
              0.2222222222222222,
              "#7201a8"
             ],
             [
              0.3333333333333333,
              "#9c179e"
             ],
             [
              0.4444444444444444,
              "#bd3786"
             ],
             [
              0.5555555555555556,
              "#d8576b"
             ],
             [
              0.6666666666666666,
              "#ed7953"
             ],
             [
              0.7777777777777778,
              "#fb9f3a"
             ],
             [
              0.8888888888888888,
              "#fdca26"
             ],
             [
              1,
              "#f0f921"
             ]
            ],
            "type": "heatmapgl"
           }
          ],
          "histogram": [
           {
            "marker": {
             "pattern": {
              "fillmode": "overlay",
              "size": 10,
              "solidity": 0.2
             }
            },
            "type": "histogram"
           }
          ],
          "histogram2d": [
           {
            "colorbar": {
             "outlinewidth": 0,
             "ticks": ""
            },
            "colorscale": [
             [
              0,
              "#0d0887"
             ],
             [
              0.1111111111111111,
              "#46039f"
             ],
             [
              0.2222222222222222,
              "#7201a8"
             ],
             [
              0.3333333333333333,
              "#9c179e"
             ],
             [
              0.4444444444444444,
              "#bd3786"
             ],
             [
              0.5555555555555556,
              "#d8576b"
             ],
             [
              0.6666666666666666,
              "#ed7953"
             ],
             [
              0.7777777777777778,
              "#fb9f3a"
             ],
             [
              0.8888888888888888,
              "#fdca26"
             ],
             [
              1,
              "#f0f921"
             ]
            ],
            "type": "histogram2d"
           }
          ],
          "histogram2dcontour": [
           {
            "colorbar": {
             "outlinewidth": 0,
             "ticks": ""
            },
            "colorscale": [
             [
              0,
              "#0d0887"
             ],
             [
              0.1111111111111111,
              "#46039f"
             ],
             [
              0.2222222222222222,
              "#7201a8"
             ],
             [
              0.3333333333333333,
              "#9c179e"
             ],
             [
              0.4444444444444444,
              "#bd3786"
             ],
             [
              0.5555555555555556,
              "#d8576b"
             ],
             [
              0.6666666666666666,
              "#ed7953"
             ],
             [
              0.7777777777777778,
              "#fb9f3a"
             ],
             [
              0.8888888888888888,
              "#fdca26"
             ],
             [
              1,
              "#f0f921"
             ]
            ],
            "type": "histogram2dcontour"
           }
          ],
          "mesh3d": [
           {
            "colorbar": {
             "outlinewidth": 0,
             "ticks": ""
            },
            "type": "mesh3d"
           }
          ],
          "parcoords": [
           {
            "line": {
             "colorbar": {
              "outlinewidth": 0,
              "ticks": ""
             }
            },
            "type": "parcoords"
           }
          ],
          "pie": [
           {
            "automargin": true,
            "type": "pie"
           }
          ],
          "scatter": [
           {
            "marker": {
             "colorbar": {
              "outlinewidth": 0,
              "ticks": ""
             }
            },
            "type": "scatter"
           }
          ],
          "scatter3d": [
           {
            "line": {
             "colorbar": {
              "outlinewidth": 0,
              "ticks": ""
             }
            },
            "marker": {
             "colorbar": {
              "outlinewidth": 0,
              "ticks": ""
             }
            },
            "type": "scatter3d"
           }
          ],
          "scattercarpet": [
           {
            "marker": {
             "colorbar": {
              "outlinewidth": 0,
              "ticks": ""
             }
            },
            "type": "scattercarpet"
           }
          ],
          "scattergeo": [
           {
            "marker": {
             "colorbar": {
              "outlinewidth": 0,
              "ticks": ""
             }
            },
            "type": "scattergeo"
           }
          ],
          "scattergl": [
           {
            "marker": {
             "colorbar": {
              "outlinewidth": 0,
              "ticks": ""
             }
            },
            "type": "scattergl"
           }
          ],
          "scattermapbox": [
           {
            "marker": {
             "colorbar": {
              "outlinewidth": 0,
              "ticks": ""
             }
            },
            "type": "scattermapbox"
           }
          ],
          "scatterpolar": [
           {
            "marker": {
             "colorbar": {
              "outlinewidth": 0,
              "ticks": ""
             }
            },
            "type": "scatterpolar"
           }
          ],
          "scatterpolargl": [
           {
            "marker": {
             "colorbar": {
              "outlinewidth": 0,
              "ticks": ""
             }
            },
            "type": "scatterpolargl"
           }
          ],
          "scatterternary": [
           {
            "marker": {
             "colorbar": {
              "outlinewidth": 0,
              "ticks": ""
             }
            },
            "type": "scatterternary"
           }
          ],
          "surface": [
           {
            "colorbar": {
             "outlinewidth": 0,
             "ticks": ""
            },
            "colorscale": [
             [
              0,
              "#0d0887"
             ],
             [
              0.1111111111111111,
              "#46039f"
             ],
             [
              0.2222222222222222,
              "#7201a8"
             ],
             [
              0.3333333333333333,
              "#9c179e"
             ],
             [
              0.4444444444444444,
              "#bd3786"
             ],
             [
              0.5555555555555556,
              "#d8576b"
             ],
             [
              0.6666666666666666,
              "#ed7953"
             ],
             [
              0.7777777777777778,
              "#fb9f3a"
             ],
             [
              0.8888888888888888,
              "#fdca26"
             ],
             [
              1,
              "#f0f921"
             ]
            ],
            "type": "surface"
           }
          ],
          "table": [
           {
            "cells": {
             "fill": {
              "color": "#EBF0F8"
             },
             "line": {
              "color": "white"
             }
            },
            "header": {
             "fill": {
              "color": "#C8D4E3"
             },
             "line": {
              "color": "white"
             }
            },
            "type": "table"
           }
          ]
         },
         "layout": {
          "annotationdefaults": {
           "arrowcolor": "#2a3f5f",
           "arrowhead": 0,
           "arrowwidth": 1
          },
          "autotypenumbers": "strict",
          "coloraxis": {
           "colorbar": {
            "outlinewidth": 0,
            "ticks": ""
           }
          },
          "colorscale": {
           "diverging": [
            [
             0,
             "#8e0152"
            ],
            [
             0.1,
             "#c51b7d"
            ],
            [
             0.2,
             "#de77ae"
            ],
            [
             0.3,
             "#f1b6da"
            ],
            [
             0.4,
             "#fde0ef"
            ],
            [
             0.5,
             "#f7f7f7"
            ],
            [
             0.6,
             "#e6f5d0"
            ],
            [
             0.7,
             "#b8e186"
            ],
            [
             0.8,
             "#7fbc41"
            ],
            [
             0.9,
             "#4d9221"
            ],
            [
             1,
             "#276419"
            ]
           ],
           "sequential": [
            [
             0,
             "#0d0887"
            ],
            [
             0.1111111111111111,
             "#46039f"
            ],
            [
             0.2222222222222222,
             "#7201a8"
            ],
            [
             0.3333333333333333,
             "#9c179e"
            ],
            [
             0.4444444444444444,
             "#bd3786"
            ],
            [
             0.5555555555555556,
             "#d8576b"
            ],
            [
             0.6666666666666666,
             "#ed7953"
            ],
            [
             0.7777777777777778,
             "#fb9f3a"
            ],
            [
             0.8888888888888888,
             "#fdca26"
            ],
            [
             1,
             "#f0f921"
            ]
           ],
           "sequentialminus": [
            [
             0,
             "#0d0887"
            ],
            [
             0.1111111111111111,
             "#46039f"
            ],
            [
             0.2222222222222222,
             "#7201a8"
            ],
            [
             0.3333333333333333,
             "#9c179e"
            ],
            [
             0.4444444444444444,
             "#bd3786"
            ],
            [
             0.5555555555555556,
             "#d8576b"
            ],
            [
             0.6666666666666666,
             "#ed7953"
            ],
            [
             0.7777777777777778,
             "#fb9f3a"
            ],
            [
             0.8888888888888888,
             "#fdca26"
            ],
            [
             1,
             "#f0f921"
            ]
           ]
          },
          "colorway": [
           "#636efa",
           "#EF553B",
           "#00cc96",
           "#ab63fa",
           "#FFA15A",
           "#19d3f3",
           "#FF6692",
           "#B6E880",
           "#FF97FF",
           "#FECB52"
          ],
          "font": {
           "color": "#2a3f5f"
          },
          "geo": {
           "bgcolor": "white",
           "lakecolor": "white",
           "landcolor": "white",
           "showlakes": true,
           "showland": true,
           "subunitcolor": "#C8D4E3"
          },
          "hoverlabel": {
           "align": "left"
          },
          "hovermode": "closest",
          "mapbox": {
           "style": "light"
          },
          "paper_bgcolor": "white",
          "plot_bgcolor": "white",
          "polar": {
           "angularaxis": {
            "gridcolor": "#EBF0F8",
            "linecolor": "#EBF0F8",
            "ticks": ""
           },
           "bgcolor": "white",
           "radialaxis": {
            "gridcolor": "#EBF0F8",
            "linecolor": "#EBF0F8",
            "ticks": ""
           }
          },
          "scene": {
           "xaxis": {
            "backgroundcolor": "white",
            "gridcolor": "#DFE8F3",
            "gridwidth": 2,
            "linecolor": "#EBF0F8",
            "showbackground": true,
            "ticks": "",
            "zerolinecolor": "#EBF0F8"
           },
           "yaxis": {
            "backgroundcolor": "white",
            "gridcolor": "#DFE8F3",
            "gridwidth": 2,
            "linecolor": "#EBF0F8",
            "showbackground": true,
            "ticks": "",
            "zerolinecolor": "#EBF0F8"
           },
           "zaxis": {
            "backgroundcolor": "white",
            "gridcolor": "#DFE8F3",
            "gridwidth": 2,
            "linecolor": "#EBF0F8",
            "showbackground": true,
            "ticks": "",
            "zerolinecolor": "#EBF0F8"
           }
          },
          "shapedefaults": {
           "line": {
            "color": "#2a3f5f"
           }
          },
          "ternary": {
           "aaxis": {
            "gridcolor": "#DFE8F3",
            "linecolor": "#A2B1C6",
            "ticks": ""
           },
           "baxis": {
            "gridcolor": "#DFE8F3",
            "linecolor": "#A2B1C6",
            "ticks": ""
           },
           "bgcolor": "white",
           "caxis": {
            "gridcolor": "#DFE8F3",
            "linecolor": "#A2B1C6",
            "ticks": ""
           }
          },
          "title": {
           "x": 0.05
          },
          "xaxis": {
           "automargin": true,
           "gridcolor": "#EBF0F8",
           "linecolor": "#EBF0F8",
           "ticks": "",
           "title": {
            "standoff": 15
           },
           "zerolinecolor": "#EBF0F8",
           "zerolinewidth": 2
          },
          "yaxis": {
           "automargin": true,
           "gridcolor": "#EBF0F8",
           "linecolor": "#EBF0F8",
           "ticks": "",
           "title": {
            "standoff": 15
           },
           "zerolinecolor": "#EBF0F8",
           "zerolinewidth": 2
          }
         }
        },
        "title": {
         "text": "Residual Decay for Jacobi and Gauss-Seidel Methods"
        },
        "xaxis": {
         "title": {
          "text": "Iteration"
         }
        },
        "yaxis": {
         "title": {
          "text": "Residual ||Ax - b||"
         },
         "type": "log"
        }
       }
      }
     },
     "metadata": {},
     "output_type": "display_data"
    }
   ],
   "source": [
    "import numpy as np\n",
    "import matplotlib.pyplot as plt\n",
    "\n",
    "# Create the 2D Laplacian matrix with diffusion term\n",
    "def create_poisson_matrix_with_alpha(n, alpha):\n",
    "    N = n * n\n",
    "    A = np.zeros((N, N))\n",
    "    for i in range(N):\n",
    "        A[i, i] = 4 + alpha\n",
    "        if i % n != 0:  # Left neighbor\n",
    "            A[i, i - 1] = -1\n",
    "        if (i + 1) % n != 0:  # Right neighbor\n",
    "            A[i, i + 1] = -1\n",
    "        if i - n >= 0:  # Top neighbor\n",
    "            A[i, i - n] = -1\n",
    "        if i + n < N:  # Bottom neighbor\n",
    "            A[i, i + n] = -1\n",
    "    return A\n",
    "\n",
    "# Solve using Jacobi, Gauss-Seidel, and SOR methods\n",
    "def jacobi_method(A, b, tol, max_iter):\n",
    "    n = len(b)\n",
    "    x = np.zeros_like(b)\n",
    "    D = np.diag(np.diag(A))\n",
    "    R = A - D\n",
    "    residuals = []\n",
    "    for _ in range(max_iter):\n",
    "        x_new = np.linalg.inv(D) @ (b - R @ x)\n",
    "        residual = np.linalg.norm(A @ x_new - b)\n",
    "        residuals.append(residual)\n",
    "        if residual < tol:\n",
    "            break\n",
    "        x = x_new\n",
    "    return x, residuals\n",
    "\n",
    "def gauss_seidel_method(A, b, tol, max_iter):\n",
    "    n = len(b)\n",
    "    x = np.zeros_like(b)\n",
    "    residuals = []\n",
    "    for _ in range(max_iter):\n",
    "        x_new = np.copy(x)\n",
    "        for i in range(n):\n",
    "            sum1 = np.dot(A[i, :i], x_new[:i])\n",
    "            sum2 = np.dot(A[i, i+1:], x[i+1:])\n",
    "            x_new[i] = (b[i] - sum1 - sum2) / A[i, i]\n",
    "        residual = np.linalg.norm(A @ x_new - b)\n",
    "        residuals.append(residual)\n",
    "        if residual < tol:\n",
    "            break\n",
    "        x = x_new\n",
    "    return x, residuals\n",
    "\n",
    "# Eigenvalue analysis\n",
    "def laplacian_eigenvalues(n, alpha):\n",
    "    lambda_1D = [2 - 2 * np.cos(np.pi * i / (n + 1)) for i in range(1, n + 1)]\n",
    "    lambda_2D = [l1 + l2 for l1 in lambda_1D for l2 in lambda_1D]\n",
    "    eigenvalues = np.array(lambda_2D) + alpha\n",
    "    return lambda_2D, eigenvalues\n",
    "\n",
    "# Parameters\n",
    "n = 10\n",
    "alpha = -1.0\n",
    "tol = 1e-6\n",
    "max_iter = 1000\n",
    "b = np.ones(n * n)\n",
    "\n",
    "# Create matrix and solve\n",
    "A = create_poisson_matrix_with_alpha(n, alpha)\n",
    "_, eigenvalues = laplacian_eigenvalues(n, alpha)\n",
    "\n",
    "# Solve with Jacobi and Gauss-Seidel\n",
    "x_jacobi, residuals_jacobi = jacobi_method(A, b, tol, max_iter)\n",
    "x_gs, residuals_gs = gauss_seidel_method(A, b, tol, max_iter)\n",
    "\n",
    "'''# Plot eigenvalues\n",
    "plt.figure(figsize=(10, 6))\n",
    "plt.plot(sorted(eigenvalues), label=\"Eigenvalues of A + αI\")\n",
    "plt.axhline(0, color='red', linestyle='--', label=\"Zero Line\")\n",
    "plt.xlabel(\"Index\")\n",
    "plt.ylabel(\"Eigenvalue\")\n",
    "plt.title(\"Eigenvalues of A + αI\")\n",
    "plt.legend()\n",
    "plt.grid(True)\n",
    "plt.show()'''\n",
    "\n",
    "# Plot residuals\n",
    "\n",
    "# Create a Plotly figure for residuals\n",
    "fig = go.Figure()\n",
    "\n",
    "# Add traces for Jacobi and Gauss-Seidel residuals\n",
    "fig.add_trace(go.Scatter(\n",
    "    x=list(range(len(residuals_jacobi))),\n",
    "    y=residuals_jacobi,\n",
    "    mode='lines+markers',\n",
    "    name='Jacobi Residuals',\n",
    "    marker=dict(symbol='circle')\n",
    "))\n",
    "\n",
    "fig.add_trace(go.Scatter(\n",
    "    x=list(range(len(residuals_gs))),\n",
    "    y=residuals_gs,\n",
    "    mode='lines+markers',\n",
    "    name='Gauss-Seidel Residuals',\n",
    "    marker=dict(symbol='square')\n",
    "))\n",
    "\n",
    "# Update layout\n",
    "fig.update_layout(\n",
    "    title='Residual Decay for Jacobi and Gauss-Seidel Methods',\n",
    "    xaxis_title='Iteration',\n",
    "    yaxis_title='Residual ||Ax - b||',\n",
    "    yaxis_type='log',\n",
    "    template='plotly_white',\n",
    "    legend=dict(x=1, y=1, traceorder='normal', orientation='v', xanchor='right', yanchor='top')\n",
    ")\n",
    "\n",
    "# Show the figure\n",
    "fig.show()"
   ]
  },
  {
   "cell_type": "markdown",
   "metadata": {},
   "source": [
    "## 1. Eigenvalues Analysis:\n",
    "- When $\\alpha<0$, eigenvalues shift downward.\n",
    "- If any eigenvalues become negative, the matrix loses positive definiteness.\n",
    "## 2. Direct Method:\n",
    "- Successfully solves the system regardless of $\\alpha$, as it does not rely on eigenvalue properties.\n",
    "## 3. Iterative Methods:\n",
    "- For $\\alpha<0$, convergence becomes slower as eigenvalues approach zero (ill-conditioning).\n",
    "- If eigenvalues become negative, Jacobi and Gauss-Seidel may diverge due to the loss of positive definiteness.\n",
    "## 2. Implement a higher order finite difference formula.\n",
    "\n",
    "### 4th-Order Finite Difference Formula in 2D\n",
    "1D 4th-Order Central Difference Approximation\n",
    "For $\\frac{\\partial^2 u}{\\partial x^2}$ on a uniform grid with spacing $h$ :\n",
    "\n",
    "$$\n",
    "\\frac{\\partial^2 u}{\\partial x^2} \\approx \\frac{-u_{i-2}+16 u_{i-1}-30 u_i+16 u_{i+1}-u_{i+2}}{12 h^2}\n",
    "$$\n",
    "\n",
    "\n",
    "### 2D Laplacian Approximation\n",
    "The 20 Laplacian uses the same principle for both $x$ - and $y$-directions. The 4 th-order approximation for $\\Delta u$ is:\n",
    "\n",
    "$$\n",
    "\\Delta u_{i, j} \\approx \\frac{-u_{i-2 j}+16 u_{i-1, j}-30 u_{i j}+16 u_{i+1, j}-u_{i+2 j}}{12 h^2}+\\frac{-u_{i, j-2}+16 u_{i, j-1}-30 u_{i j}+16 u_{i, j-1}-u_{i j+2}}{12 h^2}\n",
    "$$\n"
   ]
  },
  {
   "cell_type": "markdown",
   "metadata": {},
   "source": [
    "## 3. Implement the conjugate gradient iterative method, and compare its efficiency with the other iterative methods.\n"
   ]
  },
  {
   "cell_type": "code",
   "execution_count": 22,
   "metadata": {},
   "outputs": [
    {
     "data": {
      "application/vnd.plotly.v1+json": {
       "config": {
        "plotlyServerURL": "https://plot.ly"
       },
       "data": [
        {
         "marker": {
          "symbol": "circle"
         },
         "mode": "lines+markers",
         "name": "Conjugate Gradient",
         "type": "scatter",
         "x": [
          0,
          1,
          2,
          3,
          4,
          5,
          6,
          7,
          8,
          9,
          10,
          11,
          12,
          13,
          14,
          15
         ],
         "y": [
          145.84643379426652,
          131.14695348489875,
          109.89200146869858,
          116.01451022625774,
          114.80727978609586,
          89.69692532724706,
          33.39572070964512,
          16.16949088062431,
          10.171222383641258,
          3.5519931741137905,
          1.2741884661632739,
          0.27087595820226673,
          0.059622330041809155,
          0.0019194121410315405,
          0.0002468097678851226,
          3.298195248222931e-12
         ]
        },
        {
         "marker": {
          "symbol": "square"
         },
         "mode": "lines+markers",
         "name": "Jacobi Method",
         "type": "scatter",
         "x": [
          0,
          1,
          2,
          3,
          4,
          5,
          6,
          7,
          8,
          9,
          10,
          11,
          12,
          13,
          14,
          15,
          16,
          17,
          18,
          19,
          20,
          21,
          22,
          23,
          24,
          25,
          26,
          27,
          28,
          29,
          30,
          31,
          32,
          33,
          34,
          35,
          36,
          37,
          38,
          39,
          40,
          41,
          42,
          43,
          44,
          45,
          46,
          47,
          48,
          49,
          50,
          51,
          52,
          53,
          54,
          55,
          56,
          57,
          58,
          59,
          60,
          61,
          62,
          63,
          64,
          65,
          66,
          67,
          68,
          69,
          70,
          71,
          72,
          73,
          74,
          75,
          76,
          77,
          78,
          79,
          80,
          81,
          82,
          83,
          84,
          85,
          86,
          87,
          88,
          89,
          90,
          91,
          92,
          93,
          94,
          95,
          96,
          97,
          98,
          99,
          100,
          101,
          102,
          103,
          104,
          105,
          106,
          107,
          108,
          109,
          110,
          111,
          112,
          113,
          114,
          115,
          116,
          117,
          118,
          119,
          120,
          121,
          122,
          123,
          124,
          125,
          126,
          127,
          128,
          129,
          130,
          131,
          132,
          133,
          134,
          135,
          136,
          137,
          138,
          139,
          140,
          141,
          142,
          143,
          144,
          145,
          146,
          147,
          148,
          149,
          150,
          151,
          152,
          153,
          154,
          155,
          156,
          157,
          158,
          159,
          160,
          161,
          162,
          163,
          164,
          165,
          166,
          167,
          168,
          169,
          170,
          171,
          172,
          173,
          174,
          175,
          176,
          177,
          178,
          179,
          180,
          181,
          182,
          183,
          184,
          185,
          186,
          187,
          188,
          189,
          190,
          191,
          192,
          193,
          194,
          195,
          196,
          197,
          198,
          199,
          200,
          201,
          202,
          203,
          204,
          205,
          206,
          207,
          208,
          209,
          210,
          211,
          212,
          213,
          214,
          215,
          216,
          217,
          218,
          219,
          220,
          221,
          222,
          223,
          224,
          225,
          226,
          227,
          228,
          229,
          230,
          231,
          232,
          233,
          234,
          235,
          236,
          237,
          238,
          239,
          240,
          241,
          242,
          243,
          244,
          245,
          246,
          247,
          248,
          249,
          250,
          251,
          252,
          253,
          254,
          255,
          256,
          257,
          258,
          259,
          260,
          261,
          262,
          263,
          264,
          265,
          266,
          267,
          268,
          269,
          270,
          271,
          272,
          273,
          274,
          275,
          276,
          277,
          278,
          279,
          280,
          281,
          282,
          283,
          284,
          285,
          286,
          287,
          288,
          289,
          290,
          291,
          292,
          293,
          294,
          295,
          296,
          297,
          298,
          299,
          300,
          301,
          302,
          303,
          304,
          305,
          306,
          307,
          308,
          309,
          310,
          311,
          312,
          313,
          314,
          315,
          316,
          317,
          318,
          319,
          320,
          321,
          322,
          323,
          324,
          325,
          326,
          327,
          328,
          329,
          330,
          331,
          332,
          333,
          334,
          335,
          336,
          337,
          338,
          339,
          340,
          341,
          342,
          343,
          344,
          345,
          346,
          347,
          348,
          349,
          350,
          351,
          352,
          353,
          354,
          355,
          356,
          357,
          358,
          359,
          360,
          361,
          362,
          363,
          364,
          365,
          366,
          367,
          368,
          369,
          370,
          371,
          372,
          373,
          374,
          375,
          376,
          377,
          378,
          379,
          380,
          381,
          382,
          383,
          384,
          385,
          386,
          387,
          388,
          389,
          390,
          391,
          392,
          393,
          394,
          395,
          396,
          397,
          398,
          399,
          400,
          401,
          402,
          403,
          404,
          405,
          406,
          407,
          408,
          409,
          410,
          411,
          412,
          413,
          414,
          415,
          416,
          417,
          418,
          419,
          420,
          421,
          422,
          423,
          424,
          425,
          426,
          427,
          428,
          429,
          430,
          431,
          432,
          433,
          434,
          435,
          436,
          437,
          438,
          439,
          440,
          441,
          442,
          443,
          444,
          445,
          446,
          447,
          448,
          449,
          450,
          451,
          452,
          453,
          454,
          455,
          456,
          457,
          458,
          459,
          460,
          461,
          462,
          463,
          464,
          465,
          466,
          467,
          468,
          469,
          470,
          471,
          472,
          473,
          474,
          475,
          476,
          477,
          478,
          479,
          480,
          481,
          482,
          483,
          484,
          485,
          486,
          487,
          488,
          489,
          490,
          491,
          492,
          493,
          494,
          495,
          496,
          497,
          498,
          499,
          500,
          501,
          502,
          503,
          504,
          505,
          506,
          507,
          508,
          509,
          510,
          511,
          512,
          513,
          514,
          515,
          516,
          517,
          518,
          519,
          520,
          521,
          522,
          523,
          524,
          525,
          526,
          527,
          528,
          529,
          530,
          531,
          532,
          533,
          534,
          535,
          536,
          537,
          538,
          539,
          540,
          541,
          542,
          543,
          544,
          545,
          546,
          547,
          548,
          549,
          550,
          551,
          552,
          553,
          554,
          555,
          556,
          557,
          558,
          559,
          560,
          561,
          562,
          563,
          564,
          565,
          566,
          567,
          568,
          569,
          570,
          571,
          572,
          573,
          574,
          575,
          576,
          577,
          578,
          579,
          580,
          581,
          582,
          583,
          584,
          585,
          586,
          587,
          588,
          589,
          590,
          591,
          592,
          593,
          594,
          595,
          596,
          597,
          598,
          599
         ],
         "y": [
          145.84643379426652,
          125.14675355209283,
          110.97504499521627,
          100.19972552953723,
          91.71294692468436,
          84.88425598249188,
          79.2932747131546,
          74.63831426988095,
          70.69541135119337,
          67.29624850039599,
          64.31413992585217,
          61.6540189461158,
          59.2448370368616,
          57.03368092096752,
          54.98122619466717,
          53.05825683747269,
          51.24303023867431,
          49.51930280807951,
          47.87486333275016,
          46.30045103213437,
          44.788961685715044,
          43.33486749875148,
          41.93379443183368,
          40.58221491177288,
          39.27722474446923,
          38.01638128893558,
          36.79758610115157,
          35.618999805333694,
          34.478980292750755,
          33.376037792177584,
          32.30880213647662,
          31.275998843245375,
          30.276431565245506,
          29.308969145199622,
          28.372536000439524,
          27.466104917560887,
          26.588691593324782,
          25.739350442874155,
          24.917171329673817,
          24.121276967767674,
          23.35082081631054,
          22.60498533634995,
          21.88298051590234,
          21.184042595373008,
          20.507432944122616,
          19.852437052508193,
          19.218363613478797,
          18.604543674844308,
          18.01032984841248,
          17.43509556585762,
          16.87823437382958,
          16.33915926272859,
          15.81730202495468,
          15.312112639446624,
          14.823058680051888,
          14.34962474580187,
          13.891311911549613,
          13.447637197718596,
          13.01813305811064,
          12.602346884886899,
          12.19984052994117,
          11.810189841984151,
          11.432984218714962,
          11.067826173515295,
          10.714330916140627,
          10.372125946917132,
          10.040850663982411,
          9.720155983128103,
          9.409703969828225,
          9.109167483050651,
          8.818229830465807,
          8.536584434685428,
          8.263934510171426,
          7.99999275047238,
          7.7444810254562695,
          7.497130088216672,
          7.257679291342959,
          7.02587631225616,
          6.8014768873175875,
          6.584244554431002,
          6.373950403867968,
          6.170372837050153,
          5.973297333038494,
          5.782516222478885,
          5.597828468769201,
          5.419039456215311,
          5.245960784953609,
          5.078410072423269,
          4.9162107611795385,
          4.759191932845237,
          4.607188128004508,
          4.4600391718489805,
          4.317590005392962,
          4.179690522078678,
          4.0461954096012835,
          3.916963996784438,
          3.7918601053482712,
          3.670751906409995,
          3.5535117815686856,
          3.4400161884271103,
          3.3301455304079752,
          3.2237840307283605,
          3.1208196103992507,
          3.021143770122124,
          2.924651475956729,
          2.831241048641403,
          2.740814056447771,
          2.6532752114580216,
          2.568532269154367,
          2.4864959312165675,
          2.407079751422465,
          2.3302000445558098,
          2.2557757982217805,
          2.1837285874798043,
          2.1139824922033346,
          2.0464640170781334,
          1.981102014156688,
          1.9178276078850804,
          1.8565741225254573,
          1.7972770118959165,
          1.7398737913549989,
          1.684303971957204,
          1.6305089967139645,
          1.5784321788874793,
          1.528018642257512,
          1.4792152632950655,
          1.4319706151834657,
          1.3862349136265362,
          1.3419599643886366,
          1.2990991125095748,
          1.257607193141549,
          1.2174404839567694,
          1.1785566590744618,
          1.140914744459984,
          1.1044750747481047,
          1.0691992514456463,
          1.0350501024684928,
          1.0019916429715638,
          0.9699890374297855,
          0.9390085629292352,
          0.9090175736323952,
          0.8799844663768385,
          0.8518786473733583,
          0.8246704999675417,
          0.7983313534310744,
          0.7728334527502045,
          0.7481499293782357,
          0.724254772922554,
          0.7011228037367503,
          0.6787296463868351,
          0.6570517039655984,
          0.6360661332275847,
          0.6157508205171117,
          0.596084358466961,
          0.5770460234394419,
          0.5586157536890533,
          0.5407741282223001,
          0.5235023463325741,
          0.5067822077891366,
          0.4905960936581487,
          0.4749269477367782,
          0.45975825858037356,
          0.44507404210291146,
          0.4308588247343865,
          0.41709762711470655,
          0.4037759483097571,
          0.39087975053030044,
          0.3783954443404932,
          0.366309874337029,
          0.3546103052870376,
          0.34328440870819565,
          0.332320249877586,
          0.32170627525511575,
          0.311431300309427,
          0.3014844977317518,
          0.29185538602650934,
          0.2825338184667567,
          0.2735099724018141,
          0.26477433890632784,
          0.256317712760674,
          0.24813118275081483,
          0.240206122277624,
          0.23253418026706166,
          0.2251072723699142,
          0.21791757244304719,
          0.21095750430228766,
          0.20421973373939992,
          0.1976971607932455,
          0.1913829122683421,
          0.18527033449212887,
          0.1793529863037434,
          0.173624632266406,
          0.16807923609692693,
          0.16271095430508078,
          0.157514130035649,
          0.15248328710785783,
          0.14761312424445736,
          0.14289850948578448,
          0.13833447478184013,
          0.13391621075708304,
          0.12963906164267683,
          0.1254985203700011,
          0.12149022382218376,
          0.11760994823572338,
          0.11385360474975656,
          0.11021723509749633,
          0.10669700743550418,
          0.10328921230547859,
          0.09999025872505728,
          0.09679667040497558,
          0.09370508208461949,
          0.09071223598646878,
          0.08781497838332795,
          0.08501025627486201,
          0.08229511417037602,
          0.07966669097451347,
          0.07712221697280987,
          0.07465901091217196,
          0.07227447717643272,
          0.0699661030505629,
          0.06773145607349519,
          0.06556818147396913,
          0.06347399969041956,
          0.06144670396739668,
          0.05948415803166994,
          0.057584293840287334,
          0.05574510940143306,
          0.053964666664926275,
          0.05224108948001185,
          0.050572561618412976,
          0.04895732486029958,
          0.047393677141553354,
          0.045879970760571244,
          0.04441461064182747,
          0.04299605265446302,
          0.04162280198633169,
          0.040293411567774925,
          0.03900648054746128,
          0.03776065281600773,
          0.036554615576826543,
          0.03538709796322746,
          0.03425686969905904,
          0.03316273980206847,
          0.032103555329482815,
          0.031078200163173683,
          0.030085593832728366,
          0.0291246903782842,
          0.028194477247723088,
          0.027293974229871454,
          0.02642223242239002,
          0.025578333231393698,
          0.024761387404385337,
          0.023970534093095738,
          0.023204939947239798,
          0.022463798236665555,
          0.021746328002170447,
          0.021051773233215082,
          0.02037940207217798,
          0.019728506044695667,
          0.019098399314399675,
          0.0184884179617085,
          0.01789791928697607,
          0.017326281135262814,
          0.01677290124432456,
          0.0162371966133441,
          0.015718602893489475,
          0.015216573798879496,
          0.014730580537507938,
          0.014260111261966005,
          0.013804670540476833,
          0.013363778846391354,
          0.012936972067556625,
          0.012523801034483186,
          0.012123831068378466,
          0.011736641548994004,
          0.011361825501817706,
          0.010998989207045715,
          0.010647751830030944,
          0.010307745075052813,
          0.009978612863637713,
          0.009660011039195773,
          0.00935160710226659,
          0.009053079977760673,
          0.008764119818419474,
          0.008484427851159491,
          0.00821371626986748,
          0.007951708184467107,
          0.007698137633433812,
          0.007452749671522351,
          0.00721530054663314,
          0.006985557979932574,
          0.006763301570880927,
          0.006548323349444983,
          0.006340428501920562,
          0.006139436307458895,
          0.005945181321195636,
          0.005757514853577772,
          0.005576306800140729,
          0.005401447887880949,
          0.0052328524110780055,
          0.005070461545240665,
          0.004914247330813157,
          0.004764217434464246,
          0.0046204207955157905,
          0.004482954265997207,
          0.004351970339848705,
          0.004227686039070176,
          0.004110392968084086,
          0.004000468462194103,
          0.0038983876155641523,
          0.0038047357880323504,
          0.003720220928622971,
          0.0036456847458330166,
          0.0035821114112824905,
          0.003530632174883696,
          0.003492524094412387,
          0.0034692011907214142,
          0.003462196872868498,
          0.0034731375523528525,
          0.003503708934318443,
          0.0035556182883857775,
          0.0036305575785825616,
          0.0037301731010862954,
          0.003856046807614074,
          0.004009692751951466,
          0.004192569539602825,
          0.004406107042685841,
          0.004651743709177193,
          0.004930969959052888,
          0.005245373397145778,
          0.005596682549938411,
          0.0059868071031264035,
          0.0064178738165208225,
          0.006892258216718287,
          0.007412612748313397,
          0.007981892355225555,
          0.008603378536480272,
          0.00928070286656766,
          0.010017870846376035,
          0.010819286820838929,
          0.011689780566467379,
          0.01263463604679003,
          0.013659622753092522,
          0.014771029988100948,
          0.015975704415252052,
          0.017281091176905503,
          0.0186952788767381,
          0.020227048727819406,
          0.021885928182760472,
          0.02368224937876825,
          0.025627212756987122,
          0.027732956246534796,
          0.030012630434660972,
          0.03248048018319651,
          0.03515193319116466,
          0.03804369604817309,
          0.04117385836998973,
          0.04456200566001998,
          0.04822934159593324,
          0.05219882050019481,
          0.05649529081670194,
          0.06114565048773813,
          0.06617901520011266,
          0.07162690054809775,
          0.07752341925136805,
          0.08390549466033943,
          0.09081309188214023,
          0.09828946797268286,
          0.10638144276010572,
          0.11513969199333364,
          0.1246190646500581,
          0.13487892639039725,
          0.14598353130568406,
          0.15800242428980196,
          0.17101087655201236,
          0.18509035699759002,
          0.2003290424292468,
          0.21682236976211636,
          0.2346736337117351,
          0.253994633696928,
          0.27490637400979323,
          0.2975398216358401,
          0.3220367264714014,
          0.34855050907519236,
          0.37724722151276585,
          0.4083065873107723,
          0.4419231270366121,
          0.47830737654979216,
          0.5176872055562023,
          0.5603092447226204,
          0.6064404302889906,
          0.6563696758535051,
          0.7104096817978158,
          0.7688988936883273,
          0.8322036219146827,
          0.9007203358432246,
          0.9748781468532136,
          1.0551414958045633,
          1.1420130617706925,
          1.2360369102526874,
          1.3378019005913344,
          1.44794537391678,
          1.567157144734709,
          1.6961838211458433,
          1.835833480756729,
          1.9869807315664791,
          2.1505721895249144,
          2.3276324070669347,
          2.5192702897538997,
          2.7266860412070155,
          2.951178679830214,
          3.1941541743958437,
          3.4571342494484107,
          3.7417659156709204,
          4.0498317849024925,
          4.383261234409541,
          4.744142490329443,
          5.134735705964105,
          5.557487116832292,
          6.015044361130871,
          6.510273061555195,
          7.046274772328665,
          7.626406403841606,
          8.254301246553087,
          8.933891725825662,
          9.669434030204506,
          10.465534767383389,
          11.327179814801756,
          12.2597655455592,
          13.269132625212704,
          14.361602591120453,
          15.544017443424154,
          16.823782495624332,
          18.20891275311425,
          19.708083110137434,
          21.330682679544452,
          23.086873595609866,
          24.987654658183846,
          27.044930216773643,
          29.271584725967223,
          31.68156343912989,
          34.289959745748476,
          37.113109699406074,
          40.168694328402985,
          43.47585036978332,
          47.05529012027998,
          50.92943115478864,
          55.12253672478181,
          59.660867715960606,
          64.57284711683394,
          69.88923802827246,
          75.64333632888822,
          81.8711792028787,
          88.61177083631722,
          95.9073266953989,
          103.8035379165243,
          112.3498574640622,
          121.59980984796248,
          131.61132634093877,
          142.44710779464566,
          154.17501732711946,
          166.86850534083695,
          180.6070695332231,
          195.47675278059702,
          211.57068201373832,
          228.98965145998397,
          247.84275390462665,
          268.2480639251226,
          290.3333773771202,
          314.2370117636134,
          340.10867249983295,
          368.1103904991781,
          398.41753695217517,
          431.21992165388843,
          466.7229817584727,
          505.14906840588316,
          546.7388392787223,
          591.7527658106301,
          640.4727644856713,
          693.2039624453399,
          750.2766084609538,
          812.0481412396103,
          878.9054280172512,
          951.2671874588457,
          1029.5866120400171,
          1114.35420633375,
          1206.1008589780083,
          1305.4011675636027,
          1412.8770372656613,
          1529.201575756467,
          1655.10330879301,
          1791.3707428809425,
          1938.857303590313,
          2098.486680451127,
          2271.2586119031357,
          2458.255146530248,
          2660.647419792886,
          2879.7029887000945,
          3116.793770357512,
          3373.404634109333,
          3651.1427010857374,
          3951.74740939767,
          4277.101408016014,
          4629.24234756211,
          5010.37564185388,
          5422.888280131429,
          5869.363776466411,
          6352.598349981339,
          6875.618437213521,
          7441.699646301323,
          8054.387271700407,
          8717.518497911002,
          9435.2464312753,
          10212.066110353113,
          11052.842657775378,
          11962.841749887073,
          12947.762595006943,
          14013.773626842756,
          15167.551136605336,
          16416.321085769396,
          17767.904361349196,
          19230.76575711699,
          20814.06698752746,
          22527.724066367504,
          24382.469409486614,
          26389.91905054934,
          28562.64539077343,
          30914.2559382761,
          33459.47853016287,
          36214.25357109403,
          39195.83386600715,
          42422.89267223522,
          45915.6406477371,
          49695.952427872166,
          53787.50362345316,
          58215.919098078964,
          63008.93345338892,
          68196.56472733764,
          73811.3023933404,
          79888.31083770384,
          86465.64958969501,
          93584.5116835219,
          101289.48164505592,
          109628.81471903424,
          118654.73908550682,
          128423.78295827043,
          138997.1286138664,
          150440.9955683797,
          162827.05530182744,
          176232.88012750226,
          190742.42901748297,
          206446.57342697406,
          223443.6664106472,
          241840.15859528503,
          261751.2648664885,
          283301.6859448189,
          306626.3893705153,
          331871.4547879955,
          359194.98882404837,
          388768.11528948403,
          420776.04690574843,
          455419.2452685889,
          492914.67631347646,
          533497.1691456031,
          577420.8867446348,
          624960.9177550558,
          676414.9993312842,
          732105.3818275179,
          792380.8470106273,
          857618.892435902,
          928228.0956661217,
          1004650.6731407522,
          1087365.249721135,
          1176889.8562569884,
          1273785.1739475846,
          1378658.0458166334,
          1492165.2772927876,
          1615017.7496983188,
          1747984.8724082275,
          1891899.401563085,
          2047662.6555145867,
          2216250.1596675077,
          2398717.756070961,
          2596208.2160225646,
          2809958.397099418,
          3041306.9894394414,
          3291702.8997870754,
          3562714.3258115337,
          3856038.5775289056,
          4173512.707338442,
          4517125.015247566,
          4889027.501341368,
          5291549.343484843,
          5727211.484666959,
          6198742.421345249,
          6709095.291671347,
          7261466.370618794,
          7859315.087845777,
          8506385.693662116,
          9206730.708791682
         ]
        },
        {
         "marker": {
          "symbol": "triangle-up"
         },
         "mode": "lines+markers",
         "name": "Gauss-Seidel Method",
         "type": "scatter",
         "x": [
          0,
          1,
          2,
          3,
          4,
          5,
          6,
          7,
          8,
          9,
          10,
          11,
          12,
          13,
          14,
          15,
          16,
          17,
          18,
          19,
          20,
          21,
          22,
          23,
          24,
          25,
          26,
          27,
          28,
          29,
          30,
          31,
          32,
          33,
          34,
          35,
          36,
          37,
          38,
          39,
          40,
          41,
          42,
          43,
          44,
          45,
          46,
          47,
          48,
          49,
          50,
          51,
          52,
          53,
          54,
          55,
          56,
          57,
          58,
          59,
          60,
          61,
          62,
          63,
          64,
          65,
          66,
          67,
          68,
          69,
          70,
          71,
          72,
          73,
          74,
          75,
          76,
          77,
          78,
          79,
          80,
          81,
          82,
          83,
          84,
          85,
          86,
          87,
          88,
          89,
          90,
          91,
          92,
          93,
          94,
          95,
          96,
          97,
          98,
          99,
          100,
          101,
          102,
          103,
          104,
          105,
          106,
          107,
          108,
          109,
          110,
          111,
          112,
          113,
          114,
          115,
          116,
          117,
          118,
          119,
          120,
          121,
          122,
          123,
          124,
          125,
          126,
          127,
          128,
          129,
          130,
          131,
          132,
          133,
          134,
          135,
          136,
          137,
          138,
          139,
          140,
          141,
          142,
          143,
          144,
          145,
          146,
          147,
          148,
          149,
          150,
          151,
          152,
          153,
          154,
          155,
          156,
          157,
          158,
          159,
          160,
          161,
          162,
          163,
          164,
          165,
          166,
          167,
          168,
          169,
          170,
          171,
          172,
          173,
          174,
          175,
          176,
          177,
          178,
          179,
          180,
          181,
          182,
          183,
          184,
          185,
          186,
          187,
          188,
          189,
          190,
          191,
          192,
          193,
          194,
          195,
          196,
          197,
          198,
          199,
          200,
          201,
          202,
          203,
          204,
          205,
          206,
          207,
          208,
          209,
          210,
          211,
          212,
          213,
          214,
          215,
          216,
          217,
          218,
          219,
          220,
          221,
          222,
          223,
          224,
          225,
          226,
          227,
          228,
          229,
          230,
          231,
          232,
          233,
          234,
          235,
          236,
          237,
          238,
          239,
          240,
          241,
          242,
          243,
          244,
          245,
          246,
          247,
          248,
          249,
          250,
          251,
          252,
          253,
          254,
          255,
          256,
          257,
          258,
          259,
          260,
          261,
          262,
          263,
          264,
          265,
          266,
          267,
          268,
          269,
          270,
          271,
          272,
          273,
          274,
          275,
          276,
          277,
          278,
          279,
          280,
          281
         ],
         "y": [
          115.89641654227059,
          97.17253067820786,
          84.27098633287008,
          74.95235280872075,
          67.91550363276707,
          62.34977062026007,
          57.74431357885123,
          53.77966657499684,
          50.258445504204104,
          47.05998687442508,
          44.110975910209106,
          41.36673500487883,
          38.799502304845106,
          36.39124037047582,
          34.12934137321531,
          32.00414639747668,
          30.007569288054324,
          28.132370248605632,
          26.371796578106444,
          24.719421089519294,
          23.16908058112643,
          21.714860546432742,
          20.351097972823204,
          19.072388502238987,
          17.873591974430926,
          16.749834310971064,
          15.696505548273807,
          14.709254585203073,
          13.783981428802758,
          12.916827696160757,
          12.104166012382837,
          11.342588806388006,
          10.628896878933855,
          9.960088011651756,
          9.333345803196348,
          8.746028856252286,
          8.195660393354679,
          7.679918346538179,
          7.196625942577548,
          6.743742789460285,
          6.3193564587816775,
          5.921674551520459,
          5.549017230044421,
          5.199810196438752,
          4.872578095778135,
          4.56593832237662,
          4.278595207056679,
          4.009334563890153,
          3.757018575527653,
          3.5205809970526785,
          3.299022659213738,
          3.091407252840677,
          2.896857377217524,
          2.7145508361427613,
          2.543717166338047,
          2.3836343837666845,
          2.233625934283453,
          2.09305783585759,
          1.9613360003882216,
          1.8379037238657316,
          1.7222393343295956,
          1.6138539877227354,
          1.5122896023626227,
          1.4171169233224703,
          1.3279337085654421,
          1.2443630291788528,
          1.1660516765385904,
          1.0926686696821908,
          1.0239038565895273,
          0.9594666034666388,
          0.8990845664975834,
          0.8425025408793771,
          0.7894813822766459,
          0.7397969961422948,
          0.6932393906348521,
          0.6496117891302136,
          0.608729798580236,
          0.5704206302042663,
          0.5345223692192629,
          0.5008832905261688,
          0.4693612174574861,
          0.4398229208796355,
          0.4121435561089113,
          0.3862061352615115,
          0.36190103281047664,
          0.33912552225655285,
          0.31778334195732505,
          0.2977842882787913,
          0.2790438343513996,
          0.2614827728166512,
          0.24502688105790252,
          0.22960660749754674,
          0.21515677763659138,
          0.2016163185935308,
          0.18892800097888512,
          0.17703819701395296,
          0.16589665387126137,
          0.15545628127976308,
          0.145672952496995,
          0.13650531780474423,
          0.12791462974413928,
          0.1198645793478444,
          0.11232114267829184,
          0.10525243702474851,
          0.09862858615007415,
          0.09242159401638501,
          0.08660522645990062,
          0.08115490031023549,
          0.07604757948900757,
          0.07126167764676673,
          0.06677696692699614,
          0.06257449247237967,
          0.05863649231145518,
          0.05494632228624517,
          0.05148838570556842,
          0.04824806742402961,
          0.04521167207140586,
          0.04236636616782339,
          0.03970012388247168,
          0.03720167620637092,
          0.03486046332249483,
          0.03266658997496469,
          0.030610783645752402,
          0.028684355364217103,
          0.026879162982532862,
          0.02518757676280084,
          0.023602447128853822,
          0.02211707444941189,
          0.02072518072048966,
          0.019420883031846272,
          0.01819866870256132,
          0.017053371980921824,
          0.015980152211739262,
          0.014974473376367243,
          0.014032084921894226,
          0.013149003794884387,
          0.012321497607711583,
          0.011546068863036496,
          0.010819440171474428,
          0.010138540399445044,
          0.00950049168917965,
          0.00890259729502902,
          0.00834233018574874,
          0.007817322363458572,
          0.007325354855767303,
          0.006864348336588688,
          0.006432354338246299,
          0.006027547016010633,
          0.005648215430808991,
          0.005292756318430377,
          0.004959667312413138,
          0.004647540595129242,
          0.004355056946784863,
          0.00408098017058833,
          0.0038241518664920877,
          0.003583486536893773,
          0.003357966997108142,
          0.0031466400775132706,
          0.00294861259381829,
          0.0027630475726069,
          0.0025891607140049924,
          0.002426217076183257,
          0.002273527969432968,
          0.002130448045512028,
          0.0019963725695974492,
          0.001870734865030229,
          0.0017530039174448412,
          0.0016426821309765487,
          0.0015393032248794182,
          0.0014424302629694702,
          0.0013516538066502902,
          0.0012665901846326904,
          0.0011868798710941088,
          0.0011121859663199495,
          0.0010421927725864412,
          0.0009766044602167471,
          0.0009151438167574812,
          0.0008575510756703433,
          0.0008035828182808438,
          0.0007530109449491795,
          0.0007056217110453001,
          0.0006612148234680344,
          0.0006196025944877809,
          0.0005806091475773184,
          0.0005440696750695761,
          0.0005098297410634518,
          0.0004777446285407294,
          0.00044767872826806865,
          0.00041950496518827876,
          0.00039310426143598703,
          0.00036836503296844243,
          0.0003451827182457605,
          0.00032345933599390756,
          0.0003031030712965715,
          0.00028402788726924653,
          0.0002661531616746135,
          0.0002494033461776603,
          0.00023370764670555767,
          0.00021899972454288635,
          0.00020521741595425346,
          0.0001923024694340584,
          0.00018020029917658755,
          0.00016885975466442588,
          0.00015823290455972648,
          0.00014827483395728612,
          0.0001389434546418474,
          0.0001301993269335696,
          0.00012200549335317545,
          0.00011432732223060573,
          0.00010713236148894299,
          0.000100390201190375,
          0.00009407234511246645,
          0.0000881520907441487,
          0.00008260441569997532,
          0.0000774058724396426,
          0.00007253448907508388,
          0.0000679696764054927,
          0.00006369214113274088,
          0.00005968380392201817,
          0.000055927723355722016,
          0.0000524080242692844,
          0.000049109830339736645,
          0.000046019201618741526,
          0.000043123075473501045,
          0.00004040921119162756,
          0.000037866138530367414,
          0.00003548310899399675,
          0.000033250050679358424,
          0.00003115752546555254,
          0.00002919668901525535,
          0.000027359253966003152,
          0.00002563745420685442,
          0.000024024012404266954,
          0.000022512109322851736,
          0.000021095354930828205,
          0.0000197677610506604,
          0.000018523716637306672,
          0.000017357963622778367,
          0.00001626557502747971,
          0.000015241933677590492,
          0.000014282713174490024,
          0.000013383859196506934,
          0.000012541572851500855,
          0.000011752294138379992,
          0.000011012687117212063,
          0.00001031962573477924,
          0.000009670180762928337,
          0.00000906160736365522,
          0.000008491333248298401,
          0.000007956948170153889,
          0.000007456193606699133,
          0.000006986953027733884,
          0.000006547243100975949,
          0.000006135205545618801,
          0.00000574909870405073,
          0.000005387290658373104,
          0.000005048252441950551,
          0.000004730550737059575,
          0.000004432843009384941,
          0.000004153870866001494,
          0.00000389245525504659,
          0.0000036474915505606836,
          0.0000034179439234131807,
          0.0000032028424268056605,
          0.0000030012780397340896,
          0.000002812398615150578,
          0.000002635405965046646,
          0.0000024695518821533555,
          0.000002314135734633601,
          0.0000021685002422531518,
          0.0000020320299994634904,
          0.0000019041483362965421,
          0.0000017843145070627239,
          0.000001672022286644725,
          0.0000015667968420975892,
          0.0000014681936629944532,
          0.0000013757957903058329,
          0.0000012892129204308704,
          0.0000012080789047363252,
          0.00000113205081272992,
          0.0000010608075120677156,
          9.940476702787567e-7
         ]
        },
        {
         "marker": {
          "symbol": "x"
         },
         "mode": "lines+markers",
         "name": "SOR Method (ω=1.5)",
         "type": "scatter",
         "x": [
          0,
          1,
          2,
          3,
          4,
          5,
          6,
          7,
          8,
          9,
          10,
          11,
          12,
          13,
          14,
          15,
          16,
          17,
          18,
          19,
          20,
          21,
          22,
          23,
          24,
          25,
          26,
          27,
          28,
          29,
          30,
          31,
          32,
          33,
          34,
          35,
          36,
          37,
          38,
          39,
          40,
          41,
          42,
          43,
          44,
          45,
          46,
          47,
          48,
          49,
          50,
          51,
          52,
          53,
          54,
          55,
          56,
          57,
          58,
          59,
          60,
          61,
          62,
          63,
          64,
          65,
          66,
          67,
          68,
          69,
          70,
          71,
          72,
          73,
          74,
          75,
          76,
          77,
          78,
          79,
          80
         ],
         "y": [
          102.12913628081822,
          79.99892302136041,
          66.42385066340377,
          56.35520336750831,
          47.838723265724674,
          40.20197305262312,
          33.28171824919773,
          27.102852092553526,
          21.708947518118325,
          17.172134135729003,
          13.503014619229724,
          10.598325277807696,
          8.313249724042523,
          6.521447916295195,
          5.122161304008468,
          4.032358604574871,
          3.182698587110579,
          2.516535539701965,
          1.992322160898073,
          1.574452241056092,
          1.2435102724580083,
          0.9821588201401563,
          0.7756996168956509,
          0.6126199077991321,
          0.48382351435863924,
          0.3821109608439875,
          0.30178701002434744,
          0.2383513370168054,
          0.18825065106510408,
          0.14868077065336008,
          0.11742853431558478,
          0.09274567591879139,
          0.07325107491621524,
          0.05785409782159469,
          0.04569344947168736,
          0.036088878489592725,
          0.02850313048565596,
          0.022511872554942608,
          0.017779959660999208,
          0.014042679495202253,
          0.01109096209810361,
          0.008759684704695925,
          0.006918432940367178,
          0.005464205203936992,
          0.004315650487475108,
          0.0034085174951665447,
          0.0026920603254293207,
          0.0021261996723450313,
          0.001679280736540168,
          0.0013263024292653072,
          0.0010475187943317396,
          0.000827334399558471,
          0.000653431912034013,
          0.0005160830542006098,
          0.00040760439452312657,
          0.0003219275291511079,
          0.0002542596091435554,
          0.00020081522393405028,
          0.00015860464146706416,
          0.00012526655997367785,
          0.00009893601411408906,
          0.0000781400470473265,
          0.00006171531165687109,
          0.00004874299217194869,
          0.000038497403941109695,
          0.000030405398686606137,
          0.00002401430158969867,
          0.00001896658843141465,
          0.00001497988495139081,
          0.00001183117116018709,
          0.000009344304796468664,
          0.000007380168122128787,
          0.000005828885294530228,
          0.000004603676191483615,
          0.0000036360012470187757,
          0.0000028717278605075534,
          0.000002268101737903054,
          0.0000017913555418962613,
          0.0000014148195552680534,
          0.0000011174299689818784,
          8.825504955319076e-7
         ]
        }
       ],
       "layout": {
        "legend": {
         "orientation": "v",
         "traceorder": "normal",
         "x": 1,
         "xanchor": "right",
         "y": 0,
         "yanchor": "bottom"
        },
        "template": {
         "data": {
          "bar": [
           {
            "error_x": {
             "color": "#2a3f5f"
            },
            "error_y": {
             "color": "#2a3f5f"
            },
            "marker": {
             "line": {
              "color": "white",
              "width": 0.5
             },
             "pattern": {
              "fillmode": "overlay",
              "size": 10,
              "solidity": 0.2
             }
            },
            "type": "bar"
           }
          ],
          "barpolar": [
           {
            "marker": {
             "line": {
              "color": "white",
              "width": 0.5
             },
             "pattern": {
              "fillmode": "overlay",
              "size": 10,
              "solidity": 0.2
             }
            },
            "type": "barpolar"
           }
          ],
          "carpet": [
           {
            "aaxis": {
             "endlinecolor": "#2a3f5f",
             "gridcolor": "#C8D4E3",
             "linecolor": "#C8D4E3",
             "minorgridcolor": "#C8D4E3",
             "startlinecolor": "#2a3f5f"
            },
            "baxis": {
             "endlinecolor": "#2a3f5f",
             "gridcolor": "#C8D4E3",
             "linecolor": "#C8D4E3",
             "minorgridcolor": "#C8D4E3",
             "startlinecolor": "#2a3f5f"
            },
            "type": "carpet"
           }
          ],
          "choropleth": [
           {
            "colorbar": {
             "outlinewidth": 0,
             "ticks": ""
            },
            "type": "choropleth"
           }
          ],
          "contour": [
           {
            "colorbar": {
             "outlinewidth": 0,
             "ticks": ""
            },
            "colorscale": [
             [
              0,
              "#0d0887"
             ],
             [
              0.1111111111111111,
              "#46039f"
             ],
             [
              0.2222222222222222,
              "#7201a8"
             ],
             [
              0.3333333333333333,
              "#9c179e"
             ],
             [
              0.4444444444444444,
              "#bd3786"
             ],
             [
              0.5555555555555556,
              "#d8576b"
             ],
             [
              0.6666666666666666,
              "#ed7953"
             ],
             [
              0.7777777777777778,
              "#fb9f3a"
             ],
             [
              0.8888888888888888,
              "#fdca26"
             ],
             [
              1,
              "#f0f921"
             ]
            ],
            "type": "contour"
           }
          ],
          "contourcarpet": [
           {
            "colorbar": {
             "outlinewidth": 0,
             "ticks": ""
            },
            "type": "contourcarpet"
           }
          ],
          "heatmap": [
           {
            "colorbar": {
             "outlinewidth": 0,
             "ticks": ""
            },
            "colorscale": [
             [
              0,
              "#0d0887"
             ],
             [
              0.1111111111111111,
              "#46039f"
             ],
             [
              0.2222222222222222,
              "#7201a8"
             ],
             [
              0.3333333333333333,
              "#9c179e"
             ],
             [
              0.4444444444444444,
              "#bd3786"
             ],
             [
              0.5555555555555556,
              "#d8576b"
             ],
             [
              0.6666666666666666,
              "#ed7953"
             ],
             [
              0.7777777777777778,
              "#fb9f3a"
             ],
             [
              0.8888888888888888,
              "#fdca26"
             ],
             [
              1,
              "#f0f921"
             ]
            ],
            "type": "heatmap"
           }
          ],
          "heatmapgl": [
           {
            "colorbar": {
             "outlinewidth": 0,
             "ticks": ""
            },
            "colorscale": [
             [
              0,
              "#0d0887"
             ],
             [
              0.1111111111111111,
              "#46039f"
             ],
             [
              0.2222222222222222,
              "#7201a8"
             ],
             [
              0.3333333333333333,
              "#9c179e"
             ],
             [
              0.4444444444444444,
              "#bd3786"
             ],
             [
              0.5555555555555556,
              "#d8576b"
             ],
             [
              0.6666666666666666,
              "#ed7953"
             ],
             [
              0.7777777777777778,
              "#fb9f3a"
             ],
             [
              0.8888888888888888,
              "#fdca26"
             ],
             [
              1,
              "#f0f921"
             ]
            ],
            "type": "heatmapgl"
           }
          ],
          "histogram": [
           {
            "marker": {
             "pattern": {
              "fillmode": "overlay",
              "size": 10,
              "solidity": 0.2
             }
            },
            "type": "histogram"
           }
          ],
          "histogram2d": [
           {
            "colorbar": {
             "outlinewidth": 0,
             "ticks": ""
            },
            "colorscale": [
             [
              0,
              "#0d0887"
             ],
             [
              0.1111111111111111,
              "#46039f"
             ],
             [
              0.2222222222222222,
              "#7201a8"
             ],
             [
              0.3333333333333333,
              "#9c179e"
             ],
             [
              0.4444444444444444,
              "#bd3786"
             ],
             [
              0.5555555555555556,
              "#d8576b"
             ],
             [
              0.6666666666666666,
              "#ed7953"
             ],
             [
              0.7777777777777778,
              "#fb9f3a"
             ],
             [
              0.8888888888888888,
              "#fdca26"
             ],
             [
              1,
              "#f0f921"
             ]
            ],
            "type": "histogram2d"
           }
          ],
          "histogram2dcontour": [
           {
            "colorbar": {
             "outlinewidth": 0,
             "ticks": ""
            },
            "colorscale": [
             [
              0,
              "#0d0887"
             ],
             [
              0.1111111111111111,
              "#46039f"
             ],
             [
              0.2222222222222222,
              "#7201a8"
             ],
             [
              0.3333333333333333,
              "#9c179e"
             ],
             [
              0.4444444444444444,
              "#bd3786"
             ],
             [
              0.5555555555555556,
              "#d8576b"
             ],
             [
              0.6666666666666666,
              "#ed7953"
             ],
             [
              0.7777777777777778,
              "#fb9f3a"
             ],
             [
              0.8888888888888888,
              "#fdca26"
             ],
             [
              1,
              "#f0f921"
             ]
            ],
            "type": "histogram2dcontour"
           }
          ],
          "mesh3d": [
           {
            "colorbar": {
             "outlinewidth": 0,
             "ticks": ""
            },
            "type": "mesh3d"
           }
          ],
          "parcoords": [
           {
            "line": {
             "colorbar": {
              "outlinewidth": 0,
              "ticks": ""
             }
            },
            "type": "parcoords"
           }
          ],
          "pie": [
           {
            "automargin": true,
            "type": "pie"
           }
          ],
          "scatter": [
           {
            "marker": {
             "colorbar": {
              "outlinewidth": 0,
              "ticks": ""
             }
            },
            "type": "scatter"
           }
          ],
          "scatter3d": [
           {
            "line": {
             "colorbar": {
              "outlinewidth": 0,
              "ticks": ""
             }
            },
            "marker": {
             "colorbar": {
              "outlinewidth": 0,
              "ticks": ""
             }
            },
            "type": "scatter3d"
           }
          ],
          "scattercarpet": [
           {
            "marker": {
             "colorbar": {
              "outlinewidth": 0,
              "ticks": ""
             }
            },
            "type": "scattercarpet"
           }
          ],
          "scattergeo": [
           {
            "marker": {
             "colorbar": {
              "outlinewidth": 0,
              "ticks": ""
             }
            },
            "type": "scattergeo"
           }
          ],
          "scattergl": [
           {
            "marker": {
             "colorbar": {
              "outlinewidth": 0,
              "ticks": ""
             }
            },
            "type": "scattergl"
           }
          ],
          "scattermapbox": [
           {
            "marker": {
             "colorbar": {
              "outlinewidth": 0,
              "ticks": ""
             }
            },
            "type": "scattermapbox"
           }
          ],
          "scatterpolar": [
           {
            "marker": {
             "colorbar": {
              "outlinewidth": 0,
              "ticks": ""
             }
            },
            "type": "scatterpolar"
           }
          ],
          "scatterpolargl": [
           {
            "marker": {
             "colorbar": {
              "outlinewidth": 0,
              "ticks": ""
             }
            },
            "type": "scatterpolargl"
           }
          ],
          "scatterternary": [
           {
            "marker": {
             "colorbar": {
              "outlinewidth": 0,
              "ticks": ""
             }
            },
            "type": "scatterternary"
           }
          ],
          "surface": [
           {
            "colorbar": {
             "outlinewidth": 0,
             "ticks": ""
            },
            "colorscale": [
             [
              0,
              "#0d0887"
             ],
             [
              0.1111111111111111,
              "#46039f"
             ],
             [
              0.2222222222222222,
              "#7201a8"
             ],
             [
              0.3333333333333333,
              "#9c179e"
             ],
             [
              0.4444444444444444,
              "#bd3786"
             ],
             [
              0.5555555555555556,
              "#d8576b"
             ],
             [
              0.6666666666666666,
              "#ed7953"
             ],
             [
              0.7777777777777778,
              "#fb9f3a"
             ],
             [
              0.8888888888888888,
              "#fdca26"
             ],
             [
              1,
              "#f0f921"
             ]
            ],
            "type": "surface"
           }
          ],
          "table": [
           {
            "cells": {
             "fill": {
              "color": "#EBF0F8"
             },
             "line": {
              "color": "white"
             }
            },
            "header": {
             "fill": {
              "color": "#C8D4E3"
             },
             "line": {
              "color": "white"
             }
            },
            "type": "table"
           }
          ]
         },
         "layout": {
          "annotationdefaults": {
           "arrowcolor": "#2a3f5f",
           "arrowhead": 0,
           "arrowwidth": 1
          },
          "autotypenumbers": "strict",
          "coloraxis": {
           "colorbar": {
            "outlinewidth": 0,
            "ticks": ""
           }
          },
          "colorscale": {
           "diverging": [
            [
             0,
             "#8e0152"
            ],
            [
             0.1,
             "#c51b7d"
            ],
            [
             0.2,
             "#de77ae"
            ],
            [
             0.3,
             "#f1b6da"
            ],
            [
             0.4,
             "#fde0ef"
            ],
            [
             0.5,
             "#f7f7f7"
            ],
            [
             0.6,
             "#e6f5d0"
            ],
            [
             0.7,
             "#b8e186"
            ],
            [
             0.8,
             "#7fbc41"
            ],
            [
             0.9,
             "#4d9221"
            ],
            [
             1,
             "#276419"
            ]
           ],
           "sequential": [
            [
             0,
             "#0d0887"
            ],
            [
             0.1111111111111111,
             "#46039f"
            ],
            [
             0.2222222222222222,
             "#7201a8"
            ],
            [
             0.3333333333333333,
             "#9c179e"
            ],
            [
             0.4444444444444444,
             "#bd3786"
            ],
            [
             0.5555555555555556,
             "#d8576b"
            ],
            [
             0.6666666666666666,
             "#ed7953"
            ],
            [
             0.7777777777777778,
             "#fb9f3a"
            ],
            [
             0.8888888888888888,
             "#fdca26"
            ],
            [
             1,
             "#f0f921"
            ]
           ],
           "sequentialminus": [
            [
             0,
             "#0d0887"
            ],
            [
             0.1111111111111111,
             "#46039f"
            ],
            [
             0.2222222222222222,
             "#7201a8"
            ],
            [
             0.3333333333333333,
             "#9c179e"
            ],
            [
             0.4444444444444444,
             "#bd3786"
            ],
            [
             0.5555555555555556,
             "#d8576b"
            ],
            [
             0.6666666666666666,
             "#ed7953"
            ],
            [
             0.7777777777777778,
             "#fb9f3a"
            ],
            [
             0.8888888888888888,
             "#fdca26"
            ],
            [
             1,
             "#f0f921"
            ]
           ]
          },
          "colorway": [
           "#636efa",
           "#EF553B",
           "#00cc96",
           "#ab63fa",
           "#FFA15A",
           "#19d3f3",
           "#FF6692",
           "#B6E880",
           "#FF97FF",
           "#FECB52"
          ],
          "font": {
           "color": "#2a3f5f"
          },
          "geo": {
           "bgcolor": "white",
           "lakecolor": "white",
           "landcolor": "white",
           "showlakes": true,
           "showland": true,
           "subunitcolor": "#C8D4E3"
          },
          "hoverlabel": {
           "align": "left"
          },
          "hovermode": "closest",
          "mapbox": {
           "style": "light"
          },
          "paper_bgcolor": "white",
          "plot_bgcolor": "white",
          "polar": {
           "angularaxis": {
            "gridcolor": "#EBF0F8",
            "linecolor": "#EBF0F8",
            "ticks": ""
           },
           "bgcolor": "white",
           "radialaxis": {
            "gridcolor": "#EBF0F8",
            "linecolor": "#EBF0F8",
            "ticks": ""
           }
          },
          "scene": {
           "xaxis": {
            "backgroundcolor": "white",
            "gridcolor": "#DFE8F3",
            "gridwidth": 2,
            "linecolor": "#EBF0F8",
            "showbackground": true,
            "ticks": "",
            "zerolinecolor": "#EBF0F8"
           },
           "yaxis": {
            "backgroundcolor": "white",
            "gridcolor": "#DFE8F3",
            "gridwidth": 2,
            "linecolor": "#EBF0F8",
            "showbackground": true,
            "ticks": "",
            "zerolinecolor": "#EBF0F8"
           },
           "zaxis": {
            "backgroundcolor": "white",
            "gridcolor": "#DFE8F3",
            "gridwidth": 2,
            "linecolor": "#EBF0F8",
            "showbackground": true,
            "ticks": "",
            "zerolinecolor": "#EBF0F8"
           }
          },
          "shapedefaults": {
           "line": {
            "color": "#2a3f5f"
           }
          },
          "ternary": {
           "aaxis": {
            "gridcolor": "#DFE8F3",
            "linecolor": "#A2B1C6",
            "ticks": ""
           },
           "baxis": {
            "gridcolor": "#DFE8F3",
            "linecolor": "#A2B1C6",
            "ticks": ""
           },
           "bgcolor": "white",
           "caxis": {
            "gridcolor": "#DFE8F3",
            "linecolor": "#A2B1C6",
            "ticks": ""
           }
          },
          "title": {
           "x": 0.05
          },
          "xaxis": {
           "automargin": true,
           "gridcolor": "#EBF0F8",
           "linecolor": "#EBF0F8",
           "ticks": "",
           "title": {
            "standoff": 15
           },
           "zerolinecolor": "#EBF0F8",
           "zerolinewidth": 2
          },
          "yaxis": {
           "automargin": true,
           "gridcolor": "#EBF0F8",
           "linecolor": "#EBF0F8",
           "ticks": "",
           "title": {
            "standoff": 15
           },
           "zerolinecolor": "#EBF0F8",
           "zerolinewidth": 2
          }
         }
        },
        "title": {
         "text": "Convergence Comparison of Iterative Methods"
        },
        "xaxis": {
         "title": {
          "text": "Iteration (0-600)"
         }
        },
        "yaxis": {
         "title": {
          "text": "Residual ||Ax - b||"
         },
         "type": "log"
        }
       }
      }
     },
     "metadata": {},
     "output_type": "display_data"
    },
    {
     "name": "stdout",
     "output_type": "stream",
     "text": [
      "Conjugate Gradient: 14 iterations\n",
      "Jacobi Method: 600 iterations\n",
      "Gauss-Seidel Method: 282 iterations\n",
      "SOR Method: 81 iterations\n"
     ]
    }
   ],
   "source": [
    "from scipy.sparse import lil_matrix\n",
    "from scipy.sparse.linalg import spsolve\n",
    "\n",
    "# Define the exact solution and source term\n",
    "def u_exact(x, y):\n",
    "    \"\"\"Analytical solution: u_ex(x, y) = sin^2(pi x) * sin^2(pi y).\"\"\"\n",
    "    return np.sin(np.pi * x)**2 * np.sin(np.pi * y)**2\n",
    "\n",
    "def f_source(x, y, alpha):\n",
    "    \"\"\"\n",
    "    Source term derived from the exact solution and Poisson equation:\n",
    "    f(x, y) = -Delta u_exact + alpha * u_exact.\n",
    "    \"\"\"\n",
    "    term1 = -2 * np.pi**2 * (np.cos(2 * np.pi * x) * np.sin(np.pi * y)**2 +\n",
    "                             np.sin(np.pi * x)**2 * np.cos(2 * np.pi * y))\n",
    "    term2 = alpha * u_exact(x, y)\n",
    "    return term1 + term2\n",
    "\n",
    "# Create the 4th-order Poisson matrix\n",
    "def create_4th_order_poisson_matrix_2d(n, alpha, h):\n",
    "    \"\"\"\n",
    "    Constructs a 2D Poisson matrix with a 4th-order finite difference formula for the Laplacian.\n",
    "    \n",
    "    Args:\n",
    "        n (int): Grid size (n x n).\n",
    "        alpha (float): Diffusion coefficient.\n",
    "        h (float): Grid spacing.\n",
    "\n",
    "    Returns:\n",
    "        A (scipy.sparse.lil_matrix): Sparse matrix for the 4th-order Laplacian in 2D.\n",
    "    \"\"\"\n",
    "    N = n * n  # Total number of grid points\n",
    "    A = lil_matrix((N, N))  # Use sparse matrix format to save memory\n",
    "    coeff = 1 / (12 * h**2)  # Precompute coefficient for the 4th-order Laplacian\n",
    "\n",
    "    for i in range(N):\n",
    "        A[i, i] = -60 * coeff + alpha  # Center point with alpha term\n",
    "\n",
    "        # Left and right neighbors (same row)\n",
    "        if i % n != 0:  # Left neighbor (u_{i-1})\n",
    "            A[i, i - 1] = 16 * coeff\n",
    "        if (i + 1) % n != 0:  # Right neighbor (u_{i+1})\n",
    "            A[i, i + 1] = 16 * coeff\n",
    "\n",
    "        # Top and bottom neighbors (same column)\n",
    "        if i - n >= 0:  # Top neighbor (u_{i-n})\n",
    "            A[i, i - n] = 16 * coeff\n",
    "        if i + n < N:  # Bottom neighbor (u_{i+n})\n",
    "            A[i, i + n] = 16 * coeff\n",
    "\n",
    "        # Second diagonal neighbors for 4th-order scheme (x-direction and y-direction)\n",
    "        if i % n > 1:  # 2nd left neighbor (u_{i-2})\n",
    "            A[i, i - 2] = -1 * coeff\n",
    "        if (i + 2) % n > 1:  # 2nd right neighbor (u_{i+2})\n",
    "            A[i, i + 2] = -1 * coeff\n",
    "        if i - 2 * n >= 0:  # 2nd top neighbor (u_{i-2n})\n",
    "            A[i, i - 2 * n] = -1 * coeff\n",
    "        if i + 2 * n < N:  # 2nd bottom neighbor (u_{i+2n})\n",
    "            A[i, i + 2 * n] = -1 * coeff\n",
    "\n",
    "    return A.tocsr()  # Convert to CSR format for efficient linear algebra operations\n",
    "\n",
    "# Conjugate Gradient Method Implementation\n",
    "def conjugate_gradient(A, b, tol=1e-6, max_iter=1000):\n",
    "    \"\"\"\n",
    "    Solves Ax = b using the Conjugate Gradient (CG) method.\n",
    "    \"\"\"\n",
    "    x = np.zeros_like(b)  # Initial guess\n",
    "    r = b - A @ x  # Initial residual\n",
    "    p = r.copy()  # Initial search direction\n",
    "    residuals = [np.linalg.norm(r)]\n",
    "    num_iter = 0\n",
    "\n",
    "    for k in range(max_iter):\n",
    "        Ap = A @ p\n",
    "        alpha = (r @ r) / (p @ Ap)  # Step size\n",
    "        x = x + alpha * p\n",
    "        r_new = r - alpha * Ap\n",
    "        residual_norm = np.linalg.norm(r_new)\n",
    "        residuals.append(residual_norm)\n",
    "\n",
    "        if residual_norm < tol:  # Convergence check\n",
    "            break\n",
    "\n",
    "        beta = (r_new @ r_new) / (r @ r)  # Compute beta\n",
    "        p = r_new + beta * p  # Update search direction\n",
    "        r = r_new\n",
    "        num_iter += 1\n",
    "\n",
    "    return x, residuals, num_iter\n",
    "\n",
    "# Shortened Iterations for Graph\n",
    "\n",
    "# Define parameters\n",
    "n = 10  # Number of grid points in each dimension\n",
    "alpha = 1.0  # Diffusion coefficient\n",
    "h = 1.0 / (n + 1)  # Grid spacing\n",
    "tol = 1e-6  # Convergence tolerance\n",
    "max_iter = 600  # Shortened maximum iterations for better visualization\n",
    "x = np.linspace(0, 1, n + 2)  # Include boundaries\n",
    "y = np.linspace(0, 1, n + 2)\n",
    "X, Y = np.meshgrid(x, y)\n",
    "\n",
    "# Source term and matrix\n",
    "f = f_source(X[1:-1, 1:-1], Y[1:-1, 1:-1], alpha).flatten()\n",
    "A_4th_order_2d = create_4th_order_poisson_matrix_2d(n, alpha, h)\n",
    "\n",
    "# Solve with Conjugate Gradient\n",
    "u_cg, residuals_cg, cg_iter = conjugate_gradient(A_4th_order_2d, f, tol, max_iter)\n",
    "\n",
    "# Jacobi Method\n",
    "jacobi_residuals = []\n",
    "u_jacobi = np.zeros_like(f)\n",
    "for _ in range(max_iter):\n",
    "    r_jacobi = f - A_4th_order_2d @ u_jacobi\n",
    "    u_jacobi += r_jacobi / np.diag(A_4th_order_2d.toarray())\n",
    "    jacobi_residuals.append(np.linalg.norm(r_jacobi))\n",
    "    if jacobi_residuals[-1] < tol:\n",
    "        break\n",
    "\n",
    "# Gauss-Seidel Method\n",
    "gs_residuals = []\n",
    "u_gs = np.zeros_like(f)\n",
    "for _ in range(max_iter):\n",
    "    u_new = np.copy(u_gs)\n",
    "    for i in range(len(f)):\n",
    "        sum1 = A_4th_order_2d[i, :i].dot(u_new[:i])\n",
    "        sum2 = A_4th_order_2d[i, i + 1:].dot(u_gs[i + 1:])\n",
    "        u_new[i] = (f[i] - sum1 - sum2) / A_4th_order_2d[i, i]\n",
    "    gs_residuals.append(np.linalg.norm(f - A_4th_order_2d @ u_new))\n",
    "    if gs_residuals[-1] < tol:\n",
    "        break\n",
    "    u_gs = u_new\n",
    "\n",
    "# SOR Method\n",
    "omega = 1.5  # Relaxation parameter\n",
    "sor_residuals = []\n",
    "u_sor = np.zeros_like(f)\n",
    "for _ in range(max_iter):\n",
    "    u_new = np.copy(u_sor)\n",
    "    for i in range(len(f)):\n",
    "        sum1 = A_4th_order_2d[i, :i].dot(u_new[:i])\n",
    "        sum2 = A_4th_order_2d[i, i + 1:].dot(u_sor[i + 1:])\n",
    "        u_new[i] = (1 - omega) * u_sor[i] + (omega / A_4th_order_2d[i, i]) * (f[i] - sum1 - sum2)\n",
    "    sor_residuals.append(np.linalg.norm(f - A_4th_order_2d @ u_new))\n",
    "    if sor_residuals[-1] < tol:\n",
    "        break\n",
    "    u_sor = u_new\n",
    "\n",
    "\n",
    "# Plot residuals for all methods with shortened iterations \n",
    "fig = go.Figure()\n",
    "\n",
    "# Add traces for each method\n",
    "fig.add_trace(go.Scatter(\n",
    "    x=list(range(len(residuals_cg[:max_iter]))),\n",
    "    y=residuals_cg[:max_iter],\n",
    "    mode='lines+markers',\n",
    "    name='Conjugate Gradient',\n",
    "    marker=dict(symbol='circle')  # Use 'circle' instead of 'o'\n",
    "))\n",
    "\n",
    "fig.add_trace(go.Scatter(\n",
    "    x=list(range(len(jacobi_residuals[:max_iter]))),\n",
    "    y=jacobi_residuals[:max_iter],\n",
    "    mode='lines+markers',\n",
    "    name='Jacobi Method',\n",
    "    marker=dict(symbol='square')  # Use 'square' instead of 's'\n",
    "))\n",
    "\n",
    "fig.add_trace(go.Scatter(\n",
    "    x=list(range(len(gs_residuals[:max_iter]))),\n",
    "    y=gs_residuals[:max_iter],\n",
    "    mode='lines+markers',\n",
    "    name='Gauss-Seidel Method',\n",
    "    marker=dict(symbol='triangle-up')  # Use 'triangle-up' instead of '^'\n",
    "))\n",
    "\n",
    "fig.add_trace(go.Scatter(\n",
    "    x=list(range(len(sor_residuals[:max_iter]))),\n",
    "    y=sor_residuals[:max_iter],\n",
    "    mode='lines+markers',\n",
    "    name=f'SOR Method (ω={omega})',\n",
    "    marker=dict(symbol='x')  # 'x' is valid\n",
    "))\n",
    "\n",
    "# Update layout\n",
    "fig.update_layout(\n",
    "    title='Convergence Comparison of Iterative Methods',\n",
    "    xaxis_title='Iteration (0-600)',\n",
    "    yaxis_title='Residual ||Ax - b||',\n",
    "    yaxis_type='log',\n",
    "    template='plotly_white',\n",
    "    legend=dict(\n",
    "        x=1,  # Position the legend on the right\n",
    "        y=0,  # Align the legend vertically at the bottom\n",
    "        traceorder='normal',\n",
    "        orientation='v',  # Vertical orientation\n",
    "        xanchor='right',  # Anchor the legend to the right\n",
    "        yanchor='bottom'  # Anchor the legend to the bottom\n",
    "    )\n",
    ")\n",
    "\n",
    "# Show the figure\n",
    "fig.show()\n",
    "\n",
    "# Print results\n",
    "print(f\"Conjugate Gradient: {cg_iter} iterations\")\n",
    "print(f\"Jacobi Method: {len(jacobi_residuals)} iterations\")\n",
    "print(f\"Gauss-Seidel Method: {len(gs_residuals)} iterations\")\n",
    "print(f\"SOR Method: {len(sor_residuals)} iterations\")\n",
    "\n"
   ]
  },
  {
   "cell_type": "markdown",
   "metadata": {},
   "source": [
    "## Analysis of Results\n",
    "### 1. Convergence Plot:\n",
    "- The graph shows the residual decay for each method:\n",
    "- Conjugate Gradient (CG) converges the fastest, reaching the tolerance within 14 iterations.\n",
    "- SOR (Successive Over-Relaxation) converges more quickly than both Jacobi and Gauss-Seidel due to its optimized relaxation parameter $(\\omega)=1.5)$,\n",
    "- Jacobi converges very slowly, as expected, taking the maximum allowed iterations ( 1000 ) and not reaching the specified tolerance.\n",
    "## 4. Implement non-homogeneous Dirichlet boundary conditions and/or Neumann boundary conditions thanks to the 2nd order centered difference scheme. Validate your solver by checking the convergence rate thanks to an exact solution that you will define."
   ]
  },
  {
   "cell_type": "code",
   "execution_count": 23,
   "metadata": {},
   "outputs": [
    {
     "name": "stdout",
     "output_type": "stream",
     "text": [
      "Converged in 214 iterations with error 9.47e-09\n",
      "Converged in 754 iterations with error 9.78e-09\n",
      "Converged in 2761 iterations with error 9.99e-09\n",
      "Maximum iterations reached without full convergence.\n"
     ]
    },
    {
     "data": {
      "image/png": "[encoded data removed]",
      "text/plain": [
       "<Figure size 800x600 with 1 Axes>"
      ]
     },
     "metadata": {},
     "output_type": "display_data"
    }
   ],
   "source": [
    "import numpy as np\n",
    "import matplotlib.pyplot as plt\n",
    "\n",
    "def u_exact_corrected(x, y):\n",
    "    \"\"\"Exact solution: u_ex(x, y) = sin^2(pi x) * sin^2(pi y).\"\"\"\n",
    "    return np.sin(np.pi * x)**2 * np.sin(np.pi * y)**2\n",
    "\n",
    "def f_source_corrected(x, y):\n",
    "    \"\"\"Source term derived from the exact solution for -Delta u = f.\"\"\"\n",
    "    term1 = -2 * np.pi**2 * (np.cos(2 * np.pi * x) * np.sin(np.pi * y)**2 +\n",
    "                             np.sin(np.pi * x)**2 * np.cos(2 * np.pi * y))\n",
    "    return term1\n",
    "\n",
    "def apply_dirichlet_bc(u, u_exact_func, x, y):\n",
    "    \"\"\"Applies Dirichlet boundary conditions to the solution grid.\"\"\"\n",
    "    u[0, :] = u_exact_func(0, y)      # Bottom boundary\n",
    "    u[-1, :] = u_exact_func(1, y)     # Top boundary\n",
    "    u[:, 0] = u_exact_func(x, 0)      # Left boundary\n",
    "    u[:, -1] = u_exact_func(x, 1)     # Right boundary\n",
    "    return u\n",
    "\n",
    "def solve_poisson_2d_dirichlet_corrected(n, u_exact_func, f_source_func, tol=1e-8, max_iter=10000):\n",
    "    \"\"\"\n",
    "    Solves the 2D Poisson equation -Delta u = f with Dirichlet BCs\n",
    "    using a 2nd-order finite difference scheme.\n",
    "    \"\"\"\n",
    "    h = 1.0 / (n + 1)  # Grid spacing\n",
    "    x = np.linspace(0, 1, n + 2)  # Include boundaries\n",
    "    y = np.linspace(0, 1, n + 2)\n",
    "    X, Y = np.meshgrid(x, y)\n",
    "\n",
    "    # Initialize solution and source term\n",
    "    u = np.zeros_like(X)\n",
    "    f = f_source_func(X[1:-1, 1:-1], Y[1:-1, 1:-1])  # Interior points\n",
    "\n",
    "    # Apply Dirichlet boundary conditions\n",
    "    u = apply_dirichlet_bc(u, u_exact_func, x, y)\n",
    "\n",
    "    # Iterative solver to reach convergence (Gauss-Seidel Method)\n",
    "    for iteration in range(max_iter):\n",
    "        u_old = u.copy()  # Store the old values for convergence check\n",
    "        for i in range(1, n + 1):  # Loop over interior points\n",
    "            for j in range(1, n + 1):\n",
    "                u[i, j] = 0.25 * (u[i + 1, j] + u[i - 1, j] + u[i, j + 1] + u[i, j - 1] - h**2 * f[i - 1, j - 1])\n",
    "\n",
    "        # Check for convergence\n",
    "        diff = np.linalg.norm(u - u_old, ord=np.inf)  # Infinity norm of the difference\n",
    "        if diff < tol:  # Convergence criterion\n",
    "            print(f\"Converged in {iteration + 1} iterations with error {diff:.2e}\")\n",
    "            break\n",
    "    else:\n",
    "        print(\"Maximum iterations reached without full convergence.\")\n",
    "\n",
    "    return u\n",
    "\n",
    "# Convergence test with corrected exact solution\n",
    "grid_sizes = [10, 20, 40, 80]  # Different resolutions\n",
    "errors_corrected = []\n",
    "\n",
    "for n in grid_sizes:\n",
    "    u_numerical = solve_poisson_2d_dirichlet_corrected(n, u_exact_corrected, f_source_corrected)\n",
    "    x = np.linspace(0, 1, n + 2)\n",
    "    y = np.linspace(0, 1, n + 2)\n",
    "    X, Y = np.meshgrid(x, y)\n",
    "    u_exact_grid = u_exact_corrected(X, Y)\n",
    "    error = np.linalg.norm(u_numerical - u_exact_grid, ord=np.inf)  # Infinity norm\n",
    "    errors_corrected.append(error)\n",
    "\n",
    "# Plot convergence rate for corrected exact solution\n",
    "plt.figure(figsize=(8, 6))\n",
    "plt.loglog(grid_sizes, errors_corrected, marker=\"o\", label=\"Numerical Error (Corrected)\")\n",
    "plt.loglog(grid_sizes, [1 / n**2 for n in grid_sizes], linestyle=\"--\", label=\"$O(h^2)$\")\n",
    "plt.xlabel(\"Grid Size (n)\")\n",
    "plt.ylabel(\"Error ||u - u_exact||_inf\")\n",
    "plt.title(\"Convergence Rate for 2nd-Order Finite Difference Scheme (Corrected)\")\n",
    "plt.grid(True, which=\"both\", linestyle=\"--\", linewidth=0.5)\n",
    "plt.legend()\n",
    "plt.show()\n"
   ]
  },
  {
   "cell_type": "markdown",
   "metadata": {},
   "source": [
    "### the solution converges for smaller grid sizes but struggles to converge for larger grid sizes (𝑛=80 in your case), hitting the maximum iteration limit. This is likely due to the slow convergence of the Jacobi-like iteration method used in the code. For larger grids, the condition number of the discretized matrix increases, leading to slower convergence.\n",
    "\n"
   ]
  },
  {
   "cell_type": "markdown",
   "metadata": {},
   "source": [
    "### 1. Switch to the Gauss-Seidel Method\n",
    "\n",
    "The Gauss-Seidel method updates values in-place during the iteration, which accelerates convergence. This can replace the current Jacobi-like approach.\n",
    "\n",
    "Modify the inner loop to update in-place:\n",
    "---\n",
    "### 2. Use a Multigrid Solver\n",
    "\n",
    "Multigrid methods are significantly more efficient for solving large-scale Poisson equations. They use coarse grids to quickly reduce low-frequency errors and fine grids for high-frequency errors. Implementing a multigrid solver would drastically reduce the number of iterations required.\n",
    "\n",
    "---\n",
    "\n",
    "### 3. Increase Maximum Iterations for Larger Grids\n",
    "\n",
    "If using iterative methods like Jacobi or Gauss-Seidel, you may need to allow a larger number of iterations for fine grids. For instance, set max_iter to a higher value (e.g., 20000 or 50000) for $n=80$.\n",
    "\n",
    "---\n",
    "\n",
    "### 4. Relaxation (Successive Over-Relaxation, SOR)\n",
    "\n",
    "Introduce a relaxation factor $\\omega \\in(1,2)$ to accelerate convergence:\n",
    "\n",
    "$$\n",
    "u[i, j]=(1-\\omega) u[i, j]+\\omega \\cdot 0.25 \\cdot\\left(u[i+1, j]+u[i-1, j]+u[i, j+1]+u[i, j-1]-h^2 \\cdot f[i-1, j-1]\\right)\n",
    "$$\n",
    "\n",
    "\n",
    "For many problems, $\\omega \\approx 1.5$ works well.\n",
    "\n",
    "---\n",
    "\n",
    "### 5. Preconditioned Conjugate Gradient (PCG)\n",
    "\n",
    "For large-scale grids, consider switching to a conjugate gradient method with preconditioning, as it converges much faster than simple iterative schemes for symmetric positive definite systems (e.g., the Laplacian operator)."
   ]
  },
  {
   "cell_type": "code",
   "execution_count": 24,
   "metadata": {},
   "outputs": [],
   "source": [
    "def solve_poisson_2d_dirichlet_corrected_sor(n, u_exact_func, f_source_func, tol=1e-8, max_iter=20000, omega=1.5):\n",
    "    \"\"\"\n",
    "    Solves the 2D Poisson equation -Delta u = f with Dirichlet BCs\n",
    "    using a Gauss-Seidel method with successive over-relaxation (SOR).\n",
    "    \"\"\"\n",
    "    h = 1.0 / (n + 1)  # Grid spacing\n",
    "    x = np.linspace(0, 1, n + 2)  # Include boundaries\n",
    "    y = np.linspace(0, 1, n + 2)\n",
    "    X, Y = np.meshgrid(x, y)\n",
    "\n",
    "    # Initialize solution and source term\n",
    "    u = np.zeros_like(X)\n",
    "    f = f_source_func(X[1:-1, 1:-1], Y[1:-1, 1:-1])  # Interior points\n",
    "\n",
    "    # Apply Dirichlet boundary conditions\n",
    "    u = apply_dirichlet_bc(u, u_exact_func, x, y)\n",
    "\n",
    "    # Iterative solver with SOR\n",
    "    for iteration in range(max_iter):\n",
    "        u_old = u.copy()  # Store the old values for convergence check\n",
    "        for i in range(1, n + 1):  # Loop over interior points\n",
    "            for j in range(1, n + 1):\n",
    "                # Update with relaxation\n",
    "                new_value = 0.25 * (u[i + 1, j] + u[i - 1, j] + u[i, j + 1] + u[i, j - 1] - h**2 * f[i - 1, j - 1])\n",
    "                u[i, j] = (1 - omega) * u[i, j] + omega * new_value\n",
    "\n",
    "        # Check for convergence\n",
    "        diff = np.linalg.norm(u - u_old, ord=np.inf)  # Infinity norm of the difference\n",
    "        if diff < tol:  # Convergence criterion\n",
    "            print(f\"Converged in {iteration + 1} iterations with error {diff:.2e}\")\n",
    "            break\n",
    "    else:\n",
    "        print(\"Maximum iterations reached without full convergence.\")\n",
    "\n",
    "    return u\n"
   ]
  },
  {
   "cell_type": "code",
   "execution_count": 29,
   "metadata": {},
   "outputs": [
    {
     "name": "stdout",
     "output_type": "stream",
     "text": [
      "Converged in 62 iterations with error 9.41e-09\n"
     ]
    },
    {
     "data": {
      "text/plain": [
       "array([[ 0.00000000e+00,  0.00000000e+00,  0.00000000e+00,\n",
       "         0.00000000e+00,  0.00000000e+00,  0.00000000e+00,\n",
       "         0.00000000e+00,  0.00000000e+00,  0.00000000e+00,\n",
       "         0.00000000e+00,  0.00000000e+00,  0.00000000e+00],\n",
       "       [ 0.00000000e+00, -6.47423387e-03, -2.38414140e-02,\n",
       "        -4.65875830e-02, -6.74909930e-02, -7.99149588e-02,\n",
       "        -7.99149591e-02, -6.74909938e-02, -4.65875841e-02,\n",
       "        -2.38414150e-02, -6.47423461e-03,  1.19040784e-33],\n",
       "       [ 0.00000000e+00, -2.38414140e-02, -8.77961786e-02,\n",
       "        -1.71559108e-01, -2.48536063e-01, -2.94287404e-01,\n",
       "        -2.94287405e-01, -2.48536064e-01, -1.71559109e-01,\n",
       "        -8.77961803e-02, -2.38414152e-02,  4.38368527e-33],\n",
       "       [ 0.00000000e+00, -4.65875830e-02, -1.71559108e-01,\n",
       "        -3.35236997e-01, -4.85654678e-01, -5.75055599e-01,\n",
       "        -5.75055600e-01, -4.85654679e-01, -3.35236999e-01,\n",
       "        -1.71559110e-01, -4.65875845e-02,  8.56598927e-33],\n",
       "       [ 0.00000000e+00, -6.74909930e-02, -2.48536063e-01,\n",
       "        -4.85654678e-01, -7.03563354e-01, -8.33077625e-01,\n",
       "        -8.33077626e-01, -7.03563355e-01, -4.85654680e-01,\n",
       "        -2.48536065e-01, -6.74909945e-02,  1.24094679e-32],\n",
       "       [ 0.00000000e+00, -7.99149588e-02, -2.94287404e-01,\n",
       "        -5.75055599e-01, -8.33077625e-01, -9.86433312e-01,\n",
       "        -9.86433312e-01, -8.33077626e-01, -5.75055601e-01,\n",
       "        -2.94287406e-01, -7.99149602e-02,  1.46938438e-32],\n",
       "       [ 0.00000000e+00, -7.99149591e-02, -2.94287405e-01,\n",
       "        -5.75055600e-01, -8.33077626e-01, -9.86433312e-01,\n",
       "        -9.86433313e-01, -8.33077627e-01, -5.75055601e-01,\n",
       "        -2.94287406e-01, -7.99149603e-02,  1.46938438e-32],\n",
       "       [ 0.00000000e+00, -6.74909938e-02, -2.48536064e-01,\n",
       "        -4.85654679e-01, -7.03563355e-01, -8.33077626e-01,\n",
       "        -8.33077627e-01, -7.03563356e-01, -4.85654681e-01,\n",
       "        -2.48536065e-01, -6.74909947e-02,  1.24094679e-32],\n",
       "       [ 0.00000000e+00, -4.65875841e-02, -1.71559109e-01,\n",
       "        -3.35236999e-01, -4.85654680e-01, -5.75055601e-01,\n",
       "        -5.75055601e-01, -4.85654681e-01, -3.35237000e-01,\n",
       "        -1.71559110e-01, -4.65875847e-02,  8.56598927e-33],\n",
       "       [ 0.00000000e+00, -2.38414150e-02, -8.77961803e-02,\n",
       "        -1.71559110e-01, -2.48536065e-01, -2.94287406e-01,\n",
       "        -2.94287406e-01, -2.48536065e-01, -1.71559110e-01,\n",
       "        -8.77961809e-02, -2.38414154e-02,  4.38368527e-33],\n",
       "       [ 0.00000000e+00, -6.47423461e-03, -2.38414152e-02,\n",
       "        -4.65875845e-02, -6.74909945e-02, -7.99149602e-02,\n",
       "        -7.99149603e-02, -6.74909947e-02, -4.65875847e-02,\n",
       "        -2.38414154e-02, -6.47423478e-03,  1.19040784e-33],\n",
       "       [ 0.00000000e+00,  1.19040784e-33,  4.38368527e-33,\n",
       "         8.56598927e-33,  1.24094679e-32,  1.46938438e-32,\n",
       "         1.46938438e-32,  1.24094679e-32,  8.56598927e-33,\n",
       "         4.38368527e-33,  1.19040784e-33,  2.24927941e-64]])"
      ]
     },
     "execution_count": 29,
     "metadata": {},
     "output_type": "execute_result"
    }
   ],
   "source": [
    "solve_poisson_2d_dirichlet_corrected_sor(10, u_exact_corrected, f_source_corrected)\n"
   ]
  },
  {
   "cell_type": "code",
   "execution_count": null,
   "metadata": {},
   "outputs": [],
   "source": []
  }
 ],
 "metadata": {
  "kernelspec": {
   "display_name": "Python 3",
   "language": "python",
   "name": "python3"
  },
  "language_info": {
   "codemirror_mode": {
    "name": "ipython",
    "version": 3
   },
   "file_extension": ".py",
   "mimetype": "text/x-python",
   "name": "python",
   "nbconvert_exporter": "python",
   "pygments_lexer": "ipython3",
   "version": "3.10.2"
  }
 },
 "nbformat": 4,
 "nbformat_minor": 2
}
